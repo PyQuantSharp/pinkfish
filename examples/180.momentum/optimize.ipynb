{
 "cells": [
  {
   "cell_type": "markdown",
   "metadata": {},
   "source": [
    "# Momentum\n",
    "\n",
    "A stock that's going up tends to keep going up...until it doesn't.  Momentum is the theory that stocks that have recently gone up will keep going up disproportionate to their underlying value because folks are overenthusiastic about them.\n",
    "\n",
    "    On the first trading day of each week\n",
    "    1. The SPY is higher than 'lookback' months ago, buy\n",
    "    2. If the SPY is lower than 'lookback' months ago, sell your long position.\n",
    "    \n",
    "    The 'lookback' time period can be random, meaning a random lookback period is used for each new position.\n",
    "    \n",
    "    Optimize: lookback period in number of months."
   ]
  },
  {
   "cell_type": "code",
   "execution_count": 1,
   "metadata": {
    "ExecuteTime": {
     "end_time": "2020-02-17T00:14:54.849277Z",
     "start_time": "2020-02-17T00:14:53.518623Z"
    }
   },
   "outputs": [],
   "source": [
    "import pandas as pd\n",
    "import matplotlib.pyplot as plt\n",
    "import datetime\n",
    "from talib.abstract import *\n",
    "\n",
    "import pinkfish as pf\n",
    "import strategy\n",
    "\n",
    "# format price data\n",
    "pd.options.display.float_format = '{:0.2f}'.format\n",
    "\n",
    "%matplotlib inline"
   ]
  },
  {
   "cell_type": "code",
   "execution_count": 2,
   "metadata": {
    "ExecuteTime": {
     "end_time": "2020-02-17T00:14:54.865248Z",
     "start_time": "2020-02-17T00:14:54.854421Z"
    }
   },
   "outputs": [],
   "source": [
    "# Set size of inline plots\n",
    "'''note: rcParams can't be in same cell as import matplotlib\n",
    "   or %matplotlib inline\n",
    "   \n",
    "   %matplotlib notebook: will lead to interactive plots embedded within\n",
    "   the notebook, you can zoom and resize the figure\n",
    "   \n",
    "   %matplotlib inline: only draw static images in the notebook\n",
    "'''\n",
    "plt.rcParams[\"figure.figsize\"] = (10, 7)"
   ]
  },
  {
   "cell_type": "markdown",
   "metadata": {},
   "source": [
    "Some global data"
   ]
  },
  {
   "cell_type": "code",
   "execution_count": 3,
   "metadata": {
    "ExecuteTime": {
     "end_time": "2020-02-17T00:14:54.890905Z",
     "start_time": "2020-02-17T00:14:54.873854Z"
    }
   },
   "outputs": [],
   "source": [
    "#symbol = '^GSPC'\n",
    "symbol = 'SPY'\n",
    "#symbol = 'DIA'\n",
    "#symbol = 'QQQ'\n",
    "#symbol = 'IWM'\n",
    "#symbol = 'TLT'\n",
    "#symbol = 'GLD'\n",
    "#symbol = 'AAPL'\n",
    "#symbol = 'BBRY'\n",
    "#symbol = 'GDX'\n",
    "\n",
    "capital = 10000\n",
    "start = datetime.datetime(1900, 1, 1)\n",
    "#start = datetime.datetime(*pf.SP500_BEGIN)\n",
    "end = datetime.datetime.now()"
   ]
  },
  {
   "cell_type": "markdown",
   "metadata": {},
   "source": [
    "Define Optimizations"
   ]
  },
  {
   "cell_type": "code",
   "execution_count": 4,
   "metadata": {},
   "outputs": [],
   "source": [
    "# Pick one\n",
    "optimize_lookback = True\n",
    "optimize_margin   = False\n",
    "\n",
    "# Define lookback ranges\n",
    "if optimize_lookback:\n",
    "    Xs = range(3, 18+1)\n",
    "    Xs = [str(X) for X in Xs]\n",
    "\n",
    "# Define margin ranges\n",
    "elif optimize_margin:\n",
    "    Xs = range(10, 41, 2)\n",
    "    Xs = [str(X) for X in Xs]"
   ]
  },
  {
   "cell_type": "code",
   "execution_count": 5,
   "metadata": {},
   "outputs": [],
   "source": [
    "options = {\n",
    "    'use_adj' : False,\n",
    "    'use_cache' : True,\n",
    "    'lookback': None,\n",
    "    'margin': 1\n",
    "}"
   ]
  },
  {
   "cell_type": "markdown",
   "metadata": {},
   "source": [
    "Run Strategy"
   ]
  },
  {
   "cell_type": "code",
   "execution_count": 6,
   "metadata": {
    "ExecuteTime": {
     "end_time": "2020-02-17T00:15:13.211703Z",
     "start_time": "2020-02-17T00:14:54.911026Z"
    }
   },
   "outputs": [
    {
     "name": "stdout",
     "output_type": "stream",
     "text": [
      "3 4 5 6 7 8 9 10 11 12 13 14 15 16 17 18 "
     ]
    }
   ],
   "source": [
    "strategies = pd.Series(dtype=object)\n",
    "for X in Xs:\n",
    "    print(X, end=\" \")\n",
    "    if optimize_lookback:\n",
    "        options['lookback'] = int(X)\n",
    "    elif optimize_margin:\n",
    "        options['margin'] = int(X)/10\n",
    "        \n",
    "    strategies[X] = strategy.Strategy(symbol, capital, start, end, options) \n",
    "    strategies[X].run()"
   ]
  },
  {
   "cell_type": "markdown",
   "metadata": {},
   "source": [
    "Summarize results"
   ]
  },
  {
   "cell_type": "code",
   "execution_count": 7,
   "metadata": {
    "ExecuteTime": {
     "end_time": "2020-02-17T00:15:13.286091Z",
     "start_time": "2020-02-17T00:15:13.222890Z"
    },
    "scrolled": false
   },
   "outputs": [
    {
     "data": {
      "text/html": [
       "<div>\n",
       "<style scoped>\n",
       "    .dataframe tbody tr th:only-of-type {\n",
       "        vertical-align: middle;\n",
       "    }\n",
       "\n",
       "    .dataframe tbody tr th {\n",
       "        vertical-align: top;\n",
       "    }\n",
       "\n",
       "    .dataframe thead th {\n",
       "        text-align: right;\n",
       "    }\n",
       "</style>\n",
       "<table border=\"1\" class=\"dataframe\">\n",
       "  <thead>\n",
       "    <tr style=\"text-align: right;\">\n",
       "      <th></th>\n",
       "      <th>3</th>\n",
       "      <th>4</th>\n",
       "      <th>5</th>\n",
       "      <th>6</th>\n",
       "      <th>7</th>\n",
       "      <th>8</th>\n",
       "      <th>9</th>\n",
       "      <th>10</th>\n",
       "      <th>11</th>\n",
       "      <th>12</th>\n",
       "      <th>13</th>\n",
       "      <th>14</th>\n",
       "      <th>15</th>\n",
       "      <th>16</th>\n",
       "      <th>17</th>\n",
       "      <th>18</th>\n",
       "    </tr>\n",
       "  </thead>\n",
       "  <tbody>\n",
       "    <tr>\n",
       "      <th>annual_return_rate</th>\n",
       "      <td>4.41</td>\n",
       "      <td>4.71</td>\n",
       "      <td>6.50</td>\n",
       "      <td>7.55</td>\n",
       "      <td>6.11</td>\n",
       "      <td>7.28</td>\n",
       "      <td>7.68</td>\n",
       "      <td>7.38</td>\n",
       "      <td>6.89</td>\n",
       "      <td>7.36</td>\n",
       "      <td>8.18</td>\n",
       "      <td>7.80</td>\n",
       "      <td>7.79</td>\n",
       "      <td>7.80</td>\n",
       "      <td>7.17</td>\n",
       "      <td>8.47</td>\n",
       "    </tr>\n",
       "    <tr>\n",
       "      <th>max_closed_out_drawdown</th>\n",
       "      <td>-34.04</td>\n",
       "      <td>-35.55</td>\n",
       "      <td>-25.83</td>\n",
       "      <td>-26.97</td>\n",
       "      <td>-26.91</td>\n",
       "      <td>-25.69</td>\n",
       "      <td>-27.34</td>\n",
       "      <td>-27.54</td>\n",
       "      <td>-31.08</td>\n",
       "      <td>-25.07</td>\n",
       "      <td>-20.01</td>\n",
       "      <td>-31.23</td>\n",
       "      <td>-29.10</td>\n",
       "      <td>-33.28</td>\n",
       "      <td>-31.22</td>\n",
       "      <td>-34.47</td>\n",
       "    </tr>\n",
       "    <tr>\n",
       "      <th>annualized_return_over_max_drawdown</th>\n",
       "      <td>0.13</td>\n",
       "      <td>0.13</td>\n",
       "      <td>0.25</td>\n",
       "      <td>0.28</td>\n",
       "      <td>0.23</td>\n",
       "      <td>0.28</td>\n",
       "      <td>0.28</td>\n",
       "      <td>0.27</td>\n",
       "      <td>0.22</td>\n",
       "      <td>0.29</td>\n",
       "      <td>0.41</td>\n",
       "      <td>0.25</td>\n",
       "      <td>0.27</td>\n",
       "      <td>0.23</td>\n",
       "      <td>0.23</td>\n",
       "      <td>0.25</td>\n",
       "    </tr>\n",
       "    <tr>\n",
       "      <th>drawdown_recovery_period</th>\n",
       "      <td>2483.00</td>\n",
       "      <td>3742.00</td>\n",
       "      <td>2411.00</td>\n",
       "      <td>Not Recovered Yet</td>\n",
       "      <td>Not Recovered Yet</td>\n",
       "      <td>508.00</td>\n",
       "      <td>512.00</td>\n",
       "      <td>512.00</td>\n",
       "      <td>701.00</td>\n",
       "      <td>239.00</td>\n",
       "      <td>497.00</td>\n",
       "      <td>345.00</td>\n",
       "      <td>290.00</td>\n",
       "      <td>247.00</td>\n",
       "      <td>330.00</td>\n",
       "      <td>783.00</td>\n",
       "    </tr>\n",
       "    <tr>\n",
       "      <th>best_month</th>\n",
       "      <td>15.04</td>\n",
       "      <td>15.00</td>\n",
       "      <td>15.18</td>\n",
       "      <td>15.14</td>\n",
       "      <td>15.15</td>\n",
       "      <td>15.03</td>\n",
       "      <td>17.79</td>\n",
       "      <td>17.77</td>\n",
       "      <td>17.76</td>\n",
       "      <td>17.79</td>\n",
       "      <td>17.76</td>\n",
       "      <td>17.78</td>\n",
       "      <td>17.78</td>\n",
       "      <td>17.94</td>\n",
       "      <td>17.78</td>\n",
       "      <td>17.77</td>\n",
       "    </tr>\n",
       "    <tr>\n",
       "      <th>worst_month</th>\n",
       "      <td>-14.27</td>\n",
       "      <td>-18.90</td>\n",
       "      <td>-18.94</td>\n",
       "      <td>-18.91</td>\n",
       "      <td>-18.85</td>\n",
       "      <td>-18.92</td>\n",
       "      <td>-22.08</td>\n",
       "      <td>-22.07</td>\n",
       "      <td>-22.08</td>\n",
       "      <td>-18.87</td>\n",
       "      <td>-18.91</td>\n",
       "      <td>-29.08</td>\n",
       "      <td>-29.10</td>\n",
       "      <td>-29.09</td>\n",
       "      <td>-29.07</td>\n",
       "      <td>-22.04</td>\n",
       "    </tr>\n",
       "    <tr>\n",
       "      <th>sharpe_ratio</th>\n",
       "      <td>0.43</td>\n",
       "      <td>0.45</td>\n",
       "      <td>0.58</td>\n",
       "      <td>0.65</td>\n",
       "      <td>0.53</td>\n",
       "      <td>0.61</td>\n",
       "      <td>0.63</td>\n",
       "      <td>0.61</td>\n",
       "      <td>0.57</td>\n",
       "      <td>0.59</td>\n",
       "      <td>0.65</td>\n",
       "      <td>0.60</td>\n",
       "      <td>0.59</td>\n",
       "      <td>0.59</td>\n",
       "      <td>0.56</td>\n",
       "      <td>0.66</td>\n",
       "    </tr>\n",
       "    <tr>\n",
       "      <th>sortino_ratio</th>\n",
       "      <td>0.44</td>\n",
       "      <td>0.48</td>\n",
       "      <td>0.64</td>\n",
       "      <td>0.71</td>\n",
       "      <td>0.58</td>\n",
       "      <td>0.67</td>\n",
       "      <td>0.70</td>\n",
       "      <td>0.68</td>\n",
       "      <td>0.63</td>\n",
       "      <td>0.67</td>\n",
       "      <td>0.73</td>\n",
       "      <td>0.66</td>\n",
       "      <td>0.66</td>\n",
       "      <td>0.66</td>\n",
       "      <td>0.62</td>\n",
       "      <td>0.76</td>\n",
       "    </tr>\n",
       "    <tr>\n",
       "      <th>monthly_std</th>\n",
       "      <td>2.99</td>\n",
       "      <td>3.11</td>\n",
       "      <td>3.06</td>\n",
       "      <td>3.10</td>\n",
       "      <td>3.28</td>\n",
       "      <td>3.31</td>\n",
       "      <td>3.37</td>\n",
       "      <td>3.33</td>\n",
       "      <td>3.45</td>\n",
       "      <td>3.30</td>\n",
       "      <td>3.29</td>\n",
       "      <td>3.52</td>\n",
       "      <td>3.60</td>\n",
       "      <td>3.69</td>\n",
       "      <td>3.66</td>\n",
       "      <td>3.51</td>\n",
       "    </tr>\n",
       "    <tr>\n",
       "      <th>pct_time_in_market</th>\n",
       "      <td>68.95</td>\n",
       "      <td>70.22</td>\n",
       "      <td>70.59</td>\n",
       "      <td>73.16</td>\n",
       "      <td>73.41</td>\n",
       "      <td>75.77</td>\n",
       "      <td>76.36</td>\n",
       "      <td>76.60</td>\n",
       "      <td>76.72</td>\n",
       "      <td>78.02</td>\n",
       "      <td>78.36</td>\n",
       "      <td>79.04</td>\n",
       "      <td>80.11</td>\n",
       "      <td>80.41</td>\n",
       "      <td>80.51</td>\n",
       "      <td>80.52</td>\n",
       "    </tr>\n",
       "    <tr>\n",
       "      <th>total_num_trades</th>\n",
       "      <td>76.00</td>\n",
       "      <td>64.00</td>\n",
       "      <td>62.00</td>\n",
       "      <td>44</td>\n",
       "      <td>46</td>\n",
       "      <td>36.00</td>\n",
       "      <td>36.00</td>\n",
       "      <td>28.00</td>\n",
       "      <td>36.00</td>\n",
       "      <td>31.00</td>\n",
       "      <td>24.00</td>\n",
       "      <td>21.00</td>\n",
       "      <td>18.00</td>\n",
       "      <td>22.00</td>\n",
       "      <td>21.00</td>\n",
       "      <td>18.00</td>\n",
       "    </tr>\n",
       "    <tr>\n",
       "      <th>pct_profitable_trades</th>\n",
       "      <td>47.37</td>\n",
       "      <td>37.50</td>\n",
       "      <td>41.94</td>\n",
       "      <td>56.82</td>\n",
       "      <td>52.17</td>\n",
       "      <td>52.78</td>\n",
       "      <td>44.44</td>\n",
       "      <td>50.00</td>\n",
       "      <td>44.44</td>\n",
       "      <td>32.26</td>\n",
       "      <td>50.00</td>\n",
       "      <td>57.14</td>\n",
       "      <td>44.44</td>\n",
       "      <td>45.45</td>\n",
       "      <td>47.62</td>\n",
       "      <td>50.00</td>\n",
       "    </tr>\n",
       "    <tr>\n",
       "      <th>avg_points</th>\n",
       "      <td>2.59</td>\n",
       "      <td>2.89</td>\n",
       "      <td>4.03</td>\n",
       "      <td>6.06</td>\n",
       "      <td>4.71</td>\n",
       "      <td>7.71</td>\n",
       "      <td>7.77</td>\n",
       "      <td>10.03</td>\n",
       "      <td>7.73</td>\n",
       "      <td>9.06</td>\n",
       "      <td>13.69</td>\n",
       "      <td>14.20</td>\n",
       "      <td>16.82</td>\n",
       "      <td>13.99</td>\n",
       "      <td>12.97</td>\n",
       "      <td>19.60</td>\n",
       "    </tr>\n",
       "  </tbody>\n",
       "</table>\n",
       "</div>"
      ],
      "text/plain": [
       "                                          3       4       5  \\\n",
       "annual_return_rate                     4.41    4.71    6.50   \n",
       "max_closed_out_drawdown              -34.04  -35.55  -25.83   \n",
       "annualized_return_over_max_drawdown    0.13    0.13    0.25   \n",
       "drawdown_recovery_period            2483.00 3742.00 2411.00   \n",
       "best_month                            15.04   15.00   15.18   \n",
       "worst_month                          -14.27  -18.90  -18.94   \n",
       "sharpe_ratio                           0.43    0.45    0.58   \n",
       "sortino_ratio                          0.44    0.48    0.64   \n",
       "monthly_std                            2.99    3.11    3.06   \n",
       "pct_time_in_market                    68.95   70.22   70.59   \n",
       "total_num_trades                      76.00   64.00   62.00   \n",
       "pct_profitable_trades                 47.37   37.50   41.94   \n",
       "avg_points                             2.59    2.89    4.03   \n",
       "\n",
       "                                                     6                  7  \\\n",
       "annual_return_rate                                7.55               6.11   \n",
       "max_closed_out_drawdown                         -26.97             -26.91   \n",
       "annualized_return_over_max_drawdown               0.28               0.23   \n",
       "drawdown_recovery_period             Not Recovered Yet  Not Recovered Yet   \n",
       "best_month                                       15.14              15.15   \n",
       "worst_month                                     -18.91             -18.85   \n",
       "sharpe_ratio                                      0.65               0.53   \n",
       "sortino_ratio                                     0.71               0.58   \n",
       "monthly_std                                       3.10               3.28   \n",
       "pct_time_in_market                               73.16              73.41   \n",
       "total_num_trades                                    44                 46   \n",
       "pct_profitable_trades                            56.82              52.17   \n",
       "avg_points                                        6.06               4.71   \n",
       "\n",
       "                                         8      9     10     11     12     13  \\\n",
       "annual_return_rate                    7.28   7.68   7.38   6.89   7.36   8.18   \n",
       "max_closed_out_drawdown             -25.69 -27.34 -27.54 -31.08 -25.07 -20.01   \n",
       "annualized_return_over_max_drawdown   0.28   0.28   0.27   0.22   0.29   0.41   \n",
       "drawdown_recovery_period            508.00 512.00 512.00 701.00 239.00 497.00   \n",
       "best_month                           15.03  17.79  17.77  17.76  17.79  17.76   \n",
       "worst_month                         -18.92 -22.08 -22.07 -22.08 -18.87 -18.91   \n",
       "sharpe_ratio                          0.61   0.63   0.61   0.57   0.59   0.65   \n",
       "sortino_ratio                         0.67   0.70   0.68   0.63   0.67   0.73   \n",
       "monthly_std                           3.31   3.37   3.33   3.45   3.30   3.29   \n",
       "pct_time_in_market                   75.77  76.36  76.60  76.72  78.02  78.36   \n",
       "total_num_trades                     36.00  36.00  28.00  36.00  31.00  24.00   \n",
       "pct_profitable_trades                52.78  44.44  50.00  44.44  32.26  50.00   \n",
       "avg_points                            7.71   7.77  10.03   7.73   9.06  13.69   \n",
       "\n",
       "                                        14     15     16     17     18  \n",
       "annual_return_rate                    7.80   7.79   7.80   7.17   8.47  \n",
       "max_closed_out_drawdown             -31.23 -29.10 -33.28 -31.22 -34.47  \n",
       "annualized_return_over_max_drawdown   0.25   0.27   0.23   0.23   0.25  \n",
       "drawdown_recovery_period            345.00 290.00 247.00 330.00 783.00  \n",
       "best_month                           17.78  17.78  17.94  17.78  17.77  \n",
       "worst_month                         -29.08 -29.10 -29.09 -29.07 -22.04  \n",
       "sharpe_ratio                          0.60   0.59   0.59   0.56   0.66  \n",
       "sortino_ratio                         0.66   0.66   0.66   0.62   0.76  \n",
       "monthly_std                           3.52   3.60   3.69   3.66   3.51  \n",
       "pct_time_in_market                   79.04  80.11  80.41  80.51  80.52  \n",
       "total_num_trades                     21.00  18.00  22.00  21.00  18.00  \n",
       "pct_profitable_trades                57.14  44.44  45.45  47.62  50.00  \n",
       "avg_points                           14.20  16.82  13.99  12.97  19.60  "
      ]
     },
     "execution_count": 7,
     "metadata": {},
     "output_type": "execute_result"
    }
   ],
   "source": [
    "metrics = ('annual_return_rate',\n",
    "           'max_closed_out_drawdown',\n",
    "           'annualized_return_over_max_drawdown',\n",
    "           'drawdown_recovery_period',\n",
    "           'best_month',\n",
    "           'worst_month',\n",
    "           'sharpe_ratio',\n",
    "           'sortino_ratio',\n",
    "           'monthly_std',\n",
    "           'pct_time_in_market',\n",
    "           'total_num_trades',\n",
    "           'pct_profitable_trades',\n",
    "           'avg_points')\n",
    "\n",
    "df = pf.optimizer_summary(strategies, metrics)\n",
    "df"
   ]
  },
  {
   "cell_type": "markdown",
   "metadata": {},
   "source": [
    "Bar graphs"
   ]
  },
  {
   "cell_type": "code",
   "execution_count": 8,
   "metadata": {
    "ExecuteTime": {
     "end_time": "2020-02-17T00:15:14.155474Z",
     "start_time": "2020-02-17T00:15:13.291988Z"
    }
   },
   "outputs": [
    {
     "data": {
      "image/png": "[encoded data removed]",
      "text/plain": [
       "<Figure size 720x504 with 1 Axes>"
      ]
     },
     "metadata": {
      "needs_background": "light"
     },
     "output_type": "display_data"
    },
    {
     "data": {
      "image/png": "[encoded data removed]",
      "text/plain": [
       "<Figure size 720x504 with 1 Axes>"
      ]
     },
     "metadata": {
      "needs_background": "light"
     },
     "output_type": "display_data"
    },
    {
     "data": {
      "image/png": "[encoded data removed]",
      "text/plain": [
       "<Figure size 720x504 with 1 Axes>"
      ]
     },
     "metadata": {
      "needs_background": "light"
     },
     "output_type": "display_data"
    }
   ],
   "source": [
    "pf.optimizer_plot_bar_graph(df, 'annual_return_rate')\n",
    "pf.optimizer_plot_bar_graph(df, 'sharpe_ratio')\n",
    "pf.optimizer_plot_bar_graph(df, 'max_closed_out_drawdown')"
   ]
  },
  {
   "cell_type": "markdown",
   "metadata": {},
   "source": [
    "Run Benchmark"
   ]
  },
  {
   "cell_type": "code",
   "execution_count": 9,
   "metadata": {
    "ExecuteTime": {
     "end_time": "2020-02-17T00:15:14.992411Z",
     "start_time": "2020-02-17T00:15:14.162453Z"
    }
   },
   "outputs": [],
   "source": [
    "s = strategies[Xs[0]]\n",
    "benchmark = pf.Benchmark(symbol, capital, s.start, s.end, use_adj=True)\n",
    "benchmark.run()"
   ]
  },
  {
   "cell_type": "markdown",
   "metadata": {},
   "source": [
    "Equity curve"
   ]
  },
  {
   "cell_type": "code",
   "execution_count": 10,
   "metadata": {
    "ExecuteTime": {
     "end_time": "2020-02-17T00:15:15.273801Z",
     "start_time": "2020-02-17T00:15:15.002556Z"
    }
   },
   "outputs": [
    {
     "data": {
      "image/png": "[encoded data removed]",
      "text/plain": [
       "<Figure size 720x504 with 1 Axes>"
      ]
     },
     "metadata": {
      "needs_background": "light"
     },
     "output_type": "display_data"
    }
   ],
   "source": [
    "if   optimize_lookback: Y = '12'\n",
    "elif optimize_margin:   Y = '20'\n",
    "\n",
    "pf.plot_equity_curve(strategies[Y].dbal, benchmark=benchmark.dbal)"
   ]
  },
  {
   "cell_type": "code",
   "execution_count": null,
   "metadata": {},
   "outputs": [],
   "source": []
  }
 ],
 "metadata": {
  "kernelspec": {
   "display_name": "Python 3",
   "language": "python",
   "name": "python3"
  },
  "language_info": {
   "codemirror_mode": {
    "name": "ipython",
    "version": 3
   },
   "file_extension": ".py",
   "mimetype": "text/x-python",
   "name": "python",
   "nbconvert_exporter": "python",
   "pygments_lexer": "ipython3",
   "version": "3.8.5"
  },
  "latex_envs": {
   "LaTeX_envs_menu_present": true,
   "autoclose": false,
   "autocomplete": true,
   "bibliofile": "biblio.bib",
   "cite_by": "apalike",
   "current_citInitial": 1,
   "eqLabelWithNumbers": true,
   "eqNumInitial": 1,
   "hotkeys": {
    "equation": "Ctrl-E",
    "itemize": "Ctrl-I"
   },
   "labels_anchors": false,
   "latex_user_defs": false,
   "report_style_numbering": false,
   "user_envs_cfg": false
  }
 },
 "nbformat": 4,
 "nbformat_minor": 1
}
