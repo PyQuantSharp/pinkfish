{
 "cells": [
  {
   "cell_type": "markdown",
   "metadata": {},
   "source": [
    "# Momentum\n",
    "\n",
    "A stock that's going up tends to keep going up...until it doesn't.  Momentum is the theory that stocks that have recently gone up will keep going up disproportionate to their underlying value because folks are overenthusiastic about them.\n",
    "\n",
    "    On the first trading day of each week\n",
    "    1. The SPY is higher than 'lookback' months ago, buy\n",
    "    2. If the SPY is lower than 'lookback' months ago, sell your long position.\n",
    "    \n",
    "    The 'lookback' time period can be random, meaning a random lookback period is used for each new position.\n",
    "    \n",
    "    Optimize: lookback period in number of months."
   ]
  },
  {
   "cell_type": "code",
   "execution_count": 1,
   "metadata": {
    "ExecuteTime": {
     "end_time": "2020-02-17T00:14:54.849277Z",
     "start_time": "2020-02-17T00:14:53.518623Z"
    }
   },
   "outputs": [],
   "source": [
    "import pandas as pd\n",
    "import matplotlib.pyplot as plt\n",
    "import datetime\n",
    "from talib.abstract import *\n",
    "\n",
    "import pinkfish as pf\n",
    "import strategy\n",
    "\n",
    "# format price data\n",
    "pd.options.display.float_format = '{:0.2f}'.format\n",
    "\n",
    "%matplotlib inline"
   ]
  },
  {
   "cell_type": "code",
   "execution_count": 2,
   "metadata": {
    "ExecuteTime": {
     "end_time": "2020-02-17T00:14:54.865248Z",
     "start_time": "2020-02-17T00:14:54.854421Z"
    }
   },
   "outputs": [],
   "source": [
    "# Set size of inline plots\n",
    "'''note: rcParams can't be in same cell as import matplotlib\n",
    "   or %matplotlib inline\n",
    "   \n",
    "   %matplotlib notebook: will lead to interactive plots embedded within\n",
    "   the notebook, you can zoom and resize the figure\n",
    "   \n",
    "   %matplotlib inline: only draw static images in the notebook\n",
    "'''\n",
    "plt.rcParams[\"figure.figsize\"] = (10, 7)"
   ]
  },
  {
   "cell_type": "markdown",
   "metadata": {},
   "source": [
    "Some global data"
   ]
  },
  {
   "cell_type": "code",
   "execution_count": 3,
   "metadata": {
    "ExecuteTime": {
     "end_time": "2020-02-17T00:14:54.890905Z",
     "start_time": "2020-02-17T00:14:54.873854Z"
    }
   },
   "outputs": [],
   "source": [
    "#symbol = '^GSPC'\n",
    "symbol = 'SPY'\n",
    "#symbol = 'DIA'\n",
    "#symbol = 'QQQ'\n",
    "#symbol = 'IWM'\n",
    "#symbol = 'TLT'\n",
    "#symbol = 'GLD'\n",
    "#symbol = 'AAPL'\n",
    "#symbol = 'BBRY'\n",
    "#symbol = 'GDX'\n",
    "\n",
    "capital = 10000\n",
    "start = datetime.datetime(1900, 1, 1)\n",
    "#start = datetime.datetime(*pf.SP500_BEGIN)\n",
    "end = datetime.datetime.now()"
   ]
  },
  {
   "cell_type": "markdown",
   "metadata": {},
   "source": [
    "Define Optimizations"
   ]
  },
  {
   "cell_type": "code",
   "execution_count": 4,
   "metadata": {},
   "outputs": [],
   "source": [
    "# Pick one\n",
    "optimize_lookback = True\n",
    "optimize_margin   = False\n",
    "\n",
    "# Define lookback ranges\n",
    "if optimize_lookback:\n",
    "    Xs = range(3, 18+1)\n",
    "    Xs = [str(X) for X in Xs]\n",
    "\n",
    "# Define margin ranges\n",
    "elif optimize_margin:\n",
    "    Xs = range(10, 41, 2)\n",
    "    Xs = [str(X) for X in Xs]"
   ]
  },
  {
   "cell_type": "code",
   "execution_count": 5,
   "metadata": {},
   "outputs": [],
   "source": [
    "options = {\n",
    "    'use_adj' : False,\n",
    "    'use_cache' : True,\n",
    "    'lookback': None,\n",
    "    'margin': 1\n",
    "}"
   ]
  },
  {
   "cell_type": "markdown",
   "metadata": {},
   "source": [
    "Run Strategy"
   ]
  },
  {
   "cell_type": "code",
   "execution_count": 6,
   "metadata": {
    "ExecuteTime": {
     "end_time": "2020-02-17T00:15:13.211703Z",
     "start_time": "2020-02-17T00:14:54.911026Z"
    }
   },
   "outputs": [
    {
     "name": "stdout",
     "output_type": "stream",
     "text": [
      "3 4 5 6 7 8 9 10 11 12 13 14 15 16 17 18 "
     ]
    }
   ],
   "source": [
    "strategies = pd.Series(dtype=object)\n",
    "for X in Xs:\n",
    "    print(X, end=\" \")\n",
    "    if optimize_lookback:\n",
    "        options['lookback'] = int(X)\n",
    "    elif optimize_margin:\n",
    "        options['margin'] = int(X)/10\n",
    "        \n",
    "    strategies[X] = strategy.Strategy(symbol, capital, start, end, options) \n",
    "    strategies[X].run()"
   ]
  },
  {
   "cell_type": "markdown",
   "metadata": {},
   "source": [
    "Summarize results"
   ]
  },
  {
   "cell_type": "code",
   "execution_count": 7,
   "metadata": {
    "ExecuteTime": {
     "end_time": "2020-02-17T00:15:13.286091Z",
     "start_time": "2020-02-17T00:15:13.222890Z"
    },
    "scrolled": false
   },
   "outputs": [
    {
     "data": {
      "text/html": [
       "<div>\n",
       "<style scoped>\n",
       "    .dataframe tbody tr th:only-of-type {\n",
       "        vertical-align: middle;\n",
       "    }\n",
       "\n",
       "    .dataframe tbody tr th {\n",
       "        vertical-align: top;\n",
       "    }\n",
       "\n",
       "    .dataframe thead th {\n",
       "        text-align: right;\n",
       "    }\n",
       "</style>\n",
       "<table border=\"1\" class=\"dataframe\">\n",
       "  <thead>\n",
       "    <tr style=\"text-align: right;\">\n",
       "      <th></th>\n",
       "      <th>3</th>\n",
       "      <th>4</th>\n",
       "      <th>5</th>\n",
       "      <th>6</th>\n",
       "      <th>7</th>\n",
       "      <th>8</th>\n",
       "      <th>9</th>\n",
       "      <th>10</th>\n",
       "      <th>11</th>\n",
       "      <th>12</th>\n",
       "      <th>13</th>\n",
       "      <th>14</th>\n",
       "      <th>15</th>\n",
       "      <th>16</th>\n",
       "      <th>17</th>\n",
       "      <th>18</th>\n",
       "    </tr>\n",
       "  </thead>\n",
       "  <tbody>\n",
       "    <tr>\n",
       "      <th>annual_return_rate</th>\n",
       "      <td>7.43</td>\n",
       "      <td>8.15</td>\n",
       "      <td>6.57</td>\n",
       "      <td>7.40</td>\n",
       "      <td>7.04</td>\n",
       "      <td>6.90</td>\n",
       "      <td>7.68</td>\n",
       "      <td>8.36</td>\n",
       "      <td>8.05</td>\n",
       "      <td>7.97</td>\n",
       "      <td>8.07</td>\n",
       "      <td>6.94</td>\n",
       "      <td>6.78</td>\n",
       "      <td>8.55</td>\n",
       "      <td>8.45</td>\n",
       "      <td>7.13</td>\n",
       "    </tr>\n",
       "    <tr>\n",
       "      <th>max_closed_out_drawdown</th>\n",
       "      <td>-29.97</td>\n",
       "      <td>-25.30</td>\n",
       "      <td>-24.96</td>\n",
       "      <td>-28.26</td>\n",
       "      <td>-26.53</td>\n",
       "      <td>-33.31</td>\n",
       "      <td>-23.84</td>\n",
       "      <td>-29.29</td>\n",
       "      <td>-29.60</td>\n",
       "      <td>-22.25</td>\n",
       "      <td>-23.28</td>\n",
       "      <td>-27.41</td>\n",
       "      <td>-23.33</td>\n",
       "      <td>-21.95</td>\n",
       "      <td>-23.66</td>\n",
       "      <td>-27.99</td>\n",
       "    </tr>\n",
       "    <tr>\n",
       "      <th>annualized_return_over_max_drawdown</th>\n",
       "      <td>0.25</td>\n",
       "      <td>0.32</td>\n",
       "      <td>0.26</td>\n",
       "      <td>0.26</td>\n",
       "      <td>0.27</td>\n",
       "      <td>0.21</td>\n",
       "      <td>0.32</td>\n",
       "      <td>0.29</td>\n",
       "      <td>0.27</td>\n",
       "      <td>0.36</td>\n",
       "      <td>0.35</td>\n",
       "      <td>0.25</td>\n",
       "      <td>0.29</td>\n",
       "      <td>0.39</td>\n",
       "      <td>0.36</td>\n",
       "      <td>0.25</td>\n",
       "    </tr>\n",
       "    <tr>\n",
       "      <th>drawdown_recovery_period</th>\n",
       "      <td>570.00</td>\n",
       "      <td>711.00</td>\n",
       "      <td>256.00</td>\n",
       "      <td>581.00</td>\n",
       "      <td>Not Recovered Yet</td>\n",
       "      <td>1354.00</td>\n",
       "      <td>413.00</td>\n",
       "      <td>567.00</td>\n",
       "      <td>1079.00</td>\n",
       "      <td>602.00</td>\n",
       "      <td>232.00</td>\n",
       "      <td>1318.00</td>\n",
       "      <td>603.00</td>\n",
       "      <td>187.00</td>\n",
       "      <td>406.00</td>\n",
       "      <td>783.00</td>\n",
       "    </tr>\n",
       "    <tr>\n",
       "      <th>best_month</th>\n",
       "      <td>14.11</td>\n",
       "      <td>17.78</td>\n",
       "      <td>15.01</td>\n",
       "      <td>15.12</td>\n",
       "      <td>12.94</td>\n",
       "      <td>17.79</td>\n",
       "      <td>15.16</td>\n",
       "      <td>15.14</td>\n",
       "      <td>17.77</td>\n",
       "      <td>15.13</td>\n",
       "      <td>17.77</td>\n",
       "      <td>15.04</td>\n",
       "      <td>15.16</td>\n",
       "      <td>17.78</td>\n",
       "      <td>17.75</td>\n",
       "      <td>15.17</td>\n",
       "    </tr>\n",
       "    <tr>\n",
       "      <th>worst_month</th>\n",
       "      <td>-22.06</td>\n",
       "      <td>-18.91</td>\n",
       "      <td>-18.89</td>\n",
       "      <td>-18.86</td>\n",
       "      <td>-18.87</td>\n",
       "      <td>-22.08</td>\n",
       "      <td>-18.93</td>\n",
       "      <td>-22.09</td>\n",
       "      <td>-18.95</td>\n",
       "      <td>-18.88</td>\n",
       "      <td>-18.88</td>\n",
       "      <td>-22.08</td>\n",
       "      <td>-18.87</td>\n",
       "      <td>-18.94</td>\n",
       "      <td>-18.94</td>\n",
       "      <td>-18.94</td>\n",
       "    </tr>\n",
       "    <tr>\n",
       "      <th>sharpe_ratio</th>\n",
       "      <td>0.60</td>\n",
       "      <td>0.64</td>\n",
       "      <td>0.55</td>\n",
       "      <td>0.60</td>\n",
       "      <td>0.57</td>\n",
       "      <td>0.56</td>\n",
       "      <td>0.63</td>\n",
       "      <td>0.66</td>\n",
       "      <td>0.64</td>\n",
       "      <td>0.65</td>\n",
       "      <td>0.64</td>\n",
       "      <td>0.57</td>\n",
       "      <td>0.56</td>\n",
       "      <td>0.67</td>\n",
       "      <td>0.67</td>\n",
       "      <td>0.58</td>\n",
       "    </tr>\n",
       "    <tr>\n",
       "      <th>sortino_ratio</th>\n",
       "      <td>0.68</td>\n",
       "      <td>0.74</td>\n",
       "      <td>0.61</td>\n",
       "      <td>0.68</td>\n",
       "      <td>0.64</td>\n",
       "      <td>0.64</td>\n",
       "      <td>0.71</td>\n",
       "      <td>0.75</td>\n",
       "      <td>0.72</td>\n",
       "      <td>0.74</td>\n",
       "      <td>0.72</td>\n",
       "      <td>0.64</td>\n",
       "      <td>0.63</td>\n",
       "      <td>0.76</td>\n",
       "      <td>0.76</td>\n",
       "      <td>0.66</td>\n",
       "    </tr>\n",
       "    <tr>\n",
       "      <th>monthly_std</th>\n",
       "      <td>3.49</td>\n",
       "      <td>3.34</td>\n",
       "      <td>3.42</td>\n",
       "      <td>3.40</td>\n",
       "      <td>3.29</td>\n",
       "      <td>3.44</td>\n",
       "      <td>3.30</td>\n",
       "      <td>3.47</td>\n",
       "      <td>3.35</td>\n",
       "      <td>3.26</td>\n",
       "      <td>3.30</td>\n",
       "      <td>3.43</td>\n",
       "      <td>3.29</td>\n",
       "      <td>3.37</td>\n",
       "      <td>3.39</td>\n",
       "      <td>3.42</td>\n",
       "    </tr>\n",
       "    <tr>\n",
       "      <th>pct_time_in_market</th>\n",
       "      <td>79.17</td>\n",
       "      <td>79.66</td>\n",
       "      <td>78.78</td>\n",
       "      <td>78.96</td>\n",
       "      <td>78.53</td>\n",
       "      <td>79.72</td>\n",
       "      <td>77.63</td>\n",
       "      <td>79.30</td>\n",
       "      <td>78.89</td>\n",
       "      <td>77.70</td>\n",
       "      <td>78.26</td>\n",
       "      <td>78.55</td>\n",
       "      <td>77.55</td>\n",
       "      <td>79.21</td>\n",
       "      <td>79.39</td>\n",
       "      <td>79.44</td>\n",
       "    </tr>\n",
       "    <tr>\n",
       "      <th>total_num_trades</th>\n",
       "      <td>44.00</td>\n",
       "      <td>45.00</td>\n",
       "      <td>46.00</td>\n",
       "      <td>41.00</td>\n",
       "      <td>44</td>\n",
       "      <td>46.00</td>\n",
       "      <td>42.00</td>\n",
       "      <td>34.00</td>\n",
       "      <td>37.00</td>\n",
       "      <td>41.00</td>\n",
       "      <td>41.00</td>\n",
       "      <td>49.00</td>\n",
       "      <td>49.00</td>\n",
       "      <td>33.00</td>\n",
       "      <td>35.00</td>\n",
       "      <td>42.00</td>\n",
       "    </tr>\n",
       "    <tr>\n",
       "      <th>pct_profitable_trades</th>\n",
       "      <td>43.18</td>\n",
       "      <td>44.44</td>\n",
       "      <td>50.00</td>\n",
       "      <td>46.34</td>\n",
       "      <td>47.73</td>\n",
       "      <td>39.13</td>\n",
       "      <td>45.24</td>\n",
       "      <td>52.94</td>\n",
       "      <td>40.54</td>\n",
       "      <td>48.78</td>\n",
       "      <td>48.78</td>\n",
       "      <td>42.86</td>\n",
       "      <td>48.98</td>\n",
       "      <td>48.48</td>\n",
       "      <td>51.43</td>\n",
       "      <td>50.00</td>\n",
       "    </tr>\n",
       "    <tr>\n",
       "      <th>avg_points</th>\n",
       "      <td>6.58</td>\n",
       "      <td>6.49</td>\n",
       "      <td>5.12</td>\n",
       "      <td>6.74</td>\n",
       "      <td>5.62</td>\n",
       "      <td>6.09</td>\n",
       "      <td>6.84</td>\n",
       "      <td>9.59</td>\n",
       "      <td>8.20</td>\n",
       "      <td>7.35</td>\n",
       "      <td>7.34</td>\n",
       "      <td>5.47</td>\n",
       "      <td>5.25</td>\n",
       "      <td>9.98</td>\n",
       "      <td>8.69</td>\n",
       "      <td>6.49</td>\n",
       "    </tr>\n",
       "  </tbody>\n",
       "</table>\n",
       "</div>"
      ],
      "text/plain": [
       "                                         3      4      5      6  \\\n",
       "annual_return_rate                    7.43   8.15   6.57   7.40   \n",
       "max_closed_out_drawdown             -29.97 -25.30 -24.96 -28.26   \n",
       "annualized_return_over_max_drawdown   0.25   0.32   0.26   0.26   \n",
       "drawdown_recovery_period            570.00 711.00 256.00 581.00   \n",
       "best_month                           14.11  17.78  15.01  15.12   \n",
       "worst_month                         -22.06 -18.91 -18.89 -18.86   \n",
       "sharpe_ratio                          0.60   0.64   0.55   0.60   \n",
       "sortino_ratio                         0.68   0.74   0.61   0.68   \n",
       "monthly_std                           3.49   3.34   3.42   3.40   \n",
       "pct_time_in_market                   79.17  79.66  78.78  78.96   \n",
       "total_num_trades                     44.00  45.00  46.00  41.00   \n",
       "pct_profitable_trades                43.18  44.44  50.00  46.34   \n",
       "avg_points                            6.58   6.49   5.12   6.74   \n",
       "\n",
       "                                                     7       8      9     10  \\\n",
       "annual_return_rate                                7.04    6.90   7.68   8.36   \n",
       "max_closed_out_drawdown                         -26.53  -33.31 -23.84 -29.29   \n",
       "annualized_return_over_max_drawdown               0.27    0.21   0.32   0.29   \n",
       "drawdown_recovery_period             Not Recovered Yet 1354.00 413.00 567.00   \n",
       "best_month                                       12.94   17.79  15.16  15.14   \n",
       "worst_month                                     -18.87  -22.08 -18.93 -22.09   \n",
       "sharpe_ratio                                      0.57    0.56   0.63   0.66   \n",
       "sortino_ratio                                     0.64    0.64   0.71   0.75   \n",
       "monthly_std                                       3.29    3.44   3.30   3.47   \n",
       "pct_time_in_market                               78.53   79.72  77.63  79.30   \n",
       "total_num_trades                                    44   46.00  42.00  34.00   \n",
       "pct_profitable_trades                            47.73   39.13  45.24  52.94   \n",
       "avg_points                                        5.62    6.09   6.84   9.59   \n",
       "\n",
       "                                         11     12     13      14     15  \\\n",
       "annual_return_rate                     8.05   7.97   8.07    6.94   6.78   \n",
       "max_closed_out_drawdown              -29.60 -22.25 -23.28  -27.41 -23.33   \n",
       "annualized_return_over_max_drawdown    0.27   0.36   0.35    0.25   0.29   \n",
       "drawdown_recovery_period            1079.00 602.00 232.00 1318.00 603.00   \n",
       "best_month                            17.77  15.13  17.77   15.04  15.16   \n",
       "worst_month                          -18.95 -18.88 -18.88  -22.08 -18.87   \n",
       "sharpe_ratio                           0.64   0.65   0.64    0.57   0.56   \n",
       "sortino_ratio                          0.72   0.74   0.72    0.64   0.63   \n",
       "monthly_std                            3.35   3.26   3.30    3.43   3.29   \n",
       "pct_time_in_market                    78.89  77.70  78.26   78.55  77.55   \n",
       "total_num_trades                      37.00  41.00  41.00   49.00  49.00   \n",
       "pct_profitable_trades                 40.54  48.78  48.78   42.86  48.98   \n",
       "avg_points                             8.20   7.35   7.34    5.47   5.25   \n",
       "\n",
       "                                        16     17     18  \n",
       "annual_return_rate                    8.55   8.45   7.13  \n",
       "max_closed_out_drawdown             -21.95 -23.66 -27.99  \n",
       "annualized_return_over_max_drawdown   0.39   0.36   0.25  \n",
       "drawdown_recovery_period            187.00 406.00 783.00  \n",
       "best_month                           17.78  17.75  15.17  \n",
       "worst_month                         -18.94 -18.94 -18.94  \n",
       "sharpe_ratio                          0.67   0.67   0.58  \n",
       "sortino_ratio                         0.76   0.76   0.66  \n",
       "monthly_std                           3.37   3.39   3.42  \n",
       "pct_time_in_market                   79.21  79.39  79.44  \n",
       "total_num_trades                     33.00  35.00  42.00  \n",
       "pct_profitable_trades                48.48  51.43  50.00  \n",
       "avg_points                            9.98   8.69   6.49  "
      ]
     },
     "execution_count": 7,
     "metadata": {},
     "output_type": "execute_result"
    }
   ],
   "source": [
    "metrics = ('annual_return_rate',\n",
    "           'max_closed_out_drawdown',\n",
    "           'annualized_return_over_max_drawdown',\n",
    "           'drawdown_recovery_period',\n",
    "           'best_month',\n",
    "           'worst_month',\n",
    "           'sharpe_ratio',\n",
    "           'sortino_ratio',\n",
    "           'monthly_std',\n",
    "           'pct_time_in_market',\n",
    "           'total_num_trades',\n",
    "           'pct_profitable_trades',\n",
    "           'avg_points')\n",
    "\n",
    "df = strategy.summary(strategies, metrics)\n",
    "df"
   ]
  },
  {
   "cell_type": "markdown",
   "metadata": {},
   "source": [
    "Bar graphs"
   ]
  },
  {
   "cell_type": "code",
   "execution_count": 8,
   "metadata": {
    "ExecuteTime": {
     "end_time": "2020-02-17T00:15:14.155474Z",
     "start_time": "2020-02-17T00:15:13.291988Z"
    }
   },
   "outputs": [
    {
     "data": {
      "image/png": "[encoded data removed]",
      "text/plain": [
       "<Figure size 720x504 with 1 Axes>"
      ]
     },
     "metadata": {
      "needs_background": "light"
     },
     "output_type": "display_data"
    },
    {
     "data": {
      "image/png": "[encoded data removed]",
      "text/plain": [
       "<Figure size 720x504 with 1 Axes>"
      ]
     },
     "metadata": {
      "needs_background": "light"
     },
     "output_type": "display_data"
    },
    {
     "data": {
      "image/png": "[encoded data removed]",
      "text/plain": [
       "<Figure size 720x504 with 1 Axes>"
      ]
     },
     "metadata": {
      "needs_background": "light"
     },
     "output_type": "display_data"
    }
   ],
   "source": [
    "strategy.plot_bar_graph(df, 'annual_return_rate')\n",
    "strategy.plot_bar_graph(df, 'sharpe_ratio')\n",
    "strategy.plot_bar_graph(df, 'max_closed_out_drawdown')"
   ]
  },
  {
   "cell_type": "markdown",
   "metadata": {},
   "source": [
    "Run Benchmark"
   ]
  },
  {
   "cell_type": "code",
   "execution_count": 9,
   "metadata": {
    "ExecuteTime": {
     "end_time": "2020-02-17T00:15:14.992411Z",
     "start_time": "2020-02-17T00:15:14.162453Z"
    }
   },
   "outputs": [],
   "source": [
    "s = strategies[Xs[0]]\n",
    "benchmark = pf.Benchmark(symbol, capital, s.start, s.end, use_adj=True)\n",
    "benchmark.run()"
   ]
  },
  {
   "cell_type": "markdown",
   "metadata": {},
   "source": [
    "Equity curve"
   ]
  },
  {
   "cell_type": "code",
   "execution_count": 10,
   "metadata": {
    "ExecuteTime": {
     "end_time": "2020-02-17T00:15:15.273801Z",
     "start_time": "2020-02-17T00:15:15.002556Z"
    }
   },
   "outputs": [
    {
     "data": {
      "image/png": "[encoded data removed]",
      "text/plain": [
       "<Figure size 720x504 with 1 Axes>"
      ]
     },
     "metadata": {
      "needs_background": "light"
     },
     "output_type": "display_data"
    }
   ],
   "source": [
    "if   optimize_lookback: Y = '12'\n",
    "elif optimize_margin:   Y = '20'\n",
    "\n",
    "pf.plot_equity_curve(strategies[Y].dbal, benchmark=benchmark.dbal)"
   ]
  },
  {
   "cell_type": "code",
   "execution_count": null,
   "metadata": {},
   "outputs": [],
   "source": []
  }
 ],
 "metadata": {
  "kernelspec": {
   "display_name": "Python 3",
   "language": "python",
   "name": "python3"
  },
  "language_info": {
   "codemirror_mode": {
    "name": "ipython",
    "version": 3
   },
   "file_extension": ".py",
   "mimetype": "text/x-python",
   "name": "python",
   "nbconvert_exporter": "python",
   "pygments_lexer": "ipython3",
   "version": "3.8.5"
  },
  "latex_envs": {
   "LaTeX_envs_menu_present": true,
   "autoclose": false,
   "autocomplete": true,
   "bibliofile": "biblio.bib",
   "cite_by": "apalike",
   "current_citInitial": 1,
   "eqLabelWithNumbers": true,
   "eqNumInitial": 1,
   "hotkeys": {
    "equation": "Ctrl-E",
    "itemize": "Ctrl-I"
   },
   "labels_anchors": false,
   "latex_user_defs": false,
   "report_style_numbering": false,
   "user_envs_cfg": false
  }
 },
 "nbformat": 4,
 "nbformat_minor": 1
}
