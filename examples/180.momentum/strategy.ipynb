{
 "cells": [
  {
   "cell_type": "markdown",
   "metadata": {},
   "source": [
    "# Momentum\n",
    "\n",
    "A stock that's going up tends to keep going up...until it doesn't.  Momentum is the theory that stocks that have recently gone up will keep going up disproportionate to their underlying value because folks are overenthusiastic about them.\n",
    "\n",
    "    On the first trading day of each week\n",
    "    1. The SPY is higher than 'lookback' months ago, buy\n",
    "    2. If the SPY is lower than 'lookback' months ago, sell your long position.\n",
    "    \n",
    "    The 'lookback' time period can be random, meaning a random lookback period is used for each new position."
   ]
  },
  {
   "cell_type": "code",
   "execution_count": 1,
   "metadata": {
    "ExecuteTime": {
     "end_time": "2020-02-17T00:14:27.299895Z",
     "start_time": "2020-02-17T00:14:26.067231Z"
    }
   },
   "outputs": [],
   "source": [
    "import pandas as pd\n",
    "import matplotlib.pyplot as plt\n",
    "import datetime\n",
    "from talib.abstract import *\n",
    "\n",
    "import pinkfish as pf\n",
    "import strategy\n",
    "\n",
    "# format price data\n",
    "pd.options.display.float_format = '{:0.2f}'.format\n",
    "\n",
    "%matplotlib inline"
   ]
  },
  {
   "cell_type": "code",
   "execution_count": 2,
   "metadata": {
    "ExecuteTime": {
     "end_time": "2020-02-17T00:14:27.322100Z",
     "start_time": "2020-02-17T00:14:27.309830Z"
    }
   },
   "outputs": [],
   "source": [
    "# set size of inline plots\n",
    "'''note: rcParams can't be in same cell as import matplotlib\n",
    "   or %matplotlib inline\n",
    "   \n",
    "   %matplotlib notebook: will lead to interactive plots embedded within\n",
    "   the notebook, you can zoom and resize the figure\n",
    "   \n",
    "   %matplotlib inline: only draw static images in the notebook\n",
    "'''\n",
    "plt.rcParams[\"figure.figsize\"] = (10, 7)"
   ]
  },
  {
   "cell_type": "markdown",
   "metadata": {},
   "source": [
    "Some global data"
   ]
  },
  {
   "cell_type": "code",
   "execution_count": 3,
   "metadata": {
    "ExecuteTime": {
     "end_time": "2020-02-17T00:14:27.335835Z",
     "start_time": "2020-02-17T00:14:27.326955Z"
    }
   },
   "outputs": [],
   "source": [
    "#symbol = '^GSPC'\n",
    "symbol = 'SPY'\n",
    "#symbol = 'DIA'\n",
    "#symbol = 'QQQ'\n",
    "#symbol = 'IWM'\n",
    "#symbol = 'TLT'\n",
    "#symbol = 'GLD'\n",
    "#symbol = 'AAPL'\n",
    "#symbol = 'BBRY'\n",
    "#symbol = 'GDX'\n",
    "#symbol = 'OIH'\n",
    "\n",
    "capital = 10000\n",
    "start = datetime.datetime(1900, 1, 1)\n",
    "#start = datetime.datetime(*pf.SP500_BEGIN)\n",
    "end = datetime.datetime.now()"
   ]
  },
  {
   "cell_type": "code",
   "execution_count": 4,
   "metadata": {},
   "outputs": [],
   "source": [
    "options = {\n",
    "    'use_adj' : True,\n",
    "    'use_cache' : True,\n",
    "    'lookback': None,\n",
    "    'margin': 1\n",
    "}"
   ]
  },
  {
   "cell_type": "markdown",
   "metadata": {},
   "source": [
    "Run Strategy"
   ]
  },
  {
   "cell_type": "code",
   "execution_count": 5,
   "metadata": {
    "ExecuteTime": {
     "end_time": "2020-02-17T00:14:28.044983Z",
     "start_time": "2020-02-17T00:14:27.356050Z"
    },
    "scrolled": false
   },
   "outputs": [],
   "source": [
    "s = strategy.Strategy(symbol, capital, start, end, options)\n",
    "s.run()"
   ]
  },
  {
   "cell_type": "markdown",
   "metadata": {},
   "source": [
    "View logs"
   ]
  },
  {
   "cell_type": "code",
   "execution_count": 6,
   "metadata": {
    "ExecuteTime": {
     "end_time": "2020-02-17T00:14:28.757298Z",
     "start_time": "2020-02-17T00:14:28.710499Z"
    }
   },
   "outputs": [
    {
     "data": {
      "text/html": [
       "<div>\n",
       "<style scoped>\n",
       "    .dataframe tbody tr th:only-of-type {\n",
       "        vertical-align: middle;\n",
       "    }\n",
       "\n",
       "    .dataframe tbody tr th {\n",
       "        vertical-align: top;\n",
       "    }\n",
       "\n",
       "    .dataframe thead th {\n",
       "        text-align: right;\n",
       "    }\n",
       "</style>\n",
       "<table border=\"1\" class=\"dataframe\">\n",
       "  <thead>\n",
       "    <tr style=\"text-align: right;\">\n",
       "      <th></th>\n",
       "      <th>entry_date</th>\n",
       "      <th>entry_price</th>\n",
       "      <th>exit_date</th>\n",
       "      <th>exit_price</th>\n",
       "      <th>pl_points</th>\n",
       "      <th>pl_cash</th>\n",
       "      <th>qty</th>\n",
       "      <th>cumul_total</th>\n",
       "      <th>direction</th>\n",
       "      <th>symbol</th>\n",
       "    </tr>\n",
       "  </thead>\n",
       "  <tbody>\n",
       "    <tr>\n",
       "      <th>18</th>\n",
       "      <td>2011-10-10</td>\n",
       "      <td>99.10</td>\n",
       "      <td>2011-11-21</td>\n",
       "      <td>99.16</td>\n",
       "      <td>0.07</td>\n",
       "      <td>35.27</td>\n",
       "      <td>532</td>\n",
       "      <td>42786.50</td>\n",
       "      <td>LONG</td>\n",
       "      <td>SPY</td>\n",
       "    </tr>\n",
       "    <tr>\n",
       "      <th>19</th>\n",
       "      <td>2012-01-03</td>\n",
       "      <td>106.33</td>\n",
       "      <td>2012-01-23</td>\n",
       "      <td>109.76</td>\n",
       "      <td>3.43</td>\n",
       "      <td>1700.11</td>\n",
       "      <td>496</td>\n",
       "      <td>44486.60</td>\n",
       "      <td>LONG</td>\n",
       "      <td>SPY</td>\n",
       "    </tr>\n",
       "    <tr>\n",
       "      <th>20</th>\n",
       "      <td>2012-01-30</td>\n",
       "      <td>109.56</td>\n",
       "      <td>2015-08-24</td>\n",
       "      <td>169.60</td>\n",
       "      <td>60.04</td>\n",
       "      <td>29838.32</td>\n",
       "      <td>497</td>\n",
       "      <td>74324.93</td>\n",
       "      <td>LONG</td>\n",
       "      <td>SPY</td>\n",
       "    </tr>\n",
       "    <tr>\n",
       "      <th>21</th>\n",
       "      <td>2015-09-14</td>\n",
       "      <td>175.42</td>\n",
       "      <td>2015-12-21</td>\n",
       "      <td>182.51</td>\n",
       "      <td>7.08</td>\n",
       "      <td>3400.11</td>\n",
       "      <td>480</td>\n",
       "      <td>77725.04</td>\n",
       "      <td>LONG</td>\n",
       "      <td>SPY</td>\n",
       "    </tr>\n",
       "    <tr>\n",
       "      <th>22</th>\n",
       "      <td>2015-12-28</td>\n",
       "      <td>185.71</td>\n",
       "      <td>2016-01-04</td>\n",
       "      <td>181.92</td>\n",
       "      <td>-3.79</td>\n",
       "      <td>-1789.77</td>\n",
       "      <td>472</td>\n",
       "      <td>75935.27</td>\n",
       "      <td>LONG</td>\n",
       "      <td>SPY</td>\n",
       "    </tr>\n",
       "    <tr>\n",
       "      <th>23</th>\n",
       "      <td>2016-03-21</td>\n",
       "      <td>186.18</td>\n",
       "      <td>2016-03-28</td>\n",
       "      <td>184.88</td>\n",
       "      <td>-1.30</td>\n",
       "      <td>-599.68</td>\n",
       "      <td>461</td>\n",
       "      <td>75335.59</td>\n",
       "      <td>LONG</td>\n",
       "      <td>SPY</td>\n",
       "    </tr>\n",
       "    <tr>\n",
       "      <th>24</th>\n",
       "      <td>2016-04-04</td>\n",
       "      <td>187.61</td>\n",
       "      <td>2016-06-27</td>\n",
       "      <td>182.51</td>\n",
       "      <td>-5.10</td>\n",
       "      <td>-2317.62</td>\n",
       "      <td>454</td>\n",
       "      <td>73017.97</td>\n",
       "      <td>LONG</td>\n",
       "      <td>SPY</td>\n",
       "    </tr>\n",
       "    <tr>\n",
       "      <th>25</th>\n",
       "      <td>2016-07-05</td>\n",
       "      <td>190.56</td>\n",
       "      <td>2018-12-10</td>\n",
       "      <td>252.11</td>\n",
       "      <td>61.54</td>\n",
       "      <td>26771.86</td>\n",
       "      <td>435</td>\n",
       "      <td>99789.83</td>\n",
       "      <td>LONG</td>\n",
       "      <td>SPY</td>\n",
       "    </tr>\n",
       "    <tr>\n",
       "      <th>26</th>\n",
       "      <td>2019-02-11</td>\n",
       "      <td>259.87</td>\n",
       "      <td>2020-03-09</td>\n",
       "      <td>268.32</td>\n",
       "      <td>8.45</td>\n",
       "      <td>3567.22</td>\n",
       "      <td>422</td>\n",
       "      <td>103357.05</td>\n",
       "      <td>LONG</td>\n",
       "      <td>SPY</td>\n",
       "    </tr>\n",
       "    <tr>\n",
       "      <th>27</th>\n",
       "      <td>2020-05-26</td>\n",
       "      <td>294.36</td>\n",
       "      <td>2021-04-09</td>\n",
       "      <td>411.49</td>\n",
       "      <td>117.13</td>\n",
       "      <td>45095.26</td>\n",
       "      <td>385</td>\n",
       "      <td>148452.31</td>\n",
       "      <td>LONG</td>\n",
       "      <td>SPY</td>\n",
       "    </tr>\n",
       "  </tbody>\n",
       "</table>\n",
       "</div>"
      ],
      "text/plain": [
       "   entry_date  entry_price  exit_date  exit_price  pl_points  pl_cash  qty  \\\n",
       "18 2011-10-10        99.10 2011-11-21       99.16       0.07    35.27  532   \n",
       "19 2012-01-03       106.33 2012-01-23      109.76       3.43  1700.11  496   \n",
       "20 2012-01-30       109.56 2015-08-24      169.60      60.04 29838.32  497   \n",
       "21 2015-09-14       175.42 2015-12-21      182.51       7.08  3400.11  480   \n",
       "22 2015-12-28       185.71 2016-01-04      181.92      -3.79 -1789.77  472   \n",
       "23 2016-03-21       186.18 2016-03-28      184.88      -1.30  -599.68  461   \n",
       "24 2016-04-04       187.61 2016-06-27      182.51      -5.10 -2317.62  454   \n",
       "25 2016-07-05       190.56 2018-12-10      252.11      61.54 26771.86  435   \n",
       "26 2019-02-11       259.87 2020-03-09      268.32       8.45  3567.22  422   \n",
       "27 2020-05-26       294.36 2021-04-09      411.49     117.13 45095.26  385   \n",
       "\n",
       "    cumul_total direction symbol  \n",
       "18     42786.50      LONG    SPY  \n",
       "19     44486.60      LONG    SPY  \n",
       "20     74324.93      LONG    SPY  \n",
       "21     77725.04      LONG    SPY  \n",
       "22     75935.27      LONG    SPY  \n",
       "23     75335.59      LONG    SPY  \n",
       "24     73017.97      LONG    SPY  \n",
       "25     99789.83      LONG    SPY  \n",
       "26    103357.05      LONG    SPY  \n",
       "27    148452.31      LONG    SPY  "
      ]
     },
     "execution_count": 6,
     "metadata": {},
     "output_type": "execute_result"
    }
   ],
   "source": [
    "s.tlog.tail(10)"
   ]
  },
  {
   "cell_type": "code",
   "execution_count": 7,
   "metadata": {
    "ExecuteTime": {
     "end_time": "2020-02-17T00:14:28.794294Z",
     "start_time": "2020-02-17T00:14:28.762784Z"
    }
   },
   "outputs": [
    {
     "data": {
      "text/html": [
       "<div>\n",
       "<style scoped>\n",
       "    .dataframe tbody tr th:only-of-type {\n",
       "        vertical-align: middle;\n",
       "    }\n",
       "\n",
       "    .dataframe tbody tr th {\n",
       "        vertical-align: top;\n",
       "    }\n",
       "\n",
       "    .dataframe thead th {\n",
       "        text-align: right;\n",
       "    }\n",
       "</style>\n",
       "<table border=\"1\" class=\"dataframe\">\n",
       "  <thead>\n",
       "    <tr style=\"text-align: right;\">\n",
       "      <th></th>\n",
       "      <th>high</th>\n",
       "      <th>low</th>\n",
       "      <th>close</th>\n",
       "      <th>shares</th>\n",
       "      <th>cash</th>\n",
       "      <th>leverage</th>\n",
       "      <th>state</th>\n",
       "    </tr>\n",
       "    <tr>\n",
       "      <th>date</th>\n",
       "      <th></th>\n",
       "      <th></th>\n",
       "      <th></th>\n",
       "      <th></th>\n",
       "      <th></th>\n",
       "      <th></th>\n",
       "      <th></th>\n",
       "    </tr>\n",
       "  </thead>\n",
       "  <tbody>\n",
       "    <tr>\n",
       "      <th>2021-04-05</th>\n",
       "      <td>156700.57</td>\n",
       "      <td>155329.97</td>\n",
       "      <td>156477.26</td>\n",
       "      <td>385</td>\n",
       "      <td>28.67</td>\n",
       "      <td>1.00</td>\n",
       "      <td>-</td>\n",
       "    </tr>\n",
       "    <tr>\n",
       "      <th>2021-04-06</th>\n",
       "      <td>156816.06</td>\n",
       "      <td>156107.67</td>\n",
       "      <td>156384.87</td>\n",
       "      <td>385</td>\n",
       "      <td>28.67</td>\n",
       "      <td>1.00</td>\n",
       "      <td>-</td>\n",
       "    </tr>\n",
       "    <tr>\n",
       "      <th>2021-04-07</th>\n",
       "      <td>156708.26</td>\n",
       "      <td>156126.92</td>\n",
       "      <td>156565.82</td>\n",
       "      <td>385</td>\n",
       "      <td>28.67</td>\n",
       "      <td>1.00</td>\n",
       "      <td>-</td>\n",
       "    </tr>\n",
       "    <tr>\n",
       "      <th>2021-04-08</th>\n",
       "      <td>157331.96</td>\n",
       "      <td>156696.71</td>\n",
       "      <td>157308.86</td>\n",
       "      <td>385</td>\n",
       "      <td>28.67</td>\n",
       "      <td>1.00</td>\n",
       "      <td>-</td>\n",
       "    </tr>\n",
       "    <tr>\n",
       "      <th>2021-04-09</th>\n",
       "      <td>158452.31</td>\n",
       "      <td>158452.31</td>\n",
       "      <td>158452.31</td>\n",
       "      <td>0</td>\n",
       "      <td>158452.31</td>\n",
       "      <td>1.00</td>\n",
       "      <td>X</td>\n",
       "    </tr>\n",
       "  </tbody>\n",
       "</table>\n",
       "</div>"
      ],
      "text/plain": [
       "                high       low     close  shares      cash  leverage state\n",
       "date                                                                      \n",
       "2021-04-05 156700.57 155329.97 156477.26     385     28.67      1.00     -\n",
       "2021-04-06 156816.06 156107.67 156384.87     385     28.67      1.00     -\n",
       "2021-04-07 156708.26 156126.92 156565.82     385     28.67      1.00     -\n",
       "2021-04-08 157331.96 156696.71 157308.86     385     28.67      1.00     -\n",
       "2021-04-09 158452.31 158452.31 158452.31       0 158452.31      1.00     X"
      ]
     },
     "execution_count": 7,
     "metadata": {},
     "output_type": "execute_result"
    }
   ],
   "source": [
    "s.dbal.tail()"
   ]
  },
  {
   "cell_type": "markdown",
   "metadata": {},
   "source": [
    "Generate strategy stats - display all available stats"
   ]
  },
  {
   "cell_type": "code",
   "execution_count": 8,
   "metadata": {
    "ExecuteTime": {
     "end_time": "2020-02-17T00:14:28.850320Z",
     "start_time": "2020-02-17T00:14:28.798407Z"
    }
   },
   "outputs": [
    {
     "name": "stdout",
     "output_type": "stream",
     "text": [
      "start                                                  1994-07-05\n",
      "end                                                    2021-04-09\n",
      "beginning_balance                                           10000\n",
      "ending_balance                                          158452.31\n",
      "total_net_profit                                        148452.31\n",
      "gross_profit                                            163100.56\n",
      "gross_loss                                              -14648.25\n",
      "profit_factor                                               11.13\n",
      "return_on_initial_capital                                 1484.52\n",
      "annual_return_rate                                          10.88\n",
      "trading_period                           26 years 9 months 4 days\n",
      "pct_time_in_market                                          82.66\n",
      "margin                                                          1\n",
      "avg_leverage                                                 1.00\n",
      "max_leverage                                                 1.00\n",
      "min_leverage                                                 1.00\n",
      "total_num_trades                                               28\n",
      "trades_per_year                                              1.05\n",
      "num_winning_trades                                             17\n",
      "num_losing_trades                                              11\n",
      "num_even_trades                                                 0\n",
      "pct_profitable_trades                                       60.71\n",
      "avg_profit_per_trade                                      5301.87\n",
      "avg_profit_per_winning_trade                              9594.15\n",
      "avg_loss_per_losing_trade                                -1331.66\n",
      "ratio_avg_profit_win_loss                                    7.20\n",
      "largest_profit_winning_trade                             45095.26\n",
      "largest_loss_losing_trade                                -3560.61\n",
      "num_winning_points                                         383.15\n",
      "num_losing_points                                          -34.72\n",
      "total_net_points                                           348.43\n",
      "avg_points                                                  12.44\n",
      "largest_points_winning_trade                               117.13\n",
      "largest_points_losing_trade                                 -8.07\n",
      "avg_pct_gain_per_trade                                      12.73\n",
      "largest_pct_winning_trade                                  125.85\n",
      "largest_pct_losing_trade                                    -7.47\n",
      "expected_shortfall                                              0\n",
      "max_consecutive_winning_trades                                  5\n",
      "max_consecutive_losing_trades                                   4\n",
      "avg_bars_winning_trades                                    320.06\n",
      "avg_bars_losing_trades                                      14.27\n",
      "max_closed_out_drawdown                                    -23.77\n",
      "max_closed_out_drawdown_peak_date                      1998-07-17\n",
      "max_closed_out_drawdown_trough_date                    1998-10-08\n",
      "max_closed_out_drawdown_recovery_date                  1999-01-06\n",
      "drawdown_loss_period                                           83\n",
      "drawdown_recovery_period                                       90\n",
      "annualized_return_over_max_drawdown                          0.46\n",
      "max_intra_day_drawdown                                     -27.63\n",
      "avg_yearly_closed_out_drawdown                              -9.81\n",
      "max_yearly_closed_out_drawdown                             -23.77\n",
      "avg_monthly_closed_out_drawdown                             -2.84\n",
      "max_monthly_closed_out_drawdown                            -18.93\n",
      "avg_weekly_closed_out_drawdown                              -1.13\n",
      "max_weekly_closed_out_drawdown                             -12.83\n",
      "avg_yearly_closed_out_runup                                 20.43\n",
      "max_yearly_closed_out_runup                                 55.60\n",
      "avg_monthly_closed_out_runup                                 3.65\n",
      "max_monthly_closed_out_runup                                17.75\n",
      "avg_weekly_closed_out_runup                                  1.35\n",
      "max_weekly_closed_out_runup                                  9.68\n",
      "pct_profitable_years                                        75.35\n",
      "best_year                                                   53.23\n",
      "worst_year                                                 -18.84\n",
      "avg_year                                                    11.03\n",
      "annual_std                                                  13.51\n",
      "pct_profitable_months                                       57.89\n",
      "best_month                                                  17.75\n",
      "worst_month                                                -18.93\n",
      "avg_month                                                    0.88\n",
      "monthly_std                                                  3.50\n",
      "pct_profitable_weeks                                        50.47\n",
      "best_week                                                    9.68\n",
      "worst_week                                                 -12.83\n",
      "avg_week                                                     0.22\n",
      "weekly_std                                                   1.87\n",
      "pct_profitable_days                                         45.27\n",
      "best_day                                                     5.80\n",
      "worst_day                                                   -7.80\n",
      "avg_day                                                      0.04\n",
      "daily_std                                                    0.87\n",
      "sharpe_ratio                                                 0.81\n",
      "sharpe_ratio_max                                             0.86\n",
      "sharpe_ratio_min                                             0.77\n",
      "sortino_ratio                                                0.94\n",
      "dtype: object\n"
     ]
    }
   ],
   "source": [
    "pf.print_full(s.stats)"
   ]
  },
  {
   "cell_type": "markdown",
   "metadata": {},
   "source": [
    "Equity curve"
   ]
  },
  {
   "cell_type": "markdown",
   "metadata": {},
   "source": [
    "Run Benchmark, Retrieve benchmark logs, and Generate benchmark stats"
   ]
  },
  {
   "cell_type": "code",
   "execution_count": 9,
   "metadata": {
    "ExecuteTime": {
     "end_time": "2020-02-17T00:14:29.548178Z",
     "start_time": "2020-02-17T00:14:28.860188Z"
    }
   },
   "outputs": [],
   "source": [
    "benchmark = pf.Benchmark(symbol, s.capital, s.start, s.end, use_adj=True)\n",
    "benchmark.run()"
   ]
  },
  {
   "cell_type": "markdown",
   "metadata": {},
   "source": [
    "Plot Equity Curves: Strategy vs Benchmark"
   ]
  },
  {
   "cell_type": "code",
   "execution_count": 10,
   "metadata": {
    "ExecuteTime": {
     "end_time": "2020-02-17T00:14:29.867093Z",
     "start_time": "2020-02-17T00:14:29.559972Z"
    },
    "scrolled": false
   },
   "outputs": [
    {
     "data": {
      "image/png": "[encoded data removed]",
      "text/plain": [
       "<Figure size 720x504 with 1 Axes>"
      ]
     },
     "metadata": {
      "needs_background": "light"
     },
     "output_type": "display_data"
    }
   ],
   "source": [
    "pf.plot_equity_curve(s.dbal, benchmark=benchmark.dbal)"
   ]
  },
  {
   "cell_type": "markdown",
   "metadata": {},
   "source": [
    "Plot Trades"
   ]
  },
  {
   "cell_type": "code",
   "execution_count": 11,
   "metadata": {
    "ExecuteTime": {
     "end_time": "2020-02-17T00:14:30.167037Z",
     "start_time": "2020-02-17T00:14:29.871073Z"
    }
   },
   "outputs": [
    {
     "data": {
      "image/png": "[encoded data removed]",
      "text/plain": [
       "<Figure size 720x504 with 1 Axes>"
      ]
     },
     "metadata": {
      "needs_background": "light"
     },
     "output_type": "display_data"
    }
   ],
   "source": [
    "pf.plot_trades(s.dbal, benchmark=benchmark.dbal)"
   ]
  },
  {
   "cell_type": "markdown",
   "metadata": {},
   "source": [
    "Bar Graph: Strategy vs Benchmark"
   ]
  },
  {
   "cell_type": "code",
   "execution_count": 12,
   "metadata": {
    "ExecuteTime": {
     "end_time": "2020-02-17T00:14:30.539134Z",
     "start_time": "2020-02-17T00:14:30.175300Z"
    }
   },
   "outputs": [
    {
     "data": {
      "text/html": [
       "<div>\n",
       "<style scoped>\n",
       "    .dataframe tbody tr th:only-of-type {\n",
       "        vertical-align: middle;\n",
       "    }\n",
       "\n",
       "    .dataframe tbody tr th {\n",
       "        vertical-align: top;\n",
       "    }\n",
       "\n",
       "    .dataframe thead th {\n",
       "        text-align: right;\n",
       "    }\n",
       "</style>\n",
       "<table border=\"1\" class=\"dataframe\">\n",
       "  <thead>\n",
       "    <tr style=\"text-align: right;\">\n",
       "      <th></th>\n",
       "      <th>strategy</th>\n",
       "      <th>benchmark</th>\n",
       "    </tr>\n",
       "  </thead>\n",
       "  <tbody>\n",
       "    <tr>\n",
       "      <th>annual_return_rate</th>\n",
       "      <td>10.88</td>\n",
       "      <td>10.65</td>\n",
       "    </tr>\n",
       "    <tr>\n",
       "      <th>max_closed_out_drawdown</th>\n",
       "      <td>-23.77</td>\n",
       "      <td>-55.19</td>\n",
       "    </tr>\n",
       "    <tr>\n",
       "      <th>annualized_return_over_max_drawdown</th>\n",
       "      <td>0.46</td>\n",
       "      <td>0.19</td>\n",
       "    </tr>\n",
       "    <tr>\n",
       "      <th>best_month</th>\n",
       "      <td>17.75</td>\n",
       "      <td>23.62</td>\n",
       "    </tr>\n",
       "    <tr>\n",
       "      <th>worst_month</th>\n",
       "      <td>-18.93</td>\n",
       "      <td>-30.99</td>\n",
       "    </tr>\n",
       "    <tr>\n",
       "      <th>sharpe_ratio</th>\n",
       "      <td>0.81</td>\n",
       "      <td>0.62</td>\n",
       "    </tr>\n",
       "    <tr>\n",
       "      <th>sortino_ratio</th>\n",
       "      <td>0.94</td>\n",
       "      <td>0.79</td>\n",
       "    </tr>\n",
       "    <tr>\n",
       "      <th>monthly_std</th>\n",
       "      <td>3.50</td>\n",
       "      <td>4.56</td>\n",
       "    </tr>\n",
       "    <tr>\n",
       "      <th>annual_std</th>\n",
       "      <td>13.51</td>\n",
       "      <td>17.15</td>\n",
       "    </tr>\n",
       "  </tbody>\n",
       "</table>\n",
       "</div>"
      ],
      "text/plain": [
       "                                     strategy  benchmark\n",
       "annual_return_rate                      10.88      10.65\n",
       "max_closed_out_drawdown                -23.77     -55.19\n",
       "annualized_return_over_max_drawdown      0.46       0.19\n",
       "best_month                              17.75      23.62\n",
       "worst_month                            -18.93     -30.99\n",
       "sharpe_ratio                             0.81       0.62\n",
       "sortino_ratio                            0.94       0.79\n",
       "monthly_std                              3.50       4.56\n",
       "annual_std                              13.51      17.15"
      ]
     },
     "execution_count": 12,
     "metadata": {},
     "output_type": "execute_result"
    },
    {
     "data": {
      "image/png": "[encoded data removed]",
      "text/plain": [
       "<Figure size 720x504 with 1 Axes>"
      ]
     },
     "metadata": {
      "needs_background": "light"
     },
     "output_type": "display_data"
    }
   ],
   "source": [
    "df = pf.plot_bar_graph(s.stats, benchmark.stats)\n",
    "df"
   ]
  },
  {
   "cell_type": "code",
   "execution_count": null,
   "metadata": {},
   "outputs": [],
   "source": []
  }
 ],
 "metadata": {
  "kernelspec": {
   "display_name": "Python 3",
   "language": "python",
   "name": "python3"
  },
  "language_info": {
   "codemirror_mode": {
    "name": "ipython",
    "version": 3
   },
   "file_extension": ".py",
   "mimetype": "text/x-python",
   "name": "python",
   "nbconvert_exporter": "python",
   "pygments_lexer": "ipython3",
   "version": "3.8.5"
  },
  "latex_envs": {
   "LaTeX_envs_menu_present": true,
   "autoclose": false,
   "autocomplete": true,
   "bibliofile": "biblio.bib",
   "cite_by": "apalike",
   "current_citInitial": 1,
   "eqLabelWithNumbers": true,
   "eqNumInitial": 1,
   "hotkeys": {
    "equation": "Ctrl-E",
    "itemize": "Ctrl-I"
   },
   "labels_anchors": false,
   "latex_user_defs": false,
   "report_style_numbering": false,
   "user_envs_cfg": false
  }
 },
 "nbformat": 4,
 "nbformat_minor": 1
}
