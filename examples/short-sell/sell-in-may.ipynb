{
 "cells": [
  {
   "cell_type": "markdown",
   "metadata": {},
   "source": [
    "# sell-short-in-may-and-go-away\n",
    "\n",
    "see: https://en.wikipedia.org/wiki/Sell_in_May\n",
    "\n",
    "algo  - Sell short in May and go away, buy to cover in Nov  \n",
    "algo2 - first trading day of the month, adjust position to 50%  \n",
    "(select the one you want to call in the Strategy.run() function"
   ]
  },
  {
   "cell_type": "code",
   "execution_count": 1,
   "metadata": {
    "ExecuteTime": {
     "end_time": "2020-02-17T03:41:59.416311Z",
     "start_time": "2020-02-17T03:41:58.377375Z"
    }
   },
   "outputs": [],
   "source": [
    "import pandas as pd\n",
    "import matplotlib.pyplot as plt\n",
    "import datetime\n",
    "from talib.abstract import *\n",
    "\n",
    "import pinkfish as pf\n",
    "\n",
    "# format price data\n",
    "pd.options.display.float_format = '{:0.2f}'.format\n",
    "\n",
    "%matplotlib inline"
   ]
  },
  {
   "cell_type": "code",
   "execution_count": 2,
   "metadata": {
    "ExecuteTime": {
     "end_time": "2020-02-17T03:41:59.432971Z",
     "start_time": "2020-02-17T03:41:59.426278Z"
    }
   },
   "outputs": [],
   "source": [
    "# set size of inline plots\n",
    "'''note: rcParams can't be in same cell as import matplotlib\n",
    "   or %matplotlib inline\n",
    "   \n",
    "   %matplotlib notebook: will lead to interactive plots embedded within\n",
    "   the notebook, you can zoom and resize the figure\n",
    "   \n",
    "   %matplotlib inline: only draw static images in the notebook\n",
    "'''\n",
    "plt.rcParams[\"figure.figsize\"] = (10, 7)"
   ]
  },
  {
   "cell_type": "code",
   "execution_count": 3,
   "metadata": {
    "ExecuteTime": {
     "end_time": "2020-02-17T03:41:59.444369Z",
     "start_time": "2020-02-17T03:41:59.437040Z"
    }
   },
   "outputs": [],
   "source": [
    "pf.DEBUG = False"
   ]
  },
  {
   "cell_type": "markdown",
   "metadata": {},
   "source": [
    "Some global data"
   ]
  },
  {
   "cell_type": "code",
   "execution_count": 4,
   "metadata": {
    "ExecuteTime": {
     "end_time": "2020-02-17T03:41:59.454422Z",
     "start_time": "2020-02-17T03:41:59.447859Z"
    }
   },
   "outputs": [],
   "source": [
    "#symbol = '^GSPC'\n",
    "symbol = 'SPY'\n",
    "capital = 10000\n",
    "start = datetime.datetime(2015, 10, 30)\n",
    "#start = datetime.datetime.strptime(pf.SP500_BEGIN, '%Y-%m-%d')\n",
    "end = datetime.datetime.now()"
   ]
  },
  {
   "cell_type": "markdown",
   "metadata": {},
   "source": [
    "Define Strategy Class"
   ]
  },
  {
   "cell_type": "code",
   "execution_count": 5,
   "metadata": {
    "ExecuteTime": {
     "end_time": "2020-02-17T03:41:59.538335Z",
     "start_time": "2020-02-17T03:41:59.457371Z"
    }
   },
   "outputs": [],
   "source": [
    "class Strategy:\n",
    "\n",
    "    def __init__(self, symbol, capital, start, end):\n",
    "        self.symbol = symbol\n",
    "        self.capital = capital\n",
    "        self.start = start\n",
    "        self.end = end\n",
    "\n",
    "    def _algo(self):\n",
    "        pf.TradeLog.cash = self.capital\n",
    "\n",
    "        for i, row in enumerate(self.ts.itertuples()):\n",
    "\n",
    "            date = row.Index.to_pydatetime()\n",
    "            high = row.high; low = row.low; close = row.close; \n",
    "            end_flag = pf.is_last_row(self.ts, i)\n",
    "            shares = 0\n",
    "\n",
    "            # buy to cover (at the open on first trading day in Nov)\n",
    "            if self.tlog.shares > 0:\n",
    "                if row.month == 11 and row.first_dotm or end_flag:\n",
    "                    shares = self.tlog.buy2cover(date, row.open)\n",
    "\n",
    "            # sell short (at the open on first trading day in May)\n",
    "            else:\n",
    "                if row.month == 5 and row.first_dotm:\n",
    "                    shares = self.tlog.sell_short(date, row.open)\n",
    "\n",
    "            if shares > 0:\n",
    "                pf.DBG(\"{0} SELL SHORT  {1} {2} @ {3:.2f}\".format(\n",
    "                       date, shares, self.symbol, row.open))\n",
    "            elif shares < 0:\n",
    "                pf.DBG(\"{0} BUY TO COVER {1} {2} @ {3:.2f}\".format(\n",
    "                       date, -shares, self.symbol, row.open))\n",
    "            # record daily balance\n",
    "            self.dbal.append(date, high, low, close)\n",
    "\n",
    "    def _algo2(self):\n",
    "        pf.TradeLog.cash = self.capital\n",
    "\n",
    "        for i, row in enumerate(self.ts.itertuples()):\n",
    "\n",
    "            date = row.Index.to_pydatetime()\n",
    "            high = row.high; low = row.low; close = row.close; \n",
    "            end_flag = pf.is_last_row(self.ts, i)\n",
    "            shares = 0\n",
    "\n",
    "            # on the first day of the month, adjust short position to 50%\n",
    "            if (row.first_dotm or end_flag):\n",
    "                weight = 0 if end_flag else 0.5\n",
    "                self.tlog.adjust_percent(date, close, weight, pf.Direction.SHORT)\n",
    "\n",
    "            # record daily balance\n",
    "            self.dbal.append(date, high, low, close)\n",
    "\n",
    "    def run(self):\n",
    "        self.ts = pf.fetch_timeseries(self.symbol)\n",
    "        self.ts = pf.select_tradeperiod(self.ts, self.start, self.end,\n",
    "                                         use_adj=True)\n",
    "        # add calendar columns\n",
    "        self.ts = pf.calendar(self.ts)\n",
    "        \n",
    "        self.tlog = pf.TradeLog(self.symbol)\n",
    "        self.dbal = pf.DailyBal()\n",
    "        \n",
    "        self.ts, self.start = pf.finalize_timeseries(self.ts, self.start)\n",
    "\n",
    "        self._algo()\n",
    "        #self._algo2()\n",
    "\n",
    "    def get_logs(self):\n",
    "        \"\"\" return DataFrames \"\"\"\n",
    "        self.rlog = self.tlog.get_log_raw()\n",
    "        self.tlog = self.tlog.get_log()\n",
    "        self.dbal = self.dbal.get_log(self.tlog)\n",
    "        return self.rlog, self.tlog, self.dbal\n",
    "\n",
    "    def get_stats(self):\n",
    "        stats = pf.stats(self.ts, self.tlog, self.dbal, self.capital)\n",
    "        return stats"
   ]
  },
  {
   "cell_type": "markdown",
   "metadata": {},
   "source": [
    "Run Strategy"
   ]
  },
  {
   "cell_type": "code",
   "execution_count": 6,
   "metadata": {
    "ExecuteTime": {
     "end_time": "2020-02-17T03:42:00.914179Z",
     "start_time": "2020-02-17T03:41:59.549227Z"
    },
    "scrolled": false
   },
   "outputs": [],
   "source": [
    "s = Strategy(symbol, capital, start, end)\n",
    "s.run()"
   ]
  },
  {
   "cell_type": "markdown",
   "metadata": {},
   "source": [
    "Retrieve log DataFrames"
   ]
  },
  {
   "cell_type": "code",
   "execution_count": 7,
   "metadata": {
    "ExecuteTime": {
     "end_time": "2020-02-17T03:42:02.701765Z",
     "start_time": "2020-02-17T03:42:00.923528Z"
    }
   },
   "outputs": [],
   "source": [
    "rlog, tlog, dbal = s.get_logs()\n",
    "stats = s.get_stats()"
   ]
  },
  {
   "cell_type": "code",
   "execution_count": 8,
   "metadata": {
    "ExecuteTime": {
     "end_time": "2020-02-17T03:42:02.745231Z",
     "start_time": "2020-02-17T03:42:02.712511Z"
    }
   },
   "outputs": [
    {
     "data": {
      "text/html": [
       "<div>\n",
       "<style scoped>\n",
       "    .dataframe tbody tr th:only-of-type {\n",
       "        vertical-align: middle;\n",
       "    }\n",
       "\n",
       "    .dataframe tbody tr th {\n",
       "        vertical-align: top;\n",
       "    }\n",
       "\n",
       "    .dataframe thead th {\n",
       "        text-align: right;\n",
       "    }\n",
       "</style>\n",
       "<table border=\"1\" class=\"dataframe\">\n",
       "  <thead>\n",
       "    <tr style=\"text-align: right;\">\n",
       "      <th></th>\n",
       "      <th>date</th>\n",
       "      <th>seq_num</th>\n",
       "      <th>price</th>\n",
       "      <th>shares</th>\n",
       "      <th>entry_exit</th>\n",
       "      <th>direction</th>\n",
       "      <th>symbol</th>\n",
       "    </tr>\n",
       "  </thead>\n",
       "  <tbody>\n",
       "    <tr>\n",
       "      <th>0</th>\n",
       "      <td>2016-05-02</td>\n",
       "      <td>0</td>\n",
       "      <td>188.22</td>\n",
       "      <td>53</td>\n",
       "      <td>entry</td>\n",
       "      <td>SHRT</td>\n",
       "      <td>SPY</td>\n",
       "    </tr>\n",
       "    <tr>\n",
       "      <th>1</th>\n",
       "      <td>2016-11-01</td>\n",
       "      <td>1</td>\n",
       "      <td>195.68</td>\n",
       "      <td>53</td>\n",
       "      <td>exit</td>\n",
       "      <td>SHRT</td>\n",
       "      <td>SPY</td>\n",
       "    </tr>\n",
       "    <tr>\n",
       "      <th>2</th>\n",
       "      <td>2017-05-01</td>\n",
       "      <td>2</td>\n",
       "      <td>221.60</td>\n",
       "      <td>43</td>\n",
       "      <td>entry</td>\n",
       "      <td>SHRT</td>\n",
       "      <td>SPY</td>\n",
       "    </tr>\n",
       "    <tr>\n",
       "      <th>3</th>\n",
       "      <td>2017-11-01</td>\n",
       "      <td>3</td>\n",
       "      <td>241.93</td>\n",
       "      <td>43</td>\n",
       "      <td>exit</td>\n",
       "      <td>SHRT</td>\n",
       "      <td>SPY</td>\n",
       "    </tr>\n",
       "    <tr>\n",
       "      <th>4</th>\n",
       "      <td>2018-05-01</td>\n",
       "      <td>4</td>\n",
       "      <td>249.66</td>\n",
       "      <td>34</td>\n",
       "      <td>entry</td>\n",
       "      <td>SHRT</td>\n",
       "      <td>SPY</td>\n",
       "    </tr>\n",
       "    <tr>\n",
       "      <th>5</th>\n",
       "      <td>2018-11-01</td>\n",
       "      <td>5</td>\n",
       "      <td>259.30</td>\n",
       "      <td>34</td>\n",
       "      <td>exit</td>\n",
       "      <td>SHRT</td>\n",
       "      <td>SPY</td>\n",
       "    </tr>\n",
       "    <tr>\n",
       "      <th>6</th>\n",
       "      <td>2019-05-01</td>\n",
       "      <td>6</td>\n",
       "      <td>284.26</td>\n",
       "      <td>29</td>\n",
       "      <td>entry</td>\n",
       "      <td>SHRT</td>\n",
       "      <td>SPY</td>\n",
       "    </tr>\n",
       "    <tr>\n",
       "      <th>7</th>\n",
       "      <td>2019-11-01</td>\n",
       "      <td>7</td>\n",
       "      <td>296.89</td>\n",
       "      <td>29</td>\n",
       "      <td>exit</td>\n",
       "      <td>SHRT</td>\n",
       "      <td>SPY</td>\n",
       "    </tr>\n",
       "    <tr>\n",
       "      <th>8</th>\n",
       "      <td>2020-05-01</td>\n",
       "      <td>8</td>\n",
       "      <td>280.81</td>\n",
       "      <td>28</td>\n",
       "      <td>entry</td>\n",
       "      <td>SHRT</td>\n",
       "      <td>SPY</td>\n",
       "    </tr>\n",
       "    <tr>\n",
       "      <th>9</th>\n",
       "      <td>2020-11-02</td>\n",
       "      <td>9</td>\n",
       "      <td>327.73</td>\n",
       "      <td>28</td>\n",
       "      <td>exit</td>\n",
       "      <td>SHRT</td>\n",
       "      <td>SPY</td>\n",
       "    </tr>\n",
       "  </tbody>\n",
       "</table>\n",
       "</div>"
      ],
      "text/plain": [
       "        date  seq_num  price  shares entry_exit direction symbol\n",
       "0 2016-05-02        0 188.22      53      entry      SHRT    SPY\n",
       "1 2016-11-01        1 195.68      53       exit      SHRT    SPY\n",
       "2 2017-05-01        2 221.60      43      entry      SHRT    SPY\n",
       "3 2017-11-01        3 241.93      43       exit      SHRT    SPY\n",
       "4 2018-05-01        4 249.66      34      entry      SHRT    SPY\n",
       "5 2018-11-01        5 259.30      34       exit      SHRT    SPY\n",
       "6 2019-05-01        6 284.26      29      entry      SHRT    SPY\n",
       "7 2019-11-01        7 296.89      29       exit      SHRT    SPY\n",
       "8 2020-05-01        8 280.81      28      entry      SHRT    SPY\n",
       "9 2020-11-02        9 327.73      28       exit      SHRT    SPY"
      ]
     },
     "execution_count": 8,
     "metadata": {},
     "output_type": "execute_result"
    }
   ],
   "source": [
    "rlog.head(10)"
   ]
  },
  {
   "cell_type": "code",
   "execution_count": 9,
   "metadata": {
    "ExecuteTime": {
     "end_time": "2020-02-17T03:42:02.785222Z",
     "start_time": "2020-02-17T03:42:02.751230Z"
    },
    "scrolled": false
   },
   "outputs": [
    {
     "data": {
      "text/html": [
       "<div>\n",
       "<style scoped>\n",
       "    .dataframe tbody tr th:only-of-type {\n",
       "        vertical-align: middle;\n",
       "    }\n",
       "\n",
       "    .dataframe tbody tr th {\n",
       "        vertical-align: top;\n",
       "    }\n",
       "\n",
       "    .dataframe thead th {\n",
       "        text-align: right;\n",
       "    }\n",
       "</style>\n",
       "<table border=\"1\" class=\"dataframe\">\n",
       "  <thead>\n",
       "    <tr style=\"text-align: right;\">\n",
       "      <th></th>\n",
       "      <th>entry_date</th>\n",
       "      <th>entry_price</th>\n",
       "      <th>exit_date</th>\n",
       "      <th>exit_price</th>\n",
       "      <th>pl_points</th>\n",
       "      <th>pl_cash</th>\n",
       "      <th>qty</th>\n",
       "      <th>cumul_total</th>\n",
       "      <th>direction</th>\n",
       "      <th>symbol</th>\n",
       "    </tr>\n",
       "  </thead>\n",
       "  <tbody>\n",
       "    <tr>\n",
       "      <th>0</th>\n",
       "      <td>2016-05-02</td>\n",
       "      <td>188.22</td>\n",
       "      <td>2016-11-01</td>\n",
       "      <td>195.68</td>\n",
       "      <td>-7.46</td>\n",
       "      <td>-395.26</td>\n",
       "      <td>53</td>\n",
       "      <td>-395.26</td>\n",
       "      <td>SHRT</td>\n",
       "      <td>SPY</td>\n",
       "    </tr>\n",
       "    <tr>\n",
       "      <th>1</th>\n",
       "      <td>2017-05-01</td>\n",
       "      <td>221.60</td>\n",
       "      <td>2017-11-01</td>\n",
       "      <td>241.93</td>\n",
       "      <td>-20.34</td>\n",
       "      <td>-874.51</td>\n",
       "      <td>43</td>\n",
       "      <td>-1269.77</td>\n",
       "      <td>SHRT</td>\n",
       "      <td>SPY</td>\n",
       "    </tr>\n",
       "    <tr>\n",
       "      <th>2</th>\n",
       "      <td>2018-05-01</td>\n",
       "      <td>249.66</td>\n",
       "      <td>2018-11-01</td>\n",
       "      <td>259.30</td>\n",
       "      <td>-9.64</td>\n",
       "      <td>-327.63</td>\n",
       "      <td>34</td>\n",
       "      <td>-1597.40</td>\n",
       "      <td>SHRT</td>\n",
       "      <td>SPY</td>\n",
       "    </tr>\n",
       "    <tr>\n",
       "      <th>3</th>\n",
       "      <td>2019-05-01</td>\n",
       "      <td>284.26</td>\n",
       "      <td>2019-11-01</td>\n",
       "      <td>296.89</td>\n",
       "      <td>-12.63</td>\n",
       "      <td>-366.36</td>\n",
       "      <td>29</td>\n",
       "      <td>-1963.76</td>\n",
       "      <td>SHRT</td>\n",
       "      <td>SPY</td>\n",
       "    </tr>\n",
       "    <tr>\n",
       "      <th>4</th>\n",
       "      <td>2020-05-01</td>\n",
       "      <td>280.81</td>\n",
       "      <td>2020-11-02</td>\n",
       "      <td>327.73</td>\n",
       "      <td>-46.92</td>\n",
       "      <td>-1313.71</td>\n",
       "      <td>28</td>\n",
       "      <td>-3277.47</td>\n",
       "      <td>SHRT</td>\n",
       "      <td>SPY</td>\n",
       "    </tr>\n",
       "  </tbody>\n",
       "</table>\n",
       "</div>"
      ],
      "text/plain": [
       "  entry_date  entry_price  exit_date  exit_price  pl_points  pl_cash  qty  \\\n",
       "0 2016-05-02       188.22 2016-11-01      195.68      -7.46  -395.26   53   \n",
       "1 2017-05-01       221.60 2017-11-01      241.93     -20.34  -874.51   43   \n",
       "2 2018-05-01       249.66 2018-11-01      259.30      -9.64  -327.63   34   \n",
       "3 2019-05-01       284.26 2019-11-01      296.89     -12.63  -366.36   29   \n",
       "4 2020-05-01       280.81 2020-11-02      327.73     -46.92 -1313.71   28   \n",
       "\n",
       "   cumul_total direction symbol  \n",
       "0      -395.26      SHRT    SPY  \n",
       "1     -1269.77      SHRT    SPY  \n",
       "2     -1597.40      SHRT    SPY  \n",
       "3     -1963.76      SHRT    SPY  \n",
       "4     -3277.47      SHRT    SPY  "
      ]
     },
     "execution_count": 9,
     "metadata": {},
     "output_type": "execute_result"
    }
   ],
   "source": [
    "tlog.head(10)"
   ]
  },
  {
   "cell_type": "code",
   "execution_count": 10,
   "metadata": {
    "ExecuteTime": {
     "end_time": "2020-02-17T03:42:02.820218Z",
     "start_time": "2020-02-17T03:42:02.789185Z"
    },
    "scrolled": false
   },
   "outputs": [
    {
     "data": {
      "text/html": [
       "<div>\n",
       "<style scoped>\n",
       "    .dataframe tbody tr th:only-of-type {\n",
       "        vertical-align: middle;\n",
       "    }\n",
       "\n",
       "    .dataframe tbody tr th {\n",
       "        vertical-align: top;\n",
       "    }\n",
       "\n",
       "    .dataframe thead th {\n",
       "        text-align: right;\n",
       "    }\n",
       "</style>\n",
       "<table border=\"1\" class=\"dataframe\">\n",
       "  <thead>\n",
       "    <tr style=\"text-align: right;\">\n",
       "      <th></th>\n",
       "      <th>high</th>\n",
       "      <th>low</th>\n",
       "      <th>close</th>\n",
       "      <th>shares</th>\n",
       "      <th>cash</th>\n",
       "      <th>leverage</th>\n",
       "      <th>state</th>\n",
       "    </tr>\n",
       "    <tr>\n",
       "      <th>date</th>\n",
       "      <th></th>\n",
       "      <th></th>\n",
       "      <th></th>\n",
       "      <th></th>\n",
       "      <th></th>\n",
       "      <th></th>\n",
       "      <th></th>\n",
       "    </tr>\n",
       "  </thead>\n",
       "  <tbody>\n",
       "    <tr>\n",
       "      <th>2021-03-15</th>\n",
       "      <td>6722.53</td>\n",
       "      <td>6722.53</td>\n",
       "      <td>6722.53</td>\n",
       "      <td>0</td>\n",
       "      <td>6722.53</td>\n",
       "      <td>1.00</td>\n",
       "      <td>-</td>\n",
       "    </tr>\n",
       "    <tr>\n",
       "      <th>2021-03-16</th>\n",
       "      <td>6722.53</td>\n",
       "      <td>6722.53</td>\n",
       "      <td>6722.53</td>\n",
       "      <td>0</td>\n",
       "      <td>6722.53</td>\n",
       "      <td>1.00</td>\n",
       "      <td>-</td>\n",
       "    </tr>\n",
       "    <tr>\n",
       "      <th>2021-03-17</th>\n",
       "      <td>6722.53</td>\n",
       "      <td>6722.53</td>\n",
       "      <td>6722.53</td>\n",
       "      <td>0</td>\n",
       "      <td>6722.53</td>\n",
       "      <td>1.00</td>\n",
       "      <td>-</td>\n",
       "    </tr>\n",
       "    <tr>\n",
       "      <th>2021-03-18</th>\n",
       "      <td>6722.53</td>\n",
       "      <td>6722.53</td>\n",
       "      <td>6722.53</td>\n",
       "      <td>0</td>\n",
       "      <td>6722.53</td>\n",
       "      <td>1.00</td>\n",
       "      <td>-</td>\n",
       "    </tr>\n",
       "    <tr>\n",
       "      <th>2021-03-19</th>\n",
       "      <td>6722.53</td>\n",
       "      <td>6722.53</td>\n",
       "      <td>6722.53</td>\n",
       "      <td>0</td>\n",
       "      <td>6722.53</td>\n",
       "      <td>1.00</td>\n",
       "      <td>-</td>\n",
       "    </tr>\n",
       "    <tr>\n",
       "      <th>2021-03-22</th>\n",
       "      <td>6722.53</td>\n",
       "      <td>6722.53</td>\n",
       "      <td>6722.53</td>\n",
       "      <td>0</td>\n",
       "      <td>6722.53</td>\n",
       "      <td>1.00</td>\n",
       "      <td>-</td>\n",
       "    </tr>\n",
       "    <tr>\n",
       "      <th>2021-03-23</th>\n",
       "      <td>6722.53</td>\n",
       "      <td>6722.53</td>\n",
       "      <td>6722.53</td>\n",
       "      <td>0</td>\n",
       "      <td>6722.53</td>\n",
       "      <td>1.00</td>\n",
       "      <td>-</td>\n",
       "    </tr>\n",
       "    <tr>\n",
       "      <th>2021-03-24</th>\n",
       "      <td>6722.53</td>\n",
       "      <td>6722.53</td>\n",
       "      <td>6722.53</td>\n",
       "      <td>0</td>\n",
       "      <td>6722.53</td>\n",
       "      <td>1.00</td>\n",
       "      <td>-</td>\n",
       "    </tr>\n",
       "    <tr>\n",
       "      <th>2021-03-25</th>\n",
       "      <td>6722.53</td>\n",
       "      <td>6722.53</td>\n",
       "      <td>6722.53</td>\n",
       "      <td>0</td>\n",
       "      <td>6722.53</td>\n",
       "      <td>1.00</td>\n",
       "      <td>-</td>\n",
       "    </tr>\n",
       "    <tr>\n",
       "      <th>2021-03-26</th>\n",
       "      <td>6722.53</td>\n",
       "      <td>6722.53</td>\n",
       "      <td>6722.53</td>\n",
       "      <td>0</td>\n",
       "      <td>6722.53</td>\n",
       "      <td>1.00</td>\n",
       "      <td>-</td>\n",
       "    </tr>\n",
       "  </tbody>\n",
       "</table>\n",
       "</div>"
      ],
      "text/plain": [
       "              high     low   close  shares    cash  leverage state\n",
       "date                                                              \n",
       "2021-03-15 6722.53 6722.53 6722.53       0 6722.53      1.00     -\n",
       "2021-03-16 6722.53 6722.53 6722.53       0 6722.53      1.00     -\n",
       "2021-03-17 6722.53 6722.53 6722.53       0 6722.53      1.00     -\n",
       "2021-03-18 6722.53 6722.53 6722.53       0 6722.53      1.00     -\n",
       "2021-03-19 6722.53 6722.53 6722.53       0 6722.53      1.00     -\n",
       "2021-03-22 6722.53 6722.53 6722.53       0 6722.53      1.00     -\n",
       "2021-03-23 6722.53 6722.53 6722.53       0 6722.53      1.00     -\n",
       "2021-03-24 6722.53 6722.53 6722.53       0 6722.53      1.00     -\n",
       "2021-03-25 6722.53 6722.53 6722.53       0 6722.53      1.00     -\n",
       "2021-03-26 6722.53 6722.53 6722.53       0 6722.53      1.00     -"
      ]
     },
     "execution_count": 10,
     "metadata": {},
     "output_type": "execute_result"
    }
   ],
   "source": [
    "dbal.tail(10)"
   ]
  },
  {
   "cell_type": "code",
   "execution_count": 11,
   "metadata": {
    "ExecuteTime": {
     "end_time": "2020-02-17T03:42:02.862277Z",
     "start_time": "2020-02-17T03:42:02.826576Z"
    },
    "scrolled": false
   },
   "outputs": [
    {
     "name": "stdout",
     "output_type": "stream",
     "text": [
      "start                                                  2015-10-30\n",
      "end                                                    2021-03-26\n",
      "beginning_balance                                           10000\n",
      "ending_balance                                            6722.53\n",
      "total_net_profit                                         -3277.47\n",
      "gross_profit                                                 0.00\n",
      "gross_loss                                               -3277.47\n",
      "profit_factor                                                   0\n",
      "return_on_initial_capital                                  -32.77\n",
      "annual_return_rate                                          -7.08\n",
      "trading_period                           5 years 4 months 26 days\n",
      "pct_time_in_market                                          47.28\n",
      "margin                                                          1\n",
      "avg_leverage                                                 1.00\n",
      "max_leverage                                                 1.00\n",
      "min_leverage                                                 1.00\n",
      "total_num_trades                                                5\n",
      "trades_per_year                                              0.93\n",
      "num_winning_trades                                              0\n",
      "num_losing_trades                                               5\n",
      "num_even_trades                                                 0\n",
      "pct_profitable_trades                                        0.00\n",
      "avg_profit_per_trade                                      -655.49\n",
      "avg_profit_per_winning_trade                                    0\n",
      "avg_loss_per_losing_trade                                 -655.49\n",
      "ratio_avg_profit_win_loss                                       0\n",
      "largest_profit_winning_trade                                    0\n",
      "largest_loss_losing_trade                                -1313.71\n",
      "num_winning_points                                              0\n",
      "num_losing_points                                          -96.98\n",
      "total_net_points                                           -96.98\n",
      "avg_points                                                 -19.40\n",
      "largest_points_winning_trade                                    0\n",
      "largest_points_losing_trade                                -46.92\n",
      "avg_pct_gain_per_trade                                      -7.63\n",
      "largest_pct_winning_trade                                       0\n",
      "largest_pct_losing_trade                                   -16.71\n",
      "expected_shortfall                                              0\n",
      "max_consecutive_winning_trades                                  0\n",
      "max_consecutive_losing_trades                                   5\n",
      "avg_bars_winning_trades                                         0\n",
      "avg_bars_losing_trades                                     129.60\n",
      "max_closed_out_drawdown                                    -41.78\n",
      "max_closed_out_drawdown_peak_date                      2016-06-27\n",
      "max_closed_out_drawdown_trough_date                    2020-09-02\n",
      "max_closed_out_drawdown_recovery_date           Not Recovered Yet\n",
      "drawdown_loss_period                            Not Recovered Yet\n",
      "drawdown_recovery_period                        Not Recovered Yet\n",
      "annualized_return_over_max_drawdown                          0.17\n",
      "max_intra_day_drawdown                                     -42.32\n",
      "avg_yearly_closed_out_drawdown                             -11.26\n",
      "max_yearly_closed_out_drawdown                             -29.54\n",
      "avg_monthly_closed_out_drawdown                             -2.00\n",
      "max_monthly_closed_out_drawdown                            -14.09\n",
      "avg_weekly_closed_out_drawdown                              -0.73\n",
      "max_weekly_closed_out_drawdown                              -7.38\n",
      "avg_yearly_closed_out_runup                                  7.06\n",
      "max_yearly_closed_out_runup                                 15.96\n",
      "avg_monthly_closed_out_runup                                 1.70\n",
      "max_monthly_closed_out_runup                                15.58\n",
      "avg_weekly_closed_out_runup                                  0.63\n",
      "max_weekly_closed_out_runup                                 11.30\n",
      "pct_profitable_years                                         9.39\n",
      "best_year                                                    9.85\n",
      "worst_year                                                 -28.44\n",
      "avg_year                                                    -7.34\n",
      "annual_std                                                   6.69\n",
      "pct_profitable_months                                       17.99\n",
      "best_month                                                  11.67\n",
      "worst_month                                                -11.14\n",
      "avg_month                                                   -0.56\n",
      "monthly_std                                                  2.58\n",
      "pct_profitable_weeks                                        18.67\n",
      "best_week                                                   10.99\n",
      "worst_week                                                  -6.50\n",
      "avg_week                                                    -0.14\n",
      "weekly_std                                                   1.40\n",
      "pct_profitable_days                                         20.53\n",
      "best_day                                                     7.13\n",
      "worst_day                                                   -3.00\n",
      "avg_day                                                     -0.03\n",
      "daily_std                                                    0.68\n",
      "sharpe_ratio                                                -0.63\n",
      "sharpe_ratio_max                                            -0.54\n",
      "sharpe_ratio_min                                            -0.72\n",
      "sortino_ratio                                               -0.76\n",
      "dtype: object\n"
     ]
    }
   ],
   "source": [
    "pf.print_full(stats)"
   ]
  },
  {
   "cell_type": "markdown",
   "metadata": {},
   "source": [
    "Run Benchmark, Retrieve benchmark logs, and Generate benchmark stats"
   ]
  },
  {
   "cell_type": "code",
   "execution_count": 13,
   "metadata": {
    "ExecuteTime": {
     "end_time": "2020-02-17T03:42:05.103568Z",
     "start_time": "2020-02-17T03:42:02.871307Z"
    },
    "scrolled": false
   },
   "outputs": [],
   "source": [
    "benchmark = pf.Benchmark(symbol, capital, s.start, s.end)\n",
    "benchmark.run()"
   ]
  },
  {
   "cell_type": "markdown",
   "metadata": {},
   "source": [
    "Plot Equity Curves: Strategy vs Benchmark"
   ]
  },
  {
   "cell_type": "code",
   "execution_count": 14,
   "metadata": {
    "ExecuteTime": {
     "end_time": "2020-02-17T03:42:05.435255Z",
     "start_time": "2020-02-17T03:42:05.114316Z"
    },
    "scrolled": false
   },
   "outputs": [
    {
     "data": {
      "image/png": "[encoded data removed]",
      "text/plain": [
       "<Figure size 720x504 with 1 Axes>"
      ]
     },
     "metadata": {
      "needs_background": "light"
     },
     "output_type": "display_data"
    }
   ],
   "source": [
    "pf.plot_equity_curve(dbal, benchmark=benchmark.dbal)"
   ]
  },
  {
   "cell_type": "markdown",
   "metadata": {},
   "source": [
    "Plot Trades"
   ]
  },
  {
   "cell_type": "code",
   "execution_count": 15,
   "metadata": {
    "ExecuteTime": {
     "end_time": "2020-02-17T03:42:05.734945Z",
     "start_time": "2020-02-17T03:42:05.442607Z"
    }
   },
   "outputs": [
    {
     "data": {
      "image/png": "[encoded data removed]",
      "text/plain": [
       "<Figure size 720x504 with 1 Axes>"
      ]
     },
     "metadata": {
      "needs_background": "light"
     },
     "output_type": "display_data"
    }
   ],
   "source": [
    "pf.plot_trades(dbal, benchmark=benchmark.dbal)"
   ]
  },
  {
   "cell_type": "markdown",
   "metadata": {},
   "source": [
    "Bar Graph: Strategy vs Benchmark"
   ]
  },
  {
   "cell_type": "code",
   "execution_count": 16,
   "metadata": {
    "ExecuteTime": {
     "end_time": "2020-02-17T03:42:06.166236Z",
     "start_time": "2020-02-17T03:42:05.742988Z"
    }
   },
   "outputs": [
    {
     "data": {
      "text/html": [
       "<div>\n",
       "<style scoped>\n",
       "    .dataframe tbody tr th:only-of-type {\n",
       "        vertical-align: middle;\n",
       "    }\n",
       "\n",
       "    .dataframe tbody tr th {\n",
       "        vertical-align: top;\n",
       "    }\n",
       "\n",
       "    .dataframe thead th {\n",
       "        text-align: right;\n",
       "    }\n",
       "</style>\n",
       "<table border=\"1\" class=\"dataframe\">\n",
       "  <thead>\n",
       "    <tr style=\"text-align: right;\">\n",
       "      <th></th>\n",
       "      <th>strategy</th>\n",
       "      <th>benchmark</th>\n",
       "    </tr>\n",
       "  </thead>\n",
       "  <tbody>\n",
       "    <tr>\n",
       "      <th>annual_return_rate</th>\n",
       "      <td>-7.08</td>\n",
       "      <td>12.64</td>\n",
       "    </tr>\n",
       "    <tr>\n",
       "      <th>max_closed_out_drawdown</th>\n",
       "      <td>-41.78</td>\n",
       "      <td>-34.06</td>\n",
       "    </tr>\n",
       "    <tr>\n",
       "      <th>annualized_return_over_max_drawdown</th>\n",
       "      <td>0.17</td>\n",
       "      <td>0.37</td>\n",
       "    </tr>\n",
       "    <tr>\n",
       "      <th>best_month</th>\n",
       "      <td>11.67</td>\n",
       "      <td>23.03</td>\n",
       "    </tr>\n",
       "    <tr>\n",
       "      <th>worst_month</th>\n",
       "      <td>-11.14</td>\n",
       "      <td>-31.35</td>\n",
       "    </tr>\n",
       "    <tr>\n",
       "      <th>sharpe_ratio</th>\n",
       "      <td>-0.63</td>\n",
       "      <td>0.73</td>\n",
       "    </tr>\n",
       "    <tr>\n",
       "      <th>sortino_ratio</th>\n",
       "      <td>-0.76</td>\n",
       "      <td>0.82</td>\n",
       "    </tr>\n",
       "    <tr>\n",
       "      <th>monthly_std</th>\n",
       "      <td>2.58</td>\n",
       "      <td>4.64</td>\n",
       "    </tr>\n",
       "    <tr>\n",
       "      <th>annual_std</th>\n",
       "      <td>6.69</td>\n",
       "      <td>9.58</td>\n",
       "    </tr>\n",
       "  </tbody>\n",
       "</table>\n",
       "</div>"
      ],
      "text/plain": [
       "                                     strategy  benchmark\n",
       "annual_return_rate                      -7.08      12.64\n",
       "max_closed_out_drawdown                -41.78     -34.06\n",
       "annualized_return_over_max_drawdown      0.17       0.37\n",
       "best_month                              11.67      23.03\n",
       "worst_month                            -11.14     -31.35\n",
       "sharpe_ratio                            -0.63       0.73\n",
       "sortino_ratio                           -0.76       0.82\n",
       "monthly_std                              2.58       4.64\n",
       "annual_std                               6.69       9.58"
      ]
     },
     "execution_count": 16,
     "metadata": {},
     "output_type": "execute_result"
    },
    {
     "data": {
      "image/png": "[encoded data removed]",
      "text/plain": [
       "<Figure size 720x504 with 1 Axes>"
      ]
     },
     "metadata": {
      "needs_background": "light"
     },
     "output_type": "display_data"
    }
   ],
   "source": [
    "df = pf.plot_bar_graph(stats, benchmark.stats)\n",
    "df"
   ]
  },
  {
   "cell_type": "code",
   "execution_count": null,
   "metadata": {},
   "outputs": [],
   "source": []
  }
 ],
 "metadata": {
  "kernelspec": {
   "display_name": "Python 3",
   "language": "python",
   "name": "python3"
  },
  "language_info": {
   "codemirror_mode": {
    "name": "ipython",
    "version": 3
   },
   "file_extension": ".py",
   "mimetype": "text/x-python",
   "name": "python",
   "nbconvert_exporter": "python",
   "pygments_lexer": "ipython3",
   "version": "3.8.5"
  },
  "latex_envs": {
   "LaTeX_envs_menu_present": true,
   "autoclose": false,
   "autocomplete": true,
   "bibliofile": "biblio.bib",
   "cite_by": "apalike",
   "current_citInitial": 1,
   "eqLabelWithNumbers": true,
   "eqNumInitial": 1,
   "hotkeys": {
    "equation": "Ctrl-E",
    "itemize": "Ctrl-I"
   },
   "labels_anchors": false,
   "latex_user_defs": false,
   "report_style_numbering": false,
   "user_envs_cfg": false
  }
 },
 "nbformat": 4,
 "nbformat_minor": 1
}
