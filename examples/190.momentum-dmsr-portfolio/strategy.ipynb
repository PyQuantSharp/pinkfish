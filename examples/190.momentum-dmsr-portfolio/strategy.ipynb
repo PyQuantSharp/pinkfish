{
 "cells": [
  {
   "cell_type": "markdown",
   "metadata": {},
   "source": [
    "# Dual Momentum Sector Rotation (DMSR)\n",
    "\n",
    "'Relative momentum looks at price strength with respect to other assets.\n",
    "Absolute momentum uses an asset’s own past performance to infer future\n",
    "performance. Absolute momentum can reduce downside exposure as well\n",
    "enhance returns. The best approach is to use both types of momentum\n",
    "together. That is what dual momentum is all about.'  \n",
    "https://www.optimalmomentum.com/momentum/\n",
    "\n",
    "**Buy Signal**: When the S&P 500 is above its 10-month simple moving average, buy the sectors with the biggest gains over a three-month timeframe and (optionally) has positive absolute momentum.\n",
    "\n",
    "**Sell Signal**: (Optionally) Exit all positions when the S&P 500 moves below its 10-month simple moving average on a monthly closing basis, or (optionaly) exit a single position if it has negative absolute momentum.\n",
    "\n",
    "**Rebalance**: Once per month, sell sectors that fall out of the top tier (three) and buy the sectors that move into the top tier (two or three).\n",
    "\n",
    "https://school.stockcharts.com/doku.php?id=trading_strategies:sector_rotation_roc  \n",
    "https://robotwealth.com/dual-momentum-review/  \n",
    "\n",
    "You can reproduce the results on robowealth by setting the 'end' date to (2017, 1, 1).  You can also note that these methods have NOT done so well since 2018, and especially didn't handle the COVID downturn very well."
   ]
  },
  {
   "cell_type": "code",
   "execution_count": 1,
   "metadata": {
    "ExecuteTime": {
     "end_time": "2020-02-17T05:42:08.798393Z",
     "start_time": "2020-02-17T05:42:07.455687Z"
    }
   },
   "outputs": [],
   "source": [
    "import datetime\n",
    "\n",
    "import matplotlib.pyplot as plt\n",
    "import pandas as pd\n",
    "\n",
    "import pinkfish as pf\n",
    "import strategy\n",
    "\n",
    "# Format price data.\n",
    "pd.options.display.float_format = '{:0.2f}'.format\n",
    "\n",
    "%matplotlib inline"
   ]
  },
  {
   "cell_type": "code",
   "execution_count": 2,
   "metadata": {
    "ExecuteTime": {
     "end_time": "2020-02-17T05:42:08.816893Z",
     "start_time": "2020-02-17T05:42:08.808607Z"
    }
   },
   "outputs": [],
   "source": [
    "# Set size of inline plots.\n",
    "'''note: rcParams can't be in same cell as import matplotlib\n",
    "   or %matplotlib inline\n",
    "   \n",
    "   %matplotlib notebook: will lead to interactive plots embedded within\n",
    "   the notebook, you can zoom and resize the figure\n",
    "   \n",
    "   %matplotlib inline: only draw static images in the notebook\n",
    "'''\n",
    "plt.rcParams[\"figure.figsize\"] = (10, 7)"
   ]
  },
  {
   "cell_type": "markdown",
   "metadata": {},
   "source": [
    "Some global data"
   ]
  },
  {
   "cell_type": "code",
   "execution_count": 3,
   "metadata": {
    "ExecuteTime": {
     "end_time": "2020-02-17T05:42:08.835362Z",
     "start_time": "2020-02-17T05:42:08.821138Z"
    }
   },
   "outputs": [],
   "source": [
    "SP500_Sectors = ['SPY', 'XLB', 'XLE', 'XLF', 'XLI', 'XLK', 'XLP', 'XLU', 'XLV', 'XLY']\n",
    "\n",
    "Other_Sectors = ['RSP', 'DIA', 'IWM', 'QQQ', 'DAX', 'EEM', 'TLT', 'GLD', 'XHB']\n",
    "\n",
    "Diversified_Assets = ['SPY', 'TLT', 'NLY', 'GLD']\n",
    "\n",
    "Diversified_Assets_Reddit = ['IWB', 'IEV', 'EWJ', 'EPP', 'IEF', 'SHY', 'GLD']\n",
    "\n",
    "Robot_Dual_Momentum_Equities = ['SPY', 'CWI']\n",
    "\n",
    "Robot_Dual_Momentum_Bonds = ['CSJ', 'HYG']\n",
    "\n",
    "Robot_Dual_Momentum_Equities_Bonds = ['SPY', 'AGG']\n",
    "\n",
    "Robot_Wealth = ['IWM', 'SPY', 'VGK', 'IEV', 'EWJ', 'EPP', 'IEF', 'SHY', 'GLD']\n",
    "\n",
    "\n",
    "# Pick one of the above\n",
    "symbols = SP500_Sectors\n",
    "\n",
    "capital = 10000\n",
    "start = datetime.datetime(2007, 1, 1)\n",
    "#start = datetime.datetime(*pf.SP500_BEGIN)\n",
    "end = datetime.datetime.now()\n",
    "#end = datetime.datetime(2019, 12, 1)"
   ]
  },
  {
   "cell_type": "code",
   "execution_count": 4,
   "metadata": {},
   "outputs": [
    {
     "data": {
      "text/plain": [
       "{'use_adj': True,\n",
       " 'use_cache': True,\n",
       " 'lookback': 6,\n",
       " 'margin': 1,\n",
       " 'use_absolute_mom': False,\n",
       " 'use_regime_filter': False,\n",
       " 'top_tier': 2}"
      ]
     },
     "execution_count": 4,
     "metadata": {},
     "output_type": "execute_result"
    }
   ],
   "source": [
    "options = {\n",
    "    'use_adj' : True,\n",
    "    'use_cache' : True,\n",
    "    'lookback': 6,\n",
    "    'margin': 1,\n",
    "    'use_absolute_mom': False,\n",
    "    'use_regime_filter': False,\n",
    "    'top_tier': 2\n",
    "    #'top_tier': int(len(symbols)/2)\n",
    "}\n",
    "options"
   ]
  },
  {
   "cell_type": "markdown",
   "metadata": {},
   "source": [
    "Run Strategy"
   ]
  },
  {
   "cell_type": "code",
   "execution_count": 5,
   "metadata": {},
   "outputs": [],
   "source": [
    "s = strategy.Strategy(symbols, capital, start, end, options)\n",
    "s.run()"
   ]
  },
  {
   "cell_type": "markdown",
   "metadata": {},
   "source": [
    "View logs"
   ]
  },
  {
   "cell_type": "code",
   "execution_count": 6,
   "metadata": {},
   "outputs": [
    {
     "data": {
      "text/html": [
       "<div>\n",
       "<style scoped>\n",
       "    .dataframe tbody tr th:only-of-type {\n",
       "        vertical-align: middle;\n",
       "    }\n",
       "\n",
       "    .dataframe tbody tr th {\n",
       "        vertical-align: top;\n",
       "    }\n",
       "\n",
       "    .dataframe thead th {\n",
       "        text-align: right;\n",
       "    }\n",
       "</style>\n",
       "<table border=\"1\" class=\"dataframe\">\n",
       "  <thead>\n",
       "    <tr style=\"text-align: right;\">\n",
       "      <th></th>\n",
       "      <th>date</th>\n",
       "      <th>seq_num</th>\n",
       "      <th>price</th>\n",
       "      <th>shares</th>\n",
       "      <th>entry_exit</th>\n",
       "      <th>direction</th>\n",
       "      <th>symbol</th>\n",
       "    </tr>\n",
       "  </thead>\n",
       "  <tbody>\n",
       "    <tr>\n",
       "      <th>0</th>\n",
       "      <td>2007-07-02</td>\n",
       "      <td>0</td>\n",
       "      <td>41.24</td>\n",
       "      <td>121</td>\n",
       "      <td>entry</td>\n",
       "      <td>LONG</td>\n",
       "      <td>XLE</td>\n",
       "    </tr>\n",
       "    <tr>\n",
       "      <th>0</th>\n",
       "      <td>2007-07-02</td>\n",
       "      <td>1</td>\n",
       "      <td>28.03</td>\n",
       "      <td>178</td>\n",
       "      <td>entry</td>\n",
       "      <td>LONG</td>\n",
       "      <td>XLB</td>\n",
       "    </tr>\n",
       "    <tr>\n",
       "      <th>1</th>\n",
       "      <td>2007-08-01</td>\n",
       "      <td>2</td>\n",
       "      <td>27.00</td>\n",
       "      <td>178</td>\n",
       "      <td>exit</td>\n",
       "      <td>LONG</td>\n",
       "      <td>XLB</td>\n",
       "    </tr>\n",
       "    <tr>\n",
       "      <th>1</th>\n",
       "      <td>2007-08-01</td>\n",
       "      <td>3</td>\n",
       "      <td>40.42</td>\n",
       "      <td>1</td>\n",
       "      <td>exit</td>\n",
       "      <td>LONG</td>\n",
       "      <td>XLE</td>\n",
       "    </tr>\n",
       "    <tr>\n",
       "      <th>0</th>\n",
       "      <td>2007-08-01</td>\n",
       "      <td>4</td>\n",
       "      <td>28.02</td>\n",
       "      <td>173</td>\n",
       "      <td>entry</td>\n",
       "      <td>LONG</td>\n",
       "      <td>XLI</td>\n",
       "    </tr>\n",
       "  </tbody>\n",
       "</table>\n",
       "</div>"
      ],
      "text/plain": [
       "        date  seq_num  price  shares entry_exit direction symbol\n",
       "0 2007-07-02        0  41.24     121      entry      LONG    XLE\n",
       "0 2007-07-02        1  28.03     178      entry      LONG    XLB\n",
       "1 2007-08-01        2  27.00     178       exit      LONG    XLB\n",
       "1 2007-08-01        3  40.42       1       exit      LONG    XLE\n",
       "0 2007-08-01        4  28.02     173      entry      LONG    XLI"
      ]
     },
     "execution_count": 6,
     "metadata": {},
     "output_type": "execute_result"
    }
   ],
   "source": [
    "s.rlog.head()"
   ]
  },
  {
   "cell_type": "code",
   "execution_count": 7,
   "metadata": {},
   "outputs": [
    {
     "data": {
      "text/html": [
       "<div>\n",
       "<style scoped>\n",
       "    .dataframe tbody tr th:only-of-type {\n",
       "        vertical-align: middle;\n",
       "    }\n",
       "\n",
       "    .dataframe tbody tr th {\n",
       "        vertical-align: top;\n",
       "    }\n",
       "\n",
       "    .dataframe thead th {\n",
       "        text-align: right;\n",
       "    }\n",
       "</style>\n",
       "<table border=\"1\" class=\"dataframe\">\n",
       "  <thead>\n",
       "    <tr style=\"text-align: right;\">\n",
       "      <th></th>\n",
       "      <th>entry_date</th>\n",
       "      <th>entry_price</th>\n",
       "      <th>exit_date</th>\n",
       "      <th>exit_price</th>\n",
       "      <th>pl_points</th>\n",
       "      <th>pl_cash</th>\n",
       "      <th>qty</th>\n",
       "      <th>cumul_total</th>\n",
       "      <th>direction</th>\n",
       "      <th>symbol</th>\n",
       "    </tr>\n",
       "  </thead>\n",
       "  <tbody>\n",
       "    <tr>\n",
       "      <th>32</th>\n",
       "      <td>2024-10-01</td>\n",
       "      <td>82.10</td>\n",
       "      <td>2024-11-01</td>\n",
       "      <td>79.55</td>\n",
       "      <td>-2.55</td>\n",
       "      <td>-844.26</td>\n",
       "      <td>331</td>\n",
       "      <td>42475.83</td>\n",
       "      <td>LONG</td>\n",
       "      <td>XLP</td>\n",
       "    </tr>\n",
       "    <tr>\n",
       "      <th>42</th>\n",
       "      <td>2024-11-01</td>\n",
       "      <td>199.71</td>\n",
       "      <td>2024-12-02</td>\n",
       "      <td>223.82</td>\n",
       "      <td>24.10</td>\n",
       "      <td>48.21</td>\n",
       "      <td>2</td>\n",
       "      <td>42524.04</td>\n",
       "      <td>LONG</td>\n",
       "      <td>XLY</td>\n",
       "    </tr>\n",
       "    <tr>\n",
       "      <th>43</th>\n",
       "      <td>2024-11-01</td>\n",
       "      <td>199.71</td>\n",
       "      <td>2024-12-27</td>\n",
       "      <td>229.74</td>\n",
       "      <td>30.03</td>\n",
       "      <td>3873.67</td>\n",
       "      <td>129</td>\n",
       "      <td>46397.71</td>\n",
       "      <td>LONG</td>\n",
       "      <td>XLY</td>\n",
       "    </tr>\n",
       "    <tr>\n",
       "      <th>40</th>\n",
       "      <td>2024-11-01</td>\n",
       "      <td>46.44</td>\n",
       "      <td>2024-12-27</td>\n",
       "      <td>48.75</td>\n",
       "      <td>2.31</td>\n",
       "      <td>1301.75</td>\n",
       "      <td>564</td>\n",
       "      <td>47699.46</td>\n",
       "      <td>LONG</td>\n",
       "      <td>XLF</td>\n",
       "    </tr>\n",
       "    <tr>\n",
       "      <th>41</th>\n",
       "      <td>2024-12-02</td>\n",
       "      <td>50.61</td>\n",
       "      <td>2024-12-27</td>\n",
       "      <td>48.75</td>\n",
       "      <td>-1.86</td>\n",
       "      <td>-14.91</td>\n",
       "      <td>8</td>\n",
       "      <td>47684.54</td>\n",
       "      <td>LONG</td>\n",
       "      <td>XLF</td>\n",
       "    </tr>\n",
       "  </tbody>\n",
       "</table>\n",
       "</div>"
      ],
      "text/plain": [
       "   entry_date  entry_price  exit_date  exit_price  pl_points  pl_cash  qty  \\\n",
       "32 2024-10-01        82.10 2024-11-01       79.55      -2.55  -844.26  331   \n",
       "42 2024-11-01       199.71 2024-12-02      223.82      24.10    48.21    2   \n",
       "43 2024-11-01       199.71 2024-12-27      229.74      30.03  3873.67  129   \n",
       "40 2024-11-01        46.44 2024-12-27       48.75       2.31  1301.75  564   \n",
       "41 2024-12-02        50.61 2024-12-27       48.75      -1.86   -14.91    8   \n",
       "\n",
       "    cumul_total direction symbol  \n",
       "32     42475.83      LONG    XLP  \n",
       "42     42524.04      LONG    XLY  \n",
       "43     46397.71      LONG    XLY  \n",
       "40     47699.46      LONG    XLF  \n",
       "41     47684.54      LONG    XLF  "
      ]
     },
     "execution_count": 7,
     "metadata": {},
     "output_type": "execute_result"
    }
   ],
   "source": [
    "s.tlog.tail()"
   ]
  },
  {
   "cell_type": "code",
   "execution_count": 8,
   "metadata": {},
   "outputs": [
    {
     "data": {
      "text/html": [
       "<div>\n",
       "<style scoped>\n",
       "    .dataframe tbody tr th:only-of-type {\n",
       "        vertical-align: middle;\n",
       "    }\n",
       "\n",
       "    .dataframe tbody tr th {\n",
       "        vertical-align: top;\n",
       "    }\n",
       "\n",
       "    .dataframe thead th {\n",
       "        text-align: right;\n",
       "    }\n",
       "</style>\n",
       "<table border=\"1\" class=\"dataframe\">\n",
       "  <thead>\n",
       "    <tr style=\"text-align: right;\">\n",
       "      <th></th>\n",
       "      <th>high</th>\n",
       "      <th>low</th>\n",
       "      <th>close</th>\n",
       "      <th>shares</th>\n",
       "      <th>cash</th>\n",
       "      <th>leverage</th>\n",
       "      <th>state</th>\n",
       "    </tr>\n",
       "    <tr>\n",
       "      <th>date</th>\n",
       "      <th></th>\n",
       "      <th></th>\n",
       "      <th></th>\n",
       "      <th></th>\n",
       "      <th></th>\n",
       "      <th></th>\n",
       "      <th></th>\n",
       "    </tr>\n",
       "  </thead>\n",
       "  <tbody>\n",
       "    <tr>\n",
       "      <th>2024-12-20</th>\n",
       "      <td>57266.50</td>\n",
       "      <td>57266.50</td>\n",
       "      <td>57266.50</td>\n",
       "      <td>701</td>\n",
       "      <td>163.08</td>\n",
       "      <td>1.00</td>\n",
       "      <td>-</td>\n",
       "    </tr>\n",
       "    <tr>\n",
       "      <th>2024-12-23</th>\n",
       "      <td>57422.25</td>\n",
       "      <td>57422.25</td>\n",
       "      <td>57422.25</td>\n",
       "      <td>701</td>\n",
       "      <td>163.08</td>\n",
       "      <td>1.00</td>\n",
       "      <td>-</td>\n",
       "    </tr>\n",
       "    <tr>\n",
       "      <th>2024-12-24</th>\n",
       "      <td>58431.99</td>\n",
       "      <td>58431.99</td>\n",
       "      <td>58431.99</td>\n",
       "      <td>701</td>\n",
       "      <td>163.08</td>\n",
       "      <td>1.00</td>\n",
       "      <td>-</td>\n",
       "    </tr>\n",
       "    <tr>\n",
       "      <th>2024-12-26</th>\n",
       "      <td>58388.40</td>\n",
       "      <td>58388.40</td>\n",
       "      <td>58388.40</td>\n",
       "      <td>701</td>\n",
       "      <td>163.08</td>\n",
       "      <td>1.00</td>\n",
       "      <td>-</td>\n",
       "    </tr>\n",
       "    <tr>\n",
       "      <th>2024-12-27</th>\n",
       "      <td>57684.54</td>\n",
       "      <td>57684.54</td>\n",
       "      <td>57684.54</td>\n",
       "      <td>0</td>\n",
       "      <td>57684.54</td>\n",
       "      <td>1.00</td>\n",
       "      <td>X</td>\n",
       "    </tr>\n",
       "  </tbody>\n",
       "</table>\n",
       "</div>"
      ],
      "text/plain": [
       "               high      low    close  shares     cash  leverage state\n",
       "date                                                                  \n",
       "2024-12-20 57266.50 57266.50 57266.50     701   163.08      1.00     -\n",
       "2024-12-23 57422.25 57422.25 57422.25     701   163.08      1.00     -\n",
       "2024-12-24 58431.99 58431.99 58431.99     701   163.08      1.00     -\n",
       "2024-12-26 58388.40 58388.40 58388.40     701   163.08      1.00     -\n",
       "2024-12-27 57684.54 57684.54 57684.54       0 57684.54      1.00     X"
      ]
     },
     "execution_count": 8,
     "metadata": {},
     "output_type": "execute_result"
    }
   ],
   "source": [
    "s.dbal.tail()"
   ]
  },
  {
   "cell_type": "markdown",
   "metadata": {},
   "source": [
    "Generate strategy stats - display all available stats"
   ]
  },
  {
   "cell_type": "code",
   "execution_count": 9,
   "metadata": {},
   "outputs": [
    {
     "name": "stdout",
     "output_type": "stream",
     "text": [
      "start                                                   2007-06-11\n",
      "end                                                     2024-12-27\n",
      "beginning_balance                                            10000\n",
      "ending_balance                                            57684.54\n",
      "total_net_profit                                          47684.54\n",
      "gross_profit                                              72653.42\n",
      "gross_loss                                               -24968.87\n",
      "profit_factor                                                 2.91\n",
      "return_on_initial_capital                                   476.85\n",
      "annual_return_rate                                           10.50\n",
      "trading_period                           17 years 6 months 16 days\n",
      "pct_time_in_market                                           99.66\n",
      "margin                                                           1\n",
      "avg_leverage                                                  1.00\n",
      "max_leverage                                                  1.00\n",
      "min_leverage                                                  1.00\n",
      "total_num_trades                                               382\n",
      "trades_per_year                                              21.77\n",
      "num_winning_trades                                             270\n",
      "num_losing_trades                                              112\n",
      "num_even_trades                                                  0\n",
      "pct_profitable_trades                                        70.68\n",
      "avg_profit_per_trade                                        124.83\n",
      "avg_profit_per_winning_trade                                269.09\n",
      "avg_loss_per_losing_trade                                  -222.94\n",
      "ratio_avg_profit_win_loss                                     1.21\n",
      "largest_profit_winning_trade                               7328.82\n",
      "largest_loss_losing_trade                                 -2034.41\n",
      "num_winning_points                                         1551.64\n",
      "num_losing_points                                          -347.21\n",
      "total_net_points                                           1204.43\n",
      "avg_points                                                    3.15\n",
      "largest_points_winning_trade                                 60.54\n",
      "largest_points_losing_trade                                 -23.63\n",
      "avg_pct_gain_per_trade                                        4.96\n",
      "largest_pct_winning_trade                                    63.89\n",
      "largest_pct_losing_trade                                    -31.72\n",
      "expected_shortfall                                          -22.47\n",
      "max_consecutive_winning_trades                                  13\n",
      "max_consecutive_losing_trades                                   11\n",
      "avg_bars_winning_trades                                      72.55\n",
      "avg_bars_losing_trades                                       44.54\n",
      "max_closed_out_drawdown                                     -45.09\n",
      "max_closed_out_drawdown_peak_date                       2007-07-19\n",
      "max_closed_out_drawdown_trough_date                     2009-03-09\n",
      "max_closed_out_drawdown_recovery_date                   2013-01-24\n",
      "drawdown_loss_period                                           599\n",
      "drawdown_recovery_period                                      1417\n",
      "annualized_return_over_max_drawdown                           0.23\n",
      "max_intra_day_drawdown                                      -45.09\n",
      "avg_yearly_closed_out_drawdown                              -14.74\n",
      "max_yearly_closed_out_drawdown                              -45.08\n",
      "avg_monthly_closed_out_drawdown                              -4.35\n",
      "max_monthly_closed_out_drawdown                             -26.16\n",
      "avg_weekly_closed_out_drawdown                               -1.77\n",
      "max_weekly_closed_out_drawdown                              -15.94\n",
      "avg_yearly_closed_out_runup                                  26.71\n",
      "max_yearly_closed_out_runup                                  98.33\n",
      "avg_monthly_closed_out_runup                                  5.21\n",
      "max_monthly_closed_out_runup                                 30.74\n",
      "avg_weekly_closed_out_runup                                   2.01\n",
      "max_weekly_closed_out_runup                                  17.70\n",
      "pct_profitable_years                                         87.74\n",
      "best_year                                                    84.38\n",
      "worst_year                                                  -39.41\n",
      "avg_year                                                     11.84\n",
      "annual_std                                                   14.98\n",
      "pct_profitable_months                                        63.29\n",
      "best_month                                                   25.18\n",
      "worst_month                                                 -26.16\n",
      "avg_month                                                     0.92\n",
      "monthly_std                                                   4.73\n",
      "pct_profitable_weeks                                         58.36\n",
      "best_week                                                    17.70\n",
      "worst_week                                                  -15.94\n",
      "avg_week                                                      0.23\n",
      "weekly_std                                                    2.53\n",
      "pct_profitable_days                                          53.85\n",
      "best_day                                                      9.20\n",
      "worst_day                                                   -11.76\n",
      "avg_day                                                       0.05\n",
      "daily_std                                                     1.23\n",
      "sharpe_ratio                                                  0.61\n",
      "sharpe_ratio_max                                              0.66\n",
      "sharpe_ratio_min                                              0.56\n",
      "sortino_ratio                                                 0.80\n",
      "dtype: object\n"
     ]
    }
   ],
   "source": [
    "pf.print_full(s.stats)"
   ]
  },
  {
   "cell_type": "markdown",
   "metadata": {},
   "source": [
    "Run Benchmark, Retrieve benchmark logs, and Generate benchmark stats"
   ]
  },
  {
   "cell_type": "code",
   "execution_count": 10,
   "metadata": {},
   "outputs": [],
   "source": [
    "benchmark = pf.Benchmark('SPY', s.capital, s.start, s.end, use_adj=True)\n",
    "benchmark.run()"
   ]
  },
  {
   "cell_type": "markdown",
   "metadata": {},
   "source": [
    "Plot Equity Curves: Strategy vs Benchmark"
   ]
  },
  {
   "cell_type": "code",
   "execution_count": 11,
   "metadata": {},
   "outputs": [
    {
     "data": {
      "image/png": "[encoded data removed]",
      "text/plain": [
       "<Figure size 1000x700 with 1 Axes>"
      ]
     },
     "metadata": {},
     "output_type": "display_data"
    }
   ],
   "source": [
    "pf.plot_equity_curve(s.dbal, benchmark=benchmark.dbal)"
   ]
  },
  {
   "cell_type": "markdown",
   "metadata": {},
   "source": [
    "Bar Graph: Strategy vs Benchmark"
   ]
  },
  {
   "cell_type": "code",
   "execution_count": 12,
   "metadata": {},
   "outputs": [
    {
     "data": {
      "text/html": [
       "<div>\n",
       "<style scoped>\n",
       "    .dataframe tbody tr th:only-of-type {\n",
       "        vertical-align: middle;\n",
       "    }\n",
       "\n",
       "    .dataframe tbody tr th {\n",
       "        vertical-align: top;\n",
       "    }\n",
       "\n",
       "    .dataframe thead th {\n",
       "        text-align: right;\n",
       "    }\n",
       "</style>\n",
       "<table border=\"1\" class=\"dataframe\">\n",
       "  <thead>\n",
       "    <tr style=\"text-align: right;\">\n",
       "      <th></th>\n",
       "      <th>strategy</th>\n",
       "      <th>benchmark</th>\n",
       "    </tr>\n",
       "  </thead>\n",
       "  <tbody>\n",
       "    <tr>\n",
       "      <th>annual_return_rate</th>\n",
       "      <td>10.50</td>\n",
       "      <td>10.17</td>\n",
       "    </tr>\n",
       "    <tr>\n",
       "      <th>max_closed_out_drawdown</th>\n",
       "      <td>-45.09</td>\n",
       "      <td>-54.88</td>\n",
       "    </tr>\n",
       "    <tr>\n",
       "      <th>annualized_return_over_max_drawdown</th>\n",
       "      <td>0.23</td>\n",
       "      <td>0.19</td>\n",
       "    </tr>\n",
       "    <tr>\n",
       "      <th>best_month</th>\n",
       "      <td>25.18</td>\n",
       "      <td>23.32</td>\n",
       "    </tr>\n",
       "    <tr>\n",
       "      <th>worst_month</th>\n",
       "      <td>-26.16</td>\n",
       "      <td>-30.92</td>\n",
       "    </tr>\n",
       "    <tr>\n",
       "      <th>sharpe_ratio</th>\n",
       "      <td>0.61</td>\n",
       "      <td>0.59</td>\n",
       "    </tr>\n",
       "    <tr>\n",
       "      <th>sortino_ratio</th>\n",
       "      <td>0.80</td>\n",
       "      <td>0.72</td>\n",
       "    </tr>\n",
       "    <tr>\n",
       "      <th>monthly_std</th>\n",
       "      <td>4.73</td>\n",
       "      <td>4.70</td>\n",
       "    </tr>\n",
       "    <tr>\n",
       "      <th>annual_std</th>\n",
       "      <td>14.98</td>\n",
       "      <td>17.27</td>\n",
       "    </tr>\n",
       "  </tbody>\n",
       "</table>\n",
       "</div>"
      ],
      "text/plain": [
       "                                     strategy  benchmark\n",
       "annual_return_rate                      10.50      10.17\n",
       "max_closed_out_drawdown                -45.09     -54.88\n",
       "annualized_return_over_max_drawdown      0.23       0.19\n",
       "best_month                              25.18      23.32\n",
       "worst_month                            -26.16     -30.92\n",
       "sharpe_ratio                             0.61       0.59\n",
       "sortino_ratio                            0.80       0.72\n",
       "monthly_std                              4.73       4.70\n",
       "annual_std                              14.98      17.27"
      ]
     },
     "execution_count": 12,
     "metadata": {},
     "output_type": "execute_result"
    },
    {
     "data": {
      "image/png": "[encoded data removed]",
      "text/plain": [
       "<Figure size 1000x700 with 1 Axes>"
      ]
     },
     "metadata": {},
     "output_type": "display_data"
    }
   ],
   "source": [
    "df = pf.plot_bar_graph(s.stats, benchmark.stats)\n",
    "df"
   ]
  },
  {
   "cell_type": "code",
   "execution_count": null,
   "metadata": {},
   "outputs": [],
   "source": []
  }
 ],
 "metadata": {
  "kernelspec": {
   "display_name": "Python 3 (ipykernel)",
   "language": "python",
   "name": "python3"
  },
  "language_info": {
   "codemirror_mode": {
    "name": "ipython",
    "version": 3
   },
   "file_extension": ".py",
   "mimetype": "text/x-python",
   "name": "python",
   "nbconvert_exporter": "python",
   "pygments_lexer": "ipython3",
   "version": "3.10.12"
  },
  "latex_envs": {
   "LaTeX_envs_menu_present": true,
   "autoclose": false,
   "autocomplete": true,
   "bibliofile": "biblio.bib",
   "cite_by": "apalike",
   "current_citInitial": 1,
   "eqLabelWithNumbers": true,
   "eqNumInitial": 1,
   "hotkeys": {
    "equation": "Ctrl-E",
    "itemize": "Ctrl-I"
   },
   "labels_anchors": false,
   "latex_user_defs": false,
   "report_style_numbering": false,
   "user_envs_cfg": false
  }
 },
 "nbformat": 4,
 "nbformat_minor": 4
}
