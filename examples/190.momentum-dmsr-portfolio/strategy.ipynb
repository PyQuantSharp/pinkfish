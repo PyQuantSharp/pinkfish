{
 "cells": [
  {
   "cell_type": "markdown",
   "metadata": {},
   "source": [
    "# Dual Momentum Sector Rotation (DMSR)\n",
    "\n",
    "'Relative momentum looks at price strength with respect to other assets.\n",
    "Absolute momentum uses an asset’s own past performance to infer future\n",
    "performance. Absolute momentum can reduce downside exposure as well\n",
    "enhance returns. The best approach is to use both types of momentum\n",
    "together. That is what dual momentum is all about.'  \n",
    "https://www.optimalmomentum.com/momentum/\n",
    "\n",
    "**Buy Signal**: When the S&P 500 is above its 10-month simple moving average, buy the sectors with the biggest gains over a three-month timeframe and (optionally) has positive absolute momentum.\n",
    "\n",
    "**Sell Signal**: (Optionally) Exit all positions when the S&P 500 moves below its 10-month simple moving average on a monthly closing basis, or (optionaly) exit a single position if it has negative absolute momentum.\n",
    "\n",
    "**Rebalance**: Once per month, sell sectors that fall out of the top tier (three) and buy the sectors that move into the top tier (two or three).\n",
    "\n",
    "https://school.stockcharts.com/doku.php?id=trading_strategies:sector_rotation_roc  \n",
    "https://robotwealth.com/dual-momentum-review/  \n",
    "\n",
    "You can reproduce the results on robowealth by setting the 'end' date to (2017, 1, 1).  You can also note that these methods have NOT done so well since 2018, and especially didn't handle the COVID downturn very well."
   ]
  },
  {
   "cell_type": "code",
   "execution_count": 1,
   "metadata": {
    "ExecuteTime": {
     "end_time": "2020-02-17T05:42:08.798393Z",
     "start_time": "2020-02-17T05:42:07.455687Z"
    }
   },
   "outputs": [],
   "source": [
    "import datetime\n",
    "\n",
    "import matplotlib.pyplot as plt\n",
    "import pandas as pd\n",
    "\n",
    "import pinkfish as pf\n",
    "import strategy\n",
    "\n",
    "# Format price data.\n",
    "pd.options.display.float_format = '{:0.2f}'.format\n",
    "\n",
    "%matplotlib inline"
   ]
  },
  {
   "cell_type": "code",
   "execution_count": 2,
   "metadata": {
    "ExecuteTime": {
     "end_time": "2020-02-17T05:42:08.816893Z",
     "start_time": "2020-02-17T05:42:08.808607Z"
    }
   },
   "outputs": [],
   "source": [
    "# Set size of inline plots.\n",
    "'''note: rcParams can't be in same cell as import matplotlib\n",
    "   or %matplotlib inline\n",
    "   \n",
    "   %matplotlib notebook: will lead to interactive plots embedded within\n",
    "   the notebook, you can zoom and resize the figure\n",
    "   \n",
    "   %matplotlib inline: only draw static images in the notebook\n",
    "'''\n",
    "plt.rcParams[\"figure.figsize\"] = (10, 7)"
   ]
  },
  {
   "cell_type": "markdown",
   "metadata": {},
   "source": [
    "Some global data"
   ]
  },
  {
   "cell_type": "code",
   "execution_count": 3,
   "metadata": {
    "ExecuteTime": {
     "end_time": "2020-02-17T05:42:08.835362Z",
     "start_time": "2020-02-17T05:42:08.821138Z"
    }
   },
   "outputs": [],
   "source": [
    "SP500_Sectors = ['SPY', 'XLB', 'XLE', 'XLF', 'XLI', 'XLK', 'XLP', 'XLU', 'XLV', 'XLY']\n",
    "\n",
    "Other_Sectors = ['RSP', 'DIA', 'IWM', 'QQQ', 'DAX', 'EEM', 'TLT', 'GLD', 'XHB']\n",
    "\n",
    "Diversified_Assets = ['SPY', 'TLT', 'NLY', 'GLD']\n",
    "\n",
    "Diversified_Assets_Reddit = ['IWB', 'IEV', 'EWJ', 'EPP', 'IEF', 'SHY', 'GLD']\n",
    "\n",
    "Robot_Dual_Momentum_Equities = ['SPY', 'CWI']\n",
    "\n",
    "Robot_Dual_Momentum_Bonds = ['CSJ', 'HYG']\n",
    "\n",
    "Robot_Dual_Momentum_Equities_Bonds = ['SPY', 'AGG']\n",
    "\n",
    "Robot_Wealth = ['IWM', 'SPY', 'VGK', 'IEV', 'EWJ', 'EPP', 'IEF', 'SHY', 'GLD']\n",
    "\n",
    "\n",
    "# Pick one of the above\n",
    "symbols = SP500_Sectors\n",
    "\n",
    "capital = 10000\n",
    "start = datetime.datetime(2007, 1, 1)\n",
    "#start = datetime.datetime(*pf.SP500_BEGIN)\n",
    "end = datetime.datetime.now()\n",
    "#end = datetime.datetime(2019, 12, 1)"
   ]
  },
  {
   "cell_type": "code",
   "execution_count": 4,
   "metadata": {},
   "outputs": [
    {
     "data": {
      "text/plain": [
       "{'use_adj': True,\n",
       " 'use_cache': True,\n",
       " 'lookback': 6,\n",
       " 'margin': 1,\n",
       " 'use_absolute_mom': False,\n",
       " 'use_regime_filter': False,\n",
       " 'top_tier': 2}"
      ]
     },
     "execution_count": 4,
     "metadata": {},
     "output_type": "execute_result"
    }
   ],
   "source": [
    "options = {\n",
    "    'use_adj' : True,\n",
    "    'use_cache' : True,\n",
    "    'lookback': 6,\n",
    "    'margin': 1,\n",
    "    'use_absolute_mom': False,\n",
    "    'use_regime_filter': False,\n",
    "    'top_tier': 2\n",
    "    #'top_tier': int(len(symbols)/2)\n",
    "}\n",
    "options"
   ]
  },
  {
   "cell_type": "markdown",
   "metadata": {},
   "source": [
    "Run Strategy"
   ]
  },
  {
   "cell_type": "code",
   "execution_count": 5,
   "metadata": {
    "scrolled": false
   },
   "outputs": [],
   "source": [
    "s = strategy.Strategy(symbols, capital, start, end, options)\n",
    "s.run()"
   ]
  },
  {
   "cell_type": "markdown",
   "metadata": {},
   "source": [
    "View logs"
   ]
  },
  {
   "cell_type": "code",
   "execution_count": 6,
   "metadata": {},
   "outputs": [
    {
     "data": {
      "text/html": [
       "<div>\n",
       "<style scoped>\n",
       "    .dataframe tbody tr th:only-of-type {\n",
       "        vertical-align: middle;\n",
       "    }\n",
       "\n",
       "    .dataframe tbody tr th {\n",
       "        vertical-align: top;\n",
       "    }\n",
       "\n",
       "    .dataframe thead th {\n",
       "        text-align: right;\n",
       "    }\n",
       "</style>\n",
       "<table border=\"1\" class=\"dataframe\">\n",
       "  <thead>\n",
       "    <tr style=\"text-align: right;\">\n",
       "      <th></th>\n",
       "      <th>date</th>\n",
       "      <th>seq_num</th>\n",
       "      <th>price</th>\n",
       "      <th>shares</th>\n",
       "      <th>entry_exit</th>\n",
       "      <th>direction</th>\n",
       "      <th>symbol</th>\n",
       "    </tr>\n",
       "  </thead>\n",
       "  <tbody>\n",
       "    <tr>\n",
       "      <th>0</th>\n",
       "      <td>2007-07-02</td>\n",
       "      <td>0</td>\n",
       "      <td>43.33</td>\n",
       "      <td>115</td>\n",
       "      <td>entry</td>\n",
       "      <td>LONG</td>\n",
       "      <td>XLE</td>\n",
       "    </tr>\n",
       "    <tr>\n",
       "      <th>1</th>\n",
       "      <td>2007-07-02</td>\n",
       "      <td>1</td>\n",
       "      <td>28.87</td>\n",
       "      <td>173</td>\n",
       "      <td>entry</td>\n",
       "      <td>LONG</td>\n",
       "      <td>XLB</td>\n",
       "    </tr>\n",
       "    <tr>\n",
       "      <th>2</th>\n",
       "      <td>2007-08-01</td>\n",
       "      <td>2</td>\n",
       "      <td>27.82</td>\n",
       "      <td>173</td>\n",
       "      <td>exit</td>\n",
       "      <td>LONG</td>\n",
       "      <td>XLB</td>\n",
       "    </tr>\n",
       "    <tr>\n",
       "      <th>3</th>\n",
       "      <td>2007-08-01</td>\n",
       "      <td>3</td>\n",
       "      <td>42.48</td>\n",
       "      <td>1</td>\n",
       "      <td>exit</td>\n",
       "      <td>LONG</td>\n",
       "      <td>XLE</td>\n",
       "    </tr>\n",
       "    <tr>\n",
       "      <th>4</th>\n",
       "      <td>2007-08-01</td>\n",
       "      <td>4</td>\n",
       "      <td>28.71</td>\n",
       "      <td>169</td>\n",
       "      <td>entry</td>\n",
       "      <td>LONG</td>\n",
       "      <td>XLI</td>\n",
       "    </tr>\n",
       "  </tbody>\n",
       "</table>\n",
       "</div>"
      ],
      "text/plain": [
       "        date  seq_num  price  shares entry_exit direction symbol\n",
       "0 2007-07-02        0  43.33     115      entry      LONG    XLE\n",
       "1 2007-07-02        1  28.87     173      entry      LONG    XLB\n",
       "2 2007-08-01        2  27.82     173       exit      LONG    XLB\n",
       "3 2007-08-01        3  42.48       1       exit      LONG    XLE\n",
       "4 2007-08-01        4  28.71     169      entry      LONG    XLI"
      ]
     },
     "execution_count": 6,
     "metadata": {},
     "output_type": "execute_result"
    }
   ],
   "source": [
    "s.rlog.head()"
   ]
  },
  {
   "cell_type": "code",
   "execution_count": 7,
   "metadata": {},
   "outputs": [
    {
     "data": {
      "text/html": [
       "<div>\n",
       "<style scoped>\n",
       "    .dataframe tbody tr th:only-of-type {\n",
       "        vertical-align: middle;\n",
       "    }\n",
       "\n",
       "    .dataframe tbody tr th {\n",
       "        vertical-align: top;\n",
       "    }\n",
       "\n",
       "    .dataframe thead th {\n",
       "        text-align: right;\n",
       "    }\n",
       "</style>\n",
       "<table border=\"1\" class=\"dataframe\">\n",
       "  <thead>\n",
       "    <tr style=\"text-align: right;\">\n",
       "      <th></th>\n",
       "      <th>entry_date</th>\n",
       "      <th>entry_price</th>\n",
       "      <th>exit_date</th>\n",
       "      <th>exit_price</th>\n",
       "      <th>pl_points</th>\n",
       "      <th>pl_cash</th>\n",
       "      <th>qty</th>\n",
       "      <th>cumul_total</th>\n",
       "      <th>direction</th>\n",
       "      <th>symbol</th>\n",
       "    </tr>\n",
       "  </thead>\n",
       "  <tbody>\n",
       "    <tr>\n",
       "      <th>337</th>\n",
       "      <td>2023-04-03</td>\n",
       "      <td>150.45</td>\n",
       "      <td>2023-07-28</td>\n",
       "      <td>177.94</td>\n",
       "      <td>27.49</td>\n",
       "      <td>3628.04</td>\n",
       "      <td>132</td>\n",
       "      <td>35277.64</td>\n",
       "      <td>LONG</td>\n",
       "      <td>XLK</td>\n",
       "    </tr>\n",
       "    <tr>\n",
       "      <th>338</th>\n",
       "      <td>2023-05-01</td>\n",
       "      <td>413.97</td>\n",
       "      <td>2023-06-01</td>\n",
       "      <td>420.26</td>\n",
       "      <td>6.29</td>\n",
       "      <td>314.33</td>\n",
       "      <td>50</td>\n",
       "      <td>35591.97</td>\n",
       "      <td>LONG</td>\n",
       "      <td>SPY</td>\n",
       "    </tr>\n",
       "    <tr>\n",
       "      <th>339</th>\n",
       "      <td>2023-06-01</td>\n",
       "      <td>153.09</td>\n",
       "      <td>2023-07-03</td>\n",
       "      <td>171.86</td>\n",
       "      <td>18.77</td>\n",
       "      <td>93.84</td>\n",
       "      <td>5</td>\n",
       "      <td>35685.81</td>\n",
       "      <td>LONG</td>\n",
       "      <td>XLY</td>\n",
       "    </tr>\n",
       "    <tr>\n",
       "      <th>340</th>\n",
       "      <td>2023-06-01</td>\n",
       "      <td>153.09</td>\n",
       "      <td>2023-07-28</td>\n",
       "      <td>172.76</td>\n",
       "      <td>19.67</td>\n",
       "      <td>2714.18</td>\n",
       "      <td>138</td>\n",
       "      <td>38399.99</td>\n",
       "      <td>LONG</td>\n",
       "      <td>XLY</td>\n",
       "    </tr>\n",
       "    <tr>\n",
       "      <th>341</th>\n",
       "      <td>2023-07-03</td>\n",
       "      <td>173.49</td>\n",
       "      <td>2023-07-28</td>\n",
       "      <td>177.94</td>\n",
       "      <td>4.45</td>\n",
       "      <td>22.25</td>\n",
       "      <td>5</td>\n",
       "      <td>38422.24</td>\n",
       "      <td>LONG</td>\n",
       "      <td>XLK</td>\n",
       "    </tr>\n",
       "  </tbody>\n",
       "</table>\n",
       "</div>"
      ],
      "text/plain": [
       "    entry_date  entry_price  exit_date  exit_price  pl_points  pl_cash  qty  \\\n",
       "337 2023-04-03       150.45 2023-07-28      177.94      27.49  3628.04  132   \n",
       "338 2023-05-01       413.97 2023-06-01      420.26       6.29   314.33   50   \n",
       "339 2023-06-01       153.09 2023-07-03      171.86      18.77    93.84    5   \n",
       "340 2023-06-01       153.09 2023-07-28      172.76      19.67  2714.18  138   \n",
       "341 2023-07-03       173.49 2023-07-28      177.94       4.45    22.25    5   \n",
       "\n",
       "     cumul_total direction symbol  \n",
       "337     35277.64      LONG    XLK  \n",
       "338     35591.97      LONG    SPY  \n",
       "339     35685.81      LONG    XLY  \n",
       "340     38399.99      LONG    XLY  \n",
       "341     38422.24      LONG    XLK  "
      ]
     },
     "execution_count": 7,
     "metadata": {},
     "output_type": "execute_result"
    }
   ],
   "source": [
    "s.tlog.tail()"
   ]
  },
  {
   "cell_type": "code",
   "execution_count": 8,
   "metadata": {
    "scrolled": false
   },
   "outputs": [
    {
     "data": {
      "text/html": [
       "<div>\n",
       "<style scoped>\n",
       "    .dataframe tbody tr th:only-of-type {\n",
       "        vertical-align: middle;\n",
       "    }\n",
       "\n",
       "    .dataframe tbody tr th {\n",
       "        vertical-align: top;\n",
       "    }\n",
       "\n",
       "    .dataframe thead th {\n",
       "        text-align: right;\n",
       "    }\n",
       "</style>\n",
       "<table border=\"1\" class=\"dataframe\">\n",
       "  <thead>\n",
       "    <tr style=\"text-align: right;\">\n",
       "      <th></th>\n",
       "      <th>high</th>\n",
       "      <th>low</th>\n",
       "      <th>close</th>\n",
       "      <th>shares</th>\n",
       "      <th>cash</th>\n",
       "      <th>leverage</th>\n",
       "      <th>state</th>\n",
       "    </tr>\n",
       "    <tr>\n",
       "      <th>date</th>\n",
       "      <th></th>\n",
       "      <th></th>\n",
       "      <th></th>\n",
       "      <th></th>\n",
       "      <th></th>\n",
       "      <th></th>\n",
       "      <th></th>\n",
       "    </tr>\n",
       "  </thead>\n",
       "  <tbody>\n",
       "    <tr>\n",
       "      <th>2023-07-24</th>\n",
       "      <td>48125.66</td>\n",
       "      <td>48125.66</td>\n",
       "      <td>48125.66</td>\n",
       "      <td>275</td>\n",
       "      <td>203.58</td>\n",
       "      <td>1.00</td>\n",
       "      <td>-</td>\n",
       "    </tr>\n",
       "    <tr>\n",
       "      <th>2023-07-25</th>\n",
       "      <td>48347.20</td>\n",
       "      <td>48347.20</td>\n",
       "      <td>48347.20</td>\n",
       "      <td>275</td>\n",
       "      <td>203.58</td>\n",
       "      <td>1.00</td>\n",
       "      <td>-</td>\n",
       "    </tr>\n",
       "    <tr>\n",
       "      <th>2023-07-26</th>\n",
       "      <td>48012.88</td>\n",
       "      <td>48012.88</td>\n",
       "      <td>48012.88</td>\n",
       "      <td>275</td>\n",
       "      <td>203.58</td>\n",
       "      <td>1.00</td>\n",
       "      <td>-</td>\n",
       "    </tr>\n",
       "    <tr>\n",
       "      <th>2023-07-27</th>\n",
       "      <td>47697.37</td>\n",
       "      <td>47697.37</td>\n",
       "      <td>47697.37</td>\n",
       "      <td>275</td>\n",
       "      <td>203.58</td>\n",
       "      <td>1.00</td>\n",
       "      <td>-</td>\n",
       "    </tr>\n",
       "    <tr>\n",
       "      <th>2023-07-28</th>\n",
       "      <td>48422.24</td>\n",
       "      <td>48422.24</td>\n",
       "      <td>48422.24</td>\n",
       "      <td>0</td>\n",
       "      <td>48422.24</td>\n",
       "      <td>1.00</td>\n",
       "      <td>X</td>\n",
       "    </tr>\n",
       "  </tbody>\n",
       "</table>\n",
       "</div>"
      ],
      "text/plain": [
       "               high      low    close  shares     cash  leverage state\n",
       "date                                                                  \n",
       "2023-07-24 48125.66 48125.66 48125.66     275   203.58      1.00     -\n",
       "2023-07-25 48347.20 48347.20 48347.20     275   203.58      1.00     -\n",
       "2023-07-26 48012.88 48012.88 48012.88     275   203.58      1.00     -\n",
       "2023-07-27 47697.37 47697.37 47697.37     275   203.58      1.00     -\n",
       "2023-07-28 48422.24 48422.24 48422.24       0 48422.24      1.00     X"
      ]
     },
     "execution_count": 8,
     "metadata": {},
     "output_type": "execute_result"
    }
   ],
   "source": [
    "s.dbal.tail()"
   ]
  },
  {
   "cell_type": "markdown",
   "metadata": {},
   "source": [
    "Generate strategy stats - display all available stats"
   ]
  },
  {
   "cell_type": "code",
   "execution_count": 9,
   "metadata": {
    "scrolled": false
   },
   "outputs": [
    {
     "name": "stdout",
     "output_type": "stream",
     "text": [
      "start                                                   2007-06-11\n",
      "end                                                     2023-07-28\n",
      "beginning_balance                                            10000\n",
      "ending_balance                                            48422.24\n",
      "total_net_profit                                          38422.24\n",
      "gross_profit                                              59735.81\n",
      "gross_loss                                               -21313.57\n",
      "profit_factor                                                 2.80\n",
      "return_on_initial_capital                                   384.22\n",
      "annual_return_rate                                           10.27\n",
      "trading_period                           16 years 1 months 17 days\n",
      "pct_time_in_market                                           99.63\n",
      "margin                                                           1\n",
      "avg_leverage                                                  1.00\n",
      "max_leverage                                                  1.00\n",
      "min_leverage                                                  1.00\n",
      "total_num_trades                                               342\n",
      "trades_per_year                                              21.20\n",
      "num_winning_trades                                             233\n",
      "num_losing_trades                                              109\n",
      "num_even_trades                                                  0\n",
      "pct_profitable_trades                                        68.13\n",
      "avg_profit_per_trade                                        112.35\n",
      "avg_profit_per_winning_trade                                256.38\n",
      "avg_loss_per_losing_trade                                  -195.54\n",
      "ratio_avg_profit_win_loss                                     1.31\n",
      "largest_profit_winning_trade                               7322.83\n",
      "largest_loss_losing_trade                                 -1782.08\n",
      "num_winning_points                                         1124.38\n",
      "num_losing_points                                          -325.20\n",
      "total_net_points                                            799.18\n",
      "avg_points                                                    2.34\n",
      "largest_points_winning_trade                                 34.40\n",
      "largest_points_losing_trade                                 -23.91\n",
      "avg_pct_gain_per_trade                                        4.52\n",
      "largest_pct_winning_trade                                    63.89\n",
      "largest_pct_losing_trade                                    -31.72\n",
      "expected_shortfall                                          -22.47\n",
      "max_consecutive_winning_trades                                  13\n",
      "max_consecutive_losing_trades                                   11\n",
      "avg_bars_winning_trades                                      69.98\n",
      "avg_bars_losing_trades                                       45.68\n",
      "max_closed_out_drawdown                                     -45.07\n",
      "max_closed_out_drawdown_peak_date                       2008-05-19\n",
      "max_closed_out_drawdown_trough_date                     2009-03-09\n",
      "max_closed_out_drawdown_recovery_date                   2013-01-24\n",
      "drawdown_loss_period                                           294\n",
      "drawdown_recovery_period                                      1417\n",
      "annualized_return_over_max_drawdown                           0.23\n",
      "max_intra_day_drawdown                                      -45.07\n",
      "avg_yearly_closed_out_drawdown                              -14.92\n",
      "max_yearly_closed_out_drawdown                              -45.07\n",
      "avg_monthly_closed_out_drawdown                              -4.42\n",
      "max_monthly_closed_out_drawdown                             -26.16\n",
      "avg_weekly_closed_out_drawdown                               -1.80\n",
      "max_weekly_closed_out_drawdown                              -15.90\n",
      "avg_yearly_closed_out_runup                                  26.28\n",
      "max_yearly_closed_out_runup                                  98.49\n",
      "avg_monthly_closed_out_runup                                  5.27\n",
      "max_monthly_closed_out_runup                                 30.86\n",
      "avg_weekly_closed_out_runup                                   2.04\n",
      "max_weekly_closed_out_runup                                  17.73\n",
      "pct_profitable_years                                         86.61\n",
      "best_year                                                    84.54\n",
      "worst_year                                                  -39.39\n",
      "avg_year                                                     11.17\n",
      "annual_std                                                   15.34\n",
      "pct_profitable_months                                        63.06\n",
      "best_month                                                   25.27\n",
      "worst_month                                                 -26.16\n",
      "avg_month                                                     0.90\n",
      "monthly_std                                                   4.82\n",
      "pct_profitable_weeks                                         58.25\n",
      "best_week                                                    17.73\n",
      "worst_week                                                  -15.90\n",
      "avg_week                                                      0.23\n",
      "weekly_std                                                    2.56\n",
      "pct_profitable_days                                          53.80\n",
      "best_day                                                      9.19\n",
      "worst_day                                                   -11.75\n",
      "avg_day                                                       0.05\n",
      "daily_std                                                     1.26\n",
      "sharpe_ratio                                                  0.59\n",
      "sharpe_ratio_max                                              0.64\n",
      "sharpe_ratio_min                                              0.54\n",
      "sortino_ratio                                                 0.77\n",
      "dtype: object\n"
     ]
    }
   ],
   "source": [
    "pf.print_full(s.stats)"
   ]
  },
  {
   "cell_type": "markdown",
   "metadata": {},
   "source": [
    "Run Benchmark, Retrieve benchmark logs, and Generate benchmark stats"
   ]
  },
  {
   "cell_type": "code",
   "execution_count": 10,
   "metadata": {},
   "outputs": [],
   "source": [
    "benchmark = pf.Benchmark('SPY', s.capital, s.start, s.end, use_adj=True)\n",
    "benchmark.run()"
   ]
  },
  {
   "cell_type": "markdown",
   "metadata": {},
   "source": [
    "Plot Equity Curves: Strategy vs Benchmark"
   ]
  },
  {
   "cell_type": "code",
   "execution_count": 11,
   "metadata": {
    "scrolled": false
   },
   "outputs": [
    {
     "data": {
      "image/png": "[encoded data removed]",
      "text/plain": [
       "<Figure size 1000x700 with 1 Axes>"
      ]
     },
     "metadata": {},
     "output_type": "display_data"
    }
   ],
   "source": [
    "pf.plot_equity_curve(s.dbal, benchmark=benchmark.dbal)"
   ]
  },
  {
   "cell_type": "markdown",
   "metadata": {},
   "source": [
    "Bar Graph: Strategy vs Benchmark"
   ]
  },
  {
   "cell_type": "code",
   "execution_count": 12,
   "metadata": {},
   "outputs": [
    {
     "data": {
      "text/html": [
       "<div>\n",
       "<style scoped>\n",
       "    .dataframe tbody tr th:only-of-type {\n",
       "        vertical-align: middle;\n",
       "    }\n",
       "\n",
       "    .dataframe tbody tr th {\n",
       "        vertical-align: top;\n",
       "    }\n",
       "\n",
       "    .dataframe thead th {\n",
       "        text-align: right;\n",
       "    }\n",
       "</style>\n",
       "<table border=\"1\" class=\"dataframe\">\n",
       "  <thead>\n",
       "    <tr style=\"text-align: right;\">\n",
       "      <th></th>\n",
       "      <th>strategy</th>\n",
       "      <th>benchmark</th>\n",
       "    </tr>\n",
       "  </thead>\n",
       "  <tbody>\n",
       "    <tr>\n",
       "      <th>annual_return_rate</th>\n",
       "      <td>10.27</td>\n",
       "      <td>9.24</td>\n",
       "    </tr>\n",
       "    <tr>\n",
       "      <th>max_closed_out_drawdown</th>\n",
       "      <td>-45.07</td>\n",
       "      <td>-54.97</td>\n",
       "    </tr>\n",
       "    <tr>\n",
       "      <th>annualized_return_over_max_drawdown</th>\n",
       "      <td>0.23</td>\n",
       "      <td>0.17</td>\n",
       "    </tr>\n",
       "    <tr>\n",
       "      <th>best_month</th>\n",
       "      <td>25.27</td>\n",
       "      <td>23.59</td>\n",
       "    </tr>\n",
       "    <tr>\n",
       "      <th>worst_month</th>\n",
       "      <td>-26.16</td>\n",
       "      <td>-30.98</td>\n",
       "    </tr>\n",
       "    <tr>\n",
       "      <th>sharpe_ratio</th>\n",
       "      <td>0.59</td>\n",
       "      <td>0.54</td>\n",
       "    </tr>\n",
       "    <tr>\n",
       "      <th>sortino_ratio</th>\n",
       "      <td>0.77</td>\n",
       "      <td>0.66</td>\n",
       "    </tr>\n",
       "    <tr>\n",
       "      <th>monthly_std</th>\n",
       "      <td>4.82</td>\n",
       "      <td>4.83</td>\n",
       "    </tr>\n",
       "    <tr>\n",
       "      <th>annual_std</th>\n",
       "      <td>15.34</td>\n",
       "      <td>17.47</td>\n",
       "    </tr>\n",
       "  </tbody>\n",
       "</table>\n",
       "</div>"
      ],
      "text/plain": [
       "                                     strategy  benchmark\n",
       "annual_return_rate                      10.27       9.24\n",
       "max_closed_out_drawdown                -45.07     -54.97\n",
       "annualized_return_over_max_drawdown      0.23       0.17\n",
       "best_month                              25.27      23.59\n",
       "worst_month                            -26.16     -30.98\n",
       "sharpe_ratio                             0.59       0.54\n",
       "sortino_ratio                            0.77       0.66\n",
       "monthly_std                              4.82       4.83\n",
       "annual_std                              15.34      17.47"
      ]
     },
     "execution_count": 12,
     "metadata": {},
     "output_type": "execute_result"
    },
    {
     "data": {
      "image/png": "[encoded data removed]",
      "text/plain": [
       "<Figure size 1000x700 with 1 Axes>"
      ]
     },
     "metadata": {},
     "output_type": "display_data"
    }
   ],
   "source": [
    "df = pf.plot_bar_graph(s.stats, benchmark.stats)\n",
    "df"
   ]
  },
  {
   "cell_type": "code",
   "execution_count": null,
   "metadata": {},
   "outputs": [],
   "source": []
  }
 ],
 "metadata": {
  "kernelspec": {
   "display_name": "Python 3 (ipykernel)",
   "language": "python",
   "name": "python3"
  },
  "language_info": {
   "codemirror_mode": {
    "name": "ipython",
    "version": 3
   },
   "file_extension": ".py",
   "mimetype": "text/x-python",
   "name": "python",
   "nbconvert_exporter": "python",
   "pygments_lexer": "ipython3",
   "version": "3.10.12"
  },
  "latex_envs": {
   "LaTeX_envs_menu_present": true,
   "autoclose": false,
   "autocomplete": true,
   "bibliofile": "biblio.bib",
   "cite_by": "apalike",
   "current_citInitial": 1,
   "eqLabelWithNumbers": true,
   "eqNumInitial": 1,
   "hotkeys": {
    "equation": "Ctrl-E",
    "itemize": "Ctrl-I"
   },
   "labels_anchors": false,
   "latex_user_defs": false,
   "report_style_numbering": false,
   "user_envs_cfg": false
  }
 },
 "nbformat": 4,
 "nbformat_minor": 1
}
