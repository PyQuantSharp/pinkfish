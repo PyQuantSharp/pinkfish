{
 "cells": [
  {
   "cell_type": "markdown",
   "metadata": {},
   "source": [
    "# Dual Momentum Sector Rotation (DMSR)\n",
    "\n",
    "'Relative momentum looks at price strength with respect to other assets.\n",
    "Absolute momentum uses an asset’s own past performance to infer future\n",
    "performance. Absolute momentum can reduce downside exposure as well\n",
    "enhance returns. The best approach is to use both types of momentum\n",
    "together. That is what dual momentum is all about.'  \n",
    "https://www.optimalmomentum.com/momentum/\n",
    "\n",
    "**Buy Signal**: When the S&P 500 is above its 10-month simple moving average, buy the sectors with the biggest gains over a three-month timeframe and (optionally) has positive absolute momentum.\n",
    "\n",
    "**Sell Signal**: (Optionally) Exit all positions when the S&P 500 moves below its 10-month simple moving average on a monthly closing basis, or (optionaly) exit a single position if it has negative absolute momentum.\n",
    "\n",
    "**Rebalance**: Once per month, sell sectors that fall out of the top tier (three) and buy the sectors that move into the top tier (two or three).\n",
    "\n",
    "https://school.stockcharts.com/doku.php?id=trading_strategies:sector_rotation_roc  \n",
    "https://robotwealth.com/dual-momentum-review/  \n",
    "\n",
    "You can reproduce the results on robowealth by setting the 'end' date to (2017, 1, 1).  You can also note that these methods have NOT done so well since 2018, and especially didn't handle the COVID downturn very well."
   ]
  },
  {
   "cell_type": "code",
   "execution_count": 1,
   "metadata": {
    "ExecuteTime": {
     "end_time": "2020-02-17T05:42:08.798393Z",
     "start_time": "2020-02-17T05:42:07.455687Z"
    }
   },
   "outputs": [],
   "source": [
    "import datetime\n",
    "\n",
    "import matplotlib.pyplot as plt\n",
    "import pandas as pd\n",
    "from talib.abstract import *\n",
    "\n",
    "import pinkfish as pf\n",
    "import strategy\n",
    "\n",
    "# Format price data.\n",
    "pd.options.display.float_format = '{:0.2f}'.format\n",
    "\n",
    "%matplotlib inline"
   ]
  },
  {
   "cell_type": "code",
   "execution_count": 2,
   "metadata": {
    "ExecuteTime": {
     "end_time": "2020-02-17T05:42:08.816893Z",
     "start_time": "2020-02-17T05:42:08.808607Z"
    }
   },
   "outputs": [],
   "source": [
    "# Set size of inline plots.\n",
    "'''note: rcParams can't be in same cell as import matplotlib\n",
    "   or %matplotlib inline\n",
    "   \n",
    "   %matplotlib notebook: will lead to interactive plots embedded within\n",
    "   the notebook, you can zoom and resize the figure\n",
    "   \n",
    "   %matplotlib inline: only draw static images in the notebook\n",
    "'''\n",
    "plt.rcParams[\"figure.figsize\"] = (10, 7)"
   ]
  },
  {
   "cell_type": "markdown",
   "metadata": {},
   "source": [
    "Some global data"
   ]
  },
  {
   "cell_type": "code",
   "execution_count": 3,
   "metadata": {
    "ExecuteTime": {
     "end_time": "2020-02-17T05:42:08.835362Z",
     "start_time": "2020-02-17T05:42:08.821138Z"
    }
   },
   "outputs": [],
   "source": [
    "SP500_Sectors = ['SPY', 'XLB', 'XLE', 'XLF', 'XLI', 'XLK', 'XLP', 'XLU', 'XLV', 'XLY']\n",
    "\n",
    "Other_Sectors = ['RSP', 'DIA', 'IWM', 'QQQ', 'DAX', 'EEM', 'TLT', 'GLD', 'XHB']\n",
    "\n",
    "Diversified_Assets = ['SPY', 'TLT', 'NLY', 'GLD']\n",
    "\n",
    "Diversified_Assets_Reddit = ['IWB', 'IEV', 'EWJ', 'EPP', 'IEF', 'SHY', 'GLD']\n",
    "\n",
    "Robot_Dual_Momentum_Equities = ['SPY', 'CWI']\n",
    "\n",
    "Robot_Dual_Momentum_Bonds = ['CSJ', 'HYG']\n",
    "\n",
    "Robot_Dual_Momentum_Equities_Bonds = ['SPY', 'AGG']\n",
    "\n",
    "Robot_Wealth = ['IWM', 'SPY', 'VGK', 'IEV', 'EWJ', 'EPP', 'IEF', 'SHY', 'GLD']\n",
    "\n",
    "\n",
    "# Pick one of the above\n",
    "symbols = SP500_Sectors\n",
    "\n",
    "capital = 10000\n",
    "start = datetime.datetime(2007, 1, 1)\n",
    "#start = datetime.datetime(*pf.SP500_BEGIN)\n",
    "end = datetime.datetime.now()\n",
    "#end = datetime.datetime(2019, 12, 1)"
   ]
  },
  {
   "cell_type": "code",
   "execution_count": 4,
   "metadata": {},
   "outputs": [
    {
     "data": {
      "text/plain": [
       "{'use_adj': True,\n",
       " 'use_cache': True,\n",
       " 'lookback': 6,\n",
       " 'margin': 1,\n",
       " 'use_absolute_mom': False,\n",
       " 'use_regime_filter': False,\n",
       " 'top_tier': 2}"
      ]
     },
     "execution_count": 4,
     "metadata": {},
     "output_type": "execute_result"
    }
   ],
   "source": [
    "options = {\n",
    "    'use_adj' : True,\n",
    "    'use_cache' : True,\n",
    "    'lookback': 6,\n",
    "    'margin': 1,\n",
    "    'use_absolute_mom': False,\n",
    "    'use_regime_filter': False,\n",
    "    'top_tier': 2\n",
    "    #'top_tier': int(len(symbols)/2)\n",
    "}\n",
    "options"
   ]
  },
  {
   "cell_type": "markdown",
   "metadata": {},
   "source": [
    "Run Strategy"
   ]
  },
  {
   "cell_type": "code",
   "execution_count": 5,
   "metadata": {
    "scrolled": false
   },
   "outputs": [],
   "source": [
    "s = strategy.Strategy(symbols, capital, start, end, options)\n",
    "s.run()"
   ]
  },
  {
   "cell_type": "markdown",
   "metadata": {},
   "source": [
    "View logs"
   ]
  },
  {
   "cell_type": "code",
   "execution_count": 6,
   "metadata": {},
   "outputs": [
    {
     "data": {
      "text/html": [
       "<div>\n",
       "<style scoped>\n",
       "    .dataframe tbody tr th:only-of-type {\n",
       "        vertical-align: middle;\n",
       "    }\n",
       "\n",
       "    .dataframe tbody tr th {\n",
       "        vertical-align: top;\n",
       "    }\n",
       "\n",
       "    .dataframe thead th {\n",
       "        text-align: right;\n",
       "    }\n",
       "</style>\n",
       "<table border=\"1\" class=\"dataframe\">\n",
       "  <thead>\n",
       "    <tr style=\"text-align: right;\">\n",
       "      <th></th>\n",
       "      <th>date</th>\n",
       "      <th>seq_num</th>\n",
       "      <th>price</th>\n",
       "      <th>shares</th>\n",
       "      <th>entry_exit</th>\n",
       "      <th>direction</th>\n",
       "      <th>symbol</th>\n",
       "    </tr>\n",
       "  </thead>\n",
       "  <tbody>\n",
       "    <tr>\n",
       "      <th>0</th>\n",
       "      <td>2007-07-02</td>\n",
       "      <td>0</td>\n",
       "      <td>30.22</td>\n",
       "      <td>165</td>\n",
       "      <td>entry</td>\n",
       "      <td>LONG</td>\n",
       "      <td>XLB</td>\n",
       "    </tr>\n",
       "    <tr>\n",
       "      <th>1</th>\n",
       "      <td>2007-07-02</td>\n",
       "      <td>1</td>\n",
       "      <td>47.70</td>\n",
       "      <td>104</td>\n",
       "      <td>entry</td>\n",
       "      <td>LONG</td>\n",
       "      <td>XLE</td>\n",
       "    </tr>\n",
       "    <tr>\n",
       "      <th>2</th>\n",
       "      <td>2007-08-01</td>\n",
       "      <td>2</td>\n",
       "      <td>29.12</td>\n",
       "      <td>165</td>\n",
       "      <td>exit</td>\n",
       "      <td>LONG</td>\n",
       "      <td>XLB</td>\n",
       "    </tr>\n",
       "    <tr>\n",
       "      <th>3</th>\n",
       "      <td>2007-08-01</td>\n",
       "      <td>3</td>\n",
       "      <td>46.76</td>\n",
       "      <td>1</td>\n",
       "      <td>exit</td>\n",
       "      <td>LONG</td>\n",
       "      <td>XLE</td>\n",
       "    </tr>\n",
       "    <tr>\n",
       "      <th>4</th>\n",
       "      <td>2007-08-01</td>\n",
       "      <td>4</td>\n",
       "      <td>29.75</td>\n",
       "      <td>163</td>\n",
       "      <td>entry</td>\n",
       "      <td>LONG</td>\n",
       "      <td>XLI</td>\n",
       "    </tr>\n",
       "  </tbody>\n",
       "</table>\n",
       "</div>"
      ],
      "text/plain": [
       "        date seq_num  price shares entry_exit direction symbol\n",
       "0 2007-07-02       0  30.22    165      entry      LONG    XLB\n",
       "1 2007-07-02       1  47.70    104      entry      LONG    XLE\n",
       "2 2007-08-01       2  29.12    165       exit      LONG    XLB\n",
       "3 2007-08-01       3  46.76      1       exit      LONG    XLE\n",
       "4 2007-08-01       4  29.75    163      entry      LONG    XLI"
      ]
     },
     "execution_count": 6,
     "metadata": {},
     "output_type": "execute_result"
    }
   ],
   "source": [
    "s.rlog.head()"
   ]
  },
  {
   "cell_type": "code",
   "execution_count": 7,
   "metadata": {},
   "outputs": [
    {
     "data": {
      "text/html": [
       "<div>\n",
       "<style scoped>\n",
       "    .dataframe tbody tr th:only-of-type {\n",
       "        vertical-align: middle;\n",
       "    }\n",
       "\n",
       "    .dataframe tbody tr th {\n",
       "        vertical-align: top;\n",
       "    }\n",
       "\n",
       "    .dataframe thead th {\n",
       "        text-align: right;\n",
       "    }\n",
       "</style>\n",
       "<table border=\"1\" class=\"dataframe\">\n",
       "  <thead>\n",
       "    <tr style=\"text-align: right;\">\n",
       "      <th></th>\n",
       "      <th>entry_date</th>\n",
       "      <th>entry_price</th>\n",
       "      <th>exit_date</th>\n",
       "      <th>exit_price</th>\n",
       "      <th>pl_points</th>\n",
       "      <th>pl_cash</th>\n",
       "      <th>qty</th>\n",
       "      <th>cumul_total</th>\n",
       "      <th>direction</th>\n",
       "      <th>symbol</th>\n",
       "    </tr>\n",
       "  </thead>\n",
       "  <tbody>\n",
       "    <tr>\n",
       "      <th>262</th>\n",
       "      <td>2021-01-04</td>\n",
       "      <td>86.14</td>\n",
       "      <td>2021-02-01</td>\n",
       "      <td>85.39</td>\n",
       "      <td>-0.76</td>\n",
       "      <td>-0.76</td>\n",
       "      <td>1</td>\n",
       "      <td>12453.34</td>\n",
       "      <td>LONG</td>\n",
       "      <td>XLI</td>\n",
       "    </tr>\n",
       "    <tr>\n",
       "      <th>263</th>\n",
       "      <td>2021-01-04</td>\n",
       "      <td>28.95</td>\n",
       "      <td>2021-03-01</td>\n",
       "      <td>33.17</td>\n",
       "      <td>4.22</td>\n",
       "      <td>105.53</td>\n",
       "      <td>25</td>\n",
       "      <td>12558.88</td>\n",
       "      <td>LONG</td>\n",
       "      <td>XLF</td>\n",
       "    </tr>\n",
       "    <tr>\n",
       "      <th>264</th>\n",
       "      <td>2021-01-04</td>\n",
       "      <td>28.95</td>\n",
       "      <td>2021-04-01</td>\n",
       "      <td>34.47</td>\n",
       "      <td>5.52</td>\n",
       "      <td>1992.11</td>\n",
       "      <td>361</td>\n",
       "      <td>14550.99</td>\n",
       "      <td>LONG</td>\n",
       "      <td>XLF</td>\n",
       "    </tr>\n",
       "    <tr>\n",
       "      <th>265</th>\n",
       "      <td>2021-02-01</td>\n",
       "      <td>165.96</td>\n",
       "      <td>2021-03-01</td>\n",
       "      <td>164.67</td>\n",
       "      <td>-1.29</td>\n",
       "      <td>-86.29</td>\n",
       "      <td>67</td>\n",
       "      <td>14464.70</td>\n",
       "      <td>LONG</td>\n",
       "      <td>XLY</td>\n",
       "    </tr>\n",
       "    <tr>\n",
       "      <th>266</th>\n",
       "      <td>2021-03-01</td>\n",
       "      <td>48.88</td>\n",
       "      <td>2021-04-01</td>\n",
       "      <td>50.31</td>\n",
       "      <td>1.43</td>\n",
       "      <td>4.29</td>\n",
       "      <td>3</td>\n",
       "      <td>14468.98</td>\n",
       "      <td>LONG</td>\n",
       "      <td>XLE</td>\n",
       "    </tr>\n",
       "  </tbody>\n",
       "</table>\n",
       "</div>"
      ],
      "text/plain": [
       "    entry_date  entry_price  exit_date  exit_price  pl_points  pl_cash  qty  \\\n",
       "262 2021-01-04        86.14 2021-02-01       85.39      -0.76    -0.76    1   \n",
       "263 2021-01-04        28.95 2021-03-01       33.17       4.22   105.53   25   \n",
       "264 2021-01-04        28.95 2021-04-01       34.47       5.52  1992.11  361   \n",
       "265 2021-02-01       165.96 2021-03-01      164.67      -1.29   -86.29   67   \n",
       "266 2021-03-01        48.88 2021-04-01       50.31       1.43     4.29    3   \n",
       "\n",
       "     cumul_total direction symbol  \n",
       "262     12453.34      LONG    XLI  \n",
       "263     12558.88      LONG    XLF  \n",
       "264     14550.99      LONG    XLF  \n",
       "265     14464.70      LONG    XLY  \n",
       "266     14468.98      LONG    XLE  "
      ]
     },
     "execution_count": 7,
     "metadata": {},
     "output_type": "execute_result"
    }
   ],
   "source": [
    "s.tlog.tail()"
   ]
  },
  {
   "cell_type": "code",
   "execution_count": 8,
   "metadata": {
    "scrolled": false
   },
   "outputs": [
    {
     "data": {
      "text/html": [
       "<div>\n",
       "<style scoped>\n",
       "    .dataframe tbody tr th:only-of-type {\n",
       "        vertical-align: middle;\n",
       "    }\n",
       "\n",
       "    .dataframe tbody tr th {\n",
       "        vertical-align: top;\n",
       "    }\n",
       "\n",
       "    .dataframe thead th {\n",
       "        text-align: right;\n",
       "    }\n",
       "</style>\n",
       "<table border=\"1\" class=\"dataframe\">\n",
       "  <thead>\n",
       "    <tr style=\"text-align: right;\">\n",
       "      <th></th>\n",
       "      <th>high</th>\n",
       "      <th>low</th>\n",
       "      <th>close</th>\n",
       "      <th>shares</th>\n",
       "      <th>cash</th>\n",
       "      <th>leverage</th>\n",
       "      <th>state</th>\n",
       "    </tr>\n",
       "    <tr>\n",
       "      <th>date</th>\n",
       "      <th></th>\n",
       "      <th></th>\n",
       "      <th></th>\n",
       "      <th></th>\n",
       "      <th></th>\n",
       "      <th></th>\n",
       "      <th></th>\n",
       "    </tr>\n",
       "  </thead>\n",
       "  <tbody>\n",
       "    <tr>\n",
       "      <th>2021-03-26</th>\n",
       "      <td>24433.24</td>\n",
       "      <td>24433.24</td>\n",
       "      <td>24433.24</td>\n",
       "      <td>364</td>\n",
       "      <td>11874.38</td>\n",
       "      <td>1.00</td>\n",
       "      <td>-</td>\n",
       "    </tr>\n",
       "    <tr>\n",
       "      <th>2021-03-29</th>\n",
       "      <td>24323.14</td>\n",
       "      <td>24323.14</td>\n",
       "      <td>24323.14</td>\n",
       "      <td>364</td>\n",
       "      <td>11874.38</td>\n",
       "      <td>1.00</td>\n",
       "      <td>-</td>\n",
       "    </tr>\n",
       "    <tr>\n",
       "      <th>2021-03-30</th>\n",
       "      <td>24408.49</td>\n",
       "      <td>24408.49</td>\n",
       "      <td>24408.49</td>\n",
       "      <td>364</td>\n",
       "      <td>11874.38</td>\n",
       "      <td>1.00</td>\n",
       "      <td>-</td>\n",
       "    </tr>\n",
       "    <tr>\n",
       "      <th>2021-03-31</th>\n",
       "      <td>24313.61</td>\n",
       "      <td>24313.61</td>\n",
       "      <td>24313.61</td>\n",
       "      <td>364</td>\n",
       "      <td>11874.38</td>\n",
       "      <td>1.00</td>\n",
       "      <td>-</td>\n",
       "    </tr>\n",
       "    <tr>\n",
       "      <th>2021-04-01</th>\n",
       "      <td>24468.98</td>\n",
       "      <td>24468.98</td>\n",
       "      <td>24468.98</td>\n",
       "      <td>0</td>\n",
       "      <td>24468.98</td>\n",
       "      <td>1.00</td>\n",
       "      <td>X</td>\n",
       "    </tr>\n",
       "  </tbody>\n",
       "</table>\n",
       "</div>"
      ],
      "text/plain": [
       "               high      low    close  shares     cash  leverage state\n",
       "date                                                                  \n",
       "2021-03-26 24433.24 24433.24 24433.24     364 11874.38      1.00     -\n",
       "2021-03-29 24323.14 24323.14 24323.14     364 11874.38      1.00     -\n",
       "2021-03-30 24408.49 24408.49 24408.49     364 11874.38      1.00     -\n",
       "2021-03-31 24313.61 24313.61 24313.61     364 11874.38      1.00     -\n",
       "2021-04-01 24468.98 24468.98 24468.98       0 24468.98      1.00     X"
      ]
     },
     "execution_count": 8,
     "metadata": {},
     "output_type": "execute_result"
    }
   ],
   "source": [
    "s.dbal.tail()"
   ]
  },
  {
   "cell_type": "markdown",
   "metadata": {},
   "source": [
    "Generate strategy stats - display all available stats"
   ]
  },
  {
   "cell_type": "code",
   "execution_count": 9,
   "metadata": {
    "scrolled": false
   },
   "outputs": [
    {
     "name": "stdout",
     "output_type": "stream",
     "text": [
      "start                                                   2007-06-11\n",
      "end                                                     2021-04-01\n",
      "beginning_balance                                            10000\n",
      "ending_balance                                            24468.98\n",
      "total_net_profit                                          14468.98\n",
      "gross_profit                                              27132.56\n",
      "gross_loss                                               -12663.58\n",
      "profit_factor                                                 2.14\n",
      "return_on_initial_capital                                   144.69\n",
      "annual_return_rate                                            6.70\n",
      "trading_period                           13 years 9 months 21 days\n",
      "pct_time_in_market                                           98.33\n",
      "margin                                                           1\n",
      "avg_leverage                                                  1.00\n",
      "max_leverage                                                  1.00\n",
      "min_leverage                                                  1.00\n",
      "total_num_trades                                               267\n",
      "trades_per_year                                              19.34\n",
      "num_winning_trades                                             184\n",
      "num_losing_trades                                               83\n",
      "num_even_trades                                                  0\n",
      "pct_profitable_trades                                        68.91\n",
      "avg_profit_per_trade                                         54.19\n",
      "avg_profit_per_winning_trade                                147.46\n",
      "avg_loss_per_losing_trade                                  -152.57\n",
      "ratio_avg_profit_win_loss                                     0.97\n",
      "largest_profit_winning_trade                               1992.11\n",
      "largest_loss_losing_trade                                 -1398.51\n",
      "num_winning_points                                          667.40\n",
      "num_losing_points                                          -191.43\n",
      "total_net_points                                            475.97\n",
      "avg_points                                                    1.78\n",
      "largest_points_winning_trade                                 34.82\n",
      "largest_points_losing_trade                                 -11.10\n",
      "avg_pct_gain_per_trade                                        3.35\n",
      "largest_pct_winning_trade                                    45.93\n",
      "largest_pct_losing_trade                                    -31.72\n",
      "expected_shortfall                                          -23.77\n",
      "max_consecutive_winning_trades                                  17\n",
      "max_consecutive_losing_trades                                   10\n",
      "avg_bars_winning_trades                                      68.82\n",
      "avg_bars_losing_trades                                       42.93\n",
      "max_closed_out_drawdown                                     -42.00\n",
      "max_closed_out_drawdown_peak_date                       2008-05-19\n",
      "max_closed_out_drawdown_trough_date                     2009-03-09\n",
      "max_closed_out_drawdown_recovery_date                   2011-01-31\n",
      "drawdown_loss_period                                           294\n",
      "drawdown_recovery_period                                       693\n",
      "annualized_return_over_max_drawdown                           0.16\n",
      "max_intra_day_drawdown                                      -42.00\n",
      "avg_yearly_closed_out_drawdown                              -14.40\n",
      "max_yearly_closed_out_drawdown                              -42.00\n",
      "avg_monthly_closed_out_drawdown                              -3.83\n",
      "max_monthly_closed_out_drawdown                             -24.67\n",
      "avg_weekly_closed_out_drawdown                               -1.53\n",
      "max_weekly_closed_out_drawdown                              -15.89\n",
      "avg_yearly_closed_out_runup                                  23.00\n",
      "max_yearly_closed_out_runup                                  73.73\n",
      "avg_monthly_closed_out_runup                                  4.40\n",
      "max_monthly_closed_out_runup                                 30.55\n",
      "avg_weekly_closed_out_runup                                   1.70\n",
      "max_weekly_closed_out_runup                                  17.69\n",
      "pct_profitable_years                                         76.53\n",
      "best_year                                                    67.40\n",
      "worst_year                                                  -36.44\n",
      "avg_year                                                      7.44\n",
      "annual_std                                                   14.37\n",
      "pct_profitable_months                                        62.29\n",
      "best_month                                                   25.01\n",
      "worst_month                                                 -24.17\n",
      "avg_month                                                     0.61\n",
      "monthly_std                                                   4.37\n",
      "pct_profitable_weeks                                         57.44\n",
      "best_week                                                    17.69\n",
      "worst_week                                                  -15.89\n",
      "avg_week                                                      0.15\n",
      "weekly_std                                                    2.26\n",
      "pct_profitable_days                                          53.38\n",
      "best_day                                                      9.18\n",
      "worst_day                                                   -11.74\n",
      "avg_day                                                       0.03\n",
      "daily_std                                                     1.14\n",
      "sharpe_ratio                                                  0.45\n",
      "sharpe_ratio_max                                              0.50\n",
      "sharpe_ratio_min                                              0.40\n",
      "sortino_ratio                                                 0.55\n",
      "dtype: object\n"
     ]
    }
   ],
   "source": [
    "pf.print_full(s.stats)"
   ]
  },
  {
   "cell_type": "markdown",
   "metadata": {},
   "source": [
    "Run Benchmark, Retrieve benchmark logs, and Generate benchmark stats"
   ]
  },
  {
   "cell_type": "code",
   "execution_count": 10,
   "metadata": {},
   "outputs": [],
   "source": [
    "benchmark = pf.Benchmark('SPY', s.capital, s.start, s.end, use_adj=True)\n",
    "benchmark.run()"
   ]
  },
  {
   "cell_type": "markdown",
   "metadata": {},
   "source": [
    "Plot Equity Curves: Strategy vs Benchmark"
   ]
  },
  {
   "cell_type": "code",
   "execution_count": 11,
   "metadata": {
    "scrolled": false
   },
   "outputs": [
    {
     "data": {
      "image/png": "[encoded data removed]",
      "text/plain": [
       "<Figure size 720x504 with 1 Axes>"
      ]
     },
     "metadata": {
      "needs_background": "light"
     },
     "output_type": "display_data"
    }
   ],
   "source": [
    "pf.plot_equity_curve(s.dbal, benchmark=benchmark.dbal)"
   ]
  },
  {
   "cell_type": "markdown",
   "metadata": {},
   "source": [
    "Bar Graph: Strategy vs Benchmark"
   ]
  },
  {
   "cell_type": "code",
   "execution_count": 12,
   "metadata": {},
   "outputs": [
    {
     "data": {
      "text/html": [
       "<div>\n",
       "<style scoped>\n",
       "    .dataframe tbody tr th:only-of-type {\n",
       "        vertical-align: middle;\n",
       "    }\n",
       "\n",
       "    .dataframe tbody tr th {\n",
       "        vertical-align: top;\n",
       "    }\n",
       "\n",
       "    .dataframe thead th {\n",
       "        text-align: right;\n",
       "    }\n",
       "</style>\n",
       "<table border=\"1\" class=\"dataframe\">\n",
       "  <thead>\n",
       "    <tr style=\"text-align: right;\">\n",
       "      <th></th>\n",
       "      <th>strategy</th>\n",
       "      <th>benchmark</th>\n",
       "    </tr>\n",
       "  </thead>\n",
       "  <tbody>\n",
       "    <tr>\n",
       "      <th>annual_return_rate</th>\n",
       "      <td>6.70</td>\n",
       "      <td>9.68</td>\n",
       "    </tr>\n",
       "    <tr>\n",
       "      <th>max_closed_out_drawdown</th>\n",
       "      <td>-42.00</td>\n",
       "      <td>-54.77</td>\n",
       "    </tr>\n",
       "    <tr>\n",
       "      <th>annualized_return_over_max_drawdown</th>\n",
       "      <td>0.16</td>\n",
       "      <td>0.18</td>\n",
       "    </tr>\n",
       "    <tr>\n",
       "      <th>best_month</th>\n",
       "      <td>25.01</td>\n",
       "      <td>23.23</td>\n",
       "    </tr>\n",
       "    <tr>\n",
       "      <th>worst_month</th>\n",
       "      <td>-24.17</td>\n",
       "      <td>-30.90</td>\n",
       "    </tr>\n",
       "    <tr>\n",
       "      <th>sharpe_ratio</th>\n",
       "      <td>0.45</td>\n",
       "      <td>0.55</td>\n",
       "    </tr>\n",
       "    <tr>\n",
       "      <th>sortino_ratio</th>\n",
       "      <td>0.55</td>\n",
       "      <td>0.66</td>\n",
       "    </tr>\n",
       "    <tr>\n",
       "      <th>monthly_std</th>\n",
       "      <td>4.37</td>\n",
       "      <td>4.82</td>\n",
       "    </tr>\n",
       "    <tr>\n",
       "      <th>annual_std</th>\n",
       "      <td>14.37</td>\n",
       "      <td>16.77</td>\n",
       "    </tr>\n",
       "  </tbody>\n",
       "</table>\n",
       "</div>"
      ],
      "text/plain": [
       "                                     strategy  benchmark\n",
       "annual_return_rate                       6.70       9.68\n",
       "max_closed_out_drawdown                -42.00     -54.77\n",
       "annualized_return_over_max_drawdown      0.16       0.18\n",
       "best_month                              25.01      23.23\n",
       "worst_month                            -24.17     -30.90\n",
       "sharpe_ratio                             0.45       0.55\n",
       "sortino_ratio                            0.55       0.66\n",
       "monthly_std                              4.37       4.82\n",
       "annual_std                              14.37      16.77"
      ]
     },
     "execution_count": 12,
     "metadata": {},
     "output_type": "execute_result"
    },
    {
     "data": {
      "image/png": "[encoded data removed]",
      "text/plain": [
       "<Figure size 720x504 with 1 Axes>"
      ]
     },
     "metadata": {
      "needs_background": "light"
     },
     "output_type": "display_data"
    }
   ],
   "source": [
    "df = pf.plot_bar_graph(s.stats, benchmark.stats)\n",
    "df"
   ]
  },
  {
   "cell_type": "code",
   "execution_count": null,
   "metadata": {},
   "outputs": [],
   "source": []
  }
 ],
 "metadata": {
  "kernelspec": {
   "display_name": "Python 3",
   "language": "python",
   "name": "python3"
  },
  "language_info": {
   "codemirror_mode": {
    "name": "ipython",
    "version": 3
   },
   "file_extension": ".py",
   "mimetype": "text/x-python",
   "name": "python",
   "nbconvert_exporter": "python",
   "pygments_lexer": "ipython3",
   "version": "3.8.5"
  },
  "latex_envs": {
   "LaTeX_envs_menu_present": true,
   "autoclose": false,
   "autocomplete": true,
   "bibliofile": "biblio.bib",
   "cite_by": "apalike",
   "current_citInitial": 1,
   "eqLabelWithNumbers": true,
   "eqNumInitial": 1,
   "hotkeys": {
    "equation": "Ctrl-E",
    "itemize": "Ctrl-I"
   },
   "labels_anchors": false,
   "latex_user_defs": false,
   "report_style_numbering": false,
   "user_envs_cfg": false
  }
 },
 "nbformat": 4,
 "nbformat_minor": 1
}
