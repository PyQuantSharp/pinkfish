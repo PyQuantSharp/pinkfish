{
 "cells": [
  {
   "cell_type": "markdown",
   "metadata": {},
   "source": [
    "# Golden Cross / Death Cross S&P 500 index (^GSPC)\n",
    "\n",
    "    1. sma50>sma200, buy\n",
    "    2. sma50<sma200, sell your long position."
   ]
  },
  {
   "cell_type": "code",
   "execution_count": 1,
   "metadata": {
    "ExecuteTime": {
     "end_time": "2020-02-16T23:06:25.607999Z",
     "start_time": "2020-02-16T23:06:24.350022Z"
    }
   },
   "outputs": [],
   "source": [
    "import datetime\n",
    "\n",
    "import matplotlib.pyplot as plt\n",
    "import pandas as pd\n",
    "from talib.abstract import *\n",
    "\n",
    "import pinkfish as pf\n",
    "\n",
    "# Format price data\n",
    "pd.options.display.float_format = '{:0.2f}'.format\n",
    "\n",
    "%matplotlib inline"
   ]
  },
  {
   "cell_type": "code",
   "execution_count": 2,
   "metadata": {
    "ExecuteTime": {
     "end_time": "2020-02-16T23:06:25.629044Z",
     "start_time": "2020-02-16T23:06:25.618153Z"
    }
   },
   "outputs": [],
   "source": [
    "# Set size of inline plots\n",
    "'''note: rcParams can't be in same cell as import matplotlib\n",
    "   or %matplotlib inline\n",
    "   \n",
    "   %matplotlib notebook: will lead to interactive plots embedded within\n",
    "   the notebook, you can zoom and resize the figure\n",
    "   \n",
    "   %matplotlib inline: only draw static images in the notebook\n",
    "'''\n",
    "plt.rcParams[\"figure.figsize\"] = (10, 7)"
   ]
  },
  {
   "cell_type": "markdown",
   "metadata": {},
   "source": [
    "Some global data"
   ]
  },
  {
   "cell_type": "code",
   "execution_count": 3,
   "metadata": {
    "ExecuteTime": {
     "end_time": "2020-02-16T23:06:25.646650Z",
     "start_time": "2020-02-16T23:06:25.633319Z"
    }
   },
   "outputs": [],
   "source": [
    "symbol = '^GSPC'\n",
    "#symbol = 'SPY'\n",
    "capital = 10000\n",
    "start = datetime.datetime(1900, 1, 1)\n",
    "#start = datetime.datetime(*pf.SP500_BEGIN)\n",
    "end = datetime.datetime.now()\n",
    "\n",
    "use_adj=True"
   ]
  },
  {
   "cell_type": "markdown",
   "metadata": {},
   "source": [
    "Prepare timeseries"
   ]
  },
  {
   "cell_type": "code",
   "execution_count": 4,
   "metadata": {
    "ExecuteTime": {
     "end_time": "2020-02-16T23:06:25.832676Z",
     "start_time": "2020-02-16T23:06:25.798816Z"
    }
   },
   "outputs": [],
   "source": [
    "# Fetch and select timeseries.\n",
    "ts = pf.fetch_timeseries(symbol,)\n",
    "ts = pf.select_tradeperiod(ts, start, end, use_adj=use_adj)\n",
    "\n",
    "# Add technical indicator: day sma regime filter.\n",
    "ts['regime'] = \\\n",
    "    pf.CROSSOVER(ts, timeperiod_fast=50, timeperiod_slow=200)\n",
    "\n",
    "# Finalize the time series before implementing trading strategy.\n",
    "ts, start = pf.finalize_timeseries(ts, start)\n",
    "\n",
    "# Create Trade Log (tlog); Create Daily Balance (dbal).\n",
    "tlog = pf.TradeLog(symbol)\n",
    "dbal = pf.DailyBal()"
   ]
  },
  {
   "cell_type": "markdown",
   "metadata": {},
   "source": [
    "Algo: Buy when 50 day ma crosses above 200 day ma.  Sell when 50 day ma crosses below 200 day ma. "
   ]
  },
  {
   "cell_type": "code",
   "execution_count": 5,
   "metadata": {
    "ExecuteTime": {
     "end_time": "2020-02-16T23:06:26.836322Z",
     "start_time": "2020-02-16T23:06:26.583526Z"
    },
    "scrolled": false
   },
   "outputs": [],
   "source": [
    "pf.TradeLog.cash = capital\n",
    "\n",
    "for i, row in enumerate(ts.itertuples()):\n",
    "\n",
    "    date = row.Index.to_pydatetime()\n",
    "    high = row.high; low = row.low; close = row.close; \n",
    "    end_flag = pf.is_last_row(ts, i)\n",
    "\n",
    "    # Buy\n",
    "    # Note ts['regime'][i-1] is regime for previous day\n",
    "    # We want to buy only on the day of a moving average crossover\n",
    "    # i.e. yesteraday regime is negative, today it is positive\n",
    "    if tlog.shares == 0:\n",
    "        if row.regime > 0 and ts['regime'][i-1] < 0:\n",
    "            tlog.buy(date, close)  \n",
    "    # Sell\n",
    "    else:\n",
    "        if row.regime < 0 or end_flag:\n",
    "            tlog.sell(date, close)\n",
    "\n",
    "    # record daily balance\n",
    "    dbal.append(date, high, low, close)       "
   ]
  },
  {
   "cell_type": "markdown",
   "metadata": {},
   "source": [
    "Retrieve logs"
   ]
  },
  {
   "cell_type": "code",
   "execution_count": 6,
   "metadata": {
    "ExecuteTime": {
     "end_time": "2020-02-16T23:06:26.861694Z",
     "start_time": "2020-02-16T23:06:26.846951Z"
    }
   },
   "outputs": [],
   "source": [
    "tlog = tlog.get_log()\n",
    "dbal = dbal.get_log(tlog)"
   ]
  },
  {
   "cell_type": "markdown",
   "metadata": {},
   "source": [
    "Generate strategy stats - display all available stats"
   ]
  },
  {
   "cell_type": "code",
   "execution_count": 7,
   "metadata": {
    "ExecuteTime": {
     "end_time": "2020-02-16T23:06:28.373532Z",
     "start_time": "2020-02-16T23:06:27.993693Z"
    },
    "scrolled": false
   },
   "outputs": [
    {
     "name": "stdout",
     "output_type": "stream",
     "text": [
      "start                                                  1928-10-16\n",
      "end                                                    2020-10-16\n",
      "beginning_balance                                           10000\n",
      "ending_balance                                         2392098.42\n",
      "total_net_profit                                       2382098.42\n",
      "gross_profit                                           2736959.76\n",
      "gross_loss                                             -354861.34\n",
      "profit_factor                                                7.71\n",
      "return_on_initial_capital                                23820.98\n",
      "annual_return_rate                                           6.13\n",
      "trading_period                           92 years 0 months 0 days\n",
      "pct_time_in_market                                          65.96\n",
      "margin                                                          1\n",
      "avg_leverage                                                 1.00\n",
      "max_leverage                                                 1.00\n",
      "min_leverage                                                 1.00\n",
      "total_num_trades                                               48\n",
      "trades_per_year                                              0.52\n",
      "num_winning_trades                                             32\n",
      "num_losing_trades                                              16\n",
      "num_even_trades                                                 0\n",
      "pct_profitable_trades                                       66.67\n",
      "avg_profit_per_trade                                     49627.05\n",
      "avg_profit_per_winning_trade                             85529.99\n",
      "avg_loss_per_losing_trade                               -22178.83\n",
      "ratio_avg_profit_win_loss                                    3.86\n",
      "largest_profit_winning_trade                            669018.90\n",
      "largest_loss_losing_trade                              -197964.45\n",
      "num_winning_points                                        3270.01\n",
      "num_losing_points                                         -405.75\n",
      "total_net_points                                          2864.26\n",
      "avg_points                                                  59.67\n",
      "largest_points_winning_trade                               676.46\n",
      "largest_points_losing_trade                               -240.54\n",
      "avg_pct_gain_per_trade                                      14.65\n",
      "largest_pct_winning_trade                                  120.93\n",
      "largest_pct_losing_trade                                   -17.03\n",
      "expected_shortfall                                              0\n",
      "max_consecutive_winning_trades                                  8\n",
      "max_consecutive_losing_trades                                   4\n",
      "avg_bars_winning_trades                                    426.28\n",
      "avg_bars_losing_trades                                     103.19\n",
      "max_closed_out_drawdown                                    -36.86\n",
      "max_closed_out_drawdown_peak_date                      1937-03-10\n",
      "max_closed_out_drawdown_trough_date                    1941-11-13\n",
      "max_closed_out_drawdown_recovery_date                  1945-05-03\n",
      "drawdown_loss_period                                         1709\n",
      "drawdown_recovery_period                                     1267\n",
      "annualized_return_over_max_drawdown                          0.17\n",
      "max_intra_day_drawdown                                     -36.86\n",
      "avg_yearly_closed_out_drawdown                              -9.44\n",
      "max_yearly_closed_out_drawdown                             -35.09\n",
      "avg_monthly_closed_out_drawdown                             -2.32\n",
      "max_monthly_closed_out_drawdown                            -31.47\n",
      "avg_weekly_closed_out_drawdown                              -0.88\n",
      "max_weekly_closed_out_drawdown                             -28.51\n",
      "avg_yearly_closed_out_runup                                 16.58\n",
      "max_yearly_closed_out_runup                                 61.85\n",
      "avg_monthly_closed_out_runup                                 2.82\n",
      "max_monthly_closed_out_runup                                26.55\n",
      "avg_weekly_closed_out_runup                                  1.02\n",
      "max_weekly_closed_out_runup                                 23.14\n",
      "pct_profitable_years                                        61.35\n",
      "best_year                                                   53.98\n",
      "worst_year                                                 -28.66\n",
      "avg_year                                                     6.96\n",
      "annual_std                                                  12.95\n",
      "pct_profitable_months                                       43.09\n",
      "best_month                                                  22.49\n",
      "worst_month                                                -30.91\n",
      "avg_month                                                    0.53\n",
      "monthly_std                                                  3.29\n",
      "pct_profitable_weeks                                        38.55\n",
      "best_week                                                   23.14\n",
      "worst_week                                                 -27.33\n",
      "avg_week                                                     0.13\n",
      "weekly_std                                                   1.75\n",
      "pct_profitable_days                                         35.32\n",
      "best_day                                                    16.60\n",
      "worst_day                                                  -20.47\n",
      "avg_day                                                      0.03\n",
      "daily_std                                                    0.81\n",
      "sharpe_ratio                                                 0.53\n",
      "sharpe_ratio_max                                             0.55\n",
      "sharpe_ratio_min                                             0.51\n",
      "sortino_ratio                                                0.52\n",
      "dtype: object\n"
     ]
    }
   ],
   "source": [
    "stats = pf.stats(ts, tlog, dbal, capital)\n",
    "pf.print_full(stats)"
   ]
  },
  {
   "cell_type": "markdown",
   "metadata": {},
   "source": [
    "Benchmark: Run, retrieve logs, generate stats"
   ]
  },
  {
   "cell_type": "code",
   "execution_count": 8,
   "metadata": {
    "ExecuteTime": {
     "end_time": "2020-02-16T23:06:28.662544Z",
     "start_time": "2020-02-16T23:06:28.382522Z"
    }
   },
   "outputs": [],
   "source": [
    "benchmark = pf.Benchmark(symbol, capital, start, end, use_adj=use_adj)\n",
    "benchmark.run()"
   ]
  },
  {
   "cell_type": "markdown",
   "metadata": {},
   "source": [
    "Plot Equity Curves: Strategy vs Benchmark"
   ]
  },
  {
   "cell_type": "code",
   "execution_count": 9,
   "metadata": {
    "ExecuteTime": {
     "end_time": "2020-02-16T23:06:30.229456Z",
     "start_time": "2020-02-16T23:06:29.905725Z"
    }
   },
   "outputs": [
    {
     "data": {
      "image/png": "[encoded data removed]",
      "text/plain": [
       "<Figure size 720x504 with 1 Axes>"
      ]
     },
     "metadata": {
      "needs_background": "light"
     },
     "output_type": "display_data"
    }
   ],
   "source": [
    "pf.plot_equity_curve(dbal, benchmark=benchmark.dbal)"
   ]
  },
  {
   "cell_type": "markdown",
   "metadata": {},
   "source": [
    "Plot Trades"
   ]
  },
  {
   "cell_type": "code",
   "execution_count": 10,
   "metadata": {
    "ExecuteTime": {
     "end_time": "2020-02-16T23:06:30.548129Z",
     "start_time": "2020-02-16T23:06:30.236358Z"
    }
   },
   "outputs": [
    {
     "data": {
      "image/png": "[encoded data removed]",
      "text/plain": [
       "<Figure size 720x504 with 1 Axes>"
      ]
     },
     "metadata": {
      "needs_background": "light"
     },
     "output_type": "display_data"
    }
   ],
   "source": [
    "pf.plot_trades(dbal, benchmark=benchmark.dbal)"
   ]
  },
  {
   "cell_type": "markdown",
   "metadata": {},
   "source": [
    "Strategy vs Benchmark"
   ]
  },
  {
   "cell_type": "code",
   "execution_count": 11,
   "metadata": {
    "ExecuteTime": {
     "end_time": "2020-02-16T23:06:30.582747Z",
     "start_time": "2020-02-16T23:06:30.555947Z"
    }
   },
   "outputs": [
    {
     "data": {
      "text/html": [
       "<div>\n",
       "<style scoped>\n",
       "    .dataframe tbody tr th:only-of-type {\n",
       "        vertical-align: middle;\n",
       "    }\n",
       "\n",
       "    .dataframe tbody tr th {\n",
       "        vertical-align: top;\n",
       "    }\n",
       "\n",
       "    .dataframe thead th {\n",
       "        text-align: right;\n",
       "    }\n",
       "</style>\n",
       "<table border=\"1\" class=\"dataframe\">\n",
       "  <thead>\n",
       "    <tr style=\"text-align: right;\">\n",
       "      <th></th>\n",
       "      <th>strategy</th>\n",
       "      <th>benchmark</th>\n",
       "    </tr>\n",
       "  </thead>\n",
       "  <tbody>\n",
       "    <tr>\n",
       "      <th>beginning_balance</th>\n",
       "      <td>$10,000.00</td>\n",
       "      <td>$10,000.00</td>\n",
       "    </tr>\n",
       "    <tr>\n",
       "      <th>ending_balance</th>\n",
       "      <td>$2,392,098.42</td>\n",
       "      <td>$1,602,561.43</td>\n",
       "    </tr>\n",
       "    <tr>\n",
       "      <th>total_net_profit</th>\n",
       "      <td>$2,382,098.42</td>\n",
       "      <td>$1,592,561.43</td>\n",
       "    </tr>\n",
       "    <tr>\n",
       "      <th>gross_profit</th>\n",
       "      <td>$2,736,959.76</td>\n",
       "      <td>$1,592,561.43</td>\n",
       "    </tr>\n",
       "    <tr>\n",
       "      <th>gross_loss</th>\n",
       "      <td>-$354,861.34</td>\n",
       "      <td>$0.00</td>\n",
       "    </tr>\n",
       "  </tbody>\n",
       "</table>\n",
       "</div>"
      ],
      "text/plain": [
       "                        strategy      benchmark\n",
       "beginning_balance     $10,000.00     $10,000.00\n",
       "ending_balance     $2,392,098.42  $1,602,561.43\n",
       "total_net_profit   $2,382,098.42  $1,592,561.43\n",
       "gross_profit       $2,736,959.76  $1,592,561.43\n",
       "gross_loss          -$354,861.34          $0.00"
      ]
     },
     "execution_count": 11,
     "metadata": {},
     "output_type": "execute_result"
    }
   ],
   "source": [
    "df = pf.summary(stats, benchmark.stats, metrics=pf.currency_metrics)\n",
    "df"
   ]
  },
  {
   "cell_type": "code",
   "execution_count": 12,
   "metadata": {
    "ExecuteTime": {
     "end_time": "2020-02-16T23:06:31.139756Z",
     "start_time": "2020-02-16T23:06:30.587570Z"
    },
    "scrolled": false
   },
   "outputs": [
    {
     "data": {
      "text/html": [
       "<div>\n",
       "<style scoped>\n",
       "    .dataframe tbody tr th:only-of-type {\n",
       "        vertical-align: middle;\n",
       "    }\n",
       "\n",
       "    .dataframe tbody tr th {\n",
       "        vertical-align: top;\n",
       "    }\n",
       "\n",
       "    .dataframe thead th {\n",
       "        text-align: right;\n",
       "    }\n",
       "</style>\n",
       "<table border=\"1\" class=\"dataframe\">\n",
       "  <thead>\n",
       "    <tr style=\"text-align: right;\">\n",
       "      <th></th>\n",
       "      <th>strategy</th>\n",
       "      <th>benchmark</th>\n",
       "    </tr>\n",
       "  </thead>\n",
       "  <tbody>\n",
       "    <tr>\n",
       "      <th>annual_return_rate</th>\n",
       "      <td>6.13</td>\n",
       "      <td>5.67</td>\n",
       "    </tr>\n",
       "    <tr>\n",
       "      <th>max_closed_out_drawdown</th>\n",
       "      <td>-36.86</td>\n",
       "      <td>-86.14</td>\n",
       "    </tr>\n",
       "    <tr>\n",
       "      <th>annualized_return_over_max_drawdown</th>\n",
       "      <td>0.17</td>\n",
       "      <td>0.07</td>\n",
       "    </tr>\n",
       "    <tr>\n",
       "      <th>best_month</th>\n",
       "      <td>22.49</td>\n",
       "      <td>61.27</td>\n",
       "    </tr>\n",
       "    <tr>\n",
       "      <th>worst_month</th>\n",
       "      <td>-30.91</td>\n",
       "      <td>-42.17</td>\n",
       "    </tr>\n",
       "    <tr>\n",
       "      <th>sharpe_ratio</th>\n",
       "      <td>0.53</td>\n",
       "      <td>0.39</td>\n",
       "    </tr>\n",
       "    <tr>\n",
       "      <th>sortino_ratio</th>\n",
       "      <td>0.52</td>\n",
       "      <td>0.48</td>\n",
       "    </tr>\n",
       "    <tr>\n",
       "      <th>monthly_std</th>\n",
       "      <td>3.29</td>\n",
       "      <td>5.35</td>\n",
       "    </tr>\n",
       "    <tr>\n",
       "      <th>annual_std</th>\n",
       "      <td>12.95</td>\n",
       "      <td>19.92</td>\n",
       "    </tr>\n",
       "    <tr>\n",
       "      <th>avg_month</th>\n",
       "      <td>0.53</td>\n",
       "      <td>0.58</td>\n",
       "    </tr>\n",
       "  </tbody>\n",
       "</table>\n",
       "</div>"
      ],
      "text/plain": [
       "                                     strategy  benchmark\n",
       "annual_return_rate                       6.13       5.67\n",
       "max_closed_out_drawdown                -36.86     -86.14\n",
       "annualized_return_over_max_drawdown      0.17       0.07\n",
       "best_month                              22.49      61.27\n",
       "worst_month                            -30.91     -42.17\n",
       "sharpe_ratio                             0.53       0.39\n",
       "sortino_ratio                            0.52       0.48\n",
       "monthly_std                              3.29       5.35\n",
       "annual_std                              12.95      19.92\n",
       "avg_month                                0.53       0.58"
      ]
     },
     "execution_count": 12,
     "metadata": {},
     "output_type": "execute_result"
    },
    {
     "data": {
      "image/png": "[encoded data removed]",
      "text/plain": [
       "<Figure size 720x504 with 1 Axes>"
      ]
     },
     "metadata": {
      "needs_background": "light"
     },
     "output_type": "display_data"
    }
   ],
   "source": [
    "extras = ('avg_month',)\n",
    "\n",
    "df = pf.plot_bar_graph(stats, benchmark.stats, extras=extras)\n",
    "df"
   ]
  },
  {
   "cell_type": "code",
   "execution_count": null,
   "metadata": {},
   "outputs": [],
   "source": []
  }
 ],
 "metadata": {
  "kernelspec": {
   "display_name": "Python 3",
   "language": "python",
   "name": "python3"
  },
  "language_info": {
   "codemirror_mode": {
    "name": "ipython",
    "version": 3
   },
   "file_extension": ".py",
   "mimetype": "text/x-python",
   "name": "python",
   "nbconvert_exporter": "python",
   "pygments_lexer": "ipython3",
   "version": "3.8.5"
  },
  "latex_envs": {
   "LaTeX_envs_menu_present": true,
   "autoclose": false,
   "autocomplete": true,
   "bibliofile": "biblio.bib",
   "cite_by": "apalike",
   "current_citInitial": 1,
   "eqLabelWithNumbers": true,
   "eqNumInitial": 1,
   "hotkeys": {
    "equation": "Ctrl-E",
    "itemize": "Ctrl-I"
   },
   "labels_anchors": false,
   "latex_user_defs": false,
   "report_style_numbering": false,
   "user_envs_cfg": false
  }
 },
 "nbformat": 4,
 "nbformat_minor": 1
}
