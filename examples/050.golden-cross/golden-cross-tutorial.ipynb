{
 "cells": [
  {
   "cell_type": "markdown",
   "metadata": {},
   "source": [
    "# Golden Cross / Death Cross S&P 500 index (^GSPC)\n",
    "\n",
    "    1. sma50>sma200, buy\n",
    "    2. sma50<sma200, sell your long position.\n",
    "    \n",
    "    THIS IS MEANT FOR EDUCATIONAL PURPOSES.  The condensed version is in strategy.ipynb"
   ]
  },
  {
   "cell_type": "code",
   "execution_count": 1,
   "metadata": {
    "ExecuteTime": {
     "end_time": "2020-02-16T23:06:25.607999Z",
     "start_time": "2020-02-16T23:06:24.350022Z"
    }
   },
   "outputs": [],
   "source": [
    "import datetime\n",
    "\n",
    "import matplotlib.pyplot as plt\n",
    "import pandas as pd\n",
    "from talib.abstract import *\n",
    "\n",
    "import pinkfish as pf\n",
    "\n",
    "# Format price data\n",
    "pd.options.display.float_format = '{:0.2f}'.format\n",
    "\n",
    "%matplotlib inline"
   ]
  },
  {
   "cell_type": "code",
   "execution_count": 2,
   "metadata": {
    "ExecuteTime": {
     "end_time": "2020-02-16T23:06:25.629044Z",
     "start_time": "2020-02-16T23:06:25.618153Z"
    }
   },
   "outputs": [],
   "source": [
    "# Set size of inline plots\n",
    "'''note: rcParams can't be in same cell as import matplotlib\n",
    "   or %matplotlib inline\n",
    "   \n",
    "   %matplotlib notebook: will lead to interactive plots embedded within\n",
    "   the notebook, you can zoom and resize the figure\n",
    "   \n",
    "   %matplotlib inline: only draw static images in the notebook\n",
    "'''\n",
    "plt.rcParams[\"figure.figsize\"] = (10, 7)"
   ]
  },
  {
   "cell_type": "markdown",
   "metadata": {},
   "source": [
    "Some global data"
   ]
  },
  {
   "cell_type": "code",
   "execution_count": 3,
   "metadata": {
    "ExecuteTime": {
     "end_time": "2020-02-16T23:06:25.646650Z",
     "start_time": "2020-02-16T23:06:25.633319Z"
    }
   },
   "outputs": [],
   "source": [
    "#symbol = '^GSPC'\n",
    "symbol = 'SPY'\n",
    "#symbol = '^DJI'\n",
    "#symbol = 'DJA'\n",
    "#symbol = 'DIA'\n",
    "#symbol = 'QQQ'\n",
    "#symbol = 'IWM'\n",
    "#symbol = 'TLT'\n",
    "#symbol = 'GLD'\n",
    "#symbol = 'AAPL'\n",
    "#symbol = 'BBRY'\n",
    "capital = 10000\n",
    "#start = datetime.datetime(1900, 1, 1)\n",
    "start = datetime.datetime(*pf.SP500_BEGIN)\n",
    "end = datetime.datetime.now()"
   ]
  },
  {
   "cell_type": "markdown",
   "metadata": {},
   "source": [
    "Include dividends? (If yes, set to True)"
   ]
  },
  {
   "cell_type": "code",
   "execution_count": 4,
   "metadata": {
    "ExecuteTime": {
     "end_time": "2020-02-16T23:06:25.663693Z",
     "start_time": "2020-02-16T23:06:25.648450Z"
    }
   },
   "outputs": [],
   "source": [
    "use_adj = True"
   ]
  },
  {
   "cell_type": "markdown",
   "metadata": {},
   "source": [
    "Fetch symbol data from internet; use cache if available."
   ]
  },
  {
   "cell_type": "code",
   "execution_count": 5,
   "metadata": {
    "ExecuteTime": {
     "end_time": "2020-02-16T23:06:25.791667Z",
     "start_time": "2020-02-16T23:06:25.665622Z"
    }
   },
   "outputs": [
    {
     "data": {
      "text/html": [
       "<div>\n",
       "<style scoped>\n",
       "    .dataframe tbody tr th:only-of-type {\n",
       "        vertical-align: middle;\n",
       "    }\n",
       "\n",
       "    .dataframe tbody tr th {\n",
       "        vertical-align: top;\n",
       "    }\n",
       "\n",
       "    .dataframe thead th {\n",
       "        text-align: right;\n",
       "    }\n",
       "</style>\n",
       "<table border=\"1\" class=\"dataframe\">\n",
       "  <thead>\n",
       "    <tr style=\"text-align: right;\">\n",
       "      <th></th>\n",
       "      <th>high</th>\n",
       "      <th>low</th>\n",
       "      <th>open</th>\n",
       "      <th>close</th>\n",
       "      <th>volume</th>\n",
       "      <th>adj_close</th>\n",
       "    </tr>\n",
       "    <tr>\n",
       "      <th>date</th>\n",
       "      <th></th>\n",
       "      <th></th>\n",
       "      <th></th>\n",
       "      <th></th>\n",
       "      <th></th>\n",
       "      <th></th>\n",
       "    </tr>\n",
       "  </thead>\n",
       "  <tbody>\n",
       "    <tr>\n",
       "      <th>1993-01-29</th>\n",
       "      <td>43.97</td>\n",
       "      <td>43.75</td>\n",
       "      <td>43.97</td>\n",
       "      <td>43.94</td>\n",
       "      <td>1003200.00</td>\n",
       "      <td>25.88</td>\n",
       "    </tr>\n",
       "    <tr>\n",
       "      <th>1993-02-01</th>\n",
       "      <td>44.25</td>\n",
       "      <td>43.97</td>\n",
       "      <td>43.97</td>\n",
       "      <td>44.25</td>\n",
       "      <td>480500.00</td>\n",
       "      <td>26.07</td>\n",
       "    </tr>\n",
       "    <tr>\n",
       "      <th>1993-02-02</th>\n",
       "      <td>44.38</td>\n",
       "      <td>44.12</td>\n",
       "      <td>44.22</td>\n",
       "      <td>44.34</td>\n",
       "      <td>201300.00</td>\n",
       "      <td>26.12</td>\n",
       "    </tr>\n",
       "    <tr>\n",
       "      <th>1993-02-03</th>\n",
       "      <td>44.84</td>\n",
       "      <td>44.38</td>\n",
       "      <td>44.41</td>\n",
       "      <td>44.81</td>\n",
       "      <td>529400.00</td>\n",
       "      <td>26.40</td>\n",
       "    </tr>\n",
       "    <tr>\n",
       "      <th>1993-02-04</th>\n",
       "      <td>45.09</td>\n",
       "      <td>44.47</td>\n",
       "      <td>44.97</td>\n",
       "      <td>45.00</td>\n",
       "      <td>531500.00</td>\n",
       "      <td>26.51</td>\n",
       "    </tr>\n",
       "  </tbody>\n",
       "</table>\n",
       "</div>"
      ],
      "text/plain": [
       "            high   low  open  close     volume  adj_close\n",
       "date                                                     \n",
       "1993-01-29 43.97 43.75 43.97  43.94 1003200.00      25.88\n",
       "1993-02-01 44.25 43.97 43.97  44.25  480500.00      26.07\n",
       "1993-02-02 44.38 44.12 44.22  44.34  201300.00      26.12\n",
       "1993-02-03 44.84 44.38 44.41  44.81  529400.00      26.40\n",
       "1993-02-04 45.09 44.47 44.97  45.00  531500.00      26.51"
      ]
     },
     "execution_count": 5,
     "metadata": {},
     "output_type": "execute_result"
    }
   ],
   "source": [
    "ts = pf.fetch_timeseries(symbol)\n",
    "ts.head()"
   ]
  },
  {
   "cell_type": "markdown",
   "metadata": {},
   "source": [
    "Select timeseries between start and end. Back adjust prices relative to adj_close for dividends and splits."
   ]
  },
  {
   "cell_type": "code",
   "execution_count": 6,
   "metadata": {
    "ExecuteTime": {
     "end_time": "2020-02-16T23:06:25.832676Z",
     "start_time": "2020-02-16T23:06:25.798816Z"
    }
   },
   "outputs": [
    {
     "data": {
      "text/html": [
       "<div>\n",
       "<style scoped>\n",
       "    .dataframe tbody tr th:only-of-type {\n",
       "        vertical-align: middle;\n",
       "    }\n",
       "\n",
       "    .dataframe tbody tr th {\n",
       "        vertical-align: top;\n",
       "    }\n",
       "\n",
       "    .dataframe thead th {\n",
       "        text-align: right;\n",
       "    }\n",
       "</style>\n",
       "<table border=\"1\" class=\"dataframe\">\n",
       "  <thead>\n",
       "    <tr style=\"text-align: right;\">\n",
       "      <th></th>\n",
       "      <th>high</th>\n",
       "      <th>low</th>\n",
       "      <th>open</th>\n",
       "      <th>close</th>\n",
       "      <th>volume</th>\n",
       "      <th>adj_close</th>\n",
       "    </tr>\n",
       "    <tr>\n",
       "      <th>date</th>\n",
       "      <th></th>\n",
       "      <th></th>\n",
       "      <th></th>\n",
       "      <th></th>\n",
       "      <th></th>\n",
       "      <th></th>\n",
       "    </tr>\n",
       "  </thead>\n",
       "  <tbody>\n",
       "    <tr>\n",
       "      <th>1993-01-29</th>\n",
       "      <td>25.90</td>\n",
       "      <td>25.77</td>\n",
       "      <td>25.90</td>\n",
       "      <td>25.88</td>\n",
       "      <td>1003200.00</td>\n",
       "      <td>25.88</td>\n",
       "    </tr>\n",
       "    <tr>\n",
       "      <th>1993-02-01</th>\n",
       "      <td>26.07</td>\n",
       "      <td>25.90</td>\n",
       "      <td>25.90</td>\n",
       "      <td>26.07</td>\n",
       "      <td>480500.00</td>\n",
       "      <td>26.07</td>\n",
       "    </tr>\n",
       "    <tr>\n",
       "      <th>1993-02-02</th>\n",
       "      <td>26.14</td>\n",
       "      <td>25.99</td>\n",
       "      <td>26.05</td>\n",
       "      <td>26.12</td>\n",
       "      <td>201300.00</td>\n",
       "      <td>26.12</td>\n",
       "    </tr>\n",
       "    <tr>\n",
       "      <th>1993-02-03</th>\n",
       "      <td>26.42</td>\n",
       "      <td>26.14</td>\n",
       "      <td>26.16</td>\n",
       "      <td>26.40</td>\n",
       "      <td>529400.00</td>\n",
       "      <td>26.40</td>\n",
       "    </tr>\n",
       "    <tr>\n",
       "      <th>1993-02-04</th>\n",
       "      <td>26.57</td>\n",
       "      <td>26.20</td>\n",
       "      <td>26.49</td>\n",
       "      <td>26.51</td>\n",
       "      <td>531500.00</td>\n",
       "      <td>26.51</td>\n",
       "    </tr>\n",
       "  </tbody>\n",
       "</table>\n",
       "</div>"
      ],
      "text/plain": [
       "            high   low  open  close     volume  adj_close\n",
       "date                                                     \n",
       "1993-01-29 25.90 25.77 25.90  25.88 1003200.00      25.88\n",
       "1993-02-01 26.07 25.90 25.90  26.07  480500.00      26.07\n",
       "1993-02-02 26.14 25.99 26.05  26.12  201300.00      26.12\n",
       "1993-02-03 26.42 26.14 26.16  26.40  529400.00      26.40\n",
       "1993-02-04 26.57 26.20 26.49  26.51  531500.00      26.51"
      ]
     },
     "execution_count": 6,
     "metadata": {},
     "output_type": "execute_result"
    }
   ],
   "source": [
    "ts = pf.select_tradeperiod(ts, start, end, use_adj)\n",
    "ts.head()"
   ]
  },
  {
   "cell_type": "markdown",
   "metadata": {},
   "source": [
    "Add technical indicator: 50 day ma and 200 day ma"
   ]
  },
  {
   "cell_type": "code",
   "execution_count": 7,
   "metadata": {
    "ExecuteTime": {
     "end_time": "2020-02-16T23:06:25.989830Z",
     "start_time": "2020-02-16T23:06:25.836445Z"
    },
    "scrolled": true
   },
   "outputs": [
    {
     "data": {
      "text/html": [
       "<div>\n",
       "<style scoped>\n",
       "    .dataframe tbody tr th:only-of-type {\n",
       "        vertical-align: middle;\n",
       "    }\n",
       "\n",
       "    .dataframe tbody tr th {\n",
       "        vertical-align: top;\n",
       "    }\n",
       "\n",
       "    .dataframe thead th {\n",
       "        text-align: right;\n",
       "    }\n",
       "</style>\n",
       "<table border=\"1\" class=\"dataframe\">\n",
       "  <thead>\n",
       "    <tr style=\"text-align: right;\">\n",
       "      <th></th>\n",
       "      <th>high</th>\n",
       "      <th>low</th>\n",
       "      <th>open</th>\n",
       "      <th>close</th>\n",
       "      <th>volume</th>\n",
       "      <th>adj_close</th>\n",
       "      <th>sma50</th>\n",
       "      <th>sma200</th>\n",
       "    </tr>\n",
       "    <tr>\n",
       "      <th>date</th>\n",
       "      <th></th>\n",
       "      <th></th>\n",
       "      <th></th>\n",
       "      <th></th>\n",
       "      <th></th>\n",
       "      <th></th>\n",
       "      <th></th>\n",
       "      <th></th>\n",
       "    </tr>\n",
       "  </thead>\n",
       "  <tbody>\n",
       "    <tr>\n",
       "      <th>1993-01-29</th>\n",
       "      <td>25.90</td>\n",
       "      <td>25.77</td>\n",
       "      <td>25.90</td>\n",
       "      <td>25.88</td>\n",
       "      <td>1003200.00</td>\n",
       "      <td>25.88</td>\n",
       "      <td>nan</td>\n",
       "      <td>nan</td>\n",
       "    </tr>\n",
       "    <tr>\n",
       "      <th>1993-02-01</th>\n",
       "      <td>26.07</td>\n",
       "      <td>25.90</td>\n",
       "      <td>25.90</td>\n",
       "      <td>26.07</td>\n",
       "      <td>480500.00</td>\n",
       "      <td>26.07</td>\n",
       "      <td>nan</td>\n",
       "      <td>nan</td>\n",
       "    </tr>\n",
       "    <tr>\n",
       "      <th>1993-02-02</th>\n",
       "      <td>26.14</td>\n",
       "      <td>25.99</td>\n",
       "      <td>26.05</td>\n",
       "      <td>26.12</td>\n",
       "      <td>201300.00</td>\n",
       "      <td>26.12</td>\n",
       "      <td>nan</td>\n",
       "      <td>nan</td>\n",
       "    </tr>\n",
       "    <tr>\n",
       "      <th>1993-02-03</th>\n",
       "      <td>26.42</td>\n",
       "      <td>26.14</td>\n",
       "      <td>26.16</td>\n",
       "      <td>26.40</td>\n",
       "      <td>529400.00</td>\n",
       "      <td>26.40</td>\n",
       "      <td>nan</td>\n",
       "      <td>nan</td>\n",
       "    </tr>\n",
       "    <tr>\n",
       "      <th>1993-02-04</th>\n",
       "      <td>26.57</td>\n",
       "      <td>26.20</td>\n",
       "      <td>26.49</td>\n",
       "      <td>26.51</td>\n",
       "      <td>531500.00</td>\n",
       "      <td>26.51</td>\n",
       "      <td>nan</td>\n",
       "      <td>nan</td>\n",
       "    </tr>\n",
       "  </tbody>\n",
       "</table>\n",
       "</div>"
      ],
      "text/plain": [
       "            high   low  open  close     volume  adj_close  sma50  sma200\n",
       "date                                                                    \n",
       "1993-01-29 25.90 25.77 25.90  25.88 1003200.00      25.88    nan     nan\n",
       "1993-02-01 26.07 25.90 25.90  26.07  480500.00      26.07    nan     nan\n",
       "1993-02-02 26.14 25.99 26.05  26.12  201300.00      26.12    nan     nan\n",
       "1993-02-03 26.42 26.14 26.16  26.40  529400.00      26.40    nan     nan\n",
       "1993-02-04 26.57 26.20 26.49  26.51  531500.00      26.51    nan     nan"
      ]
     },
     "execution_count": 7,
     "metadata": {},
     "output_type": "execute_result"
    }
   ],
   "source": [
    "sma50 = SMA(ts, timeperiod=50)\n",
    "ts['sma50'] = sma50\n",
    "\n",
    "sma200 = SMA(ts, timeperiod=200)\n",
    "ts['sma200'] = sma200\n",
    "\n",
    "ts.head()"
   ]
  },
  {
   "cell_type": "markdown",
   "metadata": {},
   "source": [
    "Finalize the time series before implementing trading strategy"
   ]
  },
  {
   "cell_type": "code",
   "execution_count": 8,
   "metadata": {
    "ExecuteTime": {
     "end_time": "2020-02-16T23:06:26.047710Z",
     "start_time": "2020-02-16T23:06:25.995799Z"
    }
   },
   "outputs": [
    {
     "data": {
      "text/html": [
       "<div>\n",
       "<style scoped>\n",
       "    .dataframe tbody tr th:only-of-type {\n",
       "        vertical-align: middle;\n",
       "    }\n",
       "\n",
       "    .dataframe tbody tr th {\n",
       "        vertical-align: top;\n",
       "    }\n",
       "\n",
       "    .dataframe thead th {\n",
       "        text-align: right;\n",
       "    }\n",
       "</style>\n",
       "<table border=\"1\" class=\"dataframe\">\n",
       "  <thead>\n",
       "    <tr style=\"text-align: right;\">\n",
       "      <th></th>\n",
       "      <th>high</th>\n",
       "      <th>low</th>\n",
       "      <th>open</th>\n",
       "      <th>close</th>\n",
       "      <th>volume</th>\n",
       "      <th>adj_close</th>\n",
       "      <th>sma50</th>\n",
       "      <th>sma200</th>\n",
       "    </tr>\n",
       "    <tr>\n",
       "      <th>date</th>\n",
       "      <th></th>\n",
       "      <th></th>\n",
       "      <th></th>\n",
       "      <th></th>\n",
       "      <th></th>\n",
       "      <th></th>\n",
       "      <th></th>\n",
       "      <th></th>\n",
       "    </tr>\n",
       "  </thead>\n",
       "  <tbody>\n",
       "    <tr>\n",
       "      <th>1993-11-11</th>\n",
       "      <td>27.97</td>\n",
       "      <td>27.80</td>\n",
       "      <td>27.89</td>\n",
       "      <td>27.82</td>\n",
       "      <td>88900.00</td>\n",
       "      <td>27.82</td>\n",
       "      <td>27.72</td>\n",
       "      <td>26.87</td>\n",
       "    </tr>\n",
       "    <tr>\n",
       "      <th>1993-11-12</th>\n",
       "      <td>28.04</td>\n",
       "      <td>27.85</td>\n",
       "      <td>27.87</td>\n",
       "      <td>27.95</td>\n",
       "      <td>108200.00</td>\n",
       "      <td>27.95</td>\n",
       "      <td>27.72</td>\n",
       "      <td>26.88</td>\n",
       "    </tr>\n",
       "    <tr>\n",
       "      <th>1993-11-15</th>\n",
       "      <td>28.00</td>\n",
       "      <td>27.85</td>\n",
       "      <td>28.00</td>\n",
       "      <td>27.93</td>\n",
       "      <td>243300.00</td>\n",
       "      <td>27.93</td>\n",
       "      <td>27.73</td>\n",
       "      <td>26.89</td>\n",
       "    </tr>\n",
       "    <tr>\n",
       "      <th>1993-11-16</th>\n",
       "      <td>28.08</td>\n",
       "      <td>27.87</td>\n",
       "      <td>27.98</td>\n",
       "      <td>28.06</td>\n",
       "      <td>492600.00</td>\n",
       "      <td>28.06</td>\n",
       "      <td>27.74</td>\n",
       "      <td>26.90</td>\n",
       "    </tr>\n",
       "    <tr>\n",
       "      <th>1993-11-17</th>\n",
       "      <td>28.08</td>\n",
       "      <td>27.83</td>\n",
       "      <td>28.08</td>\n",
       "      <td>27.91</td>\n",
       "      <td>39600.00</td>\n",
       "      <td>27.91</td>\n",
       "      <td>27.75</td>\n",
       "      <td>26.91</td>\n",
       "    </tr>\n",
       "  </tbody>\n",
       "</table>\n",
       "</div>"
      ],
      "text/plain": [
       "            high   low  open  close    volume  adj_close  sma50  sma200\n",
       "date                                                                   \n",
       "1993-11-11 27.97 27.80 27.89  27.82  88900.00      27.82  27.72   26.87\n",
       "1993-11-12 28.04 27.85 27.87  27.95 108200.00      27.95  27.72   26.88\n",
       "1993-11-15 28.00 27.85 28.00  27.93 243300.00      27.93  27.73   26.89\n",
       "1993-11-16 28.08 27.87 27.98  28.06 492600.00      28.06  27.74   26.90\n",
       "1993-11-17 28.08 27.83 28.08  27.91  39600.00      27.91  27.75   26.91"
      ]
     },
     "execution_count": 8,
     "metadata": {},
     "output_type": "execute_result"
    }
   ],
   "source": [
    "ts, start = pf.finalize_timeseries(ts, start)\n",
    "ts.head()"
   ]
  },
  {
   "cell_type": "markdown",
   "metadata": {},
   "source": [
    "Plot closing price along with moving averages"
   ]
  },
  {
   "cell_type": "code",
   "execution_count": 9,
   "metadata": {
    "ExecuteTime": {
     "end_time": "2020-02-16T23:06:26.562144Z",
     "start_time": "2020-02-16T23:06:26.057765Z"
    }
   },
   "outputs": [
    {
     "data": {
      "text/plain": [
       "<matplotlib.legend.Legend at 0x7faf62c54c40>"
      ]
     },
     "execution_count": 9,
     "metadata": {},
     "output_type": "execute_result"
    },
    {
     "data": {
      "image/png": "[encoded data removed]",
      "text/plain": [
       "<Figure size 720x504 with 1 Axes>"
      ]
     },
     "metadata": {
      "needs_background": "light"
     },
     "output_type": "display_data"
    }
   ],
   "source": [
    "fig = plt.figure()\n",
    "axes = fig.add_subplot(111,  ylabel='Price in $')\n",
    "\n",
    "ts['close'].plot(ax=axes, label='close', color='k')\n",
    "ts['sma50'].plot(ax=axes, label='sma50', color='r')\n",
    "ts['sma200'].plot(ax=axes, label='sma200', color='b')\n",
    "plt.legend(loc='best')"
   ]
  },
  {
   "cell_type": "markdown",
   "metadata": {},
   "source": [
    "Create Trade Log (tlog); Create Daily Balance (dbal)"
   ]
  },
  {
   "cell_type": "code",
   "execution_count": 10,
   "metadata": {
    "ExecuteTime": {
     "end_time": "2020-02-16T23:06:26.578969Z",
     "start_time": "2020-02-16T23:06:26.570175Z"
    }
   },
   "outputs": [],
   "source": [
    "tlog = pf.TradeLog(symbol)\n",
    "dbal = pf.DailyBal()"
   ]
  },
  {
   "cell_type": "markdown",
   "metadata": {},
   "source": [
    "Algo: Buy when 50 day ma crosses above 200 day ma.  Sell when 50 day ma crosses below 200 day ma. "
   ]
  },
  {
   "cell_type": "code",
   "execution_count": 11,
   "metadata": {
    "ExecuteTime": {
     "end_time": "2020-02-16T23:06:26.836322Z",
     "start_time": "2020-02-16T23:06:26.583526Z"
    },
    "scrolled": false
   },
   "outputs": [
    {
     "name": "stdout",
     "output_type": "stream",
     "text": [
      "1994-09-01 00:00:00 BUY  344 SPY @ 29.04\n",
      "1998-10-01 00:00:00 SELL 344 SPY @ 65.54\n",
      "1998-12-04 00:00:00 BUY  287 SPY @ 78.51\n",
      "2000-11-02 00:00:00 SELL 287 SPY @ 96.70\n",
      "2002-04-19 00:00:00 BUY  356 SPY @ 77.93\n",
      "2002-05-17 00:00:00 SELL 356 SPY @ 76.56\n",
      "2003-05-12 00:00:00 BUY  409 SPY @ 66.62\n",
      "2004-08-25 00:00:00 SELL 409 SPY @ 79.53\n",
      "2004-10-27 00:00:00 BUY  401 SPY @ 81.14\n",
      "2006-07-25 00:00:00 SELL 401 SPY @ 94.15\n",
      "2006-08-29 00:00:00 BUY  389 SPY @ 97.06\n",
      "2007-12-28 00:00:00 SELL 389 SPY @ 112.62\n",
      "2009-06-18 00:00:00 BUY  602 SPY @ 72.72\n",
      "2010-07-07 00:00:00 SELL 602 SPY @ 85.76\n",
      "2010-10-13 00:00:00 BUY  539 SPY @ 95.82\n",
      "2011-08-17 00:00:00 SELL 539 SPY @ 98.66\n",
      "2012-01-23 00:00:00 BUY  484 SPY @ 109.76\n",
      "2015-09-03 00:00:00 SELL 484 SPY @ 175.01\n",
      "2015-12-09 00:00:00 BUY  459 SPY @ 184.73\n",
      "2016-01-15 00:00:00 SELL 459 SPY @ 169.96\n",
      "2016-04-20 00:00:00 BUY  408 SPY @ 191.12\n",
      "2018-12-12 00:00:00 SELL 408 SPY @ 253.44\n",
      "2019-03-26 00:00:00 BUY  381 SPY @ 271.14\n",
      "2020-03-31 00:00:00 SELL 381 SPY @ 253.68\n",
      "2020-07-06 00:00:00 BUY  308 SPY @ 313.42\n",
      "2021-04-20 00:00:00 SELL 308 SPY @ 412.17\n",
      "0.13138532638549805\n"
     ]
    }
   ],
   "source": [
    "pf.TradeLog.cash = capital\n",
    "\n",
    "import time\n",
    "t0 = time.time()\n",
    "\n",
    "\"\"\"\n",
    "# This is the slowest (2.42 s)\n",
    "for i in range(len(ts.index)):\n",
    "\n",
    "    date = ts.index[i]\n",
    "    high = ts['high'][i]\n",
    "    low = ts['low'][i]\n",
    "    close = ts['close'][i]\n",
    "    sma50 = ts['sma50'][i]\n",
    "    sma200 = ts['sma200'][i]\n",
    "\n",
    "# This is still slow (2.53 s)\n",
    "for i, (index, row) in enumerate(ts.iterrows()):\n",
    "\n",
    "    date = index\n",
    "    high = row['high']\n",
    "    low = row['low']\n",
    "    close = row['close']\n",
    "    sma50 = row['sma50']\n",
    "    sma200 = row['sma200']\n",
    "\n",
    "\n",
    "# using .at[] is fast (832 ms)\n",
    "for i, index in enumerate(ts.index):\n",
    "\n",
    "    date = index\n",
    "    high = ts.at[index, 'high']\n",
    "    low = ts.at[index, 'low']\n",
    "    close = ts.at[index, 'close']\n",
    "    sma50 = ts.at[index, 'sma50']\n",
    "    sma200 = ts.at[index, 'sma200']\n",
    "\n",
    "# using itertuples is fastest for looping (378 ms)\n",
    "for i, row in enumerate(ts.itertuples()):\n",
    "\n",
    "    date = row.Index.to_pydatetime()\n",
    "    high = row.high\n",
    "    low = row.low\n",
    "    close = row.close\n",
    "    sma50 = row.sma50\n",
    "    sma200 = row.sma200\n",
    "\"\"\"\n",
    "\n",
    "for i, row in enumerate(ts.itertuples()):\n",
    "\n",
    "    date = row.Index.to_pydatetime()\n",
    "    high = row.high; low = row.low; close = row.close; \n",
    "    end_flag = pf.is_last_row(ts, i)\n",
    "    shares = 0\n",
    "    \n",
    "    # Buy\n",
    "    if tlog.shares == 0:\n",
    "        if row.sma50 > row.sma200 and ts['sma50'][i-1] <= ts['sma200'][i-1]:\n",
    "            # Enter buy in trade log\n",
    "            shares = tlog.buy(date, close)  \n",
    "    # Sell\n",
    "    else:\n",
    "        if ((row.sma50 < row.sma200 and ts['sma50'][i-1] >= ts['sma200'][i-1])\n",
    "            or end_flag):\n",
    "            # Enter sell in trade log\n",
    "            shares = tlog.sell(date, close)\n",
    "\n",
    "    if shares > 0:\n",
    "        print(\"{0} BUY  {1} {2} @ {3:.2f}\".format(\n",
    "              date, shares, symbol, close))\n",
    "    elif shares < 0:\n",
    "        print(\"{0} SELL {1} {2} @ {3:.2f}\".format(\n",
    "              date, -shares, symbol, close))\n",
    "\n",
    "    # Record daily balance\n",
    "    dbal.append(date, high, low, close)  \n",
    "\n",
    "t1 = time.time()\n",
    "total = t1-t0\n",
    "print(total)\n",
    "        "
   ]
  },
  {
   "cell_type": "markdown",
   "metadata": {},
   "source": [
    "Retrieve raw log and trade log DataFrames"
   ]
  },
  {
   "cell_type": "code",
   "execution_count": 12,
   "metadata": {
    "ExecuteTime": {
     "end_time": "2020-02-16T23:06:26.861694Z",
     "start_time": "2020-02-16T23:06:26.846951Z"
    }
   },
   "outputs": [],
   "source": [
    "rlog = tlog.get_log_raw()\n",
    "tlog = tlog.get_log()"
   ]
  },
  {
   "cell_type": "code",
   "execution_count": 13,
   "metadata": {
    "ExecuteTime": {
     "end_time": "2020-02-16T23:06:26.904678Z",
     "start_time": "2020-02-16T23:06:26.865894Z"
    }
   },
   "outputs": [
    {
     "data": {
      "text/html": [
       "<div>\n",
       "<style scoped>\n",
       "    .dataframe tbody tr th:only-of-type {\n",
       "        vertical-align: middle;\n",
       "    }\n",
       "\n",
       "    .dataframe tbody tr th {\n",
       "        vertical-align: top;\n",
       "    }\n",
       "\n",
       "    .dataframe thead th {\n",
       "        text-align: right;\n",
       "    }\n",
       "</style>\n",
       "<table border=\"1\" class=\"dataframe\">\n",
       "  <thead>\n",
       "    <tr style=\"text-align: right;\">\n",
       "      <th></th>\n",
       "      <th>date</th>\n",
       "      <th>seq_num</th>\n",
       "      <th>price</th>\n",
       "      <th>shares</th>\n",
       "      <th>entry_exit</th>\n",
       "      <th>direction</th>\n",
       "      <th>symbol</th>\n",
       "    </tr>\n",
       "  </thead>\n",
       "  <tbody>\n",
       "    <tr>\n",
       "      <th>21</th>\n",
       "      <td>2018-12-12</td>\n",
       "      <td>21</td>\n",
       "      <td>253.44</td>\n",
       "      <td>408</td>\n",
       "      <td>exit</td>\n",
       "      <td>LONG</td>\n",
       "      <td>SPY</td>\n",
       "    </tr>\n",
       "    <tr>\n",
       "      <th>22</th>\n",
       "      <td>2019-03-26</td>\n",
       "      <td>22</td>\n",
       "      <td>271.14</td>\n",
       "      <td>381</td>\n",
       "      <td>entry</td>\n",
       "      <td>LONG</td>\n",
       "      <td>SPY</td>\n",
       "    </tr>\n",
       "    <tr>\n",
       "      <th>23</th>\n",
       "      <td>2020-03-31</td>\n",
       "      <td>23</td>\n",
       "      <td>253.68</td>\n",
       "      <td>381</td>\n",
       "      <td>exit</td>\n",
       "      <td>LONG</td>\n",
       "      <td>SPY</td>\n",
       "    </tr>\n",
       "    <tr>\n",
       "      <th>24</th>\n",
       "      <td>2020-07-06</td>\n",
       "      <td>24</td>\n",
       "      <td>313.42</td>\n",
       "      <td>308</td>\n",
       "      <td>entry</td>\n",
       "      <td>LONG</td>\n",
       "      <td>SPY</td>\n",
       "    </tr>\n",
       "    <tr>\n",
       "      <th>25</th>\n",
       "      <td>2021-04-20</td>\n",
       "      <td>25</td>\n",
       "      <td>412.17</td>\n",
       "      <td>308</td>\n",
       "      <td>exit</td>\n",
       "      <td>LONG</td>\n",
       "      <td>SPY</td>\n",
       "    </tr>\n",
       "  </tbody>\n",
       "</table>\n",
       "</div>"
      ],
      "text/plain": [
       "         date  seq_num  price  shares entry_exit direction symbol\n",
       "21 2018-12-12       21 253.44     408       exit      LONG    SPY\n",
       "22 2019-03-26       22 271.14     381      entry      LONG    SPY\n",
       "23 2020-03-31       23 253.68     381       exit      LONG    SPY\n",
       "24 2020-07-06       24 313.42     308      entry      LONG    SPY\n",
       "25 2021-04-20       25 412.17     308       exit      LONG    SPY"
      ]
     },
     "execution_count": 13,
     "metadata": {},
     "output_type": "execute_result"
    }
   ],
   "source": [
    "rlog.tail()"
   ]
  },
  {
   "cell_type": "code",
   "execution_count": 14,
   "metadata": {
    "ExecuteTime": {
     "end_time": "2020-02-16T23:06:26.958698Z",
     "start_time": "2020-02-16T23:06:26.909716Z"
    }
   },
   "outputs": [
    {
     "data": {
      "text/html": [
       "<div>\n",
       "<style scoped>\n",
       "    .dataframe tbody tr th:only-of-type {\n",
       "        vertical-align: middle;\n",
       "    }\n",
       "\n",
       "    .dataframe tbody tr th {\n",
       "        vertical-align: top;\n",
       "    }\n",
       "\n",
       "    .dataframe thead th {\n",
       "        text-align: right;\n",
       "    }\n",
       "</style>\n",
       "<table border=\"1\" class=\"dataframe\">\n",
       "  <thead>\n",
       "    <tr style=\"text-align: right;\">\n",
       "      <th></th>\n",
       "      <th>entry_date</th>\n",
       "      <th>entry_price</th>\n",
       "      <th>exit_date</th>\n",
       "      <th>exit_price</th>\n",
       "      <th>pl_points</th>\n",
       "      <th>pl_cash</th>\n",
       "      <th>qty</th>\n",
       "      <th>cumul_total</th>\n",
       "      <th>direction</th>\n",
       "      <th>symbol</th>\n",
       "    </tr>\n",
       "  </thead>\n",
       "  <tbody>\n",
       "    <tr>\n",
       "      <th>3</th>\n",
       "      <td>2003-05-12</td>\n",
       "      <td>66.62</td>\n",
       "      <td>2004-08-25</td>\n",
       "      <td>79.53</td>\n",
       "      <td>12.91</td>\n",
       "      <td>5279.48</td>\n",
       "      <td>409</td>\n",
       "      <td>22566.96</td>\n",
       "      <td>LONG</td>\n",
       "      <td>SPY</td>\n",
       "    </tr>\n",
       "    <tr>\n",
       "      <th>4</th>\n",
       "      <td>2004-10-27</td>\n",
       "      <td>81.14</td>\n",
       "      <td>2006-07-25</td>\n",
       "      <td>94.15</td>\n",
       "      <td>13.01</td>\n",
       "      <td>5216.87</td>\n",
       "      <td>401</td>\n",
       "      <td>27783.82</td>\n",
       "      <td>LONG</td>\n",
       "      <td>SPY</td>\n",
       "    </tr>\n",
       "    <tr>\n",
       "      <th>5</th>\n",
       "      <td>2006-08-29</td>\n",
       "      <td>97.06</td>\n",
       "      <td>2007-12-28</td>\n",
       "      <td>112.62</td>\n",
       "      <td>15.56</td>\n",
       "      <td>6053.95</td>\n",
       "      <td>389</td>\n",
       "      <td>33837.77</td>\n",
       "      <td>LONG</td>\n",
       "      <td>SPY</td>\n",
       "    </tr>\n",
       "    <tr>\n",
       "      <th>6</th>\n",
       "      <td>2009-06-18</td>\n",
       "      <td>72.72</td>\n",
       "      <td>2010-07-07</td>\n",
       "      <td>85.76</td>\n",
       "      <td>13.04</td>\n",
       "      <td>7849.11</td>\n",
       "      <td>602</td>\n",
       "      <td>41686.88</td>\n",
       "      <td>LONG</td>\n",
       "      <td>SPY</td>\n",
       "    </tr>\n",
       "    <tr>\n",
       "      <th>7</th>\n",
       "      <td>2010-10-13</td>\n",
       "      <td>95.82</td>\n",
       "      <td>2011-08-17</td>\n",
       "      <td>98.66</td>\n",
       "      <td>2.84</td>\n",
       "      <td>1533.33</td>\n",
       "      <td>539</td>\n",
       "      <td>43220.21</td>\n",
       "      <td>LONG</td>\n",
       "      <td>SPY</td>\n",
       "    </tr>\n",
       "    <tr>\n",
       "      <th>8</th>\n",
       "      <td>2012-01-23</td>\n",
       "      <td>109.76</td>\n",
       "      <td>2015-09-03</td>\n",
       "      <td>175.01</td>\n",
       "      <td>65.25</td>\n",
       "      <td>31581.59</td>\n",
       "      <td>484</td>\n",
       "      <td>74801.81</td>\n",
       "      <td>LONG</td>\n",
       "      <td>SPY</td>\n",
       "    </tr>\n",
       "    <tr>\n",
       "      <th>9</th>\n",
       "      <td>2015-12-09</td>\n",
       "      <td>184.73</td>\n",
       "      <td>2016-01-15</td>\n",
       "      <td>169.96</td>\n",
       "      <td>-14.76</td>\n",
       "      <td>-6777.04</td>\n",
       "      <td>459</td>\n",
       "      <td>68024.77</td>\n",
       "      <td>LONG</td>\n",
       "      <td>SPY</td>\n",
       "    </tr>\n",
       "    <tr>\n",
       "      <th>10</th>\n",
       "      <td>2016-04-20</td>\n",
       "      <td>191.12</td>\n",
       "      <td>2018-12-12</td>\n",
       "      <td>253.44</td>\n",
       "      <td>62.32</td>\n",
       "      <td>25426.61</td>\n",
       "      <td>408</td>\n",
       "      <td>93451.38</td>\n",
       "      <td>LONG</td>\n",
       "      <td>SPY</td>\n",
       "    </tr>\n",
       "    <tr>\n",
       "      <th>11</th>\n",
       "      <td>2019-03-26</td>\n",
       "      <td>271.14</td>\n",
       "      <td>2020-03-31</td>\n",
       "      <td>253.68</td>\n",
       "      <td>-17.46</td>\n",
       "      <td>-6652.62</td>\n",
       "      <td>381</td>\n",
       "      <td>86798.76</td>\n",
       "      <td>LONG</td>\n",
       "      <td>SPY</td>\n",
       "    </tr>\n",
       "    <tr>\n",
       "      <th>12</th>\n",
       "      <td>2020-07-06</td>\n",
       "      <td>313.42</td>\n",
       "      <td>2021-04-20</td>\n",
       "      <td>412.17</td>\n",
       "      <td>98.75</td>\n",
       "      <td>30415.30</td>\n",
       "      <td>308</td>\n",
       "      <td>117214.06</td>\n",
       "      <td>LONG</td>\n",
       "      <td>SPY</td>\n",
       "    </tr>\n",
       "  </tbody>\n",
       "</table>\n",
       "</div>"
      ],
      "text/plain": [
       "   entry_date  entry_price  exit_date  exit_price  pl_points  pl_cash  qty  \\\n",
       "3  2003-05-12        66.62 2004-08-25       79.53      12.91  5279.48  409   \n",
       "4  2004-10-27        81.14 2006-07-25       94.15      13.01  5216.87  401   \n",
       "5  2006-08-29        97.06 2007-12-28      112.62      15.56  6053.95  389   \n",
       "6  2009-06-18        72.72 2010-07-07       85.76      13.04  7849.11  602   \n",
       "7  2010-10-13        95.82 2011-08-17       98.66       2.84  1533.33  539   \n",
       "8  2012-01-23       109.76 2015-09-03      175.01      65.25 31581.59  484   \n",
       "9  2015-12-09       184.73 2016-01-15      169.96     -14.76 -6777.04  459   \n",
       "10 2016-04-20       191.12 2018-12-12      253.44      62.32 25426.61  408   \n",
       "11 2019-03-26       271.14 2020-03-31      253.68     -17.46 -6652.62  381   \n",
       "12 2020-07-06       313.42 2021-04-20      412.17      98.75 30415.30  308   \n",
       "\n",
       "    cumul_total direction symbol  \n",
       "3      22566.96      LONG    SPY  \n",
       "4      27783.82      LONG    SPY  \n",
       "5      33837.77      LONG    SPY  \n",
       "6      41686.88      LONG    SPY  \n",
       "7      43220.21      LONG    SPY  \n",
       "8      74801.81      LONG    SPY  \n",
       "9      68024.77      LONG    SPY  \n",
       "10     93451.38      LONG    SPY  \n",
       "11     86798.76      LONG    SPY  \n",
       "12    117214.06      LONG    SPY  "
      ]
     },
     "execution_count": 14,
     "metadata": {},
     "output_type": "execute_result"
    }
   ],
   "source": [
    "tlog.tail(10)"
   ]
  },
  {
   "cell_type": "code",
   "execution_count": 15,
   "metadata": {
    "ExecuteTime": {
     "end_time": "2020-02-16T23:06:27.989690Z",
     "start_time": "2020-02-16T23:06:26.966479Z"
    }
   },
   "outputs": [
    {
     "data": {
      "text/html": [
       "<div>\n",
       "<style scoped>\n",
       "    .dataframe tbody tr th:only-of-type {\n",
       "        vertical-align: middle;\n",
       "    }\n",
       "\n",
       "    .dataframe tbody tr th {\n",
       "        vertical-align: top;\n",
       "    }\n",
       "\n",
       "    .dataframe thead th {\n",
       "        text-align: right;\n",
       "    }\n",
       "</style>\n",
       "<table border=\"1\" class=\"dataframe\">\n",
       "  <thead>\n",
       "    <tr style=\"text-align: right;\">\n",
       "      <th></th>\n",
       "      <th>high</th>\n",
       "      <th>low</th>\n",
       "      <th>close</th>\n",
       "      <th>shares</th>\n",
       "      <th>cash</th>\n",
       "      <th>leverage</th>\n",
       "      <th>state</th>\n",
       "    </tr>\n",
       "    <tr>\n",
       "      <th>date</th>\n",
       "      <th></th>\n",
       "      <th></th>\n",
       "      <th></th>\n",
       "      <th></th>\n",
       "      <th></th>\n",
       "      <th></th>\n",
       "      <th></th>\n",
       "    </tr>\n",
       "  </thead>\n",
       "  <tbody>\n",
       "    <tr>\n",
       "      <th>2021-04-14</th>\n",
       "      <td>127765.37</td>\n",
       "      <td>126813.65</td>\n",
       "      <td>126992.30</td>\n",
       "      <td>308</td>\n",
       "      <td>265.69</td>\n",
       "      <td>1.00</td>\n",
       "      <td>-</td>\n",
       "    </tr>\n",
       "    <tr>\n",
       "      <th>2021-04-15</th>\n",
       "      <td>128442.97</td>\n",
       "      <td>127682.21</td>\n",
       "      <td>128353.65</td>\n",
       "      <td>308</td>\n",
       "      <td>265.69</td>\n",
       "      <td>1.00</td>\n",
       "      <td>-</td>\n",
       "    </tr>\n",
       "    <tr>\n",
       "      <th>2021-04-16</th>\n",
       "      <td>128981.97</td>\n",
       "      <td>128310.54</td>\n",
       "      <td>128781.77</td>\n",
       "      <td>308</td>\n",
       "      <td>265.69</td>\n",
       "      <td>1.00</td>\n",
       "      <td>-</td>\n",
       "    </tr>\n",
       "    <tr>\n",
       "      <th>2021-04-19</th>\n",
       "      <td>128621.61</td>\n",
       "      <td>127713.01</td>\n",
       "      <td>128150.37</td>\n",
       "      <td>308</td>\n",
       "      <td>265.69</td>\n",
       "      <td>1.00</td>\n",
       "      <td>-</td>\n",
       "    </tr>\n",
       "    <tr>\n",
       "      <th>2021-04-20</th>\n",
       "      <td>127214.06</td>\n",
       "      <td>127214.06</td>\n",
       "      <td>127214.06</td>\n",
       "      <td>0</td>\n",
       "      <td>127214.06</td>\n",
       "      <td>1.00</td>\n",
       "      <td>X</td>\n",
       "    </tr>\n",
       "  </tbody>\n",
       "</table>\n",
       "</div>"
      ],
      "text/plain": [
       "                high       low     close  shares      cash  leverage state\n",
       "date                                                                      \n",
       "2021-04-14 127765.37 126813.65 126992.30     308    265.69      1.00     -\n",
       "2021-04-15 128442.97 127682.21 128353.65     308    265.69      1.00     -\n",
       "2021-04-16 128981.97 128310.54 128781.77     308    265.69      1.00     -\n",
       "2021-04-19 128621.61 127713.01 128150.37     308    265.69      1.00     -\n",
       "2021-04-20 127214.06 127214.06 127214.06       0 127214.06      1.00     X"
      ]
     },
     "execution_count": 15,
     "metadata": {},
     "output_type": "execute_result"
    }
   ],
   "source": [
    "dbal = dbal.get_log(tlog)\n",
    "dbal.tail()"
   ]
  },
  {
   "cell_type": "code",
   "execution_count": 23,
   "metadata": {},
   "outputs": [
    {
     "data": {
      "text/plain": [
       "date\n",
       "1993-11-11    10000.00\n",
       "1993-11-12    10000.00\n",
       "1993-11-15    10000.00\n",
       "1993-11-16    10000.00\n",
       "1993-11-17    10000.00\n",
       "                ...   \n",
       "2021-04-14   126992.30\n",
       "2021-04-15   128353.65\n",
       "2021-04-16   128781.77\n",
       "2021-04-19   128150.37\n",
       "2021-04-20   127214.06\n",
       "Name: close, Length: 6908, dtype: float64"
      ]
     },
     "execution_count": 23,
     "metadata": {},
     "output_type": "execute_result"
    }
   ],
   "source": [
    "close = dbal['close']\n",
    "close"
   ]
  },
  {
   "cell_type": "code",
   "execution_count": 24,
   "metadata": {},
   "outputs": [
    {
     "data": {
      "text/plain": [
       "date\n",
       "1993-11-11    10000.00\n",
       "1993-11-12    10000.00\n",
       "1993-11-15    10000.00\n",
       "1993-11-16    10000.00\n",
       "1993-11-17    10000.00\n",
       "                ...   \n",
       "2021-04-14   127426.57\n",
       "2021-04-15   128353.65\n",
       "2021-04-16   128781.77\n",
       "2021-04-19   128781.77\n",
       "2021-04-20   128781.77\n",
       "Name: close, Length: 6908, dtype: float64"
      ]
     },
     "execution_count": 24,
     "metadata": {},
     "output_type": "execute_result"
    }
   ],
   "source": [
    "running_max = pd.Series(close).expanding(min_periods=1).max()\n",
    "running_max"
   ]
  },
  {
   "cell_type": "code",
   "execution_count": 29,
   "metadata": {},
   "outputs": [
    {
     "data": {
      "text/plain": [
       "date\n",
       "2021-02-08   -4.85\n",
       "2021-02-09   -4.92\n",
       "2021-02-10   -4.96\n",
       "2021-02-11   -4.80\n",
       "2021-02-12   -4.33\n",
       "2021-02-16   -4.42\n",
       "2021-02-17   -4.40\n",
       "2021-02-18   -4.80\n",
       "2021-02-19   -4.97\n",
       "2021-02-22   -5.70\n",
       "2021-02-23   -5.58\n",
       "2021-02-24   -4.55\n",
       "2021-02-25   -6.84\n",
       "2021-02-26   -7.32\n",
       "2021-03-01   -5.08\n",
       "2021-03-02   -5.82\n",
       "2021-03-03   -7.06\n",
       "2021-03-04   -8.21\n",
       "2021-03-05   -6.52\n",
       "2021-03-08   -6.99\n",
       "2021-03-09   -5.66\n",
       "2021-03-10   -5.08\n",
       "2021-03-11   -4.12\n",
       "2021-03-12   -3.99\n",
       "2021-03-15   -3.42\n",
       "2021-03-16   -3.54\n",
       "2021-03-17   -3.21\n",
       "2021-03-18   -4.62\n",
       "2021-03-19   -4.79\n",
       "2021-03-22   -4.03\n",
       "2021-03-23   -4.79\n",
       "2021-03-24   -5.27\n",
       "2021-03-25   -4.74\n",
       "2021-03-26   -3.21\n",
       "2021-03-29   -3.26\n",
       "2021-03-30   -3.51\n",
       "2021-03-31   -3.12\n",
       "2021-04-01   -2.08\n",
       "2021-04-05   -0.68\n",
       "2021-04-06   -0.73\n",
       "2021-04-07   -0.62\n",
       "2021-04-08   -0.15\n",
       "2021-04-09    0.00\n",
       "2021-04-12    0.00\n",
       "2021-04-13    0.00\n",
       "2021-04-14   -0.34\n",
       "2021-04-15    0.00\n",
       "2021-04-16    0.00\n",
       "2021-04-19   -0.49\n",
       "2021-04-20   -1.22\n",
       "Name: close, dtype: float64"
      ]
     },
     "execution_count": 29,
     "metadata": {},
     "output_type": "execute_result"
    }
   ],
   "source": [
    "cur_dd = (close - running_max) / running_max * 100\n",
    "cur_dd.tail(50)"
   ]
  },
  {
   "cell_type": "code",
   "execution_count": 30,
   "metadata": {},
   "outputs": [
    {
     "data": {
      "text/plain": [
       "-33.67827569602462"
      ]
     },
     "execution_count": 30,
     "metadata": {},
     "output_type": "execute_result"
    }
   ],
   "source": [
    "dd_max = min(0, cur_dd.min())\n",
    "dd_max"
   ]
  },
  {
   "cell_type": "code",
   "execution_count": 31,
   "metadata": {},
   "outputs": [
    {
     "data": {
      "text/plain": [
       "Timestamp('2020-03-23 00:00:00')"
      ]
     },
     "execution_count": 31,
     "metadata": {},
     "output_type": "execute_result"
    }
   ],
   "source": [
    "idx = cur_dd.idxmin()\n",
    "idx"
   ]
  },
  {
   "cell_type": "code",
   "execution_count": 21,
   "metadata": {},
   "outputs": [],
   "source": [
    "def max_closed_out_drawdown(close):\n",
    "    \"\"\"\n",
    "    Only compare each point to the previous running peak O(N).\n",
    "    \"\"\"\n",
    "    running_max = pd.Series(close).expanding(min_periods=1).max()\n",
    "    cur_dd = (close - running_max) / running_max * 100\n",
    "    dd_max = min(0, cur_dd.min())\n",
    "    idx = cur_dd.idxmin()\n",
    "\n",
    "    dd = pd.Series(dtype='object')\n",
    "    dd['max'] = dd_max\n",
    "    dd['peak'] = running_max[idx]\n",
    "    dd['trough'] = close[idx]\n",
    "    dd['peak_date'] = close[close == dd['peak']].index[0].strftime('%Y-%m-%d')\n",
    "    dd['trough_date'] = idx.strftime('%Y-%m-%d')\n",
    "    close = close[close.index > idx]\n",
    "\n",
    "    rd_mask = close > dd['peak']\n",
    "    if rd_mask.any():\n",
    "        dd['recovery_date'] = close[rd_mask].index[0].strftime('%Y-%m-%d')\n",
    "    else:\n",
    "        dd['recovery_date'] = 'Not Recovered Yet'\n",
    "\n",
    "    return dd"
   ]
  },
  {
   "cell_type": "code",
   "execution_count": 22,
   "metadata": {},
   "outputs": [
    {
     "data": {
      "text/plain": [
       "max                  -33.68\n",
       "peak              126277.21\n",
       "trough             83749.22\n",
       "peak_date        2020-02-19\n",
       "trough_date      2020-03-23\n",
       "recovery_date    2021-04-09\n",
       "dtype: object"
      ]
     },
     "execution_count": 22,
     "metadata": {},
     "output_type": "execute_result"
    }
   ],
   "source": [
    "dd = max_closed_out_drawdown(dbal['close'])\n",
    "dd"
   ]
  },
  {
   "cell_type": "markdown",
   "metadata": {},
   "source": [
    "Generate strategy stats - display all available stats"
   ]
  },
  {
   "cell_type": "code",
   "execution_count": 16,
   "metadata": {
    "ExecuteTime": {
     "end_time": "2020-02-16T23:06:28.373532Z",
     "start_time": "2020-02-16T23:06:27.993693Z"
    }
   },
   "outputs": [
    {
     "name": "stdout",
     "output_type": "stream",
     "text": [
      "start                                                   1993-11-11\n",
      "end                                                     2021-04-01\n",
      "beginning_balance                                            10000\n",
      "ending_balance                                           123456.45\n",
      "total_net_profit                                         113456.45\n",
      "gross_profit                                             127372.75\n",
      "gross_loss                                               -13916.29\n",
      "profit_factor                                                 9.15\n",
      "return_on_initial_capital                                  1134.56\n",
      "annual_return_rate                                            9.61\n",
      "trading_period                           27 years 4 months 21 days\n",
      "pct_time_in_market                                           74.75\n",
      "margin                                                           1\n",
      "avg_leverage                                                  1.00\n",
      "max_leverage                                                  1.00\n",
      "min_leverage                                                  1.00\n",
      "total_num_trades                                                13\n",
      "trades_per_year                                               0.47\n",
      "num_winning_trades                                              10\n",
      "num_losing_trades                                                3\n",
      "num_even_trades                                                  0\n",
      "pct_profitable_trades                                        76.92\n",
      "avg_profit_per_trade                                       8727.42\n",
      "avg_profit_per_winning_trade                              12737.27\n",
      "avg_loss_per_losing_trade                                 -4638.76\n",
      "ratio_avg_profit_win_loss                                     2.75\n",
      "largest_profit_winning_trade                              31581.59\n",
      "largest_loss_losing_trade                                 -6777.04\n",
      "num_winning_points                                          326.17\n",
      "num_losing_points                                           -33.59\n",
      "total_net_points                                            292.58\n",
      "avg_points                                                   22.51\n",
      "largest_points_winning_trade                                 86.55\n",
      "largest_points_losing_trade                                 -17.46\n",
      "avg_pct_gain_per_trade                                       24.97\n",
      "largest_pct_winning_trade                                   125.67\n",
      "largest_pct_losing_trade                                     -7.99\n",
      "expected_shortfall                                               0\n",
      "max_consecutive_winning_trades                                   6\n",
      "max_consecutive_losing_trades                                    1\n",
      "avg_bars_winning_trades                                     486.30\n",
      "avg_bars_losing_trades                                      101.33\n",
      "max_closed_out_drawdown                                     -33.68\n",
      "max_closed_out_drawdown_peak_date                       2020-02-19\n",
      "max_closed_out_drawdown_trough_date                     2020-03-23\n",
      "max_closed_out_drawdown_recovery_date            Not Recovered Yet\n",
      "drawdown_loss_period                             Not Recovered Yet\n",
      "drawdown_recovery_period                         Not Recovered Yet\n",
      "annualized_return_over_max_drawdown                           0.29\n",
      "max_intra_day_drawdown                                      -35.21\n",
      "avg_yearly_closed_out_drawdown                               -9.54\n",
      "max_yearly_closed_out_drawdown                              -33.68\n",
      "avg_monthly_closed_out_drawdown                              -2.57\n",
      "max_monthly_closed_out_drawdown                             -30.95\n",
      "avg_weekly_closed_out_drawdown                               -1.02\n",
      "max_weekly_closed_out_drawdown                              -17.95\n",
      "avg_yearly_closed_out_runup                                  18.72\n",
      "max_yearly_closed_out_runup                                  55.64\n",
      "avg_monthly_closed_out_runup                                  3.30\n",
      "max_monthly_closed_out_runup                                 17.33\n",
      "avg_weekly_closed_out_runup                                   1.23\n",
      "max_weekly_closed_out_runup                                  17.33\n",
      "pct_profitable_years                                         74.62\n",
      "best_year                                                    53.27\n",
      "worst_year                                                  -19.04\n",
      "avg_year                                                     10.02\n",
      "annual_std                                                   12.02\n",
      "pct_profitable_months                                        52.66\n",
      "best_month                                                   15.58\n",
      "worst_month                                                 -30.95\n",
      "avg_month                                                     0.78\n",
      "monthly_std                                                   3.27\n",
      "pct_profitable_weeks                                         45.23\n",
      "best_week                                                    17.33\n",
      "worst_week                                                  -17.95\n",
      "avg_week                                                      0.20\n",
      "weekly_std                                                    1.79\n",
      "pct_profitable_days                                          41.12\n",
      "best_day                                                      9.04\n",
      "worst_day                                                   -10.93\n",
      "avg_day                                                       0.04\n",
      "daily_std                                                     0.87\n",
      "sharpe_ratio                                                  0.73\n",
      "sharpe_ratio_max                                              0.77\n",
      "sharpe_ratio_min                                              0.69\n",
      "sortino_ratio                                                 0.78\n",
      "dtype: object\n"
     ]
    }
   ],
   "source": [
    "stats = pf.stats(ts, tlog, dbal, capital)\n",
    "pf.print_full(stats)"
   ]
  },
  {
   "cell_type": "markdown",
   "metadata": {},
   "source": [
    "Run Benchmark"
   ]
  },
  {
   "cell_type": "code",
   "execution_count": 17,
   "metadata": {
    "ExecuteTime": {
     "end_time": "2020-02-16T23:06:28.662544Z",
     "start_time": "2020-02-16T23:06:28.382522Z"
    }
   },
   "outputs": [],
   "source": [
    "benchmark = pf.Benchmark(symbol, capital, start, end, use_adj)\n",
    "benchmark.run()"
   ]
  },
  {
   "cell_type": "markdown",
   "metadata": {},
   "source": [
    "Plot Equity Curves: Strategy vs Benchmark"
   ]
  },
  {
   "cell_type": "code",
   "execution_count": 18,
   "metadata": {
    "ExecuteTime": {
     "end_time": "2020-02-16T23:06:30.229456Z",
     "start_time": "2020-02-16T23:06:29.905725Z"
    }
   },
   "outputs": [
    {
     "data": {
      "image/png": "[encoded data removed]",
      "text/plain": [
       "<Figure size 720x504 with 1 Axes>"
      ]
     },
     "metadata": {
      "needs_background": "light"
     },
     "output_type": "display_data"
    }
   ],
   "source": [
    "pf.plot_equity_curve(dbal, benchmark=benchmark.dbal)"
   ]
  },
  {
   "cell_type": "markdown",
   "metadata": {},
   "source": [
    "Plot Trades"
   ]
  },
  {
   "cell_type": "code",
   "execution_count": 19,
   "metadata": {
    "ExecuteTime": {
     "end_time": "2020-02-16T23:06:30.548129Z",
     "start_time": "2020-02-16T23:06:30.236358Z"
    }
   },
   "outputs": [
    {
     "data": {
      "image/png": "[encoded data removed]",
      "text/plain": [
       "<Figure size 720x504 with 1 Axes>"
      ]
     },
     "metadata": {
      "needs_background": "light"
     },
     "output_type": "display_data"
    }
   ],
   "source": [
    "pf.plot_trades(dbal, benchmark=benchmark.dbal)"
   ]
  },
  {
   "cell_type": "markdown",
   "metadata": {},
   "source": [
    "Strategy vs Benchmark"
   ]
  },
  {
   "cell_type": "code",
   "execution_count": 20,
   "metadata": {
    "ExecuteTime": {
     "end_time": "2020-02-16T23:06:30.582747Z",
     "start_time": "2020-02-16T23:06:30.555947Z"
    }
   },
   "outputs": [
    {
     "data": {
      "text/html": [
       "<div>\n",
       "<style scoped>\n",
       "    .dataframe tbody tr th:only-of-type {\n",
       "        vertical-align: middle;\n",
       "    }\n",
       "\n",
       "    .dataframe tbody tr th {\n",
       "        vertical-align: top;\n",
       "    }\n",
       "\n",
       "    .dataframe thead th {\n",
       "        text-align: right;\n",
       "    }\n",
       "</style>\n",
       "<table border=\"1\" class=\"dataframe\">\n",
       "  <thead>\n",
       "    <tr style=\"text-align: right;\">\n",
       "      <th></th>\n",
       "      <th>strategy</th>\n",
       "      <th>benchmark</th>\n",
       "    </tr>\n",
       "  </thead>\n",
       "  <tbody>\n",
       "    <tr>\n",
       "      <th>beginning_balance</th>\n",
       "      <td>$10,000.00</td>\n",
       "      <td>$10,000.00</td>\n",
       "    </tr>\n",
       "    <tr>\n",
       "      <th>ending_balance</th>\n",
       "      <td>$123,456.45</td>\n",
       "      <td>$143,603.31</td>\n",
       "    </tr>\n",
       "    <tr>\n",
       "      <th>total_net_profit</th>\n",
       "      <td>$113,456.45</td>\n",
       "      <td>$133,603.31</td>\n",
       "    </tr>\n",
       "    <tr>\n",
       "      <th>gross_profit</th>\n",
       "      <td>$127,372.75</td>\n",
       "      <td>$133,603.31</td>\n",
       "    </tr>\n",
       "    <tr>\n",
       "      <th>gross_loss</th>\n",
       "      <td>-$13,916.29</td>\n",
       "      <td>$0.00</td>\n",
       "    </tr>\n",
       "  </tbody>\n",
       "</table>\n",
       "</div>"
      ],
      "text/plain": [
       "                      strategy    benchmark\n",
       "beginning_balance   $10,000.00   $10,000.00\n",
       "ending_balance     $123,456.45  $143,603.31\n",
       "total_net_profit   $113,456.45  $133,603.31\n",
       "gross_profit       $127,372.75  $133,603.31\n",
       "gross_loss         -$13,916.29        $0.00"
      ]
     },
     "execution_count": 20,
     "metadata": {},
     "output_type": "execute_result"
    }
   ],
   "source": [
    "df = pf.summary(stats, benchmark.stats, metrics=pf.currency_metrics)\n",
    "df"
   ]
  },
  {
   "cell_type": "code",
   "execution_count": 21,
   "metadata": {
    "ExecuteTime": {
     "end_time": "2020-02-16T23:06:31.139756Z",
     "start_time": "2020-02-16T23:06:30.587570Z"
    },
    "scrolled": false
   },
   "outputs": [
    {
     "data": {
      "text/html": [
       "<div>\n",
       "<style scoped>\n",
       "    .dataframe tbody tr th:only-of-type {\n",
       "        vertical-align: middle;\n",
       "    }\n",
       "\n",
       "    .dataframe tbody tr th {\n",
       "        vertical-align: top;\n",
       "    }\n",
       "\n",
       "    .dataframe thead th {\n",
       "        text-align: right;\n",
       "    }\n",
       "</style>\n",
       "<table border=\"1\" class=\"dataframe\">\n",
       "  <thead>\n",
       "    <tr style=\"text-align: right;\">\n",
       "      <th></th>\n",
       "      <th>strategy</th>\n",
       "      <th>benchmark</th>\n",
       "    </tr>\n",
       "  </thead>\n",
       "  <tbody>\n",
       "    <tr>\n",
       "      <th>annual_return_rate</th>\n",
       "      <td>9.61</td>\n",
       "      <td>10.22</td>\n",
       "    </tr>\n",
       "    <tr>\n",
       "      <th>max_closed_out_drawdown</th>\n",
       "      <td>-33.68</td>\n",
       "      <td>-55.17</td>\n",
       "    </tr>\n",
       "    <tr>\n",
       "      <th>annualized_return_over_max_drawdown</th>\n",
       "      <td>0.29</td>\n",
       "      <td>0.19</td>\n",
       "    </tr>\n",
       "    <tr>\n",
       "      <th>best_month</th>\n",
       "      <td>15.58</td>\n",
       "      <td>23.60</td>\n",
       "    </tr>\n",
       "    <tr>\n",
       "      <th>worst_month</th>\n",
       "      <td>-30.95</td>\n",
       "      <td>-30.98</td>\n",
       "    </tr>\n",
       "    <tr>\n",
       "      <th>sharpe_ratio</th>\n",
       "      <td>0.73</td>\n",
       "      <td>0.61</td>\n",
       "    </tr>\n",
       "    <tr>\n",
       "      <th>sortino_ratio</th>\n",
       "      <td>0.78</td>\n",
       "      <td>0.77</td>\n",
       "    </tr>\n",
       "    <tr>\n",
       "      <th>monthly_std</th>\n",
       "      <td>3.27</td>\n",
       "      <td>4.52</td>\n",
       "    </tr>\n",
       "    <tr>\n",
       "      <th>annual_std</th>\n",
       "      <td>12.02</td>\n",
       "      <td>16.94</td>\n",
       "    </tr>\n",
       "    <tr>\n",
       "      <th>avg_month</th>\n",
       "      <td>0.78</td>\n",
       "      <td>0.88</td>\n",
       "    </tr>\n",
       "  </tbody>\n",
       "</table>\n",
       "</div>"
      ],
      "text/plain": [
       "                                     strategy  benchmark\n",
       "annual_return_rate                       9.61      10.22\n",
       "max_closed_out_drawdown                -33.68     -55.17\n",
       "annualized_return_over_max_drawdown      0.29       0.19\n",
       "best_month                              15.58      23.60\n",
       "worst_month                            -30.95     -30.98\n",
       "sharpe_ratio                             0.73       0.61\n",
       "sortino_ratio                            0.78       0.77\n",
       "monthly_std                              3.27       4.52\n",
       "annual_std                              12.02      16.94\n",
       "avg_month                                0.78       0.88"
      ]
     },
     "execution_count": 21,
     "metadata": {},
     "output_type": "execute_result"
    },
    {
     "data": {
      "image/png": "[encoded data removed]",
      "text/plain": [
       "<Figure size 720x504 with 1 Axes>"
      ]
     },
     "metadata": {
      "needs_background": "light"
     },
     "output_type": "display_data"
    }
   ],
   "source": [
    "extras = ('avg_month',)\n",
    "\n",
    "df = pf.plot_bar_graph(stats, benchmark.stats, extras=extras)\n",
    "df"
   ]
  },
  {
   "cell_type": "code",
   "execution_count": null,
   "metadata": {},
   "outputs": [],
   "source": []
  }
 ],
 "metadata": {
  "kernelspec": {
   "display_name": "Python 3",
   "language": "python",
   "name": "python3"
  },
  "language_info": {
   "codemirror_mode": {
    "name": "ipython",
    "version": 3
   },
   "file_extension": ".py",
   "mimetype": "text/x-python",
   "name": "python",
   "nbconvert_exporter": "python",
   "pygments_lexer": "ipython3",
   "version": "3.8.5"
  },
  "latex_envs": {
   "LaTeX_envs_menu_present": true,
   "autoclose": false,
   "autocomplete": true,
   "bibliofile": "biblio.bib",
   "cite_by": "apalike",
   "current_citInitial": 1,
   "eqLabelWithNumbers": true,
   "eqNumInitial": 1,
   "hotkeys": {
    "equation": "Ctrl-E",
    "itemize": "Ctrl-I"
   },
   "labels_anchors": false,
   "latex_user_defs": false,
   "report_style_numbering": false,
   "user_envs_cfg": false
  }
 },
 "nbformat": 4,
 "nbformat_minor": 1
}
