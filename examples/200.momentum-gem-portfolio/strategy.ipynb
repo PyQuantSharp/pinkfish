{
 "cells": [
  {
   "cell_type": "markdown",
   "metadata": {},
   "source": [
    "# Global Equities Momentum (GEM)\n",
    "\n",
    "Gary Antonacci’s Dual Momentum approach is simple: by combining both relative momentum and absolute momentum (i.e. trend following), Dual Momentum seeks to rotate into areas of relative strength while preserving the flexibility to shift entirely to safety assets (e.g. short-term U.S. Treasury bills) during periods of pervasive, negative trends.\n",
    "\n",
    "Antonacci’s Global Equities Momentum (GEM) portfolio builds a portfolio with three assets: U.S. stocks, international stocks and U.S. bonds. For the retail investor he recommends using low-cost ETFs: for example, VOO for U.S. stocks; VEU for non-U.S. stocks and AGG for U.S. aggregate bonds.  Compare against a global equities benchmark like the ACWI ETF. \n",
    "\n",
    "Antonacci named his system “Dual Momentum” because he uses both relative momentum (the measure of the performance of an asset relative to another asset) and absolute momentum ( the measure of performance relative to the risk-free rate – absolute excess return.)  To keep the process very simple to implement, he used a 12-month look-back period and an easy to execute buy and sell system.\n",
    "\n",
    "Every month the investor places all funds in the equity ETF that has the best 12-month performance relative to the other equity ETFs, unless the absolute performance is worse than the return of six-month U.S. Treasuries (as measured by BIL ETF).  If absolute performance is below the BIL ETF, then the investor places all funds in AGG, the aggregate bond index.\n",
    "\n",
    "https://www.theemergingmarketsinvestor.com/using-momentum-in-emerging-markets/  \n",
    "https://blog.thinknewfound.com/2019/01/fragility-case-study-dual-momentum-gem/  \n",
    "https://seekingalpha.com/article/4010394-prospecting-dual-momentum-gem\n",
    "\n",
    "\n",
    "![](GEM-rules2.png)"
   ]
  },
  {
   "cell_type": "code",
   "execution_count": 1,
   "metadata": {
    "ExecuteTime": {
     "end_time": "2020-02-17T05:42:08.798393Z",
     "start_time": "2020-02-17T05:42:07.455687Z"
    }
   },
   "outputs": [],
   "source": [
    "import pandas as pd\n",
    "import matplotlib.pyplot as plt\n",
    "import datetime\n",
    "from talib.abstract import *\n",
    "\n",
    "import pinkfish as pf\n",
    "import strategy\n",
    "\n",
    "# Format price data.\n",
    "pd.options.display.float_format = '{:0.2f}'.format\n",
    "\n",
    "%matplotlib inline"
   ]
  },
  {
   "cell_type": "code",
   "execution_count": 2,
   "metadata": {
    "ExecuteTime": {
     "end_time": "2020-02-17T05:42:08.816893Z",
     "start_time": "2020-02-17T05:42:08.808607Z"
    }
   },
   "outputs": [],
   "source": [
    "# Set size of inline plots.\n",
    "'''note: rcParams can't be in same cell as import matplotlib\n",
    "   or %matplotlib inline\n",
    "   \n",
    "   %matplotlib notebook: will lead to interactive plots embedded within\n",
    "   the notebook, you can zoom and resize the figure\n",
    "   \n",
    "   %matplotlib inline: only draw static images in the notebook\n",
    "'''\n",
    "plt.rcParams[\"figure.figsize\"] = (10, 7)"
   ]
  },
  {
   "cell_type": "markdown",
   "metadata": {},
   "source": [
    "Some global data"
   ]
  },
  {
   "cell_type": "code",
   "execution_count": 3,
   "metadata": {
    "ExecuteTime": {
     "end_time": "2020-02-17T05:42:08.835362Z",
     "start_time": "2020-02-17T05:42:08.821138Z"
    }
   },
   "outputs": [],
   "source": [
    "symbols = {'US STOCKS' : 'SPY',  'US BONDS' : 'AGG', 'EX-US STOCKS' : 'VEU', 'T-BILL': 'BIL'}\n",
    "\n",
    "capital = 10000\n",
    "start = datetime.datetime(1900, 1, 1)\n",
    "#start = datetime.datetime(*pf.SP500_BEGIN)\n",
    "end = datetime.datetime.now()\n",
    "end = datetime.datetime(2018, 1, 1)"
   ]
  },
  {
   "cell_type": "code",
   "execution_count": 4,
   "metadata": {},
   "outputs": [
    {
     "data": {
      "text/plain": [
       "{'use_adj': True, 'use_cache': True, 'lookback': 12, 'margin': 1}"
      ]
     },
     "execution_count": 4,
     "metadata": {},
     "output_type": "execute_result"
    }
   ],
   "source": [
    "options = {\n",
    "    'use_adj' : True,\n",
    "    'use_cache' : True,\n",
    "    'lookback': 12,\n",
    "    'margin': 1,\n",
    "}\n",
    "options"
   ]
  },
  {
   "cell_type": "markdown",
   "metadata": {},
   "source": [
    "Run Strategy"
   ]
  },
  {
   "cell_type": "code",
   "execution_count": 5,
   "metadata": {
    "scrolled": false
   },
   "outputs": [],
   "source": [
    "s = strategy.Strategy(symbols, capital, start, end, options)\n",
    "s.run()"
   ]
  },
  {
   "cell_type": "markdown",
   "metadata": {},
   "source": [
    "View logs"
   ]
  },
  {
   "cell_type": "code",
   "execution_count": 6,
   "metadata": {},
   "outputs": [
    {
     "data": {
      "text/html": [
       "<div>\n",
       "<style scoped>\n",
       "    .dataframe tbody tr th:only-of-type {\n",
       "        vertical-align: middle;\n",
       "    }\n",
       "\n",
       "    .dataframe tbody tr th {\n",
       "        vertical-align: top;\n",
       "    }\n",
       "\n",
       "    .dataframe thead th {\n",
       "        text-align: right;\n",
       "    }\n",
       "</style>\n",
       "<table border=\"1\" class=\"dataframe\">\n",
       "  <thead>\n",
       "    <tr style=\"text-align: right;\">\n",
       "      <th></th>\n",
       "      <th>date</th>\n",
       "      <th>seq_num</th>\n",
       "      <th>price</th>\n",
       "      <th>shares</th>\n",
       "      <th>entry_exit</th>\n",
       "      <th>direction</th>\n",
       "      <th>symbol</th>\n",
       "    </tr>\n",
       "  </thead>\n",
       "  <tbody>\n",
       "    <tr>\n",
       "      <th>0</th>\n",
       "      <td>2008-11-03</td>\n",
       "      <td>0</td>\n",
       "      <td>66.47</td>\n",
       "      <td>150</td>\n",
       "      <td>entry</td>\n",
       "      <td>LONG</td>\n",
       "      <td>AGG</td>\n",
       "    </tr>\n",
       "    <tr>\n",
       "      <th>1</th>\n",
       "      <td>2009-10-01</td>\n",
       "      <td>1</td>\n",
       "      <td>76.91</td>\n",
       "      <td>150</td>\n",
       "      <td>exit</td>\n",
       "      <td>LONG</td>\n",
       "      <td>AGG</td>\n",
       "    </tr>\n",
       "    <tr>\n",
       "      <th>2</th>\n",
       "      <td>2009-10-01</td>\n",
       "      <td>2</td>\n",
       "      <td>29.79</td>\n",
       "      <td>388</td>\n",
       "      <td>entry</td>\n",
       "      <td>LONG</td>\n",
       "      <td>VEU</td>\n",
       "    </tr>\n",
       "    <tr>\n",
       "      <th>3</th>\n",
       "      <td>2010-05-03</td>\n",
       "      <td>3</td>\n",
       "      <td>31.85</td>\n",
       "      <td>388</td>\n",
       "      <td>exit</td>\n",
       "      <td>LONG</td>\n",
       "      <td>VEU</td>\n",
       "    </tr>\n",
       "    <tr>\n",
       "      <th>4</th>\n",
       "      <td>2010-06-01</td>\n",
       "      <td>4</td>\n",
       "      <td>86.22</td>\n",
       "      <td>143</td>\n",
       "      <td>entry</td>\n",
       "      <td>LONG</td>\n",
       "      <td>SPY</td>\n",
       "    </tr>\n",
       "  </tbody>\n",
       "</table>\n",
       "</div>"
      ],
      "text/plain": [
       "        date seq_num  price shares entry_exit direction symbol\n",
       "0 2008-11-03       0  66.47    150      entry      LONG    AGG\n",
       "1 2009-10-01       1  76.91    150       exit      LONG    AGG\n",
       "2 2009-10-01       2  29.79    388      entry      LONG    VEU\n",
       "3 2010-05-03       3  31.85    388       exit      LONG    VEU\n",
       "4 2010-06-01       4  86.22    143      entry      LONG    SPY"
      ]
     },
     "execution_count": 6,
     "metadata": {},
     "output_type": "execute_result"
    }
   ],
   "source": [
    "s.rlog.head()"
   ]
  },
  {
   "cell_type": "code",
   "execution_count": 7,
   "metadata": {},
   "outputs": [
    {
     "data": {
      "text/html": [
       "<div>\n",
       "<style scoped>\n",
       "    .dataframe tbody tr th:only-of-type {\n",
       "        vertical-align: middle;\n",
       "    }\n",
       "\n",
       "    .dataframe tbody tr th {\n",
       "        vertical-align: top;\n",
       "    }\n",
       "\n",
       "    .dataframe thead th {\n",
       "        text-align: right;\n",
       "    }\n",
       "</style>\n",
       "<table border=\"1\" class=\"dataframe\">\n",
       "  <thead>\n",
       "    <tr style=\"text-align: right;\">\n",
       "      <th></th>\n",
       "      <th>entry_date</th>\n",
       "      <th>entry_price</th>\n",
       "      <th>exit_date</th>\n",
       "      <th>exit_price</th>\n",
       "      <th>pl_points</th>\n",
       "      <th>pl_cash</th>\n",
       "      <th>qty</th>\n",
       "      <th>cumul_total</th>\n",
       "      <th>direction</th>\n",
       "      <th>symbol</th>\n",
       "    </tr>\n",
       "  </thead>\n",
       "  <tbody>\n",
       "    <tr>\n",
       "      <th>13</th>\n",
       "      <td>2015-11-02</td>\n",
       "      <td>188.65</td>\n",
       "      <td>2016-02-01</td>\n",
       "      <td>174.68</td>\n",
       "      <td>-13.98</td>\n",
       "      <td>-1509.53</td>\n",
       "      <td>108</td>\n",
       "      <td>8978.28</td>\n",
       "      <td>LONG</td>\n",
       "      <td>SPY</td>\n",
       "    </tr>\n",
       "    <tr>\n",
       "      <th>14</th>\n",
       "      <td>2016-02-01</td>\n",
       "      <td>95.89</td>\n",
       "      <td>2016-04-01</td>\n",
       "      <td>97.62</td>\n",
       "      <td>1.73</td>\n",
       "      <td>340.49</td>\n",
       "      <td>197</td>\n",
       "      <td>9318.77</td>\n",
       "      <td>LONG</td>\n",
       "      <td>AGG</td>\n",
       "    </tr>\n",
       "    <tr>\n",
       "      <th>15</th>\n",
       "      <td>2016-05-02</td>\n",
       "      <td>97.89</td>\n",
       "      <td>2016-06-01</td>\n",
       "      <td>97.91</td>\n",
       "      <td>0.02</td>\n",
       "      <td>4.86</td>\n",
       "      <td>197</td>\n",
       "      <td>9323.63</td>\n",
       "      <td>LONG</td>\n",
       "      <td>AGG</td>\n",
       "    </tr>\n",
       "    <tr>\n",
       "      <th>16</th>\n",
       "      <td>2016-07-01</td>\n",
       "      <td>191.32</td>\n",
       "      <td>2017-06-01</td>\n",
       "      <td>225.21</td>\n",
       "      <td>33.89</td>\n",
       "      <td>3422.55</td>\n",
       "      <td>101</td>\n",
       "      <td>12746.18</td>\n",
       "      <td>LONG</td>\n",
       "      <td>SPY</td>\n",
       "    </tr>\n",
       "    <tr>\n",
       "      <th>17</th>\n",
       "      <td>2017-06-01</td>\n",
       "      <td>45.25</td>\n",
       "      <td>2017-12-29</td>\n",
       "      <td>50.11</td>\n",
       "      <td>4.86</td>\n",
       "      <td>2440.97</td>\n",
       "      <td>502</td>\n",
       "      <td>15187.15</td>\n",
       "      <td>LONG</td>\n",
       "      <td>VEU</td>\n",
       "    </tr>\n",
       "  </tbody>\n",
       "</table>\n",
       "</div>"
      ],
      "text/plain": [
       "   entry_date  entry_price  exit_date  exit_price  pl_points  pl_cash  qty  \\\n",
       "13 2015-11-02       188.65 2016-02-01      174.68     -13.98 -1509.53  108   \n",
       "14 2016-02-01        95.89 2016-04-01       97.62       1.73   340.49  197   \n",
       "15 2016-05-02        97.89 2016-06-01       97.91       0.02     4.86  197   \n",
       "16 2016-07-01       191.32 2017-06-01      225.21      33.89  3422.55  101   \n",
       "17 2017-06-01        45.25 2017-12-29       50.11       4.86  2440.97  502   \n",
       "\n",
       "    cumul_total direction symbol  \n",
       "13      8978.28      LONG    SPY  \n",
       "14      9318.77      LONG    AGG  \n",
       "15      9323.63      LONG    AGG  \n",
       "16     12746.18      LONG    SPY  \n",
       "17     15187.15      LONG    VEU  "
      ]
     },
     "execution_count": 7,
     "metadata": {},
     "output_type": "execute_result"
    }
   ],
   "source": [
    "s.tlog.tail()"
   ]
  },
  {
   "cell_type": "code",
   "execution_count": 8,
   "metadata": {
    "scrolled": true
   },
   "outputs": [
    {
     "data": {
      "text/html": [
       "<div>\n",
       "<style scoped>\n",
       "    .dataframe tbody tr th:only-of-type {\n",
       "        vertical-align: middle;\n",
       "    }\n",
       "\n",
       "    .dataframe tbody tr th {\n",
       "        vertical-align: top;\n",
       "    }\n",
       "\n",
       "    .dataframe thead th {\n",
       "        text-align: right;\n",
       "    }\n",
       "</style>\n",
       "<table border=\"1\" class=\"dataframe\">\n",
       "  <thead>\n",
       "    <tr style=\"text-align: right;\">\n",
       "      <th></th>\n",
       "      <th>high</th>\n",
       "      <th>low</th>\n",
       "      <th>close</th>\n",
       "      <th>shares</th>\n",
       "      <th>cash</th>\n",
       "      <th>leverage</th>\n",
       "      <th>state</th>\n",
       "    </tr>\n",
       "    <tr>\n",
       "      <th>date</th>\n",
       "      <th></th>\n",
       "      <th></th>\n",
       "      <th></th>\n",
       "      <th></th>\n",
       "      <th></th>\n",
       "      <th></th>\n",
       "      <th></th>\n",
       "    </tr>\n",
       "  </thead>\n",
       "  <tbody>\n",
       "    <tr>\n",
       "      <th>2017-12-22</th>\n",
       "      <td>25026.25</td>\n",
       "      <td>25026.25</td>\n",
       "      <td>25026.25</td>\n",
       "      <td>502</td>\n",
       "      <td>32.17</td>\n",
       "      <td>1.00</td>\n",
       "      <td>-</td>\n",
       "    </tr>\n",
       "    <tr>\n",
       "      <th>2017-12-26</th>\n",
       "      <td>25030.85</td>\n",
       "      <td>25030.85</td>\n",
       "      <td>25030.85</td>\n",
       "      <td>502</td>\n",
       "      <td>32.17</td>\n",
       "      <td>1.00</td>\n",
       "      <td>-</td>\n",
       "    </tr>\n",
       "    <tr>\n",
       "      <th>2017-12-27</th>\n",
       "      <td>25086.02</td>\n",
       "      <td>25086.02</td>\n",
       "      <td>25086.02</td>\n",
       "      <td>502</td>\n",
       "      <td>32.17</td>\n",
       "      <td>1.00</td>\n",
       "      <td>-</td>\n",
       "    </tr>\n",
       "    <tr>\n",
       "      <th>2017-12-28</th>\n",
       "      <td>25154.97</td>\n",
       "      <td>25154.97</td>\n",
       "      <td>25154.97</td>\n",
       "      <td>502</td>\n",
       "      <td>32.17</td>\n",
       "      <td>1.00</td>\n",
       "      <td>-</td>\n",
       "    </tr>\n",
       "    <tr>\n",
       "      <th>2017-12-29</th>\n",
       "      <td>25187.15</td>\n",
       "      <td>25187.15</td>\n",
       "      <td>25187.15</td>\n",
       "      <td>0</td>\n",
       "      <td>25187.15</td>\n",
       "      <td>1.00</td>\n",
       "      <td>X</td>\n",
       "    </tr>\n",
       "  </tbody>\n",
       "</table>\n",
       "</div>"
      ],
      "text/plain": [
       "               high      low    close  shares     cash  leverage state\n",
       "date                                                                  \n",
       "2017-12-22 25026.25 25026.25 25026.25     502    32.17      1.00     -\n",
       "2017-12-26 25030.85 25030.85 25030.85     502    32.17      1.00     -\n",
       "2017-12-27 25086.02 25086.02 25086.02     502    32.17      1.00     -\n",
       "2017-12-28 25154.97 25154.97 25154.97     502    32.17      1.00     -\n",
       "2017-12-29 25187.15 25187.15 25187.15       0 25187.15      1.00     X"
      ]
     },
     "execution_count": 8,
     "metadata": {},
     "output_type": "execute_result"
    }
   ],
   "source": [
    "s.dbal.tail()"
   ]
  },
  {
   "cell_type": "markdown",
   "metadata": {},
   "source": [
    "Generate strategy stats - display all available stats"
   ]
  },
  {
   "cell_type": "code",
   "execution_count": 9,
   "metadata": {},
   "outputs": [
    {
     "name": "stdout",
     "output_type": "stream",
     "text": [
      "start                                                  2008-10-30\n",
      "end                                                    2017-12-29\n",
      "beginning_balance                                           10000\n",
      "ending_balance                                           25187.15\n",
      "total_net_profit                                         15187.15\n",
      "gross_profit                                             19270.44\n",
      "gross_loss                                               -4083.28\n",
      "profit_factor                                                4.72\n",
      "return_on_initial_capital                                  151.87\n",
      "annual_return_rate                                          10.61\n",
      "trading_period                           9 years 1 months 29 days\n",
      "pct_time_in_market                                          91.77\n",
      "margin                                                          1\n",
      "avg_leverage                                                 1.00\n",
      "max_leverage                                                 1.00\n",
      "min_leverage                                                 1.00\n",
      "total_num_trades                                               18\n",
      "trades_per_year                                              1.96\n",
      "num_winning_trades                                             14\n",
      "num_losing_trades                                               4\n",
      "num_even_trades                                                 0\n",
      "pct_profitable_trades                                       77.78\n",
      "avg_profit_per_trade                                       843.73\n",
      "avg_profit_per_winning_trade                              1376.46\n",
      "avg_loss_per_losing_trade                                -1020.82\n",
      "ratio_avg_profit_win_loss                                    1.35\n",
      "largest_profit_winning_trade                              3882.23\n",
      "largest_loss_losing_trade                                -2163.30\n",
      "num_winning_points                                         134.25\n",
      "num_losing_points                                          -29.94\n",
      "total_net_points                                           104.31\n",
      "avg_points                                                   5.80\n",
      "largest_points_winning_trade                                33.89\n",
      "largest_points_losing_trade                                -15.02\n",
      "avg_pct_gain_per_trade                                       5.77\n",
      "largest_pct_winning_trade                                   23.56\n",
      "largest_pct_losing_trade                                   -14.20\n",
      "expected_shortfall                                              0\n",
      "max_consecutive_winning_trades                                  4\n",
      "max_consecutive_losing_trades                                   1\n",
      "avg_bars_winning_trades                                    141.79\n",
      "avg_bars_losing_trades                                      37.50\n",
      "max_closed_out_drawdown                                    -19.39\n",
      "max_closed_out_drawdown_peak_date                      2015-07-20\n",
      "max_closed_out_drawdown_trough_date                    2016-01-20\n",
      "max_closed_out_drawdown_recovery_date                  2017-05-25\n",
      "drawdown_loss_period                                          184\n",
      "drawdown_recovery_period                                      491\n",
      "annualized_return_over_max_drawdown                          0.55\n",
      "max_intra_day_drawdown                                     -19.39\n",
      "avg_yearly_closed_out_drawdown                              -9.56\n",
      "max_yearly_closed_out_drawdown                             -19.39\n",
      "avg_monthly_closed_out_drawdown                             -2.68\n",
      "max_monthly_closed_out_drawdown                            -12.96\n",
      "avg_weekly_closed_out_drawdown                              -1.07\n",
      "max_weekly_closed_out_drawdown                             -12.79\n",
      "avg_yearly_closed_out_runup                                 18.41\n",
      "max_yearly_closed_out_runup                                 37.05\n",
      "avg_monthly_closed_out_runup                                 3.46\n",
      "max_monthly_closed_out_runup                                10.30\n",
      "avg_weekly_closed_out_runup                                  1.29\n",
      "max_weekly_closed_out_runup                                  7.63\n",
      "pct_profitable_years                                        75.44\n",
      "best_year                                                   37.05\n",
      "worst_year                                                 -14.72\n",
      "avg_year                                                     9.96\n",
      "annual_std                                                  10.97\n",
      "pct_profitable_months                                       66.39\n",
      "best_month                                                  10.30\n",
      "worst_month                                                -12.79\n",
      "avg_month                                                    0.82\n",
      "monthly_std                                                  3.10\n",
      "pct_profitable_weeks                                        56.62\n",
      "best_week                                                    7.63\n",
      "worst_week                                                 -12.79\n",
      "avg_week                                                     0.21\n",
      "weekly_std                                                   1.75\n",
      "pct_profitable_days                                         49.93\n",
      "best_day                                                     4.64\n",
      "worst_day                                                   -6.49\n",
      "avg_day                                                      0.04\n",
      "daily_std                                                    0.83\n",
      "sharpe_ratio                                                 0.83\n",
      "sharpe_ratio_max                                             0.90\n",
      "sharpe_ratio_min                                             0.76\n",
      "sortino_ratio                                                0.98\n",
      "dtype: object\n"
     ]
    }
   ],
   "source": [
    "pf.print_full(s.stats)"
   ]
  },
  {
   "cell_type": "markdown",
   "metadata": {},
   "source": [
    "Run Benchmark, Retrieve benchmark logs, and Generate benchmark stats"
   ]
  },
  {
   "cell_type": "code",
   "execution_count": 10,
   "metadata": {},
   "outputs": [],
   "source": [
    "benchmark = pf.Benchmark('ACWI', s.capital, s.start, s.end, use_adj=True)\n",
    "benchmark.run()"
   ]
  },
  {
   "cell_type": "markdown",
   "metadata": {},
   "source": [
    "Plot Equity Curves: Strategy vs Benchmark"
   ]
  },
  {
   "cell_type": "code",
   "execution_count": 11,
   "metadata": {
    "scrolled": false
   },
   "outputs": [
    {
     "data": {
      "image/png": "[encoded data removed]",
      "text/plain": [
       "<Figure size 720x504 with 1 Axes>"
      ]
     },
     "metadata": {
      "needs_background": "light"
     },
     "output_type": "display_data"
    }
   ],
   "source": [
    "pf.plot_equity_curve(s.dbal, benchmark=benchmark.dbal)"
   ]
  },
  {
   "cell_type": "markdown",
   "metadata": {},
   "source": [
    "Bar Graph: Strategy vs Benchmark"
   ]
  },
  {
   "cell_type": "code",
   "execution_count": 12,
   "metadata": {},
   "outputs": [
    {
     "data": {
      "text/html": [
       "<div>\n",
       "<style scoped>\n",
       "    .dataframe tbody tr th:only-of-type {\n",
       "        vertical-align: middle;\n",
       "    }\n",
       "\n",
       "    .dataframe tbody tr th {\n",
       "        vertical-align: top;\n",
       "    }\n",
       "\n",
       "    .dataframe thead th {\n",
       "        text-align: right;\n",
       "    }\n",
       "</style>\n",
       "<table border=\"1\" class=\"dataframe\">\n",
       "  <thead>\n",
       "    <tr style=\"text-align: right;\">\n",
       "      <th></th>\n",
       "      <th>strategy</th>\n",
       "      <th>benchmark</th>\n",
       "    </tr>\n",
       "  </thead>\n",
       "  <tbody>\n",
       "    <tr>\n",
       "      <th>annual_return_rate</th>\n",
       "      <td>10.61</td>\n",
       "      <td>11.10</td>\n",
       "    </tr>\n",
       "    <tr>\n",
       "      <th>max_closed_out_drawdown</th>\n",
       "      <td>-19.39</td>\n",
       "      <td>-32.19</td>\n",
       "    </tr>\n",
       "    <tr>\n",
       "      <th>annualized_return_over_max_drawdown</th>\n",
       "      <td>0.55</td>\n",
       "      <td>0.34</td>\n",
       "    </tr>\n",
       "    <tr>\n",
       "      <th>best_month</th>\n",
       "      <td>10.30</td>\n",
       "      <td>25.78</td>\n",
       "    </tr>\n",
       "    <tr>\n",
       "      <th>worst_month</th>\n",
       "      <td>-12.79</td>\n",
       "      <td>-21.46</td>\n",
       "    </tr>\n",
       "    <tr>\n",
       "      <th>sharpe_ratio</th>\n",
       "      <td>0.83</td>\n",
       "      <td>0.63</td>\n",
       "    </tr>\n",
       "    <tr>\n",
       "      <th>sortino_ratio</th>\n",
       "      <td>0.98</td>\n",
       "      <td>0.79</td>\n",
       "    </tr>\n",
       "    <tr>\n",
       "      <th>monthly_std</th>\n",
       "      <td>3.10</td>\n",
       "      <td>4.54</td>\n",
       "    </tr>\n",
       "    <tr>\n",
       "      <th>annual_std</th>\n",
       "      <td>10.97</td>\n",
       "      <td>13.49</td>\n",
       "    </tr>\n",
       "  </tbody>\n",
       "</table>\n",
       "</div>"
      ],
      "text/plain": [
       "                                     strategy  benchmark\n",
       "annual_return_rate                      10.61      11.10\n",
       "max_closed_out_drawdown                -19.39     -32.19\n",
       "annualized_return_over_max_drawdown      0.55       0.34\n",
       "best_month                              10.30      25.78\n",
       "worst_month                            -12.79     -21.46\n",
       "sharpe_ratio                             0.83       0.63\n",
       "sortino_ratio                            0.98       0.79\n",
       "monthly_std                              3.10       4.54\n",
       "annual_std                              10.97      13.49"
      ]
     },
     "execution_count": 12,
     "metadata": {},
     "output_type": "execute_result"
    },
    {
     "data": {
      "image/png": "[encoded data removed]",
      "text/plain": [
       "<Figure size 720x504 with 1 Axes>"
      ]
     },
     "metadata": {
      "needs_background": "light"
     },
     "output_type": "display_data"
    }
   ],
   "source": [
    "df = pf.plot_bar_graph(s.stats, benchmark.stats)\n",
    "df"
   ]
  },
  {
   "cell_type": "code",
   "execution_count": null,
   "metadata": {},
   "outputs": [],
   "source": []
  }
 ],
 "metadata": {
  "kernelspec": {
   "display_name": "Python 3",
   "language": "python",
   "name": "python3"
  },
  "language_info": {
   "codemirror_mode": {
    "name": "ipython",
    "version": 3
   },
   "file_extension": ".py",
   "mimetype": "text/x-python",
   "name": "python",
   "nbconvert_exporter": "python",
   "pygments_lexer": "ipython3",
   "version": "3.8.10"
  },
  "latex_envs": {
   "LaTeX_envs_menu_present": true,
   "autoclose": false,
   "autocomplete": true,
   "bibliofile": "biblio.bib",
   "cite_by": "apalike",
   "current_citInitial": 1,
   "eqLabelWithNumbers": true,
   "eqNumInitial": 1,
   "hotkeys": {
    "equation": "Ctrl-E",
    "itemize": "Ctrl-I"
   },
   "labels_anchors": false,
   "latex_user_defs": false,
   "report_style_numbering": false,
   "user_envs_cfg": false
  }
 },
 "nbformat": 4,
 "nbformat_minor": 1
}
