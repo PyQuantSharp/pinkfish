{
 "cells": [
  {
   "cell_type": "markdown",
   "metadata": {},
   "source": [
    "# SMA Percent Band\n",
    "\n",
    "    1. The SPY closes above its upper band, buy\n",
    "    2. If the SPY closes below its lower band, sell your long position.\n",
    "    \n",
    "    (optimize period)"
   ]
  },
  {
   "cell_type": "code",
   "execution_count": 1,
   "metadata": {
    "ExecuteTime": {
     "end_time": "2020-02-17T03:48:57.172933Z",
     "start_time": "2020-02-17T03:48:56.413862Z"
    }
   },
   "outputs": [],
   "source": [
    "import pandas as pd\n",
    "import matplotlib.pyplot as plt\n",
    "import datetime\n",
    "from talib.abstract import *\n",
    "\n",
    "import pinkfish as pf\n",
    "import strategy\n",
    "\n",
    "# format price data\n",
    "pd.options.display.float_format = '{:0.2f}'.format\n",
    "\n",
    "%matplotlib inline"
   ]
  },
  {
   "cell_type": "code",
   "execution_count": 2,
   "metadata": {
    "ExecuteTime": {
     "end_time": "2020-02-17T03:48:57.190111Z",
     "start_time": "2020-02-17T03:48:57.183653Z"
    }
   },
   "outputs": [],
   "source": [
    "# set size of inline plots\n",
    "'''note: rcParams can't be in same cell as import matplotlib\n",
    "   or %matplotlib inline\n",
    "   \n",
    "   %matplotlib notebook: will lead to interactive plots embedded within\n",
    "   the notebook, you can zoom and resize the figure\n",
    "   \n",
    "   %matplotlib inline: only draw static images in the notebook\n",
    "'''\n",
    "plt.rcParams[\"figure.figsize\"] = (10, 7)"
   ]
  },
  {
   "cell_type": "markdown",
   "metadata": {},
   "source": [
    "Some global data"
   ]
  },
  {
   "cell_type": "code",
   "execution_count": 3,
   "metadata": {
    "ExecuteTime": {
     "end_time": "2020-02-17T03:48:57.204555Z",
     "start_time": "2020-02-17T03:48:57.194401Z"
    }
   },
   "outputs": [],
   "source": [
    "#symbol = '^GSPC'\n",
    "symbol = 'SPY'\n",
    "#symbol = 'DIA'\n",
    "#symbol = 'QQQ'\n",
    "#symbol = 'IWM'\n",
    "#symbol = 'TLT'\n",
    "#symbol = 'GLD'\n",
    "#symbol = 'AAPL'\n",
    "#symbol = 'BBRY'\n",
    "#symbol = 'GDX'\n",
    "capital = 10000\n",
    "#start = datetime.datetime(1900, 1, 1)\n",
    "start = datetime.datetime.strptime(pf.SP500_BEGIN, '%Y-%m-%d')\n",
    "end = datetime.datetime.now()"
   ]
  },
  {
   "cell_type": "markdown",
   "metadata": {},
   "source": [
    "Define the periods"
   ]
  },
  {
   "cell_type": "code",
   "execution_count": 4,
   "metadata": {
    "ExecuteTime": {
     "end_time": "2020-02-17T03:48:57.219282Z",
     "start_time": "2020-02-17T03:48:57.209459Z"
    }
   },
   "outputs": [],
   "source": [
    "periods = range(50, 525, 25)\n",
    "periods = [str(period) for period in periods]"
   ]
  },
  {
   "cell_type": "markdown",
   "metadata": {},
   "source": [
    "Run Strategy"
   ]
  },
  {
   "cell_type": "code",
   "execution_count": 5,
   "metadata": {
    "ExecuteTime": {
     "end_time": "2020-02-17T03:49:12.813759Z",
     "start_time": "2020-02-17T03:48:57.225846Z"
    }
   },
   "outputs": [
    {
     "name": "stdout",
     "output_type": "stream",
     "text": [
      "50 75 100 125 150 175 200 225 250 275 300 325 350 375 400 425 450 475 500 "
     ]
    }
   ],
   "source": [
    "strategies = pd.Series(dtype=object)\n",
    "for period in periods:\n",
    "    print(\"{0}\".format(period), end=\" \")\n",
    "    strategies[period] = strategy.Strategy(symbol, capital, start, end, sma_period=int(period))\n",
    "    strategies[period].run()\n",
    "    _, strategies[period].tlog, strategies[period].dbal = strategies[period].get_logs()\n",
    "    strategies[period].stats = strategies[period].get_stats()"
   ]
  },
  {
   "cell_type": "markdown",
   "metadata": {},
   "source": [
    "Summarize results"
   ]
  },
  {
   "cell_type": "code",
   "execution_count": 7,
   "metadata": {
    "ExecuteTime": {
     "end_time": "2020-02-17T03:49:12.881701Z",
     "start_time": "2020-02-17T03:49:12.827144Z"
    },
    "scrolled": false
   },
   "outputs": [
    {
     "data": {
      "text/html": [
       "<div>\n",
       "<style scoped>\n",
       "    .dataframe tbody tr th:only-of-type {\n",
       "        vertical-align: middle;\n",
       "    }\n",
       "\n",
       "    .dataframe tbody tr th {\n",
       "        vertical-align: top;\n",
       "    }\n",
       "\n",
       "    .dataframe thead th {\n",
       "        text-align: right;\n",
       "    }\n",
       "</style>\n",
       "<table border=\"1\" class=\"dataframe\">\n",
       "  <thead>\n",
       "    <tr style=\"text-align: right;\">\n",
       "      <th></th>\n",
       "      <th>50</th>\n",
       "      <th>75</th>\n",
       "      <th>100</th>\n",
       "      <th>125</th>\n",
       "      <th>150</th>\n",
       "      <th>175</th>\n",
       "      <th>200</th>\n",
       "      <th>225</th>\n",
       "      <th>250</th>\n",
       "      <th>275</th>\n",
       "      <th>300</th>\n",
       "      <th>325</th>\n",
       "      <th>350</th>\n",
       "      <th>375</th>\n",
       "      <th>400</th>\n",
       "      <th>425</th>\n",
       "      <th>450</th>\n",
       "      <th>475</th>\n",
       "      <th>500</th>\n",
       "    </tr>\n",
       "  </thead>\n",
       "  <tbody>\n",
       "    <tr>\n",
       "      <th>start</th>\n",
       "      <td>1993-04-12</td>\n",
       "      <td>1993-05-17</td>\n",
       "      <td>1993-06-22</td>\n",
       "      <td>1993-07-28</td>\n",
       "      <td>1993-09-01</td>\n",
       "      <td>1993-10-07</td>\n",
       "      <td>1993-11-11</td>\n",
       "      <td>1993-12-17</td>\n",
       "      <td>1994-01-24</td>\n",
       "      <td>1994-03-01</td>\n",
       "      <td>1994-04-06</td>\n",
       "      <td>1994-05-12</td>\n",
       "      <td>1994-06-17</td>\n",
       "      <td>1994-07-25</td>\n",
       "      <td>1994-08-29</td>\n",
       "      <td>1994-10-04</td>\n",
       "      <td>1994-11-08</td>\n",
       "      <td>1994-12-14</td>\n",
       "      <td>1995-01-20</td>\n",
       "    </tr>\n",
       "    <tr>\n",
       "      <th>ending_balance</th>\n",
       "      <td>24635.10</td>\n",
       "      <td>33406.70</td>\n",
       "      <td>26969.50</td>\n",
       "      <td>29779.41</td>\n",
       "      <td>31360.00</td>\n",
       "      <td>36858.19</td>\n",
       "      <td>49186.24</td>\n",
       "      <td>61252.02</td>\n",
       "      <td>58897.30</td>\n",
       "      <td>54919.12</td>\n",
       "      <td>57248.75</td>\n",
       "      <td>66196.43</td>\n",
       "      <td>65495.22</td>\n",
       "      <td>83429.67</td>\n",
       "      <td>80962.51</td>\n",
       "      <td>76267.48</td>\n",
       "      <td>66783.32</td>\n",
       "      <td>66937.79</td>\n",
       "      <td>63511.28</td>\n",
       "    </tr>\n",
       "    <tr>\n",
       "      <th>annual_return_rate</th>\n",
       "      <td>3.28</td>\n",
       "      <td>4.42</td>\n",
       "      <td>3.64</td>\n",
       "      <td>4.02</td>\n",
       "      <td>4.23</td>\n",
       "      <td>4.86</td>\n",
       "      <td>5.99</td>\n",
       "      <td>6.87</td>\n",
       "      <td>6.74</td>\n",
       "      <td>6.49</td>\n",
       "      <td>6.68</td>\n",
       "      <td>7.29</td>\n",
       "      <td>7.27</td>\n",
       "      <td>8.28</td>\n",
       "      <td>8.19</td>\n",
       "      <td>7.98</td>\n",
       "      <td>7.46</td>\n",
       "      <td>7.50</td>\n",
       "      <td>7.32</td>\n",
       "    </tr>\n",
       "    <tr>\n",
       "      <th>max_closed_out_drawdown</th>\n",
       "      <td>-42.82</td>\n",
       "      <td>-42.65</td>\n",
       "      <td>-49.83</td>\n",
       "      <td>-44.21</td>\n",
       "      <td>-38.23</td>\n",
       "      <td>-32.77</td>\n",
       "      <td>-28.66</td>\n",
       "      <td>-22.78</td>\n",
       "      <td>-21.29</td>\n",
       "      <td>-25.87</td>\n",
       "      <td>-25.44</td>\n",
       "      <td>-23.19</td>\n",
       "      <td>-27.33</td>\n",
       "      <td>-25.88</td>\n",
       "      <td>-24.09</td>\n",
       "      <td>-26.99</td>\n",
       "      <td>-31.20</td>\n",
       "      <td>-29.38</td>\n",
       "      <td>-29.71</td>\n",
       "    </tr>\n",
       "    <tr>\n",
       "      <th>annualized_return_over_max_drawdown</th>\n",
       "      <td>0.08</td>\n",
       "      <td>0.10</td>\n",
       "      <td>0.07</td>\n",
       "      <td>0.09</td>\n",
       "      <td>0.11</td>\n",
       "      <td>0.15</td>\n",
       "      <td>0.21</td>\n",
       "      <td>0.30</td>\n",
       "      <td>0.32</td>\n",
       "      <td>0.25</td>\n",
       "      <td>0.26</td>\n",
       "      <td>0.31</td>\n",
       "      <td>0.27</td>\n",
       "      <td>0.32</td>\n",
       "      <td>0.34</td>\n",
       "      <td>0.30</td>\n",
       "      <td>0.24</td>\n",
       "      <td>0.26</td>\n",
       "      <td>0.25</td>\n",
       "    </tr>\n",
       "    <tr>\n",
       "      <th>drawdown_recovery_period</th>\n",
       "      <td>3220</td>\n",
       "      <td>2862</td>\n",
       "      <td>3866</td>\n",
       "      <td>4153</td>\n",
       "      <td>2854</td>\n",
       "      <td>2527</td>\n",
       "      <td>1406</td>\n",
       "      <td>996</td>\n",
       "      <td>680</td>\n",
       "      <td>449</td>\n",
       "      <td>669</td>\n",
       "      <td>274</td>\n",
       "      <td>444</td>\n",
       "      <td>181</td>\n",
       "      <td>261</td>\n",
       "      <td>594</td>\n",
       "      <td>704</td>\n",
       "      <td>676</td>\n",
       "      <td>680</td>\n",
       "    </tr>\n",
       "    <tr>\n",
       "      <th>best_month</th>\n",
       "      <td>12.78</td>\n",
       "      <td>12.32</td>\n",
       "      <td>15.04</td>\n",
       "      <td>15.04</td>\n",
       "      <td>14.99</td>\n",
       "      <td>15.03</td>\n",
       "      <td>12.95</td>\n",
       "      <td>12.93</td>\n",
       "      <td>12.95</td>\n",
       "      <td>12.95</td>\n",
       "      <td>12.95</td>\n",
       "      <td>15.12</td>\n",
       "      <td>15.17</td>\n",
       "      <td>15.14</td>\n",
       "      <td>15.78</td>\n",
       "      <td>15.75</td>\n",
       "      <td>17.77</td>\n",
       "      <td>17.78</td>\n",
       "      <td>17.76</td>\n",
       "    </tr>\n",
       "    <tr>\n",
       "      <th>worst_month</th>\n",
       "      <td>-14.35</td>\n",
       "      <td>-16.55</td>\n",
       "      <td>-16.57</td>\n",
       "      <td>-13.58</td>\n",
       "      <td>-17.36</td>\n",
       "      <td>-17.30</td>\n",
       "      <td>-17.37</td>\n",
       "      <td>-17.37</td>\n",
       "      <td>-18.73</td>\n",
       "      <td>-17.21</td>\n",
       "      <td>-18.85</td>\n",
       "      <td>-18.87</td>\n",
       "      <td>-18.91</td>\n",
       "      <td>-18.89</td>\n",
       "      <td>-18.90</td>\n",
       "      <td>-18.92</td>\n",
       "      <td>-20.78</td>\n",
       "      <td>-20.76</td>\n",
       "      <td>-22.82</td>\n",
       "    </tr>\n",
       "    <tr>\n",
       "      <th>sharpe_ratio</th>\n",
       "      <td>0.35</td>\n",
       "      <td>0.44</td>\n",
       "      <td>0.37</td>\n",
       "      <td>0.40</td>\n",
       "      <td>0.41</td>\n",
       "      <td>0.46</td>\n",
       "      <td>0.55</td>\n",
       "      <td>0.61</td>\n",
       "      <td>0.59</td>\n",
       "      <td>0.57</td>\n",
       "      <td>0.57</td>\n",
       "      <td>0.61</td>\n",
       "      <td>0.60</td>\n",
       "      <td>0.67</td>\n",
       "      <td>0.66</td>\n",
       "      <td>0.64</td>\n",
       "      <td>0.60</td>\n",
       "      <td>0.60</td>\n",
       "      <td>0.59</td>\n",
       "    </tr>\n",
       "    <tr>\n",
       "      <th>sortino_ratio</th>\n",
       "      <td>0.37</td>\n",
       "      <td>0.48</td>\n",
       "      <td>0.40</td>\n",
       "      <td>0.43</td>\n",
       "      <td>0.45</td>\n",
       "      <td>0.50</td>\n",
       "      <td>0.61</td>\n",
       "      <td>0.68</td>\n",
       "      <td>0.67</td>\n",
       "      <td>0.63</td>\n",
       "      <td>0.64</td>\n",
       "      <td>0.69</td>\n",
       "      <td>0.68</td>\n",
       "      <td>0.77</td>\n",
       "      <td>0.76</td>\n",
       "      <td>0.73</td>\n",
       "      <td>0.68</td>\n",
       "      <td>0.68</td>\n",
       "      <td>0.66</td>\n",
       "    </tr>\n",
       "    <tr>\n",
       "      <th>monthly_std</th>\n",
       "      <td>2.88</td>\n",
       "      <td>2.92</td>\n",
       "      <td>3.00</td>\n",
       "      <td>3.12</td>\n",
       "      <td>3.22</td>\n",
       "      <td>3.18</td>\n",
       "      <td>3.12</td>\n",
       "      <td>3.16</td>\n",
       "      <td>3.20</td>\n",
       "      <td>3.24</td>\n",
       "      <td>3.28</td>\n",
       "      <td>3.25</td>\n",
       "      <td>3.29</td>\n",
       "      <td>3.26</td>\n",
       "      <td>3.26</td>\n",
       "      <td>3.32</td>\n",
       "      <td>3.44</td>\n",
       "      <td>3.49</td>\n",
       "      <td>3.55</td>\n",
       "    </tr>\n",
       "    <tr>\n",
       "      <th>pct_time_in_market</th>\n",
       "      <td>66.59</td>\n",
       "      <td>69.45</td>\n",
       "      <td>70.75</td>\n",
       "      <td>72.00</td>\n",
       "      <td>72.82</td>\n",
       "      <td>73.60</td>\n",
       "      <td>74.22</td>\n",
       "      <td>74.53</td>\n",
       "      <td>75.62</td>\n",
       "      <td>76.29</td>\n",
       "      <td>77.24</td>\n",
       "      <td>78.03</td>\n",
       "      <td>78.64</td>\n",
       "      <td>79.37</td>\n",
       "      <td>79.71</td>\n",
       "      <td>79.86</td>\n",
       "      <td>79.99</td>\n",
       "      <td>80.20</td>\n",
       "      <td>80.16</td>\n",
       "    </tr>\n",
       "    <tr>\n",
       "      <th>total_num_trades</th>\n",
       "      <td>263</td>\n",
       "      <td>199</td>\n",
       "      <td>171</td>\n",
       "      <td>160</td>\n",
       "      <td>144</td>\n",
       "      <td>118</td>\n",
       "      <td>96</td>\n",
       "      <td>84</td>\n",
       "      <td>83</td>\n",
       "      <td>79</td>\n",
       "      <td>70</td>\n",
       "      <td>58</td>\n",
       "      <td>53</td>\n",
       "      <td>43</td>\n",
       "      <td>44</td>\n",
       "      <td>38</td>\n",
       "      <td>40</td>\n",
       "      <td>40</td>\n",
       "      <td>40</td>\n",
       "    </tr>\n",
       "    <tr>\n",
       "      <th>trades_per_year</th>\n",
       "      <td>9.41</td>\n",
       "      <td>7.14</td>\n",
       "      <td>6.16</td>\n",
       "      <td>5.79</td>\n",
       "      <td>5.22</td>\n",
       "      <td>4.30</td>\n",
       "      <td>3.51</td>\n",
       "      <td>3.08</td>\n",
       "      <td>3.05</td>\n",
       "      <td>2.92</td>\n",
       "      <td>2.60</td>\n",
       "      <td>2.16</td>\n",
       "      <td>1.98</td>\n",
       "      <td>1.61</td>\n",
       "      <td>1.66</td>\n",
       "      <td>1.44</td>\n",
       "      <td>1.52</td>\n",
       "      <td>1.52</td>\n",
       "      <td>1.53</td>\n",
       "    </tr>\n",
       "    <tr>\n",
       "      <th>pct_profitable_trades</th>\n",
       "      <td>27.38</td>\n",
       "      <td>27.14</td>\n",
       "      <td>25.15</td>\n",
       "      <td>22.50</td>\n",
       "      <td>22.22</td>\n",
       "      <td>22.88</td>\n",
       "      <td>23.96</td>\n",
       "      <td>25.00</td>\n",
       "      <td>26.51</td>\n",
       "      <td>24.05</td>\n",
       "      <td>25.71</td>\n",
       "      <td>24.14</td>\n",
       "      <td>26.42</td>\n",
       "      <td>30.23</td>\n",
       "      <td>22.73</td>\n",
       "      <td>21.05</td>\n",
       "      <td>20.00</td>\n",
       "      <td>22.50</td>\n",
       "      <td>25.00</td>\n",
       "    </tr>\n",
       "    <tr>\n",
       "      <th>avg_points</th>\n",
       "      <td>0.58</td>\n",
       "      <td>0.85</td>\n",
       "      <td>0.85</td>\n",
       "      <td>1.09</td>\n",
       "      <td>1.07</td>\n",
       "      <td>1.55</td>\n",
       "      <td>2.39</td>\n",
       "      <td>3.14</td>\n",
       "      <td>3.26</td>\n",
       "      <td>3.43</td>\n",
       "      <td>3.76</td>\n",
       "      <td>4.87</td>\n",
       "      <td>5.23</td>\n",
       "      <td>7.13</td>\n",
       "      <td>7.15</td>\n",
       "      <td>7.94</td>\n",
       "      <td>7.21</td>\n",
       "      <td>7.14</td>\n",
       "      <td>6.78</td>\n",
       "    </tr>\n",
       "  </tbody>\n",
       "</table>\n",
       "</div>"
      ],
      "text/plain": [
       "                                             50          75         100  \\\n",
       "start                                1993-04-12  1993-05-17  1993-06-22   \n",
       "ending_balance                         24635.10    33406.70    26969.50   \n",
       "annual_return_rate                         3.28        4.42        3.64   \n",
       "max_closed_out_drawdown                  -42.82      -42.65      -49.83   \n",
       "annualized_return_over_max_drawdown        0.08        0.10        0.07   \n",
       "drawdown_recovery_period                   3220        2862        3866   \n",
       "best_month                                12.78       12.32       15.04   \n",
       "worst_month                              -14.35      -16.55      -16.57   \n",
       "sharpe_ratio                               0.35        0.44        0.37   \n",
       "sortino_ratio                              0.37        0.48        0.40   \n",
       "monthly_std                                2.88        2.92        3.00   \n",
       "pct_time_in_market                        66.59       69.45       70.75   \n",
       "total_num_trades                            263         199         171   \n",
       "trades_per_year                            9.41        7.14        6.16   \n",
       "pct_profitable_trades                     27.38       27.14       25.15   \n",
       "avg_points                                 0.58        0.85        0.85   \n",
       "\n",
       "                                            125         150         175  \\\n",
       "start                                1993-07-28  1993-09-01  1993-10-07   \n",
       "ending_balance                         29779.41    31360.00    36858.19   \n",
       "annual_return_rate                         4.02        4.23        4.86   \n",
       "max_closed_out_drawdown                  -44.21      -38.23      -32.77   \n",
       "annualized_return_over_max_drawdown        0.09        0.11        0.15   \n",
       "drawdown_recovery_period                   4153        2854        2527   \n",
       "best_month                                15.04       14.99       15.03   \n",
       "worst_month                              -13.58      -17.36      -17.30   \n",
       "sharpe_ratio                               0.40        0.41        0.46   \n",
       "sortino_ratio                              0.43        0.45        0.50   \n",
       "monthly_std                                3.12        3.22        3.18   \n",
       "pct_time_in_market                        72.00       72.82       73.60   \n",
       "total_num_trades                            160         144         118   \n",
       "trades_per_year                            5.79        5.22        4.30   \n",
       "pct_profitable_trades                     22.50       22.22       22.88   \n",
       "avg_points                                 1.09        1.07        1.55   \n",
       "\n",
       "                                            200         225         250  \\\n",
       "start                                1993-11-11  1993-12-17  1994-01-24   \n",
       "ending_balance                         49186.24    61252.02    58897.30   \n",
       "annual_return_rate                         5.99        6.87        6.74   \n",
       "max_closed_out_drawdown                  -28.66      -22.78      -21.29   \n",
       "annualized_return_over_max_drawdown        0.21        0.30        0.32   \n",
       "drawdown_recovery_period                   1406         996         680   \n",
       "best_month                                12.95       12.93       12.95   \n",
       "worst_month                              -17.37      -17.37      -18.73   \n",
       "sharpe_ratio                               0.55        0.61        0.59   \n",
       "sortino_ratio                              0.61        0.68        0.67   \n",
       "monthly_std                                3.12        3.16        3.20   \n",
       "pct_time_in_market                        74.22       74.53       75.62   \n",
       "total_num_trades                             96          84          83   \n",
       "trades_per_year                            3.51        3.08        3.05   \n",
       "pct_profitable_trades                     23.96       25.00       26.51   \n",
       "avg_points                                 2.39        3.14        3.26   \n",
       "\n",
       "                                            275         300         325  \\\n",
       "start                                1994-03-01  1994-04-06  1994-05-12   \n",
       "ending_balance                         54919.12    57248.75    66196.43   \n",
       "annual_return_rate                         6.49        6.68        7.29   \n",
       "max_closed_out_drawdown                  -25.87      -25.44      -23.19   \n",
       "annualized_return_over_max_drawdown        0.25        0.26        0.31   \n",
       "drawdown_recovery_period                    449         669         274   \n",
       "best_month                                12.95       12.95       15.12   \n",
       "worst_month                              -17.21      -18.85      -18.87   \n",
       "sharpe_ratio                               0.57        0.57        0.61   \n",
       "sortino_ratio                              0.63        0.64        0.69   \n",
       "monthly_std                                3.24        3.28        3.25   \n",
       "pct_time_in_market                        76.29       77.24       78.03   \n",
       "total_num_trades                             79          70          58   \n",
       "trades_per_year                            2.92        2.60        2.16   \n",
       "pct_profitable_trades                     24.05       25.71       24.14   \n",
       "avg_points                                 3.43        3.76        4.87   \n",
       "\n",
       "                                            350         375         400  \\\n",
       "start                                1994-06-17  1994-07-25  1994-08-29   \n",
       "ending_balance                         65495.22    83429.67    80962.51   \n",
       "annual_return_rate                         7.27        8.28        8.19   \n",
       "max_closed_out_drawdown                  -27.33      -25.88      -24.09   \n",
       "annualized_return_over_max_drawdown        0.27        0.32        0.34   \n",
       "drawdown_recovery_period                    444         181         261   \n",
       "best_month                                15.17       15.14       15.78   \n",
       "worst_month                              -18.91      -18.89      -18.90   \n",
       "sharpe_ratio                               0.60        0.67        0.66   \n",
       "sortino_ratio                              0.68        0.77        0.76   \n",
       "monthly_std                                3.29        3.26        3.26   \n",
       "pct_time_in_market                        78.64       79.37       79.71   \n",
       "total_num_trades                             53          43          44   \n",
       "trades_per_year                            1.98        1.61        1.66   \n",
       "pct_profitable_trades                     26.42       30.23       22.73   \n",
       "avg_points                                 5.23        7.13        7.15   \n",
       "\n",
       "                                            425         450         475  \\\n",
       "start                                1994-10-04  1994-11-08  1994-12-14   \n",
       "ending_balance                         76267.48    66783.32    66937.79   \n",
       "annual_return_rate                         7.98        7.46        7.50   \n",
       "max_closed_out_drawdown                  -26.99      -31.20      -29.38   \n",
       "annualized_return_over_max_drawdown        0.30        0.24        0.26   \n",
       "drawdown_recovery_period                    594         704         676   \n",
       "best_month                                15.75       17.77       17.78   \n",
       "worst_month                              -18.92      -20.78      -20.76   \n",
       "sharpe_ratio                               0.64        0.60        0.60   \n",
       "sortino_ratio                              0.73        0.68        0.68   \n",
       "monthly_std                                3.32        3.44        3.49   \n",
       "pct_time_in_market                        79.86       79.99       80.20   \n",
       "total_num_trades                             38          40          40   \n",
       "trades_per_year                            1.44        1.52        1.52   \n",
       "pct_profitable_trades                     21.05       20.00       22.50   \n",
       "avg_points                                 7.94        7.21        7.14   \n",
       "\n",
       "                                            500  \n",
       "start                                1995-01-20  \n",
       "ending_balance                         63511.28  \n",
       "annual_return_rate                         7.32  \n",
       "max_closed_out_drawdown                  -29.71  \n",
       "annualized_return_over_max_drawdown        0.25  \n",
       "drawdown_recovery_period                    680  \n",
       "best_month                                17.76  \n",
       "worst_month                              -22.82  \n",
       "sharpe_ratio                               0.59  \n",
       "sortino_ratio                              0.66  \n",
       "monthly_std                                3.55  \n",
       "pct_time_in_market                        80.16  \n",
       "total_num_trades                             40  \n",
       "trades_per_year                            1.53  \n",
       "pct_profitable_trades                     25.00  \n",
       "avg_points                                 6.78  "
      ]
     },
     "execution_count": 7,
     "metadata": {},
     "output_type": "execute_result"
    }
   ],
   "source": [
    "metrics = ('start',\n",
    "           'ending_balance',\n",
    "           'annual_return_rate',\n",
    "           'max_closed_out_drawdown',\n",
    "           'annualized_return_over_max_drawdown',\n",
    "           'drawdown_recovery_period',\n",
    "           'best_month',\n",
    "           'worst_month',\n",
    "           'sharpe_ratio',\n",
    "           'sortino_ratio',\n",
    "           'monthly_std',\n",
    "           'pct_time_in_market',\n",
    "           'total_num_trades',\n",
    "           'trades_per_year',\n",
    "           'pct_profitable_trades',\n",
    "           'avg_points')\n",
    "\n",
    "df = strategy.summary(strategies, metrics)\n",
    "df"
   ]
  },
  {
   "cell_type": "markdown",
   "metadata": {},
   "source": [
    "Bar graphs"
   ]
  },
  {
   "cell_type": "code",
   "execution_count": 8,
   "metadata": {
    "ExecuteTime": {
     "end_time": "2020-02-17T03:49:13.850931Z",
     "start_time": "2020-02-17T03:49:12.891469Z"
    }
   },
   "outputs": [
    {
     "data": {
      "image/png": "[encoded data removed]",
      "text/plain": [
       "<Figure size 720x504 with 1 Axes>"
      ]
     },
     "metadata": {
      "needs_background": "light"
     },
     "output_type": "display_data"
    },
    {
     "data": {
      "image/png": "[encoded data removed]",
      "text/plain": [
       "<Figure size 720x504 with 1 Axes>"
      ]
     },
     "metadata": {
      "needs_background": "light"
     },
     "output_type": "display_data"
    },
    {
     "data": {
      "image/png": "[encoded data removed]",
      "text/plain": [
       "<Figure size 720x504 with 1 Axes>"
      ]
     },
     "metadata": {
      "needs_background": "light"
     },
     "output_type": "display_data"
    },
    {
     "data": {
      "image/png": "[encoded data removed]",
      "text/plain": [
       "<Figure size 720x504 with 1 Axes>"
      ]
     },
     "metadata": {
      "needs_background": "light"
     },
     "output_type": "display_data"
    }
   ],
   "source": [
    "strategy.plot_bar_graph(df, 'annual_return_rate')\n",
    "strategy.plot_bar_graph(df, 'ending_balance')\n",
    "strategy.plot_bar_graph(df, 'sharpe_ratio')\n",
    "strategy.plot_bar_graph(df, 'max_closed_out_drawdown')"
   ]
  },
  {
   "cell_type": "markdown",
   "metadata": {},
   "source": [
    "Run Benchmark"
   ]
  },
  {
   "cell_type": "code",
   "execution_count": 9,
   "metadata": {
    "ExecuteTime": {
     "end_time": "2020-02-17T03:49:14.539082Z",
     "start_time": "2020-02-17T03:49:13.862012Z"
    }
   },
   "outputs": [],
   "source": [
    "s = strategies[periods[0]]\n",
    "benchmark = pf.Benchmark(symbol, capital, s.start, s.end)\n",
    "benchmark.run()"
   ]
  },
  {
   "cell_type": "markdown",
   "metadata": {},
   "source": [
    "Equity curve"
   ]
  },
  {
   "cell_type": "code",
   "execution_count": 10,
   "metadata": {
    "ExecuteTime": {
     "end_time": "2020-02-17T03:49:14.814529Z",
     "start_time": "2020-02-17T03:49:14.552368Z"
    }
   },
   "outputs": [
    {
     "data": {
      "image/png": "[encoded data removed]",
      "text/plain": [
       "<Figure size 720x504 with 1 Axes>"
      ]
     },
     "metadata": {
      "needs_background": "light"
     },
     "output_type": "display_data"
    }
   ],
   "source": [
    "pf.plot_equity_curve(strategies['200'].dbal, benchmark=benchmark.dbal)"
   ]
  },
  {
   "cell_type": "code",
   "execution_count": null,
   "metadata": {},
   "outputs": [],
   "source": []
  }
 ],
 "metadata": {
  "kernelspec": {
   "display_name": "Python 3",
   "language": "python",
   "name": "python3"
  },
  "language_info": {
   "codemirror_mode": {
    "name": "ipython",
    "version": 3
   },
   "file_extension": ".py",
   "mimetype": "text/x-python",
   "name": "python",
   "nbconvert_exporter": "python",
   "pygments_lexer": "ipython3",
   "version": "3.8.5"
  },
  "latex_envs": {
   "LaTeX_envs_menu_present": true,
   "autoclose": false,
   "autocomplete": true,
   "bibliofile": "biblio.bib",
   "cite_by": "apalike",
   "current_citInitial": 1,
   "eqLabelWithNumbers": true,
   "eqNumInitial": 1,
   "hotkeys": {
    "equation": "Ctrl-E",
    "itemize": "Ctrl-I"
   },
   "labels_anchors": false,
   "latex_user_defs": false,
   "report_style_numbering": false,
   "user_envs_cfg": false
  }
 },
 "nbformat": 4,
 "nbformat_minor": 2
}
