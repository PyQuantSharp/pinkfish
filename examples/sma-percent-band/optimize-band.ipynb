{
 "cells": [
  {
   "cell_type": "markdown",
   "metadata": {},
   "source": [
    "# SMA Percent Band\n",
    "\n",
    "    1. The SPY closes above its upper band, buy\n",
    "    2. If the SPY closes below its lower band, sell your long position.\n",
    "    \n",
    "    (optimize band)"
   ]
  },
  {
   "cell_type": "code",
   "execution_count": 1,
   "metadata": {
    "ExecuteTime": {
     "end_time": "2020-02-17T03:46:05.530713Z",
     "start_time": "2020-02-17T03:46:04.835537Z"
    }
   },
   "outputs": [],
   "source": [
    "import pandas as pd\n",
    "import matplotlib.pyplot as plt\n",
    "import datetime\n",
    "from talib.abstract import *\n",
    "\n",
    "import pinkfish as pf\n",
    "import strategy\n",
    "\n",
    "# format price data\n",
    "pd.options.display.float_format = '{:0.2f}'.format\n",
    "\n",
    "%matplotlib inline"
   ]
  },
  {
   "cell_type": "code",
   "execution_count": 2,
   "metadata": {
    "ExecuteTime": {
     "end_time": "2020-02-17T03:46:05.546843Z",
     "start_time": "2020-02-17T03:46:05.540485Z"
    }
   },
   "outputs": [],
   "source": [
    "# set size of inline plots\n",
    "'''note: rcParams can't be in same cell as import matplotlib\n",
    "   or %matplotlib inline\n",
    "   \n",
    "   %matplotlib notebook: will lead to interactive plots embedded within\n",
    "   the notebook, you can zoom and resize the figure\n",
    "   \n",
    "   %matplotlib inline: only draw static images in the notebook\n",
    "'''\n",
    "plt.rcParams[\"figure.figsize\"] = (10, 7)"
   ]
  },
  {
   "cell_type": "markdown",
   "metadata": {},
   "source": [
    "Some global data"
   ]
  },
  {
   "cell_type": "code",
   "execution_count": 3,
   "metadata": {
    "ExecuteTime": {
     "end_time": "2020-02-17T03:46:05.561013Z",
     "start_time": "2020-02-17T03:46:05.550885Z"
    }
   },
   "outputs": [],
   "source": [
    "symbol = '^GSPC'\n",
    "#symbol = 'SPY'\n",
    "#symbol = 'DIA'\n",
    "#symbol = 'QQQ'\n",
    "#symbol = 'IWM'\n",
    "#symbol = 'TLT'\n",
    "#symbol = 'GLD'\n",
    "#symbol = 'AAPL'\n",
    "#symbol = 'BBRY'\n",
    "#symbol = 'GDX'\n",
    "capital = 10000\n",
    "start = datetime.datetime(1900, 1, 1)\n",
    "start = datetime.datetime.strptime(pf.SP500_BEGIN, '%Y-%m-%d')\n",
    "end = datetime.datetime.now()"
   ]
  },
  {
   "cell_type": "markdown",
   "metadata": {},
   "source": [
    "Define percent bands (from 0 to 10% increment by 0.5)"
   ]
  },
  {
   "cell_type": "code",
   "execution_count": 4,
   "metadata": {
    "ExecuteTime": {
     "end_time": "2020-02-17T03:46:05.571412Z",
     "start_time": "2020-02-17T03:46:05.565880Z"
    }
   },
   "outputs": [],
   "source": [
    "bands = range(0, 100, 5)\n",
    "bands = [str(band) for band in bands]"
   ]
  },
  {
   "cell_type": "markdown",
   "metadata": {},
   "source": [
    "Run Strategy"
   ]
  },
  {
   "cell_type": "code",
   "execution_count": 5,
   "metadata": {
    "ExecuteTime": {
     "end_time": "2020-02-17T03:46:49.126593Z",
     "start_time": "2020-02-17T03:46:05.580007Z"
    },
    "scrolled": false
   },
   "outputs": [
    {
     "name": "stdout",
     "output_type": "stream",
     "text": [
      "0 5 10 15 20 25 30 35 40 45 50 55 60 65 70 75 80 85 90 95 "
     ]
    }
   ],
   "source": [
    "strategies = pd.Series(dtype=object)\n",
    "for band in bands:\n",
    "    print(\"{0}\".format(band), end=\" \")\n",
    "    strategies[band] = strategy.Strategy(symbol, capital, start, end, sma_period=200, percent_band=int(band)/10)\n",
    "    strategies[band].run()\n",
    "    _, strategies[band].tlog, strategies[band].dbal = strategies[band].get_logs()\n",
    "    strategies[band].stats = strategies[band].get_stats()"
   ]
  },
  {
   "cell_type": "markdown",
   "metadata": {},
   "source": [
    "Summarize results"
   ]
  },
  {
   "cell_type": "code",
   "execution_count": 6,
   "metadata": {
    "ExecuteTime": {
     "end_time": "2020-02-17T03:46:49.201464Z",
     "start_time": "2020-02-17T03:46:49.136917Z"
    },
    "scrolled": false
   },
   "outputs": [
    {
     "data": {
      "text/html": [
       "<div>\n",
       "<style scoped>\n",
       "    .dataframe tbody tr th:only-of-type {\n",
       "        vertical-align: middle;\n",
       "    }\n",
       "\n",
       "    .dataframe tbody tr th {\n",
       "        vertical-align: top;\n",
       "    }\n",
       "\n",
       "    .dataframe thead th {\n",
       "        text-align: right;\n",
       "    }\n",
       "</style>\n",
       "<table border=\"1\" class=\"dataframe\">\n",
       "  <thead>\n",
       "    <tr style=\"text-align: right;\">\n",
       "      <th></th>\n",
       "      <th>0</th>\n",
       "      <th>5</th>\n",
       "      <th>10</th>\n",
       "      <th>15</th>\n",
       "      <th>20</th>\n",
       "      <th>25</th>\n",
       "      <th>30</th>\n",
       "      <th>35</th>\n",
       "      <th>40</th>\n",
       "      <th>45</th>\n",
       "      <th>50</th>\n",
       "      <th>55</th>\n",
       "      <th>60</th>\n",
       "      <th>65</th>\n",
       "      <th>70</th>\n",
       "      <th>75</th>\n",
       "      <th>80</th>\n",
       "      <th>85</th>\n",
       "      <th>90</th>\n",
       "      <th>95</th>\n",
       "    </tr>\n",
       "  </thead>\n",
       "  <tbody>\n",
       "    <tr>\n",
       "      <th>annual_return_rate</th>\n",
       "      <td>6.58</td>\n",
       "      <td>6.57</td>\n",
       "      <td>6.61</td>\n",
       "      <td>6.56</td>\n",
       "      <td>6.43</td>\n",
       "      <td>6.69</td>\n",
       "      <td>6.88</td>\n",
       "      <td>6.86</td>\n",
       "      <td>6.49</td>\n",
       "      <td>6.65</td>\n",
       "      <td>6.59</td>\n",
       "      <td>6.06</td>\n",
       "      <td>5.66</td>\n",
       "      <td>5.52</td>\n",
       "      <td>5.04</td>\n",
       "      <td>5.06</td>\n",
       "      <td>4.93</td>\n",
       "      <td>5.24</td>\n",
       "      <td>5.49</td>\n",
       "      <td>5.18</td>\n",
       "    </tr>\n",
       "    <tr>\n",
       "      <th>ending_balance</th>\n",
       "      <td>576002.13</td>\n",
       "      <td>572454.32</td>\n",
       "      <td>586937.94</td>\n",
       "      <td>569139.21</td>\n",
       "      <td>526555.22</td>\n",
       "      <td>615483.74</td>\n",
       "      <td>687762.87</td>\n",
       "      <td>681447.24</td>\n",
       "      <td>547039.52</td>\n",
       "      <td>599793.33</td>\n",
       "      <td>580515.31</td>\n",
       "      <td>421088.26</td>\n",
       "      <td>331194.07</td>\n",
       "      <td>305627.93</td>\n",
       "      <td>228786.48</td>\n",
       "      <td>230487.79</td>\n",
       "      <td>213395.10</td>\n",
       "      <td>257537.12</td>\n",
       "      <td>300385.51</td>\n",
       "      <td>240836.68</td>\n",
       "    </tr>\n",
       "    <tr>\n",
       "      <th>max_closed_out_drawdown</th>\n",
       "      <td>-28.23</td>\n",
       "      <td>-24.13</td>\n",
       "      <td>-22.18</td>\n",
       "      <td>-22.42</td>\n",
       "      <td>-21.53</td>\n",
       "      <td>-25.37</td>\n",
       "      <td>-25.07</td>\n",
       "      <td>-21.98</td>\n",
       "      <td>-23.71</td>\n",
       "      <td>-23.74</td>\n",
       "      <td>-23.68</td>\n",
       "      <td>-36.83</td>\n",
       "      <td>-37.04</td>\n",
       "      <td>-37.64</td>\n",
       "      <td>-37.62</td>\n",
       "      <td>-34.21</td>\n",
       "      <td>-34.24</td>\n",
       "      <td>-34.73</td>\n",
       "      <td>-34.99</td>\n",
       "      <td>-35.52</td>\n",
       "    </tr>\n",
       "    <tr>\n",
       "      <th>annualized_return_over_max_drawdown</th>\n",
       "      <td>0.23</td>\n",
       "      <td>0.27</td>\n",
       "      <td>0.30</td>\n",
       "      <td>0.29</td>\n",
       "      <td>0.30</td>\n",
       "      <td>0.26</td>\n",
       "      <td>0.27</td>\n",
       "      <td>0.31</td>\n",
       "      <td>0.27</td>\n",
       "      <td>0.28</td>\n",
       "      <td>0.28</td>\n",
       "      <td>0.16</td>\n",
       "      <td>0.15</td>\n",
       "      <td>0.15</td>\n",
       "      <td>0.13</td>\n",
       "      <td>0.15</td>\n",
       "      <td>0.14</td>\n",
       "      <td>0.15</td>\n",
       "      <td>0.16</td>\n",
       "      <td>0.15</td>\n",
       "    </tr>\n",
       "    <tr>\n",
       "      <th>drawdown_recovery_period</th>\n",
       "      <td>1460.00</td>\n",
       "      <td>250.00</td>\n",
       "      <td>178.00</td>\n",
       "      <td>280.00</td>\n",
       "      <td>861.00</td>\n",
       "      <td>867.00</td>\n",
       "      <td>1246.00</td>\n",
       "      <td>Not Recovered Yet</td>\n",
       "      <td>Not Recovered Yet</td>\n",
       "      <td>Not Recovered Yet</td>\n",
       "      <td>Not Recovered Yet</td>\n",
       "      <td>1626.00</td>\n",
       "      <td>1659.00</td>\n",
       "      <td>1881.00</td>\n",
       "      <td>1902.00</td>\n",
       "      <td>2206.00</td>\n",
       "      <td>2245.00</td>\n",
       "      <td>2282.00</td>\n",
       "      <td>2282.00</td>\n",
       "      <td>2287.00</td>\n",
       "    </tr>\n",
       "    <tr>\n",
       "      <th>best_month</th>\n",
       "      <td>13.38</td>\n",
       "      <td>14.89</td>\n",
       "      <td>14.90</td>\n",
       "      <td>14.91</td>\n",
       "      <td>14.88</td>\n",
       "      <td>14.91</td>\n",
       "      <td>14.93</td>\n",
       "      <td>14.94</td>\n",
       "      <td>14.48</td>\n",
       "      <td>14.45</td>\n",
       "      <td>14.46</td>\n",
       "      <td>14.47</td>\n",
       "      <td>14.54</td>\n",
       "      <td>14.44</td>\n",
       "      <td>14.55</td>\n",
       "      <td>14.49</td>\n",
       "      <td>14.49</td>\n",
       "      <td>14.49</td>\n",
       "      <td>14.45</td>\n",
       "      <td>14.53</td>\n",
       "    </tr>\n",
       "    <tr>\n",
       "      <th>worst_month</th>\n",
       "      <td>-17.36</td>\n",
       "      <td>-17.37</td>\n",
       "      <td>-18.80</td>\n",
       "      <td>-16.43</td>\n",
       "      <td>-16.41</td>\n",
       "      <td>-17.14</td>\n",
       "      <td>-13.82</td>\n",
       "      <td>-18.86</td>\n",
       "      <td>-18.84</td>\n",
       "      <td>-18.87</td>\n",
       "      <td>-18.82</td>\n",
       "      <td>-31.39</td>\n",
       "      <td>-31.36</td>\n",
       "      <td>-31.39</td>\n",
       "      <td>-31.39</td>\n",
       "      <td>-31.39</td>\n",
       "      <td>-31.43</td>\n",
       "      <td>-31.44</td>\n",
       "      <td>-31.45</td>\n",
       "      <td>-31.43</td>\n",
       "    </tr>\n",
       "    <tr>\n",
       "      <th>sharpe_ratio</th>\n",
       "      <td>0.67</td>\n",
       "      <td>0.67</td>\n",
       "      <td>0.67</td>\n",
       "      <td>0.67</td>\n",
       "      <td>0.65</td>\n",
       "      <td>0.68</td>\n",
       "      <td>0.69</td>\n",
       "      <td>0.68</td>\n",
       "      <td>0.65</td>\n",
       "      <td>0.66</td>\n",
       "      <td>0.65</td>\n",
       "      <td>0.59</td>\n",
       "      <td>0.55</td>\n",
       "      <td>0.54</td>\n",
       "      <td>0.50</td>\n",
       "      <td>0.50</td>\n",
       "      <td>0.49</td>\n",
       "      <td>0.51</td>\n",
       "      <td>0.53</td>\n",
       "      <td>0.50</td>\n",
       "    </tr>\n",
       "    <tr>\n",
       "      <th>sortino_ratio</th>\n",
       "      <td>0.75</td>\n",
       "      <td>0.75</td>\n",
       "      <td>0.75</td>\n",
       "      <td>0.75</td>\n",
       "      <td>0.74</td>\n",
       "      <td>0.76</td>\n",
       "      <td>0.78</td>\n",
       "      <td>0.75</td>\n",
       "      <td>0.72</td>\n",
       "      <td>0.74</td>\n",
       "      <td>0.73</td>\n",
       "      <td>0.62</td>\n",
       "      <td>0.59</td>\n",
       "      <td>0.57</td>\n",
       "      <td>0.52</td>\n",
       "      <td>0.53</td>\n",
       "      <td>0.52</td>\n",
       "      <td>0.55</td>\n",
       "      <td>0.58</td>\n",
       "      <td>0.55</td>\n",
       "    </tr>\n",
       "    <tr>\n",
       "      <th>monthly_std</th>\n",
       "      <td>2.89</td>\n",
       "      <td>2.92</td>\n",
       "      <td>2.93</td>\n",
       "      <td>2.92</td>\n",
       "      <td>2.93</td>\n",
       "      <td>2.93</td>\n",
       "      <td>2.91</td>\n",
       "      <td>2.96</td>\n",
       "      <td>2.95</td>\n",
       "      <td>2.99</td>\n",
       "      <td>3.01</td>\n",
       "      <td>3.16</td>\n",
       "      <td>3.18</td>\n",
       "      <td>3.19</td>\n",
       "      <td>3.22</td>\n",
       "      <td>3.20</td>\n",
       "      <td>3.22</td>\n",
       "      <td>3.26</td>\n",
       "      <td>3.29</td>\n",
       "      <td>3.33</td>\n",
       "    </tr>\n",
       "    <tr>\n",
       "      <th>pct_time_in_market</th>\n",
       "      <td>69.72</td>\n",
       "      <td>69.69</td>\n",
       "      <td>69.24</td>\n",
       "      <td>69.38</td>\n",
       "      <td>69.63</td>\n",
       "      <td>69.13</td>\n",
       "      <td>69.48</td>\n",
       "      <td>69.83</td>\n",
       "      <td>69.45</td>\n",
       "      <td>70.88</td>\n",
       "      <td>72.29</td>\n",
       "      <td>72.52</td>\n",
       "      <td>72.84</td>\n",
       "      <td>72.79</td>\n",
       "      <td>71.93</td>\n",
       "      <td>71.73</td>\n",
       "      <td>72.47</td>\n",
       "      <td>74.03</td>\n",
       "      <td>74.62</td>\n",
       "      <td>75.66</td>\n",
       "    </tr>\n",
       "    <tr>\n",
       "      <th>total_num_trades</th>\n",
       "      <td>198.00</td>\n",
       "      <td>113.00</td>\n",
       "      <td>81.00</td>\n",
       "      <td>61.00</td>\n",
       "      <td>52.00</td>\n",
       "      <td>40.00</td>\n",
       "      <td>34.00</td>\n",
       "      <td>29</td>\n",
       "      <td>29</td>\n",
       "      <td>26</td>\n",
       "      <td>24</td>\n",
       "      <td>23.00</td>\n",
       "      <td>23.00</td>\n",
       "      <td>22.00</td>\n",
       "      <td>22.00</td>\n",
       "      <td>20.00</td>\n",
       "      <td>19.00</td>\n",
       "      <td>17.00</td>\n",
       "      <td>15.00</td>\n",
       "      <td>15.00</td>\n",
       "    </tr>\n",
       "    <tr>\n",
       "      <th>pct_profitable_trades</th>\n",
       "      <td>27.78</td>\n",
       "      <td>42.48</td>\n",
       "      <td>49.38</td>\n",
       "      <td>50.82</td>\n",
       "      <td>51.92</td>\n",
       "      <td>62.50</td>\n",
       "      <td>70.59</td>\n",
       "      <td>79.31</td>\n",
       "      <td>75.86</td>\n",
       "      <td>80.77</td>\n",
       "      <td>83.33</td>\n",
       "      <td>86.96</td>\n",
       "      <td>82.61</td>\n",
       "      <td>81.82</td>\n",
       "      <td>77.27</td>\n",
       "      <td>80.00</td>\n",
       "      <td>78.95</td>\n",
       "      <td>88.24</td>\n",
       "      <td>93.33</td>\n",
       "      <td>93.33</td>\n",
       "    </tr>\n",
       "    <tr>\n",
       "      <th>trades_per_year</th>\n",
       "      <td>3.11</td>\n",
       "      <td>1.78</td>\n",
       "      <td>1.27</td>\n",
       "      <td>0.96</td>\n",
       "      <td>0.82</td>\n",
       "      <td>0.63</td>\n",
       "      <td>0.53</td>\n",
       "      <td>0.46</td>\n",
       "      <td>0.46</td>\n",
       "      <td>0.41</td>\n",
       "      <td>0.38</td>\n",
       "      <td>0.36</td>\n",
       "      <td>0.36</td>\n",
       "      <td>0.35</td>\n",
       "      <td>0.35</td>\n",
       "      <td>0.31</td>\n",
       "      <td>0.30</td>\n",
       "      <td>0.27</td>\n",
       "      <td>0.24</td>\n",
       "      <td>0.24</td>\n",
       "    </tr>\n",
       "    <tr>\n",
       "      <th>avg_points</th>\n",
       "      <td>11.54</td>\n",
       "      <td>22.40</td>\n",
       "      <td>30.47</td>\n",
       "      <td>44.75</td>\n",
       "      <td>55.28</td>\n",
       "      <td>78.60</td>\n",
       "      <td>95.77</td>\n",
       "      <td>104.50</td>\n",
       "      <td>99.31</td>\n",
       "      <td>112.17</td>\n",
       "      <td>123.60</td>\n",
       "      <td>118.08</td>\n",
       "      <td>111.96</td>\n",
       "      <td>111.56</td>\n",
       "      <td>99.96</td>\n",
       "      <td>100.13</td>\n",
       "      <td>97.56</td>\n",
       "      <td>115.71</td>\n",
       "      <td>113.12</td>\n",
       "      <td>100.00</td>\n",
       "    </tr>\n",
       "  </tbody>\n",
       "</table>\n",
       "</div>"
      ],
      "text/plain": [
       "                                            0         5        10        15  \\\n",
       "annual_return_rate                       6.58      6.57      6.61      6.56   \n",
       "ending_balance                      576002.13 572454.32 586937.94 569139.21   \n",
       "max_closed_out_drawdown                -28.23    -24.13    -22.18    -22.42   \n",
       "annualized_return_over_max_drawdown      0.23      0.27      0.30      0.29   \n",
       "drawdown_recovery_period              1460.00    250.00    178.00    280.00   \n",
       "best_month                              13.38     14.89     14.90     14.91   \n",
       "worst_month                            -17.36    -17.37    -18.80    -16.43   \n",
       "sharpe_ratio                             0.67      0.67      0.67      0.67   \n",
       "sortino_ratio                            0.75      0.75      0.75      0.75   \n",
       "monthly_std                              2.89      2.92      2.93      2.92   \n",
       "pct_time_in_market                      69.72     69.69     69.24     69.38   \n",
       "total_num_trades                       198.00    113.00     81.00     61.00   \n",
       "pct_profitable_trades                   27.78     42.48     49.38     50.82   \n",
       "trades_per_year                          3.11      1.78      1.27      0.96   \n",
       "avg_points                              11.54     22.40     30.47     44.75   \n",
       "\n",
       "                                           20        25        30  \\\n",
       "annual_return_rate                       6.43      6.69      6.88   \n",
       "ending_balance                      526555.22 615483.74 687762.87   \n",
       "max_closed_out_drawdown                -21.53    -25.37    -25.07   \n",
       "annualized_return_over_max_drawdown      0.30      0.26      0.27   \n",
       "drawdown_recovery_period               861.00    867.00   1246.00   \n",
       "best_month                              14.88     14.91     14.93   \n",
       "worst_month                            -16.41    -17.14    -13.82   \n",
       "sharpe_ratio                             0.65      0.68      0.69   \n",
       "sortino_ratio                            0.74      0.76      0.78   \n",
       "monthly_std                              2.93      2.93      2.91   \n",
       "pct_time_in_market                      69.63     69.13     69.48   \n",
       "total_num_trades                        52.00     40.00     34.00   \n",
       "pct_profitable_trades                   51.92     62.50     70.59   \n",
       "trades_per_year                          0.82      0.63      0.53   \n",
       "avg_points                              55.28     78.60     95.77   \n",
       "\n",
       "                                                    35                 40  \\\n",
       "annual_return_rate                                6.86               6.49   \n",
       "ending_balance                               681447.24          547039.52   \n",
       "max_closed_out_drawdown                         -21.98             -23.71   \n",
       "annualized_return_over_max_drawdown               0.31               0.27   \n",
       "drawdown_recovery_period             Not Recovered Yet  Not Recovered Yet   \n",
       "best_month                                       14.94              14.48   \n",
       "worst_month                                     -18.86             -18.84   \n",
       "sharpe_ratio                                      0.68               0.65   \n",
       "sortino_ratio                                     0.75               0.72   \n",
       "monthly_std                                       2.96               2.95   \n",
       "pct_time_in_market                               69.83              69.45   \n",
       "total_num_trades                                    29                 29   \n",
       "pct_profitable_trades                            79.31              75.86   \n",
       "trades_per_year                                   0.46               0.46   \n",
       "avg_points                                      104.50              99.31   \n",
       "\n",
       "                                                    45                 50  \\\n",
       "annual_return_rate                                6.65               6.59   \n",
       "ending_balance                               599793.33          580515.31   \n",
       "max_closed_out_drawdown                         -23.74             -23.68   \n",
       "annualized_return_over_max_drawdown               0.28               0.28   \n",
       "drawdown_recovery_period             Not Recovered Yet  Not Recovered Yet   \n",
       "best_month                                       14.45              14.46   \n",
       "worst_month                                     -18.87             -18.82   \n",
       "sharpe_ratio                                      0.66               0.65   \n",
       "sortino_ratio                                     0.74               0.73   \n",
       "monthly_std                                       2.99               3.01   \n",
       "pct_time_in_market                               70.88              72.29   \n",
       "total_num_trades                                    26                 24   \n",
       "pct_profitable_trades                            80.77              83.33   \n",
       "trades_per_year                                   0.41               0.38   \n",
       "avg_points                                      112.17             123.60   \n",
       "\n",
       "                                           55        60        65        70  \\\n",
       "annual_return_rate                       6.06      5.66      5.52      5.04   \n",
       "ending_balance                      421088.26 331194.07 305627.93 228786.48   \n",
       "max_closed_out_drawdown                -36.83    -37.04    -37.64    -37.62   \n",
       "annualized_return_over_max_drawdown      0.16      0.15      0.15      0.13   \n",
       "drawdown_recovery_period              1626.00   1659.00   1881.00   1902.00   \n",
       "best_month                              14.47     14.54     14.44     14.55   \n",
       "worst_month                            -31.39    -31.36    -31.39    -31.39   \n",
       "sharpe_ratio                             0.59      0.55      0.54      0.50   \n",
       "sortino_ratio                            0.62      0.59      0.57      0.52   \n",
       "monthly_std                              3.16      3.18      3.19      3.22   \n",
       "pct_time_in_market                      72.52     72.84     72.79     71.93   \n",
       "total_num_trades                        23.00     23.00     22.00     22.00   \n",
       "pct_profitable_trades                   86.96     82.61     81.82     77.27   \n",
       "trades_per_year                          0.36      0.36      0.35      0.35   \n",
       "avg_points                             118.08    111.96    111.56     99.96   \n",
       "\n",
       "                                           75        80        85        90  \\\n",
       "annual_return_rate                       5.06      4.93      5.24      5.49   \n",
       "ending_balance                      230487.79 213395.10 257537.12 300385.51   \n",
       "max_closed_out_drawdown                -34.21    -34.24    -34.73    -34.99   \n",
       "annualized_return_over_max_drawdown      0.15      0.14      0.15      0.16   \n",
       "drawdown_recovery_period              2206.00   2245.00   2282.00   2282.00   \n",
       "best_month                              14.49     14.49     14.49     14.45   \n",
       "worst_month                            -31.39    -31.43    -31.44    -31.45   \n",
       "sharpe_ratio                             0.50      0.49      0.51      0.53   \n",
       "sortino_ratio                            0.53      0.52      0.55      0.58   \n",
       "monthly_std                              3.20      3.22      3.26      3.29   \n",
       "pct_time_in_market                      71.73     72.47     74.03     74.62   \n",
       "total_num_trades                        20.00     19.00     17.00     15.00   \n",
       "pct_profitable_trades                   80.00     78.95     88.24     93.33   \n",
       "trades_per_year                          0.31      0.30      0.27      0.24   \n",
       "avg_points                             100.13     97.56    115.71    113.12   \n",
       "\n",
       "                                           95  \n",
       "annual_return_rate                       5.18  \n",
       "ending_balance                      240836.68  \n",
       "max_closed_out_drawdown                -35.52  \n",
       "annualized_return_over_max_drawdown      0.15  \n",
       "drawdown_recovery_period              2287.00  \n",
       "best_month                              14.53  \n",
       "worst_month                            -31.43  \n",
       "sharpe_ratio                             0.50  \n",
       "sortino_ratio                            0.55  \n",
       "monthly_std                              3.33  \n",
       "pct_time_in_market                      75.66  \n",
       "total_num_trades                        15.00  \n",
       "pct_profitable_trades                   93.33  \n",
       "trades_per_year                          0.24  \n",
       "avg_points                             100.00  "
      ]
     },
     "execution_count": 6,
     "metadata": {},
     "output_type": "execute_result"
    }
   ],
   "source": [
    "metrics = ('annual_return_rate',\n",
    "           'ending_balance',\n",
    "           'max_closed_out_drawdown',\n",
    "           'annualized_return_over_max_drawdown',\n",
    "           'drawdown_recovery_period',\n",
    "           'best_month',\n",
    "           'worst_month',\n",
    "           'sharpe_ratio',\n",
    "           'sortino_ratio',\n",
    "           'monthlPyfolioy_std',\n",
    "           'pct_time_in_market',\n",
    "           'total_num_trades',\n",
    "           'pct_profitable_trades',\n",
    "           'trades_per_year',\n",
    "           'avg_points')\n",
    "\n",
    "df = strategy.summary(strategies, metrics)\n",
    "df"
   ]
  },
  {
   "cell_type": "markdown",
   "metadata": {},
   "source": [
    "Bar graphs"
   ]
  },
  {
   "cell_type": "code",
   "execution_count": 7,
   "metadata": {
    "ExecuteTime": {
     "end_time": "2020-02-17T03:46:50.364654Z",
     "start_time": "2020-02-17T03:46:49.205654Z"
    }
   },
   "outputs": [
    {
     "data": {
      "image/png": "[encoded data removed]",
      "text/plain": [
       "<Figure size 720x504 with 1 Axes>"
      ]
     },
     "metadata": {
      "needs_background": "light"
     },
     "output_type": "display_data"
    },
    {
     "data": {
      "image/png": "[encoded data removed]",
      "text/plain": [
       "<Figure size 720x504 with 1 Axes>"
      ]
     },
     "metadata": {
      "needs_background": "light"
     },
     "output_type": "display_data"
    },
    {
     "data": {
      "image/png": "[encoded data removed]",
      "text/plain": [
       "<Figure size 720x504 with 1 Axes>"
      ]
     },
     "metadata": {
      "needs_background": "light"
     },
     "output_type": "display_data"
    },
    {
     "data": {
      "image/png": "[encoded data removed]",
      "text/plain": [
       "<Figure size 720x504 with 1 Axes>"
      ]
     },
     "metadata": {
      "needs_background": "light"
     },
     "output_type": "display_data"
    }
   ],
   "source": [
    "strategy.plot_bar_graph(df, 'annual_return_rate')\n",
    "strategy.plot_bar_graph(df, 'ending_balance')\n",
    "strategy.plot_bar_graph(df, 'sharpe_ratio')\n",
    "strategy.plot_bar_graph(df, 'max_closed_out_drawdown')"
   ]
  },
  {
   "cell_type": "markdown",
   "metadata": {},
   "source": [
    "Run Benchmark"
   ]
  },
  {
   "cell_type": "code",
   "execution_count": 8,
   "metadata": {
    "ExecuteTime": {
     "end_time": "2020-02-17T03:46:52.670245Z",
     "start_time": "2020-02-17T03:46:50.374629Z"
    }
   },
   "outputs": [],
   "source": [
    "s = strategies[bands[0]]\n",
    "benchmark = pf.Benchmark(symbol, capital, s.start, s.end)\n",
    "benchmark.run()"
   ]
  },
  {
   "cell_type": "markdown",
   "metadata": {},
   "source": [
    "Equity curve"
   ]
  },
  {
   "cell_type": "code",
   "execution_count": 9,
   "metadata": {
    "ExecuteTime": {
     "end_time": "2020-02-17T03:46:52.990701Z",
     "start_time": "2020-02-17T03:46:52.685633Z"
    }
   },
   "outputs": [
    {
     "data": {
      "image/png": "[encoded data removed]",
      "text/plain": [
       "<Figure size 720x504 with 1 Axes>"
      ]
     },
     "metadata": {
      "needs_background": "light"
     },
     "output_type": "display_data"
    }
   ],
   "source": [
    "pf.plot_equity_curve(strategies['35'].dbal, benchmark=benchmark.dbal)"
   ]
  }
 ],
 "metadata": {
  "kernelspec": {
   "display_name": "Python 3",
   "language": "python",
   "name": "python3"
  },
  "language_info": {
   "codemirror_mode": {
    "name": "ipython",
    "version": 3
   },
   "file_extension": ".py",
   "mimetype": "text/x-python",
   "name": "python",
   "nbconvert_exporter": "python",
   "pygments_lexer": "ipython3",
   "version": "3.8.5"
  },
  "latex_envs": {
   "LaTeX_envs_menu_present": true,
   "autoclose": false,
   "autocomplete": true,
   "bibliofile": "biblio.bib",
   "cite_by": "apalike",
   "current_citInitial": 1,
   "eqLabelWithNumbers": true,
   "eqNumInitial": 1,
   "hotkeys": {
    "equation": "Ctrl-E",
    "itemize": "Ctrl-I"
   },
   "labels_anchors": false,
   "latex_user_defs": false,
   "report_style_numbering": false,
   "user_envs_cfg": false
  }
 },
 "nbformat": 4,
 "nbformat_minor": 1
}
