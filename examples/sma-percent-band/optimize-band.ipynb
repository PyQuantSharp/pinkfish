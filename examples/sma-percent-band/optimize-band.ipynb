{
 "cells": [
  {
   "cell_type": "markdown",
   "metadata": {},
   "source": [
    "# SMA Percent Band\n",
    "\n",
    "    1. The SPY closes above its upper band, buy\n",
    "    2. If the SPY closes below its lower band, sell your long position.\n",
    "    \n",
    "    (optimize band)"
   ]
  },
  {
   "cell_type": "code",
   "execution_count": 19,
   "metadata": {
    "ExecuteTime": {
     "end_time": "2020-02-17T03:46:05.530713Z",
     "start_time": "2020-02-17T03:46:04.835537Z"
    }
   },
   "outputs": [],
   "source": [
    "import pandas as pd\n",
    "import matplotlib.pyplot as plt\n",
    "import datetime\n",
    "from talib.abstract import *\n",
    "\n",
    "import pinkfish as pf\n",
    "import strategy\n",
    "\n",
    "# format price data\n",
    "pd.options.display.float_format = '{:0.2f}'.format\n",
    "\n",
    "%matplotlib inline"
   ]
  },
  {
   "cell_type": "code",
   "execution_count": 20,
   "metadata": {
    "ExecuteTime": {
     "end_time": "2020-02-17T03:46:05.546843Z",
     "start_time": "2020-02-17T03:46:05.540485Z"
    }
   },
   "outputs": [],
   "source": [
    "# set size of inline plots\n",
    "'''note: rcParams can't be in same cell as import matplotlib\n",
    "   or %matplotlib inline\n",
    "   \n",
    "   %matplotlib notebook: will lead to interactive plots embedded within\n",
    "   the notebook, you can zoom and resize the figure\n",
    "   \n",
    "   %matplotlib inline: only draw static images in the notebook\n",
    "'''\n",
    "plt.rcParams[\"figure.figsize\"] = (10, 7)"
   ]
  },
  {
   "cell_type": "markdown",
   "metadata": {},
   "source": [
    "Some global data"
   ]
  },
  {
   "cell_type": "code",
   "execution_count": 21,
   "metadata": {
    "ExecuteTime": {
     "end_time": "2020-02-17T03:46:05.561013Z",
     "start_time": "2020-02-17T03:46:05.550885Z"
    }
   },
   "outputs": [],
   "source": [
    "symbol = '^GSPC'\n",
    "#symbol = 'SPY'\n",
    "#symbol = 'DIA'\n",
    "#symbol = 'QQQ'\n",
    "#symbol = 'IWM'\n",
    "#symbol = 'TLT'\n",
    "#symbol = 'GLD'\n",
    "#symbol = 'AAPL'\n",
    "#symbol = 'BBRY'\n",
    "#symbol = 'GDX'\n",
    "capital = 10000\n",
    "start = datetime.datetime(1900, 1, 1)\n",
    "start = datetime.datetime.strptime(pf.SP500_BEGIN, '%Y-%m-%d')\n",
    "end = datetime.datetime.now()"
   ]
  },
  {
   "cell_type": "markdown",
   "metadata": {},
   "source": [
    "Define percent bands (from 0 to 10% increment by 0.5)"
   ]
  },
  {
   "cell_type": "code",
   "execution_count": 22,
   "metadata": {
    "ExecuteTime": {
     "end_time": "2020-02-17T03:46:05.571412Z",
     "start_time": "2020-02-17T03:46:05.565880Z"
    }
   },
   "outputs": [],
   "source": [
    "bands = range(0, 100, 5)\n",
    "bands = [str(band) for band in bands]"
   ]
  },
  {
   "cell_type": "markdown",
   "metadata": {},
   "source": [
    "Run Strategy"
   ]
  },
  {
   "cell_type": "code",
   "execution_count": 23,
   "metadata": {
    "ExecuteTime": {
     "end_time": "2020-02-17T03:46:49.126593Z",
     "start_time": "2020-02-17T03:46:05.580007Z"
    },
    "scrolled": false
   },
   "outputs": [
    {
     "name": "stdout",
     "output_type": "stream",
     "text": [
      "0 5 10 15 20 25 30 35 40 45 50 55 60 65 70 75 80 85 90 95 "
     ]
    }
   ],
   "source": [
    "strategies = pd.Series(dtype=object)\n",
    "for band in bands:\n",
    "    print(\"{0}\".format(band), end=\" \")\n",
    "    strategies[band] = strategy.Strategy(symbol, capital, start, end, sma_period=200, percent_band=int(band)/10)\n",
    "    strategies[band].run()\n",
    "    _, strategies[band].tlog, strategies[band].dbal = strategies[band].get_logs()\n",
    "    strategies[band].stats = strategies[band].get_stats()"
   ]
  },
  {
   "cell_type": "markdown",
   "metadata": {},
   "source": [
    "Summarize results"
   ]
  },
  {
   "cell_type": "code",
   "execution_count": 24,
   "metadata": {
    "ExecuteTime": {
     "end_time": "2020-02-17T03:46:49.201464Z",
     "start_time": "2020-02-17T03:46:49.136917Z"
    },
    "scrolled": false
   },
   "outputs": [
    {
     "data": {
      "text/html": [
       "<div>\n",
       "<style scoped>\n",
       "    .dataframe tbody tr th:only-of-type {\n",
       "        vertical-align: middle;\n",
       "    }\n",
       "\n",
       "    .dataframe tbody tr th {\n",
       "        vertical-align: top;\n",
       "    }\n",
       "\n",
       "    .dataframe thead th {\n",
       "        text-align: right;\n",
       "    }\n",
       "</style>\n",
       "<table border=\"1\" class=\"dataframe\">\n",
       "  <thead>\n",
       "    <tr style=\"text-align: right;\">\n",
       "      <th></th>\n",
       "      <th>0</th>\n",
       "      <th>5</th>\n",
       "      <th>10</th>\n",
       "      <th>15</th>\n",
       "      <th>20</th>\n",
       "      <th>25</th>\n",
       "      <th>30</th>\n",
       "      <th>35</th>\n",
       "      <th>40</th>\n",
       "      <th>45</th>\n",
       "      <th>50</th>\n",
       "      <th>55</th>\n",
       "      <th>60</th>\n",
       "      <th>65</th>\n",
       "      <th>70</th>\n",
       "      <th>75</th>\n",
       "      <th>80</th>\n",
       "      <th>85</th>\n",
       "      <th>90</th>\n",
       "      <th>95</th>\n",
       "    </tr>\n",
       "  </thead>\n",
       "  <tbody>\n",
       "    <tr>\n",
       "      <th>annual_return_rate</th>\n",
       "      <td>6.64</td>\n",
       "      <td>6.63</td>\n",
       "      <td>6.67</td>\n",
       "      <td>6.62</td>\n",
       "      <td>6.49</td>\n",
       "      <td>6.75</td>\n",
       "      <td>6.94</td>\n",
       "      <td>6.92</td>\n",
       "      <td>6.55</td>\n",
       "      <td>6.71</td>\n",
       "      <td>6.65</td>\n",
       "      <td>6.11</td>\n",
       "      <td>5.71</td>\n",
       "      <td>5.58</td>\n",
       "      <td>5.10</td>\n",
       "      <td>5.11</td>\n",
       "      <td>4.98</td>\n",
       "      <td>5.29</td>\n",
       "      <td>5.55</td>\n",
       "      <td>5.23</td>\n",
       "    </tr>\n",
       "    <tr>\n",
       "      <th>ending_balance</th>\n",
       "      <td>592012.09</td>\n",
       "      <td>588367.25</td>\n",
       "      <td>603238.98</td>\n",
       "      <td>584955.10</td>\n",
       "      <td>541206.76</td>\n",
       "      <td>632561.03</td>\n",
       "      <td>706877.79</td>\n",
       "      <td>700368.10</td>\n",
       "      <td>562273.24</td>\n",
       "      <td>616482.50</td>\n",
       "      <td>596622.30</td>\n",
       "      <td>432731.87</td>\n",
       "      <td>340411.93</td>\n",
       "      <td>314069.54</td>\n",
       "      <td>235093.43</td>\n",
       "      <td>236891.77</td>\n",
       "      <td>219313.93</td>\n",
       "      <td>264620.31</td>\n",
       "      <td>308730.09</td>\n",
       "      <td>247531.75</td>\n",
       "    </tr>\n",
       "    <tr>\n",
       "      <th>max_closed_out_drawdown</th>\n",
       "      <td>-28.23</td>\n",
       "      <td>-24.13</td>\n",
       "      <td>-22.18</td>\n",
       "      <td>-22.42</td>\n",
       "      <td>-21.53</td>\n",
       "      <td>-25.37</td>\n",
       "      <td>-25.07</td>\n",
       "      <td>-21.98</td>\n",
       "      <td>-23.71</td>\n",
       "      <td>-23.74</td>\n",
       "      <td>-23.68</td>\n",
       "      <td>-36.83</td>\n",
       "      <td>-37.04</td>\n",
       "      <td>-37.64</td>\n",
       "      <td>-37.62</td>\n",
       "      <td>-34.21</td>\n",
       "      <td>-34.24</td>\n",
       "      <td>-34.73</td>\n",
       "      <td>-34.99</td>\n",
       "      <td>-35.52</td>\n",
       "    </tr>\n",
       "    <tr>\n",
       "      <th>drawdown_annualized_return</th>\n",
       "      <td>-4.25</td>\n",
       "      <td>-3.64</td>\n",
       "      <td>-3.33</td>\n",
       "      <td>-3.39</td>\n",
       "      <td>-3.32</td>\n",
       "      <td>-3.76</td>\n",
       "      <td>-3.62</td>\n",
       "      <td>-3.18</td>\n",
       "      <td>-3.62</td>\n",
       "      <td>-3.54</td>\n",
       "      <td>-3.56</td>\n",
       "      <td>-6.03</td>\n",
       "      <td>-6.48</td>\n",
       "      <td>-6.75</td>\n",
       "      <td>-7.38</td>\n",
       "      <td>-6.69</td>\n",
       "      <td>-6.87</td>\n",
       "      <td>-6.56</td>\n",
       "      <td>-6.31</td>\n",
       "      <td>-6.79</td>\n",
       "    </tr>\n",
       "    <tr>\n",
       "      <th>drawdown_recovery</th>\n",
       "      <td>-3.76</td>\n",
       "      <td>-1.98</td>\n",
       "      <td>-1.98</td>\n",
       "      <td>-3.76</td>\n",
       "      <td>-3.69</td>\n",
       "      <td>-3.69</td>\n",
       "      <td>-2.64</td>\n",
       "      <td>-0.31</td>\n",
       "      <td>-0.31</td>\n",
       "      <td>-0.31</td>\n",
       "      <td>-0.31</td>\n",
       "      <td>-0.99</td>\n",
       "      <td>-0.99</td>\n",
       "      <td>-1.23</td>\n",
       "      <td>-1.23</td>\n",
       "      <td>-1.52</td>\n",
       "      <td>-1.52</td>\n",
       "      <td>-1.52</td>\n",
       "      <td>-1.52</td>\n",
       "      <td>-1.52</td>\n",
       "    </tr>\n",
       "    <tr>\n",
       "      <th>best_month</th>\n",
       "      <td>13.38</td>\n",
       "      <td>14.89</td>\n",
       "      <td>14.90</td>\n",
       "      <td>14.91</td>\n",
       "      <td>14.88</td>\n",
       "      <td>14.91</td>\n",
       "      <td>14.93</td>\n",
       "      <td>14.94</td>\n",
       "      <td>14.48</td>\n",
       "      <td>14.45</td>\n",
       "      <td>14.46</td>\n",
       "      <td>14.47</td>\n",
       "      <td>14.54</td>\n",
       "      <td>14.44</td>\n",
       "      <td>14.55</td>\n",
       "      <td>14.49</td>\n",
       "      <td>14.49</td>\n",
       "      <td>14.49</td>\n",
       "      <td>14.45</td>\n",
       "      <td>14.53</td>\n",
       "    </tr>\n",
       "    <tr>\n",
       "      <th>worst_month</th>\n",
       "      <td>-17.36</td>\n",
       "      <td>-17.37</td>\n",
       "      <td>-18.80</td>\n",
       "      <td>-16.43</td>\n",
       "      <td>-16.41</td>\n",
       "      <td>-17.14</td>\n",
       "      <td>-13.82</td>\n",
       "      <td>-18.86</td>\n",
       "      <td>-18.84</td>\n",
       "      <td>-18.87</td>\n",
       "      <td>-18.82</td>\n",
       "      <td>-31.39</td>\n",
       "      <td>-31.36</td>\n",
       "      <td>-31.39</td>\n",
       "      <td>-31.39</td>\n",
       "      <td>-31.39</td>\n",
       "      <td>-31.43</td>\n",
       "      <td>-31.44</td>\n",
       "      <td>-31.45</td>\n",
       "      <td>-31.43</td>\n",
       "    </tr>\n",
       "    <tr>\n",
       "      <th>sharpe_ratio</th>\n",
       "      <td>0.68</td>\n",
       "      <td>0.68</td>\n",
       "      <td>0.68</td>\n",
       "      <td>0.68</td>\n",
       "      <td>0.66</td>\n",
       "      <td>0.69</td>\n",
       "      <td>0.70</td>\n",
       "      <td>0.69</td>\n",
       "      <td>0.66</td>\n",
       "      <td>0.67</td>\n",
       "      <td>0.65</td>\n",
       "      <td>0.59</td>\n",
       "      <td>0.56</td>\n",
       "      <td>0.55</td>\n",
       "      <td>0.50</td>\n",
       "      <td>0.51</td>\n",
       "      <td>0.50</td>\n",
       "      <td>0.52</td>\n",
       "      <td>0.53</td>\n",
       "      <td>0.50</td>\n",
       "    </tr>\n",
       "    <tr>\n",
       "      <th>sortino_ratio</th>\n",
       "      <td>0.76</td>\n",
       "      <td>0.76</td>\n",
       "      <td>0.76</td>\n",
       "      <td>0.76</td>\n",
       "      <td>0.74</td>\n",
       "      <td>0.77</td>\n",
       "      <td>0.79</td>\n",
       "      <td>0.76</td>\n",
       "      <td>0.73</td>\n",
       "      <td>0.75</td>\n",
       "      <td>0.74</td>\n",
       "      <td>0.63</td>\n",
       "      <td>0.59</td>\n",
       "      <td>0.58</td>\n",
       "      <td>0.53</td>\n",
       "      <td>0.53</td>\n",
       "      <td>0.53</td>\n",
       "      <td>0.56</td>\n",
       "      <td>0.58</td>\n",
       "      <td>0.55</td>\n",
       "    </tr>\n",
       "    <tr>\n",
       "      <th>monthly_std</th>\n",
       "      <td>2.89</td>\n",
       "      <td>2.92</td>\n",
       "      <td>2.93</td>\n",
       "      <td>2.92</td>\n",
       "      <td>2.93</td>\n",
       "      <td>2.93</td>\n",
       "      <td>2.91</td>\n",
       "      <td>2.96</td>\n",
       "      <td>2.95</td>\n",
       "      <td>2.99</td>\n",
       "      <td>3.01</td>\n",
       "      <td>3.16</td>\n",
       "      <td>3.18</td>\n",
       "      <td>3.18</td>\n",
       "      <td>3.22</td>\n",
       "      <td>3.20</td>\n",
       "      <td>3.22</td>\n",
       "      <td>3.26</td>\n",
       "      <td>3.29</td>\n",
       "      <td>3.33</td>\n",
       "    </tr>\n",
       "    <tr>\n",
       "      <th>pct_time_in_market</th>\n",
       "      <td>69.66</td>\n",
       "      <td>69.63</td>\n",
       "      <td>69.18</td>\n",
       "      <td>69.32</td>\n",
       "      <td>69.57</td>\n",
       "      <td>69.07</td>\n",
       "      <td>69.42</td>\n",
       "      <td>69.77</td>\n",
       "      <td>69.39</td>\n",
       "      <td>70.82</td>\n",
       "      <td>72.23</td>\n",
       "      <td>72.47</td>\n",
       "      <td>72.79</td>\n",
       "      <td>72.74</td>\n",
       "      <td>71.88</td>\n",
       "      <td>71.67</td>\n",
       "      <td>72.42</td>\n",
       "      <td>73.98</td>\n",
       "      <td>74.57</td>\n",
       "      <td>75.61</td>\n",
       "    </tr>\n",
       "    <tr>\n",
       "      <th>total_num_trades</th>\n",
       "      <td>198.00</td>\n",
       "      <td>113.00</td>\n",
       "      <td>81.00</td>\n",
       "      <td>61.00</td>\n",
       "      <td>52.00</td>\n",
       "      <td>40.00</td>\n",
       "      <td>34.00</td>\n",
       "      <td>29.00</td>\n",
       "      <td>29.00</td>\n",
       "      <td>26.00</td>\n",
       "      <td>24.00</td>\n",
       "      <td>23.00</td>\n",
       "      <td>23.00</td>\n",
       "      <td>22.00</td>\n",
       "      <td>22.00</td>\n",
       "      <td>20.00</td>\n",
       "      <td>19.00</td>\n",
       "      <td>17.00</td>\n",
       "      <td>15.00</td>\n",
       "      <td>15.00</td>\n",
       "    </tr>\n",
       "    <tr>\n",
       "      <th>pct_profitable_trades</th>\n",
       "      <td>27.78</td>\n",
       "      <td>42.48</td>\n",
       "      <td>49.38</td>\n",
       "      <td>50.82</td>\n",
       "      <td>51.92</td>\n",
       "      <td>62.50</td>\n",
       "      <td>70.59</td>\n",
       "      <td>79.31</td>\n",
       "      <td>75.86</td>\n",
       "      <td>80.77</td>\n",
       "      <td>83.33</td>\n",
       "      <td>86.96</td>\n",
       "      <td>82.61</td>\n",
       "      <td>81.82</td>\n",
       "      <td>77.27</td>\n",
       "      <td>80.00</td>\n",
       "      <td>78.95</td>\n",
       "      <td>88.24</td>\n",
       "      <td>93.33</td>\n",
       "      <td>93.33</td>\n",
       "    </tr>\n",
       "    <tr>\n",
       "      <th>trades_per_year</th>\n",
       "      <td>3.12</td>\n",
       "      <td>1.78</td>\n",
       "      <td>1.28</td>\n",
       "      <td>0.96</td>\n",
       "      <td>0.82</td>\n",
       "      <td>0.63</td>\n",
       "      <td>0.54</td>\n",
       "      <td>0.46</td>\n",
       "      <td>0.46</td>\n",
       "      <td>0.41</td>\n",
       "      <td>0.38</td>\n",
       "      <td>0.36</td>\n",
       "      <td>0.36</td>\n",
       "      <td>0.35</td>\n",
       "      <td>0.35</td>\n",
       "      <td>0.31</td>\n",
       "      <td>0.30</td>\n",
       "      <td>0.27</td>\n",
       "      <td>0.24</td>\n",
       "      <td>0.24</td>\n",
       "    </tr>\n",
       "    <tr>\n",
       "      <th>avg_points</th>\n",
       "      <td>12.03</td>\n",
       "      <td>23.26</td>\n",
       "      <td>31.66</td>\n",
       "      <td>46.34</td>\n",
       "      <td>57.14</td>\n",
       "      <td>81.03</td>\n",
       "      <td>98.63</td>\n",
       "      <td>107.84</td>\n",
       "      <td>102.66</td>\n",
       "      <td>115.91</td>\n",
       "      <td>127.64</td>\n",
       "      <td>122.30</td>\n",
       "      <td>116.18</td>\n",
       "      <td>115.97</td>\n",
       "      <td>104.37</td>\n",
       "      <td>104.98</td>\n",
       "      <td>102.67</td>\n",
       "      <td>121.42</td>\n",
       "      <td>119.59</td>\n",
       "      <td>106.47</td>\n",
       "    </tr>\n",
       "  </tbody>\n",
       "</table>\n",
       "</div>"
      ],
      "text/plain": [
       "                                   0         5        10        15        20  \\\n",
       "annual_return_rate              6.64      6.63      6.67      6.62      6.49   \n",
       "ending_balance             592012.09 588367.25 603238.98 584955.10 541206.76   \n",
       "max_closed_out_drawdown       -28.23    -24.13    -22.18    -22.42    -21.53   \n",
       "drawdown_annualized_return     -4.25     -3.64     -3.33     -3.39     -3.32   \n",
       "drawdown_recovery              -3.76     -1.98     -1.98     -3.76     -3.69   \n",
       "best_month                     13.38     14.89     14.90     14.91     14.88   \n",
       "worst_month                   -17.36    -17.37    -18.80    -16.43    -16.41   \n",
       "sharpe_ratio                    0.68      0.68      0.68      0.68      0.66   \n",
       "sortino_ratio                   0.76      0.76      0.76      0.76      0.74   \n",
       "monthly_std                     2.89      2.92      2.93      2.92      2.93   \n",
       "pct_time_in_market             69.66     69.63     69.18     69.32     69.57   \n",
       "total_num_trades              198.00    113.00     81.00     61.00     52.00   \n",
       "pct_profitable_trades          27.78     42.48     49.38     50.82     51.92   \n",
       "trades_per_year                 3.12      1.78      1.28      0.96      0.82   \n",
       "avg_points                     12.03     23.26     31.66     46.34     57.14   \n",
       "\n",
       "                                  25        30        35        40        45  \\\n",
       "annual_return_rate              6.75      6.94      6.92      6.55      6.71   \n",
       "ending_balance             632561.03 706877.79 700368.10 562273.24 616482.50   \n",
       "max_closed_out_drawdown       -25.37    -25.07    -21.98    -23.71    -23.74   \n",
       "drawdown_annualized_return     -3.76     -3.62     -3.18     -3.62     -3.54   \n",
       "drawdown_recovery              -3.69     -2.64     -0.31     -0.31     -0.31   \n",
       "best_month                     14.91     14.93     14.94     14.48     14.45   \n",
       "worst_month                   -17.14    -13.82    -18.86    -18.84    -18.87   \n",
       "sharpe_ratio                    0.69      0.70      0.69      0.66      0.67   \n",
       "sortino_ratio                   0.77      0.79      0.76      0.73      0.75   \n",
       "monthly_std                     2.93      2.91      2.96      2.95      2.99   \n",
       "pct_time_in_market             69.07     69.42     69.77     69.39     70.82   \n",
       "total_num_trades               40.00     34.00     29.00     29.00     26.00   \n",
       "pct_profitable_trades          62.50     70.59     79.31     75.86     80.77   \n",
       "trades_per_year                 0.63      0.54      0.46      0.46      0.41   \n",
       "avg_points                     81.03     98.63    107.84    102.66    115.91   \n",
       "\n",
       "                                  50        55        60        65        70  \\\n",
       "annual_return_rate              6.65      6.11      5.71      5.58      5.10   \n",
       "ending_balance             596622.30 432731.87 340411.93 314069.54 235093.43   \n",
       "max_closed_out_drawdown       -23.68    -36.83    -37.04    -37.64    -37.62   \n",
       "drawdown_annualized_return     -3.56     -6.03     -6.48     -6.75     -7.38   \n",
       "drawdown_recovery              -0.31     -0.99     -0.99     -1.23     -1.23   \n",
       "best_month                     14.46     14.47     14.54     14.44     14.55   \n",
       "worst_month                   -18.82    -31.39    -31.36    -31.39    -31.39   \n",
       "sharpe_ratio                    0.65      0.59      0.56      0.55      0.50   \n",
       "sortino_ratio                   0.74      0.63      0.59      0.58      0.53   \n",
       "monthly_std                     3.01      3.16      3.18      3.18      3.22   \n",
       "pct_time_in_market             72.23     72.47     72.79     72.74     71.88   \n",
       "total_num_trades               24.00     23.00     23.00     22.00     22.00   \n",
       "pct_profitable_trades          83.33     86.96     82.61     81.82     77.27   \n",
       "trades_per_year                 0.38      0.36      0.36      0.35      0.35   \n",
       "avg_points                    127.64    122.30    116.18    115.97    104.37   \n",
       "\n",
       "                                  75        80        85        90        95  \n",
       "annual_return_rate              5.11      4.98      5.29      5.55      5.23  \n",
       "ending_balance             236891.77 219313.93 264620.31 308730.09 247531.75  \n",
       "max_closed_out_drawdown       -34.21    -34.24    -34.73    -34.99    -35.52  \n",
       "drawdown_annualized_return     -6.69     -6.87     -6.56     -6.31     -6.79  \n",
       "drawdown_recovery              -1.52     -1.52     -1.52     -1.52     -1.52  \n",
       "best_month                     14.49     14.49     14.49     14.45     14.53  \n",
       "worst_month                   -31.39    -31.43    -31.44    -31.45    -31.43  \n",
       "sharpe_ratio                    0.51      0.50      0.52      0.53      0.50  \n",
       "sortino_ratio                   0.53      0.53      0.56      0.58      0.55  \n",
       "monthly_std                     3.20      3.22      3.26      3.29      3.33  \n",
       "pct_time_in_market             71.67     72.42     73.98     74.57     75.61  \n",
       "total_num_trades               20.00     19.00     17.00     15.00     15.00  \n",
       "pct_profitable_trades          80.00     78.95     88.24     93.33     93.33  \n",
       "trades_per_year                 0.31      0.30      0.27      0.24      0.24  \n",
       "avg_points                    104.98    102.67    121.42    119.59    106.47  "
      ]
     },
     "execution_count": 24,
     "metadata": {},
     "output_type": "execute_result"
    }
   ],
   "source": [
    "metrics = ('annual_return_rate',\n",
    "           'ending_balance',\n",
    "           'max_closed_out_drawdown',\n",
    "           'drawdown_annualized_return',\n",
    "           'drawdown_recovery',\n",
    "           'best_month',\n",
    "           'worst_month',\n",
    "           'sharpe_ratio',\n",
    "           'sortino_ratio',\n",
    "           'monthly_std',\n",
    "           'pct_time_in_market',\n",
    "           'total_num_trades',\n",
    "           'pct_profitable_trades',\n",
    "           'trades_per_year',\n",
    "           'avg_points')\n",
    "\n",
    "df = strategy.summary(strategies, metrics)\n",
    "df"
   ]
  },
  {
   "cell_type": "markdown",
   "metadata": {},
   "source": [
    "Bar graphs"
   ]
  },
  {
   "cell_type": "code",
   "execution_count": 25,
   "metadata": {
    "ExecuteTime": {
     "end_time": "2020-02-17T03:46:50.364654Z",
     "start_time": "2020-02-17T03:46:49.205654Z"
    }
   },
   "outputs": [
    {
     "data": {
      "image/png": "[encoded data removed]",
      "text/plain": [
       "<Figure size 720x504 with 1 Axes>"
      ]
     },
     "metadata": {
      "needs_background": "light"
     },
     "output_type": "display_data"
    },
    {
     "data": {
      "image/png": "[encoded data removed]",
      "text/plain": [
       "<Figure size 720x504 with 1 Axes>"
      ]
     },
     "metadata": {
      "needs_background": "light"
     },
     "output_type": "display_data"
    },
    {
     "data": {
      "image/png": "[encoded data removed]",
      "text/plain": [
       "<Figure size 720x504 with 1 Axes>"
      ]
     },
     "metadata": {
      "needs_background": "light"
     },
     "output_type": "display_data"
    },
    {
     "data": {
      "image/png": "[encoded data removed]",
      "text/plain": [
       "<Figure size 720x504 with 1 Axes>"
      ]
     },
     "metadata": {
      "needs_background": "light"
     },
     "output_type": "display_data"
    }
   ],
   "source": [
    "strategy.plot_bar_graph(df, 'annual_return_rate')\n",
    "strategy.plot_bar_graph(df, 'ending_balance')\n",
    "strategy.plot_bar_graph(df, 'sharpe_ratio')\n",
    "strategy.plot_bar_graph(df, 'max_closed_out_drawdown')"
   ]
  },
  {
   "cell_type": "markdown",
   "metadata": {},
   "source": [
    "Run Benchmark"
   ]
  },
  {
   "cell_type": "code",
   "execution_count": 26,
   "metadata": {
    "ExecuteTime": {
     "end_time": "2020-02-17T03:46:52.670245Z",
     "start_time": "2020-02-17T03:46:50.374629Z"
    }
   },
   "outputs": [
    {
     "name": "stdout",
     "output_type": "stream",
     "text": [
      "1957-03-04 00:00:00 BUY  226 ^GSPC @ 44.06\n",
      "2020-09-02 00:00:00 SELL 226 ^GSPC @ 3580.84\n"
     ]
    }
   ],
   "source": [
    "s = strategies[bands[0]]\n",
    "benchmark = pf.Benchmark(symbol, capital, s.start, s.end)\n",
    "benchmark.run()\n",
    "benchmark.tlog, benchmark.dbal = benchmark.get_logs()\n",
    "benchmark.stats = benchmark.get_stats()"
   ]
  },
  {
   "cell_type": "markdown",
   "metadata": {},
   "source": [
    "Equity curve"
   ]
  },
  {
   "cell_type": "code",
   "execution_count": 27,
   "metadata": {
    "ExecuteTime": {
     "end_time": "2020-02-17T03:46:52.990701Z",
     "start_time": "2020-02-17T03:46:52.685633Z"
    }
   },
   "outputs": [
    {
     "data": {
      "image/png": "[encoded data removed]",
      "text/plain": [
       "<Figure size 720x504 with 1 Axes>"
      ]
     },
     "metadata": {
      "needs_background": "light"
     },
     "output_type": "display_data"
    }
   ],
   "source": [
    "pf.plot_equity_curve(strategies['35'].dbal, benchmark=benchmark.dbal)"
   ]
  }
 ],
 "metadata": {
  "kernelspec": {
   "display_name": "Python 3",
   "language": "python",
   "name": "python3"
  },
  "language_info": {
   "codemirror_mode": {
    "name": "ipython",
    "version": 3
   },
   "file_extension": ".py",
   "mimetype": "text/x-python",
   "name": "python",
   "nbconvert_exporter": "python",
   "pygments_lexer": "ipython3",
   "version": "3.8.2"
  },
  "latex_envs": {
   "LaTeX_envs_menu_present": true,
   "autoclose": false,
   "autocomplete": true,
   "bibliofile": "biblio.bib",
   "cite_by": "apalike",
   "current_citInitial": 1,
   "eqLabelWithNumbers": true,
   "eqNumInitial": 1,
   "hotkeys": {
    "equation": "Ctrl-E",
    "itemize": "Ctrl-I"
   },
   "labels_anchors": false,
   "latex_user_defs": false,
   "report_style_numbering": false,
   "user_envs_cfg": false
  }
 },
 "nbformat": 4,
 "nbformat_minor": 1
}
