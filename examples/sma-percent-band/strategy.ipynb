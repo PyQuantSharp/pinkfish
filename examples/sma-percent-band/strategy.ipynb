{
 "cells": [
  {
   "cell_type": "markdown",
   "metadata": {},
   "source": [
    "# SMA Percent Band\n",
    "\n",
    "    1. The SPY closes above its upper band, buy\n",
    "    2. If the SPY closes below its lower band, sell your long position."
   ]
  },
  {
   "cell_type": "code",
   "execution_count": 49,
   "metadata": {
    "ExecuteTime": {
     "end_time": "2020-02-17T03:45:11.309349Z",
     "start_time": "2020-02-17T03:45:10.536210Z"
    }
   },
   "outputs": [],
   "source": [
    "import pandas as pd\n",
    "import matplotlib.pyplot as plt\n",
    "import datetime\n",
    "from talib.abstract import *\n",
    "\n",
    "import pinkfish as pf\n",
    "import strategy\n",
    "\n",
    "# format price data\n",
    "pd.options.display.float_format = '{:0.2f}'.format\n",
    "\n",
    "%matplotlib inline"
   ]
  },
  {
   "cell_type": "code",
   "execution_count": 50,
   "metadata": {
    "ExecuteTime": {
     "end_time": "2020-02-17T03:45:11.325938Z",
     "start_time": "2020-02-17T03:45:11.319311Z"
    }
   },
   "outputs": [],
   "source": [
    "# set size of inline plots\n",
    "'''note: rcParams can't be in same cell as import matplotlib\n",
    "   or %matplotlib inline\n",
    "   \n",
    "   %matplotlib notebook: will lead to interactive plots embedded within\n",
    "   the notebook, you can zoom and resize the figure\n",
    "   \n",
    "   %matplotlib inline: only draw static images in the notebook\n",
    "'''\n",
    "plt.rcParams[\"figure.figsize\"] = (10, 7)"
   ]
  },
  {
   "cell_type": "markdown",
   "metadata": {},
   "source": [
    "Some global data"
   ]
  },
  {
   "cell_type": "code",
   "execution_count": 51,
   "metadata": {
    "ExecuteTime": {
     "end_time": "2020-02-17T03:45:11.339607Z",
     "start_time": "2020-02-17T03:45:11.331313Z"
    }
   },
   "outputs": [],
   "source": [
    "symbol = '^GSPC'\n",
    "symbol = 'SPY'\n",
    "#symbol = 'DIA'\n",
    "#symbol = 'QQQ'\n",
    "#symbol = 'IWM'\n",
    "#symbol = 'TLT'\n",
    "#symbol = 'GLD'\n",
    "#symbol = 'AAPL'\n",
    "#symbol = 'BBRY'\n",
    "#symbol = 'GDX'\n",
    "capital = 10000\n",
    "start = datetime.datetime(1900, 1, 1)\n",
    "start = datetime.datetime.strptime(pf.SP500_BEGIN, '%Y-%m-%d')\n",
    "end = datetime.datetime.now()"
   ]
  },
  {
   "cell_type": "markdown",
   "metadata": {},
   "source": [
    "Include dividends? (If yes, set to True)"
   ]
  },
  {
   "cell_type": "code",
   "execution_count": 52,
   "metadata": {
    "ExecuteTime": {
     "end_time": "2020-02-17T03:45:11.349841Z",
     "start_time": "2020-02-17T03:45:11.344500Z"
    }
   },
   "outputs": [],
   "source": [
    "use_adj = True"
   ]
  },
  {
   "cell_type": "markdown",
   "metadata": {},
   "source": [
    "Define high low trade periods"
   ]
  },
  {
   "cell_type": "code",
   "execution_count": 53,
   "metadata": {
    "ExecuteTime": {
     "end_time": "2020-02-17T03:45:11.367886Z",
     "start_time": "2020-02-17T03:45:11.353889Z"
    }
   },
   "outputs": [],
   "source": [
    "sma_period = 200\n",
    "percent_band = 3.5"
   ]
  },
  {
   "cell_type": "markdown",
   "metadata": {},
   "source": [
    "Run Strategy"
   ]
  },
  {
   "cell_type": "code",
   "execution_count": 54,
   "metadata": {
    "ExecuteTime": {
     "end_time": "2020-02-17T03:45:11.709708Z",
     "start_time": "2020-02-17T03:45:11.373477Z"
    },
    "scrolled": true
   },
   "outputs": [],
   "source": [
    "s = strategy.Strategy(symbol, capital, start, end, use_adj, sma_period, percent_band)\n",
    "s.run()"
   ]
  },
  {
   "cell_type": "markdown",
   "metadata": {},
   "source": [
    "Retrieve log DataFrames"
   ]
  },
  {
   "cell_type": "code",
   "execution_count": 55,
   "metadata": {
    "ExecuteTime": {
     "end_time": "2020-02-17T03:45:13.548405Z",
     "start_time": "2020-02-17T03:45:11.718168Z"
    }
   },
   "outputs": [],
   "source": [
    "rlog, tlog, dbal = s.get_logs()\n",
    "stats = s.get_stats()"
   ]
  },
  {
   "cell_type": "code",
   "execution_count": 56,
   "metadata": {
    "ExecuteTime": {
     "end_time": "2020-02-17T03:45:13.601919Z",
     "start_time": "2020-02-17T03:45:13.558284Z"
    }
   },
   "outputs": [
    {
     "data": {
      "text/html": [
       "<div>\n",
       "<style scoped>\n",
       "    .dataframe tbody tr th:only-of-type {\n",
       "        vertical-align: middle;\n",
       "    }\n",
       "\n",
       "    .dataframe tbody tr th {\n",
       "        vertical-align: top;\n",
       "    }\n",
       "\n",
       "    .dataframe thead th {\n",
       "        text-align: right;\n",
       "    }\n",
       "</style>\n",
       "<table border=\"1\" class=\"dataframe\">\n",
       "  <thead>\n",
       "    <tr style=\"text-align: right;\">\n",
       "      <th></th>\n",
       "      <th>entry_date</th>\n",
       "      <th>entry_price</th>\n",
       "      <th>exit_date</th>\n",
       "      <th>exit_price</th>\n",
       "      <th>pl_points</th>\n",
       "      <th>pl_cash</th>\n",
       "      <th>qty</th>\n",
       "      <th>cumul_total</th>\n",
       "      <th>direction</th>\n",
       "      <th>symbol</th>\n",
       "    </tr>\n",
       "  </thead>\n",
       "  <tbody>\n",
       "    <tr>\n",
       "      <th>1</th>\n",
       "      <td>1994-08-26</td>\n",
       "      <td>29.49</td>\n",
       "      <td>1998-08-31</td>\n",
       "      <td>64.18</td>\n",
       "      <td>34.69</td>\n",
       "      <td>11274.33</td>\n",
       "      <td>325</td>\n",
       "      <td>10862.24</td>\n",
       "      <td>LONG</td>\n",
       "      <td>SPY</td>\n",
       "    </tr>\n",
       "    <tr>\n",
       "      <th>2</th>\n",
       "      <td>1998-11-02</td>\n",
       "      <td>75.06</td>\n",
       "      <td>1999-10-15</td>\n",
       "      <td>84.76</td>\n",
       "      <td>9.70</td>\n",
       "      <td>2686.09</td>\n",
       "      <td>277</td>\n",
       "      <td>13548.32</td>\n",
       "      <td>LONG</td>\n",
       "      <td>SPY</td>\n",
       "    </tr>\n",
       "    <tr>\n",
       "      <th>3</th>\n",
       "      <td>1999-10-29</td>\n",
       "      <td>92.99</td>\n",
       "      <td>2000-10-10</td>\n",
       "      <td>94.38</td>\n",
       "      <td>1.39</td>\n",
       "      <td>352.13</td>\n",
       "      <td>253</td>\n",
       "      <td>13900.45</td>\n",
       "      <td>LONG</td>\n",
       "      <td>SPY</td>\n",
       "    </tr>\n",
       "    <tr>\n",
       "      <th>4</th>\n",
       "      <td>2003-04-22</td>\n",
       "      <td>64.88</td>\n",
       "      <td>2007-11-21</td>\n",
       "      <td>109.00</td>\n",
       "      <td>44.13</td>\n",
       "      <td>16238.76</td>\n",
       "      <td>368</td>\n",
       "      <td>30139.20</td>\n",
       "      <td>LONG</td>\n",
       "      <td>SPY</td>\n",
       "    </tr>\n",
       "    <tr>\n",
       "      <th>5</th>\n",
       "      <td>2009-06-05</td>\n",
       "      <td>75.43</td>\n",
       "      <td>2010-06-07</td>\n",
       "      <td>85.84</td>\n",
       "      <td>10.42</td>\n",
       "      <td>5541.00</td>\n",
       "      <td>532</td>\n",
       "      <td>35680.20</td>\n",
       "      <td>LONG</td>\n",
       "      <td>SPY</td>\n",
       "    </tr>\n",
       "    <tr>\n",
       "      <th>6</th>\n",
       "      <td>2010-09-24</td>\n",
       "      <td>94.38</td>\n",
       "      <td>2011-08-04</td>\n",
       "      <td>100.30</td>\n",
       "      <td>5.92</td>\n",
       "      <td>2864.27</td>\n",
       "      <td>484</td>\n",
       "      <td>38544.47</td>\n",
       "      <td>LONG</td>\n",
       "      <td>SPY</td>\n",
       "    </tr>\n",
       "    <tr>\n",
       "      <th>7</th>\n",
       "      <td>2012-01-10</td>\n",
       "      <td>108.94</td>\n",
       "      <td>2015-08-21</td>\n",
       "      <td>179.10</td>\n",
       "      <td>70.16</td>\n",
       "      <td>31222.77</td>\n",
       "      <td>445</td>\n",
       "      <td>69767.24</td>\n",
       "      <td>LONG</td>\n",
       "      <td>SPY</td>\n",
       "    </tr>\n",
       "    <tr>\n",
       "      <th>8</th>\n",
       "      <td>2016-04-01</td>\n",
       "      <td>190.40</td>\n",
       "      <td>2018-10-29</td>\n",
       "      <td>254.83</td>\n",
       "      <td>64.42</td>\n",
       "      <td>26928.83</td>\n",
       "      <td>418</td>\n",
       "      <td>96696.07</td>\n",
       "      <td>LONG</td>\n",
       "      <td>SPY</td>\n",
       "    </tr>\n",
       "    <tr>\n",
       "      <th>9</th>\n",
       "      <td>2019-03-18</td>\n",
       "      <td>275.46</td>\n",
       "      <td>2020-03-09</td>\n",
       "      <td>271.43</td>\n",
       "      <td>-4.03</td>\n",
       "      <td>-1560.41</td>\n",
       "      <td>387</td>\n",
       "      <td>95135.66</td>\n",
       "      <td>LONG</td>\n",
       "      <td>SPY</td>\n",
       "    </tr>\n",
       "    <tr>\n",
       "      <th>10</th>\n",
       "      <td>2020-06-03</td>\n",
       "      <td>310.81</td>\n",
       "      <td>2020-09-02</td>\n",
       "      <td>357.70</td>\n",
       "      <td>46.89</td>\n",
       "      <td>15848.07</td>\n",
       "      <td>338</td>\n",
       "      <td>110983.73</td>\n",
       "      <td>LONG</td>\n",
       "      <td>SPY</td>\n",
       "    </tr>\n",
       "  </tbody>\n",
       "</table>\n",
       "</div>"
      ],
      "text/plain": [
       "   entry_date  entry_price  exit_date  exit_price  pl_points  pl_cash  qty  \\\n",
       "1  1994-08-26        29.49 1998-08-31       64.18      34.69 11274.33  325   \n",
       "2  1998-11-02        75.06 1999-10-15       84.76       9.70  2686.09  277   \n",
       "3  1999-10-29        92.99 2000-10-10       94.38       1.39   352.13  253   \n",
       "4  2003-04-22        64.88 2007-11-21      109.00      44.13 16238.76  368   \n",
       "5  2009-06-05        75.43 2010-06-07       85.84      10.42  5541.00  532   \n",
       "6  2010-09-24        94.38 2011-08-04      100.30       5.92  2864.27  484   \n",
       "7  2012-01-10       108.94 2015-08-21      179.10      70.16 31222.77  445   \n",
       "8  2016-04-01       190.40 2018-10-29      254.83      64.42 26928.83  418   \n",
       "9  2019-03-18       275.46 2020-03-09      271.43      -4.03 -1560.41  387   \n",
       "10 2020-06-03       310.81 2020-09-02      357.70      46.89 15848.07  338   \n",
       "\n",
       "    cumul_total direction symbol  \n",
       "1      10862.24      LONG    SPY  \n",
       "2      13548.32      LONG    SPY  \n",
       "3      13900.45      LONG    SPY  \n",
       "4      30139.20      LONG    SPY  \n",
       "5      35680.20      LONG    SPY  \n",
       "6      38544.47      LONG    SPY  \n",
       "7      69767.24      LONG    SPY  \n",
       "8      96696.07      LONG    SPY  \n",
       "9      95135.66      LONG    SPY  \n",
       "10    110983.73      LONG    SPY  "
      ]
     },
     "execution_count": 56,
     "metadata": {},
     "output_type": "execute_result"
    }
   ],
   "source": [
    "tlog.tail(10)"
   ]
  },
  {
   "cell_type": "code",
   "execution_count": 57,
   "metadata": {
    "ExecuteTime": {
     "end_time": "2020-02-17T03:45:13.633890Z",
     "start_time": "2020-02-17T03:45:13.606257Z"
    }
   },
   "outputs": [
    {
     "data": {
      "text/html": [
       "<div>\n",
       "<style scoped>\n",
       "    .dataframe tbody tr th:only-of-type {\n",
       "        vertical-align: middle;\n",
       "    }\n",
       "\n",
       "    .dataframe tbody tr th {\n",
       "        vertical-align: top;\n",
       "    }\n",
       "\n",
       "    .dataframe thead th {\n",
       "        text-align: right;\n",
       "    }\n",
       "</style>\n",
       "<table border=\"1\" class=\"dataframe\">\n",
       "  <thead>\n",
       "    <tr style=\"text-align: right;\">\n",
       "      <th></th>\n",
       "      <th>high</th>\n",
       "      <th>low</th>\n",
       "      <th>close</th>\n",
       "      <th>shares</th>\n",
       "      <th>cash</th>\n",
       "      <th>leverage</th>\n",
       "      <th>state</th>\n",
       "    </tr>\n",
       "    <tr>\n",
       "      <th>date</th>\n",
       "      <th></th>\n",
       "      <th></th>\n",
       "      <th></th>\n",
       "      <th></th>\n",
       "      <th></th>\n",
       "      <th></th>\n",
       "      <th></th>\n",
       "    </tr>\n",
       "  </thead>\n",
       "  <tbody>\n",
       "    <tr>\n",
       "      <th>2020-08-27</th>\n",
       "      <td>118347.33</td>\n",
       "      <td>117208.27</td>\n",
       "      <td>117816.66</td>\n",
       "      <td>338</td>\n",
       "      <td>81.13</td>\n",
       "      <td>1.00</td>\n",
       "      <td>-</td>\n",
       "    </tr>\n",
       "    <tr>\n",
       "      <th>2020-08-28</th>\n",
       "      <td>118624.49</td>\n",
       "      <td>117755.83</td>\n",
       "      <td>118577.16</td>\n",
       "      <td>338</td>\n",
       "      <td>81.13</td>\n",
       "      <td>1.00</td>\n",
       "      <td>-</td>\n",
       "    </tr>\n",
       "    <tr>\n",
       "      <th>2020-08-31</th>\n",
       "      <td>118820.52</td>\n",
       "      <td>118063.41</td>\n",
       "      <td>118147.91</td>\n",
       "      <td>338</td>\n",
       "      <td>81.13</td>\n",
       "      <td>1.00</td>\n",
       "      <td>-</td>\n",
       "    </tr>\n",
       "    <tr>\n",
       "      <th>2020-09-01</th>\n",
       "      <td>119297.11</td>\n",
       "      <td>118124.24</td>\n",
       "      <td>119259.93</td>\n",
       "      <td>338</td>\n",
       "      <td>81.13</td>\n",
       "      <td>1.00</td>\n",
       "      <td>-</td>\n",
       "    </tr>\n",
       "    <tr>\n",
       "      <th>2020-09-02</th>\n",
       "      <td>120983.73</td>\n",
       "      <td>120983.73</td>\n",
       "      <td>120983.73</td>\n",
       "      <td>0</td>\n",
       "      <td>120983.73</td>\n",
       "      <td>1.00</td>\n",
       "      <td>X</td>\n",
       "    </tr>\n",
       "  </tbody>\n",
       "</table>\n",
       "</div>"
      ],
      "text/plain": [
       "                high       low     close  shares      cash  leverage state\n",
       "date                                                                      \n",
       "2020-08-27 118347.33 117208.27 117816.66     338     81.13      1.00     -\n",
       "2020-08-28 118624.49 117755.83 118577.16     338     81.13      1.00     -\n",
       "2020-08-31 118820.52 118063.41 118147.91     338     81.13      1.00     -\n",
       "2020-09-01 119297.11 118124.24 119259.93     338     81.13      1.00     -\n",
       "2020-09-02 120983.73 120983.73 120983.73       0 120983.73      1.00     X"
      ]
     },
     "execution_count": 57,
     "metadata": {},
     "output_type": "execute_result"
    }
   ],
   "source": [
    "dbal.tail()"
   ]
  },
  {
   "cell_type": "markdown",
   "metadata": {},
   "source": [
    "Generate strategy stats - display all available stats"
   ]
  },
  {
   "cell_type": "code",
   "execution_count": 58,
   "metadata": {
    "ExecuteTime": {
     "end_time": "2020-02-17T03:45:13.672833Z",
     "start_time": "2020-02-17T03:45:13.637957Z"
    }
   },
   "outputs": [
    {
     "name": "stdout",
     "output_type": "stream",
     "text": [
      "start                                                   1993-11-11\n",
      "end                                                     2020-09-02\n",
      "beginning_balance                                            10000\n",
      "ending_balance                                           120983.73\n",
      "total_net_profit                                         110983.73\n",
      "gross_profit                                             112956.24\n",
      "gross_loss                                                -1972.51\n",
      "profit_factor                                                57.27\n",
      "return_on_initial_capital                                  1109.84\n",
      "annual_return_rate                                            9.75\n",
      "trading_period                           26 years 9 months 22 days\n",
      "pct_time_in_market                                           75.32\n",
      "margin                                                           1\n",
      "avg_leverage                                                  1.00\n",
      "max_leverage                                                  1.00\n",
      "min_leverage                                                  1.00\n",
      "total_num_trades                                                11\n",
      "trades_per_year                                               0.41\n",
      "num_winning_trades                                               9\n",
      "num_losing_trades                                                2\n",
      "num_even_trades                                                  0\n",
      "pct_profitable_trades                                        81.82\n",
      "avg_profit_per_trade                                      10089.43\n",
      "avg_profit_per_winning_trade                              12550.69\n",
      "avg_loss_per_losing_trade                                  -986.25\n",
      "ratio_avg_profit_win_loss                                    12.73\n",
      "largest_profit_winning_trade                              31222.77\n",
      "largest_loss_losing_trade                                 -1560.41\n",
      "num_winning_points                                          287.71\n",
      "num_losing_points                                            -5.19\n",
      "total_net_points                                            282.52\n",
      "avg_points                                                   25.68\n",
      "largest_points_winning_trade                                 70.16\n",
      "largest_points_losing_trade                                  -4.03\n",
      "avg_pct_gain_per_trade                                       29.81\n",
      "largest_pct_winning_trade                                   117.62\n",
      "largest_pct_losing_trade                                     -4.13\n",
      "max_consecutive_winning_trades                                   8\n",
      "max_consecutive_losing_trades                                    1\n",
      "avg_bars_winning_trades                                     527.67\n",
      "avg_bars_losing_trades                                      173.00\n",
      "max_closed_out_drawdown                                     -21.94\n",
      "max_closed_out_drawdown_start_date                      2020-02-19\n",
      "max_closed_out_drawdown_end_date                        2020-06-11\n",
      "max_closed_out_drawdown_recovery_date            Not Recovered Yet\n",
      "drawdown_recovery                                            -0.31\n",
      "drawdown_annualized_return                                   -2.25\n",
      "max_intra_day_drawdown                                      -23.11\n",
      "avg_yearly_closed_out_drawdown                               -8.24\n",
      "max_yearly_closed_out_drawdown                              -21.94\n",
      "avg_monthly_closed_out_drawdown                              -2.41\n",
      "max_monthly_closed_out_drawdown                             -18.94\n",
      "avg_weekly_closed_out_drawdown                               -0.96\n",
      "max_weekly_closed_out_drawdown                              -12.34\n",
      "avg_yearly_closed_out_runup                                  18.27\n",
      "max_yearly_closed_out_runup                                  55.67\n",
      "avg_monthly_closed_out_runup                                  3.11\n",
      "max_monthly_closed_out_runup                                 15.45\n",
      "avg_weekly_closed_out_runup                                   1.16\n",
      "max_weekly_closed_out_runup                                   9.46\n",
      "pct_profitable_years                                         73.97\n",
      "best_year                                                    53.29\n",
      "worst_year                                                   -9.89\n",
      "avg_year                                                     10.56\n",
      "annual_std                                                   11.64\n",
      "pct_profitable_months                                        52.44\n",
      "best_month                                                   15.45\n",
      "worst_month                                                 -18.94\n",
      "avg_month                                                     0.78\n",
      "monthly_std                                                   3.16\n",
      "pct_profitable_weeks                                         45.63\n",
      "best_week                                                     9.46\n",
      "worst_week                                                  -12.34\n",
      "avg_week                                                      0.20\n",
      "weekly_std                                                    1.66\n",
      "pct_profitable_days                                          41.44\n",
      "best_day                                                      5.80\n",
      "worst_day                                                    -7.80\n",
      "avg_day                                                       0.04\n",
      "daily_std                                                     0.78\n",
      "sharpe_ratio                                                  0.81\n",
      "sharpe_ratio_max                                              0.85\n",
      "sharpe_ratio_min                                              0.77\n",
      "sortino_ratio                                                 0.89\n",
      "dtype: object\n"
     ]
    }
   ],
   "source": [
    "pf.print_full(stats)"
   ]
  },
  {
   "cell_type": "markdown",
   "metadata": {},
   "source": [
    "Run Benchmark, Retrieve benchmark logs, and Generate benchmark stats"
   ]
  },
  {
   "cell_type": "code",
   "execution_count": 59,
   "metadata": {
    "ExecuteTime": {
     "end_time": "2020-02-17T03:45:15.157669Z",
     "start_time": "2020-02-17T03:45:13.684340Z"
    }
   },
   "outputs": [
    {
     "name": "stdout",
     "output_type": "stream",
     "text": [
      "1993-11-11 00:00:00 BUY  355 SPY @ 28.14\n",
      "2020-09-02 00:00:00 SELL 355 SPY @ 357.70\n"
     ]
    }
   ],
   "source": [
    "benchmark = pf.Benchmark(symbol, capital, s.start, s.end, s.use_adj)\n",
    "benchmark.run()\n",
    "benchmark.tlog, benchmark.dbal = benchmark.get_logs()\n",
    "benchmark.stats = benchmark.get_stats()"
   ]
  },
  {
   "cell_type": "markdown",
   "metadata": {},
   "source": [
    "Plot Equity Curves: Strategy vs Benchmark"
   ]
  },
  {
   "cell_type": "code",
   "execution_count": 60,
   "metadata": {
    "ExecuteTime": {
     "end_time": "2020-02-17T03:45:15.486657Z",
     "start_time": "2020-02-17T03:45:15.168547Z"
    }
   },
   "outputs": [
    {
     "data": {
      "image/png": "[encoded data removed]",
      "text/plain": [
       "<Figure size 720x504 with 1 Axes>"
      ]
     },
     "metadata": {
      "needs_background": "light"
     },
     "output_type": "display_data"
    }
   ],
   "source": [
    "pf.plot_equity_curve(dbal, benchmark=benchmark.dbal)"
   ]
  },
  {
   "cell_type": "markdown",
   "metadata": {},
   "source": [
    "Plot Trades"
   ]
  },
  {
   "cell_type": "code",
   "execution_count": 61,
   "metadata": {
    "ExecuteTime": {
     "end_time": "2020-02-17T03:45:15.806833Z",
     "start_time": "2020-02-17T03:45:15.495090Z"
    }
   },
   "outputs": [
    {
     "data": {
      "image/png": "[encoded data removed]",
      "text/plain": [
       "<Figure size 720x504 with 1 Axes>"
      ]
     },
     "metadata": {
      "needs_background": "light"
     },
     "output_type": "display_data"
    }
   ],
   "source": [
    "pf.plot_trades(dbal, benchmark=benchmark.dbal)"
   ]
  },
  {
   "cell_type": "code",
   "execution_count": 62,
   "metadata": {
    "ExecuteTime": {
     "end_time": "2020-02-17T03:45:15.846940Z",
     "start_time": "2020-02-17T03:45:15.812016Z"
    }
   },
   "outputs": [
    {
     "name": "stdout",
     "output_type": "stream",
     "text": [
      "trading period:  1993-11-11 to 2020-09-02\n"
     ]
    },
    {
     "data": {
      "text/html": [
       "<div>\n",
       "<style scoped>\n",
       "    .dataframe tbody tr th:only-of-type {\n",
       "        vertical-align: middle;\n",
       "    }\n",
       "\n",
       "    .dataframe tbody tr th {\n",
       "        vertical-align: top;\n",
       "    }\n",
       "\n",
       "    .dataframe thead th {\n",
       "        text-align: right;\n",
       "    }\n",
       "</style>\n",
       "<table border=\"1\" class=\"dataframe\">\n",
       "  <thead>\n",
       "    <tr style=\"text-align: right;\">\n",
       "      <th></th>\n",
       "      <th>strategy</th>\n",
       "      <th>benchmark</th>\n",
       "    </tr>\n",
       "  </thead>\n",
       "  <tbody>\n",
       "    <tr>\n",
       "      <th>beginning_balance</th>\n",
       "      <td>$10,000.00</td>\n",
       "      <td>$10,000.00</td>\n",
       "    </tr>\n",
       "    <tr>\n",
       "      <th>ending_balance</th>\n",
       "      <td>$120,983.73</td>\n",
       "      <td>$126,994.44</td>\n",
       "    </tr>\n",
       "    <tr>\n",
       "      <th>total_net_profit</th>\n",
       "      <td>$110,983.73</td>\n",
       "      <td>$116,994.44</td>\n",
       "    </tr>\n",
       "    <tr>\n",
       "      <th>gross_profit</th>\n",
       "      <td>$112,956.24</td>\n",
       "      <td>$116,994.44</td>\n",
       "    </tr>\n",
       "    <tr>\n",
       "      <th>gross_loss</th>\n",
       "      <td>-$1,972.51</td>\n",
       "      <td>$0.00</td>\n",
       "    </tr>\n",
       "  </tbody>\n",
       "</table>\n",
       "</div>"
      ],
      "text/plain": [
       "                      strategy    benchmark\n",
       "beginning_balance   $10,000.00   $10,000.00\n",
       "ending_balance     $120,983.73  $126,994.44\n",
       "total_net_profit   $110,983.73  $116,994.44\n",
       "gross_profit       $112,956.24  $116,994.44\n",
       "gross_loss          -$1,972.51        $0.00"
      ]
     },
     "execution_count": 62,
     "metadata": {},
     "output_type": "execute_result"
    }
   ],
   "source": [
    "print('trading period:  {} to {}'.format(stats['start'], stats['end']))\n",
    "df = pf.summary(stats, benchmark.stats, metrics=pf.currency_metrics)\n",
    "df"
   ]
  },
  {
   "cell_type": "markdown",
   "metadata": {},
   "source": [
    "Bar Graph: Strategy vs Benchmark"
   ]
  },
  {
   "cell_type": "code",
   "execution_count": 63,
   "metadata": {
    "ExecuteTime": {
     "end_time": "2020-02-17T03:45:16.246683Z",
     "start_time": "2020-02-17T03:45:15.850535Z"
    }
   },
   "outputs": [
    {
     "data": {
      "text/html": [
       "<div>\n",
       "<style scoped>\n",
       "    .dataframe tbody tr th:only-of-type {\n",
       "        vertical-align: middle;\n",
       "    }\n",
       "\n",
       "    .dataframe tbody tr th {\n",
       "        vertical-align: top;\n",
       "    }\n",
       "\n",
       "    .dataframe thead th {\n",
       "        text-align: right;\n",
       "    }\n",
       "</style>\n",
       "<table border=\"1\" class=\"dataframe\">\n",
       "  <thead>\n",
       "    <tr style=\"text-align: right;\">\n",
       "      <th></th>\n",
       "      <th>strategy</th>\n",
       "      <th>benchmark</th>\n",
       "    </tr>\n",
       "  </thead>\n",
       "  <tbody>\n",
       "    <tr>\n",
       "      <th>annual_return_rate</th>\n",
       "      <td>9.75</td>\n",
       "      <td>9.94</td>\n",
       "    </tr>\n",
       "    <tr>\n",
       "      <th>max_closed_out_drawdown</th>\n",
       "      <td>-21.94</td>\n",
       "      <td>-55.18</td>\n",
       "    </tr>\n",
       "    <tr>\n",
       "      <th>drawdown_annualized_return</th>\n",
       "      <td>-2.25</td>\n",
       "      <td>-5.55</td>\n",
       "    </tr>\n",
       "    <tr>\n",
       "      <th>drawdown_recovery</th>\n",
       "      <td>-0.31</td>\n",
       "      <td>-1.42</td>\n",
       "    </tr>\n",
       "    <tr>\n",
       "      <th>best_month</th>\n",
       "      <td>15.45</td>\n",
       "      <td>23.61</td>\n",
       "    </tr>\n",
       "    <tr>\n",
       "      <th>worst_month</th>\n",
       "      <td>-18.94</td>\n",
       "      <td>-30.98</td>\n",
       "    </tr>\n",
       "    <tr>\n",
       "      <th>sharpe_ratio</th>\n",
       "      <td>0.81</td>\n",
       "      <td>0.59</td>\n",
       "    </tr>\n",
       "    <tr>\n",
       "      <th>sortino_ratio</th>\n",
       "      <td>0.89</td>\n",
       "      <td>0.75</td>\n",
       "    </tr>\n",
       "    <tr>\n",
       "      <th>monthly_std</th>\n",
       "      <td>3.16</td>\n",
       "      <td>4.55</td>\n",
       "    </tr>\n",
       "    <tr>\n",
       "      <th>annual_std</th>\n",
       "      <td>11.64</td>\n",
       "      <td>16.90</td>\n",
       "    </tr>\n",
       "  </tbody>\n",
       "</table>\n",
       "</div>"
      ],
      "text/plain": [
       "                            strategy  benchmark\n",
       "annual_return_rate              9.75       9.94\n",
       "max_closed_out_drawdown       -21.94     -55.18\n",
       "drawdown_annualized_return     -2.25      -5.55\n",
       "drawdown_recovery              -0.31      -1.42\n",
       "best_month                     15.45      23.61\n",
       "worst_month                   -18.94     -30.98\n",
       "sharpe_ratio                    0.81       0.59\n",
       "sortino_ratio                   0.89       0.75\n",
       "monthly_std                     3.16       4.55\n",
       "annual_std                     11.64      16.90"
      ]
     },
     "execution_count": 63,
     "metadata": {},
     "output_type": "execute_result"
    },
    {
     "data": {
      "image/png": "[encoded data removed]",
      "text/plain": [
       "<Figure size 720x504 with 1 Axes>"
      ]
     },
     "metadata": {
      "needs_background": "light"
     },
     "output_type": "display_data"
    }
   ],
   "source": [
    "df = pf.plot_bar_graph(stats, benchmark.stats)\n",
    "df"
   ]
  },
  {
   "cell_type": "markdown",
   "metadata": {},
   "source": [
    "Print the raw transaction log"
   ]
  },
  {
   "cell_type": "code",
   "execution_count": 64,
   "metadata": {
    "ExecuteTime": {
     "end_time": "2020-02-17T03:45:16.402873Z",
     "start_time": "2020-02-17T03:45:16.254387Z"
    },
    "scrolled": false
   },
   "outputs": [
    {
     "data": {
      "text/html": [
       "<div>\n",
       "<style scoped>\n",
       "    .dataframe tbody tr th:only-of-type {\n",
       "        vertical-align: middle;\n",
       "    }\n",
       "\n",
       "    .dataframe tbody tr th {\n",
       "        vertical-align: top;\n",
       "    }\n",
       "\n",
       "    .dataframe thead th {\n",
       "        text-align: right;\n",
       "    }\n",
       "</style>\n",
       "<table border=\"1\" class=\"dataframe\">\n",
       "  <thead>\n",
       "    <tr style=\"text-align: right;\">\n",
       "      <th></th>\n",
       "      <th>date</th>\n",
       "      <th>seq_num</th>\n",
       "      <th>price</th>\n",
       "      <th>shares</th>\n",
       "      <th>entry_exit</th>\n",
       "      <th>direction</th>\n",
       "      <th>symbol</th>\n",
       "    </tr>\n",
       "  </thead>\n",
       "  <tbody>\n",
       "    <tr>\n",
       "      <th>0</th>\n",
       "      <td>1993-11-11</td>\n",
       "      <td>0</td>\n",
       "      <td>28.14</td>\n",
       "      <td>355</td>\n",
       "      <td>entry</td>\n",
       "      <td>LONG</td>\n",
       "      <td>SPY</td>\n",
       "    </tr>\n",
       "    <tr>\n",
       "      <th>1</th>\n",
       "      <td>1994-04-04</td>\n",
       "      <td>1</td>\n",
       "      <td>26.98</td>\n",
       "      <td>355</td>\n",
       "      <td>exit</td>\n",
       "      <td>LONG</td>\n",
       "      <td>SPY</td>\n",
       "    </tr>\n",
       "    <tr>\n",
       "      <th>2</th>\n",
       "      <td>1994-08-26</td>\n",
       "      <td>2</td>\n",
       "      <td>29.49</td>\n",
       "      <td>325</td>\n",
       "      <td>entry</td>\n",
       "      <td>LONG</td>\n",
       "      <td>SPY</td>\n",
       "    </tr>\n",
       "    <tr>\n",
       "      <th>3</th>\n",
       "      <td>1998-08-31</td>\n",
       "      <td>3</td>\n",
       "      <td>64.18</td>\n",
       "      <td>325</td>\n",
       "      <td>exit</td>\n",
       "      <td>LONG</td>\n",
       "      <td>SPY</td>\n",
       "    </tr>\n",
       "    <tr>\n",
       "      <th>4</th>\n",
       "      <td>1998-11-02</td>\n",
       "      <td>4</td>\n",
       "      <td>75.06</td>\n",
       "      <td>277</td>\n",
       "      <td>entry</td>\n",
       "      <td>LONG</td>\n",
       "      <td>SPY</td>\n",
       "    </tr>\n",
       "    <tr>\n",
       "      <th>5</th>\n",
       "      <td>1999-10-15</td>\n",
       "      <td>5</td>\n",
       "      <td>84.76</td>\n",
       "      <td>277</td>\n",
       "      <td>exit</td>\n",
       "      <td>LONG</td>\n",
       "      <td>SPY</td>\n",
       "    </tr>\n",
       "    <tr>\n",
       "      <th>6</th>\n",
       "      <td>1999-10-29</td>\n",
       "      <td>6</td>\n",
       "      <td>92.99</td>\n",
       "      <td>253</td>\n",
       "      <td>entry</td>\n",
       "      <td>LONG</td>\n",
       "      <td>SPY</td>\n",
       "    </tr>\n",
       "    <tr>\n",
       "      <th>7</th>\n",
       "      <td>2000-10-10</td>\n",
       "      <td>7</td>\n",
       "      <td>94.38</td>\n",
       "      <td>253</td>\n",
       "      <td>exit</td>\n",
       "      <td>LONG</td>\n",
       "      <td>SPY</td>\n",
       "    </tr>\n",
       "    <tr>\n",
       "      <th>8</th>\n",
       "      <td>2003-04-22</td>\n",
       "      <td>8</td>\n",
       "      <td>64.88</td>\n",
       "      <td>368</td>\n",
       "      <td>entry</td>\n",
       "      <td>LONG</td>\n",
       "      <td>SPY</td>\n",
       "    </tr>\n",
       "    <tr>\n",
       "      <th>9</th>\n",
       "      <td>2007-11-21</td>\n",
       "      <td>9</td>\n",
       "      <td>109.00</td>\n",
       "      <td>368</td>\n",
       "      <td>exit</td>\n",
       "      <td>LONG</td>\n",
       "      <td>SPY</td>\n",
       "    </tr>\n",
       "    <tr>\n",
       "      <th>10</th>\n",
       "      <td>2009-06-05</td>\n",
       "      <td>10</td>\n",
       "      <td>75.43</td>\n",
       "      <td>532</td>\n",
       "      <td>entry</td>\n",
       "      <td>LONG</td>\n",
       "      <td>SPY</td>\n",
       "    </tr>\n",
       "    <tr>\n",
       "      <th>11</th>\n",
       "      <td>2010-06-07</td>\n",
       "      <td>11</td>\n",
       "      <td>85.84</td>\n",
       "      <td>532</td>\n",
       "      <td>exit</td>\n",
       "      <td>LONG</td>\n",
       "      <td>SPY</td>\n",
       "    </tr>\n",
       "    <tr>\n",
       "      <th>12</th>\n",
       "      <td>2010-09-24</td>\n",
       "      <td>12</td>\n",
       "      <td>94.38</td>\n",
       "      <td>484</td>\n",
       "      <td>entry</td>\n",
       "      <td>LONG</td>\n",
       "      <td>SPY</td>\n",
       "    </tr>\n",
       "    <tr>\n",
       "      <th>13</th>\n",
       "      <td>2011-08-04</td>\n",
       "      <td>13</td>\n",
       "      <td>100.30</td>\n",
       "      <td>484</td>\n",
       "      <td>exit</td>\n",
       "      <td>LONG</td>\n",
       "      <td>SPY</td>\n",
       "    </tr>\n",
       "    <tr>\n",
       "      <th>14</th>\n",
       "      <td>2012-01-10</td>\n",
       "      <td>14</td>\n",
       "      <td>108.94</td>\n",
       "      <td>445</td>\n",
       "      <td>entry</td>\n",
       "      <td>LONG</td>\n",
       "      <td>SPY</td>\n",
       "    </tr>\n",
       "    <tr>\n",
       "      <th>15</th>\n",
       "      <td>2015-08-21</td>\n",
       "      <td>15</td>\n",
       "      <td>179.10</td>\n",
       "      <td>445</td>\n",
       "      <td>exit</td>\n",
       "      <td>LONG</td>\n",
       "      <td>SPY</td>\n",
       "    </tr>\n",
       "    <tr>\n",
       "      <th>16</th>\n",
       "      <td>2016-04-01</td>\n",
       "      <td>16</td>\n",
       "      <td>190.40</td>\n",
       "      <td>418</td>\n",
       "      <td>entry</td>\n",
       "      <td>LONG</td>\n",
       "      <td>SPY</td>\n",
       "    </tr>\n",
       "    <tr>\n",
       "      <th>17</th>\n",
       "      <td>2018-10-29</td>\n",
       "      <td>17</td>\n",
       "      <td>254.83</td>\n",
       "      <td>418</td>\n",
       "      <td>exit</td>\n",
       "      <td>LONG</td>\n",
       "      <td>SPY</td>\n",
       "    </tr>\n",
       "    <tr>\n",
       "      <th>18</th>\n",
       "      <td>2019-03-18</td>\n",
       "      <td>18</td>\n",
       "      <td>275.46</td>\n",
       "      <td>387</td>\n",
       "      <td>entry</td>\n",
       "      <td>LONG</td>\n",
       "      <td>SPY</td>\n",
       "    </tr>\n",
       "    <tr>\n",
       "      <th>19</th>\n",
       "      <td>2020-03-09</td>\n",
       "      <td>19</td>\n",
       "      <td>271.43</td>\n",
       "      <td>387</td>\n",
       "      <td>exit</td>\n",
       "      <td>LONG</td>\n",
       "      <td>SPY</td>\n",
       "    </tr>\n",
       "    <tr>\n",
       "      <th>20</th>\n",
       "      <td>2020-06-03</td>\n",
       "      <td>20</td>\n",
       "      <td>310.81</td>\n",
       "      <td>338</td>\n",
       "      <td>entry</td>\n",
       "      <td>LONG</td>\n",
       "      <td>SPY</td>\n",
       "    </tr>\n",
       "    <tr>\n",
       "      <th>21</th>\n",
       "      <td>2020-09-02</td>\n",
       "      <td>21</td>\n",
       "      <td>357.70</td>\n",
       "      <td>338</td>\n",
       "      <td>exit</td>\n",
       "      <td>LONG</td>\n",
       "      <td>SPY</td>\n",
       "    </tr>\n",
       "  </tbody>\n",
       "</table>\n",
       "</div>"
      ],
      "text/plain": [
       "         date  seq_num  price  shares entry_exit direction symbol\n",
       "0  1993-11-11        0  28.14     355      entry      LONG    SPY\n",
       "1  1994-04-04        1  26.98     355       exit      LONG    SPY\n",
       "2  1994-08-26        2  29.49     325      entry      LONG    SPY\n",
       "3  1998-08-31        3  64.18     325       exit      LONG    SPY\n",
       "4  1998-11-02        4  75.06     277      entry      LONG    SPY\n",
       "5  1999-10-15        5  84.76     277       exit      LONG    SPY\n",
       "6  1999-10-29        6  92.99     253      entry      LONG    SPY\n",
       "7  2000-10-10        7  94.38     253       exit      LONG    SPY\n",
       "8  2003-04-22        8  64.88     368      entry      LONG    SPY\n",
       "9  2007-11-21        9 109.00     368       exit      LONG    SPY\n",
       "10 2009-06-05       10  75.43     532      entry      LONG    SPY\n",
       "11 2010-06-07       11  85.84     532       exit      LONG    SPY\n",
       "12 2010-09-24       12  94.38     484      entry      LONG    SPY\n",
       "13 2011-08-04       13 100.30     484       exit      LONG    SPY\n",
       "14 2012-01-10       14 108.94     445      entry      LONG    SPY\n",
       "15 2015-08-21       15 179.10     445       exit      LONG    SPY\n",
       "16 2016-04-01       16 190.40     418      entry      LONG    SPY\n",
       "17 2018-10-29       17 254.83     418       exit      LONG    SPY\n",
       "18 2019-03-18       18 275.46     387      entry      LONG    SPY\n",
       "19 2020-03-09       19 271.43     387       exit      LONG    SPY\n",
       "20 2020-06-03       20 310.81     338      entry      LONG    SPY\n",
       "21 2020-09-02       21 357.70     338       exit      LONG    SPY"
      ]
     },
     "execution_count": 64,
     "metadata": {},
     "output_type": "execute_result"
    }
   ],
   "source": [
    "pd.set_option('display.max_rows', len(rlog))\n",
    "rlog"
   ]
  },
  {
   "cell_type": "code",
   "execution_count": null,
   "metadata": {},
   "outputs": [],
   "source": []
  }
 ],
 "metadata": {
  "kernelspec": {
   "display_name": "Python 3",
   "language": "python",
   "name": "python3"
  },
  "language_info": {
   "codemirror_mode": {
    "name": "ipython",
    "version": 3
   },
   "file_extension": ".py",
   "mimetype": "text/x-python",
   "name": "python",
   "nbconvert_exporter": "python",
   "pygments_lexer": "ipython3",
   "version": "3.8.2"
  },
  "latex_envs": {
   "LaTeX_envs_menu_present": true,
   "autoclose": false,
   "autocomplete": true,
   "bibliofile": "biblio.bib",
   "cite_by": "apalike",
   "current_citInitial": 1,
   "eqLabelWithNumbers": true,
   "eqNumInitial": 1,
   "hotkeys": {
    "equation": "Ctrl-E",
    "itemize": "Ctrl-I"
   },
   "labels_anchors": false,
   "latex_user_defs": false,
   "report_style_numbering": false,
   "user_envs_cfg": false
  }
 },
 "nbformat": 4,
 "nbformat_minor": 2
}
