{
 "cells": [
  {
   "cell_type": "markdown",
   "metadata": {},
   "source": [
    "# SMA Percent Band\n",
    "\n",
    "    1. The SPY closes above its upper band, buy\n",
    "    2. If the SPY closes below its lower band, sell your long position."
   ]
  },
  {
   "cell_type": "code",
   "execution_count": 1,
   "metadata": {
    "ExecuteTime": {
     "end_time": "2020-02-17T03:45:11.309349Z",
     "start_time": "2020-02-17T03:45:10.536210Z"
    }
   },
   "outputs": [],
   "source": [
    "import pandas as pd\n",
    "import matplotlib.pyplot as plt\n",
    "import datetime\n",
    "from talib.abstract import *\n",
    "\n",
    "import pinkfish as pf\n",
    "import strategy\n",
    "\n",
    "# format price data\n",
    "pd.options.display.float_format = '{:0.2f}'.format\n",
    "\n",
    "%matplotlib inline"
   ]
  },
  {
   "cell_type": "code",
   "execution_count": 2,
   "metadata": {
    "ExecuteTime": {
     "end_time": "2020-02-17T03:45:11.325938Z",
     "start_time": "2020-02-17T03:45:11.319311Z"
    }
   },
   "outputs": [],
   "source": [
    "# set size of inline plots\n",
    "'''note: rcParams can't be in same cell as import matplotlib\n",
    "   or %matplotlib inline\n",
    "   \n",
    "   %matplotlib notebook: will lead to interactive plots embedded within\n",
    "   the notebook, you can zoom and resize the figure\n",
    "   \n",
    "   %matplotlib inline: only draw static images in the notebook\n",
    "'''\n",
    "plt.rcParams[\"figure.figsize\"] = (10, 7)"
   ]
  },
  {
   "cell_type": "markdown",
   "metadata": {},
   "source": [
    "Some global data"
   ]
  },
  {
   "cell_type": "code",
   "execution_count": 3,
   "metadata": {
    "ExecuteTime": {
     "end_time": "2020-02-17T03:45:11.339607Z",
     "start_time": "2020-02-17T03:45:11.331313Z"
    }
   },
   "outputs": [],
   "source": [
    "symbol = '^GSPC'\n",
    "symbol = 'SPY'\n",
    "symbol = 'ES=F'\n",
    "#symbol = 'DIA'\n",
    "#symbol = 'QQQ'\n",
    "#symbol = 'IWM'\n",
    "#symbol = 'TLT'\n",
    "#symbol = 'GLD'\n",
    "#symbol = 'AAPL'\n",
    "#symbol = 'BBRY'\n",
    "#symbol = 'GDX'\n",
    "capital = 10000\n",
    "start = datetime.datetime(1900, 1, 1)\n",
    "start = datetime.datetime.strptime(pf.SP500_BEGIN, '%Y-%m-%d')\n",
    "end = datetime.datetime.now()"
   ]
  },
  {
   "cell_type": "markdown",
   "metadata": {},
   "source": [
    "Include dividends? (If yes, set to True)"
   ]
  },
  {
   "cell_type": "code",
   "execution_count": 4,
   "metadata": {
    "ExecuteTime": {
     "end_time": "2020-02-17T03:45:11.349841Z",
     "start_time": "2020-02-17T03:45:11.344500Z"
    }
   },
   "outputs": [],
   "source": [
    "use_adj = True"
   ]
  },
  {
   "cell_type": "markdown",
   "metadata": {},
   "source": [
    "Define high low trade periods"
   ]
  },
  {
   "cell_type": "code",
   "execution_count": 5,
   "metadata": {
    "ExecuteTime": {
     "end_time": "2020-02-17T03:45:11.367886Z",
     "start_time": "2020-02-17T03:45:11.353889Z"
    }
   },
   "outputs": [],
   "source": [
    "sma_period = 200\n",
    "percent_band = 3.5"
   ]
  },
  {
   "cell_type": "markdown",
   "metadata": {},
   "source": [
    "Run Strategy"
   ]
  },
  {
   "cell_type": "code",
   "execution_count": 6,
   "metadata": {
    "ExecuteTime": {
     "end_time": "2020-02-17T03:45:11.709708Z",
     "start_time": "2020-02-17T03:45:11.373477Z"
    },
    "scrolled": true
   },
   "outputs": [],
   "source": [
    "s = strategy.Strategy(symbol, capital, start, end, use_adj, sma_period, percent_band)\n",
    "s.run()"
   ]
  },
  {
   "cell_type": "markdown",
   "metadata": {},
   "source": [
    "Retrieve log DataFrames"
   ]
  },
  {
   "cell_type": "code",
   "execution_count": 7,
   "metadata": {
    "ExecuteTime": {
     "end_time": "2020-02-17T03:45:13.548405Z",
     "start_time": "2020-02-17T03:45:11.718168Z"
    }
   },
   "outputs": [],
   "source": [
    "rlog, tlog, dbal = s.get_logs()\n",
    "stats = s.get_stats()"
   ]
  },
  {
   "cell_type": "code",
   "execution_count": 8,
   "metadata": {
    "ExecuteTime": {
     "end_time": "2020-02-17T03:45:13.601919Z",
     "start_time": "2020-02-17T03:45:13.558284Z"
    }
   },
   "outputs": [
    {
     "data": {
      "text/html": [
       "<div>\n",
       "<style scoped>\n",
       "    .dataframe tbody tr th:only-of-type {\n",
       "        vertical-align: middle;\n",
       "    }\n",
       "\n",
       "    .dataframe tbody tr th {\n",
       "        vertical-align: top;\n",
       "    }\n",
       "\n",
       "    .dataframe thead th {\n",
       "        text-align: right;\n",
       "    }\n",
       "</style>\n",
       "<table border=\"1\" class=\"dataframe\">\n",
       "  <thead>\n",
       "    <tr style=\"text-align: right;\">\n",
       "      <th></th>\n",
       "      <th>entry_date</th>\n",
       "      <th>entry_price</th>\n",
       "      <th>exit_date</th>\n",
       "      <th>exit_price</th>\n",
       "      <th>pl_points</th>\n",
       "      <th>pl_cash</th>\n",
       "      <th>qty</th>\n",
       "      <th>cumul_total</th>\n",
       "      <th>direction</th>\n",
       "      <th>symbol</th>\n",
       "    </tr>\n",
       "  </thead>\n",
       "  <tbody>\n",
       "    <tr>\n",
       "      <th>0</th>\n",
       "      <td>2003-04-22</td>\n",
       "      <td>909.50</td>\n",
       "      <td>2004-08-06</td>\n",
       "      <td>1063.50</td>\n",
       "      <td>154.00</td>\n",
       "      <td>1540.00</td>\n",
       "      <td>10</td>\n",
       "      <td>1540.00</td>\n",
       "      <td>LONG</td>\n",
       "      <td>ES=F</td>\n",
       "    </tr>\n",
       "    <tr>\n",
       "      <th>1</th>\n",
       "      <td>2004-11-04</td>\n",
       "      <td>1160.50</td>\n",
       "      <td>2007-11-19</td>\n",
       "      <td>1437.50</td>\n",
       "      <td>277.00</td>\n",
       "      <td>2493.00</td>\n",
       "      <td>9</td>\n",
       "      <td>4033.00</td>\n",
       "      <td>LONG</td>\n",
       "      <td>ES=F</td>\n",
       "    </tr>\n",
       "    <tr>\n",
       "      <th>2</th>\n",
       "      <td>2009-07-15</td>\n",
       "      <td>927.25</td>\n",
       "      <td>2010-05-26</td>\n",
       "      <td>1061.25</td>\n",
       "      <td>134.00</td>\n",
       "      <td>2010.00</td>\n",
       "      <td>15</td>\n",
       "      <td>6043.00</td>\n",
       "      <td>LONG</td>\n",
       "      <td>ES=F</td>\n",
       "    </tr>\n",
       "    <tr>\n",
       "      <th>3</th>\n",
       "      <td>2010-10-05</td>\n",
       "      <td>1154.75</td>\n",
       "      <td>2011-08-04</td>\n",
       "      <td>1198.75</td>\n",
       "      <td>44.00</td>\n",
       "      <td>572.00</td>\n",
       "      <td>13</td>\n",
       "      <td>6615.00</td>\n",
       "      <td>LONG</td>\n",
       "      <td>ES=F</td>\n",
       "    </tr>\n",
       "    <tr>\n",
       "      <th>4</th>\n",
       "      <td>2012-01-18</td>\n",
       "      <td>1302.25</td>\n",
       "      <td>2015-08-21</td>\n",
       "      <td>1971.50</td>\n",
       "      <td>669.25</td>\n",
       "      <td>8031.00</td>\n",
       "      <td>12</td>\n",
       "      <td>14646.00</td>\n",
       "      <td>LONG</td>\n",
       "      <td>ES=F</td>\n",
       "    </tr>\n",
       "    <tr>\n",
       "      <th>5</th>\n",
       "      <td>2016-04-18</td>\n",
       "      <td>2086.75</td>\n",
       "      <td>2018-10-24</td>\n",
       "      <td>2664.25</td>\n",
       "      <td>577.50</td>\n",
       "      <td>6352.50</td>\n",
       "      <td>11</td>\n",
       "      <td>20998.50</td>\n",
       "      <td>LONG</td>\n",
       "      <td>ES=F</td>\n",
       "    </tr>\n",
       "    <tr>\n",
       "      <th>6</th>\n",
       "      <td>2019-03-21</td>\n",
       "      <td>2862.50</td>\n",
       "      <td>2020-02-27</td>\n",
       "      <td>2957.00</td>\n",
       "      <td>94.50</td>\n",
       "      <td>945.00</td>\n",
       "      <td>10</td>\n",
       "      <td>21943.50</td>\n",
       "      <td>LONG</td>\n",
       "      <td>ES=F</td>\n",
       "    </tr>\n",
       "    <tr>\n",
       "      <th>7</th>\n",
       "      <td>2020-06-05</td>\n",
       "      <td>3186.75</td>\n",
       "      <td>2020-10-16</td>\n",
       "      <td>3462.25</td>\n",
       "      <td>275.50</td>\n",
       "      <td>2755.00</td>\n",
       "      <td>10</td>\n",
       "      <td>24698.50</td>\n",
       "      <td>LONG</td>\n",
       "      <td>ES=F</td>\n",
       "    </tr>\n",
       "  </tbody>\n",
       "</table>\n",
       "</div>"
      ],
      "text/plain": [
       "  entry_date  entry_price  exit_date  exit_price  pl_points  pl_cash  qty  \\\n",
       "0 2003-04-22       909.50 2004-08-06     1063.50     154.00  1540.00   10   \n",
       "1 2004-11-04      1160.50 2007-11-19     1437.50     277.00  2493.00    9   \n",
       "2 2009-07-15       927.25 2010-05-26     1061.25     134.00  2010.00   15   \n",
       "3 2010-10-05      1154.75 2011-08-04     1198.75      44.00   572.00   13   \n",
       "4 2012-01-18      1302.25 2015-08-21     1971.50     669.25  8031.00   12   \n",
       "5 2016-04-18      2086.75 2018-10-24     2664.25     577.50  6352.50   11   \n",
       "6 2019-03-21      2862.50 2020-02-27     2957.00      94.50   945.00   10   \n",
       "7 2020-06-05      3186.75 2020-10-16     3462.25     275.50  2755.00   10   \n",
       "\n",
       "   cumul_total direction symbol  \n",
       "0      1540.00      LONG   ES=F  \n",
       "1      4033.00      LONG   ES=F  \n",
       "2      6043.00      LONG   ES=F  \n",
       "3      6615.00      LONG   ES=F  \n",
       "4     14646.00      LONG   ES=F  \n",
       "5     20998.50      LONG   ES=F  \n",
       "6     21943.50      LONG   ES=F  \n",
       "7     24698.50      LONG   ES=F  "
      ]
     },
     "execution_count": 8,
     "metadata": {},
     "output_type": "execute_result"
    }
   ],
   "source": [
    "tlog.tail(10)"
   ]
  },
  {
   "cell_type": "code",
   "execution_count": 9,
   "metadata": {
    "ExecuteTime": {
     "end_time": "2020-02-17T03:45:13.633890Z",
     "start_time": "2020-02-17T03:45:13.606257Z"
    }
   },
   "outputs": [
    {
     "data": {
      "text/html": [
       "<div>\n",
       "<style scoped>\n",
       "    .dataframe tbody tr th:only-of-type {\n",
       "        vertical-align: middle;\n",
       "    }\n",
       "\n",
       "    .dataframe tbody tr th {\n",
       "        vertical-align: top;\n",
       "    }\n",
       "\n",
       "    .dataframe thead th {\n",
       "        text-align: right;\n",
       "    }\n",
       "</style>\n",
       "<table border=\"1\" class=\"dataframe\">\n",
       "  <thead>\n",
       "    <tr style=\"text-align: right;\">\n",
       "      <th></th>\n",
       "      <th>high</th>\n",
       "      <th>low</th>\n",
       "      <th>close</th>\n",
       "      <th>shares</th>\n",
       "      <th>cash</th>\n",
       "      <th>leverage</th>\n",
       "      <th>state</th>\n",
       "    </tr>\n",
       "    <tr>\n",
       "      <th>date</th>\n",
       "      <th></th>\n",
       "      <th></th>\n",
       "      <th></th>\n",
       "      <th></th>\n",
       "      <th></th>\n",
       "      <th></th>\n",
       "      <th></th>\n",
       "    </tr>\n",
       "  </thead>\n",
       "  <tbody>\n",
       "    <tr>\n",
       "      <th>2020-10-12</th>\n",
       "      <td>35486.00</td>\n",
       "      <td>34718.50</td>\n",
       "      <td>35403.50</td>\n",
       "      <td>10</td>\n",
       "      <td>76.00</td>\n",
       "      <td>1.00</td>\n",
       "      <td>-</td>\n",
       "    </tr>\n",
       "    <tr>\n",
       "      <th>2020-10-13</th>\n",
       "      <td>35433.50</td>\n",
       "      <td>34991.00</td>\n",
       "      <td>35123.50</td>\n",
       "      <td>10</td>\n",
       "      <td>76.00</td>\n",
       "      <td>1.00</td>\n",
       "      <td>-</td>\n",
       "    </tr>\n",
       "    <tr>\n",
       "      <th>2020-10-14</th>\n",
       "      <td>35316.00</td>\n",
       "      <td>34796.00</td>\n",
       "      <td>34886.00</td>\n",
       "      <td>10</td>\n",
       "      <td>76.00</td>\n",
       "      <td>1.00</td>\n",
       "      <td>-</td>\n",
       "    </tr>\n",
       "    <tr>\n",
       "      <th>2020-10-15</th>\n",
       "      <td>34941.00</td>\n",
       "      <td>34391.00</td>\n",
       "      <td>34831.00</td>\n",
       "      <td>10</td>\n",
       "      <td>76.00</td>\n",
       "      <td>1.00</td>\n",
       "      <td>-</td>\n",
       "    </tr>\n",
       "    <tr>\n",
       "      <th>2020-10-16</th>\n",
       "      <td>34698.50</td>\n",
       "      <td>34698.50</td>\n",
       "      <td>34698.50</td>\n",
       "      <td>0</td>\n",
       "      <td>34698.50</td>\n",
       "      <td>1.00</td>\n",
       "      <td>X</td>\n",
       "    </tr>\n",
       "  </tbody>\n",
       "</table>\n",
       "</div>"
      ],
      "text/plain": [
       "               high      low    close  shares     cash  leverage state\n",
       "date                                                                  \n",
       "2020-10-12 35486.00 34718.50 35403.50      10    76.00      1.00     -\n",
       "2020-10-13 35433.50 34991.00 35123.50      10    76.00      1.00     -\n",
       "2020-10-14 35316.00 34796.00 34886.00      10    76.00      1.00     -\n",
       "2020-10-15 34941.00 34391.00 34831.00      10    76.00      1.00     -\n",
       "2020-10-16 34698.50 34698.50 34698.50       0 34698.50      1.00     X"
      ]
     },
     "execution_count": 9,
     "metadata": {},
     "output_type": "execute_result"
    }
   ],
   "source": [
    "dbal.tail()"
   ]
  },
  {
   "cell_type": "markdown",
   "metadata": {},
   "source": [
    "Generate strategy stats - display all available stats"
   ]
  },
  {
   "cell_type": "code",
   "execution_count": 10,
   "metadata": {
    "ExecuteTime": {
     "end_time": "2020-02-17T03:45:13.672833Z",
     "start_time": "2020-02-17T03:45:13.637957Z"
    }
   },
   "outputs": [
    {
     "name": "stdout",
     "output_type": "stream",
     "text": [
      "start                                                   2001-07-03\n",
      "end                                                     2020-10-16\n",
      "beginning_balance                                            10000\n",
      "ending_balance                                            34698.50\n",
      "total_net_profit                                          24698.50\n",
      "gross_profit                                              24698.50\n",
      "gross_loss                                                    0.00\n",
      "profit_factor                                                 1000\n",
      "return_on_initial_capital                                   246.99\n",
      "annual_return_rate                                            6.66\n",
      "trading_period                           19 years 3 months 13 days\n",
      "pct_time_in_market                                           69.88\n",
      "margin                                                           1\n",
      "avg_leverage                                                  1.00\n",
      "max_leverage                                                  1.00\n",
      "min_leverage                                                  1.00\n",
      "total_num_trades                                                 8\n",
      "trades_per_year                                               0.41\n",
      "num_winning_trades                                               8\n",
      "num_losing_trades                                                0\n",
      "num_even_trades                                                  0\n",
      "pct_profitable_trades                                       100.00\n",
      "avg_profit_per_trade                                       3087.31\n",
      "avg_profit_per_winning_trade                               3087.31\n",
      "avg_loss_per_losing_trade                                        0\n",
      "ratio_avg_profit_win_loss                                     1000\n",
      "largest_profit_winning_trade                               8031.00\n",
      "largest_loss_losing_trade                                        0\n",
      "num_winning_points                                         2225.75\n",
      "num_losing_points                                                0\n",
      "total_net_points                                           2225.75\n",
      "avg_points                                                  278.22\n",
      "largest_points_winning_trade                                669.25\n",
      "largest_points_losing_trade                                      0\n",
      "avg_pct_gain_per_trade                                       18.76\n",
      "largest_pct_winning_trade                                    51.39\n",
      "largest_pct_losing_trade                                         0\n",
      "expected_shortfall                                               0\n",
      "max_consecutive_winning_trades                                   8\n",
      "max_consecutive_losing_trades                                    0\n",
      "avg_bars_winning_trades                                     429.50\n",
      "avg_bars_losing_trades                                           0\n",
      "max_closed_out_drawdown                                     -17.01\n",
      "max_closed_out_drawdown_peak_date                       2020-02-16\n",
      "max_closed_out_drawdown_trough_date                     2020-06-14\n",
      "max_closed_out_drawdown_recovery_date            Not Recovered Yet\n",
      "drawdown_loss_period                             Not Recovered Yet\n",
      "drawdown_recovery_period                         Not Recovered Yet\n",
      "annualized_return_over_max_drawdown                           0.39\n",
      "max_intra_day_drawdown                                      -19.04\n",
      "avg_yearly_closed_out_drawdown                               -6.98\n",
      "max_yearly_closed_out_drawdown                              -17.01\n",
      "avg_monthly_closed_out_drawdown                              -1.96\n",
      "max_monthly_closed_out_drawdown                             -11.88\n",
      "avg_weekly_closed_out_drawdown                               -0.77\n",
      "max_weekly_closed_out_drawdown                              -10.69\n",
      "avg_yearly_closed_out_runup                                  13.35\n",
      "max_yearly_closed_out_runup                                  31.17\n",
      "avg_monthly_closed_out_runup                                  2.42\n",
      "max_monthly_closed_out_runup                                  9.84\n",
      "avg_weekly_closed_out_runup                                   0.90\n",
      "max_weekly_closed_out_runup                                   5.63\n",
      "pct_profitable_years                                         71.13\n",
      "best_year                                                    30.46\n",
      "worst_year                                                  -10.61\n",
      "avg_year                                                      7.02\n",
      "annual_std                                                    8.41\n",
      "pct_profitable_months                                        49.13\n",
      "best_month                                                    9.81\n",
      "worst_month                                                 -11.88\n",
      "avg_month                                                     0.53\n",
      "monthly_std                                                   2.58\n",
      "pct_profitable_weeks                                         42.51\n",
      "best_week                                                     5.34\n",
      "worst_week                                                  -10.69\n",
      "avg_week                                                      0.14\n",
      "weekly_std                                                    1.38\n",
      "pct_profitable_days                                          38.95\n",
      "best_day                                                      4.44\n",
      "worst_day                                                    -5.50\n",
      "avg_day                                                       0.03\n",
      "daily_std                                                     0.64\n",
      "sharpe_ratio                                                  0.68\n",
      "sharpe_ratio_max                                              0.73\n",
      "sharpe_ratio_min                                              0.63\n",
      "sortino_ratio                                                 0.69\n",
      "dtype: object\n"
     ]
    }
   ],
   "source": [
    "pf.print_full(stats)"
   ]
  },
  {
   "cell_type": "markdown",
   "metadata": {},
   "source": [
    "Run Benchmark, Retrieve benchmark logs, and Generate benchmark stats"
   ]
  },
  {
   "cell_type": "code",
   "execution_count": 11,
   "metadata": {
    "ExecuteTime": {
     "end_time": "2020-02-17T03:45:15.157669Z",
     "start_time": "2020-02-17T03:45:13.684340Z"
    }
   },
   "outputs": [],
   "source": [
    "benchmark = pf.Benchmark(symbol, capital, s.start, s.end, s.use_adj)\n",
    "benchmark.run()"
   ]
  },
  {
   "cell_type": "markdown",
   "metadata": {},
   "source": [
    "Plot Equity Curves: Strategy vs Benchmark"
   ]
  },
  {
   "cell_type": "code",
   "execution_count": 12,
   "metadata": {
    "ExecuteTime": {
     "end_time": "2020-02-17T03:45:15.486657Z",
     "start_time": "2020-02-17T03:45:15.168547Z"
    }
   },
   "outputs": [
    {
     "data": {
      "image/png": "[encoded data removed]",
      "text/plain": [
       "<Figure size 720x504 with 1 Axes>"
      ]
     },
     "metadata": {
      "needs_background": "light"
     },
     "output_type": "display_data"
    }
   ],
   "source": [
    "pf.plot_equity_curve(dbal, benchmark=benchmark.dbal)"
   ]
  },
  {
   "cell_type": "markdown",
   "metadata": {},
   "source": [
    "Plot Trades"
   ]
  },
  {
   "cell_type": "code",
   "execution_count": 13,
   "metadata": {
    "ExecuteTime": {
     "end_time": "2020-02-17T03:45:15.806833Z",
     "start_time": "2020-02-17T03:45:15.495090Z"
    }
   },
   "outputs": [
    {
     "data": {
      "image/png": "[encoded data removed]",
      "text/plain": [
       "<Figure size 720x504 with 1 Axes>"
      ]
     },
     "metadata": {
      "needs_background": "light"
     },
     "output_type": "display_data"
    }
   ],
   "source": [
    "pf.plot_trades(dbal, benchmark=benchmark.dbal)"
   ]
  },
  {
   "cell_type": "code",
   "execution_count": 14,
   "metadata": {
    "ExecuteTime": {
     "end_time": "2020-02-17T03:45:15.846940Z",
     "start_time": "2020-02-17T03:45:15.812016Z"
    }
   },
   "outputs": [
    {
     "name": "stdout",
     "output_type": "stream",
     "text": [
      "trading period:  2001-07-03 to 2020-10-16\n"
     ]
    },
    {
     "data": {
      "text/html": [
       "<div>\n",
       "<style scoped>\n",
       "    .dataframe tbody tr th:only-of-type {\n",
       "        vertical-align: middle;\n",
       "    }\n",
       "\n",
       "    .dataframe tbody tr th {\n",
       "        vertical-align: top;\n",
       "    }\n",
       "\n",
       "    .dataframe thead th {\n",
       "        text-align: right;\n",
       "    }\n",
       "</style>\n",
       "<table border=\"1\" class=\"dataframe\">\n",
       "  <thead>\n",
       "    <tr style=\"text-align: right;\">\n",
       "      <th></th>\n",
       "      <th>strategy</th>\n",
       "      <th>benchmark</th>\n",
       "    </tr>\n",
       "  </thead>\n",
       "  <tbody>\n",
       "    <tr>\n",
       "      <th>beginning_balance</th>\n",
       "      <td>$10,000.00</td>\n",
       "      <td>$10,000.00</td>\n",
       "    </tr>\n",
       "    <tr>\n",
       "      <th>ending_balance</th>\n",
       "      <td>$34,698.50</td>\n",
       "      <td>$27,736.00</td>\n",
       "    </tr>\n",
       "    <tr>\n",
       "      <th>total_net_profit</th>\n",
       "      <td>$24,698.50</td>\n",
       "      <td>$17,736.00</td>\n",
       "    </tr>\n",
       "    <tr>\n",
       "      <th>gross_profit</th>\n",
       "      <td>$24,698.50</td>\n",
       "      <td>$17,736.00</td>\n",
       "    </tr>\n",
       "    <tr>\n",
       "      <th>gross_loss</th>\n",
       "      <td>$0.00</td>\n",
       "      <td>$0.00</td>\n",
       "    </tr>\n",
       "  </tbody>\n",
       "</table>\n",
       "</div>"
      ],
      "text/plain": [
       "                     strategy   benchmark\n",
       "beginning_balance  $10,000.00  $10,000.00\n",
       "ending_balance     $34,698.50  $27,736.00\n",
       "total_net_profit   $24,698.50  $17,736.00\n",
       "gross_profit       $24,698.50  $17,736.00\n",
       "gross_loss              $0.00       $0.00"
      ]
     },
     "execution_count": 14,
     "metadata": {},
     "output_type": "execute_result"
    }
   ],
   "source": [
    "print('trading period:  {} to {}'.format(stats['start'], stats['end']))\n",
    "df = pf.summary(stats, benchmark.stats, metrics=pf.currency_metrics)\n",
    "df"
   ]
  },
  {
   "cell_type": "markdown",
   "metadata": {},
   "source": [
    "Bar Graph: Strategy vs Benchmark"
   ]
  },
  {
   "cell_type": "code",
   "execution_count": 15,
   "metadata": {
    "ExecuteTime": {
     "end_time": "2020-02-17T03:45:16.246683Z",
     "start_time": "2020-02-17T03:45:15.850535Z"
    }
   },
   "outputs": [
    {
     "data": {
      "text/html": [
       "<div>\n",
       "<style scoped>\n",
       "    .dataframe tbody tr th:only-of-type {\n",
       "        vertical-align: middle;\n",
       "    }\n",
       "\n",
       "    .dataframe tbody tr th {\n",
       "        vertical-align: top;\n",
       "    }\n",
       "\n",
       "    .dataframe thead th {\n",
       "        text-align: right;\n",
       "    }\n",
       "</style>\n",
       "<table border=\"1\" class=\"dataframe\">\n",
       "  <thead>\n",
       "    <tr style=\"text-align: right;\">\n",
       "      <th></th>\n",
       "      <th>strategy</th>\n",
       "      <th>benchmark</th>\n",
       "    </tr>\n",
       "  </thead>\n",
       "  <tbody>\n",
       "    <tr>\n",
       "      <th>annual_return_rate</th>\n",
       "      <td>6.66</td>\n",
       "      <td>5.43</td>\n",
       "    </tr>\n",
       "    <tr>\n",
       "      <th>max_closed_out_drawdown</th>\n",
       "      <td>-17.01</td>\n",
       "      <td>-56.94</td>\n",
       "    </tr>\n",
       "    <tr>\n",
       "      <th>annualized_return_over_max_drawdown</th>\n",
       "      <td>0.39</td>\n",
       "      <td>0.10</td>\n",
       "    </tr>\n",
       "    <tr>\n",
       "      <th>best_month</th>\n",
       "      <td>9.81</td>\n",
       "      <td>29.19</td>\n",
       "    </tr>\n",
       "    <tr>\n",
       "      <th>worst_month</th>\n",
       "      <td>-11.88</td>\n",
       "      <td>-29.02</td>\n",
       "    </tr>\n",
       "    <tr>\n",
       "      <th>sharpe_ratio</th>\n",
       "      <td>0.68</td>\n",
       "      <td>0.36</td>\n",
       "    </tr>\n",
       "    <tr>\n",
       "      <th>sortino_ratio</th>\n",
       "      <td>0.69</td>\n",
       "      <td>0.44</td>\n",
       "    </tr>\n",
       "    <tr>\n",
       "      <th>monthly_std</th>\n",
       "      <td>2.58</td>\n",
       "      <td>4.66</td>\n",
       "    </tr>\n",
       "    <tr>\n",
       "      <th>annual_std</th>\n",
       "      <td>8.41</td>\n",
       "      <td>15.62</td>\n",
       "    </tr>\n",
       "  </tbody>\n",
       "</table>\n",
       "</div>"
      ],
      "text/plain": [
       "                                     strategy  benchmark\n",
       "annual_return_rate                       6.66       5.43\n",
       "max_closed_out_drawdown                -17.01     -56.94\n",
       "annualized_return_over_max_drawdown      0.39       0.10\n",
       "best_month                               9.81      29.19\n",
       "worst_month                            -11.88     -29.02\n",
       "sharpe_ratio                             0.68       0.36\n",
       "sortino_ratio                            0.69       0.44\n",
       "monthly_std                              2.58       4.66\n",
       "annual_std                               8.41      15.62"
      ]
     },
     "execution_count": 15,
     "metadata": {},
     "output_type": "execute_result"
    },
    {
     "data": {
      "image/png": "[encoded data removed]",
      "text/plain": [
       "<Figure size 720x504 with 1 Axes>"
      ]
     },
     "metadata": {
      "needs_background": "light"
     },
     "output_type": "display_data"
    }
   ],
   "source": [
    "df = pf.plot_bar_graph(stats, benchmark.stats)\n",
    "df"
   ]
  },
  {
   "cell_type": "markdown",
   "metadata": {},
   "source": [
    "Print the raw transaction log"
   ]
  },
  {
   "cell_type": "code",
   "execution_count": 16,
   "metadata": {
    "ExecuteTime": {
     "end_time": "2020-02-17T03:45:16.402873Z",
     "start_time": "2020-02-17T03:45:16.254387Z"
    },
    "scrolled": false
   },
   "outputs": [
    {
     "data": {
      "text/html": [
       "<div>\n",
       "<style scoped>\n",
       "    .dataframe tbody tr th:only-of-type {\n",
       "        vertical-align: middle;\n",
       "    }\n",
       "\n",
       "    .dataframe tbody tr th {\n",
       "        vertical-align: top;\n",
       "    }\n",
       "\n",
       "    .dataframe thead th {\n",
       "        text-align: right;\n",
       "    }\n",
       "</style>\n",
       "<table border=\"1\" class=\"dataframe\">\n",
       "  <thead>\n",
       "    <tr style=\"text-align: right;\">\n",
       "      <th></th>\n",
       "      <th>date</th>\n",
       "      <th>seq_num</th>\n",
       "      <th>price</th>\n",
       "      <th>shares</th>\n",
       "      <th>entry_exit</th>\n",
       "      <th>direction</th>\n",
       "      <th>symbol</th>\n",
       "    </tr>\n",
       "  </thead>\n",
       "  <tbody>\n",
       "    <tr>\n",
       "      <th>0</th>\n",
       "      <td>2003-04-22</td>\n",
       "      <td>0</td>\n",
       "      <td>909.50</td>\n",
       "      <td>10</td>\n",
       "      <td>entry</td>\n",
       "      <td>LONG</td>\n",
       "      <td>ES=F</td>\n",
       "    </tr>\n",
       "    <tr>\n",
       "      <th>1</th>\n",
       "      <td>2004-08-06</td>\n",
       "      <td>1</td>\n",
       "      <td>1063.50</td>\n",
       "      <td>10</td>\n",
       "      <td>exit</td>\n",
       "      <td>LONG</td>\n",
       "      <td>ES=F</td>\n",
       "    </tr>\n",
       "    <tr>\n",
       "      <th>2</th>\n",
       "      <td>2004-11-04</td>\n",
       "      <td>2</td>\n",
       "      <td>1160.50</td>\n",
       "      <td>9</td>\n",
       "      <td>entry</td>\n",
       "      <td>LONG</td>\n",
       "      <td>ES=F</td>\n",
       "    </tr>\n",
       "    <tr>\n",
       "      <th>3</th>\n",
       "      <td>2007-11-19</td>\n",
       "      <td>3</td>\n",
       "      <td>1437.50</td>\n",
       "      <td>9</td>\n",
       "      <td>exit</td>\n",
       "      <td>LONG</td>\n",
       "      <td>ES=F</td>\n",
       "    </tr>\n",
       "    <tr>\n",
       "      <th>4</th>\n",
       "      <td>2009-07-15</td>\n",
       "      <td>4</td>\n",
       "      <td>927.25</td>\n",
       "      <td>15</td>\n",
       "      <td>entry</td>\n",
       "      <td>LONG</td>\n",
       "      <td>ES=F</td>\n",
       "    </tr>\n",
       "    <tr>\n",
       "      <th>5</th>\n",
       "      <td>2010-05-26</td>\n",
       "      <td>5</td>\n",
       "      <td>1061.25</td>\n",
       "      <td>15</td>\n",
       "      <td>exit</td>\n",
       "      <td>LONG</td>\n",
       "      <td>ES=F</td>\n",
       "    </tr>\n",
       "    <tr>\n",
       "      <th>6</th>\n",
       "      <td>2010-10-05</td>\n",
       "      <td>6</td>\n",
       "      <td>1154.75</td>\n",
       "      <td>13</td>\n",
       "      <td>entry</td>\n",
       "      <td>LONG</td>\n",
       "      <td>ES=F</td>\n",
       "    </tr>\n",
       "    <tr>\n",
       "      <th>7</th>\n",
       "      <td>2011-08-04</td>\n",
       "      <td>7</td>\n",
       "      <td>1198.75</td>\n",
       "      <td>13</td>\n",
       "      <td>exit</td>\n",
       "      <td>LONG</td>\n",
       "      <td>ES=F</td>\n",
       "    </tr>\n",
       "    <tr>\n",
       "      <th>8</th>\n",
       "      <td>2012-01-18</td>\n",
       "      <td>8</td>\n",
       "      <td>1302.25</td>\n",
       "      <td>12</td>\n",
       "      <td>entry</td>\n",
       "      <td>LONG</td>\n",
       "      <td>ES=F</td>\n",
       "    </tr>\n",
       "    <tr>\n",
       "      <th>9</th>\n",
       "      <td>2015-08-21</td>\n",
       "      <td>9</td>\n",
       "      <td>1971.50</td>\n",
       "      <td>12</td>\n",
       "      <td>exit</td>\n",
       "      <td>LONG</td>\n",
       "      <td>ES=F</td>\n",
       "    </tr>\n",
       "    <tr>\n",
       "      <th>10</th>\n",
       "      <td>2016-04-18</td>\n",
       "      <td>10</td>\n",
       "      <td>2086.75</td>\n",
       "      <td>11</td>\n",
       "      <td>entry</td>\n",
       "      <td>LONG</td>\n",
       "      <td>ES=F</td>\n",
       "    </tr>\n",
       "    <tr>\n",
       "      <th>11</th>\n",
       "      <td>2018-10-24</td>\n",
       "      <td>11</td>\n",
       "      <td>2664.25</td>\n",
       "      <td>11</td>\n",
       "      <td>exit</td>\n",
       "      <td>LONG</td>\n",
       "      <td>ES=F</td>\n",
       "    </tr>\n",
       "    <tr>\n",
       "      <th>12</th>\n",
       "      <td>2019-03-21</td>\n",
       "      <td>12</td>\n",
       "      <td>2862.50</td>\n",
       "      <td>10</td>\n",
       "      <td>entry</td>\n",
       "      <td>LONG</td>\n",
       "      <td>ES=F</td>\n",
       "    </tr>\n",
       "    <tr>\n",
       "      <th>13</th>\n",
       "      <td>2020-02-27</td>\n",
       "      <td>13</td>\n",
       "      <td>2957.00</td>\n",
       "      <td>10</td>\n",
       "      <td>exit</td>\n",
       "      <td>LONG</td>\n",
       "      <td>ES=F</td>\n",
       "    </tr>\n",
       "    <tr>\n",
       "      <th>14</th>\n",
       "      <td>2020-06-05</td>\n",
       "      <td>14</td>\n",
       "      <td>3186.75</td>\n",
       "      <td>10</td>\n",
       "      <td>entry</td>\n",
       "      <td>LONG</td>\n",
       "      <td>ES=F</td>\n",
       "    </tr>\n",
       "    <tr>\n",
       "      <th>15</th>\n",
       "      <td>2020-10-16</td>\n",
       "      <td>15</td>\n",
       "      <td>3462.25</td>\n",
       "      <td>10</td>\n",
       "      <td>exit</td>\n",
       "      <td>LONG</td>\n",
       "      <td>ES=F</td>\n",
       "    </tr>\n",
       "  </tbody>\n",
       "</table>\n",
       "</div>"
      ],
      "text/plain": [
       "         date  seq_num   price  shares entry_exit direction symbol\n",
       "0  2003-04-22        0  909.50      10      entry      LONG   ES=F\n",
       "1  2004-08-06        1 1063.50      10       exit      LONG   ES=F\n",
       "2  2004-11-04        2 1160.50       9      entry      LONG   ES=F\n",
       "3  2007-11-19        3 1437.50       9       exit      LONG   ES=F\n",
       "4  2009-07-15        4  927.25      15      entry      LONG   ES=F\n",
       "5  2010-05-26        5 1061.25      15       exit      LONG   ES=F\n",
       "6  2010-10-05        6 1154.75      13      entry      LONG   ES=F\n",
       "7  2011-08-04        7 1198.75      13       exit      LONG   ES=F\n",
       "8  2012-01-18        8 1302.25      12      entry      LONG   ES=F\n",
       "9  2015-08-21        9 1971.50      12       exit      LONG   ES=F\n",
       "10 2016-04-18       10 2086.75      11      entry      LONG   ES=F\n",
       "11 2018-10-24       11 2664.25      11       exit      LONG   ES=F\n",
       "12 2019-03-21       12 2862.50      10      entry      LONG   ES=F\n",
       "13 2020-02-27       13 2957.00      10       exit      LONG   ES=F\n",
       "14 2020-06-05       14 3186.75      10      entry      LONG   ES=F\n",
       "15 2020-10-16       15 3462.25      10       exit      LONG   ES=F"
      ]
     },
     "execution_count": 16,
     "metadata": {},
     "output_type": "execute_result"
    }
   ],
   "source": [
    "pd.set_option('display.max_rows', len(rlog))\n",
    "rlog"
   ]
  },
  {
   "cell_type": "code",
   "execution_count": null,
   "metadata": {},
   "outputs": [],
   "source": []
  }
 ],
 "metadata": {
  "kernelspec": {
   "display_name": "Python 3",
   "language": "python",
   "name": "python3"
  },
  "language_info": {
   "codemirror_mode": {
    "name": "ipython",
    "version": 3
   },
   "file_extension": ".py",
   "mimetype": "text/x-python",
   "name": "python",
   "nbconvert_exporter": "python",
   "pygments_lexer": "ipython3",
   "version": "3.8.5"
  },
  "latex_envs": {
   "LaTeX_envs_menu_present": true,
   "autoclose": false,
   "autocomplete": true,
   "bibliofile": "biblio.bib",
   "cite_by": "apalike",
   "current_citInitial": 1,
   "eqLabelWithNumbers": true,
   "eqNumInitial": 1,
   "hotkeys": {
    "equation": "Ctrl-E",
    "itemize": "Ctrl-I"
   },
   "labels_anchors": false,
   "latex_user_defs": false,
   "report_style_numbering": false,
   "user_envs_cfg": false
  }
 },
 "nbformat": 4,
 "nbformat_minor": 2
}
