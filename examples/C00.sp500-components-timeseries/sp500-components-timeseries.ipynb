{
 "cells": [
  {
   "cell_type": "markdown",
   "metadata": {
    "ExecuteTime": {
     "end_time": "2019-11-16T14:29:50.731803Z",
     "start_time": "2019-11-16T14:29:50.715887Z"
    }
   },
   "source": [
    "# S&P 500 Components Time Series\n",
    "\n",
    "Get time series of all S&P 500 components"
   ]
  },
  {
   "cell_type": "code",
   "execution_count": 5,
   "metadata": {
    "ExecuteTime": {
     "end_time": "2020-02-16T18:51:39.883363Z",
     "start_time": "2020-02-16T18:51:38.457025Z"
    }
   },
   "outputs": [],
   "source": [
    "from datetime import datetime\n",
    "import pandas as pd\n",
    "\n",
    "import pinkfish as pf\n",
    "\n",
    "# -*- encoding: utf-8 -*-\n",
    "%matplotlib inline"
   ]
  },
  {
   "cell_type": "markdown",
   "metadata": {},
   "source": [
    "Current S&P500 symbols.  \n",
    "See my SP500 project that generates the sp500.cvs file."
   ]
  },
  {
   "cell_type": "code",
   "execution_count": 6,
   "metadata": {
    "ExecuteTime": {
     "end_time": "2020-02-16T18:51:39.983162Z",
     "start_time": "2020-02-16T18:51:39.916040Z"
    }
   },
   "outputs": [
    {
     "name": "stdout",
     "output_type": "stream",
     "text": [
      "['A', 'AAL', 'AAPL', 'ABBV', 'ABNB', 'ABT', 'ACGL', 'ACN', 'ADBE', 'ADI', 'ADM', 'ADP', 'ADSK', 'AEE', 'AEP', 'AES', 'AFL', 'AIG', 'AIZ', 'AJG', 'AKAM', 'ALB', 'ALGN', 'ALL', 'ALLE', 'AMAT', 'AMCR', 'AMD', 'AME', 'AMGN', 'AMP', 'AMT', 'AMZN', 'ANET', 'ANSS', 'AON', 'AOS', 'APA', 'APD', 'APH', 'APTV', 'ARE', 'ATO', 'AVB', 'AVGO', 'AVY', 'AWK', 'AXON', 'AXP', 'AZO', 'BA', 'BAC', 'BALL', 'BAX', 'BBWI', 'BBY', 'BDX', 'BEN', 'BF.B', 'BG', 'BIIB', 'BIO', 'BK', 'BKNG', 'BKR', 'BLDR', 'BLK', 'BMY', 'BR', 'BRK.B', 'BRO', 'BSX', 'BWA', 'BX', 'BXP', 'C', 'CAG', 'CAH', 'CARR', 'CAT', 'CB', 'CBOE', 'CBRE', 'CCI', 'CCL', 'CDNS', 'CDW', 'CE', 'CEG', 'CF', 'CFG', 'CHD', 'CHRW', 'CHTR', 'CI', 'CINF', 'CL', 'CLX', 'CMCSA', 'CME', 'CMG', 'CMI', 'CMS', 'CNC', 'CNP', 'COF', 'COO', 'COP', 'COR', 'COST', 'CPAY', 'CPB', 'CPRT', 'CPT', 'CRL', 'CRM', 'CRWD', 'CSCO', 'CSGP', 'CSX', 'CTAS', 'CTLT', 'CTRA', 'CTSH', 'CTVA', 'CVS', 'CVX', 'CZR', 'D', 'DAL', 'DAY', 'DD', 'DE', 'DECK', 'DFS', 'DG', 'DGX', 'DHI', 'DHR', 'DIS', 'DLR', 'DLTR', 'DOC', 'DOV', 'DOW', 'DPZ', 'DRI', 'DTE', 'DUK', 'DVA', 'DVN', 'DXCM', 'EA', 'EBAY', 'ECL', 'ED', 'EFX', 'EG', 'EIX', 'EL', 'ELV', 'EMN', 'EMR', 'ENPH', 'EOG', 'EPAM', 'EQIX', 'EQR', 'EQT', 'ES', 'ESS', 'ETN', 'ETR', 'ETSY', 'EVRG', 'EW', 'EXC', 'EXPD', 'EXPE', 'EXR', 'F', 'FANG', 'FAST', 'FCX', 'FDS', 'FDX', 'FE', 'FFIV', 'FI', 'FICO', 'FIS', 'FITB', 'FMC', 'FOX', 'FOXA', 'FRT', 'FSLR', 'FTNT', 'FTV', 'GD', 'GDDY', 'GE', 'GEHC', 'GEN', 'GEV', 'GILD', 'GIS', 'GL', 'GLW', 'GM', 'GNRC', 'GOOG', 'GOOGL', 'GPC', 'GPN', 'GRMN', 'GS', 'GWW', 'HAL', 'HAS', 'HBAN', 'HCA', 'HD', 'HES', 'HIG', 'HII', 'HLT', 'HOLX', 'HON', 'HPE', 'HPQ', 'HRL', 'HSIC', 'HST', 'HSY', 'HUBB', 'HUM', 'HWM', 'IBM', 'ICE', 'IDXX', 'IEX', 'IFF', 'INCY', 'INTC', 'INTU', 'INVH', 'IP', 'IPG', 'IQV', 'IR', 'IRM', 'ISRG', 'IT', 'ITW', 'IVZ', 'J', 'JBHT', 'JBL', 'JCI', 'JKHY', 'JNJ', 'JNPR', 'JPM', 'K', 'KDP', 'KEY', 'KEYS', 'KHC', 'KIM', 'KKR', 'KLAC', 'KMB', 'KMI', 'KMX', 'KO', 'KR', 'KVUE', 'L', 'LDOS', 'LEN', 'LH', 'LHX', 'LIN', 'LKQ', 'LLY', 'LMT', 'LNT', 'LOW', 'LRCX', 'LULU', 'LUV', 'LVS', 'LW', 'LYB', 'LYV', 'MA', 'MAA', 'MAR', 'MAS', 'MCD', 'MCHP', 'MCK', 'MCO', 'MDLZ', 'MDT', 'MET', 'META', 'MGM', 'MHK', 'MKC', 'MKTX', 'MLM', 'MMC', 'MMM', 'MNST', 'MO', 'MOH', 'MOS', 'MPC', 'MPWR', 'MRK', 'MRNA', 'MRO', 'MS', 'MSCI', 'MSFT', 'MSI', 'MTB', 'MTCH', 'MTD', 'MU', 'NCLH', 'NDAQ', 'NDSN', 'NEE', 'NEM', 'NFLX', 'NI', 'NKE', 'NOC', 'NOW', 'NRG', 'NSC', 'NTAP', 'NTRS', 'NUE', 'NVDA', 'NVR', 'NWS', 'NWSA', 'NXPI', 'O', 'ODFL', 'OKE', 'OMC', 'ON', 'ORCL', 'ORLY', 'OTIS', 'OXY', 'PANW', 'PARA', 'PAYC', 'PAYX', 'PCAR', 'PCG', 'PEG', 'PEP', 'PFE', 'PFG', 'PG', 'PGR', 'PH', 'PHM', 'PKG', 'PLD', 'PM', 'PNC', 'PNR', 'PNW', 'PODD', 'POOL', 'PPG', 'PPL', 'PRU', 'PSA', 'PSX', 'PTC', 'PWR', 'PYPL', 'QCOM', 'QRVO', 'RCL', 'REG', 'REGN', 'RF', 'RJF', 'RL', 'RMD', 'ROK', 'ROL', 'ROP', 'ROST', 'RSG', 'RTX', 'RVTY', 'SBAC', 'SBUX', 'SCHW', 'SHW', 'SJM', 'SLB', 'SMCI', 'SNA', 'SNPS', 'SO', 'SOLV', 'SPG', 'SPGI', 'SRE', 'STE', 'STLD', 'STT', 'STX', 'STZ', 'SW', 'SWK', 'SWKS', 'SYF', 'SYK', 'SYY', 'T', 'TAP', 'TDG', 'TDY', 'TECH', 'TEL', 'TER', 'TFC', 'TFX', 'TGT', 'TJX', 'TMO', 'TMUS', 'TPR', 'TRGP', 'TRMB', 'TROW', 'TRV', 'TSCO', 'TSLA', 'TSN', 'TT', 'TTWO', 'TXN', 'TXT', 'TYL', 'UAL', 'UBER', 'UDR', 'UHS', 'ULTA', 'UNH', 'UNP', 'UPS', 'URI', 'USB', 'V', 'VICI', 'VLO', 'VLTO', 'VMC', 'VRSK', 'VRSN', 'VRTX', 'VST', 'VTR', 'VTRS', 'VZ', 'WAB', 'WAT', 'WBA', 'WBD', 'WDC', 'WEC', 'WELL', 'WFC', 'WM', 'WMB', 'WMT', 'WRB', 'WST', 'WTW', 'WY', 'WYNN', 'XEL', 'XOM', 'XYL', 'YUM', 'ZBH', 'ZBRA', 'ZTS']\n"
     ]
    }
   ],
   "source": [
    "filename = 'sp500.csv'\n",
    "symbols = pd.read_csv(filename)\n",
    "symbols = sorted(list(symbols['Symbol']))\n",
    "print(symbols)"
   ]
  },
  {
   "cell_type": "markdown",
   "metadata": {},
   "source": [
    "Create cache directory for current sp500 symbol timeseries"
   ]
  },
  {
   "cell_type": "code",
   "execution_count": 7,
   "metadata": {
    "ExecuteTime": {
     "end_time": "2020-02-16T18:51:40.015676Z",
     "start_time": "2020-02-16T18:51:39.993152Z"
    }
   },
   "outputs": [],
   "source": [
    "now = datetime.now()\n",
    "dt_string = now.strftime('%m-%d-%Y') # mm-dd-YYYY\n",
    "dir_name = 'sp500-components-{}'.format(dt_string)"
   ]
  },
  {
   "cell_type": "markdown",
   "metadata": {},
   "source": [
    "Update time series for the symbols below.  \n",
    "Time series will be fetched for any symbols not already cached."
   ]
  },
  {
   "cell_type": "code",
   "execution_count": 8,
   "metadata": {
    "ExecuteTime": {
     "end_time": "2020-02-16T18:59:26.164109Z",
     "start_time": "2020-02-16T18:51:40.022478Z"
    }
   },
   "outputs": [
    {
     "name": "stdout",
     "output_type": "stream",
     "text": [
      "updating symbols:\n",
      "A AAL AAPL ABBV ABNB ABT ACGL ACN ADBE ADI ADM \n",
      "ADP ADSK AEE AEP AES AFL AIG AIZ AJG AKAM \n",
      "ALB ALGN ALL ALLE AMAT AMCR AMD AME AMGN AMP \n",
      "AMT AMZN ANET ANSS AON AOS APA APD APH APTV \n",
      "ARE ATO AVB AVGO AVY AWK AXON AXP AZO BA \n",
      "BAC BALL BAX BBWI BBY BDX BEN BF.B BG BIIB \n",
      "BIO BK BKNG BKR BLDR BLK BMY BR BRK.B BRO \n",
      "BSX BWA BX BXP C CAG CAH CARR CAT CB \n",
      "CBOE CBRE CCI CCL CDNS CDW CE CEG CF CFG \n",
      "CHD CHRW CHTR CI CINF CL CLX CMCSA CME CMG \n",
      "CMI CMS CNC CNP COF COO COP COR COST CPAY \n",
      "CPB CPRT CPT CRL CRM CRWD CSCO CSGP CSX CTAS \n",
      "CTLT CTRA CTSH CTVA CVS CVX CZR D DAL DAY \n",
      "DD DE DECK DFS DG DGX DHI DHR DIS DLR \n",
      "DLTR DOC DOV DOW DPZ DRI DTE DUK DVA DVN \n",
      "DXCM EA EBAY ECL ED EFX EG EIX EL ELV \n",
      "EMN EMR ENPH EOG EPAM EQIX EQR EQT ES ESS \n",
      "ETN ETR ETSY EVRG EW EXC EXPD EXPE EXR F \n",
      "FANG FAST FCX FDS FDX FE FFIV FI FICO FIS \n",
      "FITB FMC FOX FOXA FRT FSLR FTNT FTV GD GDDY \n",
      "GE GEHC GEN GEV GILD GIS GL GLW GM GNRC \n",
      "GOOG GOOGL GPC GPN GRMN GS GWW HAL HAS HBAN \n",
      "HCA HD HES HIG HII HLT HOLX HON HPE HPQ \n",
      "HRL HSIC HST HSY HUBB HUM HWM IBM ICE IDXX \n",
      "IEX IFF INCY INTC INTU INVH IP IPG IQV IR \n",
      "IRM ISRG IT ITW IVZ J JBHT JBL JCI JKHY \n",
      "JNJ JNPR JPM K KDP KEY KEYS KHC KIM KKR \n",
      "KLAC KMB KMI KMX KO KR KVUE L LDOS LEN \n",
      "LH LHX LIN LKQ LLY LMT LNT LOW LRCX LULU \n",
      "LUV LVS LW LYB LYV MA MAA MAR MAS MCD \n",
      "MCHP MCK MCO MDLZ MDT MET META MGM MHK MKC \n",
      "MKTX MLM MMC MMM MNST MO MOH MOS MPC MPWR \n",
      "MRK MRNA MRO MS MSCI MSFT MSI MTB MTCH MTD \n",
      "MU NCLH NDAQ NDSN NEE NEM NFLX NI NKE NOC \n",
      "NOW NRG NSC NTAP NTRS NUE NVDA NVR NWS NWSA \n",
      "NXPI O ODFL OKE OMC ON ORCL ORLY OTIS OXY \n",
      "PANW PARA PAYC PAYX PCAR PCG PEG PEP PFE PFG \n",
      "PG PGR PH PHM PKG PLD PM PNC PNR PNW \n",
      "PODD POOL PPG PPL PRU PSA PSX PTC PWR PYPL \n",
      "QCOM QRVO RCL REG REGN RF RJF RL RMD ROK \n",
      "ROL ROP ROST RSG RTX RVTY SBAC SBUX SCHW SHW \n",
      "SJM SLB SMCI SNA SNPS SO SOLV SPG SPGI SRE \n",
      "STE STLD STT STX STZ SW SWK SWKS SYF SYK \n",
      "SYY T TAP TDG TDY TECH TEL TER TFC TFX \n",
      "TGT TJX TMO TMUS TPR TRGP TRMB TROW TRV TSCO \n",
      "TSLA TSN TT TTWO TXN TXT TYL UAL UBER UDR \n",
      "UHS ULTA UNH UNP UPS URI USB V VICI VLO \n",
      "VLTO VMC VRSK VRSN VRTX VST VTR VTRS VZ WAB \n",
      "WAT WBA WBD WDC WEC WELL WFC WM WMB WMT \n",
      "WRB WST WTW WY WYNN XEL XOM XYL YUM ZBH \n",
      "ZBRA ZTS \n"
     ]
    }
   ],
   "source": [
    "pf.update_cache_symbols(symbols=symbols, dir_name=dir_name,from_year=2018)"
   ]
  }
 ],
 "metadata": {
  "kernelspec": {
   "display_name": "Python 3 (ipykernel)",
   "language": "python",
   "name": "python3"
  },
  "language_info": {
   "codemirror_mode": {
    "name": "ipython",
    "version": 3
   },
   "file_extension": ".py",
   "mimetype": "text/x-python",
   "name": "python",
   "nbconvert_exporter": "python",
   "pygments_lexer": "ipython3",
   "version": "3.10.12"
  },
  "latex_envs": {
   "LaTeX_envs_menu_present": true,
   "autoclose": false,
   "autocomplete": true,
   "bibliofile": "biblio.bib",
   "cite_by": "apalike",
   "current_citInitial": 1,
   "eqLabelWithNumbers": true,
   "eqNumInitial": 1,
   "hotkeys": {
    "equation": "Ctrl-E",
    "itemize": "Ctrl-I"
   },
   "labels_anchors": false,
   "latex_user_defs": false,
   "report_style_numbering": false,
   "user_envs_cfg": false
  }
 },
 "nbformat": 4,
 "nbformat_minor": 4
}
