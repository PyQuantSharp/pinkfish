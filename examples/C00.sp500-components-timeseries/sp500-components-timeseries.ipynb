{
 "cells": [
  {
   "cell_type": "markdown",
   "metadata": {
    "ExecuteTime": {
     "end_time": "2019-11-16T14:29:50.731803Z",
     "start_time": "2019-11-16T14:29:50.715887Z"
    }
   },
   "source": [
    "# S&P 500 Components Time Series\n",
    "\n",
    "Get time series of all S&P 500 components"
   ]
  },
  {
   "cell_type": "code",
   "execution_count": 1,
   "metadata": {
    "ExecuteTime": {
     "end_time": "2020-02-16T18:51:39.883363Z",
     "start_time": "2020-02-16T18:51:38.457025Z"
    }
   },
   "outputs": [],
   "source": [
    "from datetime import datetime\n",
    "import pandas as pd\n",
    "\n",
    "import pinkfish as pf\n",
    "\n",
    "# -*- encoding: utf-8 -*-\n",
    "%matplotlib inline"
   ]
  },
  {
   "cell_type": "markdown",
   "metadata": {},
   "source": [
    "Current S&P500 symbols.  \n",
    "See my SP500 project that generates the sp500.cvs file."
   ]
  },
  {
   "cell_type": "code",
   "execution_count": 2,
   "metadata": {
    "ExecuteTime": {
     "end_time": "2020-02-16T18:51:39.983162Z",
     "start_time": "2020-02-16T18:51:39.916040Z"
    },
    "scrolled": false
   },
   "outputs": [
    {
     "name": "stdout",
     "output_type": "stream",
     "text": [
      "['A', 'AAL', 'AAP', 'AAPL', 'ABBV', 'ABC', 'ABT', 'ACGL', 'ACN', 'ADBE', 'ADI', 'ADM', 'ADP', 'ADSK', 'AEE', 'AEP', 'AES', 'AFL', 'AIG', 'AIZ', 'AJG', 'AKAM', 'ALB', 'ALGN', 'ALK', 'ALL', 'ALLE', 'AMAT', 'AMCR', 'AMD', 'AME', 'AMGN', 'AMP', 'AMT', 'AMZN', 'ANET', 'ANSS', 'AON', 'AOS', 'APA', 'APD', 'APH', 'APTV', 'ARE', 'ATO', 'ATVI', 'AVB', 'AVGO', 'AVY', 'AWK', 'AXP', 'AZO', 'BA', 'BAC', 'BALL', 'BAX', 'BBWI', 'BBY', 'BDX', 'BEN', 'BF.B', 'BG', 'BIIB', 'BIO', 'BK', 'BKNG', 'BKR', 'BLK', 'BMY', 'BR', 'BRK.B', 'BRO', 'BSX', 'BWA', 'BXP', 'C', 'CAG', 'CAH', 'CARR', 'CAT', 'CB', 'CBOE', 'CBRE', 'CCI', 'CCL', 'CDAY', 'CDNS', 'CDW', 'CE', 'CEG', 'CF', 'CFG', 'CHD', 'CHRW', 'CHTR', 'CI', 'CINF', 'CL', 'CLX', 'CMA', 'CMCSA', 'CME', 'CMG', 'CMI', 'CMS', 'CNC', 'CNP', 'COF', 'COO', 'COP', 'COST', 'CPB', 'CPRT', 'CPT', 'CRL', 'CRM', 'CSCO', 'CSGP', 'CSX', 'CTAS', 'CTLT', 'CTRA', 'CTSH', 'CTVA', 'CVS', 'CVX', 'CZR', 'D', 'DAL', 'DD', 'DE', 'DFS', 'DG', 'DGX', 'DHI', 'DHR', 'DIS', 'DISH', 'DLR', 'DLTR', 'DOV', 'DOW', 'DPZ', 'DRI', 'DTE', 'DUK', 'DVA', 'DVN', 'DXC', 'DXCM', 'EA', 'EBAY', 'ECL', 'ED', 'EFX', 'EIX', 'EL', 'ELV', 'EMN', 'EMR', 'ENPH', 'EOG', 'EPAM', 'EQIX', 'EQR', 'EQT', 'ES', 'ESS', 'ETN', 'ETR', 'ETSY', 'EVRG', 'EW', 'EXC', 'EXPD', 'EXPE', 'EXR', 'F', 'FANG', 'FAST', 'FCX', 'FDS', 'FDX', 'FE', 'FFIV', 'FICO', 'FIS', 'FISV', 'FITB', 'FLT', 'FMC', 'FOX', 'FOXA', 'FRC', 'FRT', 'FSLR', 'FTNT', 'FTV', 'GD', 'GE', 'GEHC', 'GEN', 'GILD', 'GIS', 'GL', 'GLW', 'GM', 'GNRC', 'GOOG', 'GOOGL', 'GPC', 'GPN', 'GRMN', 'GS', 'GWW', 'HAL', 'HAS', 'HBAN', 'HCA', 'HD', 'HES', 'HIG', 'HII', 'HLT', 'HOLX', 'HON', 'HPE', 'HPQ', 'HRL', 'HSIC', 'HST', 'HSY', 'HUM', 'HWM', 'IBM', 'ICE', 'IDXX', 'IEX', 'IFF', 'ILMN', 'INCY', 'INTC', 'INTU', 'INVH', 'IP', 'IPG', 'IQV', 'IR', 'IRM', 'ISRG', 'IT', 'ITW', 'IVZ', 'J', 'JBHT', 'JCI', 'JKHY', 'JNJ', 'JNPR', 'JPM', 'K', 'KDP', 'KEY', 'KEYS', 'KHC', 'KIM', 'KLAC', 'KMB', 'KMI', 'KMX', 'KO', 'KR', 'L', 'LDOS', 'LEN', 'LH', 'LHX', 'LIN', 'LKQ', 'LLY', 'LMT', 'LNC', 'LNT', 'LOW', 'LRCX', 'LUV', 'LVS', 'LW', 'LYB', 'LYV', 'MA', 'MAA', 'MAR', 'MAS', 'MCD', 'MCHP', 'MCK', 'MCO', 'MDLZ', 'MDT', 'MET', 'META', 'MGM', 'MHK', 'MKC', 'MKTX', 'MLM', 'MMC', 'MMM', 'MNST', 'MO', 'MOH', 'MOS', 'MPC', 'MPWR', 'MRK', 'MRNA', 'MRO', 'MS', 'MSCI', 'MSFT', 'MSI', 'MTB', 'MTCH', 'MTD', 'MU', 'NCLH', 'NDAQ', 'NDSN', 'NEE', 'NEM', 'NFLX', 'NI', 'NKE', 'NOC', 'NOW', 'NRG', 'NSC', 'NTAP', 'NTRS', 'NUE', 'NVDA', 'NVR', 'NWL', 'NWS', 'NWSA', 'NXPI', 'O', 'ODFL', 'OGN', 'OKE', 'OMC', 'ON', 'ORCL', 'ORLY', 'OTIS', 'OXY', 'PARA', 'PAYC', 'PAYX', 'PCAR', 'PCG', 'PEAK', 'PEG', 'PEP', 'PFE', 'PFG', 'PG', 'PGR', 'PH', 'PHM', 'PKG', 'PKI', 'PLD', 'PM', 'PNC', 'PNR', 'PNW', 'PODD', 'POOL', 'PPG', 'PPL', 'PRU', 'PSA', 'PSX', 'PTC', 'PWR', 'PXD', 'PYPL', 'QCOM', 'QRVO', 'RCL', 'RE', 'REG', 'REGN', 'RF', 'RHI', 'RJF', 'RL', 'RMD', 'ROK', 'ROL', 'ROP', 'ROST', 'RSG', 'RTX', 'SBAC', 'SBUX', 'SCHW', 'SEDG', 'SEE', 'SHW', 'SJM', 'SLB', 'SNA', 'SNPS', 'SO', 'SPG', 'SPGI', 'SRE', 'STE', 'STLD', 'STT', 'STX', 'STZ', 'SWK', 'SWKS', 'SYF', 'SYK', 'SYY', 'T', 'TAP', 'TDG', 'TDY', 'TECH', 'TEL', 'TER', 'TFC', 'TFX', 'TGT', 'TJX', 'TMO', 'TMUS', 'TPR', 'TRGP', 'TRMB', 'TROW', 'TRV', 'TSCO', 'TSLA', 'TSN', 'TT', 'TTWO', 'TXN', 'TXT', 'TYL', 'UAL', 'UDR', 'UHS', 'ULTA', 'UNH', 'UNP', 'UPS', 'URI', 'USB', 'V', 'VFC', 'VICI', 'VLO', 'VMC', 'VRSK', 'VRSN', 'VRTX', 'VTR', 'VTRS', 'VZ', 'WAB', 'WAT', 'WBA', 'WBD', 'WDC', 'WEC', 'WELL', 'WFC', 'WHR', 'WM', 'WMB', 'WMT', 'WRB', 'WRK', 'WST', 'WTW', 'WY', 'WYNN', 'XEL', 'XOM', 'XRAY', 'XYL', 'YUM', 'ZBH', 'ZBRA', 'ZION', 'ZTS']\n"
     ]
    }
   ],
   "source": [
    "filename = 'sp500.csv'\n",
    "symbols = pd.read_csv(filename)\n",
    "symbols = sorted(list(symbols['Symbol']))\n",
    "print(symbols)"
   ]
  },
  {
   "cell_type": "markdown",
   "metadata": {},
   "source": [
    "Create cache directory for current sp500 symbol timeseries"
   ]
  },
  {
   "cell_type": "code",
   "execution_count": 3,
   "metadata": {
    "ExecuteTime": {
     "end_time": "2020-02-16T18:51:40.015676Z",
     "start_time": "2020-02-16T18:51:39.993152Z"
    }
   },
   "outputs": [],
   "source": [
    "now = datetime.now()\n",
    "dt_string = now.strftime('%m-%d-%Y') # mm-dd-YYYY\n",
    "dir_name = 'sp500-components-{}'.format(dt_string)"
   ]
  },
  {
   "cell_type": "markdown",
   "metadata": {},
   "source": [
    "Update time series for the symbols below.  \n",
    "Time series will be fetched for any symbols not already cached."
   ]
  },
  {
   "cell_type": "code",
   "execution_count": 4,
   "metadata": {
    "ExecuteTime": {
     "end_time": "2020-02-16T18:59:26.164109Z",
     "start_time": "2020-02-16T18:51:40.022478Z"
    },
    "scrolled": false
   },
   "outputs": [
    {
     "name": "stdout",
     "output_type": "stream",
     "text": [
      "updating symbols:\n",
      "A AAL AAP AAPL ABBV ABC ABT ACGL ACN ADBE ADI \n",
      "ADM ADP ADSK AEE AEP AES AFL AIG AIZ AJG \n",
      "AKAM ALB ALGN ALK ALL ALLE AMAT AMCR AMD AME \n",
      "AMGN AMP AMT AMZN ANET ANSS AON AOS APA APD \n",
      "APH APTV ARE ATO ATVI AVB AVGO AVY AWK AXP \n",
      "AZO BA BAC BALL BAX BBWI BBY BDX BEN BF.B \n",
      "BG BIIB BIO BK BKNG BKR BLK BMY BR BRK.B \n",
      "BRO BSX BWA BXP C CAG CAH CARR CAT CB \n",
      "CBOE CBRE CCI CCL CDAY CDNS CDW CE CEG CF \n",
      "CFG CHD CHRW CHTR CI CINF CL CLX CMA CMCSA \n",
      "CME CMG CMI CMS CNC CNP COF COO COP COST \n",
      "CPB CPRT CPT CRL CRM CSCO CSGP CSX CTAS CTLT \n",
      "CTRA CTSH CTVA CVS CVX CZR D DAL DD DE \n",
      "DFS DG DGX DHI DHR DIS DISH DLR DLTR DOV \n",
      "DOW DPZ DRI DTE DUK DVA DVN DXC DXCM EA \n",
      "EBAY ECL ED EFX EIX EL ELV EMN EMR ENPH \n",
      "EOG EPAM EQIX EQR EQT ES ESS ETN ETR ETSY \n",
      "EVRG EW EXC EXPD EXPE EXR F FANG FAST FCX \n",
      "FDS FDX FE FFIV FICO FIS FISV FITB FLT FMC \n",
      "FOX FOXA FRC \n",
      "1 Failed download:\n",
      "- FRC: No timezone found, symbol may be delisted\n",
      "FRT FSLR FTNT FTV GD GE GEHC \n",
      "GEN GILD GIS GL GLW GM GNRC GOOG GOOGL GPC \n",
      "GPN GRMN GS GWW HAL HAS HBAN HCA HD HES \n",
      "HIG HII HLT HOLX HON HPE HPQ HRL HSIC HST \n",
      "HSY HUM HWM IBM ICE IDXX IEX IFF ILMN INCY \n",
      "INTC INTU INVH IP IPG IQV IR IRM ISRG IT \n",
      "ITW IVZ J JBHT JCI JKHY JNJ JNPR JPM K \n",
      "KDP KEY KEYS KHC KIM KLAC KMB KMI KMX KO \n",
      "KR L LDOS LEN LH LHX LIN LKQ LLY LMT \n",
      "LNC LNT LOW LRCX LUV LVS LW LYB LYV MA \n",
      "MAA MAR MAS MCD MCHP MCK MCO MDLZ MDT MET \n",
      "META MGM MHK MKC MKTX MLM MMC MMM MNST MO \n",
      "MOH MOS MPC MPWR MRK MRNA MRO MS MSCI MSFT \n",
      "MSI MTB MTCH MTD MU NCLH NDAQ NDSN NEE NEM \n",
      "NFLX NI NKE NOC NOW NRG NSC NTAP NTRS NUE \n",
      "NVDA NVR NWL NWS NWSA NXPI O ODFL OGN OKE \n",
      "OMC ON ORCL ORLY OTIS OXY PARA PAYC PAYX PCAR \n",
      "PCG PEAK PEG PEP PFE PFG PG PGR PH PHM \n",
      "PKG PKI \n",
      "1 Failed download:\n",
      "- PKI: No timezone found, symbol may be delisted\n",
      "PLD PM PNC PNR PNW PODD POOL PPG \n",
      "PPL PRU PSA PSX PTC PWR PXD PYPL QCOM QRVO \n",
      "RCL RE REG REGN RF RHI RJF RL RMD ROK \n",
      "ROL ROP ROST RSG RTX SBAC SBUX SCHW SEDG SEE \n",
      "SHW SJM SLB SNA SNPS SO SPG SPGI SRE STE \n",
      "STLD STT STX STZ SWK SWKS SYF SYK SYY T \n",
      "TAP TDG TDY TECH TEL TER TFC TFX TGT TJX \n",
      "TMO TMUS TPR TRGP TRMB TROW TRV TSCO TSLA TSN \n",
      "TT TTWO TXN TXT TYL UAL UDR UHS ULTA UNH \n",
      "UNP UPS URI USB V VFC VICI VLO VMC VRSK \n",
      "VRSN VRTX VTR VTRS VZ WAB WAT WBA WBD WDC \n",
      "WEC WELL WFC WHR WM WMB WMT WRB WRK WST \n",
      "WTW WY WYNN XEL XOM XRAY XYL YUM ZBH ZBRA \n",
      "ZION ZTS \n"
     ]
    }
   ],
   "source": [
    "pf.update_cache_symbols(symbols=symbols, dir_name=dir_name,from_year=2018)"
   ]
  }
 ],
 "metadata": {
  "kernelspec": {
   "display_name": "Python 3 (ipykernel)",
   "language": "python",
   "name": "python3"
  },
  "language_info": {
   "codemirror_mode": {
    "name": "ipython",
    "version": 3
   },
   "file_extension": ".py",
   "mimetype": "text/x-python",
   "name": "python",
   "nbconvert_exporter": "python",
   "pygments_lexer": "ipython3",
   "version": "3.10.12"
  },
  "latex_envs": {
   "LaTeX_envs_menu_present": true,
   "autoclose": false,
   "autocomplete": true,
   "bibliofile": "biblio.bib",
   "cite_by": "apalike",
   "current_citInitial": 1,
   "eqLabelWithNumbers": true,
   "eqNumInitial": 1,
   "hotkeys": {
    "equation": "Ctrl-E",
    "itemize": "Ctrl-I"
   },
   "labels_anchors": false,
   "latex_user_defs": false,
   "report_style_numbering": false,
   "user_envs_cfg": false
  }
 },
 "nbformat": 4,
 "nbformat_minor": 2
}
