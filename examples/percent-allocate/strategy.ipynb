{
 "cells": [
  {
   "cell_type": "markdown",
   "metadata": {},
   "source": [
    "# percent-allocate\n",
    "\n",
    "Maintain a percent allocation of a security in account  \n",
    "(1) If close > 200dma, maintain share percentage between 46.5% and 53.5%.  \n",
    "(2) If close < 200dma, close out position"
   ]
  },
  {
   "cell_type": "code",
   "execution_count": 1,
   "metadata": {
    "ExecuteTime": {
     "end_time": "2020-02-17T03:15:03.515877Z",
     "start_time": "2020-02-17T03:15:02.423279Z"
    }
   },
   "outputs": [],
   "source": [
    "import pandas as pd\n",
    "import matplotlib.pyplot as plt\n",
    "import datetime\n",
    "from talib.abstract import *\n",
    "\n",
    "import pinkfish as pf\n",
    "\n",
    "# format price data\n",
    "pd.options.display.float_format = '{:0.2f}'.format\n",
    "\n",
    "%matplotlib inline"
   ]
  },
  {
   "cell_type": "code",
   "execution_count": 2,
   "metadata": {
    "ExecuteTime": {
     "end_time": "2020-02-17T03:15:03.531819Z",
     "start_time": "2020-02-17T03:15:03.525627Z"
    }
   },
   "outputs": [],
   "source": [
    "# set size of inline plots\n",
    "'''note: rcParams can't be in same cell as import matplotlib\n",
    "   or %matplotlib inline\n",
    "   \n",
    "   %matplotlib notebook: will lead to interactive plots embedded within\n",
    "   the notebook, you can zoom and resize the figure\n",
    "   \n",
    "   %matplotlib inline: only draw static images in the notebook\n",
    "'''\n",
    "plt.rcParams[\"figure.figsize\"] = (10, 7)"
   ]
  },
  {
   "cell_type": "code",
   "execution_count": 3,
   "metadata": {
    "ExecuteTime": {
     "end_time": "2020-02-17T03:15:03.543310Z",
     "start_time": "2020-02-17T03:15:03.536383Z"
    }
   },
   "outputs": [],
   "source": [
    "pf.DEBUG = False"
   ]
  },
  {
   "cell_type": "markdown",
   "metadata": {},
   "source": [
    "Some global data"
   ]
  },
  {
   "cell_type": "code",
   "execution_count": 4,
   "metadata": {
    "ExecuteTime": {
     "end_time": "2020-02-17T03:15:03.554304Z",
     "start_time": "2020-02-17T03:15:03.547215Z"
    }
   },
   "outputs": [],
   "source": [
    "#symbol = '^GSPC'\n",
    "symbol = 'SPY'\n",
    "#symbol = 'DIA'\n",
    "#symbol = 'QQQ'\n",
    "#symbol = 'IWM'\n",
    "#symbol = 'TLT'\n",
    "#symbol = 'GLD'\n",
    "#symbol = 'AAPL'\n",
    "#symbol = 'BBRY'\n",
    "capital = 10000\n",
    "#start = datetime.datetime(1900, 1, 1)\n",
    "start = datetime.datetime.strptime(pf.SP500_BEGIN, '%Y-%m-%d')\n",
    "end = datetime.datetime.now()"
   ]
  },
  {
   "cell_type": "markdown",
   "metadata": {},
   "source": [
    "Define target_percent and band"
   ]
  },
  {
   "cell_type": "code",
   "execution_count": 5,
   "metadata": {
    "ExecuteTime": {
     "end_time": "2020-02-17T03:15:03.571198Z",
     "start_time": "2020-02-17T03:15:03.558479Z"
    }
   },
   "outputs": [],
   "source": [
    "target_percent = 50\n",
    "band = 3\n",
    "\n",
    "sma200_band = 3.5"
   ]
  },
  {
   "cell_type": "markdown",
   "metadata": {},
   "source": [
    "Define Strategy Class "
   ]
  },
  {
   "cell_type": "code",
   "execution_count": 6,
   "metadata": {
    "ExecuteTime": {
     "end_time": "2020-02-17T03:15:03.656429Z",
     "start_time": "2020-02-17T03:15:03.576982Z"
    },
    "scrolled": false
   },
   "outputs": [],
   "source": [
    "class Strategy:\n",
    "\n",
    "    def __init__(self, symbol, capital, start, end):\n",
    "        self.symbol = symbol\n",
    "        self.capital = capital\n",
    "        self.start = start\n",
    "        self.end = end\n",
    "\n",
    "    def _algo(self):\n",
    "        pf.TradeLog.cash = self.capital\n",
    "\n",
    "        for i, row in enumerate(self.ts.itertuples()):\n",
    "\n",
    "            date = row.Index.to_pydatetime()\n",
    "            high = row.high; low = row.low; close = row.close; \n",
    "            end_flag = pf.is_last_row(self.ts, i)\n",
    "            shares = 0\n",
    "            \n",
    "            # Close Out Logic\n",
    "            # First we check if an existing position in symbol should be sold\n",
    "            #  - sell if regime < 0 or end of data\n",
    "\n",
    "            if (self.tlog.shares > 0\n",
    "                and (row.regime < 0 or end_flag)):\n",
    "                    shares = self.tlog.adjust_percent(date, close, 0)\n",
    "\n",
    "            # Adjust Shares Logic\n",
    "            # First we check to see if there is an existing position, if so do nothing\n",
    "            #  - Adjust Shares if regime > 0\n",
    "            #            and share percent outside of target_percent band\n",
    "            #            and (use_regime_filter and regime > 0)\n",
    "            \n",
    "            else:\n",
    "                if (row.regime > 0\n",
    "                    and (self.tlog.share_percent(close) > target_percent+band\n",
    "                         or self.tlog.share_percent(close) < target_percent-band)):\n",
    "                    # adjust shares to target_percent\n",
    "                    shares = self.tlog.adjust_percent(date, close, target_percent)   \n",
    "\n",
    "            if shares > 0:\n",
    "                pf.DBG(\"{0} BUY  {1} {2} @ {3:.2f}\".format(\n",
    "                       date, shares, self.symbol, close))\n",
    "            elif shares < 0:\n",
    "                pf.DBG(\"{0} SELL {1} {2} @ {3:.2f}\".format(\n",
    "                       date, -shares, self.symbol, close))\n",
    "\n",
    "            # record daily balance\n",
    "            self.dbal.append(date, high, low, close)\n",
    "\n",
    "    def run(self):\n",
    "        self.ts = pf.fetch_timeseries(self.symbol)\n",
    "        self.ts = pf.select_tradeperiod(self.ts, self.start, self.end, use_adj=True)\n",
    "\n",
    "        # Add technical indicator: 200 sma regime filter\n",
    "        self.ts['regime'] = \\\n",
    "            pf.CROSSOVER(self.ts, timeperiod_fast=1, timeperiod_slow=200, band=sma200_band)\n",
    "        \n",
    "        self.ts, self.start = pf.finalize_timeseries(self.ts, self.start)\n",
    "\n",
    "        self.tlog = pf.TradeLog(self.symbol)\n",
    "        self.dbal = pf.DailyBal()\n",
    "\n",
    "        self._algo()\n",
    "\n",
    "    def get_logs(self):\n",
    "        \"\"\" return DataFrames \"\"\"\n",
    "        self.rlog = self.tlog.get_log_raw()\n",
    "        self.tlog = self.tlog.get_log()\n",
    "        self.dbal = self.dbal.get_log(self.tlog)\n",
    "        return self.rlog, self.tlog, self.dbal\n",
    "\n",
    "    def get_stats(self):\n",
    "        stats = pf.stats(self.ts, self.tlog, self.dbal, self.capital)\n",
    "        return stats"
   ]
  },
  {
   "cell_type": "markdown",
   "metadata": {},
   "source": [
    "Run Strategy"
   ]
  },
  {
   "cell_type": "code",
   "execution_count": 7,
   "metadata": {
    "ExecuteTime": {
     "end_time": "2020-02-17T03:15:03.909171Z",
     "start_time": "2020-02-17T03:15:03.666727Z"
    },
    "scrolled": false
   },
   "outputs": [],
   "source": [
    "s = Strategy(symbol, capital, start, end)\n",
    "s.run()"
   ]
  },
  {
   "cell_type": "markdown",
   "metadata": {},
   "source": [
    "Retrieve log DataFrames"
   ]
  },
  {
   "cell_type": "code",
   "execution_count": 8,
   "metadata": {
    "ExecuteTime": {
     "end_time": "2020-02-17T03:15:04.638208Z",
     "start_time": "2020-02-17T03:15:03.919139Z"
    }
   },
   "outputs": [],
   "source": [
    "rlog, tlog, dbal = s.get_logs()\n",
    "stats = s.get_stats()"
   ]
  },
  {
   "cell_type": "code",
   "execution_count": 9,
   "metadata": {
    "ExecuteTime": {
     "end_time": "2020-02-17T03:15:04.688620Z",
     "start_time": "2020-02-17T03:15:04.649143Z"
    }
   },
   "outputs": [
    {
     "data": {
      "text/html": [
       "<div>\n",
       "<style scoped>\n",
       "    .dataframe tbody tr th:only-of-type {\n",
       "        vertical-align: middle;\n",
       "    }\n",
       "\n",
       "    .dataframe tbody tr th {\n",
       "        vertical-align: top;\n",
       "    }\n",
       "\n",
       "    .dataframe thead th {\n",
       "        text-align: right;\n",
       "    }\n",
       "</style>\n",
       "<table border=\"1\" class=\"dataframe\">\n",
       "  <thead>\n",
       "    <tr style=\"text-align: right;\">\n",
       "      <th></th>\n",
       "      <th>date</th>\n",
       "      <th>seq_num</th>\n",
       "      <th>price</th>\n",
       "      <th>shares</th>\n",
       "      <th>entry_exit</th>\n",
       "      <th>direction</th>\n",
       "      <th>symbol</th>\n",
       "    </tr>\n",
       "  </thead>\n",
       "  <tbody>\n",
       "    <tr>\n",
       "      <th>36</th>\n",
       "      <td>2016-04-01</td>\n",
       "      <td>36</td>\n",
       "      <td>188.22</td>\n",
       "      <td>78</td>\n",
       "      <td>entry</td>\n",
       "      <td>LONG</td>\n",
       "      <td>SPY</td>\n",
       "    </tr>\n",
       "    <tr>\n",
       "      <th>37</th>\n",
       "      <td>2017-02-10</td>\n",
       "      <td>37</td>\n",
       "      <td>214.01</td>\n",
       "      <td>5</td>\n",
       "      <td>exit</td>\n",
       "      <td>LONG</td>\n",
       "      <td>SPY</td>\n",
       "    </tr>\n",
       "    <tr>\n",
       "      <th>38</th>\n",
       "      <td>2017-11-28</td>\n",
       "      <td>38</td>\n",
       "      <td>246.46</td>\n",
       "      <td>5</td>\n",
       "      <td>exit</td>\n",
       "      <td>LONG</td>\n",
       "      <td>SPY</td>\n",
       "    </tr>\n",
       "    <tr>\n",
       "      <th>39</th>\n",
       "      <td>2018-10-29</td>\n",
       "      <td>39</td>\n",
       "      <td>251.91</td>\n",
       "      <td>68</td>\n",
       "      <td>exit</td>\n",
       "      <td>LONG</td>\n",
       "      <td>SPY</td>\n",
       "    </tr>\n",
       "    <tr>\n",
       "      <th>40</th>\n",
       "      <td>2019-03-18</td>\n",
       "      <td>40</td>\n",
       "      <td>272.31</td>\n",
       "      <td>62</td>\n",
       "      <td>entry</td>\n",
       "      <td>LONG</td>\n",
       "      <td>SPY</td>\n",
       "    </tr>\n",
       "    <tr>\n",
       "      <th>41</th>\n",
       "      <td>2019-12-26</td>\n",
       "      <td>41</td>\n",
       "      <td>315.98</td>\n",
       "      <td>4</td>\n",
       "      <td>exit</td>\n",
       "      <td>LONG</td>\n",
       "      <td>SPY</td>\n",
       "    </tr>\n",
       "    <tr>\n",
       "      <th>42</th>\n",
       "      <td>2020-03-09</td>\n",
       "      <td>42</td>\n",
       "      <td>268.32</td>\n",
       "      <td>58</td>\n",
       "      <td>exit</td>\n",
       "      <td>LONG</td>\n",
       "      <td>SPY</td>\n",
       "    </tr>\n",
       "    <tr>\n",
       "      <th>43</th>\n",
       "      <td>2020-06-03</td>\n",
       "      <td>43</td>\n",
       "      <td>307.25</td>\n",
       "      <td>55</td>\n",
       "      <td>entry</td>\n",
       "      <td>LONG</td>\n",
       "      <td>SPY</td>\n",
       "    </tr>\n",
       "    <tr>\n",
       "      <th>44</th>\n",
       "      <td>2020-11-13</td>\n",
       "      <td>44</td>\n",
       "      <td>355.42</td>\n",
       "      <td>4</td>\n",
       "      <td>exit</td>\n",
       "      <td>LONG</td>\n",
       "      <td>SPY</td>\n",
       "    </tr>\n",
       "    <tr>\n",
       "      <th>45</th>\n",
       "      <td>2021-03-26</td>\n",
       "      <td>45</td>\n",
       "      <td>395.98</td>\n",
       "      <td>51</td>\n",
       "      <td>exit</td>\n",
       "      <td>LONG</td>\n",
       "      <td>SPY</td>\n",
       "    </tr>\n",
       "  </tbody>\n",
       "</table>\n",
       "</div>"
      ],
      "text/plain": [
       "         date  seq_num  price  shares entry_exit direction symbol\n",
       "36 2016-04-01       36 188.22      78      entry      LONG    SPY\n",
       "37 2017-02-10       37 214.01       5       exit      LONG    SPY\n",
       "38 2017-11-28       38 246.46       5       exit      LONG    SPY\n",
       "39 2018-10-29       39 251.91      68       exit      LONG    SPY\n",
       "40 2019-03-18       40 272.31      62      entry      LONG    SPY\n",
       "41 2019-12-26       41 315.98       4       exit      LONG    SPY\n",
       "42 2020-03-09       42 268.32      58       exit      LONG    SPY\n",
       "43 2020-06-03       43 307.25      55      entry      LONG    SPY\n",
       "44 2020-11-13       44 355.42       4       exit      LONG    SPY\n",
       "45 2021-03-26       45 395.98      51       exit      LONG    SPY"
      ]
     },
     "execution_count": 9,
     "metadata": {},
     "output_type": "execute_result"
    }
   ],
   "source": [
    "rlog.tail(10)"
   ]
  },
  {
   "cell_type": "code",
   "execution_count": 10,
   "metadata": {
    "ExecuteTime": {
     "end_time": "2020-02-17T03:15:04.736529Z",
     "start_time": "2020-02-17T03:15:04.697248Z"
    }
   },
   "outputs": [
    {
     "data": {
      "text/html": [
       "<div>\n",
       "<style scoped>\n",
       "    .dataframe tbody tr th:only-of-type {\n",
       "        vertical-align: middle;\n",
       "    }\n",
       "\n",
       "    .dataframe tbody tr th {\n",
       "        vertical-align: top;\n",
       "    }\n",
       "\n",
       "    .dataframe thead th {\n",
       "        text-align: right;\n",
       "    }\n",
       "</style>\n",
       "<table border=\"1\" class=\"dataframe\">\n",
       "  <thead>\n",
       "    <tr style=\"text-align: right;\">\n",
       "      <th></th>\n",
       "      <th>entry_date</th>\n",
       "      <th>entry_price</th>\n",
       "      <th>exit_date</th>\n",
       "      <th>exit_price</th>\n",
       "      <th>pl_points</th>\n",
       "      <th>pl_cash</th>\n",
       "      <th>qty</th>\n",
       "      <th>cumul_total</th>\n",
       "      <th>direction</th>\n",
       "      <th>symbol</th>\n",
       "    </tr>\n",
       "  </thead>\n",
       "  <tbody>\n",
       "    <tr>\n",
       "      <th>25</th>\n",
       "      <td>2012-01-10</td>\n",
       "      <td>107.69</td>\n",
       "      <td>2014-03-04</td>\n",
       "      <td>163.14</td>\n",
       "      <td>55.44</td>\n",
       "      <td>332.66</td>\n",
       "      <td>6</td>\n",
       "      <td>13464.73</td>\n",
       "      <td>LONG</td>\n",
       "      <td>SPY</td>\n",
       "    </tr>\n",
       "    <tr>\n",
       "      <th>26</th>\n",
       "      <td>2012-01-10</td>\n",
       "      <td>107.69</td>\n",
       "      <td>2015-02-17</td>\n",
       "      <td>186.30</td>\n",
       "      <td>78.61</td>\n",
       "      <td>393.04</td>\n",
       "      <td>5</td>\n",
       "      <td>13857.77</td>\n",
       "      <td>LONG</td>\n",
       "      <td>SPY</td>\n",
       "    </tr>\n",
       "    <tr>\n",
       "      <th>27</th>\n",
       "      <td>2012-01-10</td>\n",
       "      <td>107.69</td>\n",
       "      <td>2015-08-21</td>\n",
       "      <td>177.05</td>\n",
       "      <td>69.36</td>\n",
       "      <td>5618.16</td>\n",
       "      <td>81</td>\n",
       "      <td>19475.93</td>\n",
       "      <td>LONG</td>\n",
       "      <td>SPY</td>\n",
       "    </tr>\n",
       "    <tr>\n",
       "      <th>28</th>\n",
       "      <td>2016-04-01</td>\n",
       "      <td>188.22</td>\n",
       "      <td>2017-02-10</td>\n",
       "      <td>214.01</td>\n",
       "      <td>25.79</td>\n",
       "      <td>128.93</td>\n",
       "      <td>5</td>\n",
       "      <td>19604.86</td>\n",
       "      <td>LONG</td>\n",
       "      <td>SPY</td>\n",
       "    </tr>\n",
       "    <tr>\n",
       "      <th>29</th>\n",
       "      <td>2016-04-01</td>\n",
       "      <td>188.22</td>\n",
       "      <td>2017-11-28</td>\n",
       "      <td>246.46</td>\n",
       "      <td>58.24</td>\n",
       "      <td>291.20</td>\n",
       "      <td>5</td>\n",
       "      <td>19896.07</td>\n",
       "      <td>LONG</td>\n",
       "      <td>SPY</td>\n",
       "    </tr>\n",
       "    <tr>\n",
       "      <th>30</th>\n",
       "      <td>2016-04-01</td>\n",
       "      <td>188.22</td>\n",
       "      <td>2018-10-29</td>\n",
       "      <td>251.91</td>\n",
       "      <td>63.69</td>\n",
       "      <td>4330.60</td>\n",
       "      <td>68</td>\n",
       "      <td>24226.66</td>\n",
       "      <td>LONG</td>\n",
       "      <td>SPY</td>\n",
       "    </tr>\n",
       "    <tr>\n",
       "      <th>31</th>\n",
       "      <td>2019-03-18</td>\n",
       "      <td>272.31</td>\n",
       "      <td>2019-12-26</td>\n",
       "      <td>315.98</td>\n",
       "      <td>43.67</td>\n",
       "      <td>174.70</td>\n",
       "      <td>4</td>\n",
       "      <td>24401.36</td>\n",
       "      <td>LONG</td>\n",
       "      <td>SPY</td>\n",
       "    </tr>\n",
       "    <tr>\n",
       "      <th>32</th>\n",
       "      <td>2019-03-18</td>\n",
       "      <td>272.31</td>\n",
       "      <td>2020-03-09</td>\n",
       "      <td>268.32</td>\n",
       "      <td>-3.99</td>\n",
       "      <td>-231.18</td>\n",
       "      <td>58</td>\n",
       "      <td>24170.18</td>\n",
       "      <td>LONG</td>\n",
       "      <td>SPY</td>\n",
       "    </tr>\n",
       "    <tr>\n",
       "      <th>33</th>\n",
       "      <td>2020-06-03</td>\n",
       "      <td>307.25</td>\n",
       "      <td>2020-11-13</td>\n",
       "      <td>355.42</td>\n",
       "      <td>48.16</td>\n",
       "      <td>192.65</td>\n",
       "      <td>4</td>\n",
       "      <td>24362.83</td>\n",
       "      <td>LONG</td>\n",
       "      <td>SPY</td>\n",
       "    </tr>\n",
       "    <tr>\n",
       "      <th>34</th>\n",
       "      <td>2020-06-03</td>\n",
       "      <td>307.25</td>\n",
       "      <td>2021-03-26</td>\n",
       "      <td>395.98</td>\n",
       "      <td>88.73</td>\n",
       "      <td>4525.09</td>\n",
       "      <td>51</td>\n",
       "      <td>28887.92</td>\n",
       "      <td>LONG</td>\n",
       "      <td>SPY</td>\n",
       "    </tr>\n",
       "  </tbody>\n",
       "</table>\n",
       "</div>"
      ],
      "text/plain": [
       "   entry_date  entry_price  exit_date  exit_price  pl_points  pl_cash  qty  \\\n",
       "25 2012-01-10       107.69 2014-03-04      163.14      55.44   332.66    6   \n",
       "26 2012-01-10       107.69 2015-02-17      186.30      78.61   393.04    5   \n",
       "27 2012-01-10       107.69 2015-08-21      177.05      69.36  5618.16   81   \n",
       "28 2016-04-01       188.22 2017-02-10      214.01      25.79   128.93    5   \n",
       "29 2016-04-01       188.22 2017-11-28      246.46      58.24   291.20    5   \n",
       "30 2016-04-01       188.22 2018-10-29      251.91      63.69  4330.60   68   \n",
       "31 2019-03-18       272.31 2019-12-26      315.98      43.67   174.70    4   \n",
       "32 2019-03-18       272.31 2020-03-09      268.32      -3.99  -231.18   58   \n",
       "33 2020-06-03       307.25 2020-11-13      355.42      48.16   192.65    4   \n",
       "34 2020-06-03       307.25 2021-03-26      395.98      88.73  4525.09   51   \n",
       "\n",
       "    cumul_total direction symbol  \n",
       "25     13464.73      LONG    SPY  \n",
       "26     13857.77      LONG    SPY  \n",
       "27     19475.93      LONG    SPY  \n",
       "28     19604.86      LONG    SPY  \n",
       "29     19896.07      LONG    SPY  \n",
       "30     24226.66      LONG    SPY  \n",
       "31     24401.36      LONG    SPY  \n",
       "32     24170.18      LONG    SPY  \n",
       "33     24362.83      LONG    SPY  \n",
       "34     28887.92      LONG    SPY  "
      ]
     },
     "execution_count": 10,
     "metadata": {},
     "output_type": "execute_result"
    }
   ],
   "source": [
    "tlog.tail(10)"
   ]
  },
  {
   "cell_type": "code",
   "execution_count": 11,
   "metadata": {
    "ExecuteTime": {
     "end_time": "2020-02-17T03:15:04.771082Z",
     "start_time": "2020-02-17T03:15:04.742132Z"
    }
   },
   "outputs": [
    {
     "data": {
      "text/html": [
       "<div>\n",
       "<style scoped>\n",
       "    .dataframe tbody tr th:only-of-type {\n",
       "        vertical-align: middle;\n",
       "    }\n",
       "\n",
       "    .dataframe tbody tr th {\n",
       "        vertical-align: top;\n",
       "    }\n",
       "\n",
       "    .dataframe thead th {\n",
       "        text-align: right;\n",
       "    }\n",
       "</style>\n",
       "<table border=\"1\" class=\"dataframe\">\n",
       "  <thead>\n",
       "    <tr style=\"text-align: right;\">\n",
       "      <th></th>\n",
       "      <th>high</th>\n",
       "      <th>low</th>\n",
       "      <th>close</th>\n",
       "      <th>shares</th>\n",
       "      <th>cash</th>\n",
       "      <th>leverage</th>\n",
       "      <th>state</th>\n",
       "    </tr>\n",
       "    <tr>\n",
       "      <th>date</th>\n",
       "      <th></th>\n",
       "      <th></th>\n",
       "      <th></th>\n",
       "      <th></th>\n",
       "      <th></th>\n",
       "      <th></th>\n",
       "      <th></th>\n",
       "    </tr>\n",
       "  </thead>\n",
       "  <tbody>\n",
       "    <tr>\n",
       "      <th>2021-03-22</th>\n",
       "      <td>38790.51</td>\n",
       "      <td>38581.41</td>\n",
       "      <td>38715.03</td>\n",
       "      <td>51</td>\n",
       "      <td>18692.94</td>\n",
       "      <td>1.00</td>\n",
       "      <td>-</td>\n",
       "    </tr>\n",
       "    <tr>\n",
       "      <th>2021-03-23</th>\n",
       "      <td>38759.40</td>\n",
       "      <td>38514.60</td>\n",
       "      <td>38557.44</td>\n",
       "      <td>51</td>\n",
       "      <td>18692.94</td>\n",
       "      <td>1.00</td>\n",
       "      <td>-</td>\n",
       "    </tr>\n",
       "    <tr>\n",
       "      <th>2021-03-24</th>\n",
       "      <td>38723.19</td>\n",
       "      <td>38453.91</td>\n",
       "      <td>38456.46</td>\n",
       "      <td>51</td>\n",
       "      <td>18692.94</td>\n",
       "      <td>1.00</td>\n",
       "      <td>-</td>\n",
       "    </tr>\n",
       "    <tr>\n",
       "      <th>2021-03-25</th>\n",
       "      <td>38610.99</td>\n",
       "      <td>38271.84</td>\n",
       "      <td>38567.64</td>\n",
       "      <td>51</td>\n",
       "      <td>18692.94</td>\n",
       "      <td>1.00</td>\n",
       "      <td>-</td>\n",
       "    </tr>\n",
       "    <tr>\n",
       "      <th>2021-03-26</th>\n",
       "      <td>38887.92</td>\n",
       "      <td>38887.92</td>\n",
       "      <td>38887.92</td>\n",
       "      <td>0</td>\n",
       "      <td>38887.92</td>\n",
       "      <td>1.00</td>\n",
       "      <td>X</td>\n",
       "    </tr>\n",
       "  </tbody>\n",
       "</table>\n",
       "</div>"
      ],
      "text/plain": [
       "               high      low    close  shares     cash  leverage state\n",
       "date                                                                  \n",
       "2021-03-22 38790.51 38581.41 38715.03      51 18692.94      1.00     -\n",
       "2021-03-23 38759.40 38514.60 38557.44      51 18692.94      1.00     -\n",
       "2021-03-24 38723.19 38453.91 38456.46      51 18692.94      1.00     -\n",
       "2021-03-25 38610.99 38271.84 38567.64      51 18692.94      1.00     -\n",
       "2021-03-26 38887.92 38887.92 38887.92       0 38887.92      1.00     X"
      ]
     },
     "execution_count": 11,
     "metadata": {},
     "output_type": "execute_result"
    }
   ],
   "source": [
    "dbal.tail()"
   ]
  },
  {
   "cell_type": "markdown",
   "metadata": {},
   "source": [
    "Generate strategy stats - display all available stats"
   ]
  },
  {
   "cell_type": "code",
   "execution_count": 12,
   "metadata": {
    "ExecuteTime": {
     "end_time": "2020-02-17T03:15:04.829122Z",
     "start_time": "2020-02-17T03:15:04.786873Z"
    }
   },
   "outputs": [
    {
     "name": "stdout",
     "output_type": "stream",
     "text": [
      "start                                                   1993-11-11\n",
      "end                                                     2021-03-26\n",
      "beginning_balance                                            10000\n",
      "ending_balance                                            38887.92\n",
      "total_net_profit                                          28887.92\n",
      "gross_profit                                              29336.06\n",
      "gross_loss                                                 -448.14\n",
      "profit_factor                                                65.46\n",
      "return_on_initial_capital                                   288.88\n",
      "annual_return_rate                                            5.09\n",
      "trading_period                           27 years 4 months 15 days\n",
      "pct_time_in_market                                           75.83\n",
      "margin                                                           1\n",
      "avg_leverage                                                  1.00\n",
      "max_leverage                                                  1.00\n",
      "min_leverage                                                  1.00\n",
      "total_num_trades                                                35\n",
      "trades_per_year                                               1.28\n",
      "num_winning_trades                                              32\n",
      "num_losing_trades                                                3\n",
      "num_even_trades                                                  0\n",
      "pct_profitable_trades                                        91.43\n",
      "avg_profit_per_trade                                        825.37\n",
      "avg_profit_per_winning_trade                                916.75\n",
      "avg_loss_per_losing_trade                                  -149.38\n",
      "ratio_avg_profit_win_loss                                     6.14\n",
      "largest_profit_winning_trade                               5618.16\n",
      "largest_loss_losing_trade                                  -231.18\n",
      "num_winning_points                                         1004.77\n",
      "num_losing_points                                            -6.78\n",
      "total_net_points                                            997.99\n",
      "avg_points                                                   28.51\n",
      "largest_points_winning_trade                                 88.73\n",
      "largest_points_losing_trade                                  -3.99\n",
      "avg_pct_gain_per_trade                                       38.54\n",
      "largest_pct_winning_trade                                   148.28\n",
      "largest_pct_losing_trade                                     -4.13\n",
      "expected_shortfall                                               0\n",
      "max_consecutive_winning_trades                                  19\n",
      "max_consecutive_losing_trades                                    1\n",
      "avg_bars_winning_trades                                     445.72\n",
      "avg_bars_losing_trades                                      119.33\n",
      "max_closed_out_drawdown                                     -11.28\n",
      "max_closed_out_drawdown_peak_date                       2020-02-19\n",
      "max_closed_out_drawdown_trough_date                     2020-06-11\n",
      "max_closed_out_drawdown_recovery_date                   2021-01-07\n",
      "drawdown_loss_period                                           113\n",
      "drawdown_recovery_period                                       210\n",
      "annualized_return_over_max_drawdown                           0.45\n",
      "max_intra_day_drawdown                                      -11.93\n",
      "avg_yearly_closed_out_drawdown                               -4.37\n",
      "max_yearly_closed_out_drawdown                              -11.28\n",
      "avg_monthly_closed_out_drawdown                              -1.25\n",
      "max_monthly_closed_out_drawdown                              -9.62\n",
      "avg_weekly_closed_out_drawdown                               -0.50\n",
      "max_weekly_closed_out_drawdown                               -6.16\n",
      "avg_yearly_closed_out_runup                                   8.90\n",
      "max_yearly_closed_out_runup                                  25.50\n",
      "avg_monthly_closed_out_runup                                  1.59\n",
      "max_monthly_closed_out_runup                                  7.64\n",
      "avg_weekly_closed_out_runup                                   0.60\n",
      "max_weekly_closed_out_runup                                   4.73\n",
      "pct_profitable_years                                         75.00\n",
      "best_year                                                    24.53\n",
      "worst_year                                                   -5.24\n",
      "avg_year                                                      5.17\n",
      "annual_std                                                    5.57\n",
      "pct_profitable_months                                        53.03\n",
      "best_month                                                    7.64\n",
      "worst_month                                                  -9.62\n",
      "avg_month                                                     0.41\n",
      "monthly_std                                                   1.60\n",
      "pct_profitable_weeks                                         45.87\n",
      "best_week                                                     4.73\n",
      "worst_week                                                   -6.16\n",
      "avg_week                                                      0.10\n",
      "weekly_std                                                    0.85\n",
      "pct_profitable_days                                          41.69\n",
      "best_day                                                      2.91\n",
      "worst_day                                                    -3.71\n",
      "avg_day                                                       0.02\n",
      "daily_std                                                     0.40\n",
      "sharpe_ratio                                                  0.82\n",
      "sharpe_ratio_max                                              0.86\n",
      "sharpe_ratio_min                                              0.77\n",
      "sortino_ratio                                                 0.90\n",
      "dtype: object\n"
     ]
    }
   ],
   "source": [
    "pf.print_full(stats)"
   ]
  },
  {
   "cell_type": "markdown",
   "metadata": {},
   "source": [
    "Run Benchmark"
   ]
  },
  {
   "cell_type": "code",
   "execution_count": 13,
   "metadata": {
    "ExecuteTime": {
     "end_time": "2020-02-17T03:15:04.990269Z",
     "start_time": "2020-02-17T03:15:04.835240Z"
    }
   },
   "outputs": [],
   "source": [
    "benchmark = pf.Benchmark(symbol, capital, s.start, s.end)\n",
    "benchmark.run()"
   ]
  },
  {
   "cell_type": "code",
   "execution_count": 14,
   "metadata": {
    "ExecuteTime": {
     "end_time": "2020-02-17T03:15:05.725638Z",
     "start_time": "2020-02-17T03:15:05.450579Z"
    },
    "scrolled": false
   },
   "outputs": [
    {
     "name": "stdout",
     "output_type": "stream",
     "text": [
      "start                                                   1993-11-11\n",
      "end                                                     2021-03-26\n",
      "beginning_balance                                            10000\n",
      "ending_balance                                            85165.08\n",
      "total_net_profit                                          75165.08\n",
      "gross_profit                                              75165.08\n",
      "gross_loss                                                    0.00\n",
      "profit_factor                                                 1000\n",
      "return_on_initial_capital                                   751.65\n",
      "annual_return_rate                                            8.14\n",
      "trading_period                           27 years 4 months 15 days\n",
      "pct_time_in_market                                          100.00\n",
      "margin                                                           1\n",
      "avg_leverage                                                  1.00\n",
      "max_leverage                                                  1.00\n",
      "min_leverage                                                  1.00\n",
      "total_num_trades                                                 1\n",
      "trades_per_year                                               0.04\n",
      "num_winning_trades                                               1\n",
      "num_losing_trades                                                0\n",
      "num_even_trades                                                  0\n",
      "pct_profitable_trades                                       100.00\n",
      "avg_profit_per_trade                                      75165.08\n",
      "avg_profit_per_winning_trade                              75165.08\n",
      "avg_loss_per_losing_trade                                        0\n",
      "ratio_avg_profit_win_loss                                     1000\n",
      "largest_profit_winning_trade                              75165.08\n",
      "largest_loss_losing_trade                                        0\n",
      "num_winning_points                                          349.61\n",
      "num_losing_points                                                0\n",
      "total_net_points                                            349.61\n",
      "avg_points                                                  349.61\n",
      "largest_points_winning_trade                                349.61\n",
      "largest_points_losing_trade                                      0\n",
      "avg_pct_gain_per_trade                                      753.87\n",
      "largest_pct_winning_trade                                   753.87\n",
      "largest_pct_losing_trade                                         0\n",
      "expected_shortfall                                               0\n",
      "max_consecutive_winning_trades                                   1\n",
      "max_consecutive_losing_trades                                    0\n",
      "avg_bars_winning_trades                                    6892.00\n",
      "avg_bars_losing_trades                                           0\n",
      "max_closed_out_drawdown                                     -56.42\n",
      "max_closed_out_drawdown_peak_date                       2007-10-09\n",
      "max_closed_out_drawdown_trough_date                     2009-03-09\n",
      "max_closed_out_drawdown_recovery_date                   2013-03-14\n",
      "drawdown_loss_period                                           517\n",
      "drawdown_recovery_period                                      1466\n",
      "annualized_return_over_max_drawdown                           0.14\n",
      "max_intra_day_drawdown                                      -57.35\n",
      "avg_yearly_closed_out_drawdown                              -14.67\n",
      "max_yearly_closed_out_drawdown                              -52.34\n",
      "avg_monthly_closed_out_drawdown                              -4.05\n",
      "max_monthly_closed_out_drawdown                             -31.38\n",
      "avg_weekly_closed_out_drawdown                               -1.64\n",
      "max_weekly_closed_out_drawdown                              -19.77\n",
      "avg_yearly_closed_out_runup                                  24.78\n",
      "max_yearly_closed_out_runup                                  78.14\n",
      "avg_monthly_closed_out_runup                                  4.82\n",
      "max_monthly_closed_out_runup                                 28.55\n",
      "avg_weekly_closed_out_runup                                   1.85\n",
      "max_weekly_closed_out_runup                                  19.37\n",
      "pct_profitable_years                                         78.57\n",
      "best_year                                                    74.66\n",
      "worst_year                                                  -48.54\n",
      "avg_year                                                      9.23\n",
      "annual_std                                                   16.55\n",
      "pct_profitable_months                                        63.69\n",
      "best_month                                                   23.06\n",
      "worst_month                                                 -31.38\n",
      "avg_month                                                     0.72\n",
      "monthly_std                                                   4.52\n",
      "pct_profitable_weeks                                         57.54\n",
      "best_week                                                    19.37\n",
      "worst_week                                                  -19.77\n",
      "avg_week                                                      0.18\n",
      "weekly_std                                                    2.43\n",
      "pct_profitable_days                                          53.69\n",
      "best_day                                                     14.50\n",
      "worst_day                                                   -10.94\n",
      "avg_day                                                       0.04\n",
      "daily_std                                                     1.20\n",
      "sharpe_ratio                                                  0.51\n",
      "sharpe_ratio_max                                              0.54\n",
      "sharpe_ratio_min                                              0.47\n",
      "sortino_ratio                                                 0.64\n",
      "dtype: object\n"
     ]
    }
   ],
   "source": [
    "pf.print_full(benchmark.stats)"
   ]
  },
  {
   "cell_type": "markdown",
   "metadata": {},
   "source": [
    "Plot Equity Curves: Strategy vs Benchmark"
   ]
  },
  {
   "cell_type": "code",
   "execution_count": 15,
   "metadata": {
    "ExecuteTime": {
     "end_time": "2020-02-17T03:15:06.060402Z",
     "start_time": "2020-02-17T03:15:05.735142Z"
    }
   },
   "outputs": [
    {
     "data": {
      "image/png": "[encoded data removed]",
      "text/plain": [
       "<Figure size 720x504 with 1 Axes>"
      ]
     },
     "metadata": {
      "needs_background": "light"
     },
     "output_type": "display_data"
    }
   ],
   "source": [
    "pf.plot_equity_curve(dbal, benchmark=benchmark.dbal)"
   ]
  },
  {
   "cell_type": "markdown",
   "metadata": {},
   "source": [
    "Plot Trades"
   ]
  },
  {
   "cell_type": "code",
   "execution_count": 16,
   "metadata": {
    "ExecuteTime": {
     "end_time": "2020-02-17T03:15:06.372872Z",
     "start_time": "2020-02-17T03:15:06.065643Z"
    },
    "scrolled": false
   },
   "outputs": [
    {
     "data": {
      "image/png": "[encoded data removed]",
      "text/plain": [
       "<Figure size 720x504 with 1 Axes>"
      ]
     },
     "metadata": {
      "needs_background": "light"
     },
     "output_type": "display_data"
    }
   ],
   "source": [
    "pf.plot_trades(dbal, benchmark=benchmark.dbal)"
   ]
  },
  {
   "cell_type": "markdown",
   "metadata": {},
   "source": [
    "Bar Graph: Strategy vs Benchmark"
   ]
  },
  {
   "cell_type": "code",
   "execution_count": 17,
   "metadata": {
    "ExecuteTime": {
     "end_time": "2020-02-17T03:15:06.833919Z",
     "start_time": "2020-02-17T03:15:06.380990Z"
    },
    "scrolled": false
   },
   "outputs": [
    {
     "data": {
      "text/html": [
       "<div>\n",
       "<style scoped>\n",
       "    .dataframe tbody tr th:only-of-type {\n",
       "        vertical-align: middle;\n",
       "    }\n",
       "\n",
       "    .dataframe tbody tr th {\n",
       "        vertical-align: top;\n",
       "    }\n",
       "\n",
       "    .dataframe thead th {\n",
       "        text-align: right;\n",
       "    }\n",
       "</style>\n",
       "<table border=\"1\" class=\"dataframe\">\n",
       "  <thead>\n",
       "    <tr style=\"text-align: right;\">\n",
       "      <th></th>\n",
       "      <th>strategy</th>\n",
       "      <th>benchmark</th>\n",
       "    </tr>\n",
       "  </thead>\n",
       "  <tbody>\n",
       "    <tr>\n",
       "      <th>annual_return_rate</th>\n",
       "      <td>5.09</td>\n",
       "      <td>8.14</td>\n",
       "    </tr>\n",
       "    <tr>\n",
       "      <th>max_closed_out_drawdown</th>\n",
       "      <td>-11.28</td>\n",
       "      <td>-56.42</td>\n",
       "    </tr>\n",
       "    <tr>\n",
       "      <th>annualized_return_over_max_drawdown</th>\n",
       "      <td>0.45</td>\n",
       "      <td>0.14</td>\n",
       "    </tr>\n",
       "    <tr>\n",
       "      <th>best_month</th>\n",
       "      <td>7.64</td>\n",
       "      <td>23.06</td>\n",
       "    </tr>\n",
       "    <tr>\n",
       "      <th>worst_month</th>\n",
       "      <td>-9.62</td>\n",
       "      <td>-31.38</td>\n",
       "    </tr>\n",
       "    <tr>\n",
       "      <th>sharpe_ratio</th>\n",
       "      <td>0.82</td>\n",
       "      <td>0.51</td>\n",
       "    </tr>\n",
       "    <tr>\n",
       "      <th>sortino_ratio</th>\n",
       "      <td>0.90</td>\n",
       "      <td>0.64</td>\n",
       "    </tr>\n",
       "    <tr>\n",
       "      <th>monthly_std</th>\n",
       "      <td>1.60</td>\n",
       "      <td>4.52</td>\n",
       "    </tr>\n",
       "    <tr>\n",
       "      <th>annual_std</th>\n",
       "      <td>5.57</td>\n",
       "      <td>16.55</td>\n",
       "    </tr>\n",
       "  </tbody>\n",
       "</table>\n",
       "</div>"
      ],
      "text/plain": [
       "                                     strategy  benchmark\n",
       "annual_return_rate                       5.09       8.14\n",
       "max_closed_out_drawdown                -11.28     -56.42\n",
       "annualized_return_over_max_drawdown      0.45       0.14\n",
       "best_month                               7.64      23.06\n",
       "worst_month                             -9.62     -31.38\n",
       "sharpe_ratio                             0.82       0.51\n",
       "sortino_ratio                            0.90       0.64\n",
       "monthly_std                              1.60       4.52\n",
       "annual_std                               5.57      16.55"
      ]
     },
     "execution_count": 17,
     "metadata": {},
     "output_type": "execute_result"
    },
    {
     "data": {
      "image/png": "[encoded data removed]",
      "text/plain": [
       "<Figure size 720x504 with 1 Axes>"
      ]
     },
     "metadata": {
      "needs_background": "light"
     },
     "output_type": "display_data"
    }
   ],
   "source": [
    "df = pf.plot_bar_graph(stats, benchmark.stats)\n",
    "df"
   ]
  }
 ],
 "metadata": {
  "kernelspec": {
   "display_name": "Python 3",
   "language": "python",
   "name": "python3"
  },
  "language_info": {
   "codemirror_mode": {
    "name": "ipython",
    "version": 3
   },
   "file_extension": ".py",
   "mimetype": "text/x-python",
   "name": "python",
   "nbconvert_exporter": "python",
   "pygments_lexer": "ipython3",
   "version": "3.8.5"
  },
  "latex_envs": {
   "LaTeX_envs_menu_present": true,
   "autoclose": false,
   "autocomplete": true,
   "bibliofile": "biblio.bib",
   "cite_by": "apalike",
   "current_citInitial": 1,
   "eqLabelWithNumbers": true,
   "eqNumInitial": 1,
   "hotkeys": {
    "equation": "Ctrl-E",
    "itemize": "Ctrl-I"
   },
   "labels_anchors": false,
   "latex_user_defs": false,
   "report_style_numbering": false,
   "user_envs_cfg": false
  }
 },
 "nbformat": 4,
 "nbformat_minor": 1
}
