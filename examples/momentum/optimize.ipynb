{
 "cells": [
  {
   "cell_type": "markdown",
   "metadata": {},
   "source": [
    "# Momentum\n",
    "\n",
    "    1. The SPY is higher than X days ago, buy\n",
    "    2. If the SPY is lower than X days ago, sell your long position.\n",
    "    \n",
    "    (optimize for number of days)"
   ]
  },
  {
   "cell_type": "code",
   "execution_count": 1,
   "metadata": {
    "ExecuteTime": {
     "end_time": "2020-02-17T00:14:54.849277Z",
     "start_time": "2020-02-17T00:14:53.518623Z"
    }
   },
   "outputs": [],
   "source": [
    "import pandas as pd\n",
    "import matplotlib.pyplot as plt\n",
    "import datetime\n",
    "from talib.abstract import *\n",
    "\n",
    "import pinkfish as pf\n",
    "import strategy\n",
    "\n",
    "# format price data\n",
    "pd.options.display.float_format = '{:0.2f}'.format\n",
    "\n",
    "%matplotlib inline"
   ]
  },
  {
   "cell_type": "code",
   "execution_count": 2,
   "metadata": {
    "ExecuteTime": {
     "end_time": "2020-02-17T00:14:54.865248Z",
     "start_time": "2020-02-17T00:14:54.854421Z"
    }
   },
   "outputs": [],
   "source": [
    "# set size of inline plots\n",
    "'''note: rcParams can't be in same cell as import matplotlib\n",
    "   or %matplotlib inline\n",
    "   \n",
    "   %matplotlib notebook: will lead to interactive plots embedded within\n",
    "   the notebook, you can zoom and resize the figure\n",
    "   \n",
    "   %matplotlib inline: only draw static images in the notebook\n",
    "'''\n",
    "plt.rcParams[\"figure.figsize\"] = (10, 7)"
   ]
  },
  {
   "cell_type": "markdown",
   "metadata": {},
   "source": [
    "Some global data"
   ]
  },
  {
   "cell_type": "code",
   "execution_count": 3,
   "metadata": {
    "ExecuteTime": {
     "end_time": "2020-02-17T00:14:54.890905Z",
     "start_time": "2020-02-17T00:14:54.873854Z"
    }
   },
   "outputs": [],
   "source": [
    "#symbol = '^GSPC'\n",
    "symbol = 'SPY'\n",
    "#symbol = 'DIA'\n",
    "#symbol = 'QQQ'\n",
    "#symbol = 'IWM'\n",
    "#symbol = 'TLT'\n",
    "#symbol = 'GLD'\n",
    "#symbol = 'AAPL'\n",
    "#symbol = 'BBRY'\n",
    "#symbol = 'GDX'\n",
    "capital = 10000\n",
    "start = datetime.datetime(1900, 1, 1)\n",
    "start = datetime.datetime.strptime(pf.SP500_BEGIN, '%Y-%m-%d')\n",
    "#end = datetime.datetime(2010, 12, 1)\n",
    "end = datetime.datetime.now()"
   ]
  },
  {
   "cell_type": "markdown",
   "metadata": {},
   "source": [
    "Define lookback period"
   ]
  },
  {
   "cell_type": "code",
   "execution_count": 4,
   "metadata": {
    "ExecuteTime": {
     "end_time": "2020-02-17T00:14:54.904691Z",
     "start_time": "2020-02-17T00:14:54.895141Z"
    }
   },
   "outputs": [],
   "source": [
    "periods = range(3, 18+1)\n",
    "periods = [str(period) for period in periods]"
   ]
  },
  {
   "cell_type": "markdown",
   "metadata": {},
   "source": [
    "Run Strategy"
   ]
  },
  {
   "cell_type": "code",
   "execution_count": 5,
   "metadata": {
    "ExecuteTime": {
     "end_time": "2020-02-17T00:15:13.211703Z",
     "start_time": "2020-02-17T00:14:54.911026Z"
    }
   },
   "outputs": [
    {
     "name": "stdout",
     "output_type": "stream",
     "text": [
      "3 4 5 6 7 8 9 10 11 12 13 14 15 16 17 18 "
     ]
    }
   ],
   "source": [
    "strategies = pd.Series(dtype=object)\n",
    "for period in periods:\n",
    "    print(\"{0}\".format(period), end=\" \")\n",
    "    strategies[period] = strategy.Strategy(symbol, capital, start, end, period=int(period))\n",
    "    strategies[period].run()\n",
    "    strategies[period].tlog, strategies[period].dbal = strategies[period].get_logs()\n",
    "    strategies[period].stats = strategies[period].get_stats()"
   ]
  },
  {
   "cell_type": "markdown",
   "metadata": {},
   "source": [
    "Summarize results"
   ]
  },
  {
   "cell_type": "code",
   "execution_count": 7,
   "metadata": {
    "ExecuteTime": {
     "end_time": "2020-02-17T00:15:13.286091Z",
     "start_time": "2020-02-17T00:15:13.222890Z"
    },
    "scrolled": false
   },
   "outputs": [
    {
     "data": {
      "text/html": [
       "<div>\n",
       "<style scoped>\n",
       "    .dataframe tbody tr th:only-of-type {\n",
       "        vertical-align: middle;\n",
       "    }\n",
       "\n",
       "    .dataframe tbody tr th {\n",
       "        vertical-align: top;\n",
       "    }\n",
       "\n",
       "    .dataframe thead th {\n",
       "        text-align: right;\n",
       "    }\n",
       "</style>\n",
       "<table border=\"1\" class=\"dataframe\">\n",
       "  <thead>\n",
       "    <tr style=\"text-align: right;\">\n",
       "      <th></th>\n",
       "      <th>3</th>\n",
       "      <th>4</th>\n",
       "      <th>5</th>\n",
       "      <th>6</th>\n",
       "      <th>7</th>\n",
       "      <th>8</th>\n",
       "      <th>9</th>\n",
       "      <th>10</th>\n",
       "      <th>11</th>\n",
       "      <th>12</th>\n",
       "      <th>13</th>\n",
       "      <th>14</th>\n",
       "      <th>15</th>\n",
       "      <th>16</th>\n",
       "      <th>17</th>\n",
       "      <th>18</th>\n",
       "    </tr>\n",
       "  </thead>\n",
       "  <tbody>\n",
       "    <tr>\n",
       "      <th>annual_return_rate</th>\n",
       "      <td>6.03</td>\n",
       "      <td>6.84</td>\n",
       "      <td>8.47</td>\n",
       "      <td>8.92</td>\n",
       "      <td>7.70</td>\n",
       "      <td>9.16</td>\n",
       "      <td>9.96</td>\n",
       "      <td>9.20</td>\n",
       "      <td>9.70</td>\n",
       "      <td>9.96</td>\n",
       "      <td>9.09</td>\n",
       "      <td>9.67</td>\n",
       "      <td>10.11</td>\n",
       "      <td>9.70</td>\n",
       "      <td>9.77</td>\n",
       "      <td>10.33</td>\n",
       "    </tr>\n",
       "    <tr>\n",
       "      <th>max_closed_out_drawdown</th>\n",
       "      <td>-26.96</td>\n",
       "      <td>-26.66</td>\n",
       "      <td>-24.36</td>\n",
       "      <td>-25.90</td>\n",
       "      <td>-29.67</td>\n",
       "      <td>-22.04</td>\n",
       "      <td>-26.16</td>\n",
       "      <td>-30.09</td>\n",
       "      <td>-25.52</td>\n",
       "      <td>-22.88</td>\n",
       "      <td>-32.55</td>\n",
       "      <td>-29.76</td>\n",
       "      <td>-33.30</td>\n",
       "      <td>-33.30</td>\n",
       "      <td>-33.30</td>\n",
       "      <td>-27.59</td>\n",
       "    </tr>\n",
       "    <tr>\n",
       "      <th>annualized_return_over_max_drawdown</th>\n",
       "      <td>0.22</td>\n",
       "      <td>0.26</td>\n",
       "      <td>0.35</td>\n",
       "      <td>0.34</td>\n",
       "      <td>0.26</td>\n",
       "      <td>0.42</td>\n",
       "      <td>0.38</td>\n",
       "      <td>0.31</td>\n",
       "      <td>0.38</td>\n",
       "      <td>0.44</td>\n",
       "      <td>0.28</td>\n",
       "      <td>0.32</td>\n",
       "      <td>0.30</td>\n",
       "      <td>0.29</td>\n",
       "      <td>0.29</td>\n",
       "      <td>0.37</td>\n",
       "    </tr>\n",
       "    <tr>\n",
       "      <th>drawdown_recovery_period</th>\n",
       "      <td>1225.00</td>\n",
       "      <td>1531.00</td>\n",
       "      <td>1115.00</td>\n",
       "      <td>Not Recovered Yet</td>\n",
       "      <td>903.00</td>\n",
       "      <td>166.00</td>\n",
       "      <td>409.00</td>\n",
       "      <td>764.00</td>\n",
       "      <td>471.00</td>\n",
       "      <td>469.00</td>\n",
       "      <td>Not Recovered Yet</td>\n",
       "      <td>275.00</td>\n",
       "      <td>244.00</td>\n",
       "      <td>244.00</td>\n",
       "      <td>245.00</td>\n",
       "      <td>931.00</td>\n",
       "    </tr>\n",
       "    <tr>\n",
       "      <th>best_month</th>\n",
       "      <td>15.04</td>\n",
       "      <td>15.00</td>\n",
       "      <td>15.47</td>\n",
       "      <td>15.42</td>\n",
       "      <td>15.44</td>\n",
       "      <td>15.03</td>\n",
       "      <td>17.78</td>\n",
       "      <td>17.78</td>\n",
       "      <td>17.78</td>\n",
       "      <td>17.79</td>\n",
       "      <td>17.79</td>\n",
       "      <td>17.78</td>\n",
       "      <td>18.01</td>\n",
       "      <td>18.01</td>\n",
       "      <td>17.99</td>\n",
       "      <td>17.79</td>\n",
       "    </tr>\n",
       "    <tr>\n",
       "      <th>worst_month</th>\n",
       "      <td>-18.90</td>\n",
       "      <td>-18.91</td>\n",
       "      <td>-18.93</td>\n",
       "      <td>-18.94</td>\n",
       "      <td>-18.90</td>\n",
       "      <td>-18.94</td>\n",
       "      <td>-22.08</td>\n",
       "      <td>-22.09</td>\n",
       "      <td>-18.91</td>\n",
       "      <td>-18.95</td>\n",
       "      <td>-29.09</td>\n",
       "      <td>-29.09</td>\n",
       "      <td>-29.10</td>\n",
       "      <td>-29.10</td>\n",
       "      <td>-29.10</td>\n",
       "      <td>-18.91</td>\n",
       "    </tr>\n",
       "    <tr>\n",
       "      <th>sharpe_ratio</th>\n",
       "      <td>0.54</td>\n",
       "      <td>0.61</td>\n",
       "      <td>0.72</td>\n",
       "      <td>0.74</td>\n",
       "      <td>0.64</td>\n",
       "      <td>0.73</td>\n",
       "      <td>0.78</td>\n",
       "      <td>0.73</td>\n",
       "      <td>0.75</td>\n",
       "      <td>0.75</td>\n",
       "      <td>0.68</td>\n",
       "      <td>0.71</td>\n",
       "      <td>0.73</td>\n",
       "      <td>0.70</td>\n",
       "      <td>0.71</td>\n",
       "      <td>0.77</td>\n",
       "    </tr>\n",
       "    <tr>\n",
       "      <th>sortino_ratio</th>\n",
       "      <td>0.57</td>\n",
       "      <td>0.66</td>\n",
       "      <td>0.80</td>\n",
       "      <td>0.81</td>\n",
       "      <td>0.70</td>\n",
       "      <td>0.81</td>\n",
       "      <td>0.87</td>\n",
       "      <td>0.82</td>\n",
       "      <td>0.85</td>\n",
       "      <td>0.87</td>\n",
       "      <td>0.75</td>\n",
       "      <td>0.80</td>\n",
       "      <td>0.82</td>\n",
       "      <td>0.80</td>\n",
       "      <td>0.80</td>\n",
       "      <td>0.89</td>\n",
       "    </tr>\n",
       "    <tr>\n",
       "      <th>monthly_std</th>\n",
       "      <td>3.14</td>\n",
       "      <td>3.18</td>\n",
       "      <td>3.11</td>\n",
       "      <td>3.20</td>\n",
       "      <td>3.35</td>\n",
       "      <td>3.35</td>\n",
       "      <td>3.49</td>\n",
       "      <td>3.46</td>\n",
       "      <td>3.39</td>\n",
       "      <td>3.42</td>\n",
       "      <td>3.55</td>\n",
       "      <td>3.61</td>\n",
       "      <td>3.65</td>\n",
       "      <td>3.70</td>\n",
       "      <td>3.73</td>\n",
       "      <td>3.48</td>\n",
       "    </tr>\n",
       "    <tr>\n",
       "      <th>pct_time_in_market</th>\n",
       "      <td>71.48</td>\n",
       "      <td>72.43</td>\n",
       "      <td>73.81</td>\n",
       "      <td>75.20</td>\n",
       "      <td>77.06</td>\n",
       "      <td>78.06</td>\n",
       "      <td>79.01</td>\n",
       "      <td>79.29</td>\n",
       "      <td>80.11</td>\n",
       "      <td>81.77</td>\n",
       "      <td>81.03</td>\n",
       "      <td>82.10</td>\n",
       "      <td>82.19</td>\n",
       "      <td>82.65</td>\n",
       "      <td>82.20</td>\n",
       "      <td>81.89</td>\n",
       "    </tr>\n",
       "    <tr>\n",
       "      <th>total_num_trades</th>\n",
       "      <td>77.00</td>\n",
       "      <td>61.00</td>\n",
       "      <td>55.00</td>\n",
       "      <td>38</td>\n",
       "      <td>41.00</td>\n",
       "      <td>29.00</td>\n",
       "      <td>31.00</td>\n",
       "      <td>30.00</td>\n",
       "      <td>29.00</td>\n",
       "      <td>20.00</td>\n",
       "      <td>20</td>\n",
       "      <td>16.00</td>\n",
       "      <td>12.00</td>\n",
       "      <td>14.00</td>\n",
       "      <td>16.00</td>\n",
       "      <td>13.00</td>\n",
       "    </tr>\n",
       "    <tr>\n",
       "      <th>pct_profitable_trades</th>\n",
       "      <td>51.95</td>\n",
       "      <td>40.98</td>\n",
       "      <td>50.91</td>\n",
       "      <td>50.00</td>\n",
       "      <td>48.78</td>\n",
       "      <td>48.28</td>\n",
       "      <td>51.61</td>\n",
       "      <td>46.67</td>\n",
       "      <td>41.38</td>\n",
       "      <td>45.00</td>\n",
       "      <td>40.00</td>\n",
       "      <td>62.50</td>\n",
       "      <td>50.00</td>\n",
       "      <td>50.00</td>\n",
       "      <td>56.25</td>\n",
       "      <td>61.54</td>\n",
       "    </tr>\n",
       "    <tr>\n",
       "      <th>avg_points</th>\n",
       "      <td>2.18</td>\n",
       "      <td>2.07</td>\n",
       "      <td>3.19</td>\n",
       "      <td>4.70</td>\n",
       "      <td>4.00</td>\n",
       "      <td>6.33</td>\n",
       "      <td>7.65</td>\n",
       "      <td>6.59</td>\n",
       "      <td>6.49</td>\n",
       "      <td>10.20</td>\n",
       "      <td>7.78</td>\n",
       "      <td>10.06</td>\n",
       "      <td>14.83</td>\n",
       "      <td>11.99</td>\n",
       "      <td>10.85</td>\n",
       "      <td>16.63</td>\n",
       "    </tr>\n",
       "  </tbody>\n",
       "</table>\n",
       "</div>"
      ],
      "text/plain": [
       "                                          3       4       5  \\\n",
       "annual_return_rate                     6.03    6.84    8.47   \n",
       "max_closed_out_drawdown              -26.96  -26.66  -24.36   \n",
       "annualized_return_over_max_drawdown    0.22    0.26    0.35   \n",
       "drawdown_recovery_period            1225.00 1531.00 1115.00   \n",
       "best_month                            15.04   15.00   15.47   \n",
       "worst_month                          -18.90  -18.91  -18.93   \n",
       "sharpe_ratio                           0.54    0.61    0.72   \n",
       "sortino_ratio                          0.57    0.66    0.80   \n",
       "monthly_std                            3.14    3.18    3.11   \n",
       "pct_time_in_market                    71.48   72.43   73.81   \n",
       "total_num_trades                      77.00   61.00   55.00   \n",
       "pct_profitable_trades                 51.95   40.98   50.91   \n",
       "avg_points                             2.18    2.07    3.19   \n",
       "\n",
       "                                                     6      7      8      9  \\\n",
       "annual_return_rate                                8.92   7.70   9.16   9.96   \n",
       "max_closed_out_drawdown                         -25.90 -29.67 -22.04 -26.16   \n",
       "annualized_return_over_max_drawdown               0.34   0.26   0.42   0.38   \n",
       "drawdown_recovery_period             Not Recovered Yet 903.00 166.00 409.00   \n",
       "best_month                                       15.42  15.44  15.03  17.78   \n",
       "worst_month                                     -18.94 -18.90 -18.94 -22.08   \n",
       "sharpe_ratio                                      0.74   0.64   0.73   0.78   \n",
       "sortino_ratio                                     0.81   0.70   0.81   0.87   \n",
       "monthly_std                                       3.20   3.35   3.35   3.49   \n",
       "pct_time_in_market                               75.20  77.06  78.06  79.01   \n",
       "total_num_trades                                    38  41.00  29.00  31.00   \n",
       "pct_profitable_trades                            50.00  48.78  48.28  51.61   \n",
       "avg_points                                        4.70   4.00   6.33   7.65   \n",
       "\n",
       "                                        10     11     12                 13  \\\n",
       "annual_return_rate                    9.20   9.70   9.96               9.09   \n",
       "max_closed_out_drawdown             -30.09 -25.52 -22.88             -32.55   \n",
       "annualized_return_over_max_drawdown   0.31   0.38   0.44               0.28   \n",
       "drawdown_recovery_period            764.00 471.00 469.00  Not Recovered Yet   \n",
       "best_month                           17.78  17.78  17.79              17.79   \n",
       "worst_month                         -22.09 -18.91 -18.95             -29.09   \n",
       "sharpe_ratio                          0.73   0.75   0.75               0.68   \n",
       "sortino_ratio                         0.82   0.85   0.87               0.75   \n",
       "monthly_std                           3.46   3.39   3.42               3.55   \n",
       "pct_time_in_market                   79.29  80.11  81.77              81.03   \n",
       "total_num_trades                     30.00  29.00  20.00                 20   \n",
       "pct_profitable_trades                46.67  41.38  45.00              40.00   \n",
       "avg_points                            6.59   6.49  10.20               7.78   \n",
       "\n",
       "                                        14     15     16     17     18  \n",
       "annual_return_rate                    9.67  10.11   9.70   9.77  10.33  \n",
       "max_closed_out_drawdown             -29.76 -33.30 -33.30 -33.30 -27.59  \n",
       "annualized_return_over_max_drawdown   0.32   0.30   0.29   0.29   0.37  \n",
       "drawdown_recovery_period            275.00 244.00 244.00 245.00 931.00  \n",
       "best_month                           17.78  18.01  18.01  17.99  17.79  \n",
       "worst_month                         -29.09 -29.10 -29.10 -29.10 -18.91  \n",
       "sharpe_ratio                          0.71   0.73   0.70   0.71   0.77  \n",
       "sortino_ratio                         0.80   0.82   0.80   0.80   0.89  \n",
       "monthly_std                           3.61   3.65   3.70   3.73   3.48  \n",
       "pct_time_in_market                   82.10  82.19  82.65  82.20  81.89  \n",
       "total_num_trades                     16.00  12.00  14.00  16.00  13.00  \n",
       "pct_profitable_trades                62.50  50.00  50.00  56.25  61.54  \n",
       "avg_points                           10.06  14.83  11.99  10.85  16.63  "
      ]
     },
     "execution_count": 7,
     "metadata": {},
     "output_type": "execute_result"
    }
   ],
   "source": [
    "metrics = ('annual_return_rate',\n",
    "           'max_closed_out_drawdown',\n",
    "           'annualized_return_over_max_drawdown',\n",
    "           'drawdown_recovery_period',\n",
    "           'best_month',\n",
    "           'worst_month',\n",
    "           'sharpe_ratio',\n",
    "           'sortino_ratio',\n",
    "           'monthly_std',\n",
    "           'pct_time_in_market',\n",
    "           'total_num_trades',\n",
    "           'pct_profitable_trades',\n",
    "           'avg_points')\n",
    "\n",
    "df = strategy.summary(strategies, metrics)\n",
    "df"
   ]
  },
  {
   "cell_type": "markdown",
   "metadata": {},
   "source": [
    "Bar graphs"
   ]
  },
  {
   "cell_type": "code",
   "execution_count": 8,
   "metadata": {
    "ExecuteTime": {
     "end_time": "2020-02-17T00:15:14.155474Z",
     "start_time": "2020-02-17T00:15:13.291988Z"
    }
   },
   "outputs": [
    {
     "data": {
      "image/png": "[encoded data removed]",
      "text/plain": [
       "<Figure size 720x504 with 1 Axes>"
      ]
     },
     "metadata": {
      "needs_background": "light"
     },
     "output_type": "display_data"
    },
    {
     "data": {
      "image/png": "[encoded data removed]",
      "text/plain": [
       "<Figure size 720x504 with 1 Axes>"
      ]
     },
     "metadata": {
      "needs_background": "light"
     },
     "output_type": "display_data"
    },
    {
     "data": {
      "image/png": "[encoded data removed]",
      "text/plain": [
       "<Figure size 720x504 with 1 Axes>"
      ]
     },
     "metadata": {
      "needs_background": "light"
     },
     "output_type": "display_data"
    }
   ],
   "source": [
    "strategy.plot_bar_graph(df, 'annual_return_rate')\n",
    "strategy.plot_bar_graph(df, 'sharpe_ratio')\n",
    "strategy.plot_bar_graph(df, 'max_closed_out_drawdown')"
   ]
  },
  {
   "cell_type": "markdown",
   "metadata": {},
   "source": [
    "Run Benchmark"
   ]
  },
  {
   "cell_type": "code",
   "execution_count": 9,
   "metadata": {
    "ExecuteTime": {
     "end_time": "2020-02-17T00:15:14.992411Z",
     "start_time": "2020-02-17T00:15:14.162453Z"
    }
   },
   "outputs": [],
   "source": [
    "s = strategies[periods[0]]\n",
    "benchmark = pf.Benchmark(symbol, capital, s.start, s.end)\n",
    "benchmark.run()"
   ]
  },
  {
   "cell_type": "markdown",
   "metadata": {},
   "source": [
    "Equity curve"
   ]
  },
  {
   "cell_type": "code",
   "execution_count": 10,
   "metadata": {
    "ExecuteTime": {
     "end_time": "2020-02-17T00:15:15.273801Z",
     "start_time": "2020-02-17T00:15:15.002556Z"
    }
   },
   "outputs": [
    {
     "data": {
      "image/png": "[encoded data removed]",
      "text/plain": [
       "<Figure size 720x504 with 1 Axes>"
      ]
     },
     "metadata": {
      "needs_background": "light"
     },
     "output_type": "display_data"
    }
   ],
   "source": [
    "pf.plot_equity_curve(strategies['9'].dbal, benchmark=benchmark.dbal)"
   ]
  },
  {
   "cell_type": "code",
   "execution_count": null,
   "metadata": {},
   "outputs": [],
   "source": []
  }
 ],
 "metadata": {
  "kernelspec": {
   "display_name": "Python 3",
   "language": "python",
   "name": "python3"
  },
  "language_info": {
   "codemirror_mode": {
    "name": "ipython",
    "version": 3
   },
   "file_extension": ".py",
   "mimetype": "text/x-python",
   "name": "python",
   "nbconvert_exporter": "python",
   "pygments_lexer": "ipython3",
   "version": "3.8.5"
  },
  "latex_envs": {
   "LaTeX_envs_menu_present": true,
   "autoclose": false,
   "autocomplete": true,
   "bibliofile": "biblio.bib",
   "cite_by": "apalike",
   "current_citInitial": 1,
   "eqLabelWithNumbers": true,
   "eqNumInitial": 1,
   "hotkeys": {
    "equation": "Ctrl-E",
    "itemize": "Ctrl-I"
   },
   "labels_anchors": false,
   "latex_user_defs": false,
   "report_style_numbering": false,
   "user_envs_cfg": false
  }
 },
 "nbformat": 4,
 "nbformat_minor": 1
}
