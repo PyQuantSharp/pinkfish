{
 "cells": [
  {
   "cell_type": "markdown",
   "metadata": {},
   "source": [
    "# dividends vs no-dividends\n",
    "\n",
    "compare SPY with and without dividends"
   ]
  },
  {
   "cell_type": "code",
   "execution_count": 1,
   "metadata": {
    "ExecuteTime": {
     "end_time": "2020-02-16T23:04:46.346075Z",
     "start_time": "2020-02-16T23:04:45.611359Z"
    }
   },
   "outputs": [],
   "source": [
    "import pandas as pd\n",
    "import matplotlib.pyplot as plt\n",
    "import datetime\n",
    "from talib.abstract import *\n",
    "\n",
    "import pinkfish as pf\n",
    "\n",
    "# format price data\n",
    "pd.options.display.float_format = '{:0.2f}'.format\n",
    "\n",
    "%matplotlib inline"
   ]
  },
  {
   "cell_type": "code",
   "execution_count": 2,
   "metadata": {},
   "outputs": [],
   "source": [
    "# set size of inline plots\n",
    "'''note: rcParams can't be in same cell as import matplotlib\n",
    "   or %matplotlib inline\n",
    "   \n",
    "   %matplotlib notebook: will lead to interactive plots embedded within\n",
    "   the notebook, you can zoom and resize the figure\n",
    "   \n",
    "   %matplotlib inline: only draw static images in the notebook\n",
    "'''\n",
    "plt.rcParams[\"figure.figsize\"] = (10, 7)"
   ]
  },
  {
   "cell_type": "markdown",
   "metadata": {},
   "source": [
    "Some global data"
   ]
  },
  {
   "cell_type": "code",
   "execution_count": 3,
   "metadata": {
    "ExecuteTime": {
     "end_time": "2020-02-16T23:04:46.391293Z",
     "start_time": "2020-02-16T23:04:46.382836Z"
    }
   },
   "outputs": [],
   "source": [
    "symbol = 'SPY'\n",
    "capital = 10000\n",
    "start = datetime.datetime(1900, 1, 1)\n",
    "end = datetime.datetime.now()"
   ]
  },
  {
   "cell_type": "markdown",
   "metadata": {},
   "source": [
    "Timeseries"
   ]
  },
  {
   "cell_type": "code",
   "execution_count": 4,
   "metadata": {},
   "outputs": [],
   "source": [
    "# fetch timeseries, select, finalize\n",
    "ts = pf.fetch_timeseries(symbol)\n",
    "ts = pf.select_tradeperiod(ts, start, end, use_adj=True)\n",
    "ts, start = pf.finalize_timeseries(ts, start)\n",
    "\n",
    "# create tradelog and daily balance objects\n",
    "tlog = pf.TradeLog(symbol)\n",
    "dbal = pf.DailyBal()"
   ]
  },
  {
   "cell_type": "code",
   "execution_count": 5,
   "metadata": {},
   "outputs": [
    {
     "data": {
      "text/html": [
       "<div>\n",
       "<style scoped>\n",
       "    .dataframe tbody tr th:only-of-type {\n",
       "        vertical-align: middle;\n",
       "    }\n",
       "\n",
       "    .dataframe tbody tr th {\n",
       "        vertical-align: top;\n",
       "    }\n",
       "\n",
       "    .dataframe thead th {\n",
       "        text-align: right;\n",
       "    }\n",
       "</style>\n",
       "<table border=\"1\" class=\"dataframe\">\n",
       "  <thead>\n",
       "    <tr style=\"text-align: right;\">\n",
       "      <th></th>\n",
       "      <th>high</th>\n",
       "      <th>low</th>\n",
       "      <th>open</th>\n",
       "      <th>close</th>\n",
       "      <th>volume</th>\n",
       "      <th>adj_close</th>\n",
       "    </tr>\n",
       "    <tr>\n",
       "      <th>date</th>\n",
       "      <th></th>\n",
       "      <th></th>\n",
       "      <th></th>\n",
       "      <th></th>\n",
       "      <th></th>\n",
       "      <th></th>\n",
       "    </tr>\n",
       "  </thead>\n",
       "  <tbody>\n",
       "    <tr>\n",
       "      <th>1993-01-29</th>\n",
       "      <td>26.20</td>\n",
       "      <td>26.07</td>\n",
       "      <td>26.20</td>\n",
       "      <td>26.18</td>\n",
       "      <td>1003200.00</td>\n",
       "      <td>26.18</td>\n",
       "    </tr>\n",
       "    <tr>\n",
       "      <th>1993-02-01</th>\n",
       "      <td>26.37</td>\n",
       "      <td>26.20</td>\n",
       "      <td>26.20</td>\n",
       "      <td>26.37</td>\n",
       "      <td>480500.00</td>\n",
       "      <td>26.37</td>\n",
       "    </tr>\n",
       "    <tr>\n",
       "      <th>1993-02-02</th>\n",
       "      <td>26.44</td>\n",
       "      <td>26.30</td>\n",
       "      <td>26.35</td>\n",
       "      <td>26.43</td>\n",
       "      <td>201300.00</td>\n",
       "      <td>26.43</td>\n",
       "    </tr>\n",
       "    <tr>\n",
       "      <th>1993-02-03</th>\n",
       "      <td>26.72</td>\n",
       "      <td>26.44</td>\n",
       "      <td>26.46</td>\n",
       "      <td>26.71</td>\n",
       "      <td>529400.00</td>\n",
       "      <td>26.71</td>\n",
       "    </tr>\n",
       "    <tr>\n",
       "      <th>1993-02-04</th>\n",
       "      <td>26.87</td>\n",
       "      <td>26.50</td>\n",
       "      <td>26.80</td>\n",
       "      <td>26.82</td>\n",
       "      <td>531500.00</td>\n",
       "      <td>26.82</td>\n",
       "    </tr>\n",
       "    <tr>\n",
       "      <th>...</th>\n",
       "      <td>...</td>\n",
       "      <td>...</td>\n",
       "      <td>...</td>\n",
       "      <td>...</td>\n",
       "      <td>...</td>\n",
       "      <td>...</td>\n",
       "    </tr>\n",
       "    <tr>\n",
       "      <th>2020-07-09</th>\n",
       "      <td>317.10</td>\n",
       "      <td>310.68</td>\n",
       "      <td>316.84</td>\n",
       "      <td>314.38</td>\n",
       "      <td>83354200.00</td>\n",
       "      <td>314.38</td>\n",
       "    </tr>\n",
       "    <tr>\n",
       "      <th>2020-07-10</th>\n",
       "      <td>317.88</td>\n",
       "      <td>312.76</td>\n",
       "      <td>314.31</td>\n",
       "      <td>317.59</td>\n",
       "      <td>57550400.00</td>\n",
       "      <td>317.59</td>\n",
       "    </tr>\n",
       "    <tr>\n",
       "      <th>2020-07-13</th>\n",
       "      <td>322.71</td>\n",
       "      <td>314.13</td>\n",
       "      <td>320.13</td>\n",
       "      <td>314.84</td>\n",
       "      <td>102997500.00</td>\n",
       "      <td>314.84</td>\n",
       "    </tr>\n",
       "    <tr>\n",
       "      <th>2020-07-14</th>\n",
       "      <td>319.76</td>\n",
       "      <td>312.00</td>\n",
       "      <td>313.30</td>\n",
       "      <td>318.92</td>\n",
       "      <td>93657000.00</td>\n",
       "      <td>318.92</td>\n",
       "    </tr>\n",
       "    <tr>\n",
       "      <th>2020-07-15</th>\n",
       "      <td>323.04</td>\n",
       "      <td>319.27</td>\n",
       "      <td>322.41</td>\n",
       "      <td>321.85</td>\n",
       "      <td>86896400.00</td>\n",
       "      <td>321.85</td>\n",
       "    </tr>\n",
       "  </tbody>\n",
       "</table>\n",
       "<p>6915 rows × 6 columns</p>\n",
       "</div>"
      ],
      "text/plain": [
       "             high    low   open  close       volume  adj_close\n",
       "date                                                          \n",
       "1993-01-29  26.20  26.07  26.20  26.18   1003200.00      26.18\n",
       "1993-02-01  26.37  26.20  26.20  26.37    480500.00      26.37\n",
       "1993-02-02  26.44  26.30  26.35  26.43    201300.00      26.43\n",
       "1993-02-03  26.72  26.44  26.46  26.71    529400.00      26.71\n",
       "1993-02-04  26.87  26.50  26.80  26.82    531500.00      26.82\n",
       "...           ...    ...    ...    ...          ...        ...\n",
       "2020-07-09 317.10 310.68 316.84 314.38  83354200.00     314.38\n",
       "2020-07-10 317.88 312.76 314.31 317.59  57550400.00     317.59\n",
       "2020-07-13 322.71 314.13 320.13 314.84 102997500.00     314.84\n",
       "2020-07-14 319.76 312.00 313.30 318.92  93657000.00     318.92\n",
       "2020-07-15 323.04 319.27 322.41 321.85  86896400.00     321.85\n",
       "\n",
       "[6915 rows x 6 columns]"
      ]
     },
     "execution_count": 5,
     "metadata": {},
     "output_type": "execute_result"
    }
   ],
   "source": [
    "ts"
   ]
  },
  {
   "cell_type": "markdown",
   "metadata": {},
   "source": [
    "Algorithm"
   ]
  },
  {
   "cell_type": "code",
   "execution_count": 6,
   "metadata": {
    "ExecuteTime": {
     "end_time": "2020-02-16T23:04:46.487324Z",
     "start_time": "2020-02-16T23:04:46.397308Z"
    }
   },
   "outputs": [],
   "source": [
    "pf.TradeLog.cash = capital\n",
    "\n",
    "# loop through timeseries\n",
    "for i, row in enumerate(ts.itertuples()):\n",
    "\n",
    "    date = row.Index.to_pydatetime()\n",
    "    end_flag = pf.is_last_row(ts, i)\n",
    "\n",
    "    # buy\n",
    "    if tlog.shares == 0:\n",
    "        tlog.buy(date, row.close)\n",
    "    # sell\n",
    "    elif end_flag:\n",
    "        tlog.sell(date, row.close)\n",
    "\n",
    "    # record daily balance\n",
    "    dbal.append(date, row.high, row.low, row.close)"
   ]
  },
  {
   "cell_type": "markdown",
   "metadata": {},
   "source": [
    "Retrieve logs and get stats"
   ]
  },
  {
   "cell_type": "code",
   "execution_count": 7,
   "metadata": {
    "ExecuteTime": {
     "end_time": "2020-02-16T23:04:48.667996Z",
     "start_time": "2020-02-16T23:04:46.790740Z"
    }
   },
   "outputs": [],
   "source": [
    "tlog = tlog.get_log()\n",
    "dbal = dbal.get_log(tlog)\n",
    "stats = pf.stats(ts, tlog, dbal, capital)"
   ]
  },
  {
   "cell_type": "markdown",
   "metadata": {},
   "source": [
    "Benchmark: Run, retrieve logs, generate stats"
   ]
  },
  {
   "cell_type": "code",
   "execution_count": 8,
   "metadata": {},
   "outputs": [
    {
     "name": "stdout",
     "output_type": "stream",
     "text": [
      "1993-01-29 00:00:00 BUY  227 SPY @ 43.94\n",
      "2020-07-15 00:00:00 SELL 227 SPY @ 321.85\n"
     ]
    }
   ],
   "source": [
    "benchmark = pf.Benchmark(symbol, capital, start, end, use_adj=False)\n",
    "benchmark.run()\n",
    "benchmark.tlog, benchmark.dbal = benchmark.get_logs()\n",
    "benchmark.stats = benchmark.get_stats()"
   ]
  },
  {
   "cell_type": "markdown",
   "metadata": {},
   "source": [
    "Plot Equity Curves: Dividends (strategy) vs No-Dividends (benchmark)"
   ]
  },
  {
   "cell_type": "code",
   "execution_count": 9,
   "metadata": {},
   "outputs": [
    {
     "data": {
      "image/png": "[encoded data removed]",
      "text/plain": [
       "<Figure size 720x504 with 1 Axes>"
      ]
     },
     "metadata": {
      "needs_background": "light"
     },
     "output_type": "display_data"
    }
   ],
   "source": [
    "pf.plot_equity_curve(dbal, benchmark=benchmark.dbal)"
   ]
  },
  {
   "cell_type": "markdown",
   "metadata": {},
   "source": [
    "Dividends (strategy) vs No-Dividends (benchmark)"
   ]
  },
  {
   "cell_type": "code",
   "execution_count": 10,
   "metadata": {},
   "outputs": [
    {
     "data": {
      "text/html": [
       "<div>\n",
       "<style scoped>\n",
       "    .dataframe tbody tr th:only-of-type {\n",
       "        vertical-align: middle;\n",
       "    }\n",
       "\n",
       "    .dataframe tbody tr th {\n",
       "        vertical-align: top;\n",
       "    }\n",
       "\n",
       "    .dataframe thead th {\n",
       "        text-align: right;\n",
       "    }\n",
       "</style>\n",
       "<table border=\"1\" class=\"dataframe\">\n",
       "  <thead>\n",
       "    <tr style=\"text-align: right;\">\n",
       "      <th></th>\n",
       "      <th>strategy</th>\n",
       "      <th>benchmark</th>\n",
       "    </tr>\n",
       "  </thead>\n",
       "  <tbody>\n",
       "    <tr>\n",
       "      <th>beginning_balance</th>\n",
       "      <td>$10,000.00</td>\n",
       "      <td>$10,000.00</td>\n",
       "    </tr>\n",
       "    <tr>\n",
       "      <th>ending_balance</th>\n",
       "      <td>$122,648.73</td>\n",
       "      <td>$73,086.14</td>\n",
       "    </tr>\n",
       "    <tr>\n",
       "      <th>total_net_profit</th>\n",
       "      <td>$112,648.73</td>\n",
       "      <td>$63,086.14</td>\n",
       "    </tr>\n",
       "    <tr>\n",
       "      <th>gross_profit</th>\n",
       "      <td>$112,648.73</td>\n",
       "      <td>$63,086.14</td>\n",
       "    </tr>\n",
       "    <tr>\n",
       "      <th>gross_loss</th>\n",
       "      <td>$0.00</td>\n",
       "      <td>$0.00</td>\n",
       "    </tr>\n",
       "  </tbody>\n",
       "</table>\n",
       "</div>"
      ],
      "text/plain": [
       "                      strategy   benchmark\n",
       "beginning_balance   $10,000.00  $10,000.00\n",
       "ending_balance     $122,648.73  $73,086.14\n",
       "total_net_profit   $112,648.73  $63,086.14\n",
       "gross_profit       $112,648.73  $63,086.14\n",
       "gross_loss               $0.00       $0.00"
      ]
     },
     "execution_count": 10,
     "metadata": {},
     "output_type": "execute_result"
    }
   ],
   "source": [
    "df = pf.summary(stats, benchmark.stats, metrics=pf.currency_metrics)\n",
    "df"
   ]
  },
  {
   "cell_type": "code",
   "execution_count": 11,
   "metadata": {},
   "outputs": [
    {
     "data": {
      "text/html": [
       "<div>\n",
       "<style scoped>\n",
       "    .dataframe tbody tr th:only-of-type {\n",
       "        vertical-align: middle;\n",
       "    }\n",
       "\n",
       "    .dataframe tbody tr th {\n",
       "        vertical-align: top;\n",
       "    }\n",
       "\n",
       "    .dataframe thead th {\n",
       "        text-align: right;\n",
       "    }\n",
       "</style>\n",
       "<table border=\"1\" class=\"dataframe\">\n",
       "  <thead>\n",
       "    <tr style=\"text-align: right;\">\n",
       "      <th></th>\n",
       "      <th>strategy</th>\n",
       "      <th>benchmark</th>\n",
       "    </tr>\n",
       "  </thead>\n",
       "  <tbody>\n",
       "    <tr>\n",
       "      <th>annual_return_rate</th>\n",
       "      <td>9.56</td>\n",
       "      <td>7.51</td>\n",
       "    </tr>\n",
       "    <tr>\n",
       "      <th>max_closed_out_drawdown</th>\n",
       "      <td>-55.16</td>\n",
       "      <td>-56.43</td>\n",
       "    </tr>\n",
       "    <tr>\n",
       "      <th>drawdown_annualized_return</th>\n",
       "      <td>-5.77</td>\n",
       "      <td>-7.51</td>\n",
       "    </tr>\n",
       "    <tr>\n",
       "      <th>drawdown_recovery</th>\n",
       "      <td>-1.42</td>\n",
       "      <td>-1.42</td>\n",
       "    </tr>\n",
       "    <tr>\n",
       "      <th>best_month</th>\n",
       "      <td>23.59</td>\n",
       "      <td>23.06</td>\n",
       "    </tr>\n",
       "    <tr>\n",
       "      <th>worst_month</th>\n",
       "      <td>-30.98</td>\n",
       "      <td>-31.38</td>\n",
       "    </tr>\n",
       "    <tr>\n",
       "      <th>sharpe_ratio</th>\n",
       "      <td>0.58</td>\n",
       "      <td>0.48</td>\n",
       "    </tr>\n",
       "    <tr>\n",
       "      <th>sortino_ratio</th>\n",
       "      <td>0.73</td>\n",
       "      <td>0.61</td>\n",
       "    </tr>\n",
       "    <tr>\n",
       "      <th>monthly_std</th>\n",
       "      <td>4.49</td>\n",
       "      <td>4.49</td>\n",
       "    </tr>\n",
       "    <tr>\n",
       "      <th>avg_month</th>\n",
       "      <td>0.82</td>\n",
       "      <td>0.67</td>\n",
       "    </tr>\n",
       "  </tbody>\n",
       "</table>\n",
       "</div>"
      ],
      "text/plain": [
       "                            strategy  benchmark\n",
       "annual_return_rate              9.56       7.51\n",
       "max_closed_out_drawdown       -55.16     -56.43\n",
       "drawdown_annualized_return     -5.77      -7.51\n",
       "drawdown_recovery              -1.42      -1.42\n",
       "best_month                     23.59      23.06\n",
       "worst_month                   -30.98     -31.38\n",
       "sharpe_ratio                    0.58       0.48\n",
       "sortino_ratio                   0.73       0.61\n",
       "monthly_std                     4.49       4.49\n",
       "avg_month                       0.82       0.67"
      ]
     },
     "execution_count": 11,
     "metadata": {},
     "output_type": "execute_result"
    },
    {
     "data": {
      "image/png": "[encoded data removed]",
      "text/plain": [
       "<Figure size 720x504 with 1 Axes>"
      ]
     },
     "metadata": {
      "needs_background": "light"
     },
     "output_type": "display_data"
    }
   ],
   "source": [
    "extras = ('avg_month',)\n",
    "\n",
    "df = pf.plot_bar_graph(stats, benchmark.stats, extras=extras)\n",
    "df"
   ]
  }
 ],
 "metadata": {
  "kernelspec": {
   "display_name": "Python 3",
   "language": "python",
   "name": "python3"
  },
  "language_info": {
   "codemirror_mode": {
    "name": "ipython",
    "version": 3
   },
   "file_extension": ".py",
   "mimetype": "text/x-python",
   "name": "python",
   "nbconvert_exporter": "python",
   "pygments_lexer": "ipython3",
   "version": "3.8.5"
  },
  "latex_envs": {
   "LaTeX_envs_menu_present": true,
   "autoclose": false,
   "autocomplete": true,
   "bibliofile": "biblio.bib",
   "cite_by": "apalike",
   "current_citInitial": 1,
   "eqLabelWithNumbers": true,
   "eqNumInitial": 1,
   "hotkeys": {
    "equation": "Ctrl-E",
    "itemize": "Ctrl-I"
   },
   "labels_anchors": false,
   "latex_user_defs": false,
   "report_style_numbering": false,
   "user_envs_cfg": false
  }
 },
 "nbformat": 4,
 "nbformat_minor": 1
}
