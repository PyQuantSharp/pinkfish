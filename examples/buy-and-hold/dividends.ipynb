{
 "cells": [
  {
   "cell_type": "markdown",
   "metadata": {},
   "source": [
    "# dividends vs no-dividends\n",
    "\n",
    "compare SPY with and without dividends"
   ]
  },
  {
   "cell_type": "code",
   "execution_count": 1,
   "metadata": {
    "ExecuteTime": {
     "end_time": "2020-02-16T23:04:46.346075Z",
     "start_time": "2020-02-16T23:04:45.611359Z"
    }
   },
   "outputs": [],
   "source": [
    "import pandas as pd\n",
    "import matplotlib.pyplot as plt\n",
    "import datetime\n",
    "from talib.abstract import *\n",
    "\n",
    "import pinkfish as pf\n",
    "\n",
    "# format price data\n",
    "pd.options.display.float_format = '{:0.2f}'.format\n",
    "\n",
    "%matplotlib inline"
   ]
  },
  {
   "cell_type": "code",
   "execution_count": 2,
   "metadata": {},
   "outputs": [],
   "source": [
    "# set size of inline plots\n",
    "'''note: rcParams can't be in same cell as import matplotlib\n",
    "   or %matplotlib inline\n",
    "   \n",
    "   %matplotlib notebook: will lead to interactive plots embedded within\n",
    "   the notebook, you can zoom and resize the figure\n",
    "   \n",
    "   %matplotlib inline: only draw static images in the notebook\n",
    "'''\n",
    "plt.rcParams[\"figure.figsize\"] = (10, 7)"
   ]
  },
  {
   "cell_type": "markdown",
   "metadata": {},
   "source": [
    "Some global data"
   ]
  },
  {
   "cell_type": "code",
   "execution_count": 3,
   "metadata": {
    "ExecuteTime": {
     "end_time": "2020-02-16T23:04:46.391293Z",
     "start_time": "2020-02-16T23:04:46.382836Z"
    }
   },
   "outputs": [],
   "source": [
    "symbol = 'SPY'\n",
    "capital = 10000\n",
    "start = datetime.datetime(1900, 1, 1)\n",
    "end = datetime.datetime.now()"
   ]
  },
  {
   "cell_type": "markdown",
   "metadata": {},
   "source": [
    "Timeseries"
   ]
  },
  {
   "cell_type": "code",
   "execution_count": 4,
   "metadata": {},
   "outputs": [],
   "source": [
    "# fetch timeseries, select, finalize\n",
    "ts = pf.fetch_timeseries(symbol)\n",
    "ts = pf.select_tradeperiod(ts, start, end, use_adj=True)\n",
    "ts, start = pf.finalize_timeseries(ts, start)\n",
    "\n",
    "# create tradelog and daily balance objects\n",
    "tlog = pf.TradeLog(symbol)\n",
    "dbal = pf.DailyBal()"
   ]
  },
  {
   "cell_type": "code",
   "execution_count": 5,
   "metadata": {},
   "outputs": [
    {
     "data": {
      "text/html": [
       "<div>\n",
       "<style scoped>\n",
       "    .dataframe tbody tr th:only-of-type {\n",
       "        vertical-align: middle;\n",
       "    }\n",
       "\n",
       "    .dataframe tbody tr th {\n",
       "        vertical-align: top;\n",
       "    }\n",
       "\n",
       "    .dataframe thead th {\n",
       "        text-align: right;\n",
       "    }\n",
       "</style>\n",
       "<table border=\"1\" class=\"dataframe\">\n",
       "  <thead>\n",
       "    <tr style=\"text-align: right;\">\n",
       "      <th></th>\n",
       "      <th>high</th>\n",
       "      <th>low</th>\n",
       "      <th>open</th>\n",
       "      <th>close</th>\n",
       "      <th>volume</th>\n",
       "      <th>adj_close</th>\n",
       "    </tr>\n",
       "    <tr>\n",
       "      <th>date</th>\n",
       "      <th></th>\n",
       "      <th></th>\n",
       "      <th></th>\n",
       "      <th></th>\n",
       "      <th></th>\n",
       "      <th></th>\n",
       "    </tr>\n",
       "  </thead>\n",
       "  <tbody>\n",
       "    <tr>\n",
       "      <th>1993-01-29</th>\n",
       "      <td>25.90</td>\n",
       "      <td>25.77</td>\n",
       "      <td>25.90</td>\n",
       "      <td>25.88</td>\n",
       "      <td>1003200.00</td>\n",
       "      <td>25.88</td>\n",
       "    </tr>\n",
       "    <tr>\n",
       "      <th>1993-02-01</th>\n",
       "      <td>26.07</td>\n",
       "      <td>25.90</td>\n",
       "      <td>25.90</td>\n",
       "      <td>26.07</td>\n",
       "      <td>480500.00</td>\n",
       "      <td>26.07</td>\n",
       "    </tr>\n",
       "    <tr>\n",
       "      <th>1993-02-02</th>\n",
       "      <td>26.14</td>\n",
       "      <td>25.99</td>\n",
       "      <td>26.05</td>\n",
       "      <td>26.12</td>\n",
       "      <td>201300.00</td>\n",
       "      <td>26.12</td>\n",
       "    </tr>\n",
       "    <tr>\n",
       "      <th>1993-02-03</th>\n",
       "      <td>26.42</td>\n",
       "      <td>26.14</td>\n",
       "      <td>26.16</td>\n",
       "      <td>26.40</td>\n",
       "      <td>529400.00</td>\n",
       "      <td>26.40</td>\n",
       "    </tr>\n",
       "    <tr>\n",
       "      <th>1993-02-04</th>\n",
       "      <td>26.57</td>\n",
       "      <td>26.20</td>\n",
       "      <td>26.49</td>\n",
       "      <td>26.51</td>\n",
       "      <td>531500.00</td>\n",
       "      <td>26.51</td>\n",
       "    </tr>\n",
       "    <tr>\n",
       "      <th>...</th>\n",
       "      <td>...</td>\n",
       "      <td>...</td>\n",
       "      <td>...</td>\n",
       "      <td>...</td>\n",
       "      <td>...</td>\n",
       "      <td>...</td>\n",
       "    </tr>\n",
       "    <tr>\n",
       "      <th>2021-03-22</th>\n",
       "      <td>394.07</td>\n",
       "      <td>389.97</td>\n",
       "      <td>390.03</td>\n",
       "      <td>392.59</td>\n",
       "      <td>73778600.00</td>\n",
       "      <td>392.59</td>\n",
       "    </tr>\n",
       "    <tr>\n",
       "      <th>2021-03-23</th>\n",
       "      <td>393.46</td>\n",
       "      <td>388.66</td>\n",
       "      <td>391.91</td>\n",
       "      <td>389.50</td>\n",
       "      <td>90686600.00</td>\n",
       "      <td>389.50</td>\n",
       "    </tr>\n",
       "    <tr>\n",
       "      <th>2021-03-24</th>\n",
       "      <td>392.75</td>\n",
       "      <td>387.47</td>\n",
       "      <td>391.00</td>\n",
       "      <td>387.52</td>\n",
       "      <td>97588600.00</td>\n",
       "      <td>387.52</td>\n",
       "    </tr>\n",
       "    <tr>\n",
       "      <th>2021-03-25</th>\n",
       "      <td>390.55</td>\n",
       "      <td>383.90</td>\n",
       "      <td>385.98</td>\n",
       "      <td>389.70</td>\n",
       "      <td>116128600.00</td>\n",
       "      <td>389.70</td>\n",
       "    </tr>\n",
       "    <tr>\n",
       "      <th>2021-03-26</th>\n",
       "      <td>396.41</td>\n",
       "      <td>390.29</td>\n",
       "      <td>390.93</td>\n",
       "      <td>395.98</td>\n",
       "      <td>113023400.00</td>\n",
       "      <td>395.98</td>\n",
       "    </tr>\n",
       "  </tbody>\n",
       "</table>\n",
       "<p>7091 rows × 6 columns</p>\n",
       "</div>"
      ],
      "text/plain": [
       "             high    low   open  close       volume  adj_close\n",
       "date                                                          \n",
       "1993-01-29  25.90  25.77  25.90  25.88   1003200.00      25.88\n",
       "1993-02-01  26.07  25.90  25.90  26.07    480500.00      26.07\n",
       "1993-02-02  26.14  25.99  26.05  26.12    201300.00      26.12\n",
       "1993-02-03  26.42  26.14  26.16  26.40    529400.00      26.40\n",
       "1993-02-04  26.57  26.20  26.49  26.51    531500.00      26.51\n",
       "...           ...    ...    ...    ...          ...        ...\n",
       "2021-03-22 394.07 389.97 390.03 392.59  73778600.00     392.59\n",
       "2021-03-23 393.46 388.66 391.91 389.50  90686600.00     389.50\n",
       "2021-03-24 392.75 387.47 391.00 387.52  97588600.00     387.52\n",
       "2021-03-25 390.55 383.90 385.98 389.70 116128600.00     389.70\n",
       "2021-03-26 396.41 390.29 390.93 395.98 113023400.00     395.98\n",
       "\n",
       "[7091 rows x 6 columns]"
      ]
     },
     "execution_count": 5,
     "metadata": {},
     "output_type": "execute_result"
    }
   ],
   "source": [
    "ts"
   ]
  },
  {
   "cell_type": "markdown",
   "metadata": {},
   "source": [
    "Algorithm"
   ]
  },
  {
   "cell_type": "code",
   "execution_count": 6,
   "metadata": {
    "ExecuteTime": {
     "end_time": "2020-02-16T23:04:46.487324Z",
     "start_time": "2020-02-16T23:04:46.397308Z"
    }
   },
   "outputs": [],
   "source": [
    "pf.TradeLog.cash = capital\n",
    "\n",
    "# loop through timeseries\n",
    "for i, row in enumerate(ts.itertuples()):\n",
    "\n",
    "    date = row.Index.to_pydatetime()\n",
    "    end_flag = pf.is_last_row(ts, i)\n",
    "\n",
    "    # buy\n",
    "    if tlog.shares == 0:\n",
    "        tlog.buy(date, row.close)\n",
    "    # sell\n",
    "    elif end_flag:\n",
    "        tlog.sell(date, row.close)\n",
    "\n",
    "    # record daily balance\n",
    "    dbal.append(date, row.high, row.low, row.close)"
   ]
  },
  {
   "cell_type": "markdown",
   "metadata": {},
   "source": [
    "Retrieve logs and get stats"
   ]
  },
  {
   "cell_type": "code",
   "execution_count": 7,
   "metadata": {
    "ExecuteTime": {
     "end_time": "2020-02-16T23:04:48.667996Z",
     "start_time": "2020-02-16T23:04:46.790740Z"
    }
   },
   "outputs": [],
   "source": [
    "tlog = tlog.get_log()\n",
    "dbal = dbal.get_log(tlog)\n",
    "stats = pf.stats(ts, tlog, dbal, capital)"
   ]
  },
  {
   "cell_type": "markdown",
   "metadata": {},
   "source": [
    "Benchmark: Run, retrieve logs, generate stats"
   ]
  },
  {
   "cell_type": "code",
   "execution_count": 8,
   "metadata": {},
   "outputs": [],
   "source": [
    "benchmark = pf.Benchmark(symbol, capital, start, end, use_adj=False)\n",
    "benchmark.run()"
   ]
  },
  {
   "cell_type": "markdown",
   "metadata": {},
   "source": [
    "Plot Equity Curves: Dividends (strategy) vs No-Dividends (benchmark)"
   ]
  },
  {
   "cell_type": "code",
   "execution_count": 9,
   "metadata": {},
   "outputs": [
    {
     "data": {
      "image/png": "[encoded data removed]",
      "text/plain": [
       "<Figure size 720x504 with 1 Axes>"
      ]
     },
     "metadata": {
      "needs_background": "light"
     },
     "output_type": "display_data"
    }
   ],
   "source": [
    "pf.plot_equity_curve(dbal, benchmark=benchmark.dbal, fname='equity_curve.png')"
   ]
  },
  {
   "cell_type": "markdown",
   "metadata": {},
   "source": [
    "Dividends (strategy) vs No-Dividends (benchmark)"
   ]
  },
  {
   "cell_type": "code",
   "execution_count": 10,
   "metadata": {},
   "outputs": [
    {
     "data": {
      "text/html": [
       "<div>\n",
       "<style scoped>\n",
       "    .dataframe tbody tr th:only-of-type {\n",
       "        vertical-align: middle;\n",
       "    }\n",
       "\n",
       "    .dataframe tbody tr th {\n",
       "        vertical-align: top;\n",
       "    }\n",
       "\n",
       "    .dataframe thead th {\n",
       "        text-align: right;\n",
       "    }\n",
       "</style>\n",
       "<table border=\"1\" class=\"dataframe\">\n",
       "  <thead>\n",
       "    <tr style=\"text-align: right;\">\n",
       "      <th></th>\n",
       "      <th>strategy</th>\n",
       "      <th>benchmark</th>\n",
       "    </tr>\n",
       "  </thead>\n",
       "  <tbody>\n",
       "    <tr>\n",
       "      <th>beginning_balance</th>\n",
       "      <td>$10,000.00</td>\n",
       "      <td>$10,000.00</td>\n",
       "    </tr>\n",
       "    <tr>\n",
       "      <th>ending_balance</th>\n",
       "      <td>$152,856.99</td>\n",
       "      <td>$89,913.65</td>\n",
       "    </tr>\n",
       "    <tr>\n",
       "      <th>total_net_profit</th>\n",
       "      <td>$142,856.99</td>\n",
       "      <td>$79,913.65</td>\n",
       "    </tr>\n",
       "    <tr>\n",
       "      <th>gross_profit</th>\n",
       "      <td>$142,856.99</td>\n",
       "      <td>$79,913.65</td>\n",
       "    </tr>\n",
       "    <tr>\n",
       "      <th>gross_loss</th>\n",
       "      <td>$0.00</td>\n",
       "      <td>$0.00</td>\n",
       "    </tr>\n",
       "  </tbody>\n",
       "</table>\n",
       "</div>"
      ],
      "text/plain": [
       "                      strategy   benchmark\n",
       "beginning_balance   $10,000.00  $10,000.00\n",
       "ending_balance     $152,856.99  $89,913.65\n",
       "total_net_profit   $142,856.99  $79,913.65\n",
       "gross_profit       $142,856.99  $79,913.65\n",
       "gross_loss               $0.00       $0.00"
      ]
     },
     "execution_count": 10,
     "metadata": {},
     "output_type": "execute_result"
    }
   ],
   "source": [
    "pf.summary(stats, benchmark.stats, metrics=pf.currency_metrics)"
   ]
  },
  {
   "cell_type": "code",
   "execution_count": 11,
   "metadata": {},
   "outputs": [
    {
     "data": {
      "text/html": [
       "<div>\n",
       "<style scoped>\n",
       "    .dataframe tbody tr th:only-of-type {\n",
       "        vertical-align: middle;\n",
       "    }\n",
       "\n",
       "    .dataframe tbody tr th {\n",
       "        vertical-align: top;\n",
       "    }\n",
       "\n",
       "    .dataframe thead th {\n",
       "        text-align: right;\n",
       "    }\n",
       "</style>\n",
       "<table border=\"1\" class=\"dataframe\">\n",
       "  <thead>\n",
       "    <tr style=\"text-align: right;\">\n",
       "      <th></th>\n",
       "      <th>strategy</th>\n",
       "      <th>benchmark</th>\n",
       "    </tr>\n",
       "  </thead>\n",
       "  <tbody>\n",
       "    <tr>\n",
       "      <th>annual_return_rate</th>\n",
       "      <td>10.17</td>\n",
       "      <td>8.11</td>\n",
       "    </tr>\n",
       "    <tr>\n",
       "      <th>max_closed_out_drawdown</th>\n",
       "      <td>-55.18</td>\n",
       "      <td>-56.43</td>\n",
       "    </tr>\n",
       "    <tr>\n",
       "      <th>annualized_return_over_max_drawdown</th>\n",
       "      <td>0.18</td>\n",
       "      <td>0.14</td>\n",
       "    </tr>\n",
       "    <tr>\n",
       "      <th>best_month</th>\n",
       "      <td>23.61</td>\n",
       "      <td>23.06</td>\n",
       "    </tr>\n",
       "    <tr>\n",
       "      <th>worst_month</th>\n",
       "      <td>-30.98</td>\n",
       "      <td>-31.38</td>\n",
       "    </tr>\n",
       "    <tr>\n",
       "      <th>sharpe_ratio</th>\n",
       "      <td>0.61</td>\n",
       "      <td>0.51</td>\n",
       "    </tr>\n",
       "    <tr>\n",
       "      <th>sortino_ratio</th>\n",
       "      <td>0.77</td>\n",
       "      <td>0.64</td>\n",
       "    </tr>\n",
       "    <tr>\n",
       "      <th>monthly_std</th>\n",
       "      <td>4.47</td>\n",
       "      <td>4.47</td>\n",
       "    </tr>\n",
       "    <tr>\n",
       "      <th>annual_std</th>\n",
       "      <td>16.71</td>\n",
       "      <td>16.36</td>\n",
       "    </tr>\n",
       "    <tr>\n",
       "      <th>avg_month</th>\n",
       "      <td>0.87</td>\n",
       "      <td>0.72</td>\n",
       "    </tr>\n",
       "  </tbody>\n",
       "</table>\n",
       "</div>"
      ],
      "text/plain": [
       "                                     strategy  benchmark\n",
       "annual_return_rate                      10.17       8.11\n",
       "max_closed_out_drawdown                -55.18     -56.43\n",
       "annualized_return_over_max_drawdown      0.18       0.14\n",
       "best_month                              23.61      23.06\n",
       "worst_month                            -30.98     -31.38\n",
       "sharpe_ratio                             0.61       0.51\n",
       "sortino_ratio                            0.77       0.64\n",
       "monthly_std                              4.47       4.47\n",
       "annual_std                              16.71      16.36\n",
       "avg_month                                0.87       0.72"
      ]
     },
     "execution_count": 11,
     "metadata": {},
     "output_type": "execute_result"
    },
    {
     "data": {
      "image/png": "[encoded data removed]",
      "text/plain": [
       "<Figure size 720x504 with 1 Axes>"
      ]
     },
     "metadata": {
      "needs_background": "light"
     },
     "output_type": "display_data"
    }
   ],
   "source": [
    "pf.plot_bar_graph(stats, benchmark.stats, extras=('avg_month',))"
   ]
  },
  {
   "cell_type": "code",
   "execution_count": null,
   "metadata": {},
   "outputs": [],
   "source": []
  }
 ],
 "metadata": {
  "kernelspec": {
   "display_name": "Python 3",
   "language": "python",
   "name": "python3"
  },
  "language_info": {
   "codemirror_mode": {
    "name": "ipython",
    "version": 3
   },
   "file_extension": ".py",
   "mimetype": "text/x-python",
   "name": "python",
   "nbconvert_exporter": "python",
   "pygments_lexer": "ipython3",
   "version": "3.8.5"
  },
  "latex_envs": {
   "LaTeX_envs_menu_present": true,
   "autoclose": false,
   "autocomplete": true,
   "bibliofile": "biblio.bib",
   "cite_by": "apalike",
   "current_citInitial": 1,
   "eqLabelWithNumbers": true,
   "eqNumInitial": 1,
   "hotkeys": {
    "equation": "Ctrl-E",
    "itemize": "Ctrl-I"
   },
   "labels_anchors": false,
   "latex_user_defs": false,
   "report_style_numbering": false,
   "user_envs_cfg": false
  }
 },
 "nbformat": 4,
 "nbformat_minor": 1
}
