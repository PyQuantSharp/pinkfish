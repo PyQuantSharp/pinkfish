{
 "cells": [
  {
   "cell_type": "markdown",
   "metadata": {},
   "source": [
    "# SMA Percent Band\n",
    "\n",
    "Demonstrate integration of pinkfish with the quantopian empyrical library  \n",
    "https://github.com/quantopian/empyrical\n",
    "\n",
    "    1. The SPY closes above its upper band, buy\n",
    "    2. If the SPY closes below its lower band, sell your long position."
   ]
  },
  {
   "cell_type": "code",
   "execution_count": 11,
   "metadata": {
    "ExecuteTime": {
     "end_time": "2020-02-17T03:20:52.849124Z",
     "start_time": "2020-02-17T03:20:50.861766Z"
    }
   },
   "outputs": [],
   "source": [
    "import pandas as pd\n",
    "import matplotlib.pyplot as plt\n",
    "import datetime\n",
    "from talib.abstract import *\n",
    "import empyrical as em\n",
    "\n",
    "import pinkfish as pf\n",
    "import strategy\n",
    "\n",
    "# format price data\n",
    "pd.options.display.float_format = '{:0.2f}'.format\n",
    "\n",
    "%matplotlib inline"
   ]
  },
  {
   "cell_type": "code",
   "execution_count": 12,
   "metadata": {
    "ExecuteTime": {
     "end_time": "2020-02-17T03:20:52.874036Z",
     "start_time": "2020-02-17T03:20:52.864635Z"
    }
   },
   "outputs": [],
   "source": [
    "# set size of inline plots\n",
    "'''note: rcParams can't be in same cell as import matplotlib\n",
    "   or %matplotlib inline\n",
    "   \n",
    "   %matplotlib notebook: will lead to interactive plots embedded within\n",
    "   the notebook, you can zoom and resize the figure\n",
    "   \n",
    "   %matplotlib inline: only draw static images in the notebook\n",
    "'''\n",
    "plt.rcParams[\"figure.figsize\"] = (10, 7)"
   ]
  },
  {
   "cell_type": "markdown",
   "metadata": {},
   "source": [
    "Some global data"
   ]
  },
  {
   "cell_type": "code",
   "execution_count": 13,
   "metadata": {
    "ExecuteTime": {
     "end_time": "2020-02-17T03:20:52.899065Z",
     "start_time": "2020-02-17T03:20:52.881301Z"
    }
   },
   "outputs": [],
   "source": [
    "symbol = '^GSPC'\n",
    "#symbol = 'SPY'\n",
    "#symbol = 'DJA'\n",
    "#symbol = 'DIA'\n",
    "#symbol = 'QQQ'\n",
    "#symbol = 'IWM'\n",
    "#symbol = 'TLT'\n",
    "#symbol = 'GLD'\n",
    "#symbol = 'AAPL'\n",
    "#symbol = 'BBRY'\n",
    "#symbol = 'GDX'\n",
    "capital = 10000\n",
    "#start = datetime.datetime(1900, 1, 1)\n",
    "start = datetime.datetime.strptime(pf.SP500_BEGIN, '%Y-%m-%d')\n",
    "end = datetime.datetime.now()"
   ]
  },
  {
   "cell_type": "markdown",
   "metadata": {},
   "source": [
    "Include dividends? (If yes, set to True)"
   ]
  },
  {
   "cell_type": "code",
   "execution_count": 14,
   "metadata": {
    "ExecuteTime": {
     "end_time": "2020-02-17T03:20:52.916856Z",
     "start_time": "2020-02-17T03:20:52.905265Z"
    }
   },
   "outputs": [],
   "source": [
    "use_adj = True"
   ]
  },
  {
   "cell_type": "markdown",
   "metadata": {},
   "source": [
    "Define high low trade periods"
   ]
  },
  {
   "cell_type": "code",
   "execution_count": 15,
   "metadata": {
    "ExecuteTime": {
     "end_time": "2020-02-17T03:20:52.936075Z",
     "start_time": "2020-02-17T03:20:52.927211Z"
    }
   },
   "outputs": [],
   "source": [
    "sma_period = 200\n",
    "percent_band = 3.5"
   ]
  },
  {
   "cell_type": "markdown",
   "metadata": {},
   "source": [
    "Run Strategy"
   ]
  },
  {
   "cell_type": "code",
   "execution_count": 16,
   "metadata": {
    "ExecuteTime": {
     "end_time": "2020-02-17T03:20:53.547008Z",
     "start_time": "2020-02-17T03:20:52.943208Z"
    },
    "scrolled": true
   },
   "outputs": [],
   "source": [
    "s = strategy.Strategy(symbol, capital, start, end, use_adj, sma_period, percent_band)\n",
    "s.run()"
   ]
  },
  {
   "cell_type": "markdown",
   "metadata": {},
   "source": [
    "Retrieve log DataFrames"
   ]
  },
  {
   "cell_type": "code",
   "execution_count": 17,
   "metadata": {
    "ExecuteTime": {
     "end_time": "2020-02-17T03:20:57.089863Z",
     "start_time": "2020-02-17T03:20:53.554517Z"
    }
   },
   "outputs": [],
   "source": [
    "rlog, tlog, dbal = s.get_logs()\n",
    "stats = s.get_stats()"
   ]
  },
  {
   "cell_type": "code",
   "execution_count": 18,
   "metadata": {
    "ExecuteTime": {
     "end_time": "2020-02-17T03:20:57.167941Z",
     "start_time": "2020-02-17T03:20:57.097214Z"
    }
   },
   "outputs": [
    {
     "data": {
      "text/html": [
       "<div>\n",
       "<style scoped>\n",
       "    .dataframe tbody tr th:only-of-type {\n",
       "        vertical-align: middle;\n",
       "    }\n",
       "\n",
       "    .dataframe tbody tr th {\n",
       "        vertical-align: top;\n",
       "    }\n",
       "\n",
       "    .dataframe thead th {\n",
       "        text-align: right;\n",
       "    }\n",
       "</style>\n",
       "<table border=\"1\" class=\"dataframe\">\n",
       "  <thead>\n",
       "    <tr style=\"text-align: right;\">\n",
       "      <th></th>\n",
       "      <th>entry_date</th>\n",
       "      <th>entry_price</th>\n",
       "      <th>exit_date</th>\n",
       "      <th>exit_price</th>\n",
       "      <th>pl_points</th>\n",
       "      <th>pl_cash</th>\n",
       "      <th>qty</th>\n",
       "      <th>cumul_total</th>\n",
       "      <th>direction</th>\n",
       "      <th>symbol</th>\n",
       "    </tr>\n",
       "  </thead>\n",
       "  <tbody>\n",
       "    <tr>\n",
       "      <th>19</th>\n",
       "      <td>1998-11-04</td>\n",
       "      <td>1118.67</td>\n",
       "      <td>1999-10-15</td>\n",
       "      <td>1247.41</td>\n",
       "      <td>128.74</td>\n",
       "      <td>20340.92</td>\n",
       "      <td>158</td>\n",
       "      <td>187440.41</td>\n",
       "      <td>LONG</td>\n",
       "      <td>^GSPC</td>\n",
       "    </tr>\n",
       "    <tr>\n",
       "      <th>20</th>\n",
       "      <td>1999-10-29</td>\n",
       "      <td>1362.93</td>\n",
       "      <td>2000-10-10</td>\n",
       "      <td>1387.02</td>\n",
       "      <td>24.09</td>\n",
       "      <td>3468.96</td>\n",
       "      <td>144</td>\n",
       "      <td>190909.37</td>\n",
       "      <td>LONG</td>\n",
       "      <td>^GSPC</td>\n",
       "    </tr>\n",
       "    <tr>\n",
       "      <th>21</th>\n",
       "      <td>2003-04-22</td>\n",
       "      <td>911.37</td>\n",
       "      <td>2004-08-06</td>\n",
       "      <td>1063.97</td>\n",
       "      <td>152.60</td>\n",
       "      <td>33571.99</td>\n",
       "      <td>220</td>\n",
       "      <td>224481.36</td>\n",
       "      <td>LONG</td>\n",
       "      <td>^GSPC</td>\n",
       "    </tr>\n",
       "    <tr>\n",
       "      <th>22</th>\n",
       "      <td>2004-11-04</td>\n",
       "      <td>1161.67</td>\n",
       "      <td>2007-11-21</td>\n",
       "      <td>1416.77</td>\n",
       "      <td>255.10</td>\n",
       "      <td>51275.10</td>\n",
       "      <td>201</td>\n",
       "      <td>275756.46</td>\n",
       "      <td>LONG</td>\n",
       "      <td>^GSPC</td>\n",
       "    </tr>\n",
       "    <tr>\n",
       "      <th>23</th>\n",
       "      <td>2009-06-12</td>\n",
       "      <td>946.21</td>\n",
       "      <td>2010-06-04</td>\n",
       "      <td>1064.88</td>\n",
       "      <td>118.67</td>\n",
       "      <td>35838.33</td>\n",
       "      <td>302</td>\n",
       "      <td>311594.79</td>\n",
       "      <td>LONG</td>\n",
       "      <td>^GSPC</td>\n",
       "    </tr>\n",
       "    <tr>\n",
       "      <th>24</th>\n",
       "      <td>2010-10-05</td>\n",
       "      <td>1160.75</td>\n",
       "      <td>2011-08-04</td>\n",
       "      <td>1200.07</td>\n",
       "      <td>39.32</td>\n",
       "      <td>10891.63</td>\n",
       "      <td>277</td>\n",
       "      <td>322486.42</td>\n",
       "      <td>LONG</td>\n",
       "      <td>^GSPC</td>\n",
       "    </tr>\n",
       "    <tr>\n",
       "      <th>25</th>\n",
       "      <td>2012-01-18</td>\n",
       "      <td>1308.04</td>\n",
       "      <td>2015-08-21</td>\n",
       "      <td>1970.89</td>\n",
       "      <td>662.85</td>\n",
       "      <td>168363.89</td>\n",
       "      <td>254</td>\n",
       "      <td>490850.31</td>\n",
       "      <td>LONG</td>\n",
       "      <td>^GSPC</td>\n",
       "    </tr>\n",
       "    <tr>\n",
       "      <th>26</th>\n",
       "      <td>2016-04-18</td>\n",
       "      <td>2094.34</td>\n",
       "      <td>2018-10-24</td>\n",
       "      <td>2656.10</td>\n",
       "      <td>561.76</td>\n",
       "      <td>134260.64</td>\n",
       "      <td>239</td>\n",
       "      <td>625110.95</td>\n",
       "      <td>LONG</td>\n",
       "      <td>^GSPC</td>\n",
       "    </tr>\n",
       "    <tr>\n",
       "      <th>27</th>\n",
       "      <td>2019-03-21</td>\n",
       "      <td>2854.88</td>\n",
       "      <td>2020-03-09</td>\n",
       "      <td>2746.56</td>\n",
       "      <td>-108.32</td>\n",
       "      <td>-24047.00</td>\n",
       "      <td>222</td>\n",
       "      <td>601063.95</td>\n",
       "      <td>LONG</td>\n",
       "      <td>^GSPC</td>\n",
       "    </tr>\n",
       "    <tr>\n",
       "      <th>28</th>\n",
       "      <td>2020-06-03</td>\n",
       "      <td>3122.87</td>\n",
       "      <td>2020-10-16</td>\n",
       "      <td>3483.81</td>\n",
       "      <td>360.94</td>\n",
       "      <td>70383.29</td>\n",
       "      <td>195</td>\n",
       "      <td>671447.24</td>\n",
       "      <td>LONG</td>\n",
       "      <td>^GSPC</td>\n",
       "    </tr>\n",
       "  </tbody>\n",
       "</table>\n",
       "</div>"
      ],
      "text/plain": [
       "   entry_date  entry_price  exit_date  exit_price  pl_points   pl_cash  qty  \\\n",
       "19 1998-11-04      1118.67 1999-10-15     1247.41     128.74  20340.92  158   \n",
       "20 1999-10-29      1362.93 2000-10-10     1387.02      24.09   3468.96  144   \n",
       "21 2003-04-22       911.37 2004-08-06     1063.97     152.60  33571.99  220   \n",
       "22 2004-11-04      1161.67 2007-11-21     1416.77     255.10  51275.10  201   \n",
       "23 2009-06-12       946.21 2010-06-04     1064.88     118.67  35838.33  302   \n",
       "24 2010-10-05      1160.75 2011-08-04     1200.07      39.32  10891.63  277   \n",
       "25 2012-01-18      1308.04 2015-08-21     1970.89     662.85 168363.89  254   \n",
       "26 2016-04-18      2094.34 2018-10-24     2656.10     561.76 134260.64  239   \n",
       "27 2019-03-21      2854.88 2020-03-09     2746.56    -108.32 -24047.00  222   \n",
       "28 2020-06-03      3122.87 2020-10-16     3483.81     360.94  70383.29  195   \n",
       "\n",
       "    cumul_total direction symbol  \n",
       "19    187440.41      LONG  ^GSPC  \n",
       "20    190909.37      LONG  ^GSPC  \n",
       "21    224481.36      LONG  ^GSPC  \n",
       "22    275756.46      LONG  ^GSPC  \n",
       "23    311594.79      LONG  ^GSPC  \n",
       "24    322486.42      LONG  ^GSPC  \n",
       "25    490850.31      LONG  ^GSPC  \n",
       "26    625110.95      LONG  ^GSPC  \n",
       "27    601063.95      LONG  ^GSPC  \n",
       "28    671447.24      LONG  ^GSPC  "
      ]
     },
     "execution_count": 18,
     "metadata": {},
     "output_type": "execute_result"
    }
   ],
   "source": [
    "tlog.tail(10)"
   ]
  },
  {
   "cell_type": "code",
   "execution_count": 19,
   "metadata": {
    "ExecuteTime": {
     "end_time": "2020-02-17T03:20:57.213861Z",
     "start_time": "2020-02-17T03:20:57.178854Z"
    }
   },
   "outputs": [
    {
     "data": {
      "text/html": [
       "<div>\n",
       "<style scoped>\n",
       "    .dataframe tbody tr th:only-of-type {\n",
       "        vertical-align: middle;\n",
       "    }\n",
       "\n",
       "    .dataframe tbody tr th {\n",
       "        vertical-align: top;\n",
       "    }\n",
       "\n",
       "    .dataframe thead th {\n",
       "        text-align: right;\n",
       "    }\n",
       "</style>\n",
       "<table border=\"1\" class=\"dataframe\">\n",
       "  <thead>\n",
       "    <tr style=\"text-align: right;\">\n",
       "      <th></th>\n",
       "      <th>high</th>\n",
       "      <th>low</th>\n",
       "      <th>close</th>\n",
       "      <th>shares</th>\n",
       "      <th>cash</th>\n",
       "      <th>leverage</th>\n",
       "      <th>state</th>\n",
       "    </tr>\n",
       "    <tr>\n",
       "      <th>date</th>\n",
       "      <th></th>\n",
       "      <th></th>\n",
       "      <th></th>\n",
       "      <th></th>\n",
       "      <th></th>\n",
       "      <th></th>\n",
       "      <th></th>\n",
       "    </tr>\n",
       "  </thead>\n",
       "  <tbody>\n",
       "    <tr>\n",
       "      <th>2020-10-12</th>\n",
       "      <td>694325.05</td>\n",
       "      <td>684528.25</td>\n",
       "      <td>691277.17</td>\n",
       "      <td>195</td>\n",
       "      <td>2104.28</td>\n",
       "      <td>1.00</td>\n",
       "      <td>-</td>\n",
       "    </tr>\n",
       "    <tr>\n",
       "      <th>2020-10-13</th>\n",
       "      <td>691236.23</td>\n",
       "      <td>684772.00</td>\n",
       "      <td>686930.62</td>\n",
       "      <td>195</td>\n",
       "      <td>2104.28</td>\n",
       "      <td>1.00</td>\n",
       "      <td>-</td>\n",
       "    </tr>\n",
       "    <tr>\n",
       "      <th>2020-10-14</th>\n",
       "      <td>690052.57</td>\n",
       "      <td>680811.54</td>\n",
       "      <td>682394.91</td>\n",
       "      <td>195</td>\n",
       "      <td>2104.28</td>\n",
       "      <td>1.00</td>\n",
       "      <td>-</td>\n",
       "    </tr>\n",
       "    <tr>\n",
       "      <th>2020-10-15</th>\n",
       "      <td>682474.89</td>\n",
       "      <td>673077.81</td>\n",
       "      <td>681355.60</td>\n",
       "      <td>195</td>\n",
       "      <td>2104.28</td>\n",
       "      <td>1.00</td>\n",
       "      <td>-</td>\n",
       "    </tr>\n",
       "    <tr>\n",
       "      <th>2020-10-16</th>\n",
       "      <td>681447.24</td>\n",
       "      <td>681447.24</td>\n",
       "      <td>681447.24</td>\n",
       "      <td>0</td>\n",
       "      <td>681447.24</td>\n",
       "      <td>1.00</td>\n",
       "      <td>X</td>\n",
       "    </tr>\n",
       "  </tbody>\n",
       "</table>\n",
       "</div>"
      ],
      "text/plain": [
       "                high       low     close  shares      cash  leverage state\n",
       "date                                                                      \n",
       "2020-10-12 694325.05 684528.25 691277.17     195   2104.28      1.00     -\n",
       "2020-10-13 691236.23 684772.00 686930.62     195   2104.28      1.00     -\n",
       "2020-10-14 690052.57 680811.54 682394.91     195   2104.28      1.00     -\n",
       "2020-10-15 682474.89 673077.81 681355.60     195   2104.28      1.00     -\n",
       "2020-10-16 681447.24 681447.24 681447.24       0 681447.24      1.00     X"
      ]
     },
     "execution_count": 19,
     "metadata": {},
     "output_type": "execute_result"
    }
   ],
   "source": [
    "dbal.tail()"
   ]
  },
  {
   "cell_type": "markdown",
   "metadata": {},
   "source": [
    "Run Benchmark, Retrieve benchmark logs"
   ]
  },
  {
   "cell_type": "code",
   "execution_count": 21,
   "metadata": {
    "ExecuteTime": {
     "end_time": "2020-02-17T03:21:00.220724Z",
     "start_time": "2020-02-17T03:20:57.223359Z"
    }
   },
   "outputs": [],
   "source": [
    "benchmark = pf.Benchmark(symbol, capital, s.start, s.end, s.use_adj)\n",
    "benchmark.run()"
   ]
  },
  {
   "cell_type": "markdown",
   "metadata": {},
   "source": [
    "Empyrical API"
   ]
  },
  {
   "cell_type": "code",
   "execution_count": 22,
   "metadata": {
    "ExecuteTime": {
     "end_time": "2020-02-17T03:21:00.693727Z",
     "start_time": "2020-02-17T03:21:00.227942Z"
    },
    "scrolled": false
   },
   "outputs": [],
   "source": [
    "import warnings\n",
    "warnings.simplefilter(action='ignore', category=FutureWarning)\n",
    "\n",
    "returns = dbal['close'].pct_change()\n",
    "benchmark_rets = benchmark.dbal['close'].pct_change()\n",
    "\n",
    "returns.index = returns.index.tz_localize('UTC')\n",
    "benchmark_rets.index = benchmark_rets.index.tz_localize('UTC')\n",
    "\n",
    "aggregate_returns = em.aggregate_returns(returns, 'yearly')\n",
    "alpha = em.alpha(returns, benchmark_rets)\n",
    "alpha_aligned = em.alpha_aligned(returns, benchmark_rets)\n",
    "alpha_beta = em.alpha_beta(returns, benchmark_rets)\n",
    "alpha_beta_aligned = em.alpha_beta_aligned(returns, benchmark_rets)\n",
    "annual_return = em.annual_return(returns)\n",
    "annual_volatility = em.annual_volatility(returns)\n",
    "beta = em.beta(returns, benchmark_rets)\n",
    "beta_aligned = em.beta_aligned(returns, benchmark_rets)\n",
    "cagr = em.cagr(returns)\n",
    "calmar_ratio = em.calmar_ratio(returns)\n",
    "capture = em.capture(returns, benchmark_rets)\n",
    "conditional_value_at_risk = em.conditional_value_at_risk(returns)\n",
    "cum_returns = em.cum_returns(returns)\n",
    "cum_returns_final = em.cum_returns_final(returns)\n",
    "down_alpha_beta = em.down_alpha_beta(returns, benchmark_rets)\n",
    "down_capture = em.down_capture(returns, benchmark_rets)\n",
    "downside_risk = em.downside_risk(returns)\n",
    "excess_sharpe = em.excess_sharpe(returns, benchmark_rets)\n",
    "max_drawdown = em.max_drawdown(returns)\n",
    "omega_ratio = em.omega_ratio(returns)\n",
    "sharpe_ratio = em.sharpe_ratio(returns)\n",
    "simple_returns = em.simple_returns(dbal['close'])\n",
    "sortino_ratio = em.sortino_ratio(returns)\n",
    "stability_of_timeseries = em.stability_of_timeseries(returns)\n",
    "tail_ratio = em.tail_ratio(returns)\n",
    "up_alpha_beta = em.up_alpha_beta(returns, benchmark_rets)\n",
    "up_capture = em.up_capture(returns, benchmark_rets)\n",
    "up_down_capture = em.up_down_capture(returns, benchmark_rets)\n",
    "value_at_risk = em.value_at_risk(returns)"
   ]
  },
  {
   "cell_type": "code",
   "execution_count": 23,
   "metadata": {
    "ExecuteTime": {
     "end_time": "2020-02-17T03:21:00.885704Z",
     "start_time": "2020-02-17T03:21:00.698009Z"
    }
   },
   "outputs": [],
   "source": [
    "s = pd.Series(dtype=object)\n",
    "s['aggregate_returns'] = aggregate_returns\n",
    "s['alpha'] = alpha\n",
    "s['alpha_aligned'] = alpha_aligned\n",
    "s['alpha_beta'] = alpha_beta\n",
    "s['alpha_beta_aligned'] = alpha_beta_aligned\n",
    "s['annual_return'] = annual_return\n",
    "s['annual_volatility'] = annual_volatility\n",
    "s['beta'] = beta\n",
    "s['beta_aligned'] = beta_aligned\n",
    "s['cagr'] = cagr\n",
    "s['calmar_ratio'] = calmar_ratio\n",
    "s['capture'] = capture\n",
    "s['conditional_value_at_risk'] = conditional_value_at_risk\n",
    "s['cum_returns'] = cum_returns\n",
    "s['cum_returns_final'] = cum_returns_final\n",
    "s['down_alpha_beta'] = down_alpha_beta\n",
    "s['down_capture'] = down_capture\n",
    "s['downside_risk'] = downside_risk\n",
    "s['excess_sharpe'] = excess_sharpe\n",
    "s['max_drawdown'] = max_drawdown\n",
    "s['omega_ratio'] = omega_ratio\n",
    "s['sharpe_ratio'] = sharpe_ratio\n",
    "s['simple_returns'] = simple_returns\n",
    "s['sortino_ratio'] = sortino_ratio\n",
    "s['stability_of_timeseries'] = stability_of_timeseries\n",
    "s['tail_ratio'] = tail_ratio\n",
    "s['up_alpha_beta'] = up_alpha_beta\n",
    "s['up_capture'] = up_capture\n",
    "s['up_down_capture'] = up_down_capture\n",
    "s['value_at_risk'] = value_at_risk"
   ]
  },
  {
   "cell_type": "code",
   "execution_count": 24,
   "metadata": {
    "ExecuteTime": {
     "end_time": "2020-02-17T03:21:01.039716Z",
     "start_time": "2020-02-17T03:21:00.901405Z"
    }
   },
   "outputs": [
    {
     "data": {
      "text/html": [
       "<div>\n",
       "<style scoped>\n",
       "    .dataframe tbody tr th:only-of-type {\n",
       "        vertical-align: middle;\n",
       "    }\n",
       "\n",
       "    .dataframe tbody tr th {\n",
       "        vertical-align: top;\n",
       "    }\n",
       "\n",
       "    .dataframe thead th {\n",
       "        text-align: right;\n",
       "    }\n",
       "</style>\n",
       "<table border=\"1\" class=\"dataframe\">\n",
       "  <thead>\n",
       "    <tr style=\"text-align: right;\">\n",
       "      <th></th>\n",
       "      <th>value</th>\n",
       "    </tr>\n",
       "  </thead>\n",
       "  <tbody>\n",
       "    <tr>\n",
       "      <th>aggregate_returns</th>\n",
       "      <td>1957   -0.07\n",
       "1958    0.25\n",
       "1959    0.08\n",
       "1960   ...</td>\n",
       "    </tr>\n",
       "    <tr>\n",
       "      <th>alpha</th>\n",
       "      <td>0.04</td>\n",
       "    </tr>\n",
       "    <tr>\n",
       "      <th>alpha_aligned</th>\n",
       "      <td>0.04</td>\n",
       "    </tr>\n",
       "    <tr>\n",
       "      <th>alpha_beta</th>\n",
       "      <td>[0.03719528191639254, 0.4349741221688118]</td>\n",
       "    </tr>\n",
       "    <tr>\n",
       "      <th>alpha_beta_aligned</th>\n",
       "      <td>[0.03719528191639254, 0.4349741221688118]</td>\n",
       "    </tr>\n",
       "    <tr>\n",
       "      <th>annual_return</th>\n",
       "      <td>0.07</td>\n",
       "    </tr>\n",
       "    <tr>\n",
       "      <th>annual_volatility</th>\n",
       "      <td>0.11</td>\n",
       "    </tr>\n",
       "    <tr>\n",
       "      <th>beta</th>\n",
       "      <td>0.43</td>\n",
       "    </tr>\n",
       "    <tr>\n",
       "      <th>beta_aligned</th>\n",
       "      <td>0.43</td>\n",
       "    </tr>\n",
       "    <tr>\n",
       "      <th>cagr</th>\n",
       "      <td>0.07</td>\n",
       "    </tr>\n",
       "    <tr>\n",
       "      <th>calmar_ratio</th>\n",
       "      <td>0.31</td>\n",
       "    </tr>\n",
       "    <tr>\n",
       "      <th>capture</th>\n",
       "      <td>0.97</td>\n",
       "    </tr>\n",
       "    <tr>\n",
       "      <th>conditional_value_at_risk</th>\n",
       "      <td>-0.02</td>\n",
       "    </tr>\n",
       "    <tr>\n",
       "      <th>cum_returns</th>\n",
       "      <td>date\n",
       "1957-03-04 00:00:00+00:00    0.00\n",
       "1957-03...</td>\n",
       "    </tr>\n",
       "    <tr>\n",
       "      <th>cum_returns_final</th>\n",
       "      <td>67.14</td>\n",
       "    </tr>\n",
       "    <tr>\n",
       "      <th>down_alpha_beta</th>\n",
       "      <td>[-0.35472509110033157, 0.32535889903160203]</td>\n",
       "    </tr>\n",
       "    <tr>\n",
       "      <th>down_capture</th>\n",
       "      <td>0.77</td>\n",
       "    </tr>\n",
       "    <tr>\n",
       "      <th>downside_risk</th>\n",
       "      <td>0.07</td>\n",
       "    </tr>\n",
       "    <tr>\n",
       "      <th>excess_sharpe</th>\n",
       "      <td>-0.01</td>\n",
       "    </tr>\n",
       "    <tr>\n",
       "      <th>max_drawdown</th>\n",
       "      <td>-0.22</td>\n",
       "    </tr>\n",
       "    <tr>\n",
       "      <th>omega_ratio</th>\n",
       "      <td>1.15</td>\n",
       "    </tr>\n",
       "    <tr>\n",
       "      <th>sharpe_ratio</th>\n",
       "      <td>0.68</td>\n",
       "    </tr>\n",
       "    <tr>\n",
       "      <th>simple_returns</th>\n",
       "      <td>date\n",
       "1957-03-05    0.00\n",
       "1957-03-06    0.00\n",
       "195...</td>\n",
       "    </tr>\n",
       "    <tr>\n",
       "      <th>sortino_ratio</th>\n",
       "      <td>0.96</td>\n",
       "    </tr>\n",
       "    <tr>\n",
       "      <th>stability_of_timeseries</th>\n",
       "      <td>0.98</td>\n",
       "    </tr>\n",
       "    <tr>\n",
       "      <th>tail_ratio</th>\n",
       "      <td>1.05</td>\n",
       "    </tr>\n",
       "    <tr>\n",
       "      <th>up_alpha_beta</th>\n",
       "      <td>[0.6888867080242527, 0.2927974299191317]</td>\n",
       "    </tr>\n",
       "    <tr>\n",
       "      <th>up_capture</th>\n",
       "      <td>0.41</td>\n",
       "    </tr>\n",
       "    <tr>\n",
       "      <th>up_down_capture</th>\n",
       "      <td>0.53</td>\n",
       "    </tr>\n",
       "    <tr>\n",
       "      <th>value_at_risk</th>\n",
       "      <td>NaN</td>\n",
       "    </tr>\n",
       "  </tbody>\n",
       "</table>\n",
       "</div>"
      ],
      "text/plain": [
       "                                                                       value\n",
       "aggregate_returns          1957   -0.07\n",
       "1958    0.25\n",
       "1959    0.08\n",
       "1960   ...\n",
       "alpha                                                                   0.04\n",
       "alpha_aligned                                                           0.04\n",
       "alpha_beta                         [0.03719528191639254, 0.4349741221688118]\n",
       "alpha_beta_aligned                 [0.03719528191639254, 0.4349741221688118]\n",
       "annual_return                                                           0.07\n",
       "annual_volatility                                                       0.11\n",
       "beta                                                                    0.43\n",
       "beta_aligned                                                            0.43\n",
       "cagr                                                                    0.07\n",
       "calmar_ratio                                                            0.31\n",
       "capture                                                                 0.97\n",
       "conditional_value_at_risk                                              -0.02\n",
       "cum_returns                date\n",
       "1957-03-04 00:00:00+00:00    0.00\n",
       "1957-03...\n",
       "cum_returns_final                                                      67.14\n",
       "down_alpha_beta                  [-0.35472509110033157, 0.32535889903160203]\n",
       "down_capture                                                            0.77\n",
       "downside_risk                                                           0.07\n",
       "excess_sharpe                                                          -0.01\n",
       "max_drawdown                                                           -0.22\n",
       "omega_ratio                                                             1.15\n",
       "sharpe_ratio                                                            0.68\n",
       "simple_returns             date\n",
       "1957-03-05    0.00\n",
       "1957-03-06    0.00\n",
       "195...\n",
       "sortino_ratio                                                           0.96\n",
       "stability_of_timeseries                                                 0.98\n",
       "tail_ratio                                                              1.05\n",
       "up_alpha_beta                       [0.6888867080242527, 0.2927974299191317]\n",
       "up_capture                                                              0.41\n",
       "up_down_capture                                                         0.53\n",
       "value_at_risk                                                            NaN"
      ]
     },
     "execution_count": 24,
     "metadata": {},
     "output_type": "execute_result"
    }
   ],
   "source": [
    "df = pd.DataFrame(s, columns=['value'])\n",
    "df"
   ]
  },
  {
   "cell_type": "code",
   "execution_count": null,
   "metadata": {},
   "outputs": [],
   "source": []
  }
 ],
 "metadata": {
  "kernelspec": {
   "display_name": "Python 3",
   "language": "python",
   "name": "python3"
  },
  "language_info": {
   "codemirror_mode": {
    "name": "ipython",
    "version": 3
   },
   "file_extension": ".py",
   "mimetype": "text/x-python",
   "name": "python",
   "nbconvert_exporter": "python",
   "pygments_lexer": "ipython3",
   "version": "3.8.5"
  },
  "latex_envs": {
   "LaTeX_envs_menu_present": true,
   "autoclose": false,
   "autocomplete": true,
   "bibliofile": "biblio.bib",
   "cite_by": "apalike",
   "current_citInitial": 1,
   "eqLabelWithNumbers": true,
   "eqNumInitial": 1,
   "hotkeys": {
    "equation": "Ctrl-E",
    "itemize": "Ctrl-I"
   },
   "labels_anchors": false,
   "latex_user_defs": false,
   "report_style_numbering": false,
   "user_envs_cfg": false
  }
 },
 "nbformat": 4,
 "nbformat_minor": 2
}
