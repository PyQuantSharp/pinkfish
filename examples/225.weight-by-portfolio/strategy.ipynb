{
 "cells": [
  {
   "cell_type": "markdown",
   "metadata": {},
   "source": [
    "# Weight By Portfolio Strategy\n",
    "\n",
    "Basic buy and hold that allows weighting by user specified weights, Equal, Sharpe Ratio, Annual Returns, Std Dev, Vola, or DS Vola.  \n",
    "\n",
    "Rebalance is yearly, monthly, weekly, or daily.  Option to sell all shares of an investment is regime turns negative."
   ]
  },
  {
   "cell_type": "code",
   "execution_count": 1,
   "metadata": {
    "ExecuteTime": {
     "end_time": "2020-02-17T05:42:08.798393Z",
     "start_time": "2020-02-17T05:42:07.455687Z"
    }
   },
   "outputs": [],
   "source": [
    "import datetime\n",
    "\n",
    "import matplotlib.pyplot as plt\n",
    "import pandas as pd\n",
    "from talib.abstract import *\n",
    "\n",
    "import pinkfish as pf\n",
    "import strategy\n",
    "\n",
    "# Format price data.\n",
    "pd.options.display.float_format = '{:0.2f}'.format\n",
    "\n",
    "%matplotlib inline"
   ]
  },
  {
   "cell_type": "code",
   "execution_count": 2,
   "metadata": {
    "ExecuteTime": {
     "end_time": "2020-02-17T05:42:08.816893Z",
     "start_time": "2020-02-17T05:42:08.808607Z"
    }
   },
   "outputs": [],
   "source": [
    "# Set size of inline plots.\n",
    "'''note: rcParams can't be in same cell as import matplotlib\n",
    "   or %matplotlib inline\n",
    "   \n",
    "   %matplotlib notebook: will lead to interactive plots embedded within\n",
    "   the notebook, you can zoom and resize the figure\n",
    "   \n",
    "   %matplotlib inline: only draw static images in the notebook\n",
    "'''\n",
    "plt.rcParams[\"figure.figsize\"] = (10, 7)"
   ]
  },
  {
   "cell_type": "markdown",
   "metadata": {},
   "source": [
    "Some global data"
   ]
  },
  {
   "cell_type": "code",
   "execution_count": 3,
   "metadata": {
    "ExecuteTime": {
     "end_time": "2020-02-17T05:42:08.835362Z",
     "start_time": "2020-02-17T05:42:08.821138Z"
    }
   },
   "outputs": [],
   "source": [
    "# Symbol Lists.\n",
    "SP500_Sectors = \\\n",
    "    {'XLB': None, 'XLE': None, 'XLF': None, 'XLI': None,\n",
    "     'XLK': None, 'XLP': None, 'XLU': None, 'XLV': None, 'XLY': None}\n",
    "\n",
    "Mixed_Asset_Classes = \\\n",
    "    {'IWB': None, 'SPY': None, 'VGK': None, 'IEV': None,\n",
    "     'EWJ': None, 'EPP': None, 'IEF': None, 'SHY': None, 'GLD': None}\n",
    "FANG_Stocks = \\\n",
    "    {'FB': None, 'AMZN': None, 'NFLX': None, 'GOOG': None}\n",
    "\n",
    "Stocks_Bonds_Gold = \\\n",
    "    {'SPY': None, 'QQQ': None, 'TLT': None, 'GLD': None}\n",
    "\n",
    "Stocks_Bonds = \\\n",
    "    {'SPY': 0.50, 'AGG': 0.50}\n",
    "\n",
    "# Pick one of the above.\n",
    "weights = Stocks_Bonds_Gold\n",
    "symbols = list(weights)\n",
    "\n",
    "capital = 100_000\n",
    "start = datetime.datetime(*pf.ALPHA_BEGIN)\n",
    "#start = datetime.datetime(*pf.SP500_BEGIN)\n",
    "end = datetime.datetime.now()"
   ]
  },
  {
   "cell_type": "code",
   "execution_count": 4,
   "metadata": {},
   "outputs": [],
   "source": [
    "weight_by_choices = ('equal', 'sharpe', 'ret', 'sd', 'vola', 'ds_vola')\n",
    "rebalance_choices = ('yearly', 'monthly', 'weekly', 'daily')\n",
    "\n",
    "options = {\n",
    "    'use_adj'           : True,\n",
    "    'use_cache'         : True,\n",
    "    'margin'            : 1,\n",
    "    'weights'           : weights,\n",
    "    'weight_by'         : 'vola',\n",
    "    'rebalance'         : 'monthly',\n",
    "    'use_regime_filter' : False\n",
    "}"
   ]
  },
  {
   "cell_type": "markdown",
   "metadata": {},
   "source": [
    "Run Strategy"
   ]
  },
  {
   "cell_type": "code",
   "execution_count": 5,
   "metadata": {
    "scrolled": false
   },
   "outputs": [],
   "source": [
    "s = strategy.Strategy(symbols, capital, start, end, options=options)\n",
    "s.run()"
   ]
  },
  {
   "cell_type": "markdown",
   "metadata": {},
   "source": [
    "View log DataFrames: raw trade log, trade log, and daily balance."
   ]
  },
  {
   "cell_type": "code",
   "execution_count": 6,
   "metadata": {},
   "outputs": [
    {
     "data": {
      "text/html": [
       "<div>\n",
       "<style scoped>\n",
       "    .dataframe tbody tr th:only-of-type {\n",
       "        vertical-align: middle;\n",
       "    }\n",
       "\n",
       "    .dataframe tbody tr th {\n",
       "        vertical-align: top;\n",
       "    }\n",
       "\n",
       "    .dataframe thead th {\n",
       "        text-align: right;\n",
       "    }\n",
       "</style>\n",
       "<table border=\"1\" class=\"dataframe\">\n",
       "  <thead>\n",
       "    <tr style=\"text-align: right;\">\n",
       "      <th></th>\n",
       "      <th>date</th>\n",
       "      <th>seq_num</th>\n",
       "      <th>price</th>\n",
       "      <th>shares</th>\n",
       "      <th>entry_exit</th>\n",
       "      <th>direction</th>\n",
       "      <th>symbol</th>\n",
       "    </tr>\n",
       "  </thead>\n",
       "  <tbody>\n",
       "    <tr>\n",
       "      <th>0</th>\n",
       "      <td>2007-11-20</td>\n",
       "      <td>0</td>\n",
       "      <td>109.65</td>\n",
       "      <td>184</td>\n",
       "      <td>entry</td>\n",
       "      <td>LONG</td>\n",
       "      <td>SPY</td>\n",
       "    </tr>\n",
       "    <tr>\n",
       "      <th>1</th>\n",
       "      <td>2007-11-20</td>\n",
       "      <td>1</td>\n",
       "      <td>62.34</td>\n",
       "      <td>803</td>\n",
       "      <td>entry</td>\n",
       "      <td>LONG</td>\n",
       "      <td>TLT</td>\n",
       "    </tr>\n",
       "    <tr>\n",
       "      <th>2</th>\n",
       "      <td>2007-11-20</td>\n",
       "      <td>2</td>\n",
       "      <td>79.47</td>\n",
       "      <td>188</td>\n",
       "      <td>entry</td>\n",
       "      <td>LONG</td>\n",
       "      <td>GLD</td>\n",
       "    </tr>\n",
       "    <tr>\n",
       "      <th>3</th>\n",
       "      <td>2007-11-20</td>\n",
       "      <td>3</td>\n",
       "      <td>44.13</td>\n",
       "      <td>334</td>\n",
       "      <td>entry</td>\n",
       "      <td>LONG</td>\n",
       "      <td>QQQ</td>\n",
       "    </tr>\n",
       "    <tr>\n",
       "      <th>4</th>\n",
       "      <td>2007-12-03</td>\n",
       "      <td>4</td>\n",
       "      <td>111.95</td>\n",
       "      <td>8</td>\n",
       "      <td>exit</td>\n",
       "      <td>LONG</td>\n",
       "      <td>SPY</td>\n",
       "    </tr>\n",
       "  </tbody>\n",
       "</table>\n",
       "</div>"
      ],
      "text/plain": [
       "        date  seq_num  price  shares entry_exit direction symbol\n",
       "0 2007-11-20        0 109.65     184      entry      LONG    SPY\n",
       "1 2007-11-20        1  62.34     803      entry      LONG    TLT\n",
       "2 2007-11-20        2  79.47     188      entry      LONG    GLD\n",
       "3 2007-11-20        3  44.13     334      entry      LONG    QQQ\n",
       "4 2007-12-03        4 111.95       8       exit      LONG    SPY"
      ]
     },
     "execution_count": 6,
     "metadata": {},
     "output_type": "execute_result"
    }
   ],
   "source": [
    "s.rlog.head()"
   ]
  },
  {
   "cell_type": "code",
   "execution_count": 7,
   "metadata": {},
   "outputs": [
    {
     "data": {
      "text/html": [
       "<div>\n",
       "<style scoped>\n",
       "    .dataframe tbody tr th:only-of-type {\n",
       "        vertical-align: middle;\n",
       "    }\n",
       "\n",
       "    .dataframe tbody tr th {\n",
       "        vertical-align: top;\n",
       "    }\n",
       "\n",
       "    .dataframe thead th {\n",
       "        text-align: right;\n",
       "    }\n",
       "</style>\n",
       "<table border=\"1\" class=\"dataframe\">\n",
       "  <thead>\n",
       "    <tr style=\"text-align: right;\">\n",
       "      <th></th>\n",
       "      <th>entry_date</th>\n",
       "      <th>entry_price</th>\n",
       "      <th>exit_date</th>\n",
       "      <th>exit_price</th>\n",
       "      <th>pl_points</th>\n",
       "      <th>pl_cash</th>\n",
       "      <th>qty</th>\n",
       "      <th>cumul_total</th>\n",
       "      <th>direction</th>\n",
       "      <th>symbol</th>\n",
       "    </tr>\n",
       "  </thead>\n",
       "  <tbody>\n",
       "    <tr>\n",
       "      <th>616</th>\n",
       "      <td>2021-05-03</td>\n",
       "      <td>335.80</td>\n",
       "      <td>2021-07-09</td>\n",
       "      <td>357.76</td>\n",
       "      <td>21.95</td>\n",
       "      <td>1514.86</td>\n",
       "      <td>69</td>\n",
       "      <td>343641.26</td>\n",
       "      <td>LONG</td>\n",
       "      <td>QQQ</td>\n",
       "    </tr>\n",
       "    <tr>\n",
       "      <th>617</th>\n",
       "      <td>2021-06-01</td>\n",
       "      <td>138.03</td>\n",
       "      <td>2021-07-09</td>\n",
       "      <td>146.71</td>\n",
       "      <td>8.68</td>\n",
       "      <td>1813.93</td>\n",
       "      <td>209</td>\n",
       "      <td>345455.19</td>\n",
       "      <td>LONG</td>\n",
       "      <td>TLT</td>\n",
       "    </tr>\n",
       "    <tr>\n",
       "      <th>618</th>\n",
       "      <td>2021-06-01</td>\n",
       "      <td>177.90</td>\n",
       "      <td>2021-07-09</td>\n",
       "      <td>168.72</td>\n",
       "      <td>-9.18</td>\n",
       "      <td>-284.58</td>\n",
       "      <td>31</td>\n",
       "      <td>345170.61</td>\n",
       "      <td>LONG</td>\n",
       "      <td>GLD</td>\n",
       "    </tr>\n",
       "    <tr>\n",
       "      <th>619</th>\n",
       "      <td>2021-07-01</td>\n",
       "      <td>430.43</td>\n",
       "      <td>2021-07-09</td>\n",
       "      <td>432.64</td>\n",
       "      <td>2.21</td>\n",
       "      <td>112.71</td>\n",
       "      <td>51</td>\n",
       "      <td>345283.32</td>\n",
       "      <td>LONG</td>\n",
       "      <td>SPY</td>\n",
       "    </tr>\n",
       "    <tr>\n",
       "      <th>620</th>\n",
       "      <td>2021-07-01</td>\n",
       "      <td>354.57</td>\n",
       "      <td>2021-07-09</td>\n",
       "      <td>357.76</td>\n",
       "      <td>3.18</td>\n",
       "      <td>480.93</td>\n",
       "      <td>151</td>\n",
       "      <td>345764.26</td>\n",
       "      <td>LONG</td>\n",
       "      <td>QQQ</td>\n",
       "    </tr>\n",
       "  </tbody>\n",
       "</table>\n",
       "</div>"
      ],
      "text/plain": [
       "    entry_date  entry_price  exit_date  exit_price  pl_points  pl_cash  qty  \\\n",
       "616 2021-05-03       335.80 2021-07-09      357.76      21.95  1514.86   69   \n",
       "617 2021-06-01       138.03 2021-07-09      146.71       8.68  1813.93  209   \n",
       "618 2021-06-01       177.90 2021-07-09      168.72      -9.18  -284.58   31   \n",
       "619 2021-07-01       430.43 2021-07-09      432.64       2.21   112.71   51   \n",
       "620 2021-07-01       354.57 2021-07-09      357.76       3.18   480.93  151   \n",
       "\n",
       "     cumul_total direction symbol  \n",
       "616    343641.26      LONG    QQQ  \n",
       "617    345455.19      LONG    TLT  \n",
       "618    345170.61      LONG    GLD  \n",
       "619    345283.32      LONG    SPY  \n",
       "620    345764.26      LONG    QQQ  "
      ]
     },
     "execution_count": 7,
     "metadata": {},
     "output_type": "execute_result"
    }
   ],
   "source": [
    "s.tlog.tail()"
   ]
  },
  {
   "cell_type": "code",
   "execution_count": 8,
   "metadata": {
    "scrolled": false
   },
   "outputs": [
    {
     "data": {
      "text/html": [
       "<div>\n",
       "<style scoped>\n",
       "    .dataframe tbody tr th:only-of-type {\n",
       "        vertical-align: middle;\n",
       "    }\n",
       "\n",
       "    .dataframe tbody tr th {\n",
       "        vertical-align: top;\n",
       "    }\n",
       "\n",
       "    .dataframe thead th {\n",
       "        text-align: right;\n",
       "    }\n",
       "</style>\n",
       "<table border=\"1\" class=\"dataframe\">\n",
       "  <thead>\n",
       "    <tr style=\"text-align: right;\">\n",
       "      <th></th>\n",
       "      <th>high</th>\n",
       "      <th>low</th>\n",
       "      <th>close</th>\n",
       "      <th>shares</th>\n",
       "      <th>cash</th>\n",
       "      <th>leverage</th>\n",
       "      <th>state</th>\n",
       "    </tr>\n",
       "    <tr>\n",
       "      <th>date</th>\n",
       "      <th></th>\n",
       "      <th></th>\n",
       "      <th></th>\n",
       "      <th></th>\n",
       "      <th></th>\n",
       "      <th></th>\n",
       "      <th></th>\n",
       "    </tr>\n",
       "  </thead>\n",
       "  <tbody>\n",
       "    <tr>\n",
       "      <th>2021-07-02</th>\n",
       "      <td>464030.64</td>\n",
       "      <td>464030.64</td>\n",
       "      <td>464030.64</td>\n",
       "      <td>1857</td>\n",
       "      <td>23326.40</td>\n",
       "      <td>1.00</td>\n",
       "      <td>-</td>\n",
       "    </tr>\n",
       "    <tr>\n",
       "      <th>2021-07-06</th>\n",
       "      <td>465957.64</td>\n",
       "      <td>465957.64</td>\n",
       "      <td>465957.64</td>\n",
       "      <td>1857</td>\n",
       "      <td>23326.40</td>\n",
       "      <td>1.00</td>\n",
       "      <td>-</td>\n",
       "    </tr>\n",
       "    <tr>\n",
       "      <th>2021-07-07</th>\n",
       "      <td>467898.92</td>\n",
       "      <td>467898.92</td>\n",
       "      <td>467898.92</td>\n",
       "      <td>1857</td>\n",
       "      <td>23326.40</td>\n",
       "      <td>1.00</td>\n",
       "      <td>-</td>\n",
       "    </tr>\n",
       "    <tr>\n",
       "      <th>2021-07-08</th>\n",
       "      <td>466437.73</td>\n",
       "      <td>466437.73</td>\n",
       "      <td>466437.73</td>\n",
       "      <td>1857</td>\n",
       "      <td>23326.40</td>\n",
       "      <td>1.00</td>\n",
       "      <td>-</td>\n",
       "    </tr>\n",
       "    <tr>\n",
       "      <th>2021-07-09</th>\n",
       "      <td>445764.26</td>\n",
       "      <td>445764.26</td>\n",
       "      <td>445764.26</td>\n",
       "      <td>0</td>\n",
       "      <td>445764.26</td>\n",
       "      <td>1.00</td>\n",
       "      <td>X</td>\n",
       "    </tr>\n",
       "  </tbody>\n",
       "</table>\n",
       "</div>"
      ],
      "text/plain": [
       "                high       low     close  shares      cash  leverage state\n",
       "date                                                                      \n",
       "2021-07-02 464030.64 464030.64 464030.64    1857  23326.40      1.00     -\n",
       "2021-07-06 465957.64 465957.64 465957.64    1857  23326.40      1.00     -\n",
       "2021-07-07 467898.92 467898.92 467898.92    1857  23326.40      1.00     -\n",
       "2021-07-08 466437.73 466437.73 466437.73    1857  23326.40      1.00     -\n",
       "2021-07-09 445764.26 445764.26 445764.26       0 445764.26      1.00     X"
      ]
     },
     "execution_count": 8,
     "metadata": {},
     "output_type": "execute_result"
    }
   ],
   "source": [
    "s.dbal.tail()"
   ]
  },
  {
   "cell_type": "markdown",
   "metadata": {},
   "source": [
    "Generate strategy stats - display all available stats."
   ]
  },
  {
   "cell_type": "code",
   "execution_count": 9,
   "metadata": {},
   "outputs": [
    {
     "name": "stdout",
     "output_type": "stream",
     "text": [
      "start                                                   2007-11-20\n",
      "end                                                     2021-07-09\n",
      "beginning_balance                                           100000\n",
      "ending_balance                                           445764.26\n",
      "total_net_profit                                         345764.26\n",
      "gross_profit                                             409930.13\n",
      "gross_loss                                               -64165.88\n",
      "profit_factor                                                 6.39\n",
      "return_on_initial_capital                                   345.76\n",
      "annual_return_rate                                           11.59\n",
      "trading_period                           13 years 7 months 19 days\n",
      "pct_time_in_market                                          100.00\n",
      "margin                                                           1\n",
      "avg_leverage                                                  1.00\n",
      "max_leverage                                                  1.00\n",
      "min_leverage                                                  1.00\n",
      "total_num_trades                                               621\n",
      "trades_per_year                                              45.54\n",
      "num_winning_trades                                             487\n",
      "num_losing_trades                                              134\n",
      "num_even_trades                                                  0\n",
      "pct_profitable_trades                                        78.42\n",
      "avg_profit_per_trade                                        556.79\n",
      "avg_profit_per_winning_trade                                841.75\n",
      "avg_loss_per_losing_trade                                  -478.85\n",
      "ratio_avg_profit_win_loss                                     1.76\n",
      "largest_profit_winning_trade                               7452.61\n",
      "largest_loss_losing_trade                                 -4243.56\n",
      "num_winning_points                                        10586.92\n",
      "num_losing_points                                         -1490.08\n",
      "total_net_points                                           9096.84\n",
      "avg_points                                                   14.65\n",
      "largest_points_winning_trade                                132.30\n",
      "largest_points_losing_trade                                 -44.36\n",
      "avg_pct_gain_per_trade                                       12.51\n",
      "largest_pct_winning_trade                                    93.47\n",
      "largest_pct_losing_trade                                    -41.05\n",
      "expected_shortfall                                          -37.89\n",
      "max_consecutive_winning_trades                                  55\n",
      "max_consecutive_losing_trades                                    7\n",
      "avg_bars_winning_trades                                     254.50\n",
      "avg_bars_losing_trades                                      227.63\n",
      "max_closed_out_drawdown                                     -20.49\n",
      "max_closed_out_drawdown_peak_date                       2008-05-20\n",
      "max_closed_out_drawdown_trough_date                     2008-10-27\n",
      "max_closed_out_drawdown_recovery_date                   2009-09-11\n",
      "drawdown_loss_period                                           160\n",
      "drawdown_recovery_period                                       319\n",
      "annualized_return_over_max_drawdown                           0.57\n",
      "max_intra_day_drawdown                                      -20.49\n",
      "avg_yearly_closed_out_drawdown                               -7.00\n",
      "max_yearly_closed_out_drawdown                              -20.49\n",
      "avg_monthly_closed_out_drawdown                              -2.05\n",
      "max_monthly_closed_out_drawdown                             -13.60\n",
      "avg_weekly_closed_out_drawdown                               -0.82\n",
      "max_weekly_closed_out_drawdown                               -8.79\n",
      "avg_yearly_closed_out_runup                                  18.25\n",
      "max_yearly_closed_out_runup                                  41.65\n",
      "avg_monthly_closed_out_runup                                  2.89\n",
      "max_monthly_closed_out_runup                                 19.42\n",
      "avg_weekly_closed_out_runup                                   1.04\n",
      "max_weekly_closed_out_runup                                   9.61\n",
      "pct_profitable_years                                         89.91\n",
      "best_year                                                    38.60\n",
      "worst_year                                                  -15.34\n",
      "avg_year                                                     13.24\n",
      "annual_std                                                   10.45\n",
      "pct_profitable_months                                        66.30\n",
      "best_month                                                   19.42\n",
      "worst_month                                                 -13.60\n",
      "avg_month                                                     0.93\n",
      "monthly_std                                                   2.68\n",
      "pct_profitable_weeks                                         60.90\n",
      "best_week                                                     9.61\n",
      "worst_week                                                   -8.79\n",
      "avg_week                                                      0.23\n",
      "weekly_std                                                    1.33\n",
      "pct_profitable_days                                          55.93\n",
      "best_day                                                      3.90\n",
      "worst_day                                                    -4.43\n",
      "avg_day                                                       0.05\n",
      "daily_std                                                     0.60\n",
      "sharpe_ratio                                                  1.21\n",
      "sharpe_ratio_max                                              1.28\n",
      "sharpe_ratio_min                                              1.14\n",
      "sortino_ratio                                                 1.61\n",
      "dtype: object\n"
     ]
    }
   ],
   "source": [
    "pf.print_full(s.stats)"
   ]
  },
  {
   "cell_type": "markdown",
   "metadata": {},
   "source": [
    "View Performance by Symbol"
   ]
  },
  {
   "cell_type": "code",
   "execution_count": 10,
   "metadata": {},
   "outputs": [
    {
     "data": {
      "text/html": [
       "<div>\n",
       "<style scoped>\n",
       "    .dataframe tbody tr th:only-of-type {\n",
       "        vertical-align: middle;\n",
       "    }\n",
       "\n",
       "    .dataframe tbody tr th {\n",
       "        vertical-align: top;\n",
       "    }\n",
       "\n",
       "    .dataframe thead th {\n",
       "        text-align: right;\n",
       "    }\n",
       "</style>\n",
       "<table border=\"1\" class=\"dataframe\">\n",
       "  <thead>\n",
       "    <tr style=\"text-align: right;\">\n",
       "      <th></th>\n",
       "      <th>cumul_total</th>\n",
       "      <th>weight</th>\n",
       "      <th>pct_cumul_total</th>\n",
       "      <th>relative_performance</th>\n",
       "    </tr>\n",
       "  </thead>\n",
       "  <tbody>\n",
       "    <tr>\n",
       "      <th>SPY</th>\n",
       "      <td>$106,781.78</td>\n",
       "      <td>0.25</td>\n",
       "      <td>0.31</td>\n",
       "      <td>1.24</td>\n",
       "    </tr>\n",
       "    <tr>\n",
       "      <th>TLT</th>\n",
       "      <td>$57,790.53</td>\n",
       "      <td>0.25</td>\n",
       "      <td>0.17</td>\n",
       "      <td>0.67</td>\n",
       "    </tr>\n",
       "    <tr>\n",
       "      <th>GLD</th>\n",
       "      <td>$49,694.32</td>\n",
       "      <td>0.25</td>\n",
       "      <td>0.14</td>\n",
       "      <td>0.57</td>\n",
       "    </tr>\n",
       "    <tr>\n",
       "      <th>QQQ</th>\n",
       "      <td>$131,497.63</td>\n",
       "      <td>0.25</td>\n",
       "      <td>0.38</td>\n",
       "      <td>1.52</td>\n",
       "    </tr>\n",
       "    <tr>\n",
       "      <th>TOTAL</th>\n",
       "      <td>$345,764.26</td>\n",
       "      <td>1.00</td>\n",
       "      <td>1.00</td>\n",
       "      <td>1.00</td>\n",
       "    </tr>\n",
       "  </tbody>\n",
       "</table>\n",
       "</div>"
      ],
      "text/plain": [
       "       cumul_total  weight  pct_cumul_total  relative_performance\n",
       "SPY    $106,781.78    0.25             0.31                  1.24\n",
       "TLT     $57,790.53    0.25             0.17                  0.67\n",
       "GLD     $49,694.32    0.25             0.14                  0.57\n",
       "QQQ    $131,497.63    0.25             0.38                  1.52\n",
       "TOTAL  $345,764.26    1.00             1.00                  1.00"
      ]
     },
     "execution_count": 10,
     "metadata": {},
     "output_type": "execute_result"
    },
    {
     "data": {
      "image/png": "[encoded data removed]",
      "text/plain": [
       "<Figure size 864x576 with 1 Axes>"
      ]
     },
     "metadata": {
      "needs_background": "light"
     },
     "output_type": "display_data"
    }
   ],
   "source": [
    "symbols_no_weights = [k for k,v in weights.items() if v is None]\n",
    "symbols_weights    = {k:v for k,v in weights.items() if v is not None}\n",
    "remaining_weight   = 1 - sum(symbols_weights.values())\n",
    "\n",
    "weights_ = weights.copy()\n",
    "for symbol in symbols_no_weights:\n",
    "    weights_[symbol] = (1 / len(symbols_no_weights)) * remaining_weight\n",
    "totals = s.portfolio.performance_per_symbol(weights=weights_)\n",
    "totals"
   ]
  },
  {
   "cell_type": "code",
   "execution_count": 11,
   "metadata": {},
   "outputs": [
    {
     "data": {
      "text/html": [
       "<div>\n",
       "<style scoped>\n",
       "    .dataframe tbody tr th:only-of-type {\n",
       "        vertical-align: middle;\n",
       "    }\n",
       "\n",
       "    .dataframe tbody tr th {\n",
       "        vertical-align: top;\n",
       "    }\n",
       "\n",
       "    .dataframe thead th {\n",
       "        text-align: right;\n",
       "    }\n",
       "</style>\n",
       "<table border=\"1\" class=\"dataframe\">\n",
       "  <thead>\n",
       "    <tr style=\"text-align: right;\">\n",
       "      <th></th>\n",
       "      <th>SPY</th>\n",
       "      <th>TLT</th>\n",
       "      <th>GLD</th>\n",
       "      <th>QQQ</th>\n",
       "    </tr>\n",
       "  </thead>\n",
       "  <tbody>\n",
       "    <tr>\n",
       "      <th>SPY</th>\n",
       "      <td>1.00</td>\n",
       "      <td>-0.43</td>\n",
       "      <td>0.03</td>\n",
       "      <td>0.92</td>\n",
       "    </tr>\n",
       "    <tr>\n",
       "      <th>TLT</th>\n",
       "      <td>-0.43</td>\n",
       "      <td>1.00</td>\n",
       "      <td>0.16</td>\n",
       "      <td>-0.38</td>\n",
       "    </tr>\n",
       "    <tr>\n",
       "      <th>GLD</th>\n",
       "      <td>0.03</td>\n",
       "      <td>0.16</td>\n",
       "      <td>1.00</td>\n",
       "      <td>0.01</td>\n",
       "    </tr>\n",
       "    <tr>\n",
       "      <th>QQQ</th>\n",
       "      <td>0.92</td>\n",
       "      <td>-0.38</td>\n",
       "      <td>0.01</td>\n",
       "      <td>1.00</td>\n",
       "    </tr>\n",
       "  </tbody>\n",
       "</table>\n",
       "</div>"
      ],
      "text/plain": [
       "      SPY   TLT  GLD   QQQ\n",
       "SPY  1.00 -0.43 0.03  0.92\n",
       "TLT -0.43  1.00 0.16 -0.38\n",
       "GLD  0.03  0.16 1.00  0.01\n",
       "QQQ  0.92 -0.38 0.01  1.00"
      ]
     },
     "execution_count": 11,
     "metadata": {},
     "output_type": "execute_result"
    },
    {
     "data": {
      "image/png": "[encoded data removed]",
      "text/plain": [
       "<Figure size 720x504 with 2 Axes>"
      ]
     },
     "metadata": {
      "needs_background": "light"
     },
     "output_type": "display_data"
    }
   ],
   "source": [
    "corr_df = s.portfolio.correlation_map(s.ts)\n",
    "corr_df"
   ]
  },
  {
   "cell_type": "markdown",
   "metadata": {},
   "source": [
    "Run Benchmark, Retrieve benchmark logs, and Generate benchmark stats."
   ]
  },
  {
   "cell_type": "code",
   "execution_count": 12,
   "metadata": {},
   "outputs": [],
   "source": [
    "benchmark = pf.Benchmark('SPY', s.capital, s.start, s.end, use_adj=True)\n",
    "benchmark.run()"
   ]
  },
  {
   "cell_type": "markdown",
   "metadata": {},
   "source": [
    "Plot Equity Curves: Strategy vs Benchmark"
   ]
  },
  {
   "cell_type": "code",
   "execution_count": 13,
   "metadata": {
    "scrolled": false
   },
   "outputs": [
    {
     "data": {
      "image/png": "[encoded data removed]",
      "text/plain": [
       "<Figure size 720x504 with 1 Axes>"
      ]
     },
     "metadata": {
      "needs_background": "light"
     },
     "output_type": "display_data"
    }
   ],
   "source": [
    "pf.plot_equity_curve(s.dbal, benchmark=benchmark.dbal)"
   ]
  },
  {
   "cell_type": "markdown",
   "metadata": {},
   "source": [
    "Bar Graph: Strategy vs Benchmark"
   ]
  },
  {
   "cell_type": "code",
   "execution_count": 14,
   "metadata": {},
   "outputs": [
    {
     "data": {
      "text/html": [
       "<div>\n",
       "<style scoped>\n",
       "    .dataframe tbody tr th:only-of-type {\n",
       "        vertical-align: middle;\n",
       "    }\n",
       "\n",
       "    .dataframe tbody tr th {\n",
       "        vertical-align: top;\n",
       "    }\n",
       "\n",
       "    .dataframe thead th {\n",
       "        text-align: right;\n",
       "    }\n",
       "</style>\n",
       "<table border=\"1\" class=\"dataframe\">\n",
       "  <thead>\n",
       "    <tr style=\"text-align: right;\">\n",
       "      <th></th>\n",
       "      <th>strategy</th>\n",
       "      <th>benchmark</th>\n",
       "    </tr>\n",
       "  </thead>\n",
       "  <tbody>\n",
       "    <tr>\n",
       "      <th>annual_return_rate</th>\n",
       "      <td>11.59</td>\n",
       "      <td>10.59</td>\n",
       "    </tr>\n",
       "    <tr>\n",
       "      <th>max_closed_out_drawdown</th>\n",
       "      <td>-20.49</td>\n",
       "      <td>-53.89</td>\n",
       "    </tr>\n",
       "    <tr>\n",
       "      <th>annualized_return_over_max_drawdown</th>\n",
       "      <td>0.57</td>\n",
       "      <td>0.20</td>\n",
       "    </tr>\n",
       "    <tr>\n",
       "      <th>best_month</th>\n",
       "      <td>19.42</td>\n",
       "      <td>23.62</td>\n",
       "    </tr>\n",
       "    <tr>\n",
       "      <th>worst_month</th>\n",
       "      <td>-13.60</td>\n",
       "      <td>-30.99</td>\n",
       "    </tr>\n",
       "    <tr>\n",
       "      <th>sharpe_ratio</th>\n",
       "      <td>1.21</td>\n",
       "      <td>0.59</td>\n",
       "    </tr>\n",
       "    <tr>\n",
       "      <th>sortino_ratio</th>\n",
       "      <td>1.61</td>\n",
       "      <td>0.70</td>\n",
       "    </tr>\n",
       "    <tr>\n",
       "      <th>monthly_std</th>\n",
       "      <td>2.68</td>\n",
       "      <td>4.85</td>\n",
       "    </tr>\n",
       "    <tr>\n",
       "      <th>annual_std</th>\n",
       "      <td>10.45</td>\n",
       "      <td>16.43</td>\n",
       "    </tr>\n",
       "  </tbody>\n",
       "</table>\n",
       "</div>"
      ],
      "text/plain": [
       "                                     strategy  benchmark\n",
       "annual_return_rate                      11.59      10.59\n",
       "max_closed_out_drawdown                -20.49     -53.89\n",
       "annualized_return_over_max_drawdown      0.57       0.20\n",
       "best_month                              19.42      23.62\n",
       "worst_month                            -13.60     -30.99\n",
       "sharpe_ratio                             1.21       0.59\n",
       "sortino_ratio                            1.61       0.70\n",
       "monthly_std                              2.68       4.85\n",
       "annual_std                              10.45      16.43"
      ]
     },
     "execution_count": 14,
     "metadata": {},
     "output_type": "execute_result"
    },
    {
     "data": {
      "image/png": "[encoded data removed]",
      "text/plain": [
       "<Figure size 720x504 with 1 Axes>"
      ]
     },
     "metadata": {
      "needs_background": "light"
     },
     "output_type": "display_data"
    }
   ],
   "source": [
    "df = pf.plot_bar_graph(s.stats, benchmark.stats)\n",
    "df"
   ]
  },
  {
   "cell_type": "markdown",
   "metadata": {},
   "source": [
    "Analysis: Kelly Criterian"
   ]
  },
  {
   "cell_type": "code",
   "execution_count": 15,
   "metadata": {},
   "outputs": [
    {
     "data": {
      "text/plain": [
       "sharpe_ratio            1.21\n",
       "sharpe_ratio_max        1.28\n",
       "sharpe_ratio_min        1.14\n",
       "strategy risk           0.10\n",
       "instrument risk         0.16\n",
       "optimal target risk     1.21\n",
       "half kelly criterian    0.60\n",
       "aggressive leverage     7.36\n",
       "moderate leverage       3.68\n",
       "conservative leverage   3.47\n",
       "dtype: float64"
      ]
     },
     "execution_count": 15,
     "metadata": {},
     "output_type": "execute_result"
    }
   ],
   "source": [
    "kelly = pf.kelly_criterian(s.stats, benchmark.stats)\n",
    "kelly"
   ]
  },
  {
   "cell_type": "code",
   "execution_count": null,
   "metadata": {},
   "outputs": [],
   "source": []
  }
 ],
 "metadata": {
  "kernelspec": {
   "display_name": "Python 3",
   "language": "python",
   "name": "python3"
  },
  "language_info": {
   "codemirror_mode": {
    "name": "ipython",
    "version": 3
   },
   "file_extension": ".py",
   "mimetype": "text/x-python",
   "name": "python",
   "nbconvert_exporter": "python",
   "pygments_lexer": "ipython3",
   "version": "3.8.10"
  },
  "latex_envs": {
   "LaTeX_envs_menu_present": true,
   "autoclose": false,
   "autocomplete": true,
   "bibliofile": "biblio.bib",
   "cite_by": "apalike",
   "current_citInitial": 1,
   "eqLabelWithNumbers": true,
   "eqNumInitial": 1,
   "hotkeys": {
    "equation": "Ctrl-E",
    "itemize": "Ctrl-I"
   },
   "labels_anchors": false,
   "latex_user_defs": false,
   "report_style_numbering": false,
   "user_envs_cfg": false
  }
 },
 "nbformat": 4,
 "nbformat_minor": 1
}
