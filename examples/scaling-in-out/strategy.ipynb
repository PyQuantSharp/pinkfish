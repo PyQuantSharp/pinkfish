{
 "cells": [
  {
   "cell_type": "markdown",
   "metadata": {},
   "source": [
    "# Double 7's (Short Term Trading Strategies that Work)\n",
    "\n",
    "    1. The SPY is above its 200-day moving average\n",
    "    2. The SPY closes at a X-day low, buy some shares\n",
    "       If it set further lows, buy some more\n",
    "    3. If the SPY closes at a X-day high, sell some.\n",
    "       If it sets further highs, sell some more, etc...\n",
    "    \n",
    "    (Scaling in and out)"
   ]
  },
  {
   "cell_type": "code",
   "execution_count": 1,
   "metadata": {
    "ExecuteTime": {
     "end_time": "2020-02-17T03:31:24.392630Z",
     "start_time": "2020-02-17T03:31:23.151150Z"
    }
   },
   "outputs": [],
   "source": [
    "import pandas as pd\n",
    "import matplotlib.pyplot as plt\n",
    "import datetime\n",
    "from talib.abstract import *\n",
    "\n",
    "import pinkfish as pf\n",
    "import strategy\n",
    "\n",
    "# format price data\n",
    "pd.options.display.float_format = '{:0.2f}'.format\n",
    "\n",
    "%matplotlib inline"
   ]
  },
  {
   "cell_type": "code",
   "execution_count": 2,
   "metadata": {
    "ExecuteTime": {
     "end_time": "2020-02-17T03:31:24.413973Z",
     "start_time": "2020-02-17T03:31:24.407155Z"
    }
   },
   "outputs": [],
   "source": [
    "# set size of inline plots\n",
    "'''note: rcParams can't be in same cell as import matplotlib\n",
    "   or %matplotlib inline\n",
    "   \n",
    "   %matplotlib notebook: will lead to interactive plots embedded within\n",
    "   the notebook, you can zoom and resize the figure\n",
    "   \n",
    "   %matplotlib inline: only draw static images in the notebook\n",
    "'''\n",
    "plt.rcParams[\"figure.figsize\"] = (10, 7)"
   ]
  },
  {
   "cell_type": "markdown",
   "metadata": {},
   "source": [
    "Some global data"
   ]
  },
  {
   "cell_type": "code",
   "execution_count": 3,
   "metadata": {
    "ExecuteTime": {
     "end_time": "2020-02-17T03:31:24.429012Z",
     "start_time": "2020-02-17T03:31:24.418520Z"
    }
   },
   "outputs": [],
   "source": [
    "#symbol = '^GSPC'\n",
    "symbol = 'SPY'\n",
    "#symbol = 'DIA'\n",
    "#symbol = 'QQQ'\n",
    "#symbol = 'IWM'\n",
    "#symbol = 'TLT'\n",
    "#symbol = 'GLD'\n",
    "#symbol = 'AAPL'\n",
    "#symbol = 'BBRY'\n",
    "#symbol = 'GDX'\n",
    "capital = 10000\n",
    "start = datetime.datetime(1900, 1, 1)\n",
    "end = datetime.datetime.now()"
   ]
  },
  {
   "cell_type": "markdown",
   "metadata": {},
   "source": [
    "Define high low trade periods"
   ]
  },
  {
   "cell_type": "code",
   "execution_count": 4,
   "metadata": {
    "ExecuteTime": {
     "end_time": "2020-02-17T03:31:24.443106Z",
     "start_time": "2020-02-17T03:31:24.433306Z"
    }
   },
   "outputs": [],
   "source": [
    "period = 7"
   ]
  },
  {
   "cell_type": "markdown",
   "metadata": {},
   "source": [
    "Define max number of positions to scale into"
   ]
  },
  {
   "cell_type": "code",
   "execution_count": 5,
   "metadata": {
    "ExecuteTime": {
     "end_time": "2020-02-17T03:31:24.451334Z",
     "start_time": "2020-02-17T03:31:24.447099Z"
    }
   },
   "outputs": [],
   "source": [
    "max_positions = 2"
   ]
  },
  {
   "cell_type": "markdown",
   "metadata": {},
   "source": [
    "Define the margin multiple"
   ]
  },
  {
   "cell_type": "code",
   "execution_count": 6,
   "metadata": {},
   "outputs": [],
   "source": [
    "margin = 2"
   ]
  },
  {
   "cell_type": "markdown",
   "metadata": {},
   "source": [
    "Run Strategy"
   ]
  },
  {
   "cell_type": "code",
   "execution_count": 7,
   "metadata": {
    "ExecuteTime": {
     "end_time": "2020-02-17T03:31:24.663628Z",
     "start_time": "2020-02-17T03:31:24.454544Z"
    },
    "scrolled": false
   },
   "outputs": [],
   "source": [
    "s = strategy.Strategy(symbol, capital, start, end, stop_loss_pct=85, margin=margin,\n",
    "                      period=period, max_positions=max_positions)\n",
    "s.run()"
   ]
  },
  {
   "cell_type": "markdown",
   "metadata": {},
   "source": [
    "Retrieve log DataFrames"
   ]
  },
  {
   "cell_type": "code",
   "execution_count": 8,
   "metadata": {
    "ExecuteTime": {
     "end_time": "2020-02-17T03:31:25.438889Z",
     "start_time": "2020-02-17T03:31:24.676427Z"
    }
   },
   "outputs": [],
   "source": [
    "tlog, dbal = s.get_logs()\n",
    "stats = s.get_stats()"
   ]
  },
  {
   "cell_type": "code",
   "execution_count": 9,
   "metadata": {
    "ExecuteTime": {
     "end_time": "2020-02-17T03:31:25.550325Z",
     "start_time": "2020-02-17T03:31:25.449988Z"
    },
    "scrolled": true
   },
   "outputs": [
    {
     "data": {
      "text/html": [
       "<div>\n",
       "<style scoped>\n",
       "    .dataframe tbody tr th:only-of-type {\n",
       "        vertical-align: middle;\n",
       "    }\n",
       "\n",
       "    .dataframe tbody tr th {\n",
       "        vertical-align: top;\n",
       "    }\n",
       "\n",
       "    .dataframe thead th {\n",
       "        text-align: right;\n",
       "    }\n",
       "</style>\n",
       "<table border=\"1\" class=\"dataframe\">\n",
       "  <thead>\n",
       "    <tr style=\"text-align: right;\">\n",
       "      <th></th>\n",
       "      <th>entry_date</th>\n",
       "      <th>entry_price</th>\n",
       "      <th>exit_date</th>\n",
       "      <th>exit_price</th>\n",
       "      <th>pl_points</th>\n",
       "      <th>pl_cash</th>\n",
       "      <th>qty</th>\n",
       "      <th>cumul_total</th>\n",
       "      <th>direction</th>\n",
       "      <th>symbol</th>\n",
       "    </tr>\n",
       "  </thead>\n",
       "  <tbody>\n",
       "    <tr>\n",
       "      <th>432</th>\n",
       "      <td>2021-01-29</td>\n",
       "      <td>370.07</td>\n",
       "      <td>2021-02-05</td>\n",
       "      <td>387.71</td>\n",
       "      <td>17.64</td>\n",
       "      <td>10583.99</td>\n",
       "      <td>600</td>\n",
       "      <td>232203.70</td>\n",
       "      <td>LONG</td>\n",
       "      <td>SPY</td>\n",
       "    </tr>\n",
       "    <tr>\n",
       "      <th>433</th>\n",
       "      <td>2021-02-19</td>\n",
       "      <td>390.03</td>\n",
       "      <td>2021-03-10</td>\n",
       "      <td>389.58</td>\n",
       "      <td>-0.45</td>\n",
       "      <td>-279.01</td>\n",
       "      <td>620</td>\n",
       "      <td>231924.70</td>\n",
       "      <td>LONG</td>\n",
       "      <td>SPY</td>\n",
       "    </tr>\n",
       "    <tr>\n",
       "      <th>434</th>\n",
       "      <td>2021-02-22</td>\n",
       "      <td>387.03</td>\n",
       "      <td>2021-03-11</td>\n",
       "      <td>393.53</td>\n",
       "      <td>6.50</td>\n",
       "      <td>4036.50</td>\n",
       "      <td>621</td>\n",
       "      <td>235961.20</td>\n",
       "      <td>LONG</td>\n",
       "      <td>SPY</td>\n",
       "    </tr>\n",
       "    <tr>\n",
       "      <th>435</th>\n",
       "      <td>2021-03-19</td>\n",
       "      <td>389.48</td>\n",
       "      <td>2021-03-26</td>\n",
       "      <td>395.98</td>\n",
       "      <td>6.50</td>\n",
       "      <td>4101.50</td>\n",
       "      <td>631</td>\n",
       "      <td>240062.70</td>\n",
       "      <td>LONG</td>\n",
       "      <td>SPY</td>\n",
       "    </tr>\n",
       "    <tr>\n",
       "      <th>436</th>\n",
       "      <td>2021-03-24</td>\n",
       "      <td>387.52</td>\n",
       "      <td>2021-03-26</td>\n",
       "      <td>395.98</td>\n",
       "      <td>8.46</td>\n",
       "      <td>5346.73</td>\n",
       "      <td>632</td>\n",
       "      <td>245409.43</td>\n",
       "      <td>LONG</td>\n",
       "      <td>SPY</td>\n",
       "    </tr>\n",
       "  </tbody>\n",
       "</table>\n",
       "</div>"
      ],
      "text/plain": [
       "    entry_date  entry_price  exit_date  exit_price  pl_points  pl_cash  qty  \\\n",
       "432 2021-01-29       370.07 2021-02-05      387.71      17.64 10583.99  600   \n",
       "433 2021-02-19       390.03 2021-03-10      389.58      -0.45  -279.01  620   \n",
       "434 2021-02-22       387.03 2021-03-11      393.53       6.50  4036.50  621   \n",
       "435 2021-03-19       389.48 2021-03-26      395.98       6.50  4101.50  631   \n",
       "436 2021-03-24       387.52 2021-03-26      395.98       8.46  5346.73  632   \n",
       "\n",
       "     cumul_total direction symbol  \n",
       "432    232203.70      LONG    SPY  \n",
       "433    231924.70      LONG    SPY  \n",
       "434    235961.20      LONG    SPY  \n",
       "435    240062.70      LONG    SPY  \n",
       "436    245409.43      LONG    SPY  "
      ]
     },
     "execution_count": 9,
     "metadata": {},
     "output_type": "execute_result"
    }
   ],
   "source": [
    "tlog.tail()"
   ]
  },
  {
   "cell_type": "code",
   "execution_count": 10,
   "metadata": {
    "ExecuteTime": {
     "end_time": "2020-02-17T03:31:25.581309Z",
     "start_time": "2020-02-17T03:31:25.554397Z"
    },
    "scrolled": false
   },
   "outputs": [
    {
     "data": {
      "text/html": [
       "<div>\n",
       "<style scoped>\n",
       "    .dataframe tbody tr th:only-of-type {\n",
       "        vertical-align: middle;\n",
       "    }\n",
       "\n",
       "    .dataframe tbody tr th {\n",
       "        vertical-align: top;\n",
       "    }\n",
       "\n",
       "    .dataframe thead th {\n",
       "        text-align: right;\n",
       "    }\n",
       "</style>\n",
       "<table border=\"1\" class=\"dataframe\">\n",
       "  <thead>\n",
       "    <tr style=\"text-align: right;\">\n",
       "      <th></th>\n",
       "      <th>high</th>\n",
       "      <th>low</th>\n",
       "      <th>close</th>\n",
       "      <th>shares</th>\n",
       "      <th>cash</th>\n",
       "      <th>leverage</th>\n",
       "      <th>state</th>\n",
       "    </tr>\n",
       "    <tr>\n",
       "      <th>date</th>\n",
       "      <th></th>\n",
       "      <th></th>\n",
       "      <th></th>\n",
       "      <th></th>\n",
       "      <th></th>\n",
       "      <th></th>\n",
       "      <th></th>\n",
       "    </tr>\n",
       "  </thead>\n",
       "  <tbody>\n",
       "    <tr>\n",
       "      <th>2021-03-22</th>\n",
       "      <td>248857.48</td>\n",
       "      <td>246270.38</td>\n",
       "      <td>247923.60</td>\n",
       "      <td>631</td>\n",
       "      <td>199.31</td>\n",
       "      <td>1.00</td>\n",
       "      <td>-</td>\n",
       "    </tr>\n",
       "    <tr>\n",
       "      <th>2021-03-23</th>\n",
       "      <td>248472.56</td>\n",
       "      <td>245443.77</td>\n",
       "      <td>245973.81</td>\n",
       "      <td>631</td>\n",
       "      <td>199.31</td>\n",
       "      <td>1.00</td>\n",
       "      <td>-</td>\n",
       "    </tr>\n",
       "    <tr>\n",
       "      <th>2021-03-24</th>\n",
       "      <td>251329.93</td>\n",
       "      <td>244661.29</td>\n",
       "      <td>244724.42</td>\n",
       "      <td>1263</td>\n",
       "      <td>-244713.32</td>\n",
       "      <td>2.00</td>\n",
       "      <td>O</td>\n",
       "    </tr>\n",
       "    <tr>\n",
       "      <th>2021-03-25</th>\n",
       "      <td>248551.31</td>\n",
       "      <td>240152.37</td>\n",
       "      <td>247477.79</td>\n",
       "      <td>1263</td>\n",
       "      <td>-244713.32</td>\n",
       "      <td>1.99</td>\n",
       "      <td>-</td>\n",
       "    </tr>\n",
       "    <tr>\n",
       "      <th>2021-03-26</th>\n",
       "      <td>255409.43</td>\n",
       "      <td>255409.43</td>\n",
       "      <td>255409.43</td>\n",
       "      <td>0</td>\n",
       "      <td>255409.43</td>\n",
       "      <td>1.00</td>\n",
       "      <td>X</td>\n",
       "    </tr>\n",
       "  </tbody>\n",
       "</table>\n",
       "</div>"
      ],
      "text/plain": [
       "                high       low     close  shares       cash  leverage state\n",
       "date                                                                       \n",
       "2021-03-22 248857.48 246270.38 247923.60     631     199.31      1.00     -\n",
       "2021-03-23 248472.56 245443.77 245973.81     631     199.31      1.00     -\n",
       "2021-03-24 251329.93 244661.29 244724.42    1263 -244713.32      2.00     O\n",
       "2021-03-25 248551.31 240152.37 247477.79    1263 -244713.32      1.99     -\n",
       "2021-03-26 255409.43 255409.43 255409.43       0  255409.43      1.00     X"
      ]
     },
     "execution_count": 10,
     "metadata": {},
     "output_type": "execute_result"
    }
   ],
   "source": [
    "dbal.tail()"
   ]
  },
  {
   "cell_type": "markdown",
   "metadata": {},
   "source": [
    "Generate strategy stats - display all available stats"
   ]
  },
  {
   "cell_type": "code",
   "execution_count": 11,
   "metadata": {
    "ExecuteTime": {
     "end_time": "2020-02-17T03:31:25.637551Z",
     "start_time": "2020-02-17T03:31:25.587174Z"
    },
    "scrolled": false
   },
   "outputs": [
    {
     "name": "stdout",
     "output_type": "stream",
     "text": [
      "start                                                   1993-11-11\n",
      "end                                                     2021-03-26\n",
      "beginning_balance                                            10000\n",
      "ending_balance                                           255409.43\n",
      "total_net_profit                                         245409.43\n",
      "gross_profit                                             512418.71\n",
      "gross_loss                                              -267009.28\n",
      "profit_factor                                                 1.92\n",
      "return_on_initial_capital                                  2454.09\n",
      "annual_return_rate                                           12.57\n",
      "trading_period                           27 years 4 months 15 days\n",
      "pct_time_in_market                                           35.40\n",
      "margin                                                           2\n",
      "avg_leverage                                                  1.22\n",
      "max_leverage                                                  2.38\n",
      "min_leverage                                                  1.00\n",
      "total_num_trades                                               437\n",
      "trades_per_year                                              15.96\n",
      "num_winning_trades                                             336\n",
      "num_losing_trades                                              100\n",
      "num_even_trades                                                  1\n",
      "pct_profitable_trades                                        76.89\n",
      "avg_profit_per_trade                                        561.58\n",
      "avg_profit_per_winning_trade                               1525.06\n",
      "avg_loss_per_losing_trade                                 -2670.09\n",
      "ratio_avg_profit_win_loss                                     0.57\n",
      "largest_profit_winning_trade                              10583.99\n",
      "largest_loss_losing_trade                                -38600.19\n",
      "num_winning_points                                          847.54\n",
      "num_losing_points                                          -394.10\n",
      "total_net_points                                            453.44\n",
      "avg_points                                                    1.04\n",
      "largest_points_winning_trade                                 17.64\n",
      "largest_points_losing_trade                                 -48.19\n",
      "avg_pct_gain_per_trade                                        0.80\n",
      "largest_pct_winning_trade                                     6.92\n",
      "largest_pct_losing_trade                                    -17.60\n",
      "expected_shortfall                                          -11.36\n",
      "max_consecutive_winning_trades                                  29\n",
      "max_consecutive_losing_trades                                    4\n",
      "avg_bars_winning_trades                                       7.73\n",
      "avg_bars_losing_trades                                       17.26\n",
      "max_closed_out_drawdown                                     -29.34\n",
      "max_closed_out_drawdown_peak_date                       2020-02-05\n",
      "max_closed_out_drawdown_trough_date                     2020-10-30\n",
      "max_closed_out_drawdown_recovery_date            Not Recovered Yet\n",
      "drawdown_loss_period                             Not Recovered Yet\n",
      "drawdown_recovery_period                         Not Recovered Yet\n",
      "annualized_return_over_max_drawdown                           0.43\n",
      "max_intra_day_drawdown                                      -33.36\n",
      "avg_yearly_closed_out_drawdown                              -12.66\n",
      "max_yearly_closed_out_drawdown                              -29.34\n",
      "avg_monthly_closed_out_drawdown                              -2.74\n",
      "max_monthly_closed_out_drawdown                             -27.79\n",
      "avg_weekly_closed_out_drawdown                               -0.94\n",
      "max_weekly_closed_out_drawdown                              -25.94\n",
      "avg_yearly_closed_out_runup                                  24.49\n",
      "max_yearly_closed_out_runup                                  71.42\n",
      "avg_monthly_closed_out_runup                                  3.69\n",
      "max_monthly_closed_out_runup                                 23.45\n",
      "avg_weekly_closed_out_runup                                   1.23\n",
      "max_weekly_closed_out_runup                                  16.63\n",
      "pct_profitable_years                                         72.56\n",
      "best_year                                                    71.42\n",
      "worst_year                                                  -23.88\n",
      "avg_year                                                     13.42\n",
      "annual_std                                                   17.20\n",
      "pct_profitable_months                                        53.52\n",
      "best_month                                                   23.45\n",
      "worst_month                                                 -25.68\n",
      "avg_month                                                     1.01\n",
      "monthly_std                                                   4.02\n",
      "pct_profitable_weeks                                         32.41\n",
      "best_week                                                    16.63\n",
      "worst_week                                                  -25.94\n",
      "avg_week                                                      0.26\n",
      "weekly_std                                                    2.33\n",
      "pct_profitable_days                                          19.65\n",
      "best_day                                                     12.51\n",
      "worst_day                                                   -14.49\n",
      "avg_day                                                       0.05\n",
      "daily_std                                                     1.20\n",
      "sharpe_ratio                                                  0.72\n",
      "sharpe_ratio_max                                              0.76\n",
      "sharpe_ratio_min                                              0.68\n",
      "sortino_ratio                                                 0.54\n",
      "dtype: object\n"
     ]
    }
   ],
   "source": [
    "pf.print_full(stats)"
   ]
  },
  {
   "cell_type": "markdown",
   "metadata": {},
   "source": [
    "Equity curve"
   ]
  },
  {
   "cell_type": "markdown",
   "metadata": {},
   "source": [
    "Run Benchmark, Retrieve benchmark logs, and Generate benchmark stats"
   ]
  },
  {
   "cell_type": "code",
   "execution_count": 12,
   "metadata": {
    "ExecuteTime": {
     "end_time": "2020-02-17T03:31:26.538711Z",
     "start_time": "2020-02-17T03:31:25.650981Z"
    }
   },
   "outputs": [],
   "source": [
    "benchmark = pf.Benchmark(symbol, capital, s.start, s.end)\n",
    "benchmark.run()"
   ]
  },
  {
   "cell_type": "markdown",
   "metadata": {},
   "source": [
    "Plot Equity Curves: Strategy vs Benchmark"
   ]
  },
  {
   "cell_type": "code",
   "execution_count": 13,
   "metadata": {
    "ExecuteTime": {
     "end_time": "2020-02-17T03:31:26.916802Z",
     "start_time": "2020-02-17T03:31:26.550752Z"
    }
   },
   "outputs": [
    {
     "data": {
      "image/png": "[encoded data removed]",
      "text/plain": [
       "<Figure size 720x504 with 1 Axes>"
      ]
     },
     "metadata": {
      "needs_background": "light"
     },
     "output_type": "display_data"
    }
   ],
   "source": [
    "pf.plot_equity_curve(dbal, benchmark=benchmark.dbal)"
   ]
  },
  {
   "cell_type": "markdown",
   "metadata": {},
   "source": [
    "Plot Trades"
   ]
  },
  {
   "cell_type": "code",
   "execution_count": 14,
   "metadata": {
    "ExecuteTime": {
     "end_time": "2020-02-17T03:31:27.153271Z",
     "start_time": "2020-02-17T03:31:26.925482Z"
    }
   },
   "outputs": [
    {
     "data": {
      "image/png": "[encoded data removed]",
      "text/plain": [
       "<Figure size 720x504 with 1 Axes>"
      ]
     },
     "metadata": {
      "needs_background": "light"
     },
     "output_type": "display_data"
    }
   ],
   "source": [
    "pf.plot_trades(dbal, benchmark=benchmark.dbal)"
   ]
  },
  {
   "cell_type": "markdown",
   "metadata": {},
   "source": [
    "Bar Graph: Strategy vs Benchmark"
   ]
  },
  {
   "cell_type": "code",
   "execution_count": 15,
   "metadata": {
    "ExecuteTime": {
     "end_time": "2020-02-17T03:31:27.424917Z",
     "start_time": "2020-02-17T03:31:27.161434Z"
    }
   },
   "outputs": [
    {
     "data": {
      "text/html": [
       "<div>\n",
       "<style scoped>\n",
       "    .dataframe tbody tr th:only-of-type {\n",
       "        vertical-align: middle;\n",
       "    }\n",
       "\n",
       "    .dataframe tbody tr th {\n",
       "        vertical-align: top;\n",
       "    }\n",
       "\n",
       "    .dataframe thead th {\n",
       "        text-align: right;\n",
       "    }\n",
       "</style>\n",
       "<table border=\"1\" class=\"dataframe\">\n",
       "  <thead>\n",
       "    <tr style=\"text-align: right;\">\n",
       "      <th></th>\n",
       "      <th>strategy</th>\n",
       "      <th>benchmark</th>\n",
       "    </tr>\n",
       "  </thead>\n",
       "  <tbody>\n",
       "    <tr>\n",
       "      <th>annual_return_rate</th>\n",
       "      <td>12.57</td>\n",
       "      <td>8.14</td>\n",
       "    </tr>\n",
       "    <tr>\n",
       "      <th>max_closed_out_drawdown</th>\n",
       "      <td>-29.34</td>\n",
       "      <td>-56.42</td>\n",
       "    </tr>\n",
       "    <tr>\n",
       "      <th>annualized_return_over_max_drawdown</th>\n",
       "      <td>0.43</td>\n",
       "      <td>0.14</td>\n",
       "    </tr>\n",
       "    <tr>\n",
       "      <th>best_month</th>\n",
       "      <td>23.45</td>\n",
       "      <td>23.06</td>\n",
       "    </tr>\n",
       "    <tr>\n",
       "      <th>worst_month</th>\n",
       "      <td>-25.68</td>\n",
       "      <td>-31.38</td>\n",
       "    </tr>\n",
       "    <tr>\n",
       "      <th>sharpe_ratio</th>\n",
       "      <td>0.72</td>\n",
       "      <td>0.51</td>\n",
       "    </tr>\n",
       "    <tr>\n",
       "      <th>sortino_ratio</th>\n",
       "      <td>0.54</td>\n",
       "      <td>0.64</td>\n",
       "    </tr>\n",
       "    <tr>\n",
       "      <th>monthly_std</th>\n",
       "      <td>4.02</td>\n",
       "      <td>4.52</td>\n",
       "    </tr>\n",
       "    <tr>\n",
       "      <th>annual_std</th>\n",
       "      <td>17.20</td>\n",
       "      <td>16.55</td>\n",
       "    </tr>\n",
       "  </tbody>\n",
       "</table>\n",
       "</div>"
      ],
      "text/plain": [
       "                                     strategy  benchmark\n",
       "annual_return_rate                      12.57       8.14\n",
       "max_closed_out_drawdown                -29.34     -56.42\n",
       "annualized_return_over_max_drawdown      0.43       0.14\n",
       "best_month                              23.45      23.06\n",
       "worst_month                            -25.68     -31.38\n",
       "sharpe_ratio                             0.72       0.51\n",
       "sortino_ratio                            0.54       0.64\n",
       "monthly_std                              4.02       4.52\n",
       "annual_std                              17.20      16.55"
      ]
     },
     "execution_count": 15,
     "metadata": {},
     "output_type": "execute_result"
    },
    {
     "data": {
      "image/png": "[encoded data removed]",
      "text/plain": [
       "<Figure size 720x504 with 1 Axes>"
      ]
     },
     "metadata": {
      "needs_background": "light"
     },
     "output_type": "display_data"
    }
   ],
   "source": [
    "df = pf.plot_bar_graph(stats, benchmark.stats)\n",
    "df"
   ]
  }
 ],
 "metadata": {
  "kernelspec": {
   "display_name": "Python 3",
   "language": "python",
   "name": "python3"
  },
  "language_info": {
   "codemirror_mode": {
    "name": "ipython",
    "version": 3
   },
   "file_extension": ".py",
   "mimetype": "text/x-python",
   "name": "python",
   "nbconvert_exporter": "python",
   "pygments_lexer": "ipython3",
   "version": "3.8.5"
  },
  "latex_envs": {
   "LaTeX_envs_menu_present": true,
   "autoclose": false,
   "autocomplete": true,
   "bibliofile": "biblio.bib",
   "cite_by": "apalike",
   "current_citInitial": 1,
   "eqLabelWithNumbers": true,
   "eqNumInitial": 1,
   "hotkeys": {
    "equation": "Ctrl-E",
    "itemize": "Ctrl-I"
   },
   "labels_anchors": false,
   "latex_user_defs": false,
   "report_style_numbering": false,
   "user_envs_cfg": false
  }
 },
 "nbformat": 4,
 "nbformat_minor": 1
}
