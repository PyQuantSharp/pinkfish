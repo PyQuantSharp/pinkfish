{
 "cells": [
  {
   "cell_type": "markdown",
   "metadata": {},
   "source": [
    "# Double 7's (Short Term Trading Strategies that Work)\n",
    "\n",
    "    1. The SPY is above its 200-day moving average\n",
    "    2. The SPY closes at a X-day low, buy with full capital.\n",
    "    3. If the SPY closes at a X-day high, sell some.\n",
    "       If it sets further highs, sell some more, etc...\n",
    "    4. If you have free cash, use it all when fresh lows are set.\n",
    "    \n",
    "    (optimize for number of positions)"
   ]
  },
  {
   "cell_type": "code",
   "execution_count": 1,
   "metadata": {
    "ExecuteTime": {
     "end_time": "2020-02-17T03:37:10.595997Z",
     "start_time": "2020-02-17T03:37:09.364998Z"
    }
   },
   "outputs": [],
   "source": [
    "import pandas as pd\n",
    "import matplotlib.pyplot as plt\n",
    "import datetime\n",
    "from talib.abstract import *\n",
    "\n",
    "import pinkfish as pf\n",
    "import strategy\n",
    "\n",
    "# format price data\n",
    "pd.options.display.float_format = '{:0.2f}'.format\n",
    "\n",
    "%matplotlib inline"
   ]
  },
  {
   "cell_type": "code",
   "execution_count": 2,
   "metadata": {
    "ExecuteTime": {
     "end_time": "2020-02-17T03:37:10.613866Z",
     "start_time": "2020-02-17T03:37:10.606623Z"
    }
   },
   "outputs": [],
   "source": [
    "# set size of inline plots\n",
    "'''note: rcParams can't be in same cell as import matplotlib\n",
    "   or %matplotlib inline\n",
    "   \n",
    "   %matplotlib notebook: will lead to interactive plots embedded within\n",
    "   the notebook, you can zoom and resize the figure\n",
    "   \n",
    "   %matplotlib inline: only draw static images in the notebook\n",
    "'''\n",
    "plt.rcParams[\"figure.figsize\"] = (10, 7)"
   ]
  },
  {
   "cell_type": "markdown",
   "metadata": {},
   "source": [
    "Some global data"
   ]
  },
  {
   "cell_type": "code",
   "execution_count": 3,
   "metadata": {
    "ExecuteTime": {
     "end_time": "2020-02-17T03:37:10.626332Z",
     "start_time": "2020-02-17T03:37:10.618683Z"
    }
   },
   "outputs": [],
   "source": [
    "#symbol = '^GSPC'\n",
    "#symbol = 'SPY'\n",
    "#symbol = 'DIA'\n",
    "#symbol = 'QQQ'\n",
    "#symbol = 'IWM'\n",
    "#symbol = 'TLT'\n",
    "#symbol = 'GLD'\n",
    "#symbol = 'AAPL'\n",
    "#symbol = 'BBRY'\n",
    "symbol = 'GDX'\n",
    "capital = 10000\n",
    "start = datetime.datetime(2000, 1, 1)\n",
    "#end = datetime.datetime(2010, 12, 1)\n",
    "end = datetime.datetime.now()"
   ]
  },
  {
   "cell_type": "markdown",
   "metadata": {},
   "source": [
    "Define high low trade periods"
   ]
  },
  {
   "cell_type": "code",
   "execution_count": 4,
   "metadata": {
    "ExecuteTime": {
     "end_time": "2020-02-17T03:37:10.637828Z",
     "start_time": "2020-02-17T03:37:10.633435Z"
    }
   },
   "outputs": [],
   "source": [
    "period = 7"
   ]
  },
  {
   "cell_type": "markdown",
   "metadata": {},
   "source": [
    "Define max number of positions to scale into"
   ]
  },
  {
   "cell_type": "code",
   "execution_count": 5,
   "metadata": {
    "ExecuteTime": {
     "end_time": "2020-02-17T03:37:10.655625Z",
     "start_time": "2020-02-17T03:37:10.647619Z"
    }
   },
   "outputs": [],
   "source": [
    "pos = range(1, 10)\n",
    "pos = [str(p) for p in pos]"
   ]
  },
  {
   "cell_type": "markdown",
   "metadata": {},
   "source": [
    "Run Strategy"
   ]
  },
  {
   "cell_type": "code",
   "execution_count": 6,
   "metadata": {
    "ExecuteTime": {
     "end_time": "2020-02-17T03:37:16.010934Z",
     "start_time": "2020-02-17T03:37:10.660456Z"
    }
   },
   "outputs": [
    {
     "name": "stdout",
     "output_type": "stream",
     "text": [
      "1 2 3 4 5 6 7 8 9 "
     ]
    }
   ],
   "source": [
    "strategies = pd.Series(dtype=object)\n",
    "for p in pos:\n",
    "    print(\"{0}\".format(p), end=\" \")\n",
    "    strategies[p] = strategy.Strategy(symbol, capital, start, end, period=period, max_positions=int(p))\n",
    "    strategies[p].run()\n",
    "    strategies[p].tlog, strategies[p].dbal = strategies[p].get_logs()\n",
    "    strategies[p].stats = strategies[p].get_stats()"
   ]
  },
  {
   "cell_type": "markdown",
   "metadata": {},
   "source": [
    "Summarize results"
   ]
  },
  {
   "cell_type": "code",
   "execution_count": 8,
   "metadata": {
    "ExecuteTime": {
     "end_time": "2020-02-17T03:37:16.156482Z",
     "start_time": "2020-02-17T03:37:16.068798Z"
    },
    "scrolled": false
   },
   "outputs": [
    {
     "data": {
      "text/html": [
       "<div>\n",
       "<style scoped>\n",
       "    .dataframe tbody tr th:only-of-type {\n",
       "        vertical-align: middle;\n",
       "    }\n",
       "\n",
       "    .dataframe tbody tr th {\n",
       "        vertical-align: top;\n",
       "    }\n",
       "\n",
       "    .dataframe thead th {\n",
       "        text-align: right;\n",
       "    }\n",
       "</style>\n",
       "<table border=\"1\" class=\"dataframe\">\n",
       "  <thead>\n",
       "    <tr style=\"text-align: right;\">\n",
       "      <th></th>\n",
       "      <th>1</th>\n",
       "      <th>2</th>\n",
       "      <th>3</th>\n",
       "      <th>4</th>\n",
       "      <th>5</th>\n",
       "      <th>6</th>\n",
       "      <th>7</th>\n",
       "      <th>8</th>\n",
       "      <th>9</th>\n",
       "    </tr>\n",
       "  </thead>\n",
       "  <tbody>\n",
       "    <tr>\n",
       "      <th>annual_return_rate</th>\n",
       "      <td>10.14</td>\n",
       "      <td>8.07</td>\n",
       "      <td>7.66</td>\n",
       "      <td>8.10</td>\n",
       "      <td>8.20</td>\n",
       "      <td>8.29</td>\n",
       "      <td>8.29</td>\n",
       "      <td>8.13</td>\n",
       "      <td>7.89</td>\n",
       "    </tr>\n",
       "    <tr>\n",
       "      <th>max_closed_out_drawdown</th>\n",
       "      <td>-36.26</td>\n",
       "      <td>-36.26</td>\n",
       "      <td>-39.23</td>\n",
       "      <td>-42.44</td>\n",
       "      <td>-43.46</td>\n",
       "      <td>-44.96</td>\n",
       "      <td>-46.11</td>\n",
       "      <td>-47.56</td>\n",
       "      <td>-48.51</td>\n",
       "    </tr>\n",
       "    <tr>\n",
       "      <th>annualized_return_over_max_drawdown</th>\n",
       "      <td>0.28</td>\n",
       "      <td>0.22</td>\n",
       "      <td>0.20</td>\n",
       "      <td>0.19</td>\n",
       "      <td>0.19</td>\n",
       "      <td>0.18</td>\n",
       "      <td>0.18</td>\n",
       "      <td>0.17</td>\n",
       "      <td>0.16</td>\n",
       "    </tr>\n",
       "    <tr>\n",
       "      <th>drawdown_recovery_period</th>\n",
       "      <td>157.00</td>\n",
       "      <td>168.00</td>\n",
       "      <td>652.00</td>\n",
       "      <td>1752.00</td>\n",
       "      <td>1854.00</td>\n",
       "      <td>1875.00</td>\n",
       "      <td>635.00</td>\n",
       "      <td>636.00</td>\n",
       "      <td>636.00</td>\n",
       "    </tr>\n",
       "    <tr>\n",
       "      <th>best_month</th>\n",
       "      <td>38.43</td>\n",
       "      <td>38.51</td>\n",
       "      <td>43.11</td>\n",
       "      <td>47.84</td>\n",
       "      <td>50.62</td>\n",
       "      <td>52.47</td>\n",
       "      <td>53.62</td>\n",
       "      <td>54.36</td>\n",
       "      <td>55.05</td>\n",
       "    </tr>\n",
       "    <tr>\n",
       "      <th>worst_month</th>\n",
       "      <td>-30.31</td>\n",
       "      <td>-30.07</td>\n",
       "      <td>-30.05</td>\n",
       "      <td>-29.52</td>\n",
       "      <td>-29.00</td>\n",
       "      <td>-30.04</td>\n",
       "      <td>-30.71</td>\n",
       "      <td>-31.16</td>\n",
       "      <td>-31.52</td>\n",
       "    </tr>\n",
       "    <tr>\n",
       "      <th>sharpe_ratio</th>\n",
       "      <td>0.56</td>\n",
       "      <td>0.47</td>\n",
       "      <td>0.44</td>\n",
       "      <td>0.46</td>\n",
       "      <td>0.45</td>\n",
       "      <td>0.45</td>\n",
       "      <td>0.45</td>\n",
       "      <td>0.44</td>\n",
       "      <td>0.43</td>\n",
       "    </tr>\n",
       "    <tr>\n",
       "      <th>sortino_ratio</th>\n",
       "      <td>0.35</td>\n",
       "      <td>0.34</td>\n",
       "      <td>0.35</td>\n",
       "      <td>0.38</td>\n",
       "      <td>0.40</td>\n",
       "      <td>0.42</td>\n",
       "      <td>0.43</td>\n",
       "      <td>0.43</td>\n",
       "      <td>0.43</td>\n",
       "    </tr>\n",
       "    <tr>\n",
       "      <th>monthly_std</th>\n",
       "      <td>4.22</td>\n",
       "      <td>4.40</td>\n",
       "      <td>4.75</td>\n",
       "      <td>5.06</td>\n",
       "      <td>5.27</td>\n",
       "      <td>5.50</td>\n",
       "      <td>5.70</td>\n",
       "      <td>5.87</td>\n",
       "      <td>6.00</td>\n",
       "    </tr>\n",
       "    <tr>\n",
       "      <th>pct_time_in_market</th>\n",
       "      <td>22.39</td>\n",
       "      <td>30.36</td>\n",
       "      <td>36.18</td>\n",
       "      <td>41.23</td>\n",
       "      <td>45.99</td>\n",
       "      <td>49.23</td>\n",
       "      <td>52.00</td>\n",
       "      <td>55.01</td>\n",
       "      <td>56.53</td>\n",
       "    </tr>\n",
       "    <tr>\n",
       "      <th>total_num_trades</th>\n",
       "      <td>95.00</td>\n",
       "      <td>194.00</td>\n",
       "      <td>267.00</td>\n",
       "      <td>328.00</td>\n",
       "      <td>376.00</td>\n",
       "      <td>418.00</td>\n",
       "      <td>449.00</td>\n",
       "      <td>481.00</td>\n",
       "      <td>497.00</td>\n",
       "    </tr>\n",
       "    <tr>\n",
       "      <th>pct_profitable_trades</th>\n",
       "      <td>70.53</td>\n",
       "      <td>66.49</td>\n",
       "      <td>64.79</td>\n",
       "      <td>64.94</td>\n",
       "      <td>64.89</td>\n",
       "      <td>64.11</td>\n",
       "      <td>64.14</td>\n",
       "      <td>64.24</td>\n",
       "      <td>63.38</td>\n",
       "    </tr>\n",
       "    <tr>\n",
       "      <th>avg_points</th>\n",
       "      <td>0.53</td>\n",
       "      <td>0.45</td>\n",
       "      <td>0.44</td>\n",
       "      <td>0.52</td>\n",
       "      <td>0.61</td>\n",
       "      <td>0.66</td>\n",
       "      <td>0.72</td>\n",
       "      <td>0.76</td>\n",
       "      <td>0.80</td>\n",
       "    </tr>\n",
       "    <tr>\n",
       "      <th>pct_profitable_trades</th>\n",
       "      <td>70.53</td>\n",
       "      <td>66.49</td>\n",
       "      <td>64.79</td>\n",
       "      <td>64.94</td>\n",
       "      <td>64.89</td>\n",
       "      <td>64.11</td>\n",
       "      <td>64.14</td>\n",
       "      <td>64.24</td>\n",
       "      <td>63.38</td>\n",
       "    </tr>\n",
       "  </tbody>\n",
       "</table>\n",
       "</div>"
      ],
      "text/plain": [
       "                                         1      2      3       4       5  \\\n",
       "annual_return_rate                   10.14   8.07   7.66    8.10    8.20   \n",
       "max_closed_out_drawdown             -36.26 -36.26 -39.23  -42.44  -43.46   \n",
       "annualized_return_over_max_drawdown   0.28   0.22   0.20    0.19    0.19   \n",
       "drawdown_recovery_period            157.00 168.00 652.00 1752.00 1854.00   \n",
       "best_month                           38.43  38.51  43.11   47.84   50.62   \n",
       "worst_month                         -30.31 -30.07 -30.05  -29.52  -29.00   \n",
       "sharpe_ratio                          0.56   0.47   0.44    0.46    0.45   \n",
       "sortino_ratio                         0.35   0.34   0.35    0.38    0.40   \n",
       "monthly_std                           4.22   4.40   4.75    5.06    5.27   \n",
       "pct_time_in_market                   22.39  30.36  36.18   41.23   45.99   \n",
       "total_num_trades                     95.00 194.00 267.00  328.00  376.00   \n",
       "pct_profitable_trades                70.53  66.49  64.79   64.94   64.89   \n",
       "avg_points                            0.53   0.45   0.44    0.52    0.61   \n",
       "pct_profitable_trades                70.53  66.49  64.79   64.94   64.89   \n",
       "\n",
       "                                          6      7      8      9  \n",
       "annual_return_rate                     8.29   8.29   8.13   7.89  \n",
       "max_closed_out_drawdown              -44.96 -46.11 -47.56 -48.51  \n",
       "annualized_return_over_max_drawdown    0.18   0.18   0.17   0.16  \n",
       "drawdown_recovery_period            1875.00 635.00 636.00 636.00  \n",
       "best_month                            52.47  53.62  54.36  55.05  \n",
       "worst_month                          -30.04 -30.71 -31.16 -31.52  \n",
       "sharpe_ratio                           0.45   0.45   0.44   0.43  \n",
       "sortino_ratio                          0.42   0.43   0.43   0.43  \n",
       "monthly_std                            5.50   5.70   5.87   6.00  \n",
       "pct_time_in_market                    49.23  52.00  55.01  56.53  \n",
       "total_num_trades                     418.00 449.00 481.00 497.00  \n",
       "pct_profitable_trades                 64.11  64.14  64.24  63.38  \n",
       "avg_points                             0.66   0.72   0.76   0.80  \n",
       "pct_profitable_trades                 64.11  64.14  64.24  63.38  "
      ]
     },
     "execution_count": 8,
     "metadata": {},
     "output_type": "execute_result"
    }
   ],
   "source": [
    "metrics = ('annual_return_rate',\n",
    "           'max_closed_out_drawdown',\n",
    "           'annualized_return_over_max_drawdown',\n",
    "           'drawdown_recovery_period',\n",
    "           'best_month',\n",
    "           'worst_month',\n",
    "           'sharpe_ratio',\n",
    "           'sortino_ratio',\n",
    "           'monthly_std',\n",
    "           'pct_time_in_market',\n",
    "           'total_num_trades',\n",
    "           'pct_profitable_trades',\n",
    "           'avg_points',\n",
    "           'pct_profitable_trades')\n",
    "\n",
    "df = strategy.summary(strategies, metrics)\n",
    "df"
   ]
  },
  {
   "cell_type": "markdown",
   "metadata": {},
   "source": [
    "Bar graphs"
   ]
  },
  {
   "cell_type": "code",
   "execution_count": 9,
   "metadata": {
    "ExecuteTime": {
     "end_time": "2020-02-17T03:37:17.057759Z",
     "start_time": "2020-02-17T03:37:16.160852Z"
    }
   },
   "outputs": [
    {
     "data": {
      "image/png": "[encoded data removed]",
      "text/plain": [
       "<Figure size 720x504 with 1 Axes>"
      ]
     },
     "metadata": {
      "needs_background": "light"
     },
     "output_type": "display_data"
    },
    {
     "data": {
      "image/png": "[encoded data removed]",
      "text/plain": [
       "<Figure size 720x504 with 1 Axes>"
      ]
     },
     "metadata": {
      "needs_background": "light"
     },
     "output_type": "display_data"
    },
    {
     "data": {
      "image/png": "[encoded data removed]",
      "text/plain": [
       "<Figure size 720x504 with 1 Axes>"
      ]
     },
     "metadata": {
      "needs_background": "light"
     },
     "output_type": "display_data"
    }
   ],
   "source": [
    "strategy.plot_bar_graph(df, 'annual_return_rate')\n",
    "strategy.plot_bar_graph(df, 'sharpe_ratio')\n",
    "strategy.plot_bar_graph(df, 'max_closed_out_drawdown')"
   ]
  },
  {
   "cell_type": "markdown",
   "metadata": {},
   "source": [
    "Run Benchmark"
   ]
  },
  {
   "cell_type": "code",
   "execution_count": 11,
   "metadata": {
    "ExecuteTime": {
     "end_time": "2020-02-17T03:37:17.708295Z",
     "start_time": "2020-02-17T03:37:17.063464Z"
    }
   },
   "outputs": [],
   "source": [
    "s = strategies[pos[0]]\n",
    "benchmark = pf.Benchmark(symbol, capital, s.start, s.end)\n",
    "benchmark.run()"
   ]
  },
  {
   "cell_type": "markdown",
   "metadata": {},
   "source": [
    "Equity curve"
   ]
  },
  {
   "cell_type": "code",
   "execution_count": 12,
   "metadata": {
    "ExecuteTime": {
     "end_time": "2020-02-17T03:37:17.980435Z",
     "start_time": "2020-02-17T03:37:17.718709Z"
    }
   },
   "outputs": [
    {
     "data": {
      "image/png": "[encoded data removed]",
      "text/plain": [
       "<Figure size 720x504 with 1 Axes>"
      ]
     },
     "metadata": {
      "needs_background": "light"
     },
     "output_type": "display_data"
    }
   ],
   "source": [
    "pf.plot_equity_curve(strategies['1'].dbal, benchmark=benchmark.dbal)"
   ]
  },
  {
   "cell_type": "code",
   "execution_count": null,
   "metadata": {},
   "outputs": [],
   "source": []
  }
 ],
 "metadata": {
  "kernelspec": {
   "display_name": "Python 3",
   "language": "python",
   "name": "python3"
  },
  "language_info": {
   "codemirror_mode": {
    "name": "ipython",
    "version": 3
   },
   "file_extension": ".py",
   "mimetype": "text/x-python",
   "name": "python",
   "nbconvert_exporter": "python",
   "pygments_lexer": "ipython3",
   "version": "3.8.5"
  },
  "latex_envs": {
   "LaTeX_envs_menu_present": true,
   "autoclose": false,
   "autocomplete": true,
   "bibliofile": "biblio.bib",
   "cite_by": "apalike",
   "current_citInitial": 1,
   "eqLabelWithNumbers": true,
   "eqNumInitial": 1,
   "hotkeys": {
    "equation": "Ctrl-E",
    "itemize": "Ctrl-I"
   },
   "labels_anchors": false,
   "latex_user_defs": false,
   "report_style_numbering": false,
   "user_envs_cfg": false
  }
 },
 "nbformat": 4,
 "nbformat_minor": 1
}
