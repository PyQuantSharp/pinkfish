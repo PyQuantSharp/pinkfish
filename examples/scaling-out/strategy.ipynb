{
 "cells": [
  {
   "cell_type": "markdown",
   "metadata": {},
   "source": [
    "# Double 7's (Short Term Trading Strategies that Work)\n",
    "\n",
    "    1. The SPY is above its 200-day moving average\n",
    "    2. The SPY closes at a X-day low, buy with full capital.\n",
    "    3. If the SPY closes at a X-day high, sell some.\n",
    "       If it sets further highs, sell some more, etc...\n",
    "    4. If you have free cash, use it all when fresh lows are set.\n",
    "    \n",
    "    (Scaling out)"
   ]
  },
  {
   "cell_type": "code",
   "execution_count": 1,
   "metadata": {
    "ExecuteTime": {
     "end_time": "2020-02-17T03:34:19.691223Z",
     "start_time": "2020-02-17T03:34:18.377601Z"
    }
   },
   "outputs": [],
   "source": [
    "import pandas as pd\n",
    "import matplotlib.pyplot as plt\n",
    "import datetime\n",
    "from talib.abstract import *\n",
    "\n",
    "import pinkfish as pf\n",
    "import strategy\n",
    "\n",
    "# format price data\n",
    "pd.options.display.float_format = '{:0.2f}'.format\n",
    "\n",
    "%matplotlib inline"
   ]
  },
  {
   "cell_type": "code",
   "execution_count": 2,
   "metadata": {
    "ExecuteTime": {
     "end_time": "2020-02-17T03:34:19.708716Z",
     "start_time": "2020-02-17T03:34:19.701218Z"
    }
   },
   "outputs": [],
   "source": [
    "# set size of inline plots\n",
    "'''note: rcParams can't be in same cell as import matplotlib\n",
    "   or %matplotlib inline\n",
    "   \n",
    "   %matplotlib notebook: will lead to interactive plots embedded within\n",
    "   the notebook, you can zoom and resize the figure\n",
    "   \n",
    "   %matplotlib inline: only draw static images in the notebook\n",
    "'''\n",
    "plt.rcParams[\"figure.figsize\"] = (10, 7)"
   ]
  },
  {
   "cell_type": "markdown",
   "metadata": {},
   "source": [
    "Some global data"
   ]
  },
  {
   "cell_type": "code",
   "execution_count": 3,
   "metadata": {
    "ExecuteTime": {
     "end_time": "2020-02-17T03:34:19.721829Z",
     "start_time": "2020-02-17T03:34:19.712902Z"
    }
   },
   "outputs": [],
   "source": [
    "#symbol = '^GSPC'\n",
    "symbol = 'SPY'\n",
    "#symbol = 'DIA'\n",
    "#symbol = 'QQQ'\n",
    "#symbol = 'IWM'\n",
    "#symbol = 'TLT'\n",
    "#symbol = 'GLD'\n",
    "#symbol = 'AAPL'\n",
    "#symbol = 'BBRY'\n",
    "#symbol = 'GDX'\n",
    "capital = 10000\n",
    "start = datetime.datetime(1900, 1, 1)\n",
    "end = datetime.datetime.now()"
   ]
  },
  {
   "cell_type": "markdown",
   "metadata": {},
   "source": [
    "Define high low trade periods"
   ]
  },
  {
   "cell_type": "code",
   "execution_count": 4,
   "metadata": {
    "ExecuteTime": {
     "end_time": "2020-02-17T03:34:19.733196Z",
     "start_time": "2020-02-17T03:34:19.726497Z"
    }
   },
   "outputs": [],
   "source": [
    "period = 7"
   ]
  },
  {
   "cell_type": "markdown",
   "metadata": {},
   "source": [
    "Define max number of positions to scale into"
   ]
  },
  {
   "cell_type": "code",
   "execution_count": 5,
   "metadata": {
    "ExecuteTime": {
     "end_time": "2020-02-17T03:34:19.751131Z",
     "start_time": "2020-02-17T03:34:19.742394Z"
    }
   },
   "outputs": [],
   "source": [
    "max_positions = 2"
   ]
  },
  {
   "cell_type": "markdown",
   "metadata": {},
   "source": [
    "Define the margin multiple"
   ]
  },
  {
   "cell_type": "code",
   "execution_count": 6,
   "metadata": {},
   "outputs": [],
   "source": [
    "margin = 1"
   ]
  },
  {
   "cell_type": "markdown",
   "metadata": {},
   "source": [
    "Run Strategy"
   ]
  },
  {
   "cell_type": "code",
   "execution_count": 7,
   "metadata": {
    "ExecuteTime": {
     "end_time": "2020-02-17T03:34:19.941261Z",
     "start_time": "2020-02-17T03:34:19.752834Z"
    },
    "scrolled": false
   },
   "outputs": [],
   "source": [
    "s = strategy.Strategy(symbol, capital, start, end, use_adj=False, stop_loss_pct=85, margin=margin,\n",
    "                      period=period, max_positions=max_positions)\n",
    "s.run()"
   ]
  },
  {
   "cell_type": "markdown",
   "metadata": {},
   "source": [
    "Retrieve log DataFrames"
   ]
  },
  {
   "cell_type": "code",
   "execution_count": 8,
   "metadata": {
    "ExecuteTime": {
     "end_time": "2020-02-17T03:34:20.504120Z",
     "start_time": "2020-02-17T03:34:19.953379Z"
    }
   },
   "outputs": [],
   "source": [
    "tlog, dbal = s.get_logs()\n",
    "stats = s.get_stats()"
   ]
  },
  {
   "cell_type": "code",
   "execution_count": 9,
   "metadata": {
    "ExecuteTime": {
     "end_time": "2020-02-17T03:34:20.555125Z",
     "start_time": "2020-02-17T03:34:20.513983Z"
    }
   },
   "outputs": [
    {
     "data": {
      "text/html": [
       "<div>\n",
       "<style scoped>\n",
       "    .dataframe tbody tr th:only-of-type {\n",
       "        vertical-align: middle;\n",
       "    }\n",
       "\n",
       "    .dataframe tbody tr th {\n",
       "        vertical-align: top;\n",
       "    }\n",
       "\n",
       "    .dataframe thead th {\n",
       "        text-align: right;\n",
       "    }\n",
       "</style>\n",
       "<table border=\"1\" class=\"dataframe\">\n",
       "  <thead>\n",
       "    <tr style=\"text-align: right;\">\n",
       "      <th></th>\n",
       "      <th>entry_date</th>\n",
       "      <th>entry_price</th>\n",
       "      <th>exit_date</th>\n",
       "      <th>exit_price</th>\n",
       "      <th>pl_points</th>\n",
       "      <th>pl_cash</th>\n",
       "      <th>qty</th>\n",
       "      <th>cumul_total</th>\n",
       "      <th>direction</th>\n",
       "      <th>symbol</th>\n",
       "    </tr>\n",
       "  </thead>\n",
       "  <tbody>\n",
       "    <tr>\n",
       "      <th>518</th>\n",
       "      <td>2020-10-19</td>\n",
       "      <td>342.01</td>\n",
       "      <td>2020-11-05</td>\n",
       "      <td>350.24</td>\n",
       "      <td>8.23</td>\n",
       "      <td>691.32</td>\n",
       "      <td>84</td>\n",
       "      <td>47945.63</td>\n",
       "      <td>LONG</td>\n",
       "      <td>SPY</td>\n",
       "    </tr>\n",
       "    <tr>\n",
       "      <th>519</th>\n",
       "      <td>2020-12-11</td>\n",
       "      <td>366.30</td>\n",
       "      <td>2020-12-16</td>\n",
       "      <td>370.17</td>\n",
       "      <td>3.87</td>\n",
       "      <td>305.73</td>\n",
       "      <td>79</td>\n",
       "      <td>48251.36</td>\n",
       "      <td>LONG</td>\n",
       "      <td>SPY</td>\n",
       "    </tr>\n",
       "    <tr>\n",
       "      <th>520</th>\n",
       "      <td>2020-12-11</td>\n",
       "      <td>366.30</td>\n",
       "      <td>2020-12-17</td>\n",
       "      <td>372.24</td>\n",
       "      <td>5.94</td>\n",
       "      <td>469.26</td>\n",
       "      <td>79</td>\n",
       "      <td>48720.62</td>\n",
       "      <td>LONG</td>\n",
       "      <td>SPY</td>\n",
       "    </tr>\n",
       "    <tr>\n",
       "      <th>521</th>\n",
       "      <td>2021-01-15</td>\n",
       "      <td>375.70</td>\n",
       "      <td>2021-01-20</td>\n",
       "      <td>383.89</td>\n",
       "      <td>8.19</td>\n",
       "      <td>638.82</td>\n",
       "      <td>78</td>\n",
       "      <td>49359.44</td>\n",
       "      <td>LONG</td>\n",
       "      <td>SPY</td>\n",
       "    </tr>\n",
       "    <tr>\n",
       "      <th>522</th>\n",
       "      <td>2021-01-15</td>\n",
       "      <td>375.70</td>\n",
       "      <td>2021-01-21</td>\n",
       "      <td>384.24</td>\n",
       "      <td>8.54</td>\n",
       "      <td>666.12</td>\n",
       "      <td>78</td>\n",
       "      <td>50025.56</td>\n",
       "      <td>LONG</td>\n",
       "      <td>SPY</td>\n",
       "    </tr>\n",
       "    <tr>\n",
       "      <th>523</th>\n",
       "      <td>2021-01-27</td>\n",
       "      <td>374.41</td>\n",
       "      <td>2021-02-04</td>\n",
       "      <td>386.19</td>\n",
       "      <td>11.78</td>\n",
       "      <td>942.40</td>\n",
       "      <td>80</td>\n",
       "      <td>50967.96</td>\n",
       "      <td>LONG</td>\n",
       "      <td>SPY</td>\n",
       "    </tr>\n",
       "    <tr>\n",
       "      <th>524</th>\n",
       "      <td>2021-01-27</td>\n",
       "      <td>374.41</td>\n",
       "      <td>2021-02-05</td>\n",
       "      <td>387.71</td>\n",
       "      <td>13.30</td>\n",
       "      <td>1064.00</td>\n",
       "      <td>80</td>\n",
       "      <td>52031.95</td>\n",
       "      <td>LONG</td>\n",
       "      <td>SPY</td>\n",
       "    </tr>\n",
       "    <tr>\n",
       "      <th>525</th>\n",
       "      <td>2021-02-19</td>\n",
       "      <td>390.03</td>\n",
       "      <td>2021-03-10</td>\n",
       "      <td>389.58</td>\n",
       "      <td>-0.45</td>\n",
       "      <td>-35.55</td>\n",
       "      <td>79</td>\n",
       "      <td>51996.40</td>\n",
       "      <td>LONG</td>\n",
       "      <td>SPY</td>\n",
       "    </tr>\n",
       "    <tr>\n",
       "      <th>526</th>\n",
       "      <td>2021-02-19</td>\n",
       "      <td>390.03</td>\n",
       "      <td>2021-03-11</td>\n",
       "      <td>393.53</td>\n",
       "      <td>3.50</td>\n",
       "      <td>280.00</td>\n",
       "      <td>80</td>\n",
       "      <td>52276.40</td>\n",
       "      <td>LONG</td>\n",
       "      <td>SPY</td>\n",
       "    </tr>\n",
       "    <tr>\n",
       "      <th>527</th>\n",
       "      <td>2021-03-19</td>\n",
       "      <td>389.48</td>\n",
       "      <td>2021-03-26</td>\n",
       "      <td>395.98</td>\n",
       "      <td>6.50</td>\n",
       "      <td>1033.50</td>\n",
       "      <td>159</td>\n",
       "      <td>53309.90</td>\n",
       "      <td>LONG</td>\n",
       "      <td>SPY</td>\n",
       "    </tr>\n",
       "  </tbody>\n",
       "</table>\n",
       "</div>"
      ],
      "text/plain": [
       "    entry_date  entry_price  exit_date  exit_price  pl_points  pl_cash  qty  \\\n",
       "518 2020-10-19       342.01 2020-11-05      350.24       8.23   691.32   84   \n",
       "519 2020-12-11       366.30 2020-12-16      370.17       3.87   305.73   79   \n",
       "520 2020-12-11       366.30 2020-12-17      372.24       5.94   469.26   79   \n",
       "521 2021-01-15       375.70 2021-01-20      383.89       8.19   638.82   78   \n",
       "522 2021-01-15       375.70 2021-01-21      384.24       8.54   666.12   78   \n",
       "523 2021-01-27       374.41 2021-02-04      386.19      11.78   942.40   80   \n",
       "524 2021-01-27       374.41 2021-02-05      387.71      13.30  1064.00   80   \n",
       "525 2021-02-19       390.03 2021-03-10      389.58      -0.45   -35.55   79   \n",
       "526 2021-02-19       390.03 2021-03-11      393.53       3.50   280.00   80   \n",
       "527 2021-03-19       389.48 2021-03-26      395.98       6.50  1033.50  159   \n",
       "\n",
       "     cumul_total direction symbol  \n",
       "518     47945.63      LONG    SPY  \n",
       "519     48251.36      LONG    SPY  \n",
       "520     48720.62      LONG    SPY  \n",
       "521     49359.44      LONG    SPY  \n",
       "522     50025.56      LONG    SPY  \n",
       "523     50967.96      LONG    SPY  \n",
       "524     52031.95      LONG    SPY  \n",
       "525     51996.40      LONG    SPY  \n",
       "526     52276.40      LONG    SPY  \n",
       "527     53309.90      LONG    SPY  "
      ]
     },
     "execution_count": 9,
     "metadata": {},
     "output_type": "execute_result"
    }
   ],
   "source": [
    "tlog.tail(10)"
   ]
  },
  {
   "cell_type": "code",
   "execution_count": 10,
   "metadata": {
    "ExecuteTime": {
     "end_time": "2020-02-17T03:34:20.591121Z",
     "start_time": "2020-02-17T03:34:20.561781Z"
    }
   },
   "outputs": [
    {
     "data": {
      "text/html": [
       "<div>\n",
       "<style scoped>\n",
       "    .dataframe tbody tr th:only-of-type {\n",
       "        vertical-align: middle;\n",
       "    }\n",
       "\n",
       "    .dataframe tbody tr th {\n",
       "        vertical-align: top;\n",
       "    }\n",
       "\n",
       "    .dataframe thead th {\n",
       "        text-align: right;\n",
       "    }\n",
       "</style>\n",
       "<table border=\"1\" class=\"dataframe\">\n",
       "  <thead>\n",
       "    <tr style=\"text-align: right;\">\n",
       "      <th></th>\n",
       "      <th>high</th>\n",
       "      <th>low</th>\n",
       "      <th>close</th>\n",
       "      <th>shares</th>\n",
       "      <th>cash</th>\n",
       "      <th>leverage</th>\n",
       "      <th>state</th>\n",
       "    </tr>\n",
       "    <tr>\n",
       "      <th>date</th>\n",
       "      <th></th>\n",
       "      <th></th>\n",
       "      <th></th>\n",
       "      <th></th>\n",
       "      <th></th>\n",
       "      <th></th>\n",
       "      <th></th>\n",
       "    </tr>\n",
       "  </thead>\n",
       "  <tbody>\n",
       "    <tr>\n",
       "      <th>2021-03-22</th>\n",
       "      <td>63006.21</td>\n",
       "      <td>62354.31</td>\n",
       "      <td>62770.89</td>\n",
       "      <td>159</td>\n",
       "      <td>349.08</td>\n",
       "      <td>1.00</td>\n",
       "      <td>-</td>\n",
       "    </tr>\n",
       "    <tr>\n",
       "      <th>2021-03-23</th>\n",
       "      <td>62909.22</td>\n",
       "      <td>62146.02</td>\n",
       "      <td>62279.58</td>\n",
       "      <td>159</td>\n",
       "      <td>349.08</td>\n",
       "      <td>1.00</td>\n",
       "      <td>-</td>\n",
       "    </tr>\n",
       "    <tr>\n",
       "      <th>2021-03-24</th>\n",
       "      <td>62796.33</td>\n",
       "      <td>61956.81</td>\n",
       "      <td>61964.76</td>\n",
       "      <td>159</td>\n",
       "      <td>349.08</td>\n",
       "      <td>1.00</td>\n",
       "      <td>-</td>\n",
       "    </tr>\n",
       "    <tr>\n",
       "      <th>2021-03-25</th>\n",
       "      <td>62446.53</td>\n",
       "      <td>61389.18</td>\n",
       "      <td>62311.38</td>\n",
       "      <td>159</td>\n",
       "      <td>349.08</td>\n",
       "      <td>1.00</td>\n",
       "      <td>-</td>\n",
       "    </tr>\n",
       "    <tr>\n",
       "      <th>2021-03-26</th>\n",
       "      <td>63309.90</td>\n",
       "      <td>63309.90</td>\n",
       "      <td>63309.90</td>\n",
       "      <td>0</td>\n",
       "      <td>63309.90</td>\n",
       "      <td>1.00</td>\n",
       "      <td>X</td>\n",
       "    </tr>\n",
       "  </tbody>\n",
       "</table>\n",
       "</div>"
      ],
      "text/plain": [
       "               high      low    close  shares     cash  leverage state\n",
       "date                                                                  \n",
       "2021-03-22 63006.21 62354.31 62770.89     159   349.08      1.00     -\n",
       "2021-03-23 62909.22 62146.02 62279.58     159   349.08      1.00     -\n",
       "2021-03-24 62796.33 61956.81 61964.76     159   349.08      1.00     -\n",
       "2021-03-25 62446.53 61389.18 62311.38     159   349.08      1.00     -\n",
       "2021-03-26 63309.90 63309.90 63309.90       0 63309.90      1.00     X"
      ]
     },
     "execution_count": 10,
     "metadata": {},
     "output_type": "execute_result"
    }
   ],
   "source": [
    "dbal.tail()"
   ]
  },
  {
   "cell_type": "markdown",
   "metadata": {},
   "source": [
    "Generate strategy stats - display all available stats"
   ]
  },
  {
   "cell_type": "code",
   "execution_count": 11,
   "metadata": {
    "ExecuteTime": {
     "end_time": "2020-02-17T03:34:20.640169Z",
     "start_time": "2020-02-17T03:34:20.595069Z"
    }
   },
   "outputs": [
    {
     "name": "stdout",
     "output_type": "stream",
     "text": [
      "start                                                   1993-11-11\n",
      "end                                                     2021-03-26\n",
      "beginning_balance                                            10000\n",
      "ending_balance                                            63309.90\n",
      "total_net_profit                                          53309.90\n",
      "gross_profit                                             103126.70\n",
      "gross_loss                                               -49816.80\n",
      "profit_factor                                                 2.07\n",
      "return_on_initial_capital                                   533.10\n",
      "annual_return_rate                                            6.97\n",
      "trading_period                           27 years 4 months 15 days\n",
      "pct_time_in_market                                           38.00\n",
      "margin                                                           1\n",
      "avg_leverage                                                  1.00\n",
      "max_leverage                                                  1.00\n",
      "min_leverage                                                  1.00\n",
      "total_num_trades                                               528\n",
      "trades_per_year                                              19.29\n",
      "num_winning_trades                                             405\n",
      "num_losing_trades                                              121\n",
      "num_even_trades                                                  2\n",
      "pct_profitable_trades                                        76.70\n",
      "avg_profit_per_trade                                        100.97\n",
      "avg_profit_per_winning_trade                                254.63\n",
      "avg_loss_per_losing_trade                                  -411.71\n",
      "ratio_avg_profit_win_loss                                     0.62\n",
      "largest_profit_winning_trade                               1270.00\n",
      "largest_loss_losing_trade                                 -7155.72\n",
      "num_winning_points                                         1018.73\n",
      "num_losing_points                                          -466.74\n",
      "total_net_points                                            551.99\n",
      "avg_points                                                    1.05\n",
      "largest_points_winning_trade                                 13.30\n",
      "largest_points_losing_trade                                 -72.28\n",
      "avg_pct_gain_per_trade                                        0.81\n",
      "largest_pct_winning_trade                                     7.35\n",
      "largest_pct_losing_trade                                    -21.67\n",
      "expected_shortfall                                          -10.15\n",
      "max_consecutive_winning_trades                                  33\n",
      "max_consecutive_losing_trades                                    8\n",
      "avg_bars_winning_trades                                       7.94\n",
      "avg_bars_losing_trades                                       18.23\n",
      "max_closed_out_drawdown                                     -19.61\n",
      "max_closed_out_drawdown_peak_date                       2020-02-05\n",
      "max_closed_out_drawdown_trough_date                     2020-03-23\n",
      "max_closed_out_drawdown_recovery_date            Not Recovered Yet\n",
      "drawdown_loss_period                             Not Recovered Yet\n",
      "drawdown_recovery_period                         Not Recovered Yet\n",
      "annualized_return_over_max_drawdown                           0.36\n",
      "max_intra_day_drawdown                                      -20.87\n",
      "avg_yearly_closed_out_drawdown                               -7.24\n",
      "max_yearly_closed_out_drawdown                              -19.61\n",
      "avg_monthly_closed_out_drawdown                              -1.64\n",
      "max_monthly_closed_out_drawdown                             -18.74\n",
      "avg_weekly_closed_out_drawdown                               -0.56\n",
      "max_weekly_closed_out_drawdown                              -12.82\n",
      "avg_yearly_closed_out_runup                                  12.86\n",
      "max_yearly_closed_out_runup                                  39.06\n",
      "avg_monthly_closed_out_runup                                  2.08\n",
      "max_monthly_closed_out_runup                                 13.66\n",
      "avg_weekly_closed_out_runup                                   0.71\n",
      "max_weekly_closed_out_runup                                   7.44\n",
      "pct_profitable_years                                         73.58\n",
      "best_year                                                    38.35\n",
      "worst_year                                                  -13.65\n",
      "avg_year                                                      7.24\n",
      "annual_std                                                    9.10\n",
      "pct_profitable_months                                        52.26\n",
      "best_month                                                   13.66\n",
      "worst_month                                                 -18.74\n",
      "avg_month                                                     0.56\n",
      "monthly_std                                                   2.26\n",
      "pct_profitable_weeks                                         32.99\n",
      "best_week                                                     7.44\n",
      "worst_week                                                  -12.82\n",
      "avg_week                                                      0.14\n",
      "weekly_std                                                    1.29\n",
      "pct_profitable_days                                          21.11\n",
      "best_day                                                      5.80\n",
      "worst_day                                                    -7.22\n",
      "avg_day                                                       0.03\n",
      "daily_std                                                     0.66\n",
      "sharpe_ratio                                                  0.70\n",
      "sharpe_ratio_max                                              0.74\n",
      "sharpe_ratio_min                                              0.66\n",
      "sortino_ratio                                                 0.56\n",
      "dtype: object\n"
     ]
    }
   ],
   "source": [
    "pf.print_full(stats)"
   ]
  },
  {
   "cell_type": "markdown",
   "metadata": {},
   "source": [
    "Equity curve"
   ]
  },
  {
   "cell_type": "markdown",
   "metadata": {},
   "source": [
    "Run Benchmark, Retrieve benchmark logs, and Generate benchmark stats"
   ]
  },
  {
   "cell_type": "code",
   "execution_count": 12,
   "metadata": {
    "ExecuteTime": {
     "end_time": "2020-02-17T03:34:21.152126Z",
     "start_time": "2020-02-17T03:34:20.648640Z"
    }
   },
   "outputs": [],
   "source": [
    "benchmark = pf.Benchmark(symbol, capital, s.start, s.end)\n",
    "benchmark.run()"
   ]
  },
  {
   "cell_type": "markdown",
   "metadata": {},
   "source": [
    "Plot Equity Curves: Strategy vs Benchmark"
   ]
  },
  {
   "cell_type": "code",
   "execution_count": 13,
   "metadata": {
    "ExecuteTime": {
     "end_time": "2020-02-17T03:34:21.451911Z",
     "start_time": "2020-02-17T03:34:21.161066Z"
    }
   },
   "outputs": [
    {
     "data": {
      "image/png": "[encoded data removed]",
      "text/plain": [
       "<Figure size 720x504 with 1 Axes>"
      ]
     },
     "metadata": {
      "needs_background": "light"
     },
     "output_type": "display_data"
    }
   ],
   "source": [
    "pf.plot_equity_curve(dbal, benchmark=benchmark.dbal)"
   ]
  },
  {
   "cell_type": "markdown",
   "metadata": {},
   "source": [
    "Plot Trades"
   ]
  },
  {
   "cell_type": "code",
   "execution_count": 14,
   "metadata": {
    "ExecuteTime": {
     "end_time": "2020-02-17T03:34:21.769134Z",
     "start_time": "2020-02-17T03:34:21.459267Z"
    }
   },
   "outputs": [
    {
     "data": {
      "image/png": "[encoded data removed]",
      "text/plain": [
       "<Figure size 720x504 with 1 Axes>"
      ]
     },
     "metadata": {
      "needs_background": "light"
     },
     "output_type": "display_data"
    }
   ],
   "source": [
    "pf.plot_trades(dbal, benchmark=benchmark.dbal)"
   ]
  },
  {
   "cell_type": "markdown",
   "metadata": {},
   "source": [
    "Bar Graph: Strategy vs Benchmark"
   ]
  },
  {
   "cell_type": "code",
   "execution_count": 15,
   "metadata": {
    "ExecuteTime": {
     "end_time": "2020-02-17T03:34:22.133953Z",
     "start_time": "2020-02-17T03:34:21.774480Z"
    }
   },
   "outputs": [
    {
     "data": {
      "text/html": [
       "<div>\n",
       "<style scoped>\n",
       "    .dataframe tbody tr th:only-of-type {\n",
       "        vertical-align: middle;\n",
       "    }\n",
       "\n",
       "    .dataframe tbody tr th {\n",
       "        vertical-align: top;\n",
       "    }\n",
       "\n",
       "    .dataframe thead th {\n",
       "        text-align: right;\n",
       "    }\n",
       "</style>\n",
       "<table border=\"1\" class=\"dataframe\">\n",
       "  <thead>\n",
       "    <tr style=\"text-align: right;\">\n",
       "      <th></th>\n",
       "      <th>strategy</th>\n",
       "      <th>benchmark</th>\n",
       "    </tr>\n",
       "  </thead>\n",
       "  <tbody>\n",
       "    <tr>\n",
       "      <th>annual_return_rate</th>\n",
       "      <td>6.97</td>\n",
       "      <td>8.14</td>\n",
       "    </tr>\n",
       "    <tr>\n",
       "      <th>max_closed_out_drawdown</th>\n",
       "      <td>-19.61</td>\n",
       "      <td>-56.42</td>\n",
       "    </tr>\n",
       "    <tr>\n",
       "      <th>annualized_return_over_max_drawdown</th>\n",
       "      <td>0.36</td>\n",
       "      <td>0.14</td>\n",
       "    </tr>\n",
       "    <tr>\n",
       "      <th>best_month</th>\n",
       "      <td>13.66</td>\n",
       "      <td>23.06</td>\n",
       "    </tr>\n",
       "    <tr>\n",
       "      <th>worst_month</th>\n",
       "      <td>-18.74</td>\n",
       "      <td>-31.38</td>\n",
       "    </tr>\n",
       "    <tr>\n",
       "      <th>sharpe_ratio</th>\n",
       "      <td>0.70</td>\n",
       "      <td>0.51</td>\n",
       "    </tr>\n",
       "    <tr>\n",
       "      <th>sortino_ratio</th>\n",
       "      <td>0.56</td>\n",
       "      <td>0.64</td>\n",
       "    </tr>\n",
       "    <tr>\n",
       "      <th>monthly_std</th>\n",
       "      <td>2.26</td>\n",
       "      <td>4.52</td>\n",
       "    </tr>\n",
       "    <tr>\n",
       "      <th>annual_std</th>\n",
       "      <td>9.10</td>\n",
       "      <td>16.55</td>\n",
       "    </tr>\n",
       "  </tbody>\n",
       "</table>\n",
       "</div>"
      ],
      "text/plain": [
       "                                     strategy  benchmark\n",
       "annual_return_rate                       6.97       8.14\n",
       "max_closed_out_drawdown                -19.61     -56.42\n",
       "annualized_return_over_max_drawdown      0.36       0.14\n",
       "best_month                              13.66      23.06\n",
       "worst_month                            -18.74     -31.38\n",
       "sharpe_ratio                             0.70       0.51\n",
       "sortino_ratio                            0.56       0.64\n",
       "monthly_std                              2.26       4.52\n",
       "annual_std                               9.10      16.55"
      ]
     },
     "execution_count": 15,
     "metadata": {},
     "output_type": "execute_result"
    },
    {
     "data": {
      "image/png": "[encoded data removed]",
      "text/plain": [
       "<Figure size 720x504 with 1 Axes>"
      ]
     },
     "metadata": {
      "needs_background": "light"
     },
     "output_type": "display_data"
    }
   ],
   "source": [
    "df = pf.plot_bar_graph(stats, benchmark.stats)\n",
    "df"
   ]
  },
  {
   "cell_type": "code",
   "execution_count": null,
   "metadata": {},
   "outputs": [],
   "source": []
  }
 ],
 "metadata": {
  "kernelspec": {
   "display_name": "Python 3",
   "language": "python",
   "name": "python3"
  },
  "language_info": {
   "codemirror_mode": {
    "name": "ipython",
    "version": 3
   },
   "file_extension": ".py",
   "mimetype": "text/x-python",
   "name": "python",
   "nbconvert_exporter": "python",
   "pygments_lexer": "ipython3",
   "version": "3.8.5"
  },
  "latex_envs": {
   "LaTeX_envs_menu_present": true,
   "autoclose": false,
   "autocomplete": true,
   "bibliofile": "biblio.bib",
   "cite_by": "apalike",
   "current_citInitial": 1,
   "eqLabelWithNumbers": true,
   "eqNumInitial": 1,
   "hotkeys": {
    "equation": "Ctrl-E",
    "itemize": "Ctrl-I"
   },
   "labels_anchors": false,
   "latex_user_defs": false,
   "report_style_numbering": false,
   "user_envs_cfg": false
  }
 },
 "nbformat": 4,
 "nbformat_minor": 1
}
