{
 "cells": [
  {
   "cell_type": "markdown",
   "metadata": {},
   "source": [
    "# Double 7's (Short Term Trading Strategies that Work)\n",
    "\n",
    "    1. The SPY is above its 200-day moving average or X-day ma\n",
    "    2. The SPY closes at a X-day low, buy.\n",
    "    3. If the SPY closes at a X-day high, sell your long position.\n",
    "    \n",
    "    Optimize: period, sma, percent stop loss, margin, and max number of open trades.\n",
    "    \n",
    "    'strategy.py' uses adjust_percent() approach\n",
    "    'scaling_in_out.py' uses lower level pinkfish functions"
   ]
  },
  {
   "cell_type": "code",
   "execution_count": 1,
   "metadata": {
    "ExecuteTime": {
     "end_time": "2020-02-16T23:37:50.351765Z",
     "start_time": "2020-02-16T23:37:49.607324Z"
    }
   },
   "outputs": [],
   "source": [
    "import datetime\n",
    "\n",
    "import matplotlib.pyplot as plt\n",
    "import pandas as pd\n",
    "from talib.abstract import *\n",
    "\n",
    "import pinkfish as pf\n",
    "\n",
    "# Format price data\n",
    "pd.options.display.float_format = '{:0.2f}'.format\n",
    "\n",
    "%matplotlib inline"
   ]
  },
  {
   "cell_type": "code",
   "execution_count": 2,
   "metadata": {
    "ExecuteTime": {
     "end_time": "2020-02-16T23:37:50.367279Z",
     "start_time": "2020-02-16T23:37:50.361136Z"
    }
   },
   "outputs": [],
   "source": [
    "# Set size of inline plots\n",
    "'''note: rcParams can't be in same cell as import matplotlib\n",
    "   or %matplotlib inline\n",
    "   \n",
    "   %matplotlib notebook: will lead to interactive plots embedded within\n",
    "   the notebook, you can zoom and resize the figure\n",
    "   \n",
    "   %matplotlib inline: only draw static images in the notebook\n",
    "'''\n",
    "plt.rcParams[\"figure.figsize\"] = (10, 7)"
   ]
  },
  {
   "cell_type": "markdown",
   "metadata": {},
   "source": [
    "Some global data"
   ]
  },
  {
   "cell_type": "code",
   "execution_count": 3,
   "metadata": {
    "ExecuteTime": {
     "end_time": "2020-02-16T23:37:50.380602Z",
     "start_time": "2020-02-16T23:37:50.373167Z"
    }
   },
   "outputs": [],
   "source": [
    "#symbol = '^GSPC'\n",
    "symbol = 'SPY'\n",
    "#symbol = 'DIA'\n",
    "#symbol = 'QQQ'\n",
    "#symbol = 'IWM'\n",
    "#symbol = 'TLT'\n",
    "#symbol = 'GLD'\n",
    "#symbol = 'AAPL'\n",
    "#symbol = 'BBRY'\n",
    "#symbol = 'GDX'\n",
    "capital = 10000\n",
    "start = datetime.datetime(1900, 1, 1)\n",
    "#start = datetime.datetime.strptime(pf.SP500_BEGIN, '%Y-%m-%d')\n",
    "end = datetime.datetime.now()"
   ]
  },
  {
   "cell_type": "markdown",
   "metadata": {},
   "source": [
    "Define Optimizations"
   ]
  },
  {
   "cell_type": "code",
   "execution_count": 4,
   "metadata": {
    "ExecuteTime": {
     "end_time": "2020-02-16T23:37:50.393117Z",
     "start_time": "2020-02-16T23:37:50.387608Z"
    }
   },
   "outputs": [],
   "source": [
    "# pick one\n",
    "optimize_period          = False\n",
    "optimize_sma             = False\n",
    "optimize_pct             = False\n",
    "optimize_margin          = False\n",
    "optimize_max_open_trades = True\n",
    "\n",
    "# define high low trade periods ranges\n",
    "if optimize_period:\n",
    "    Xs = range(2, 15, 1)\n",
    "    Xs = [str(X) for X in Xs]\n",
    "\n",
    "# define SMAs ranges\n",
    "elif optimize_sma:\n",
    "    Xs = range(20, 210, 10)\n",
    "    Xs = [str(X) for X in Xs]\n",
    "\n",
    "# define stop loss percentage ranges\n",
    "elif optimize_pct:\n",
    "    Xs = range(5, 31, 1)\n",
    "    Xs = [str(X) for X in Xs]\n",
    "\n",
    "# define margin ranges\n",
    "elif optimize_margin:\n",
    "    Xs = range(10, 41, 2)\n",
    "    Xs = [str(X) for X in Xs]\n",
    "\n",
    "# define max_open_trades ranges\n",
    "elif optimize_max_open_trades:\n",
    "    Xs = range(1, 11, 1)\n",
    "    Xs = [str(X) for X in Xs]"
   ]
  },
  {
   "cell_type": "code",
   "execution_count": 5,
   "metadata": {},
   "outputs": [],
   "source": [
    "options = {\n",
    "    'use_adj' : False,\n",
    "    'use_cache' : True,\n",
    "    'stop_loss_pct' : 1.0,\n",
    "    'margin' : 1.0,\n",
    "    'period' : 7,\n",
    "    'sma' : 200,\n",
    "    'use_regime_filter' : True,\n",
    "    'max_open_trades'  : 1,\n",
    "    'enable_scale_in'  : True,\n",
    "    'enable_scale_out' : True\n",
    "}"
   ]
  },
  {
   "cell_type": "code",
   "execution_count": 6,
   "metadata": {},
   "outputs": [],
   "source": [
    "# ************** IMPORT ONLY ONE OF THESE *************\n",
    "import strategy\n",
    "#import scaling_in_out as strategy"
   ]
  },
  {
   "cell_type": "markdown",
   "metadata": {},
   "source": [
    "Run Strategy"
   ]
  },
  {
   "cell_type": "code",
   "execution_count": 7,
   "metadata": {
    "ExecuteTime": {
     "end_time": "2020-02-16T23:38:00.254800Z",
     "start_time": "2020-02-16T23:37:50.403938Z"
    }
   },
   "outputs": [
    {
     "name": "stdout",
     "output_type": "stream",
     "text": [
      "1 2 3 4 5 6 7 8 9 10 "
     ]
    }
   ],
   "source": [
    "strategies = pd.Series(dtype=object)\n",
    "for X in Xs:\n",
    "    print(X, end=\" \")\n",
    "    if optimize_period:\n",
    "        options['period'] = int(X)\n",
    "    elif optimize_sma:\n",
    "        options['sma'] = int(X)\n",
    "    elif optimize_pct:\n",
    "         options['stop_loss_pct'] = int(X)/100\n",
    "    elif optimize_margin:\n",
    "        options['margin'] = int(X)/10\n",
    "    elif optimize_max_open_trades:\n",
    "        options['max_open_trades'] = int(X)\n",
    "        \n",
    "    strategies[X] = strategy.Strategy(symbol, capital, start, end, options) \n",
    "    strategies[X].run()"
   ]
  },
  {
   "cell_type": "markdown",
   "metadata": {},
   "source": [
    "Summarize results"
   ]
  },
  {
   "cell_type": "code",
   "execution_count": 8,
   "metadata": {
    "ExecuteTime": {
     "end_time": "2020-02-16T23:38:00.316798Z",
     "start_time": "2020-02-16T23:38:00.264414Z"
    },
    "scrolled": false
   },
   "outputs": [
    {
     "data": {
      "text/html": [
       "<div>\n",
       "<style scoped>\n",
       "    .dataframe tbody tr th:only-of-type {\n",
       "        vertical-align: middle;\n",
       "    }\n",
       "\n",
       "    .dataframe tbody tr th {\n",
       "        vertical-align: top;\n",
       "    }\n",
       "\n",
       "    .dataframe thead th {\n",
       "        text-align: right;\n",
       "    }\n",
       "</style>\n",
       "<table border=\"1\" class=\"dataframe\">\n",
       "  <thead>\n",
       "    <tr style=\"text-align: right;\">\n",
       "      <th></th>\n",
       "      <th>1</th>\n",
       "      <th>2</th>\n",
       "      <th>3</th>\n",
       "      <th>4</th>\n",
       "      <th>5</th>\n",
       "      <th>6</th>\n",
       "      <th>7</th>\n",
       "      <th>8</th>\n",
       "      <th>9</th>\n",
       "      <th>10</th>\n",
       "    </tr>\n",
       "  </thead>\n",
       "  <tbody>\n",
       "    <tr>\n",
       "      <th>annual_return_rate</th>\n",
       "      <td>7.21</td>\n",
       "      <td>6.47</td>\n",
       "      <td>5.66</td>\n",
       "      <td>5.45</td>\n",
       "      <td>5.23</td>\n",
       "      <td>4.67</td>\n",
       "      <td>4.01</td>\n",
       "      <td>3.46</td>\n",
       "      <td>3.11</td>\n",
       "      <td>2.79</td>\n",
       "    </tr>\n",
       "    <tr>\n",
       "      <th>max_closed_out_drawdown</th>\n",
       "      <td>-14.63</td>\n",
       "      <td>-18.76</td>\n",
       "      <td>-22.38</td>\n",
       "      <td>-23.62</td>\n",
       "      <td>-18.22</td>\n",
       "      <td>-15.23</td>\n",
       "      <td>-14.19</td>\n",
       "      <td>-13.98</td>\n",
       "      <td>-13.72</td>\n",
       "      <td>-13.25</td>\n",
       "    </tr>\n",
       "    <tr>\n",
       "      <th>annualized_return_over_max_drawdown</th>\n",
       "      <td>0.49</td>\n",
       "      <td>0.34</td>\n",
       "      <td>0.25</td>\n",
       "      <td>0.23</td>\n",
       "      <td>0.29</td>\n",
       "      <td>0.31</td>\n",
       "      <td>0.28</td>\n",
       "      <td>0.25</td>\n",
       "      <td>0.23</td>\n",
       "      <td>0.21</td>\n",
       "    </tr>\n",
       "    <tr>\n",
       "      <th>drawdown_recovery_period</th>\n",
       "      <td>583.00</td>\n",
       "      <td>Not Recovered Yet</td>\n",
       "      <td>Not Recovered Yet</td>\n",
       "      <td>Not Recovered Yet</td>\n",
       "      <td>359.00</td>\n",
       "      <td>353.00</td>\n",
       "      <td>289.00</td>\n",
       "      <td>290.00</td>\n",
       "      <td>290.00</td>\n",
       "      <td>290.00</td>\n",
       "    </tr>\n",
       "    <tr>\n",
       "      <th>expected_shortfall</th>\n",
       "      <td>-7.25</td>\n",
       "      <td>-11.42</td>\n",
       "      <td>-12.20</td>\n",
       "      <td>-12.48</td>\n",
       "      <td>-12.08</td>\n",
       "      <td>-12.18</td>\n",
       "      <td>-12.15</td>\n",
       "      <td>-11.63</td>\n",
       "      <td>-11.91</td>\n",
       "      <td>-11.98</td>\n",
       "    </tr>\n",
       "    <tr>\n",
       "      <th>best_month</th>\n",
       "      <td>12.88</td>\n",
       "      <td>10.74</td>\n",
       "      <td>11.48</td>\n",
       "      <td>13.10</td>\n",
       "      <td>9.38</td>\n",
       "      <td>7.69</td>\n",
       "      <td>7.96</td>\n",
       "      <td>7.50</td>\n",
       "      <td>7.39</td>\n",
       "      <td>7.28</td>\n",
       "    </tr>\n",
       "    <tr>\n",
       "      <th>worst_month</th>\n",
       "      <td>-13.53</td>\n",
       "      <td>-17.89</td>\n",
       "      <td>-21.52</td>\n",
       "      <td>-22.99</td>\n",
       "      <td>-17.70</td>\n",
       "      <td>-14.76</td>\n",
       "      <td>-12.87</td>\n",
       "      <td>-12.22</td>\n",
       "      <td>-12.15</td>\n",
       "      <td>-11.89</td>\n",
       "    </tr>\n",
       "    <tr>\n",
       "      <th>sharpe_ratio</th>\n",
       "      <td>0.75</td>\n",
       "      <td>0.70</td>\n",
       "      <td>0.64</td>\n",
       "      <td>0.65</td>\n",
       "      <td>0.69</td>\n",
       "      <td>0.70</td>\n",
       "      <td>0.65</td>\n",
       "      <td>0.62</td>\n",
       "      <td>0.60</td>\n",
       "      <td>0.56</td>\n",
       "    </tr>\n",
       "    <tr>\n",
       "      <th>sortino_ratio</th>\n",
       "      <td>0.55</td>\n",
       "      <td>0.53</td>\n",
       "      <td>0.48</td>\n",
       "      <td>0.49</td>\n",
       "      <td>0.52</td>\n",
       "      <td>0.53</td>\n",
       "      <td>0.49</td>\n",
       "      <td>0.46</td>\n",
       "      <td>0.43</td>\n",
       "      <td>0.40</td>\n",
       "    </tr>\n",
       "    <tr>\n",
       "      <th>monthly_std</th>\n",
       "      <td>2.11</td>\n",
       "      <td>2.04</td>\n",
       "      <td>1.95</td>\n",
       "      <td>1.90</td>\n",
       "      <td>1.71</td>\n",
       "      <td>1.52</td>\n",
       "      <td>1.38</td>\n",
       "      <td>1.23</td>\n",
       "      <td>1.15</td>\n",
       "      <td>1.08</td>\n",
       "    </tr>\n",
       "    <tr>\n",
       "      <th>pct_time_in_market</th>\n",
       "      <td>29.76</td>\n",
       "      <td>35.88</td>\n",
       "      <td>39.63</td>\n",
       "      <td>42.42</td>\n",
       "      <td>43.98</td>\n",
       "      <td>44.77</td>\n",
       "      <td>45.17</td>\n",
       "      <td>45.04</td>\n",
       "      <td>45.26</td>\n",
       "      <td>45.00</td>\n",
       "    </tr>\n",
       "    <tr>\n",
       "      <th>total_num_trades</th>\n",
       "      <td>275.00</td>\n",
       "      <td>606</td>\n",
       "      <td>911</td>\n",
       "      <td>1004</td>\n",
       "      <td>1099.00</td>\n",
       "      <td>1117.00</td>\n",
       "      <td>1185.00</td>\n",
       "      <td>1199.00</td>\n",
       "      <td>1186.00</td>\n",
       "      <td>1156.00</td>\n",
       "    </tr>\n",
       "    <tr>\n",
       "      <th>pct_profitable_trades</th>\n",
       "      <td>78.18</td>\n",
       "      <td>76.90</td>\n",
       "      <td>76.73</td>\n",
       "      <td>76.49</td>\n",
       "      <td>76.80</td>\n",
       "      <td>77.17</td>\n",
       "      <td>77.13</td>\n",
       "      <td>77.65</td>\n",
       "      <td>77.15</td>\n",
       "      <td>76.73</td>\n",
       "    </tr>\n",
       "    <tr>\n",
       "      <th>avg_points</th>\n",
       "      <td>0.98</td>\n",
       "      <td>0.99</td>\n",
       "      <td>1.17</td>\n",
       "      <td>1.39</td>\n",
       "      <td>1.61</td>\n",
       "      <td>1.69</td>\n",
       "      <td>1.73</td>\n",
       "      <td>1.78</td>\n",
       "      <td>1.72</td>\n",
       "      <td>1.67</td>\n",
       "    </tr>\n",
       "  </tbody>\n",
       "</table>\n",
       "</div>"
      ],
      "text/plain": [
       "                                         1                  2  \\\n",
       "annual_return_rate                    7.21               6.47   \n",
       "max_closed_out_drawdown             -14.63             -18.76   \n",
       "annualized_return_over_max_drawdown   0.49               0.34   \n",
       "drawdown_recovery_period            583.00  Not Recovered Yet   \n",
       "expected_shortfall                   -7.25             -11.42   \n",
       "best_month                           12.88              10.74   \n",
       "worst_month                         -13.53             -17.89   \n",
       "sharpe_ratio                          0.75               0.70   \n",
       "sortino_ratio                         0.55               0.53   \n",
       "monthly_std                           2.11               2.04   \n",
       "pct_time_in_market                   29.76              35.88   \n",
       "total_num_trades                    275.00                606   \n",
       "pct_profitable_trades                78.18              76.90   \n",
       "avg_points                            0.98               0.99   \n",
       "\n",
       "                                                     3                  4  \\\n",
       "annual_return_rate                                5.66               5.45   \n",
       "max_closed_out_drawdown                         -22.38             -23.62   \n",
       "annualized_return_over_max_drawdown               0.25               0.23   \n",
       "drawdown_recovery_period             Not Recovered Yet  Not Recovered Yet   \n",
       "expected_shortfall                              -12.20             -12.48   \n",
       "best_month                                       11.48              13.10   \n",
       "worst_month                                     -21.52             -22.99   \n",
       "sharpe_ratio                                      0.64               0.65   \n",
       "sortino_ratio                                     0.48               0.49   \n",
       "monthly_std                                       1.95               1.90   \n",
       "pct_time_in_market                               39.63              42.42   \n",
       "total_num_trades                                   911               1004   \n",
       "pct_profitable_trades                            76.73              76.49   \n",
       "avg_points                                        1.17               1.39   \n",
       "\n",
       "                                          5       6       7       8       9  \\\n",
       "annual_return_rate                     5.23    4.67    4.01    3.46    3.11   \n",
       "max_closed_out_drawdown              -18.22  -15.23  -14.19  -13.98  -13.72   \n",
       "annualized_return_over_max_drawdown    0.29    0.31    0.28    0.25    0.23   \n",
       "drawdown_recovery_period             359.00  353.00  289.00  290.00  290.00   \n",
       "expected_shortfall                   -12.08  -12.18  -12.15  -11.63  -11.91   \n",
       "best_month                             9.38    7.69    7.96    7.50    7.39   \n",
       "worst_month                          -17.70  -14.76  -12.87  -12.22  -12.15   \n",
       "sharpe_ratio                           0.69    0.70    0.65    0.62    0.60   \n",
       "sortino_ratio                          0.52    0.53    0.49    0.46    0.43   \n",
       "monthly_std                            1.71    1.52    1.38    1.23    1.15   \n",
       "pct_time_in_market                    43.98   44.77   45.17   45.04   45.26   \n",
       "total_num_trades                    1099.00 1117.00 1185.00 1199.00 1186.00   \n",
       "pct_profitable_trades                 76.80   77.17   77.13   77.65   77.15   \n",
       "avg_points                             1.61    1.69    1.73    1.78    1.72   \n",
       "\n",
       "                                         10  \n",
       "annual_return_rate                     2.79  \n",
       "max_closed_out_drawdown              -13.25  \n",
       "annualized_return_over_max_drawdown    0.21  \n",
       "drawdown_recovery_period             290.00  \n",
       "expected_shortfall                   -11.98  \n",
       "best_month                             7.28  \n",
       "worst_month                          -11.89  \n",
       "sharpe_ratio                           0.56  \n",
       "sortino_ratio                          0.40  \n",
       "monthly_std                            1.08  \n",
       "pct_time_in_market                    45.00  \n",
       "total_num_trades                    1156.00  \n",
       "pct_profitable_trades                 76.73  \n",
       "avg_points                             1.67  "
      ]
     },
     "execution_count": 8,
     "metadata": {},
     "output_type": "execute_result"
    }
   ],
   "source": [
    "metrics = ('annual_return_rate',\n",
    "           'max_closed_out_drawdown',\n",
    "           'annualized_return_over_max_drawdown',\n",
    "           'drawdown_recovery_period',\n",
    "           'expected_shortfall',\n",
    "           'best_month',\n",
    "           'worst_month',\n",
    "           'sharpe_ratio',\n",
    "           'sortino_ratio',\n",
    "           'monthly_std',\n",
    "           'pct_time_in_market',\n",
    "           'total_num_trades',\n",
    "           'pct_profitable_trades',\n",
    "           'avg_points')\n",
    "\n",
    "df = strategy.summary(strategies, metrics)\n",
    "df"
   ]
  },
  {
   "cell_type": "markdown",
   "metadata": {},
   "source": [
    "Bar graphs"
   ]
  },
  {
   "cell_type": "code",
   "execution_count": 9,
   "metadata": {
    "ExecuteTime": {
     "end_time": "2020-02-16T23:38:01.070791Z",
     "start_time": "2020-02-16T23:38:00.325317Z"
    }
   },
   "outputs": [
    {
     "data": {
      "image/png": "[encoded data removed]",
      "text/plain": [
       "<Figure size 720x504 with 1 Axes>"
      ]
     },
     "metadata": {
      "needs_background": "light"
     },
     "output_type": "display_data"
    },
    {
     "data": {
      "image/png": "[encoded data removed]",
      "text/plain": [
       "<Figure size 720x504 with 1 Axes>"
      ]
     },
     "metadata": {
      "needs_background": "light"
     },
     "output_type": "display_data"
    },
    {
     "data": {
      "image/png": "[encoded data removed]",
      "text/plain": [
       "<Figure size 720x504 with 1 Axes>"
      ]
     },
     "metadata": {
      "needs_background": "light"
     },
     "output_type": "display_data"
    }
   ],
   "source": [
    "strategy.plot_bar_graph(df, 'annual_return_rate')\n",
    "strategy.plot_bar_graph(df, 'sharpe_ratio')\n",
    "strategy.plot_bar_graph(df, 'max_closed_out_drawdown')"
   ]
  },
  {
   "cell_type": "markdown",
   "metadata": {},
   "source": [
    "Run Benchmark"
   ]
  },
  {
   "cell_type": "code",
   "execution_count": 10,
   "metadata": {
    "ExecuteTime": {
     "end_time": "2020-02-16T23:38:02.043753Z",
     "start_time": "2020-02-16T23:38:01.078320Z"
    }
   },
   "outputs": [],
   "source": [
    "s = strategies[Xs[0]]\n",
    "benchmark = pf.Benchmark(symbol, capital, s.start, s.end)\n",
    "benchmark.run()"
   ]
  },
  {
   "cell_type": "markdown",
   "metadata": {},
   "source": [
    "Equity curve"
   ]
  },
  {
   "cell_type": "code",
   "execution_count": 11,
   "metadata": {
    "ExecuteTime": {
     "end_time": "2020-02-16T23:38:02.321132Z",
     "start_time": "2020-02-16T23:38:02.056495Z"
    },
    "scrolled": false
   },
   "outputs": [
    {
     "data": {
      "image/png": "[encoded data removed]",
      "text/plain": [
       "<Figure size 720x504 with 1 Axes>"
      ]
     },
     "metadata": {
      "needs_background": "light"
     },
     "output_type": "display_data"
    }
   ],
   "source": [
    "if   optimize_period: Y = '7'\n",
    "elif optimize_sma:    Y = '70'\n",
    "elif optimize_pct:    Y = '15'\n",
    "elif optimize_margin: Y = '20'\n",
    "elif optimize_max_open_trades: Y = '1'\n",
    "\n",
    "pf.plot_equity_curve(strategies[Y].dbal, benchmark=benchmark.dbal)"
   ]
  },
  {
   "cell_type": "code",
   "execution_count": null,
   "metadata": {},
   "outputs": [],
   "source": []
  }
 ],
 "metadata": {
  "kernelspec": {
   "display_name": "Python 3",
   "language": "python",
   "name": "python3"
  },
  "language_info": {
   "codemirror_mode": {
    "name": "ipython",
    "version": 3
   },
   "file_extension": ".py",
   "mimetype": "text/x-python",
   "name": "python",
   "nbconvert_exporter": "python",
   "pygments_lexer": "ipython3",
   "version": "3.8.5"
  },
  "latex_envs": {
   "LaTeX_envs_menu_present": true,
   "autoclose": false,
   "autocomplete": true,
   "bibliofile": "biblio.bib",
   "cite_by": "apalike",
   "current_citInitial": 1,
   "eqLabelWithNumbers": true,
   "eqNumInitial": 1,
   "hotkeys": {
    "equation": "Ctrl-E",
    "itemize": "Ctrl-I"
   },
   "labels_anchors": false,
   "latex_user_defs": false,
   "report_style_numbering": false,
   "user_envs_cfg": false
  }
 },
 "nbformat": 4,
 "nbformat_minor": 1
}
