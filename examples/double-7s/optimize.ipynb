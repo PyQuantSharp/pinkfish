{
 "cells": [
  {
   "cell_type": "markdown",
   "metadata": {},
   "source": [
    "# Double 7's (Short Term Trading Strategies that Work)\n",
    "\n",
    "    1. The SPY is above its 200-day moving average or X-day ma\n",
    "    2. The SPY closes at a X-day low, buy.\n",
    "    3. If the SPY closes at a X-day high, sell your long position.\n",
    "    \n",
    "    (optimize period, smas, pct_stop_loss, or margin)"
   ]
  },
  {
   "cell_type": "code",
   "execution_count": 10,
   "metadata": {
    "ExecuteTime": {
     "end_time": "2020-02-16T23:37:50.351765Z",
     "start_time": "2020-02-16T23:37:49.607324Z"
    }
   },
   "outputs": [],
   "source": [
    "import pandas as pd\n",
    "import matplotlib.pyplot as plt\n",
    "import datetime\n",
    "from talib.abstract import *\n",
    "\n",
    "import pinkfish as pf\n",
    "import strategy\n",
    "\n",
    "# format price data\n",
    "pd.options.display.float_format = '{:0.2f}'.format\n",
    "\n",
    "%matplotlib inline"
   ]
  },
  {
   "cell_type": "code",
   "execution_count": 11,
   "metadata": {
    "ExecuteTime": {
     "end_time": "2020-02-16T23:37:50.367279Z",
     "start_time": "2020-02-16T23:37:50.361136Z"
    }
   },
   "outputs": [],
   "source": [
    "# set size of inline plots\n",
    "'''note: rcParams can't be in same cell as import matplotlib\n",
    "   or %matplotlib inline\n",
    "   \n",
    "   %matplotlib notebook: will lead to interactive plots embedded within\n",
    "   the notebook, you can zoom and resize the figure\n",
    "   \n",
    "   %matplotlib inline: only draw static images in the notebook\n",
    "'''\n",
    "plt.rcParams[\"figure.figsize\"] = (10, 7)"
   ]
  },
  {
   "cell_type": "markdown",
   "metadata": {},
   "source": [
    "Some global data"
   ]
  },
  {
   "cell_type": "code",
   "execution_count": 12,
   "metadata": {
    "ExecuteTime": {
     "end_time": "2020-02-16T23:37:50.380602Z",
     "start_time": "2020-02-16T23:37:50.373167Z"
    }
   },
   "outputs": [],
   "source": [
    "#symbol = '^GSPC'\n",
    "symbol = 'SPY'\n",
    "#symbol = 'DIA'\n",
    "#symbol = 'QQQ'\n",
    "#symbol = 'IWM'\n",
    "#symbol = 'TLT'\n",
    "#symbol = 'GLD'\n",
    "#symbol = 'AAPL'\n",
    "#symbol = 'BBRY'\n",
    "#symbol = 'GDX'\n",
    "capital = 10000\n",
    "start = datetime.datetime(1900, 1, 1)\n",
    "#start = datetime.datetime.strptime(pf.SP500_BEGIN, '%Y-%m-%d')\n",
    "end = datetime.datetime.now()"
   ]
  },
  {
   "cell_type": "markdown",
   "metadata": {},
   "source": [
    "Define Optimizations"
   ]
  },
  {
   "cell_type": "code",
   "execution_count": 13,
   "metadata": {
    "ExecuteTime": {
     "end_time": "2020-02-16T23:37:50.393117Z",
     "start_time": "2020-02-16T23:37:50.387608Z"
    }
   },
   "outputs": [],
   "source": [
    "# pick one\n",
    "optimize_period = False\n",
    "optimize_smas = True\n",
    "optimize_pct = False\n",
    "optimize_margin = False\n",
    "\n",
    "# define high low trade periods ranges\n",
    "if optimize_period:\n",
    "    Xs = range(2, 15, 1)\n",
    "    Xs = [str(X) for X in Xs]\n",
    "\n",
    "# define SMAs ranges\n",
    "elif optimize_smas:\n",
    "    Xs = range(20, 200, 10)\n",
    "    Xs = [str(X) for X in Xs]\n",
    "\n",
    "# define stop loss percentage ranges\n",
    "elif optimize_pct:\n",
    "    Xs = range(70, 96, 1)\n",
    "    Xs = [str(X) for X in Xs]\n",
    "\n",
    "# define margin ranges\n",
    "elif optimize_margin:\n",
    "    Xs = range(10, 41, 2)\n",
    "    Xs = [str(X) for X in Xs]"
   ]
  },
  {
   "cell_type": "markdown",
   "metadata": {},
   "source": [
    "Run Strategy"
   ]
  },
  {
   "cell_type": "code",
   "execution_count": 14,
   "metadata": {
    "ExecuteTime": {
     "end_time": "2020-02-16T23:38:00.254800Z",
     "start_time": "2020-02-16T23:37:50.403938Z"
    }
   },
   "outputs": [
    {
     "name": "stdout",
     "output_type": "stream",
     "text": [
      "20 30 40 50 60 70 80 90 100 110 120 130 140 150 160 170 180 190 "
     ]
    }
   ],
   "source": [
    "strategies = pd.Series(dtype=object)\n",
    "for X in Xs:\n",
    "    print(\"{0}\".format(X), end=\" \")\n",
    "    if optimize_period:\n",
    "        strategies[X] = strategy.Strategy(symbol, capital, start, end, period=int(X), use_regime_filter=True)\n",
    "    elif optimize_smas:\n",
    "        strategies[X] = strategy.Strategy(symbol, capital, start, end, sma=int(X))\n",
    "    elif optimize_pct:\n",
    "        strategies[X] = strategy.Strategy(symbol, capital, start, end, stop_loss_pct=int(X), use_regime_filter=True)\n",
    "    elif optimize_margin:\n",
    "        strategies[X] = strategy.Strategy(symbol, capital, start, end, margin=int(X)/10, use_regime_filter=True)\n",
    "    strategies[X].run()\n",
    "    strategies[X].tlog, strategies[X].dbal = strategies[X].get_logs()\n",
    "    strategies[X].stats = strategies[X].get_stats()"
   ]
  },
  {
   "cell_type": "markdown",
   "metadata": {},
   "source": [
    "Summarize results"
   ]
  },
  {
   "cell_type": "code",
   "execution_count": 15,
   "metadata": {
    "ExecuteTime": {
     "end_time": "2020-02-16T23:38:00.316798Z",
     "start_time": "2020-02-16T23:38:00.264414Z"
    },
    "scrolled": false
   },
   "outputs": [
    {
     "data": {
      "text/html": [
       "<div>\n",
       "<style scoped>\n",
       "    .dataframe tbody tr th:only-of-type {\n",
       "        vertical-align: middle;\n",
       "    }\n",
       "\n",
       "    .dataframe tbody tr th {\n",
       "        vertical-align: top;\n",
       "    }\n",
       "\n",
       "    .dataframe thead th {\n",
       "        text-align: right;\n",
       "    }\n",
       "</style>\n",
       "<table border=\"1\" class=\"dataframe\">\n",
       "  <thead>\n",
       "    <tr style=\"text-align: right;\">\n",
       "      <th></th>\n",
       "      <th>20</th>\n",
       "      <th>30</th>\n",
       "      <th>40</th>\n",
       "      <th>50</th>\n",
       "      <th>60</th>\n",
       "      <th>70</th>\n",
       "      <th>80</th>\n",
       "      <th>90</th>\n",
       "      <th>100</th>\n",
       "      <th>110</th>\n",
       "      <th>120</th>\n",
       "      <th>130</th>\n",
       "      <th>140</th>\n",
       "      <th>150</th>\n",
       "      <th>160</th>\n",
       "      <th>170</th>\n",
       "      <th>180</th>\n",
       "      <th>190</th>\n",
       "    </tr>\n",
       "  </thead>\n",
       "  <tbody>\n",
       "    <tr>\n",
       "      <th>annual_return_rate</th>\n",
       "      <td>8.53</td>\n",
       "      <td>9.03</td>\n",
       "      <td>8.89</td>\n",
       "      <td>8.57</td>\n",
       "      <td>9.09</td>\n",
       "      <td>8.88</td>\n",
       "      <td>8.99</td>\n",
       "      <td>8.18</td>\n",
       "      <td>8.04</td>\n",
       "      <td>8.12</td>\n",
       "      <td>7.99</td>\n",
       "      <td>8.02</td>\n",
       "      <td>7.89</td>\n",
       "      <td>7.73</td>\n",
       "      <td>7.77</td>\n",
       "      <td>7.95</td>\n",
       "      <td>7.83</td>\n",
       "      <td>7.83</td>\n",
       "    </tr>\n",
       "    <tr>\n",
       "      <th>max_closed_out_drawdown</th>\n",
       "      <td>-25.53</td>\n",
       "      <td>-20.31</td>\n",
       "      <td>-23.66</td>\n",
       "      <td>-22.69</td>\n",
       "      <td>-15.31</td>\n",
       "      <td>-15.30</td>\n",
       "      <td>-15.31</td>\n",
       "      <td>-15.31</td>\n",
       "      <td>-15.54</td>\n",
       "      <td>-19.79</td>\n",
       "      <td>-18.74</td>\n",
       "      <td>-18.75</td>\n",
       "      <td>-19.26</td>\n",
       "      <td>-19.28</td>\n",
       "      <td>-18.50</td>\n",
       "      <td>-15.31</td>\n",
       "      <td>-15.31</td>\n",
       "      <td>-15.31</td>\n",
       "    </tr>\n",
       "    <tr>\n",
       "      <th>drawdown_annualized_return</th>\n",
       "      <td>-2.99</td>\n",
       "      <td>-2.25</td>\n",
       "      <td>-2.66</td>\n",
       "      <td>-2.65</td>\n",
       "      <td>-1.68</td>\n",
       "      <td>-1.72</td>\n",
       "      <td>-1.70</td>\n",
       "      <td>-1.87</td>\n",
       "      <td>-1.93</td>\n",
       "      <td>-2.44</td>\n",
       "      <td>-2.35</td>\n",
       "      <td>-2.34</td>\n",
       "      <td>-2.44</td>\n",
       "      <td>-2.49</td>\n",
       "      <td>-2.38</td>\n",
       "      <td>-1.93</td>\n",
       "      <td>-1.95</td>\n",
       "      <td>-1.95</td>\n",
       "    </tr>\n",
       "    <tr>\n",
       "      <th>drawdown_recovery</th>\n",
       "      <td>-2.27</td>\n",
       "      <td>-0.55</td>\n",
       "      <td>-2.27</td>\n",
       "      <td>-2.27</td>\n",
       "      <td>-0.25</td>\n",
       "      <td>-0.25</td>\n",
       "      <td>-0.25</td>\n",
       "      <td>-0.25</td>\n",
       "      <td>-2.61</td>\n",
       "      <td>-2.61</td>\n",
       "      <td>-2.61</td>\n",
       "      <td>-2.61</td>\n",
       "      <td>-2.61</td>\n",
       "      <td>-2.61</td>\n",
       "      <td>-2.61</td>\n",
       "      <td>-0.25</td>\n",
       "      <td>-0.25</td>\n",
       "      <td>-0.25</td>\n",
       "    </tr>\n",
       "    <tr>\n",
       "      <th>expected_shortfall</th>\n",
       "      <td>-8.16</td>\n",
       "      <td>-8.16</td>\n",
       "      <td>-8.16</td>\n",
       "      <td>-8.16</td>\n",
       "      <td>-6.81</td>\n",
       "      <td>-6.81</td>\n",
       "      <td>-6.81</td>\n",
       "      <td>-7.12</td>\n",
       "      <td>-7.12</td>\n",
       "      <td>-6.81</td>\n",
       "      <td>-7.13</td>\n",
       "      <td>-7.13</td>\n",
       "      <td>-7.13</td>\n",
       "      <td>-7.13</td>\n",
       "      <td>-7.13</td>\n",
       "      <td>-7.13</td>\n",
       "      <td>-7.13</td>\n",
       "      <td>-7.13</td>\n",
       "    </tr>\n",
       "    <tr>\n",
       "      <th>best_month</th>\n",
       "      <td>12.90</td>\n",
       "      <td>12.88</td>\n",
       "      <td>12.88</td>\n",
       "      <td>12.88</td>\n",
       "      <td>12.88</td>\n",
       "      <td>12.88</td>\n",
       "      <td>12.88</td>\n",
       "      <td>12.87</td>\n",
       "      <td>12.89</td>\n",
       "      <td>12.89</td>\n",
       "      <td>12.89</td>\n",
       "      <td>12.89</td>\n",
       "      <td>12.89</td>\n",
       "      <td>12.89</td>\n",
       "      <td>12.89</td>\n",
       "      <td>12.89</td>\n",
       "      <td>12.89</td>\n",
       "      <td>12.89</td>\n",
       "    </tr>\n",
       "    <tr>\n",
       "      <th>worst_month</th>\n",
       "      <td>-13.89</td>\n",
       "      <td>-13.88</td>\n",
       "      <td>-13.88</td>\n",
       "      <td>-13.90</td>\n",
       "      <td>-13.53</td>\n",
       "      <td>-13.53</td>\n",
       "      <td>-13.53</td>\n",
       "      <td>-13.54</td>\n",
       "      <td>-13.53</td>\n",
       "      <td>-13.54</td>\n",
       "      <td>-13.52</td>\n",
       "      <td>-13.52</td>\n",
       "      <td>-13.53</td>\n",
       "      <td>-13.55</td>\n",
       "      <td>-13.52</td>\n",
       "      <td>-13.54</td>\n",
       "      <td>-13.54</td>\n",
       "      <td>-13.54</td>\n",
       "    </tr>\n",
       "    <tr>\n",
       "      <th>sharpe_ratio</th>\n",
       "      <td>0.82</td>\n",
       "      <td>0.85</td>\n",
       "      <td>0.84</td>\n",
       "      <td>0.81</td>\n",
       "      <td>0.87</td>\n",
       "      <td>0.87</td>\n",
       "      <td>0.88</td>\n",
       "      <td>0.81</td>\n",
       "      <td>0.80</td>\n",
       "      <td>0.81</td>\n",
       "      <td>0.80</td>\n",
       "      <td>0.81</td>\n",
       "      <td>0.80</td>\n",
       "      <td>0.79</td>\n",
       "      <td>0.79</td>\n",
       "      <td>0.82</td>\n",
       "      <td>0.81</td>\n",
       "      <td>0.81</td>\n",
       "    </tr>\n",
       "    <tr>\n",
       "      <th>sortino_ratio</th>\n",
       "      <td>0.64</td>\n",
       "      <td>0.67</td>\n",
       "      <td>0.66</td>\n",
       "      <td>0.64</td>\n",
       "      <td>0.68</td>\n",
       "      <td>0.68</td>\n",
       "      <td>0.68</td>\n",
       "      <td>0.63</td>\n",
       "      <td>0.62</td>\n",
       "      <td>0.62</td>\n",
       "      <td>0.61</td>\n",
       "      <td>0.61</td>\n",
       "      <td>0.60</td>\n",
       "      <td>0.59</td>\n",
       "      <td>0.59</td>\n",
       "      <td>0.60</td>\n",
       "      <td>0.59</td>\n",
       "      <td>0.59</td>\n",
       "    </tr>\n",
       "    <tr>\n",
       "      <th>monthly_std</th>\n",
       "      <td>2.32</td>\n",
       "      <td>2.37</td>\n",
       "      <td>2.34</td>\n",
       "      <td>2.33</td>\n",
       "      <td>2.26</td>\n",
       "      <td>2.22</td>\n",
       "      <td>2.22</td>\n",
       "      <td>2.24</td>\n",
       "      <td>2.22</td>\n",
       "      <td>2.17</td>\n",
       "      <td>2.16</td>\n",
       "      <td>2.16</td>\n",
       "      <td>2.16</td>\n",
       "      <td>2.15</td>\n",
       "      <td>2.15</td>\n",
       "      <td>2.11</td>\n",
       "      <td>2.11</td>\n",
       "      <td>2.11</td>\n",
       "    </tr>\n",
       "    <tr>\n",
       "      <th>pct_time_in_market</th>\n",
       "      <td>32.25</td>\n",
       "      <td>32.89</td>\n",
       "      <td>32.76</td>\n",
       "      <td>32.97</td>\n",
       "      <td>32.51</td>\n",
       "      <td>31.99</td>\n",
       "      <td>31.97</td>\n",
       "      <td>32.16</td>\n",
       "      <td>31.82</td>\n",
       "      <td>31.30</td>\n",
       "      <td>30.98</td>\n",
       "      <td>31.03</td>\n",
       "      <td>30.62</td>\n",
       "      <td>30.35</td>\n",
       "      <td>30.20</td>\n",
       "      <td>29.76</td>\n",
       "      <td>29.64</td>\n",
       "      <td>29.64</td>\n",
       "    </tr>\n",
       "    <tr>\n",
       "      <th>total_num_trades</th>\n",
       "      <td>293.00</td>\n",
       "      <td>298.00</td>\n",
       "      <td>297.00</td>\n",
       "      <td>297.00</td>\n",
       "      <td>297.00</td>\n",
       "      <td>293.00</td>\n",
       "      <td>293.00</td>\n",
       "      <td>290.00</td>\n",
       "      <td>287.00</td>\n",
       "      <td>284.00</td>\n",
       "      <td>282.00</td>\n",
       "      <td>282.00</td>\n",
       "      <td>279.00</td>\n",
       "      <td>276.00</td>\n",
       "      <td>275.00</td>\n",
       "      <td>273.00</td>\n",
       "      <td>272.00</td>\n",
       "      <td>272.00</td>\n",
       "    </tr>\n",
       "    <tr>\n",
       "      <th>pct_profitable_trades</th>\n",
       "      <td>78.50</td>\n",
       "      <td>78.52</td>\n",
       "      <td>78.45</td>\n",
       "      <td>78.11</td>\n",
       "      <td>78.45</td>\n",
       "      <td>78.84</td>\n",
       "      <td>78.84</td>\n",
       "      <td>78.28</td>\n",
       "      <td>78.40</td>\n",
       "      <td>78.52</td>\n",
       "      <td>78.72</td>\n",
       "      <td>78.72</td>\n",
       "      <td>78.49</td>\n",
       "      <td>78.26</td>\n",
       "      <td>78.55</td>\n",
       "      <td>78.75</td>\n",
       "      <td>78.68</td>\n",
       "      <td>78.68</td>\n",
       "    </tr>\n",
       "    <tr>\n",
       "      <th>avg_points</th>\n",
       "      <td>0.78</td>\n",
       "      <td>0.83</td>\n",
       "      <td>0.83</td>\n",
       "      <td>0.78</td>\n",
       "      <td>0.81</td>\n",
       "      <td>0.78</td>\n",
       "      <td>0.78</td>\n",
       "      <td>0.73</td>\n",
       "      <td>0.72</td>\n",
       "      <td>0.74</td>\n",
       "      <td>0.74</td>\n",
       "      <td>0.74</td>\n",
       "      <td>0.73</td>\n",
       "      <td>0.73</td>\n",
       "      <td>0.74</td>\n",
       "      <td>0.75</td>\n",
       "      <td>0.75</td>\n",
       "      <td>0.75</td>\n",
       "    </tr>\n",
       "  </tbody>\n",
       "</table>\n",
       "</div>"
      ],
      "text/plain": [
       "                               20     30     40     50     60     70     80  \\\n",
       "annual_return_rate           8.53   9.03   8.89   8.57   9.09   8.88   8.99   \n",
       "max_closed_out_drawdown    -25.53 -20.31 -23.66 -22.69 -15.31 -15.30 -15.31   \n",
       "drawdown_annualized_return  -2.99  -2.25  -2.66  -2.65  -1.68  -1.72  -1.70   \n",
       "drawdown_recovery           -2.27  -0.55  -2.27  -2.27  -0.25  -0.25  -0.25   \n",
       "expected_shortfall          -8.16  -8.16  -8.16  -8.16  -6.81  -6.81  -6.81   \n",
       "best_month                  12.90  12.88  12.88  12.88  12.88  12.88  12.88   \n",
       "worst_month                -13.89 -13.88 -13.88 -13.90 -13.53 -13.53 -13.53   \n",
       "sharpe_ratio                 0.82   0.85   0.84   0.81   0.87   0.87   0.88   \n",
       "sortino_ratio                0.64   0.67   0.66   0.64   0.68   0.68   0.68   \n",
       "monthly_std                  2.32   2.37   2.34   2.33   2.26   2.22   2.22   \n",
       "pct_time_in_market          32.25  32.89  32.76  32.97  32.51  31.99  31.97   \n",
       "total_num_trades           293.00 298.00 297.00 297.00 297.00 293.00 293.00   \n",
       "pct_profitable_trades       78.50  78.52  78.45  78.11  78.45  78.84  78.84   \n",
       "avg_points                   0.78   0.83   0.83   0.78   0.81   0.78   0.78   \n",
       "\n",
       "                               90    100    110    120    130    140    150  \\\n",
       "annual_return_rate           8.18   8.04   8.12   7.99   8.02   7.89   7.73   \n",
       "max_closed_out_drawdown    -15.31 -15.54 -19.79 -18.74 -18.75 -19.26 -19.28   \n",
       "drawdown_annualized_return  -1.87  -1.93  -2.44  -2.35  -2.34  -2.44  -2.49   \n",
       "drawdown_recovery           -0.25  -2.61  -2.61  -2.61  -2.61  -2.61  -2.61   \n",
       "expected_shortfall          -7.12  -7.12  -6.81  -7.13  -7.13  -7.13  -7.13   \n",
       "best_month                  12.87  12.89  12.89  12.89  12.89  12.89  12.89   \n",
       "worst_month                -13.54 -13.53 -13.54 -13.52 -13.52 -13.53 -13.55   \n",
       "sharpe_ratio                 0.81   0.80   0.81   0.80   0.81   0.80   0.79   \n",
       "sortino_ratio                0.63   0.62   0.62   0.61   0.61   0.60   0.59   \n",
       "monthly_std                  2.24   2.22   2.17   2.16   2.16   2.16   2.15   \n",
       "pct_time_in_market          32.16  31.82  31.30  30.98  31.03  30.62  30.35   \n",
       "total_num_trades           290.00 287.00 284.00 282.00 282.00 279.00 276.00   \n",
       "pct_profitable_trades       78.28  78.40  78.52  78.72  78.72  78.49  78.26   \n",
       "avg_points                   0.73   0.72   0.74   0.74   0.74   0.73   0.73   \n",
       "\n",
       "                              160    170    180    190  \n",
       "annual_return_rate           7.77   7.95   7.83   7.83  \n",
       "max_closed_out_drawdown    -18.50 -15.31 -15.31 -15.31  \n",
       "drawdown_annualized_return  -2.38  -1.93  -1.95  -1.95  \n",
       "drawdown_recovery           -2.61  -0.25  -0.25  -0.25  \n",
       "expected_shortfall          -7.13  -7.13  -7.13  -7.13  \n",
       "best_month                  12.89  12.89  12.89  12.89  \n",
       "worst_month                -13.52 -13.54 -13.54 -13.54  \n",
       "sharpe_ratio                 0.79   0.82   0.81   0.81  \n",
       "sortino_ratio                0.59   0.60   0.59   0.59  \n",
       "monthly_std                  2.15   2.11   2.11   2.11  \n",
       "pct_time_in_market          30.20  29.76  29.64  29.64  \n",
       "total_num_trades           275.00 273.00 272.00 272.00  \n",
       "pct_profitable_trades       78.55  78.75  78.68  78.68  \n",
       "avg_points                   0.74   0.75   0.75   0.75  "
      ]
     },
     "execution_count": 15,
     "metadata": {},
     "output_type": "execute_result"
    }
   ],
   "source": [
    "metrics = ('annual_return_rate',\n",
    "           'max_closed_out_drawdown',\n",
    "           'drawdown_annualized_return',\n",
    "           'drawdown_recovery',\n",
    "           'expected_shortfall',\n",
    "           'best_month',\n",
    "           'worst_month',\n",
    "           'sharpe_ratio',\n",
    "           'sortino_ratio',\n",
    "           'monthly_std',\n",
    "           'pct_time_in_market',\n",
    "           'total_num_trades',\n",
    "           'pct_profitable_trades',\n",
    "           'avg_points')\n",
    "\n",
    "df = strategy.summary(strategies, metrics)\n",
    "df"
   ]
  },
  {
   "cell_type": "markdown",
   "metadata": {},
   "source": [
    "Bar graphs"
   ]
  },
  {
   "cell_type": "code",
   "execution_count": 16,
   "metadata": {
    "ExecuteTime": {
     "end_time": "2020-02-16T23:38:01.070791Z",
     "start_time": "2020-02-16T23:38:00.325317Z"
    }
   },
   "outputs": [
    {
     "data": {
      "image/png": "[encoded data removed]",
      "text/plain": [
       "<Figure size 720x504 with 1 Axes>"
      ]
     },
     "metadata": {
      "needs_background": "light"
     },
     "output_type": "display_data"
    },
    {
     "data": {
      "image/png": "[encoded data removed]",
      "text/plain": [
       "<Figure size 720x504 with 1 Axes>"
      ]
     },
     "metadata": {
      "needs_background": "light"
     },
     "output_type": "display_data"
    },
    {
     "data": {
      "image/png": "[encoded data removed]",
      "text/plain": [
       "<Figure size 720x504 with 1 Axes>"
      ]
     },
     "metadata": {
      "needs_background": "light"
     },
     "output_type": "display_data"
    }
   ],
   "source": [
    "strategy.plot_bar_graph(df, 'annual_return_rate')\n",
    "strategy.plot_bar_graph(df, 'sharpe_ratio')\n",
    "strategy.plot_bar_graph(df, 'max_closed_out_drawdown')"
   ]
  },
  {
   "cell_type": "markdown",
   "metadata": {},
   "source": [
    "Run Benchmark"
   ]
  },
  {
   "cell_type": "code",
   "execution_count": 17,
   "metadata": {
    "ExecuteTime": {
     "end_time": "2020-02-16T23:38:02.043753Z",
     "start_time": "2020-02-16T23:38:01.078320Z"
    }
   },
   "outputs": [
    {
     "name": "stdout",
     "output_type": "stream",
     "text": [
      "1993-11-11 00:00:00 BUY  215 SPY @ 46.38\n",
      "2020-12-22 00:00:00 SELL 215 SPY @ 367.85\n"
     ]
    }
   ],
   "source": [
    "s = strategies[Xs[0]]\n",
    "benchmark = pf.Benchmark(symbol, capital, s.start, s.end)\n",
    "benchmark.run()\n",
    "benchmark.tlog, benchmark.dbal = benchmark.get_logs()\n",
    "benchmark.stats = benchmark.get_stats()"
   ]
  },
  {
   "cell_type": "markdown",
   "metadata": {},
   "source": [
    "Equity curve"
   ]
  },
  {
   "cell_type": "code",
   "execution_count": 18,
   "metadata": {
    "ExecuteTime": {
     "end_time": "2020-02-16T23:38:02.321132Z",
     "start_time": "2020-02-16T23:38:02.056495Z"
    },
    "scrolled": false
   },
   "outputs": [
    {
     "data": {
      "image/png": "[encoded data removed]",
      "text/plain": [
       "<Figure size 720x504 with 1 Axes>"
      ]
     },
     "metadata": {
      "needs_background": "light"
     },
     "output_type": "display_data"
    }
   ],
   "source": [
    "if   optimize_period: Y = '7'\n",
    "elif optimize_smas:   Y = '70'\n",
    "elif optimize_pct:    Y = '85'\n",
    "elif optimize_margin: Y = '10'\n",
    "\n",
    "pf.plot_equity_curve(strategies[Y].dbal, benchmark=benchmark.dbal)"
   ]
  },
  {
   "cell_type": "code",
   "execution_count": null,
   "metadata": {},
   "outputs": [],
   "source": []
  }
 ],
 "metadata": {
  "kernelspec": {
   "display_name": "Python 3",
   "language": "python",
   "name": "python3"
  },
  "language_info": {
   "codemirror_mode": {
    "name": "ipython",
    "version": 3
   },
   "file_extension": ".py",
   "mimetype": "text/x-python",
   "name": "python",
   "nbconvert_exporter": "python",
   "pygments_lexer": "ipython3",
   "version": "3.8.5"
  },
  "latex_envs": {
   "LaTeX_envs_menu_present": true,
   "autoclose": false,
   "autocomplete": true,
   "bibliofile": "biblio.bib",
   "cite_by": "apalike",
   "current_citInitial": 1,
   "eqLabelWithNumbers": true,
   "eqNumInitial": 1,
   "hotkeys": {
    "equation": "Ctrl-E",
    "itemize": "Ctrl-I"
   },
   "labels_anchors": false,
   "latex_user_defs": false,
   "report_style_numbering": false,
   "user_envs_cfg": false
  }
 },
 "nbformat": 4,
 "nbformat_minor": 1
}
