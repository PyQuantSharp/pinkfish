{
 "cells": [
  {
   "cell_type": "markdown",
   "metadata": {},
   "source": [
    "# Double 7's (Short Term Trading Strategies that Work)\n",
    "\n",
    "    1. The SPY is above its 200-day moving average or X-day ma\n",
    "    2. The SPY closes at a X-day low, buy.\n",
    "    3. If the SPY closes at a X-day high, sell your long position.\n",
    "    \n",
    "    (optimize period, smas, pct_stop_loss, or margin)"
   ]
  },
  {
   "cell_type": "code",
   "execution_count": 1,
   "metadata": {
    "ExecuteTime": {
     "end_time": "2020-02-16T23:37:50.351765Z",
     "start_time": "2020-02-16T23:37:49.607324Z"
    }
   },
   "outputs": [],
   "source": [
    "import pandas as pd\n",
    "import matplotlib.pyplot as plt\n",
    "import datetime\n",
    "from talib.abstract import *\n",
    "\n",
    "import pinkfish as pf\n",
    "import strategy\n",
    "\n",
    "# format price data\n",
    "pd.options.display.float_format = '{:0.2f}'.format\n",
    "\n",
    "%matplotlib inline"
   ]
  },
  {
   "cell_type": "code",
   "execution_count": 2,
   "metadata": {
    "ExecuteTime": {
     "end_time": "2020-02-16T23:37:50.367279Z",
     "start_time": "2020-02-16T23:37:50.361136Z"
    }
   },
   "outputs": [],
   "source": [
    "# set size of inline plots\n",
    "'''note: rcParams can't be in same cell as import matplotlib\n",
    "   or %matplotlib inline\n",
    "   \n",
    "   %matplotlib notebook: will lead to interactive plots embedded within\n",
    "   the notebook, you can zoom and resize the figure\n",
    "   \n",
    "   %matplotlib inline: only draw static images in the notebook\n",
    "'''\n",
    "plt.rcParams[\"figure.figsize\"] = (10, 7)"
   ]
  },
  {
   "cell_type": "markdown",
   "metadata": {},
   "source": [
    "Some global data"
   ]
  },
  {
   "cell_type": "code",
   "execution_count": 3,
   "metadata": {
    "ExecuteTime": {
     "end_time": "2020-02-16T23:37:50.380602Z",
     "start_time": "2020-02-16T23:37:50.373167Z"
    }
   },
   "outputs": [],
   "source": [
    "#symbol = '^GSPC'\n",
    "symbol = 'SPY'\n",
    "#symbol = 'DIA'\n",
    "#symbol = 'QQQ'\n",
    "#symbol = 'IWM'\n",
    "#symbol = 'TLT'\n",
    "#symbol = 'GLD'\n",
    "#symbol = 'AAPL'\n",
    "#symbol = 'BBRY'\n",
    "#symbol = 'GDX'\n",
    "capital = 10000\n",
    "start = datetime.datetime(1900, 1, 1)\n",
    "#start = datetime.datetime.strptime(pf.SP500_BEGIN, '%Y-%m-%d')\n",
    "end = datetime.datetime.now()"
   ]
  },
  {
   "cell_type": "markdown",
   "metadata": {},
   "source": [
    "Define Optimizations"
   ]
  },
  {
   "cell_type": "code",
   "execution_count": 4,
   "metadata": {
    "ExecuteTime": {
     "end_time": "2020-02-16T23:37:50.393117Z",
     "start_time": "2020-02-16T23:37:50.387608Z"
    }
   },
   "outputs": [],
   "source": [
    "# pick one\n",
    "optimize_period = True\n",
    "optimize_smas = False\n",
    "optimize_pct = False\n",
    "optimize_margin = False\n",
    "\n",
    "# define high low trade periods ranges\n",
    "if optimize_period:\n",
    "    Xs = range(2, 15, 1)\n",
    "    Xs = [str(X) for X in Xs]\n",
    "\n",
    "# define SMAs ranges\n",
    "elif optimize_smas:\n",
    "    Xs = range(20, 200, 10)\n",
    "    Xs = [str(X) for X in Xs]\n",
    "\n",
    "# define stop loss percentage ranges\n",
    "elif optimize_pct:\n",
    "    Xs = range(70, 96, 1)\n",
    "    Xs = [str(X) for X in Xs]\n",
    "\n",
    "# define stop loss percentage ranges\n",
    "elif optimize_margin:\n",
    "    Xs = range(10, 21, 1)\n",
    "    Xs = [str(X) for X in Xs]"
   ]
  },
  {
   "cell_type": "markdown",
   "metadata": {},
   "source": [
    "Run Strategy"
   ]
  },
  {
   "cell_type": "code",
   "execution_count": 5,
   "metadata": {
    "ExecuteTime": {
     "end_time": "2020-02-16T23:38:00.254800Z",
     "start_time": "2020-02-16T23:37:50.403938Z"
    }
   },
   "outputs": [
    {
     "name": "stdout",
     "output_type": "stream",
     "text": [
      "2 3 4 5 6 7 8 9 10 11 12 13 14 "
     ]
    }
   ],
   "source": [
    "strategies = pd.Series(dtype=object)\n",
    "for X in Xs:\n",
    "    print(\"{0}\".format(X), end=\" \")\n",
    "    if optimize_period:\n",
    "        strategies[X] = strategy.Strategy(symbol, capital, start, end, period=int(X), use_regime_filter=True)\n",
    "    elif optimize_smas:\n",
    "        strategies[X] = strategy.Strategy(symbol, capital, start, end, sma=int(X))\n",
    "    elif optimize_pct:\n",
    "        strategies[X] = strategy.Strategy(symbol, capital, start, end, stop_loss_pct=int(X), use_regime_filter=True)\n",
    "    elif optimize_margin:\n",
    "        strategies[X] = strategy.Strategy(symbol, capital, start, end, margin=int(X)/10, use_regime_filter=True)\n",
    "    strategies[X].run()\n",
    "    strategies[X].tlog, strategies[X].dbal = strategies[X].get_logs()\n",
    "    strategies[X].stats = strategies[X].get_stats()"
   ]
  },
  {
   "cell_type": "markdown",
   "metadata": {},
   "source": [
    "Summarize results"
   ]
  },
  {
   "cell_type": "code",
   "execution_count": 6,
   "metadata": {
    "ExecuteTime": {
     "end_time": "2020-02-16T23:38:00.316798Z",
     "start_time": "2020-02-16T23:38:00.264414Z"
    },
    "scrolled": false
   },
   "outputs": [
    {
     "data": {
      "text/html": [
       "<div>\n",
       "<style scoped>\n",
       "    .dataframe tbody tr th:only-of-type {\n",
       "        vertical-align: middle;\n",
       "    }\n",
       "\n",
       "    .dataframe tbody tr th {\n",
       "        vertical-align: top;\n",
       "    }\n",
       "\n",
       "    .dataframe thead th {\n",
       "        text-align: right;\n",
       "    }\n",
       "</style>\n",
       "<table border=\"1\" class=\"dataframe\">\n",
       "  <thead>\n",
       "    <tr style=\"text-align: right;\">\n",
       "      <th></th>\n",
       "      <th>2</th>\n",
       "      <th>3</th>\n",
       "      <th>4</th>\n",
       "      <th>5</th>\n",
       "      <th>6</th>\n",
       "      <th>7</th>\n",
       "      <th>8</th>\n",
       "      <th>9</th>\n",
       "      <th>10</th>\n",
       "      <th>11</th>\n",
       "      <th>12</th>\n",
       "      <th>13</th>\n",
       "      <th>14</th>\n",
       "    </tr>\n",
       "  </thead>\n",
       "  <tbody>\n",
       "    <tr>\n",
       "      <th>annual_return_rate</th>\n",
       "      <td>4.48</td>\n",
       "      <td>5.27</td>\n",
       "      <td>6.74</td>\n",
       "      <td>6.69</td>\n",
       "      <td>7.73</td>\n",
       "      <td>8.01</td>\n",
       "      <td>7.94</td>\n",
       "      <td>7.95</td>\n",
       "      <td>7.33</td>\n",
       "      <td>7.28</td>\n",
       "      <td>6.08</td>\n",
       "      <td>5.57</td>\n",
       "      <td>4.94</td>\n",
       "    </tr>\n",
       "    <tr>\n",
       "      <th>max_closed_out_drawdown</th>\n",
       "      <td>-17.19</td>\n",
       "      <td>-18.48</td>\n",
       "      <td>-15.77</td>\n",
       "      <td>-14.02</td>\n",
       "      <td>-14.04</td>\n",
       "      <td>-15.32</td>\n",
       "      <td>-32.73</td>\n",
       "      <td>-32.72</td>\n",
       "      <td>-30.38</td>\n",
       "      <td>-30.34</td>\n",
       "      <td>-30.42</td>\n",
       "      <td>-30.35</td>\n",
       "      <td>-30.33</td>\n",
       "    </tr>\n",
       "    <tr>\n",
       "      <th>drawdown_annualized_return</th>\n",
       "      <td>-3.83</td>\n",
       "      <td>-3.50</td>\n",
       "      <td>-2.34</td>\n",
       "      <td>-2.09</td>\n",
       "      <td>-1.82</td>\n",
       "      <td>-1.91</td>\n",
       "      <td>-4.12</td>\n",
       "      <td>-4.11</td>\n",
       "      <td>-4.15</td>\n",
       "      <td>-4.17</td>\n",
       "      <td>-5.00</td>\n",
       "      <td>-5.45</td>\n",
       "      <td>-6.14</td>\n",
       "    </tr>\n",
       "    <tr>\n",
       "      <th>drawdown_recovery</th>\n",
       "      <td>-0.91</td>\n",
       "      <td>-0.91</td>\n",
       "      <td>-0.05</td>\n",
       "      <td>-0.05</td>\n",
       "      <td>-0.05</td>\n",
       "      <td>-0.25</td>\n",
       "      <td>-0.13</td>\n",
       "      <td>-0.13</td>\n",
       "      <td>-0.13</td>\n",
       "      <td>-0.13</td>\n",
       "      <td>-0.13</td>\n",
       "      <td>-0.13</td>\n",
       "      <td>-0.13</td>\n",
       "    </tr>\n",
       "    <tr>\n",
       "      <th>best_month</th>\n",
       "      <td>8.77</td>\n",
       "      <td>12.12</td>\n",
       "      <td>13.49</td>\n",
       "      <td>10.04</td>\n",
       "      <td>10.05</td>\n",
       "      <td>12.90</td>\n",
       "      <td>17.14</td>\n",
       "      <td>17.13</td>\n",
       "      <td>17.31</td>\n",
       "      <td>17.28</td>\n",
       "      <td>18.78</td>\n",
       "      <td>18.71</td>\n",
       "      <td>18.70</td>\n",
       "    </tr>\n",
       "    <tr>\n",
       "      <th>worst_month</th>\n",
       "      <td>-13.77</td>\n",
       "      <td>-15.62</td>\n",
       "      <td>-15.29</td>\n",
       "      <td>-13.53</td>\n",
       "      <td>-13.55</td>\n",
       "      <td>-13.55</td>\n",
       "      <td>-30.97</td>\n",
       "      <td>-30.95</td>\n",
       "      <td>-30.38</td>\n",
       "      <td>-30.34</td>\n",
       "      <td>-30.42</td>\n",
       "      <td>-30.35</td>\n",
       "      <td>-30.33</td>\n",
       "    </tr>\n",
       "    <tr>\n",
       "      <th>sharpe_ratio</th>\n",
       "      <td>0.52</td>\n",
       "      <td>0.58</td>\n",
       "      <td>0.72</td>\n",
       "      <td>0.72</td>\n",
       "      <td>0.82</td>\n",
       "      <td>0.83</td>\n",
       "      <td>0.75</td>\n",
       "      <td>0.77</td>\n",
       "      <td>0.71</td>\n",
       "      <td>0.70</td>\n",
       "      <td>0.59</td>\n",
       "      <td>0.54</td>\n",
       "      <td>0.49</td>\n",
       "    </tr>\n",
       "    <tr>\n",
       "      <th>sortino_ratio</th>\n",
       "      <td>0.38</td>\n",
       "      <td>0.41</td>\n",
       "      <td>0.52</td>\n",
       "      <td>0.52</td>\n",
       "      <td>0.59</td>\n",
       "      <td>0.61</td>\n",
       "      <td>0.51</td>\n",
       "      <td>0.50</td>\n",
       "      <td>0.47</td>\n",
       "      <td>0.46</td>\n",
       "      <td>0.38</td>\n",
       "      <td>0.35</td>\n",
       "      <td>0.31</td>\n",
       "    </tr>\n",
       "    <tr>\n",
       "      <th>monthly_std</th>\n",
       "      <td>2.18</td>\n",
       "      <td>2.16</td>\n",
       "      <td>2.06</td>\n",
       "      <td>1.96</td>\n",
       "      <td>1.98</td>\n",
       "      <td>2.11</td>\n",
       "      <td>2.52</td>\n",
       "      <td>2.45</td>\n",
       "      <td>2.36</td>\n",
       "      <td>2.38</td>\n",
       "      <td>2.36</td>\n",
       "      <td>2.39</td>\n",
       "      <td>2.32</td>\n",
       "    </tr>\n",
       "    <tr>\n",
       "      <th>pct_time_in_market</th>\n",
       "      <td>34.59</td>\n",
       "      <td>32.24</td>\n",
       "      <td>31.40</td>\n",
       "      <td>30.00</td>\n",
       "      <td>29.15</td>\n",
       "      <td>29.60</td>\n",
       "      <td>29.65</td>\n",
       "      <td>28.09</td>\n",
       "      <td>28.34</td>\n",
       "      <td>27.88</td>\n",
       "      <td>27.46</td>\n",
       "      <td>27.19</td>\n",
       "      <td>26.44</td>\n",
       "    </tr>\n",
       "    <tr>\n",
       "      <th>total_num_trades</th>\n",
       "      <td>1321.00</td>\n",
       "      <td>745.00</td>\n",
       "      <td>511.00</td>\n",
       "      <td>389.00</td>\n",
       "      <td>324.00</td>\n",
       "      <td>269.00</td>\n",
       "      <td>239.00</td>\n",
       "      <td>203.00</td>\n",
       "      <td>180.00</td>\n",
       "      <td>161.00</td>\n",
       "      <td>144.00</td>\n",
       "      <td>131.00</td>\n",
       "      <td>120.00</td>\n",
       "    </tr>\n",
       "    <tr>\n",
       "      <th>pct_profitable_trades</th>\n",
       "      <td>70.93</td>\n",
       "      <td>71.68</td>\n",
       "      <td>73.39</td>\n",
       "      <td>75.32</td>\n",
       "      <td>79.01</td>\n",
       "      <td>78.81</td>\n",
       "      <td>81.17</td>\n",
       "      <td>80.30</td>\n",
       "      <td>78.33</td>\n",
       "      <td>79.50</td>\n",
       "      <td>79.17</td>\n",
       "      <td>80.92</td>\n",
       "      <td>80.83</td>\n",
       "    </tr>\n",
       "    <tr>\n",
       "      <th>avg_points</th>\n",
       "      <td>0.09</td>\n",
       "      <td>0.20</td>\n",
       "      <td>0.35</td>\n",
       "      <td>0.47</td>\n",
       "      <td>0.63</td>\n",
       "      <td>0.78</td>\n",
       "      <td>0.78</td>\n",
       "      <td>0.99</td>\n",
       "      <td>1.04</td>\n",
       "      <td>1.15</td>\n",
       "      <td>1.10</td>\n",
       "      <td>1.10</td>\n",
       "      <td>1.10</td>\n",
       "    </tr>\n",
       "  </tbody>\n",
       "</table>\n",
       "</div>"
      ],
      "text/plain": [
       "                                 2      3      4      5      6      7      8  \\\n",
       "annual_return_rate            4.48   5.27   6.74   6.69   7.73   8.01   7.94   \n",
       "max_closed_out_drawdown     -17.19 -18.48 -15.77 -14.02 -14.04 -15.32 -32.73   \n",
       "drawdown_annualized_return   -3.83  -3.50  -2.34  -2.09  -1.82  -1.91  -4.12   \n",
       "drawdown_recovery            -0.91  -0.91  -0.05  -0.05  -0.05  -0.25  -0.13   \n",
       "best_month                    8.77  12.12  13.49  10.04  10.05  12.90  17.14   \n",
       "worst_month                 -13.77 -15.62 -15.29 -13.53 -13.55 -13.55 -30.97   \n",
       "sharpe_ratio                  0.52   0.58   0.72   0.72   0.82   0.83   0.75   \n",
       "sortino_ratio                 0.38   0.41   0.52   0.52   0.59   0.61   0.51   \n",
       "monthly_std                   2.18   2.16   2.06   1.96   1.98   2.11   2.52   \n",
       "pct_time_in_market           34.59  32.24  31.40  30.00  29.15  29.60  29.65   \n",
       "total_num_trades           1321.00 745.00 511.00 389.00 324.00 269.00 239.00   \n",
       "pct_profitable_trades        70.93  71.68  73.39  75.32  79.01  78.81  81.17   \n",
       "avg_points                    0.09   0.20   0.35   0.47   0.63   0.78   0.78   \n",
       "\n",
       "                                9     10     11     12     13     14  \n",
       "annual_return_rate           7.95   7.33   7.28   6.08   5.57   4.94  \n",
       "max_closed_out_drawdown    -32.72 -30.38 -30.34 -30.42 -30.35 -30.33  \n",
       "drawdown_annualized_return  -4.11  -4.15  -4.17  -5.00  -5.45  -6.14  \n",
       "drawdown_recovery           -0.13  -0.13  -0.13  -0.13  -0.13  -0.13  \n",
       "best_month                  17.13  17.31  17.28  18.78  18.71  18.70  \n",
       "worst_month                -30.95 -30.38 -30.34 -30.42 -30.35 -30.33  \n",
       "sharpe_ratio                 0.77   0.71   0.70   0.59   0.54   0.49  \n",
       "sortino_ratio                0.50   0.47   0.46   0.38   0.35   0.31  \n",
       "monthly_std                  2.45   2.36   2.38   2.36   2.39   2.32  \n",
       "pct_time_in_market          28.09  28.34  27.88  27.46  27.19  26.44  \n",
       "total_num_trades           203.00 180.00 161.00 144.00 131.00 120.00  \n",
       "pct_profitable_trades       80.30  78.33  79.50  79.17  80.92  80.83  \n",
       "avg_points                   0.99   1.04   1.15   1.10   1.10   1.10  "
      ]
     },
     "execution_count": 6,
     "metadata": {},
     "output_type": "execute_result"
    }
   ],
   "source": [
    "metrics = ('annual_return_rate',\n",
    "           'max_closed_out_drawdown',\n",
    "           'drawdown_annualized_return',\n",
    "           'drawdown_recovery',\n",
    "           'best_month',\n",
    "           'worst_month',\n",
    "           'sharpe_ratio',\n",
    "           'sortino_ratio',\n",
    "           'monthly_std',\n",
    "           'pct_time_in_market',\n",
    "           'total_num_trades',\n",
    "           'pct_profitable_trades',\n",
    "           'avg_points')\n",
    "\n",
    "df = strategy.summary(strategies, metrics)\n",
    "df"
   ]
  },
  {
   "cell_type": "markdown",
   "metadata": {},
   "source": [
    "Bar graphs"
   ]
  },
  {
   "cell_type": "code",
   "execution_count": 7,
   "metadata": {
    "ExecuteTime": {
     "end_time": "2020-02-16T23:38:01.070791Z",
     "start_time": "2020-02-16T23:38:00.325317Z"
    }
   },
   "outputs": [
    {
     "data": {
      "image/png": "[encoded data removed]",
      "text/plain": [
       "<Figure size 720x504 with 1 Axes>"
      ]
     },
     "metadata": {
      "needs_background": "light"
     },
     "output_type": "display_data"
    },
    {
     "data": {
      "image/png": "[encoded data removed]",
      "text/plain": [
       "<Figure size 720x504 with 1 Axes>"
      ]
     },
     "metadata": {
      "needs_background": "light"
     },
     "output_type": "display_data"
    },
    {
     "data": {
      "image/png": "[encoded data removed]",
      "text/plain": [
       "<Figure size 720x504 with 1 Axes>"
      ]
     },
     "metadata": {
      "needs_background": "light"
     },
     "output_type": "display_data"
    }
   ],
   "source": [
    "strategy.plot_bar_graph(df, 'annual_return_rate')\n",
    "strategy.plot_bar_graph(df, 'sharpe_ratio')\n",
    "strategy.plot_bar_graph(df, 'max_closed_out_drawdown')"
   ]
  },
  {
   "cell_type": "markdown",
   "metadata": {},
   "source": [
    "Run Benchmark"
   ]
  },
  {
   "cell_type": "code",
   "execution_count": 8,
   "metadata": {
    "ExecuteTime": {
     "end_time": "2020-02-16T23:38:02.043753Z",
     "start_time": "2020-02-16T23:38:01.078320Z"
    }
   },
   "outputs": [
    {
     "name": "stdout",
     "output_type": "stream",
     "text": [
      "1993-11-11 00:00:00 BUY  215 SPY @ 46.38\n",
      "2020-08-07 00:00:00 SELL 215 SPY @ 334.57\n"
     ]
    }
   ],
   "source": [
    "s = strategies[Xs[0]]\n",
    "benchmark = pf.Benchmark(symbol, capital, s.start, s.end)\n",
    "benchmark.run()\n",
    "benchmark.tlog, benchmark.dbal = benchmark.get_logs()\n",
    "benchmark.stats = benchmark.get_stats()"
   ]
  },
  {
   "cell_type": "markdown",
   "metadata": {},
   "source": [
    "Equity curve"
   ]
  },
  {
   "cell_type": "code",
   "execution_count": 9,
   "metadata": {
    "ExecuteTime": {
     "end_time": "2020-02-16T23:38:02.321132Z",
     "start_time": "2020-02-16T23:38:02.056495Z"
    },
    "scrolled": false
   },
   "outputs": [
    {
     "data": {
      "image/png": "[encoded data removed]",
      "text/plain": [
       "<Figure size 720x504 with 1 Axes>"
      ]
     },
     "metadata": {
      "needs_background": "light"
     },
     "output_type": "display_data"
    }
   ],
   "source": [
    "if   optimize_period: Y = '7'\n",
    "elif optimize_smas:   Y = '70'\n",
    "elif optimize_pct:    Y = '85'\n",
    "elif optimize_margin: Y = '10'\n",
    "\n",
    "pf.plot_equity_curve(strategies[Y].dbal, benchmark=benchmark.dbal)"
   ]
  },
  {
   "cell_type": "code",
   "execution_count": null,
   "metadata": {},
   "outputs": [],
   "source": []
  }
 ],
 "metadata": {
  "kernelspec": {
   "display_name": "Python 3",
   "language": "python",
   "name": "python3"
  },
  "language_info": {
   "codemirror_mode": {
    "name": "ipython",
    "version": 3
   },
   "file_extension": ".py",
   "mimetype": "text/x-python",
   "name": "python",
   "nbconvert_exporter": "python",
   "pygments_lexer": "ipython3",
   "version": "3.8.5"
  },
  "latex_envs": {
   "LaTeX_envs_menu_present": true,
   "autoclose": false,
   "autocomplete": true,
   "bibliofile": "biblio.bib",
   "cite_by": "apalike",
   "current_citInitial": 1,
   "eqLabelWithNumbers": true,
   "eqNumInitial": 1,
   "hotkeys": {
    "equation": "Ctrl-E",
    "itemize": "Ctrl-I"
   },
   "labels_anchors": false,
   "latex_user_defs": false,
   "report_style_numbering": false,
   "user_envs_cfg": false
  }
 },
 "nbformat": 4,
 "nbformat_minor": 1
}
