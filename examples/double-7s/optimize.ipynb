{
 "cells": [
  {
   "cell_type": "markdown",
   "metadata": {},
   "source": [
    "# Double 7's (Short Term Trading Strategies that Work)\n",
    "\n",
    "    1. The SPY is above its 200-day moving average or X-day ma\n",
    "    2. The SPY closes at a X-day low, buy.\n",
    "    3. If the SPY closes at a X-day high, sell your long position.\n",
    "    \n",
    "    (optimize period, smas, pct_stop_loss, or margin)"
   ]
  },
  {
   "cell_type": "code",
   "execution_count": 1,
   "metadata": {
    "ExecuteTime": {
     "end_time": "2020-02-16T23:37:50.351765Z",
     "start_time": "2020-02-16T23:37:49.607324Z"
    }
   },
   "outputs": [],
   "source": [
    "import pandas as pd\n",
    "import matplotlib.pyplot as plt\n",
    "import datetime\n",
    "from talib.abstract import *\n",
    "\n",
    "import pinkfish as pf\n",
    "import strategy\n",
    "\n",
    "# format price data\n",
    "pd.options.display.float_format = '{:0.2f}'.format\n",
    "\n",
    "%matplotlib inline"
   ]
  },
  {
   "cell_type": "code",
   "execution_count": 2,
   "metadata": {
    "ExecuteTime": {
     "end_time": "2020-02-16T23:37:50.367279Z",
     "start_time": "2020-02-16T23:37:50.361136Z"
    }
   },
   "outputs": [],
   "source": [
    "# set size of inline plots\n",
    "'''note: rcParams can't be in same cell as import matplotlib\n",
    "   or %matplotlib inline\n",
    "   \n",
    "   %matplotlib notebook: will lead to interactive plots embedded within\n",
    "   the notebook, you can zoom and resize the figure\n",
    "   \n",
    "   %matplotlib inline: only draw static images in the notebook\n",
    "'''\n",
    "plt.rcParams[\"figure.figsize\"] = (10, 7)"
   ]
  },
  {
   "cell_type": "markdown",
   "metadata": {},
   "source": [
    "Some global data"
   ]
  },
  {
   "cell_type": "code",
   "execution_count": 3,
   "metadata": {
    "ExecuteTime": {
     "end_time": "2020-02-16T23:37:50.380602Z",
     "start_time": "2020-02-16T23:37:50.373167Z"
    }
   },
   "outputs": [],
   "source": [
    "#symbol = '^GSPC'\n",
    "symbol = 'SPY'\n",
    "#symbol = 'DIA'\n",
    "#symbol = 'QQQ'\n",
    "#symbol = 'IWM'\n",
    "#symbol = 'TLT'\n",
    "#symbol = 'GLD'\n",
    "#symbol = 'AAPL'\n",
    "#symbol = 'BBRY'\n",
    "#symbol = 'GDX'\n",
    "capital = 10000\n",
    "start = datetime.datetime(1900, 1, 1)\n",
    "#start = datetime.datetime.strptime(pf.SP500_BEGIN, '%Y-%m-%d')\n",
    "end = datetime.datetime.now()"
   ]
  },
  {
   "cell_type": "markdown",
   "metadata": {},
   "source": [
    "Define Optimizations"
   ]
  },
  {
   "cell_type": "code",
   "execution_count": 4,
   "metadata": {
    "ExecuteTime": {
     "end_time": "2020-02-16T23:37:50.393117Z",
     "start_time": "2020-02-16T23:37:50.387608Z"
    }
   },
   "outputs": [],
   "source": [
    "# pick one\n",
    "optimize_period = False\n",
    "optimize_smas = True\n",
    "optimize_pct = False\n",
    "optimize_margin = False\n",
    "\n",
    "# define high low trade periods ranges\n",
    "if optimize_period:\n",
    "    Xs = range(2, 15, 1)\n",
    "    Xs = [str(X) for X in Xs]\n",
    "\n",
    "# define SMAs ranges\n",
    "elif optimize_smas:\n",
    "    Xs = range(20, 200, 10)\n",
    "    Xs = [str(X) for X in Xs]\n",
    "\n",
    "# define stop loss percentage ranges\n",
    "elif optimize_pct:\n",
    "    Xs = range(70, 96, 1)\n",
    "    Xs = [str(X) for X in Xs]\n",
    "\n",
    "# define margin ranges\n",
    "elif optimize_margin:\n",
    "    Xs = range(10, 41, 2)\n",
    "    Xs = [str(X) for X in Xs]"
   ]
  },
  {
   "cell_type": "markdown",
   "metadata": {},
   "source": [
    "Run Strategy"
   ]
  },
  {
   "cell_type": "code",
   "execution_count": 5,
   "metadata": {
    "ExecuteTime": {
     "end_time": "2020-02-16T23:38:00.254800Z",
     "start_time": "2020-02-16T23:37:50.403938Z"
    }
   },
   "outputs": [
    {
     "name": "stdout",
     "output_type": "stream",
     "text": [
      "20 30 40 50 60 70 80 90 100 110 120 130 140 150 160 170 180 190 "
     ]
    }
   ],
   "source": [
    "strategies = pd.Series(dtype=object)\n",
    "for X in Xs:\n",
    "    print(\"{0}\".format(X), end=\" \")\n",
    "    if optimize_period:\n",
    "        strategies[X] = strategy.Strategy(symbol, capital, start, end, period=int(X), use_regime_filter=True)\n",
    "    elif optimize_smas:\n",
    "        strategies[X] = strategy.Strategy(symbol, capital, start, end, sma=int(X))\n",
    "    elif optimize_pct:\n",
    "        strategies[X] = strategy.Strategy(symbol, capital, start, end, stop_loss_pct=int(X), use_regime_filter=True)\n",
    "    elif optimize_margin:\n",
    "        strategies[X] = strategy.Strategy(symbol, capital, start, end, margin=int(X)/10, use_regime_filter=True)\n",
    "    strategies[X].run()\n",
    "    strategies[X].tlog, strategies[X].dbal = strategies[X].get_logs()\n",
    "    strategies[X].stats = strategies[X].get_stats()"
   ]
  },
  {
   "cell_type": "markdown",
   "metadata": {},
   "source": [
    "Summarize results"
   ]
  },
  {
   "cell_type": "code",
   "execution_count": 8,
   "metadata": {
    "ExecuteTime": {
     "end_time": "2020-02-16T23:38:00.316798Z",
     "start_time": "2020-02-16T23:38:00.264414Z"
    },
    "scrolled": false
   },
   "outputs": [
    {
     "data": {
      "text/html": [
       "<div>\n",
       "<style scoped>\n",
       "    .dataframe tbody tr th:only-of-type {\n",
       "        vertical-align: middle;\n",
       "    }\n",
       "\n",
       "    .dataframe tbody tr th {\n",
       "        vertical-align: top;\n",
       "    }\n",
       "\n",
       "    .dataframe thead th {\n",
       "        text-align: right;\n",
       "    }\n",
       "</style>\n",
       "<table border=\"1\" class=\"dataframe\">\n",
       "  <thead>\n",
       "    <tr style=\"text-align: right;\">\n",
       "      <th></th>\n",
       "      <th>20</th>\n",
       "      <th>30</th>\n",
       "      <th>40</th>\n",
       "      <th>50</th>\n",
       "      <th>60</th>\n",
       "      <th>70</th>\n",
       "      <th>80</th>\n",
       "      <th>90</th>\n",
       "      <th>100</th>\n",
       "      <th>110</th>\n",
       "      <th>120</th>\n",
       "      <th>130</th>\n",
       "      <th>140</th>\n",
       "      <th>150</th>\n",
       "      <th>160</th>\n",
       "      <th>170</th>\n",
       "      <th>180</th>\n",
       "      <th>190</th>\n",
       "    </tr>\n",
       "  </thead>\n",
       "  <tbody>\n",
       "    <tr>\n",
       "      <th>annual_return_rate</th>\n",
       "      <td>8.71</td>\n",
       "      <td>9.21</td>\n",
       "      <td>9.07</td>\n",
       "      <td>8.76</td>\n",
       "      <td>9.27</td>\n",
       "      <td>9.06</td>\n",
       "      <td>9.17</td>\n",
       "      <td>8.37</td>\n",
       "      <td>8.22</td>\n",
       "      <td>8.31</td>\n",
       "      <td>8.18</td>\n",
       "      <td>8.21</td>\n",
       "      <td>8.08</td>\n",
       "      <td>7.93</td>\n",
       "      <td>7.96</td>\n",
       "      <td>8.14</td>\n",
       "      <td>8.03</td>\n",
       "      <td>8.03</td>\n",
       "    </tr>\n",
       "    <tr>\n",
       "      <th>max_closed_out_drawdown</th>\n",
       "      <td>-25.56</td>\n",
       "      <td>-20.33</td>\n",
       "      <td>-23.68</td>\n",
       "      <td>-22.67</td>\n",
       "      <td>-15.32</td>\n",
       "      <td>-15.31</td>\n",
       "      <td>-15.31</td>\n",
       "      <td>-15.30</td>\n",
       "      <td>-15.54</td>\n",
       "      <td>-19.79</td>\n",
       "      <td>-18.75</td>\n",
       "      <td>-18.74</td>\n",
       "      <td>-19.27</td>\n",
       "      <td>-19.26</td>\n",
       "      <td>-18.51</td>\n",
       "      <td>-15.30</td>\n",
       "      <td>-15.30</td>\n",
       "      <td>-15.30</td>\n",
       "    </tr>\n",
       "    <tr>\n",
       "      <th>annualized_return_over_max_drawdown</th>\n",
       "      <td>0.34</td>\n",
       "      <td>0.45</td>\n",
       "      <td>0.38</td>\n",
       "      <td>0.39</td>\n",
       "      <td>0.61</td>\n",
       "      <td>0.59</td>\n",
       "      <td>0.60</td>\n",
       "      <td>0.55</td>\n",
       "      <td>0.53</td>\n",
       "      <td>0.42</td>\n",
       "      <td>0.44</td>\n",
       "      <td>0.44</td>\n",
       "      <td>0.42</td>\n",
       "      <td>0.41</td>\n",
       "      <td>0.43</td>\n",
       "      <td>0.53</td>\n",
       "      <td>0.52</td>\n",
       "      <td>0.52</td>\n",
       "    </tr>\n",
       "    <tr>\n",
       "      <th>drawdown_recovery_period</th>\n",
       "      <td>1224.00</td>\n",
       "      <td>344.00</td>\n",
       "      <td>428.00</td>\n",
       "      <td>537.00</td>\n",
       "      <td>228.00</td>\n",
       "      <td>228.00</td>\n",
       "      <td>228.00</td>\n",
       "      <td>340.00</td>\n",
       "      <td>355.00</td>\n",
       "      <td>742.00</td>\n",
       "      <td>448.00</td>\n",
       "      <td>448.00</td>\n",
       "      <td>658.00</td>\n",
       "      <td>658.00</td>\n",
       "      <td>446.00</td>\n",
       "      <td>354.00</td>\n",
       "      <td>354.00</td>\n",
       "      <td>354.00</td>\n",
       "    </tr>\n",
       "    <tr>\n",
       "      <th>expected_shortfall</th>\n",
       "      <td>-8.16</td>\n",
       "      <td>-8.16</td>\n",
       "      <td>-8.16</td>\n",
       "      <td>-8.16</td>\n",
       "      <td>-6.81</td>\n",
       "      <td>-6.81</td>\n",
       "      <td>-6.81</td>\n",
       "      <td>-7.12</td>\n",
       "      <td>-7.12</td>\n",
       "      <td>-6.81</td>\n",
       "      <td>-6.81</td>\n",
       "      <td>-6.81</td>\n",
       "      <td>-6.81</td>\n",
       "      <td>-6.81</td>\n",
       "      <td>-7.13</td>\n",
       "      <td>-7.13</td>\n",
       "      <td>-7.13</td>\n",
       "      <td>-7.13</td>\n",
       "    </tr>\n",
       "    <tr>\n",
       "      <th>best_month</th>\n",
       "      <td>12.91</td>\n",
       "      <td>12.89</td>\n",
       "      <td>12.89</td>\n",
       "      <td>12.89</td>\n",
       "      <td>12.89</td>\n",
       "      <td>12.89</td>\n",
       "      <td>12.89</td>\n",
       "      <td>12.87</td>\n",
       "      <td>12.89</td>\n",
       "      <td>12.89</td>\n",
       "      <td>12.89</td>\n",
       "      <td>12.89</td>\n",
       "      <td>12.89</td>\n",
       "      <td>12.89</td>\n",
       "      <td>12.89</td>\n",
       "      <td>12.89</td>\n",
       "      <td>12.89</td>\n",
       "      <td>12.89</td>\n",
       "    </tr>\n",
       "    <tr>\n",
       "      <th>worst_month</th>\n",
       "      <td>-13.91</td>\n",
       "      <td>-13.90</td>\n",
       "      <td>-13.90</td>\n",
       "      <td>-13.88</td>\n",
       "      <td>-13.54</td>\n",
       "      <td>-13.53</td>\n",
       "      <td>-13.54</td>\n",
       "      <td>-13.52</td>\n",
       "      <td>-13.55</td>\n",
       "      <td>-13.53</td>\n",
       "      <td>-13.55</td>\n",
       "      <td>-13.54</td>\n",
       "      <td>-13.52</td>\n",
       "      <td>-13.54</td>\n",
       "      <td>-13.55</td>\n",
       "      <td>-13.52</td>\n",
       "      <td>-13.53</td>\n",
       "      <td>-13.53</td>\n",
       "    </tr>\n",
       "    <tr>\n",
       "      <th>sharpe_ratio</th>\n",
       "      <td>0.83</td>\n",
       "      <td>0.86</td>\n",
       "      <td>0.85</td>\n",
       "      <td>0.83</td>\n",
       "      <td>0.89</td>\n",
       "      <td>0.88</td>\n",
       "      <td>0.89</td>\n",
       "      <td>0.82</td>\n",
       "      <td>0.81</td>\n",
       "      <td>0.83</td>\n",
       "      <td>0.82</td>\n",
       "      <td>0.82</td>\n",
       "      <td>0.82</td>\n",
       "      <td>0.80</td>\n",
       "      <td>0.81</td>\n",
       "      <td>0.83</td>\n",
       "      <td>0.82</td>\n",
       "      <td>0.82</td>\n",
       "    </tr>\n",
       "    <tr>\n",
       "      <th>sortino_ratio</th>\n",
       "      <td>0.66</td>\n",
       "      <td>0.68</td>\n",
       "      <td>0.67</td>\n",
       "      <td>0.65</td>\n",
       "      <td>0.70</td>\n",
       "      <td>0.69</td>\n",
       "      <td>0.70</td>\n",
       "      <td>0.64</td>\n",
       "      <td>0.63</td>\n",
       "      <td>0.64</td>\n",
       "      <td>0.62</td>\n",
       "      <td>0.63</td>\n",
       "      <td>0.62</td>\n",
       "      <td>0.60</td>\n",
       "      <td>0.61</td>\n",
       "      <td>0.62</td>\n",
       "      <td>0.61</td>\n",
       "      <td>0.61</td>\n",
       "    </tr>\n",
       "    <tr>\n",
       "      <th>monthly_std</th>\n",
       "      <td>2.32</td>\n",
       "      <td>2.37</td>\n",
       "      <td>2.34</td>\n",
       "      <td>2.33</td>\n",
       "      <td>2.26</td>\n",
       "      <td>2.22</td>\n",
       "      <td>2.22</td>\n",
       "      <td>2.24</td>\n",
       "      <td>2.22</td>\n",
       "      <td>2.18</td>\n",
       "      <td>2.16</td>\n",
       "      <td>2.16</td>\n",
       "      <td>2.16</td>\n",
       "      <td>2.15</td>\n",
       "      <td>2.15</td>\n",
       "      <td>2.12</td>\n",
       "      <td>2.11</td>\n",
       "      <td>2.11</td>\n",
       "    </tr>\n",
       "    <tr>\n",
       "      <th>pct_time_in_market</th>\n",
       "      <td>32.34</td>\n",
       "      <td>32.98</td>\n",
       "      <td>32.85</td>\n",
       "      <td>33.05</td>\n",
       "      <td>32.60</td>\n",
       "      <td>32.08</td>\n",
       "      <td>32.07</td>\n",
       "      <td>32.25</td>\n",
       "      <td>31.92</td>\n",
       "      <td>31.40</td>\n",
       "      <td>31.08</td>\n",
       "      <td>31.14</td>\n",
       "      <td>30.73</td>\n",
       "      <td>30.46</td>\n",
       "      <td>30.31</td>\n",
       "      <td>29.88</td>\n",
       "      <td>29.76</td>\n",
       "      <td>29.76</td>\n",
       "    </tr>\n",
       "    <tr>\n",
       "      <th>total_num_trades</th>\n",
       "      <td>297.00</td>\n",
       "      <td>302.00</td>\n",
       "      <td>301.00</td>\n",
       "      <td>301.00</td>\n",
       "      <td>301.00</td>\n",
       "      <td>297.00</td>\n",
       "      <td>297.00</td>\n",
       "      <td>294.00</td>\n",
       "      <td>291.00</td>\n",
       "      <td>288.00</td>\n",
       "      <td>286.00</td>\n",
       "      <td>286.00</td>\n",
       "      <td>283.00</td>\n",
       "      <td>280.00</td>\n",
       "      <td>279.00</td>\n",
       "      <td>277.00</td>\n",
       "      <td>276.00</td>\n",
       "      <td>276.00</td>\n",
       "    </tr>\n",
       "    <tr>\n",
       "      <th>pct_profitable_trades</th>\n",
       "      <td>78.45</td>\n",
       "      <td>78.48</td>\n",
       "      <td>78.41</td>\n",
       "      <td>78.07</td>\n",
       "      <td>78.41</td>\n",
       "      <td>78.79</td>\n",
       "      <td>78.79</td>\n",
       "      <td>78.23</td>\n",
       "      <td>78.35</td>\n",
       "      <td>78.47</td>\n",
       "      <td>78.67</td>\n",
       "      <td>78.67</td>\n",
       "      <td>78.45</td>\n",
       "      <td>78.21</td>\n",
       "      <td>78.49</td>\n",
       "      <td>78.70</td>\n",
       "      <td>78.62</td>\n",
       "      <td>78.62</td>\n",
       "    </tr>\n",
       "    <tr>\n",
       "      <th>avg_points</th>\n",
       "      <td>0.86</td>\n",
       "      <td>0.90</td>\n",
       "      <td>0.90</td>\n",
       "      <td>0.85</td>\n",
       "      <td>0.88</td>\n",
       "      <td>0.85</td>\n",
       "      <td>0.86</td>\n",
       "      <td>0.80</td>\n",
       "      <td>0.80</td>\n",
       "      <td>0.82</td>\n",
       "      <td>0.82</td>\n",
       "      <td>0.81</td>\n",
       "      <td>0.81</td>\n",
       "      <td>0.81</td>\n",
       "      <td>0.82</td>\n",
       "      <td>0.83</td>\n",
       "      <td>0.83</td>\n",
       "      <td>0.83</td>\n",
       "    </tr>\n",
       "  </tbody>\n",
       "</table>\n",
       "</div>"
      ],
      "text/plain": [
       "                                         20     30     40     50     60  \\\n",
       "annual_return_rate                     8.71   9.21   9.07   8.76   9.27   \n",
       "max_closed_out_drawdown              -25.56 -20.33 -23.68 -22.67 -15.32   \n",
       "annualized_return_over_max_drawdown    0.34   0.45   0.38   0.39   0.61   \n",
       "drawdown_recovery_period            1224.00 344.00 428.00 537.00 228.00   \n",
       "expected_shortfall                    -8.16  -8.16  -8.16  -8.16  -6.81   \n",
       "best_month                            12.91  12.89  12.89  12.89  12.89   \n",
       "worst_month                          -13.91 -13.90 -13.90 -13.88 -13.54   \n",
       "sharpe_ratio                           0.83   0.86   0.85   0.83   0.89   \n",
       "sortino_ratio                          0.66   0.68   0.67   0.65   0.70   \n",
       "monthly_std                            2.32   2.37   2.34   2.33   2.26   \n",
       "pct_time_in_market                    32.34  32.98  32.85  33.05  32.60   \n",
       "total_num_trades                     297.00 302.00 301.00 301.00 301.00   \n",
       "pct_profitable_trades                 78.45  78.48  78.41  78.07  78.41   \n",
       "avg_points                             0.86   0.90   0.90   0.85   0.88   \n",
       "\n",
       "                                        70     80     90    100    110    120  \\\n",
       "annual_return_rate                    9.06   9.17   8.37   8.22   8.31   8.18   \n",
       "max_closed_out_drawdown             -15.31 -15.31 -15.30 -15.54 -19.79 -18.75   \n",
       "annualized_return_over_max_drawdown   0.59   0.60   0.55   0.53   0.42   0.44   \n",
       "drawdown_recovery_period            228.00 228.00 340.00 355.00 742.00 448.00   \n",
       "expected_shortfall                   -6.81  -6.81  -7.12  -7.12  -6.81  -6.81   \n",
       "best_month                           12.89  12.89  12.87  12.89  12.89  12.89   \n",
       "worst_month                         -13.53 -13.54 -13.52 -13.55 -13.53 -13.55   \n",
       "sharpe_ratio                          0.88   0.89   0.82   0.81   0.83   0.82   \n",
       "sortino_ratio                         0.69   0.70   0.64   0.63   0.64   0.62   \n",
       "monthly_std                           2.22   2.22   2.24   2.22   2.18   2.16   \n",
       "pct_time_in_market                   32.08  32.07  32.25  31.92  31.40  31.08   \n",
       "total_num_trades                    297.00 297.00 294.00 291.00 288.00 286.00   \n",
       "pct_profitable_trades                78.79  78.79  78.23  78.35  78.47  78.67   \n",
       "avg_points                            0.85   0.86   0.80   0.80   0.82   0.82   \n",
       "\n",
       "                                       130    140    150    160    170    180  \\\n",
       "annual_return_rate                    8.21   8.08   7.93   7.96   8.14   8.03   \n",
       "max_closed_out_drawdown             -18.74 -19.27 -19.26 -18.51 -15.30 -15.30   \n",
       "annualized_return_over_max_drawdown   0.44   0.42   0.41   0.43   0.53   0.52   \n",
       "drawdown_recovery_period            448.00 658.00 658.00 446.00 354.00 354.00   \n",
       "expected_shortfall                   -6.81  -6.81  -6.81  -7.13  -7.13  -7.13   \n",
       "best_month                           12.89  12.89  12.89  12.89  12.89  12.89   \n",
       "worst_month                         -13.54 -13.52 -13.54 -13.55 -13.52 -13.53   \n",
       "sharpe_ratio                          0.82   0.82   0.80   0.81   0.83   0.82   \n",
       "sortino_ratio                         0.63   0.62   0.60   0.61   0.62   0.61   \n",
       "monthly_std                           2.16   2.16   2.15   2.15   2.12   2.11   \n",
       "pct_time_in_market                   31.14  30.73  30.46  30.31  29.88  29.76   \n",
       "total_num_trades                    286.00 283.00 280.00 279.00 277.00 276.00   \n",
       "pct_profitable_trades                78.67  78.45  78.21  78.49  78.70  78.62   \n",
       "avg_points                            0.81   0.81   0.81   0.82   0.83   0.83   \n",
       "\n",
       "                                       190  \n",
       "annual_return_rate                    8.03  \n",
       "max_closed_out_drawdown             -15.30  \n",
       "annualized_return_over_max_drawdown   0.52  \n",
       "drawdown_recovery_period            354.00  \n",
       "expected_shortfall                   -7.13  \n",
       "best_month                           12.89  \n",
       "worst_month                         -13.53  \n",
       "sharpe_ratio                          0.82  \n",
       "sortino_ratio                         0.61  \n",
       "monthly_std                           2.11  \n",
       "pct_time_in_market                   29.76  \n",
       "total_num_trades                    276.00  \n",
       "pct_profitable_trades                78.62  \n",
       "avg_points                            0.83  "
      ]
     },
     "execution_count": 8,
     "metadata": {},
     "output_type": "execute_result"
    }
   ],
   "source": [
    "metrics = ('annual_return_rate',\n",
    "           'max_closed_out_drawdown',\n",
    "           'annualized_return_over_max_drawdown',\n",
    "           'drawdown_recovery_period',\n",
    "           'expected_shortfall',\n",
    "           'best_month',\n",
    "           'worst_month',\n",
    "           'sharpe_ratio',\n",
    "           'sortino_ratio',\n",
    "           'monthly_std',\n",
    "           'pct_time_in_market',\n",
    "           'total_num_trades',\n",
    "           'pct_profitable_trades',\n",
    "           'avg_points')\n",
    "\n",
    "df = strategy.summary(strategies, metrics)\n",
    "df"
   ]
  },
  {
   "cell_type": "markdown",
   "metadata": {},
   "source": [
    "Bar graphs"
   ]
  },
  {
   "cell_type": "code",
   "execution_count": 9,
   "metadata": {
    "ExecuteTime": {
     "end_time": "2020-02-16T23:38:01.070791Z",
     "start_time": "2020-02-16T23:38:00.325317Z"
    }
   },
   "outputs": [
    {
     "data": {
      "image/png": "[encoded data removed]",
      "text/plain": [
       "<Figure size 720x504 with 1 Axes>"
      ]
     },
     "metadata": {
      "needs_background": "light"
     },
     "output_type": "display_data"
    },
    {
     "data": {
      "image/png": "[encoded data removed]",
      "text/plain": [
       "<Figure size 720x504 with 1 Axes>"
      ]
     },
     "metadata": {
      "needs_background": "light"
     },
     "output_type": "display_data"
    },
    {
     "data": {
      "image/png": "[encoded data removed]",
      "text/plain": [
       "<Figure size 720x504 with 1 Axes>"
      ]
     },
     "metadata": {
      "needs_background": "light"
     },
     "output_type": "display_data"
    }
   ],
   "source": [
    "strategy.plot_bar_graph(df, 'annual_return_rate')\n",
    "strategy.plot_bar_graph(df, 'sharpe_ratio')\n",
    "strategy.plot_bar_graph(df, 'max_closed_out_drawdown')"
   ]
  },
  {
   "cell_type": "markdown",
   "metadata": {},
   "source": [
    "Run Benchmark"
   ]
  },
  {
   "cell_type": "code",
   "execution_count": 10,
   "metadata": {
    "ExecuteTime": {
     "end_time": "2020-02-16T23:38:02.043753Z",
     "start_time": "2020-02-16T23:38:01.078320Z"
    }
   },
   "outputs": [],
   "source": [
    "s = strategies[Xs[0]]\n",
    "benchmark = pf.Benchmark(symbol, capital, s.start, s.end)\n",
    "benchmark.run()"
   ]
  },
  {
   "cell_type": "markdown",
   "metadata": {},
   "source": [
    "Equity curve"
   ]
  },
  {
   "cell_type": "code",
   "execution_count": 11,
   "metadata": {
    "ExecuteTime": {
     "end_time": "2020-02-16T23:38:02.321132Z",
     "start_time": "2020-02-16T23:38:02.056495Z"
    },
    "scrolled": false
   },
   "outputs": [
    {
     "data": {
      "image/png": "[encoded data removed]",
      "text/plain": [
       "<Figure size 720x504 with 1 Axes>"
      ]
     },
     "metadata": {
      "needs_background": "light"
     },
     "output_type": "display_data"
    }
   ],
   "source": [
    "if   optimize_period: Y = '7'\n",
    "elif optimize_smas:   Y = '70'\n",
    "elif optimize_pct:    Y = '85'\n",
    "elif optimize_margin: Y = '10'\n",
    "\n",
    "pf.plot_equity_curve(strategies[Y].dbal, benchmark=benchmark.dbal)"
   ]
  },
  {
   "cell_type": "code",
   "execution_count": null,
   "metadata": {},
   "outputs": [],
   "source": []
  }
 ],
 "metadata": {
  "kernelspec": {
   "display_name": "Python 3",
   "language": "python",
   "name": "python3"
  },
  "language_info": {
   "codemirror_mode": {
    "name": "ipython",
    "version": 3
   },
   "file_extension": ".py",
   "mimetype": "text/x-python",
   "name": "python",
   "nbconvert_exporter": "python",
   "pygments_lexer": "ipython3",
   "version": "3.8.5"
  },
  "latex_envs": {
   "LaTeX_envs_menu_present": true,
   "autoclose": false,
   "autocomplete": true,
   "bibliofile": "biblio.bib",
   "cite_by": "apalike",
   "current_citInitial": 1,
   "eqLabelWithNumbers": true,
   "eqNumInitial": 1,
   "hotkeys": {
    "equation": "Ctrl-E",
    "itemize": "Ctrl-I"
   },
   "labels_anchors": false,
   "latex_user_defs": false,
   "report_style_numbering": false,
   "user_envs_cfg": false
  }
 },
 "nbformat": 4,
 "nbformat_minor": 1
}
