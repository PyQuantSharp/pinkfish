{
 "cells": [
  {
   "cell_type": "markdown",
   "metadata": {},
   "source": [
    "# Double 7's (Short Term Trading Strategies that Work)\n",
    "\n",
    "    1. The SPY is above its 200-day moving average\n",
    "    2. The SPY closes at a X-day low, buy some shares.\n",
    "       If it falls further, buy some more, etc...\n",
    "    3. If the SPY closes at a X-day high, sell your entire long position.\n",
    "    \n",
    "    (Scaling in)"
   ]
  },
  {
   "cell_type": "code",
   "execution_count": 1,
   "metadata": {
    "ExecuteTime": {
     "end_time": "2020-02-17T03:25:00.514311Z",
     "start_time": "2020-02-17T03:24:58.734096Z"
    }
   },
   "outputs": [],
   "source": [
    "import pandas as pd\n",
    "import matplotlib.pyplot as plt\n",
    "import datetime\n",
    "from talib.abstract import *\n",
    "\n",
    "import pinkfish as pf\n",
    "import strategy\n",
    "\n",
    "# format price data\n",
    "pd.options.display.float_format = '{:0.2f}'.format\n",
    "\n",
    "%matplotlib inline"
   ]
  },
  {
   "cell_type": "code",
   "execution_count": 2,
   "metadata": {
    "ExecuteTime": {
     "end_time": "2020-02-17T03:25:00.535246Z",
     "start_time": "2020-02-17T03:25:00.520502Z"
    }
   },
   "outputs": [],
   "source": [
    "# set size of inline plots\n",
    "'''note: rcParams can't be in same cell as import matplotlib\n",
    "   or %matplotlib inline\n",
    "   \n",
    "   %matplotlib notebook: will lead to interactive plots embedded within\n",
    "   the notebook, you can zoom and resize the figure\n",
    "   \n",
    "   %matplotlib inline: only draw static images in the notebook\n",
    "'''\n",
    "plt.rcParams[\"figure.figsize\"] = (10, 7)"
   ]
  },
  {
   "cell_type": "markdown",
   "metadata": {},
   "source": [
    "Some global data"
   ]
  },
  {
   "cell_type": "code",
   "execution_count": 3,
   "metadata": {
    "ExecuteTime": {
     "end_time": "2020-02-17T03:25:00.557475Z",
     "start_time": "2020-02-17T03:25:00.543775Z"
    }
   },
   "outputs": [],
   "source": [
    "#symbol = '^GSPC'\n",
    "symbol = 'SPY'\n",
    "#symbol = 'DIA'\n",
    "#symbol = 'QQQ'\n",
    "#symbol = 'IWM'\n",
    "#symbol = 'TLT'\n",
    "#symbol = 'GLD'\n",
    "#symbol = 'AAPL'\n",
    "#symbol = 'BBRY'\n",
    "#symbol = 'GDX'\n",
    "capital = 10000\n",
    "start = datetime.datetime(1900, 1, 1)\n",
    "end = datetime.datetime.now()"
   ]
  },
  {
   "cell_type": "markdown",
   "metadata": {},
   "source": [
    "Define high low trade periods"
   ]
  },
  {
   "cell_type": "code",
   "execution_count": 4,
   "metadata": {
    "ExecuteTime": {
     "end_time": "2020-02-17T03:25:00.579331Z",
     "start_time": "2020-02-17T03:25:00.567353Z"
    }
   },
   "outputs": [],
   "source": [
    "period = 7"
   ]
  },
  {
   "cell_type": "markdown",
   "metadata": {},
   "source": [
    "Define max number of positions to scale into"
   ]
  },
  {
   "cell_type": "code",
   "execution_count": 5,
   "metadata": {
    "ExecuteTime": {
     "end_time": "2020-02-17T03:25:00.598140Z",
     "start_time": "2020-02-17T03:25:00.581072Z"
    }
   },
   "outputs": [],
   "source": [
    "max_positions = 1"
   ]
  },
  {
   "cell_type": "markdown",
   "metadata": {},
   "source": [
    "Define the margin multiple"
   ]
  },
  {
   "cell_type": "code",
   "execution_count": 6,
   "metadata": {},
   "outputs": [],
   "source": [
    "margin = 1"
   ]
  },
  {
   "cell_type": "markdown",
   "metadata": {},
   "source": [
    "Run Strategy"
   ]
  },
  {
   "cell_type": "code",
   "execution_count": 7,
   "metadata": {
    "ExecuteTime": {
     "end_time": "2020-02-17T03:25:00.993017Z",
     "start_time": "2020-02-17T03:25:00.599824Z"
    },
    "scrolled": false
   },
   "outputs": [],
   "source": [
    "s = strategy.Strategy(symbol, capital, start, end, stop_loss_pct=85, margin=margin,\n",
    "                      period=period, max_positions=max_positions)\n",
    "s.run()"
   ]
  },
  {
   "cell_type": "markdown",
   "metadata": {},
   "source": [
    "Retrieve log DataFrames"
   ]
  },
  {
   "cell_type": "code",
   "execution_count": 8,
   "metadata": {
    "ExecuteTime": {
     "end_time": "2020-02-17T03:25:02.347179Z",
     "start_time": "2020-02-17T03:25:01.000343Z"
    }
   },
   "outputs": [],
   "source": [
    "rlog, tlog, dbal = s.get_logs()\n",
    "stats = s.get_stats()"
   ]
  },
  {
   "cell_type": "code",
   "execution_count": 9,
   "metadata": {
    "ExecuteTime": {
     "end_time": "2020-02-17T03:25:02.409956Z",
     "start_time": "2020-02-17T03:25:02.358450Z"
    }
   },
   "outputs": [
    {
     "data": {
      "text/html": [
       "<div>\n",
       "<style scoped>\n",
       "    .dataframe tbody tr th:only-of-type {\n",
       "        vertical-align: middle;\n",
       "    }\n",
       "\n",
       "    .dataframe tbody tr th {\n",
       "        vertical-align: top;\n",
       "    }\n",
       "\n",
       "    .dataframe thead th {\n",
       "        text-align: right;\n",
       "    }\n",
       "</style>\n",
       "<table border=\"1\" class=\"dataframe\">\n",
       "  <thead>\n",
       "    <tr style=\"text-align: right;\">\n",
       "      <th></th>\n",
       "      <th>date</th>\n",
       "      <th>seq_num</th>\n",
       "      <th>price</th>\n",
       "      <th>shares</th>\n",
       "      <th>entry_exit</th>\n",
       "      <th>direction</th>\n",
       "      <th>symbol</th>\n",
       "    </tr>\n",
       "  </thead>\n",
       "  <tbody>\n",
       "    <tr>\n",
       "      <th>534</th>\n",
       "      <td>2020-12-11</td>\n",
       "      <td>534</td>\n",
       "      <td>366.30</td>\n",
       "      <td>165</td>\n",
       "      <td>entry</td>\n",
       "      <td>LONG</td>\n",
       "      <td>SPY</td>\n",
       "    </tr>\n",
       "    <tr>\n",
       "      <th>535</th>\n",
       "      <td>2020-12-16</td>\n",
       "      <td>535</td>\n",
       "      <td>370.17</td>\n",
       "      <td>165</td>\n",
       "      <td>exit</td>\n",
       "      <td>LONG</td>\n",
       "      <td>SPY</td>\n",
       "    </tr>\n",
       "    <tr>\n",
       "      <th>536</th>\n",
       "      <td>2021-01-15</td>\n",
       "      <td>536</td>\n",
       "      <td>375.70</td>\n",
       "      <td>162</td>\n",
       "      <td>entry</td>\n",
       "      <td>LONG</td>\n",
       "      <td>SPY</td>\n",
       "    </tr>\n",
       "    <tr>\n",
       "      <th>537</th>\n",
       "      <td>2021-01-20</td>\n",
       "      <td>537</td>\n",
       "      <td>383.89</td>\n",
       "      <td>162</td>\n",
       "      <td>exit</td>\n",
       "      <td>LONG</td>\n",
       "      <td>SPY</td>\n",
       "    </tr>\n",
       "    <tr>\n",
       "      <th>538</th>\n",
       "      <td>2021-01-27</td>\n",
       "      <td>538</td>\n",
       "      <td>374.41</td>\n",
       "      <td>167</td>\n",
       "      <td>entry</td>\n",
       "      <td>LONG</td>\n",
       "      <td>SPY</td>\n",
       "    </tr>\n",
       "    <tr>\n",
       "      <th>539</th>\n",
       "      <td>2021-02-04</td>\n",
       "      <td>539</td>\n",
       "      <td>386.19</td>\n",
       "      <td>167</td>\n",
       "      <td>exit</td>\n",
       "      <td>LONG</td>\n",
       "      <td>SPY</td>\n",
       "    </tr>\n",
       "    <tr>\n",
       "      <th>540</th>\n",
       "      <td>2021-02-19</td>\n",
       "      <td>540</td>\n",
       "      <td>390.03</td>\n",
       "      <td>165</td>\n",
       "      <td>entry</td>\n",
       "      <td>LONG</td>\n",
       "      <td>SPY</td>\n",
       "    </tr>\n",
       "    <tr>\n",
       "      <th>541</th>\n",
       "      <td>2021-03-10</td>\n",
       "      <td>541</td>\n",
       "      <td>389.58</td>\n",
       "      <td>165</td>\n",
       "      <td>exit</td>\n",
       "      <td>LONG</td>\n",
       "      <td>SPY</td>\n",
       "    </tr>\n",
       "    <tr>\n",
       "      <th>542</th>\n",
       "      <td>2021-03-19</td>\n",
       "      <td>542</td>\n",
       "      <td>389.48</td>\n",
       "      <td>165</td>\n",
       "      <td>entry</td>\n",
       "      <td>LONG</td>\n",
       "      <td>SPY</td>\n",
       "    </tr>\n",
       "    <tr>\n",
       "      <th>543</th>\n",
       "      <td>2021-03-26</td>\n",
       "      <td>543</td>\n",
       "      <td>395.98</td>\n",
       "      <td>165</td>\n",
       "      <td>exit</td>\n",
       "      <td>LONG</td>\n",
       "      <td>SPY</td>\n",
       "    </tr>\n",
       "  </tbody>\n",
       "</table>\n",
       "</div>"
      ],
      "text/plain": [
       "          date  seq_num  price  shares entry_exit direction symbol\n",
       "534 2020-12-11      534 366.30     165      entry      LONG    SPY\n",
       "535 2020-12-16      535 370.17     165       exit      LONG    SPY\n",
       "536 2021-01-15      536 375.70     162      entry      LONG    SPY\n",
       "537 2021-01-20      537 383.89     162       exit      LONG    SPY\n",
       "538 2021-01-27      538 374.41     167      entry      LONG    SPY\n",
       "539 2021-02-04      539 386.19     167       exit      LONG    SPY\n",
       "540 2021-02-19      540 390.03     165      entry      LONG    SPY\n",
       "541 2021-03-10      541 389.58     165       exit      LONG    SPY\n",
       "542 2021-03-19      542 389.48     165      entry      LONG    SPY\n",
       "543 2021-03-26      543 395.98     165       exit      LONG    SPY"
      ]
     },
     "execution_count": 9,
     "metadata": {},
     "output_type": "execute_result"
    }
   ],
   "source": [
    "s.rlog.tail(10)"
   ]
  },
  {
   "cell_type": "code",
   "execution_count": 10,
   "metadata": {
    "ExecuteTime": {
     "end_time": "2020-02-17T03:25:02.478187Z",
     "start_time": "2020-02-17T03:25:02.419242Z"
    }
   },
   "outputs": [
    {
     "data": {
      "text/html": [
       "<div>\n",
       "<style scoped>\n",
       "    .dataframe tbody tr th:only-of-type {\n",
       "        vertical-align: middle;\n",
       "    }\n",
       "\n",
       "    .dataframe tbody tr th {\n",
       "        vertical-align: top;\n",
       "    }\n",
       "\n",
       "    .dataframe thead th {\n",
       "        text-align: right;\n",
       "    }\n",
       "</style>\n",
       "<table border=\"1\" class=\"dataframe\">\n",
       "  <thead>\n",
       "    <tr style=\"text-align: right;\">\n",
       "      <th></th>\n",
       "      <th>entry_date</th>\n",
       "      <th>entry_price</th>\n",
       "      <th>exit_date</th>\n",
       "      <th>exit_price</th>\n",
       "      <th>pl_points</th>\n",
       "      <th>pl_cash</th>\n",
       "      <th>qty</th>\n",
       "      <th>cumul_total</th>\n",
       "      <th>direction</th>\n",
       "      <th>symbol</th>\n",
       "    </tr>\n",
       "  </thead>\n",
       "  <tbody>\n",
       "    <tr>\n",
       "      <th>262</th>\n",
       "      <td>2020-01-27</td>\n",
       "      <td>323.50</td>\n",
       "      <td>2020-02-04</td>\n",
       "      <td>329.06</td>\n",
       "      <td>5.56</td>\n",
       "      <td>1089.76</td>\n",
       "      <td>196</td>\n",
       "      <td>54714.21</td>\n",
       "      <td>LONG</td>\n",
       "      <td>SPY</td>\n",
       "    </tr>\n",
       "    <tr>\n",
       "      <th>263</th>\n",
       "      <td>2020-02-21</td>\n",
       "      <td>333.48</td>\n",
       "      <td>2020-03-04</td>\n",
       "      <td>312.86</td>\n",
       "      <td>-20.62</td>\n",
       "      <td>-4000.28</td>\n",
       "      <td>194</td>\n",
       "      <td>50713.92</td>\n",
       "      <td>LONG</td>\n",
       "      <td>SPY</td>\n",
       "    </tr>\n",
       "    <tr>\n",
       "      <th>264</th>\n",
       "      <td>2020-06-24</td>\n",
       "      <td>304.09</td>\n",
       "      <td>2020-07-02</td>\n",
       "      <td>312.23</td>\n",
       "      <td>8.14</td>\n",
       "      <td>1619.86</td>\n",
       "      <td>199</td>\n",
       "      <td>52333.78</td>\n",
       "      <td>LONG</td>\n",
       "      <td>SPY</td>\n",
       "    </tr>\n",
       "    <tr>\n",
       "      <th>265</th>\n",
       "      <td>2020-09-03</td>\n",
       "      <td>345.39</td>\n",
       "      <td>2020-09-28</td>\n",
       "      <td>334.19</td>\n",
       "      <td>-11.20</td>\n",
       "      <td>-2016.00</td>\n",
       "      <td>180</td>\n",
       "      <td>50317.78</td>\n",
       "      <td>LONG</td>\n",
       "      <td>SPY</td>\n",
       "    </tr>\n",
       "    <tr>\n",
       "      <th>266</th>\n",
       "      <td>2020-10-19</td>\n",
       "      <td>342.01</td>\n",
       "      <td>2020-11-04</td>\n",
       "      <td>343.54</td>\n",
       "      <td>1.53</td>\n",
       "      <td>269.28</td>\n",
       "      <td>176</td>\n",
       "      <td>50587.06</td>\n",
       "      <td>LONG</td>\n",
       "      <td>SPY</td>\n",
       "    </tr>\n",
       "    <tr>\n",
       "      <th>267</th>\n",
       "      <td>2020-12-11</td>\n",
       "      <td>366.30</td>\n",
       "      <td>2020-12-16</td>\n",
       "      <td>370.17</td>\n",
       "      <td>3.87</td>\n",
       "      <td>638.55</td>\n",
       "      <td>165</td>\n",
       "      <td>51225.62</td>\n",
       "      <td>LONG</td>\n",
       "      <td>SPY</td>\n",
       "    </tr>\n",
       "    <tr>\n",
       "      <th>268</th>\n",
       "      <td>2021-01-15</td>\n",
       "      <td>375.70</td>\n",
       "      <td>2021-01-20</td>\n",
       "      <td>383.89</td>\n",
       "      <td>8.19</td>\n",
       "      <td>1326.78</td>\n",
       "      <td>162</td>\n",
       "      <td>52552.40</td>\n",
       "      <td>LONG</td>\n",
       "      <td>SPY</td>\n",
       "    </tr>\n",
       "    <tr>\n",
       "      <th>269</th>\n",
       "      <td>2021-01-27</td>\n",
       "      <td>374.41</td>\n",
       "      <td>2021-02-04</td>\n",
       "      <td>386.19</td>\n",
       "      <td>11.78</td>\n",
       "      <td>1967.26</td>\n",
       "      <td>167</td>\n",
       "      <td>54519.66</td>\n",
       "      <td>LONG</td>\n",
       "      <td>SPY</td>\n",
       "    </tr>\n",
       "    <tr>\n",
       "      <th>270</th>\n",
       "      <td>2021-02-19</td>\n",
       "      <td>390.03</td>\n",
       "      <td>2021-03-10</td>\n",
       "      <td>389.58</td>\n",
       "      <td>-0.45</td>\n",
       "      <td>-74.25</td>\n",
       "      <td>165</td>\n",
       "      <td>54445.40</td>\n",
       "      <td>LONG</td>\n",
       "      <td>SPY</td>\n",
       "    </tr>\n",
       "    <tr>\n",
       "      <th>271</th>\n",
       "      <td>2021-03-19</td>\n",
       "      <td>389.48</td>\n",
       "      <td>2021-03-26</td>\n",
       "      <td>395.98</td>\n",
       "      <td>6.50</td>\n",
       "      <td>1072.50</td>\n",
       "      <td>165</td>\n",
       "      <td>55517.90</td>\n",
       "      <td>LONG</td>\n",
       "      <td>SPY</td>\n",
       "    </tr>\n",
       "  </tbody>\n",
       "</table>\n",
       "</div>"
      ],
      "text/plain": [
       "    entry_date  entry_price  exit_date  exit_price  pl_points  pl_cash  qty  \\\n",
       "262 2020-01-27       323.50 2020-02-04      329.06       5.56  1089.76  196   \n",
       "263 2020-02-21       333.48 2020-03-04      312.86     -20.62 -4000.28  194   \n",
       "264 2020-06-24       304.09 2020-07-02      312.23       8.14  1619.86  199   \n",
       "265 2020-09-03       345.39 2020-09-28      334.19     -11.20 -2016.00  180   \n",
       "266 2020-10-19       342.01 2020-11-04      343.54       1.53   269.28  176   \n",
       "267 2020-12-11       366.30 2020-12-16      370.17       3.87   638.55  165   \n",
       "268 2021-01-15       375.70 2021-01-20      383.89       8.19  1326.78  162   \n",
       "269 2021-01-27       374.41 2021-02-04      386.19      11.78  1967.26  167   \n",
       "270 2021-02-19       390.03 2021-03-10      389.58      -0.45   -74.25  165   \n",
       "271 2021-03-19       389.48 2021-03-26      395.98       6.50  1072.50  165   \n",
       "\n",
       "     cumul_total direction symbol  \n",
       "262     54714.21      LONG    SPY  \n",
       "263     50713.92      LONG    SPY  \n",
       "264     52333.78      LONG    SPY  \n",
       "265     50317.78      LONG    SPY  \n",
       "266     50587.06      LONG    SPY  \n",
       "267     51225.62      LONG    SPY  \n",
       "268     52552.40      LONG    SPY  \n",
       "269     54519.66      LONG    SPY  \n",
       "270     54445.40      LONG    SPY  \n",
       "271     55517.90      LONG    SPY  "
      ]
     },
     "execution_count": 10,
     "metadata": {},
     "output_type": "execute_result"
    }
   ],
   "source": [
    "tlog.tail(10)"
   ]
  },
  {
   "cell_type": "code",
   "execution_count": 11,
   "metadata": {
    "ExecuteTime": {
     "end_time": "2020-02-17T03:25:02.526223Z",
     "start_time": "2020-02-17T03:25:02.482240Z"
    },
    "scrolled": false
   },
   "outputs": [
    {
     "data": {
      "text/html": [
       "<div>\n",
       "<style scoped>\n",
       "    .dataframe tbody tr th:only-of-type {\n",
       "        vertical-align: middle;\n",
       "    }\n",
       "\n",
       "    .dataframe tbody tr th {\n",
       "        vertical-align: top;\n",
       "    }\n",
       "\n",
       "    .dataframe thead th {\n",
       "        text-align: right;\n",
       "    }\n",
       "</style>\n",
       "<table border=\"1\" class=\"dataframe\">\n",
       "  <thead>\n",
       "    <tr style=\"text-align: right;\">\n",
       "      <th></th>\n",
       "      <th>high</th>\n",
       "      <th>low</th>\n",
       "      <th>close</th>\n",
       "      <th>shares</th>\n",
       "      <th>cash</th>\n",
       "      <th>leverage</th>\n",
       "      <th>state</th>\n",
       "    </tr>\n",
       "    <tr>\n",
       "      <th>date</th>\n",
       "      <th></th>\n",
       "      <th></th>\n",
       "      <th></th>\n",
       "      <th></th>\n",
       "      <th></th>\n",
       "      <th></th>\n",
       "      <th></th>\n",
       "    </tr>\n",
       "  </thead>\n",
       "  <tbody>\n",
       "    <tr>\n",
       "      <th>2021-03-22</th>\n",
       "      <td>65202.75</td>\n",
       "      <td>64526.25</td>\n",
       "      <td>64958.55</td>\n",
       "      <td>165</td>\n",
       "      <td>181.20</td>\n",
       "      <td>1.00</td>\n",
       "      <td>-</td>\n",
       "    </tr>\n",
       "    <tr>\n",
       "      <th>2021-03-23</th>\n",
       "      <td>65102.10</td>\n",
       "      <td>64310.10</td>\n",
       "      <td>64448.70</td>\n",
       "      <td>165</td>\n",
       "      <td>181.20</td>\n",
       "      <td>1.00</td>\n",
       "      <td>-</td>\n",
       "    </tr>\n",
       "    <tr>\n",
       "      <th>2021-03-24</th>\n",
       "      <td>64984.95</td>\n",
       "      <td>64113.75</td>\n",
       "      <td>64122.00</td>\n",
       "      <td>165</td>\n",
       "      <td>181.20</td>\n",
       "      <td>1.00</td>\n",
       "      <td>-</td>\n",
       "    </tr>\n",
       "    <tr>\n",
       "      <th>2021-03-25</th>\n",
       "      <td>64621.95</td>\n",
       "      <td>63524.70</td>\n",
       "      <td>64481.70</td>\n",
       "      <td>165</td>\n",
       "      <td>181.20</td>\n",
       "      <td>1.00</td>\n",
       "      <td>-</td>\n",
       "    </tr>\n",
       "    <tr>\n",
       "      <th>2021-03-26</th>\n",
       "      <td>65517.90</td>\n",
       "      <td>65517.90</td>\n",
       "      <td>65517.90</td>\n",
       "      <td>0</td>\n",
       "      <td>65517.90</td>\n",
       "      <td>1.00</td>\n",
       "      <td>X</td>\n",
       "    </tr>\n",
       "  </tbody>\n",
       "</table>\n",
       "</div>"
      ],
      "text/plain": [
       "               high      low    close  shares     cash  leverage state\n",
       "date                                                                  \n",
       "2021-03-22 65202.75 64526.25 64958.55     165   181.20      1.00     -\n",
       "2021-03-23 65102.10 64310.10 64448.70     165   181.20      1.00     -\n",
       "2021-03-24 64984.95 64113.75 64122.00     165   181.20      1.00     -\n",
       "2021-03-25 64621.95 63524.70 64481.70     165   181.20      1.00     -\n",
       "2021-03-26 65517.90 65517.90 65517.90       0 65517.90      1.00     X"
      ]
     },
     "execution_count": 11,
     "metadata": {},
     "output_type": "execute_result"
    }
   ],
   "source": [
    "dbal.tail()"
   ]
  },
  {
   "cell_type": "markdown",
   "metadata": {},
   "source": [
    "Generate strategy stats - display all available stats"
   ]
  },
  {
   "cell_type": "code",
   "execution_count": 12,
   "metadata": {
    "ExecuteTime": {
     "end_time": "2020-02-17T03:25:02.585181Z",
     "start_time": "2020-02-17T03:25:02.535391Z"
    }
   },
   "outputs": [
    {
     "name": "stdout",
     "output_type": "stream",
     "text": [
      "start                                                   1993-11-11\n",
      "end                                                     2021-03-26\n",
      "beginning_balance                                            10000\n",
      "ending_balance                                            65517.90\n",
      "total_net_profit                                          55517.90\n",
      "gross_profit                                             102799.24\n",
      "gross_loss                                               -47281.33\n",
      "profit_factor                                                 2.17\n",
      "return_on_initial_capital                                   555.18\n",
      "annual_return_rate                                            7.11\n",
      "trading_period                           27 years 4 months 15 days\n",
      "pct_time_in_market                                           29.73\n",
      "margin                                                           1\n",
      "avg_leverage                                                  1.00\n",
      "max_leverage                                                  1.00\n",
      "min_leverage                                                  1.00\n",
      "total_num_trades                                               272\n",
      "trades_per_year                                               9.94\n",
      "num_winning_trades                                             212\n",
      "num_losing_trades                                               59\n",
      "num_even_trades                                                  1\n",
      "pct_profitable_trades                                        77.94\n",
      "avg_profit_per_trade                                        204.11\n",
      "avg_profit_per_winning_trade                                484.90\n",
      "avg_loss_per_losing_trade                                  -801.38\n",
      "ratio_avg_profit_win_loss                                     0.61\n",
      "largest_profit_winning_trade                               2446.60\n",
      "largest_loss_losing_trade                                 -4000.28\n",
      "num_winning_points                                          461.82\n",
      "num_losing_points                                          -209.38\n",
      "total_net_points                                            252.43\n",
      "avg_points                                                    0.93\n",
      "largest_points_winning_trade                                 11.78\n",
      "largest_points_losing_trade                                 -20.62\n",
      "avg_pct_gain_per_trade                                        0.71\n",
      "largest_pct_winning_trade                                     6.92\n",
      "largest_pct_losing_trade                                    -10.05\n",
      "expected_shortfall                                           -8.45\n",
      "max_consecutive_winning_trades                                  18\n",
      "max_consecutive_losing_trades                                    4\n",
      "avg_bars_winning_trades                                       6.67\n",
      "avg_bars_losing_trades                                       15.25\n",
      "max_closed_out_drawdown                                     -14.63\n",
      "max_closed_out_drawdown_peak_date                       2000-07-03\n",
      "max_closed_out_drawdown_trough_date                     2002-05-07\n",
      "max_closed_out_drawdown_recovery_date                   2003-12-11\n",
      "drawdown_loss_period                                           673\n",
      "drawdown_recovery_period                                       583\n",
      "annualized_return_over_max_drawdown                           0.49\n",
      "max_intra_day_drawdown                                      -15.96\n",
      "avg_yearly_closed_out_drawdown                               -6.61\n",
      "max_yearly_closed_out_drawdown                              -14.03\n",
      "avg_monthly_closed_out_drawdown                              -1.50\n",
      "max_monthly_closed_out_drawdown                             -14.03\n",
      "avg_weekly_closed_out_drawdown                               -0.49\n",
      "max_weekly_closed_out_drawdown                              -12.82\n",
      "avg_yearly_closed_out_runup                                  12.51\n",
      "max_yearly_closed_out_runup                                  41.13\n",
      "avg_monthly_closed_out_runup                                  1.93\n",
      "max_monthly_closed_out_runup                                 12.88\n",
      "avg_weekly_closed_out_runup                                   0.64\n",
      "max_weekly_closed_out_runup                                   7.81\n",
      "pct_profitable_years                                         74.43\n",
      "best_year                                                    40.41\n",
      "worst_year                                                   -9.94\n",
      "avg_year                                                      7.46\n",
      "annual_std                                                    9.03\n",
      "pct_profitable_months                                        52.07\n",
      "best_month                                                   12.88\n",
      "worst_month                                                 -13.54\n",
      "avg_month                                                     0.56\n",
      "monthly_std                                                   2.12\n",
      "pct_profitable_weeks                                         29.03\n",
      "best_week                                                     7.81\n",
      "worst_week                                                  -12.82\n",
      "avg_week                                                      0.14\n",
      "weekly_std                                                    1.22\n",
      "pct_profitable_days                                          16.67\n",
      "best_day                                                      5.78\n",
      "worst_day                                                    -7.24\n",
      "avg_day                                                       0.03\n",
      "daily_std                                                     0.62\n",
      "sharpe_ratio                                                  0.74\n",
      "sharpe_ratio_max                                              0.78\n",
      "sharpe_ratio_min                                              0.70\n",
      "sortino_ratio                                                 0.55\n",
      "dtype: object\n"
     ]
    }
   ],
   "source": [
    "pf.print_full(stats)"
   ]
  },
  {
   "cell_type": "markdown",
   "metadata": {},
   "source": [
    "Equity curve"
   ]
  },
  {
   "cell_type": "markdown",
   "metadata": {},
   "source": [
    "Run Benchmark, Retrieve benchmark logs, and Generate benchmark stats"
   ]
  },
  {
   "cell_type": "code",
   "execution_count": 13,
   "metadata": {
    "ExecuteTime": {
     "end_time": "2020-02-17T03:25:03.828131Z",
     "start_time": "2020-02-17T03:25:02.599218Z"
    }
   },
   "outputs": [],
   "source": [
    "benchmark = pf.Benchmark(symbol, capital, s.start, s.end)\n",
    "benchmark.run()"
   ]
  },
  {
   "cell_type": "markdown",
   "metadata": {},
   "source": [
    "Plot Equity Curves: Strategy vs Benchmark"
   ]
  },
  {
   "cell_type": "code",
   "execution_count": 14,
   "metadata": {
    "ExecuteTime": {
     "end_time": "2020-02-17T03:25:04.435435Z",
     "start_time": "2020-02-17T03:25:03.835361Z"
    },
    "scrolled": false
   },
   "outputs": [
    {
     "data": {
      "image/png": "[encoded data removed]",
      "text/plain": [
       "<Figure size 720x504 with 1 Axes>"
      ]
     },
     "metadata": {
      "needs_background": "light"
     },
     "output_type": "display_data"
    }
   ],
   "source": [
    "pf.plot_equity_curve(dbal, benchmark=benchmark.dbal)"
   ]
  },
  {
   "cell_type": "markdown",
   "metadata": {},
   "source": [
    "Plot Trades"
   ]
  },
  {
   "cell_type": "code",
   "execution_count": 15,
   "metadata": {
    "ExecuteTime": {
     "end_time": "2020-02-17T03:25:05.030135Z",
     "start_time": "2020-02-17T03:25:04.448106Z"
    }
   },
   "outputs": [
    {
     "data": {
      "image/png": "[encoded data removed]",
      "text/plain": [
       "<Figure size 720x504 with 1 Axes>"
      ]
     },
     "metadata": {
      "needs_background": "light"
     },
     "output_type": "display_data"
    }
   ],
   "source": [
    "pf.plot_trades(dbal, benchmark=benchmark.dbal)"
   ]
  },
  {
   "cell_type": "markdown",
   "metadata": {},
   "source": [
    "Bar Graph: Strategy vs Benchmark"
   ]
  },
  {
   "cell_type": "code",
   "execution_count": 16,
   "metadata": {
    "ExecuteTime": {
     "end_time": "2020-02-17T03:25:05.776107Z",
     "start_time": "2020-02-17T03:25:05.040452Z"
    }
   },
   "outputs": [
    {
     "data": {
      "text/html": [
       "<div>\n",
       "<style scoped>\n",
       "    .dataframe tbody tr th:only-of-type {\n",
       "        vertical-align: middle;\n",
       "    }\n",
       "\n",
       "    .dataframe tbody tr th {\n",
       "        vertical-align: top;\n",
       "    }\n",
       "\n",
       "    .dataframe thead th {\n",
       "        text-align: right;\n",
       "    }\n",
       "</style>\n",
       "<table border=\"1\" class=\"dataframe\">\n",
       "  <thead>\n",
       "    <tr style=\"text-align: right;\">\n",
       "      <th></th>\n",
       "      <th>strategy</th>\n",
       "      <th>benchmark</th>\n",
       "    </tr>\n",
       "  </thead>\n",
       "  <tbody>\n",
       "    <tr>\n",
       "      <th>annual_return_rate</th>\n",
       "      <td>7.11</td>\n",
       "      <td>8.14</td>\n",
       "    </tr>\n",
       "    <tr>\n",
       "      <th>max_closed_out_drawdown</th>\n",
       "      <td>-14.63</td>\n",
       "      <td>-56.42</td>\n",
       "    </tr>\n",
       "    <tr>\n",
       "      <th>annualized_return_over_max_drawdown</th>\n",
       "      <td>0.49</td>\n",
       "      <td>0.14</td>\n",
       "    </tr>\n",
       "    <tr>\n",
       "      <th>best_month</th>\n",
       "      <td>12.88</td>\n",
       "      <td>23.06</td>\n",
       "    </tr>\n",
       "    <tr>\n",
       "      <th>worst_month</th>\n",
       "      <td>-13.54</td>\n",
       "      <td>-31.38</td>\n",
       "    </tr>\n",
       "    <tr>\n",
       "      <th>sharpe_ratio</th>\n",
       "      <td>0.74</td>\n",
       "      <td>0.51</td>\n",
       "    </tr>\n",
       "    <tr>\n",
       "      <th>sortino_ratio</th>\n",
       "      <td>0.55</td>\n",
       "      <td>0.64</td>\n",
       "    </tr>\n",
       "    <tr>\n",
       "      <th>monthly_std</th>\n",
       "      <td>2.12</td>\n",
       "      <td>4.52</td>\n",
       "    </tr>\n",
       "    <tr>\n",
       "      <th>annual_std</th>\n",
       "      <td>9.03</td>\n",
       "      <td>16.55</td>\n",
       "    </tr>\n",
       "  </tbody>\n",
       "</table>\n",
       "</div>"
      ],
      "text/plain": [
       "                                     strategy  benchmark\n",
       "annual_return_rate                       7.11       8.14\n",
       "max_closed_out_drawdown                -14.63     -56.42\n",
       "annualized_return_over_max_drawdown      0.49       0.14\n",
       "best_month                              12.88      23.06\n",
       "worst_month                            -13.54     -31.38\n",
       "sharpe_ratio                             0.74       0.51\n",
       "sortino_ratio                            0.55       0.64\n",
       "monthly_std                              2.12       4.52\n",
       "annual_std                               9.03      16.55"
      ]
     },
     "execution_count": 16,
     "metadata": {},
     "output_type": "execute_result"
    },
    {
     "data": {
      "image/png": "[encoded data removed]",
      "text/plain": [
       "<Figure size 720x504 with 1 Axes>"
      ]
     },
     "metadata": {
      "needs_background": "light"
     },
     "output_type": "display_data"
    }
   ],
   "source": [
    "df = pf.plot_bar_graph(stats, benchmark.stats)\n",
    "df"
   ]
  }
 ],
 "metadata": {
  "kernelspec": {
   "display_name": "Python 3",
   "language": "python",
   "name": "python3"
  },
  "language_info": {
   "codemirror_mode": {
    "name": "ipython",
    "version": 3
   },
   "file_extension": ".py",
   "mimetype": "text/x-python",
   "name": "python",
   "nbconvert_exporter": "python",
   "pygments_lexer": "ipython3",
   "version": "3.8.5"
  },
  "latex_envs": {
   "LaTeX_envs_menu_present": true,
   "autoclose": false,
   "autocomplete": true,
   "bibliofile": "biblio.bib",
   "cite_by": "apalike",
   "current_citInitial": 1,
   "eqLabelWithNumbers": true,
   "eqNumInitial": 1,
   "hotkeys": {
    "equation": "Ctrl-E",
    "itemize": "Ctrl-I"
   },
   "labels_anchors": false,
   "latex_user_defs": false,
   "report_style_numbering": false,
   "user_envs_cfg": false
  }
 },
 "nbformat": 4,
 "nbformat_minor": 1
}
