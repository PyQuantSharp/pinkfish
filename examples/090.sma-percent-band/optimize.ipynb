{
 "cells": [
  {
   "cell_type": "markdown",
   "metadata": {},
   "source": [
    "# SMA Percent Band\n",
    "\n",
    "    1. The SPY closes above its upper band, buy\n",
    "    2. If the SPY closes below its lower band, sell your long position.\n",
    "    \n",
    "    Optimize: sma, percent band."
   ]
  },
  {
   "cell_type": "code",
   "execution_count": 1,
   "metadata": {
    "ExecuteTime": {
     "end_time": "2020-02-16T23:37:50.351765Z",
     "start_time": "2020-02-16T23:37:49.607324Z"
    }
   },
   "outputs": [],
   "source": [
    "import datetime\n",
    "\n",
    "import matplotlib.pyplot as plt\n",
    "import pandas as pd\n",
    "\n",
    "import pinkfish as pf\n",
    "import strategy\n",
    "\n",
    "# Format price data\n",
    "pd.options.display.float_format = '{:0.2f}'.format\n",
    "\n",
    "%matplotlib inline"
   ]
  },
  {
   "cell_type": "code",
   "execution_count": 2,
   "metadata": {
    "ExecuteTime": {
     "end_time": "2020-02-16T23:37:50.367279Z",
     "start_time": "2020-02-16T23:37:50.361136Z"
    }
   },
   "outputs": [],
   "source": [
    "# Set size of inline plots\n",
    "'''note: rcParams can't be in same cell as import matplotlib\n",
    "   or %matplotlib inline\n",
    "   \n",
    "   %matplotlib notebook: will lead to interactive plots embedded within\n",
    "   the notebook, you can zoom and resize the figure\n",
    "   \n",
    "   %matplotlib inline: only draw static images in the notebook\n",
    "'''\n",
    "plt.rcParams[\"figure.figsize\"] = (10, 7)"
   ]
  },
  {
   "cell_type": "markdown",
   "metadata": {},
   "source": [
    "Some global data"
   ]
  },
  {
   "cell_type": "code",
   "execution_count": 3,
   "metadata": {
    "ExecuteTime": {
     "end_time": "2020-02-16T23:37:50.380602Z",
     "start_time": "2020-02-16T23:37:50.373167Z"
    }
   },
   "outputs": [],
   "source": [
    "symbol = '^GSPC'\n",
    "#symbol = 'SPY'\n",
    "#symbol = 'ES=F'\n",
    "#symbol = 'DIA'\n",
    "#symbol = 'QQQ'\n",
    "#symbol = 'IWM'\n",
    "#symbol = 'TLT'\n",
    "#symbol = 'GLD'\n",
    "#symbol = 'AAPL'\n",
    "#symbol = 'BBRY'\n",
    "#symbol = 'GDX'\n",
    "capital = 10000\n",
    "start = datetime.datetime(1900, 1, 1)\n",
    "#start = datetime.datetime(*pf.SP500_BEGIN)\n",
    "end = datetime.datetime.now()"
   ]
  },
  {
   "cell_type": "markdown",
   "metadata": {},
   "source": [
    "Define Optimizations"
   ]
  },
  {
   "cell_type": "code",
   "execution_count": 4,
   "metadata": {
    "ExecuteTime": {
     "end_time": "2020-02-16T23:37:50.393117Z",
     "start_time": "2020-02-16T23:37:50.387608Z"
    }
   },
   "outputs": [],
   "source": [
    "# pick one\n",
    "optimize_sma  = True\n",
    "optimize_band = False\n",
    "\n",
    "# define SMAs ranges\n",
    "if optimize_sma:\n",
    "    Xs = range(50, 525, 25)\n",
    "    Xs = [str(X) for X in Xs]\n",
    "\n",
    "# define band ranges\n",
    "elif optimize_band:\n",
    "    Xs = range(0, 100, 5)\n",
    "    Xs = [str(X) for X in Xs]"
   ]
  },
  {
   "cell_type": "code",
   "execution_count": 5,
   "metadata": {},
   "outputs": [],
   "source": [
    "options = {\n",
    "    'use_adj' : True,\n",
    "    'use_cache' : True,\n",
    "    'sma' : 200,\n",
    "    'band' : 0.0\n",
    "}"
   ]
  },
  {
   "cell_type": "markdown",
   "metadata": {},
   "source": [
    "Run Strategy"
   ]
  },
  {
   "cell_type": "code",
   "execution_count": 6,
   "metadata": {
    "ExecuteTime": {
     "end_time": "2020-02-16T23:38:00.254800Z",
     "start_time": "2020-02-16T23:37:50.403938Z"
    }
   },
   "outputs": [
    {
     "name": "stdout",
     "output_type": "stream",
     "text": [
      "50 75 100 125 150 175 200 225 250 275 300 325 350 375 400 425 450 475 500 "
     ]
    }
   ],
   "source": [
    "strategies = pd.Series(dtype=object)\n",
    "for X in Xs:\n",
    "    print(X, end=\" \")\n",
    "    if optimize_sma:\n",
    "        options['sma'] = int(X)\n",
    "    elif optimize_band:\n",
    "         options['band'] = int(X)/10\n",
    "        \n",
    "    strategies[X] = strategy.Strategy(symbol, capital, start, end, options) \n",
    "    strategies[X].run()"
   ]
  },
  {
   "cell_type": "markdown",
   "metadata": {},
   "source": [
    "Summarize results"
   ]
  },
  {
   "cell_type": "code",
   "execution_count": 7,
   "metadata": {
    "ExecuteTime": {
     "end_time": "2020-02-16T23:38:00.316798Z",
     "start_time": "2020-02-16T23:38:00.264414Z"
    }
   },
   "outputs": [
    {
     "data": {
      "text/html": [
       "<div>\n",
       "<style scoped>\n",
       "    .dataframe tbody tr th:only-of-type {\n",
       "        vertical-align: middle;\n",
       "    }\n",
       "\n",
       "    .dataframe tbody tr th {\n",
       "        vertical-align: top;\n",
       "    }\n",
       "\n",
       "    .dataframe thead th {\n",
       "        text-align: right;\n",
       "    }\n",
       "</style>\n",
       "<table border=\"1\" class=\"dataframe\">\n",
       "  <thead>\n",
       "    <tr style=\"text-align: right;\">\n",
       "      <th></th>\n",
       "      <th>50</th>\n",
       "      <th>75</th>\n",
       "      <th>100</th>\n",
       "      <th>125</th>\n",
       "      <th>150</th>\n",
       "      <th>175</th>\n",
       "      <th>200</th>\n",
       "      <th>225</th>\n",
       "      <th>250</th>\n",
       "      <th>275</th>\n",
       "      <th>300</th>\n",
       "      <th>325</th>\n",
       "      <th>350</th>\n",
       "      <th>375</th>\n",
       "      <th>400</th>\n",
       "      <th>425</th>\n",
       "      <th>450</th>\n",
       "      <th>475</th>\n",
       "      <th>500</th>\n",
       "    </tr>\n",
       "  </thead>\n",
       "  <tbody>\n",
       "    <tr>\n",
       "      <th>annual_return_rate</th>\n",
       "      <td>6.24</td>\n",
       "      <td>5.94</td>\n",
       "      <td>6.33</td>\n",
       "      <td>6.36</td>\n",
       "      <td>5.95</td>\n",
       "      <td>6.30</td>\n",
       "      <td>6.34</td>\n",
       "      <td>6.55</td>\n",
       "      <td>6.41</td>\n",
       "      <td>6.29</td>\n",
       "      <td>6.14</td>\n",
       "      <td>6.36</td>\n",
       "      <td>6.23</td>\n",
       "      <td>6.25</td>\n",
       "      <td>5.77</td>\n",
       "      <td>5.51</td>\n",
       "      <td>5.25</td>\n",
       "      <td>5.16</td>\n",
       "      <td>4.61</td>\n",
       "    </tr>\n",
       "    <tr>\n",
       "      <th>max_closed_out_drawdown</th>\n",
       "      <td>-50.00</td>\n",
       "      <td>-46.25</td>\n",
       "      <td>-50.64</td>\n",
       "      <td>-45.25</td>\n",
       "      <td>-48.75</td>\n",
       "      <td>-44.72</td>\n",
       "      <td>-48.99</td>\n",
       "      <td>-54.54</td>\n",
       "      <td>-51.03</td>\n",
       "      <td>-41.89</td>\n",
       "      <td>-45.93</td>\n",
       "      <td>-47.76</td>\n",
       "      <td>-43.63</td>\n",
       "      <td>-42.98</td>\n",
       "      <td>-50.05</td>\n",
       "      <td>-47.60</td>\n",
       "      <td>-43.91</td>\n",
       "      <td>-43.39</td>\n",
       "      <td>-47.61</td>\n",
       "    </tr>\n",
       "    <tr>\n",
       "      <th>annualized_return_over_max_drawdown</th>\n",
       "      <td>0.12</td>\n",
       "      <td>0.13</td>\n",
       "      <td>0.12</td>\n",
       "      <td>0.14</td>\n",
       "      <td>0.12</td>\n",
       "      <td>0.14</td>\n",
       "      <td>0.13</td>\n",
       "      <td>0.12</td>\n",
       "      <td>0.13</td>\n",
       "      <td>0.15</td>\n",
       "      <td>0.13</td>\n",
       "      <td>0.13</td>\n",
       "      <td>0.14</td>\n",
       "      <td>0.15</td>\n",
       "      <td>0.12</td>\n",
       "      <td>0.12</td>\n",
       "      <td>0.12</td>\n",
       "      <td>0.12</td>\n",
       "      <td>0.10</td>\n",
       "    </tr>\n",
       "    <tr>\n",
       "      <th>drawdown_recovery_period</th>\n",
       "      <td>3719.00</td>\n",
       "      <td>1054.00</td>\n",
       "      <td>3675.00</td>\n",
       "      <td>3912.00</td>\n",
       "      <td>1268.00</td>\n",
       "      <td>535.00</td>\n",
       "      <td>1113.00</td>\n",
       "      <td>941.00</td>\n",
       "      <td>946.00</td>\n",
       "      <td>77.00</td>\n",
       "      <td>1498.00</td>\n",
       "      <td>1524.00</td>\n",
       "      <td>1460.00</td>\n",
       "      <td>1457.00</td>\n",
       "      <td>1579.00</td>\n",
       "      <td>2053.00</td>\n",
       "      <td>2444.00</td>\n",
       "      <td>2439.00</td>\n",
       "      <td>3739.00</td>\n",
       "    </tr>\n",
       "    <tr>\n",
       "      <th>expected_shortfall</th>\n",
       "      <td>-4.35</td>\n",
       "      <td>-4.64</td>\n",
       "      <td>-4.08</td>\n",
       "      <td>-4.97</td>\n",
       "      <td>-4.88</td>\n",
       "      <td>-5.75</td>\n",
       "      <td>-6.40</td>\n",
       "      <td>-5.83</td>\n",
       "      <td>-7.53</td>\n",
       "      <td>-6.45</td>\n",
       "      <td>-3.97</td>\n",
       "      <td>-4.69</td>\n",
       "      <td>-4.85</td>\n",
       "      <td>-4.55</td>\n",
       "      <td>-5.89</td>\n",
       "      <td>-5.39</td>\n",
       "      <td>-5.60</td>\n",
       "      <td>-5.26</td>\n",
       "      <td>-6.15</td>\n",
       "    </tr>\n",
       "    <tr>\n",
       "      <th>best_month</th>\n",
       "      <td>55.77</td>\n",
       "      <td>50.91</td>\n",
       "      <td>44.29</td>\n",
       "      <td>34.26</td>\n",
       "      <td>29.98</td>\n",
       "      <td>27.00</td>\n",
       "      <td>27.02</td>\n",
       "      <td>35.96</td>\n",
       "      <td>35.95</td>\n",
       "      <td>33.31</td>\n",
       "      <td>27.02</td>\n",
       "      <td>27.02</td>\n",
       "      <td>27.01</td>\n",
       "      <td>22.43</td>\n",
       "      <td>22.41</td>\n",
       "      <td>22.42</td>\n",
       "      <td>22.43</td>\n",
       "      <td>22.42</td>\n",
       "      <td>22.42</td>\n",
       "    </tr>\n",
       "    <tr>\n",
       "      <th>worst_month</th>\n",
       "      <td>-24.70</td>\n",
       "      <td>-29.12</td>\n",
       "      <td>-21.22</td>\n",
       "      <td>-21.22</td>\n",
       "      <td>-24.41</td>\n",
       "      <td>-29.29</td>\n",
       "      <td>-26.88</td>\n",
       "      <td>-26.63</td>\n",
       "      <td>-31.51</td>\n",
       "      <td>-24.90</td>\n",
       "      <td>-31.47</td>\n",
       "      <td>-31.46</td>\n",
       "      <td>-31.46</td>\n",
       "      <td>-31.46</td>\n",
       "      <td>-31.45</td>\n",
       "      <td>-31.45</td>\n",
       "      <td>-31.44</td>\n",
       "      <td>-31.46</td>\n",
       "      <td>-31.46</td>\n",
       "    </tr>\n",
       "    <tr>\n",
       "      <th>sharpe_ratio</th>\n",
       "      <td>0.59</td>\n",
       "      <td>0.55</td>\n",
       "      <td>0.58</td>\n",
       "      <td>0.58</td>\n",
       "      <td>0.54</td>\n",
       "      <td>0.57</td>\n",
       "      <td>0.58</td>\n",
       "      <td>0.59</td>\n",
       "      <td>0.59</td>\n",
       "      <td>0.58</td>\n",
       "      <td>0.56</td>\n",
       "      <td>0.58</td>\n",
       "      <td>0.57</td>\n",
       "      <td>0.57</td>\n",
       "      <td>0.53</td>\n",
       "      <td>0.51</td>\n",
       "      <td>0.48</td>\n",
       "      <td>0.48</td>\n",
       "      <td>0.43</td>\n",
       "    </tr>\n",
       "    <tr>\n",
       "      <th>sortino_ratio</th>\n",
       "      <td>0.59</td>\n",
       "      <td>0.56</td>\n",
       "      <td>0.59</td>\n",
       "      <td>0.59</td>\n",
       "      <td>0.55</td>\n",
       "      <td>0.58</td>\n",
       "      <td>0.59</td>\n",
       "      <td>0.62</td>\n",
       "      <td>0.61</td>\n",
       "      <td>0.59</td>\n",
       "      <td>0.57</td>\n",
       "      <td>0.59</td>\n",
       "      <td>0.58</td>\n",
       "      <td>0.58</td>\n",
       "      <td>0.54</td>\n",
       "      <td>0.52</td>\n",
       "      <td>0.49</td>\n",
       "      <td>0.49</td>\n",
       "      <td>0.44</td>\n",
       "    </tr>\n",
       "    <tr>\n",
       "      <th>monthly_std</th>\n",
       "      <td>3.55</td>\n",
       "      <td>3.52</td>\n",
       "      <td>3.41</td>\n",
       "      <td>3.34</td>\n",
       "      <td>3.35</td>\n",
       "      <td>3.26</td>\n",
       "      <td>3.26</td>\n",
       "      <td>3.32</td>\n",
       "      <td>3.32</td>\n",
       "      <td>3.32</td>\n",
       "      <td>3.36</td>\n",
       "      <td>3.35</td>\n",
       "      <td>3.37</td>\n",
       "      <td>3.36</td>\n",
       "      <td>3.38</td>\n",
       "      <td>3.39</td>\n",
       "      <td>3.42</td>\n",
       "      <td>3.45</td>\n",
       "      <td>3.52</td>\n",
       "    </tr>\n",
       "    <tr>\n",
       "      <th>pct_time_in_market</th>\n",
       "      <td>61.61</td>\n",
       "      <td>63.10</td>\n",
       "      <td>64.01</td>\n",
       "      <td>65.23</td>\n",
       "      <td>65.28</td>\n",
       "      <td>65.50</td>\n",
       "      <td>66.24</td>\n",
       "      <td>66.88</td>\n",
       "      <td>67.44</td>\n",
       "      <td>67.82</td>\n",
       "      <td>68.02</td>\n",
       "      <td>68.38</td>\n",
       "      <td>68.64</td>\n",
       "      <td>69.06</td>\n",
       "      <td>69.55</td>\n",
       "      <td>69.92</td>\n",
       "      <td>70.39</td>\n",
       "      <td>70.87</td>\n",
       "      <td>71.49</td>\n",
       "    </tr>\n",
       "    <tr>\n",
       "      <th>total_num_trades</th>\n",
       "      <td>745.00</td>\n",
       "      <td>591.00</td>\n",
       "      <td>496.00</td>\n",
       "      <td>430.00</td>\n",
       "      <td>381.00</td>\n",
       "      <td>322.00</td>\n",
       "      <td>291.00</td>\n",
       "      <td>277.00</td>\n",
       "      <td>241.00</td>\n",
       "      <td>239.00</td>\n",
       "      <td>217.00</td>\n",
       "      <td>195.00</td>\n",
       "      <td>185.00</td>\n",
       "      <td>163.00</td>\n",
       "      <td>176.00</td>\n",
       "      <td>189.00</td>\n",
       "      <td>170.00</td>\n",
       "      <td>182.00</td>\n",
       "      <td>197.00</td>\n",
       "    </tr>\n",
       "    <tr>\n",
       "      <th>pct_profitable_trades</th>\n",
       "      <td>29.40</td>\n",
       "      <td>27.75</td>\n",
       "      <td>25.81</td>\n",
       "      <td>26.51</td>\n",
       "      <td>25.46</td>\n",
       "      <td>24.53</td>\n",
       "      <td>25.09</td>\n",
       "      <td>23.47</td>\n",
       "      <td>25.31</td>\n",
       "      <td>25.10</td>\n",
       "      <td>22.12</td>\n",
       "      <td>21.54</td>\n",
       "      <td>21.62</td>\n",
       "      <td>22.09</td>\n",
       "      <td>21.02</td>\n",
       "      <td>20.63</td>\n",
       "      <td>21.18</td>\n",
       "      <td>19.23</td>\n",
       "      <td>16.24</td>\n",
       "    </tr>\n",
       "    <tr>\n",
       "      <th>avg_points</th>\n",
       "      <td>2.89</td>\n",
       "      <td>4.56</td>\n",
       "      <td>4.76</td>\n",
       "      <td>6.20</td>\n",
       "      <td>6.39</td>\n",
       "      <td>8.69</td>\n",
       "      <td>11.40</td>\n",
       "      <td>13.89</td>\n",
       "      <td>15.43</td>\n",
       "      <td>16.07</td>\n",
       "      <td>16.61</td>\n",
       "      <td>20.57</td>\n",
       "      <td>17.73</td>\n",
       "      <td>22.85</td>\n",
       "      <td>21.16</td>\n",
       "      <td>20.13</td>\n",
       "      <td>19.88</td>\n",
       "      <td>16.77</td>\n",
       "      <td>15.41</td>\n",
       "    </tr>\n",
       "  </tbody>\n",
       "</table>\n",
       "</div>"
      ],
      "text/plain": [
       "                                         50      75     100     125     150  \\\n",
       "annual_return_rate                     6.24    5.94    6.33    6.36    5.95   \n",
       "max_closed_out_drawdown              -50.00  -46.25  -50.64  -45.25  -48.75   \n",
       "annualized_return_over_max_drawdown    0.12    0.13    0.12    0.14    0.12   \n",
       "drawdown_recovery_period            3719.00 1054.00 3675.00 3912.00 1268.00   \n",
       "expected_shortfall                    -4.35   -4.64   -4.08   -4.97   -4.88   \n",
       "best_month                            55.77   50.91   44.29   34.26   29.98   \n",
       "worst_month                          -24.70  -29.12  -21.22  -21.22  -24.41   \n",
       "sharpe_ratio                           0.59    0.55    0.58    0.58    0.54   \n",
       "sortino_ratio                          0.59    0.56    0.59    0.59    0.55   \n",
       "monthly_std                            3.55    3.52    3.41    3.34    3.35   \n",
       "pct_time_in_market                    61.61   63.10   64.01   65.23   65.28   \n",
       "total_num_trades                     745.00  591.00  496.00  430.00  381.00   \n",
       "pct_profitable_trades                 29.40   27.75   25.81   26.51   25.46   \n",
       "avg_points                             2.89    4.56    4.76    6.20    6.39   \n",
       "\n",
       "                                       175     200    225    250    275  \\\n",
       "annual_return_rate                    6.30    6.34   6.55   6.41   6.29   \n",
       "max_closed_out_drawdown             -44.72  -48.99 -54.54 -51.03 -41.89   \n",
       "annualized_return_over_max_drawdown   0.14    0.13   0.12   0.13   0.15   \n",
       "drawdown_recovery_period            535.00 1113.00 941.00 946.00  77.00   \n",
       "expected_shortfall                   -5.75   -6.40  -5.83  -7.53  -6.45   \n",
       "best_month                           27.00   27.02  35.96  35.95  33.31   \n",
       "worst_month                         -29.29  -26.88 -26.63 -31.51 -24.90   \n",
       "sharpe_ratio                          0.57    0.58   0.59   0.59   0.58   \n",
       "sortino_ratio                         0.58    0.59   0.62   0.61   0.59   \n",
       "monthly_std                           3.26    3.26   3.32   3.32   3.32   \n",
       "pct_time_in_market                   65.50   66.24  66.88  67.44  67.82   \n",
       "total_num_trades                    322.00  291.00 277.00 241.00 239.00   \n",
       "pct_profitable_trades                24.53   25.09  23.47  25.31  25.10   \n",
       "avg_points                            8.69   11.40  13.89  15.43  16.07   \n",
       "\n",
       "                                        300     325     350     375     400  \\\n",
       "annual_return_rate                     6.14    6.36    6.23    6.25    5.77   \n",
       "max_closed_out_drawdown              -45.93  -47.76  -43.63  -42.98  -50.05   \n",
       "annualized_return_over_max_drawdown    0.13    0.13    0.14    0.15    0.12   \n",
       "drawdown_recovery_period            1498.00 1524.00 1460.00 1457.00 1579.00   \n",
       "expected_shortfall                    -3.97   -4.69   -4.85   -4.55   -5.89   \n",
       "best_month                            27.02   27.02   27.01   22.43   22.41   \n",
       "worst_month                          -31.47  -31.46  -31.46  -31.46  -31.45   \n",
       "sharpe_ratio                           0.56    0.58    0.57    0.57    0.53   \n",
       "sortino_ratio                          0.57    0.59    0.58    0.58    0.54   \n",
       "monthly_std                            3.36    3.35    3.37    3.36    3.38   \n",
       "pct_time_in_market                    68.02   68.38   68.64   69.06   69.55   \n",
       "total_num_trades                     217.00  195.00  185.00  163.00  176.00   \n",
       "pct_profitable_trades                 22.12   21.54   21.62   22.09   21.02   \n",
       "avg_points                            16.61   20.57   17.73   22.85   21.16   \n",
       "\n",
       "                                        425     450     475     500  \n",
       "annual_return_rate                     5.51    5.25    5.16    4.61  \n",
       "max_closed_out_drawdown              -47.60  -43.91  -43.39  -47.61  \n",
       "annualized_return_over_max_drawdown    0.12    0.12    0.12    0.10  \n",
       "drawdown_recovery_period            2053.00 2444.00 2439.00 3739.00  \n",
       "expected_shortfall                    -5.39   -5.60   -5.26   -6.15  \n",
       "best_month                            22.42   22.43   22.42   22.42  \n",
       "worst_month                          -31.45  -31.44  -31.46  -31.46  \n",
       "sharpe_ratio                           0.51    0.48    0.48    0.43  \n",
       "sortino_ratio                          0.52    0.49    0.49    0.44  \n",
       "monthly_std                            3.39    3.42    3.45    3.52  \n",
       "pct_time_in_market                    69.92   70.39   70.87   71.49  \n",
       "total_num_trades                     189.00  170.00  182.00  197.00  \n",
       "pct_profitable_trades                 20.63   21.18   19.23   16.24  \n",
       "avg_points                            20.13   19.88   16.77   15.41  "
      ]
     },
     "execution_count": 7,
     "metadata": {},
     "output_type": "execute_result"
    }
   ],
   "source": [
    "metrics = ('annual_return_rate',\n",
    "           'max_closed_out_drawdown',\n",
    "           'annualized_return_over_max_drawdown',\n",
    "           'drawdown_recovery_period',\n",
    "           'expected_shortfall',\n",
    "           'best_month',\n",
    "           'worst_month',\n",
    "           'sharpe_ratio',\n",
    "           'sortino_ratio',\n",
    "           'monthly_std',\n",
    "           'pct_time_in_market',\n",
    "           'total_num_trades',\n",
    "           'pct_profitable_trades',\n",
    "           'avg_points')\n",
    "\n",
    "df = pf.optimizer_summary(strategies, metrics)\n",
    "df"
   ]
  },
  {
   "cell_type": "markdown",
   "metadata": {},
   "source": [
    "Bar graphs"
   ]
  },
  {
   "cell_type": "code",
   "execution_count": 8,
   "metadata": {
    "ExecuteTime": {
     "end_time": "2020-02-16T23:38:01.070791Z",
     "start_time": "2020-02-16T23:38:00.325317Z"
    }
   },
   "outputs": [
    {
     "data": {
      "image/png": "[encoded data removed]",
      "text/plain": [
       "<Figure size 1000x700 with 1 Axes>"
      ]
     },
     "metadata": {},
     "output_type": "display_data"
    },
    {
     "data": {
      "image/png": "[encoded data removed]",
      "text/plain": [
       "<Figure size 1000x700 with 1 Axes>"
      ]
     },
     "metadata": {},
     "output_type": "display_data"
    },
    {
     "data": {
      "image/png": "[encoded data removed]",
      "text/plain": [
       "<Figure size 1000x700 with 1 Axes>"
      ]
     },
     "metadata": {},
     "output_type": "display_data"
    }
   ],
   "source": [
    "pf.optimizer_plot_bar_graph(df, 'annual_return_rate')\n",
    "pf.optimizer_plot_bar_graph(df, 'sharpe_ratio')\n",
    "pf.optimizer_plot_bar_graph(df, 'max_closed_out_drawdown')"
   ]
  },
  {
   "cell_type": "markdown",
   "metadata": {},
   "source": [
    "Run Benchmark"
   ]
  },
  {
   "cell_type": "code",
   "execution_count": 9,
   "metadata": {
    "ExecuteTime": {
     "end_time": "2020-02-16T23:38:02.043753Z",
     "start_time": "2020-02-16T23:38:01.078320Z"
    }
   },
   "outputs": [],
   "source": [
    "s = strategies[Xs[0]]\n",
    "benchmark = pf.Benchmark(symbol, capital, s.start, s.end)\n",
    "benchmark.run()"
   ]
  },
  {
   "cell_type": "markdown",
   "metadata": {},
   "source": [
    "Equity curve"
   ]
  },
  {
   "cell_type": "code",
   "execution_count": 10,
   "metadata": {
    "ExecuteTime": {
     "end_time": "2020-02-16T23:38:02.321132Z",
     "start_time": "2020-02-16T23:38:02.056495Z"
    }
   },
   "outputs": [
    {
     "data": {
      "image/png": "[encoded data removed]",
      "text/plain": [
       "<Figure size 1000x700 with 1 Axes>"
      ]
     },
     "metadata": {},
     "output_type": "display_data"
    }
   ],
   "source": [
    "if optimize_sma :     Y = '200'\n",
    "elif optimize_band:   Y = '30'\n",
    "\n",
    "pf.plot_equity_curve(strategies[Y].dbal, benchmark=benchmark.dbal)"
   ]
  },
  {
   "cell_type": "code",
   "execution_count": null,
   "metadata": {},
   "outputs": [],
   "source": []
  }
 ],
 "metadata": {
  "kernelspec": {
   "display_name": "Python 3 (ipykernel)",
   "language": "python",
   "name": "python3"
  },
  "language_info": {
   "codemirror_mode": {
    "name": "ipython",
    "version": 3
   },
   "file_extension": ".py",
   "mimetype": "text/x-python",
   "name": "python",
   "nbconvert_exporter": "python",
   "pygments_lexer": "ipython3",
   "version": "3.10.12"
  },
  "latex_envs": {
   "LaTeX_envs_menu_present": true,
   "autoclose": false,
   "autocomplete": true,
   "bibliofile": "biblio.bib",
   "cite_by": "apalike",
   "current_citInitial": 1,
   "eqLabelWithNumbers": true,
   "eqNumInitial": 1,
   "hotkeys": {
    "equation": "Ctrl-E",
    "itemize": "Ctrl-I"
   },
   "labels_anchors": false,
   "latex_user_defs": false,
   "report_style_numbering": false,
   "user_envs_cfg": false
  }
 },
 "nbformat": 4,
 "nbformat_minor": 4
}
