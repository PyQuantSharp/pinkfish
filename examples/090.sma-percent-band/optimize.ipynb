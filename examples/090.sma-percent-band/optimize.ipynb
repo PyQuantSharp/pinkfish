{
 "cells": [
  {
   "cell_type": "markdown",
   "metadata": {},
   "source": [
    "# SMA Percent Band\n",
    "\n",
    "    1. The SPY closes above its upper band, buy\n",
    "    2. If the SPY closes below its lower band, sell your long position.\n",
    "    \n",
    "    Optimize: sma, percent band."
   ]
  },
  {
   "cell_type": "code",
   "execution_count": 1,
   "metadata": {
    "ExecuteTime": {
     "end_time": "2020-02-16T23:37:50.351765Z",
     "start_time": "2020-02-16T23:37:49.607324Z"
    }
   },
   "outputs": [],
   "source": [
    "import datetime\n",
    "\n",
    "import matplotlib.pyplot as plt\n",
    "import pandas as pd\n",
    "from talib.abstract import *\n",
    "\n",
    "import pinkfish as pf\n",
    "import strategy\n",
    "\n",
    "# Format price data\n",
    "pd.options.display.float_format = '{:0.2f}'.format\n",
    "\n",
    "%matplotlib inline"
   ]
  },
  {
   "cell_type": "code",
   "execution_count": 2,
   "metadata": {
    "ExecuteTime": {
     "end_time": "2020-02-16T23:37:50.367279Z",
     "start_time": "2020-02-16T23:37:50.361136Z"
    }
   },
   "outputs": [],
   "source": [
    "# Set size of inline plots\n",
    "'''note: rcParams can't be in same cell as import matplotlib\n",
    "   or %matplotlib inline\n",
    "   \n",
    "   %matplotlib notebook: will lead to interactive plots embedded within\n",
    "   the notebook, you can zoom and resize the figure\n",
    "   \n",
    "   %matplotlib inline: only draw static images in the notebook\n",
    "'''\n",
    "plt.rcParams[\"figure.figsize\"] = (10, 7)"
   ]
  },
  {
   "cell_type": "markdown",
   "metadata": {},
   "source": [
    "Some global data"
   ]
  },
  {
   "cell_type": "code",
   "execution_count": 3,
   "metadata": {
    "ExecuteTime": {
     "end_time": "2020-02-16T23:37:50.380602Z",
     "start_time": "2020-02-16T23:37:50.373167Z"
    }
   },
   "outputs": [],
   "source": [
    "symbol = '^GSPC'\n",
    "#symbol = 'SPY'\n",
    "#symbol = 'ES=F'\n",
    "#symbol = 'DIA'\n",
    "#symbol = 'QQQ'\n",
    "#symbol = 'IWM'\n",
    "#symbol = 'TLT'\n",
    "#symbol = 'GLD'\n",
    "#symbol = 'AAPL'\n",
    "#symbol = 'BBRY'\n",
    "#symbol = 'GDX'\n",
    "capital = 10000\n",
    "start = datetime.datetime(1900, 1, 1)\n",
    "#start = datetime.datetime(*pf.SP500_BEGIN)\n",
    "end = datetime.datetime.now()"
   ]
  },
  {
   "cell_type": "markdown",
   "metadata": {},
   "source": [
    "Define Optimizations"
   ]
  },
  {
   "cell_type": "code",
   "execution_count": 4,
   "metadata": {
    "ExecuteTime": {
     "end_time": "2020-02-16T23:37:50.393117Z",
     "start_time": "2020-02-16T23:37:50.387608Z"
    }
   },
   "outputs": [],
   "source": [
    "# pick one\n",
    "optimize_sma  = True\n",
    "optimize_band = False\n",
    "\n",
    "# define SMAs ranges\n",
    "if optimize_sma:\n",
    "    Xs = range(50, 525, 25)\n",
    "    Xs = [str(X) for X in Xs]\n",
    "\n",
    "# define band ranges\n",
    "elif optimize_band:\n",
    "    Xs = range(0, 100, 5)\n",
    "    Xs = [str(X) for X in Xs]"
   ]
  },
  {
   "cell_type": "code",
   "execution_count": 5,
   "metadata": {},
   "outputs": [],
   "source": [
    "options = {\n",
    "    'use_adj' : True,\n",
    "    'use_cache' : True,\n",
    "    'sma' : 200,\n",
    "    'band' : 0.0\n",
    "}"
   ]
  },
  {
   "cell_type": "markdown",
   "metadata": {},
   "source": [
    "Run Strategy"
   ]
  },
  {
   "cell_type": "code",
   "execution_count": 6,
   "metadata": {
    "ExecuteTime": {
     "end_time": "2020-02-16T23:38:00.254800Z",
     "start_time": "2020-02-16T23:37:50.403938Z"
    }
   },
   "outputs": [
    {
     "name": "stdout",
     "output_type": "stream",
     "text": [
      "50 75 100 125 150 175 200 225 250 275 300 325 350 375 400 425 450 475 500 "
     ]
    }
   ],
   "source": [
    "strategies = pd.Series(dtype=object)\n",
    "for X in Xs:\n",
    "    print(X, end=\" \")\n",
    "    if optimize_sma:\n",
    "        options['sma'] = int(X)\n",
    "    elif optimize_band:\n",
    "         options['band'] = int(X)/10\n",
    "        \n",
    "    strategies[X] = strategy.Strategy(symbol, capital, start, end, options) \n",
    "    strategies[X].run()"
   ]
  },
  {
   "cell_type": "markdown",
   "metadata": {},
   "source": [
    "Summarize results"
   ]
  },
  {
   "cell_type": "code",
   "execution_count": 7,
   "metadata": {
    "ExecuteTime": {
     "end_time": "2020-02-16T23:38:00.316798Z",
     "start_time": "2020-02-16T23:38:00.264414Z"
    },
    "scrolled": false
   },
   "outputs": [
    {
     "data": {
      "text/html": [
       "<div>\n",
       "<style scoped>\n",
       "    .dataframe tbody tr th:only-of-type {\n",
       "        vertical-align: middle;\n",
       "    }\n",
       "\n",
       "    .dataframe tbody tr th {\n",
       "        vertical-align: top;\n",
       "    }\n",
       "\n",
       "    .dataframe thead th {\n",
       "        text-align: right;\n",
       "    }\n",
       "</style>\n",
       "<table border=\"1\" class=\"dataframe\">\n",
       "  <thead>\n",
       "    <tr style=\"text-align: right;\">\n",
       "      <th></th>\n",
       "      <th>50</th>\n",
       "      <th>75</th>\n",
       "      <th>100</th>\n",
       "      <th>125</th>\n",
       "      <th>150</th>\n",
       "      <th>175</th>\n",
       "      <th>200</th>\n",
       "      <th>225</th>\n",
       "      <th>250</th>\n",
       "      <th>275</th>\n",
       "      <th>300</th>\n",
       "      <th>325</th>\n",
       "      <th>350</th>\n",
       "      <th>375</th>\n",
       "      <th>400</th>\n",
       "      <th>425</th>\n",
       "      <th>450</th>\n",
       "      <th>475</th>\n",
       "      <th>500</th>\n",
       "    </tr>\n",
       "  </thead>\n",
       "  <tbody>\n",
       "    <tr>\n",
       "      <th>annual_return_rate</th>\n",
       "      <td>5.26</td>\n",
       "      <td>5.24</td>\n",
       "      <td>5.68</td>\n",
       "      <td>5.85</td>\n",
       "      <td>5.41</td>\n",
       "      <td>5.79</td>\n",
       "      <td>5.98</td>\n",
       "      <td>6.06</td>\n",
       "      <td>6.08</td>\n",
       "      <td>6.01</td>\n",
       "      <td>5.90</td>\n",
       "      <td>6.20</td>\n",
       "      <td>6.14</td>\n",
       "      <td>6.16</td>\n",
       "      <td>5.82</td>\n",
       "      <td>5.60</td>\n",
       "      <td>5.52</td>\n",
       "      <td>5.42</td>\n",
       "      <td>4.94</td>\n",
       "    </tr>\n",
       "    <tr>\n",
       "      <th>max_closed_out_drawdown</th>\n",
       "      <td>-50.00</td>\n",
       "      <td>-46.25</td>\n",
       "      <td>-50.63</td>\n",
       "      <td>-45.24</td>\n",
       "      <td>-48.75</td>\n",
       "      <td>-44.72</td>\n",
       "      <td>-48.99</td>\n",
       "      <td>-54.54</td>\n",
       "      <td>-51.03</td>\n",
       "      <td>-41.89</td>\n",
       "      <td>-45.93</td>\n",
       "      <td>-47.76</td>\n",
       "      <td>-43.63</td>\n",
       "      <td>-42.98</td>\n",
       "      <td>-50.05</td>\n",
       "      <td>-47.60</td>\n",
       "      <td>-43.93</td>\n",
       "      <td>-43.40</td>\n",
       "      <td>-47.61</td>\n",
       "    </tr>\n",
       "    <tr>\n",
       "      <th>annualized_return_over_max_drawdown</th>\n",
       "      <td>0.11</td>\n",
       "      <td>0.11</td>\n",
       "      <td>0.11</td>\n",
       "      <td>0.13</td>\n",
       "      <td>0.11</td>\n",
       "      <td>0.13</td>\n",
       "      <td>0.12</td>\n",
       "      <td>0.11</td>\n",
       "      <td>0.12</td>\n",
       "      <td>0.14</td>\n",
       "      <td>0.13</td>\n",
       "      <td>0.13</td>\n",
       "      <td>0.14</td>\n",
       "      <td>0.14</td>\n",
       "      <td>0.12</td>\n",
       "      <td>0.12</td>\n",
       "      <td>0.13</td>\n",
       "      <td>0.12</td>\n",
       "      <td>0.10</td>\n",
       "    </tr>\n",
       "    <tr>\n",
       "      <th>drawdown_recovery_period</th>\n",
       "      <td>3719.00</td>\n",
       "      <td>1054.00</td>\n",
       "      <td>3675.00</td>\n",
       "      <td>3912.00</td>\n",
       "      <td>1268.00</td>\n",
       "      <td>535.00</td>\n",
       "      <td>1113.00</td>\n",
       "      <td>941.00</td>\n",
       "      <td>946.00</td>\n",
       "      <td>77.00</td>\n",
       "      <td>1498.00</td>\n",
       "      <td>1524.00</td>\n",
       "      <td>1460.00</td>\n",
       "      <td>1457.00</td>\n",
       "      <td>1579.00</td>\n",
       "      <td>2053.00</td>\n",
       "      <td>2444.00</td>\n",
       "      <td>2439.00</td>\n",
       "      <td>3739.00</td>\n",
       "    </tr>\n",
       "    <tr>\n",
       "      <th>expected_shortfall</th>\n",
       "      <td>-4.59</td>\n",
       "      <td>-4.71</td>\n",
       "      <td>-4.37</td>\n",
       "      <td>-5.35</td>\n",
       "      <td>-5.26</td>\n",
       "      <td>-6.47</td>\n",
       "      <td>-6.86</td>\n",
       "      <td>-6.18</td>\n",
       "      <td>-8.49</td>\n",
       "      <td>-7.11</td>\n",
       "      <td>-4.21</td>\n",
       "      <td>-5.10</td>\n",
       "      <td>-5.20</td>\n",
       "      <td>-4.80</td>\n",
       "      <td>-6.05</td>\n",
       "      <td>-5.75</td>\n",
       "      <td>-5.90</td>\n",
       "      <td>-5.82</td>\n",
       "      <td>-7.05</td>\n",
       "    </tr>\n",
       "    <tr>\n",
       "      <th>best_month</th>\n",
       "      <td>55.77</td>\n",
       "      <td>62.82</td>\n",
       "      <td>74.09</td>\n",
       "      <td>74.05</td>\n",
       "      <td>74.08</td>\n",
       "      <td>74.03</td>\n",
       "      <td>74.04</td>\n",
       "      <td>74.02</td>\n",
       "      <td>74.07</td>\n",
       "      <td>74.08</td>\n",
       "      <td>74.04</td>\n",
       "      <td>74.04</td>\n",
       "      <td>74.09</td>\n",
       "      <td>74.06</td>\n",
       "      <td>74.07</td>\n",
       "      <td>74.08</td>\n",
       "      <td>74.07</td>\n",
       "      <td>74.04</td>\n",
       "      <td>74.01</td>\n",
       "    </tr>\n",
       "    <tr>\n",
       "      <th>worst_month</th>\n",
       "      <td>-24.70</td>\n",
       "      <td>-29.12</td>\n",
       "      <td>-21.22</td>\n",
       "      <td>-21.22</td>\n",
       "      <td>-24.41</td>\n",
       "      <td>-29.29</td>\n",
       "      <td>-26.88</td>\n",
       "      <td>-26.63</td>\n",
       "      <td>-31.51</td>\n",
       "      <td>-24.90</td>\n",
       "      <td>-31.46</td>\n",
       "      <td>-31.45</td>\n",
       "      <td>-31.46</td>\n",
       "      <td>-31.46</td>\n",
       "      <td>-31.45</td>\n",
       "      <td>-31.46</td>\n",
       "      <td>-31.46</td>\n",
       "      <td>-31.47</td>\n",
       "      <td>-31.44</td>\n",
       "    </tr>\n",
       "    <tr>\n",
       "      <th>sharpe_ratio</th>\n",
       "      <td>0.58</td>\n",
       "      <td>0.57</td>\n",
       "      <td>0.60</td>\n",
       "      <td>0.61</td>\n",
       "      <td>0.57</td>\n",
       "      <td>0.61</td>\n",
       "      <td>0.63</td>\n",
       "      <td>0.64</td>\n",
       "      <td>0.65</td>\n",
       "      <td>0.64</td>\n",
       "      <td>0.63</td>\n",
       "      <td>0.65</td>\n",
       "      <td>0.65</td>\n",
       "      <td>0.64</td>\n",
       "      <td>0.61</td>\n",
       "      <td>0.59</td>\n",
       "      <td>0.59</td>\n",
       "      <td>0.58</td>\n",
       "      <td>0.53</td>\n",
       "    </tr>\n",
       "    <tr>\n",
       "      <th>sortino_ratio</th>\n",
       "      <td>0.60</td>\n",
       "      <td>0.59</td>\n",
       "      <td>0.63</td>\n",
       "      <td>0.64</td>\n",
       "      <td>0.60</td>\n",
       "      <td>0.64</td>\n",
       "      <td>0.65</td>\n",
       "      <td>0.67</td>\n",
       "      <td>0.69</td>\n",
       "      <td>0.67</td>\n",
       "      <td>0.64</td>\n",
       "      <td>0.67</td>\n",
       "      <td>0.67</td>\n",
       "      <td>0.67</td>\n",
       "      <td>0.63</td>\n",
       "      <td>0.61</td>\n",
       "      <td>0.61</td>\n",
       "      <td>0.60</td>\n",
       "      <td>0.55</td>\n",
       "    </tr>\n",
       "    <tr>\n",
       "      <th>monthly_std</th>\n",
       "      <td>3.95</td>\n",
       "      <td>3.97</td>\n",
       "      <td>3.94</td>\n",
       "      <td>3.86</td>\n",
       "      <td>3.88</td>\n",
       "      <td>3.77</td>\n",
       "      <td>3.78</td>\n",
       "      <td>3.83</td>\n",
       "      <td>3.82</td>\n",
       "      <td>3.81</td>\n",
       "      <td>3.85</td>\n",
       "      <td>3.83</td>\n",
       "      <td>3.83</td>\n",
       "      <td>3.82</td>\n",
       "      <td>3.84</td>\n",
       "      <td>3.88</td>\n",
       "      <td>3.89</td>\n",
       "      <td>3.92</td>\n",
       "      <td>4.01</td>\n",
       "    </tr>\n",
       "    <tr>\n",
       "      <th>pct_time_in_market</th>\n",
       "      <td>62.86</td>\n",
       "      <td>64.83</td>\n",
       "      <td>66.08</td>\n",
       "      <td>67.71</td>\n",
       "      <td>67.40</td>\n",
       "      <td>67.38</td>\n",
       "      <td>68.08</td>\n",
       "      <td>68.41</td>\n",
       "      <td>68.99</td>\n",
       "      <td>69.23</td>\n",
       "      <td>69.26</td>\n",
       "      <td>69.57</td>\n",
       "      <td>69.83</td>\n",
       "      <td>70.31</td>\n",
       "      <td>70.80</td>\n",
       "      <td>71.17</td>\n",
       "      <td>71.59</td>\n",
       "      <td>72.17</td>\n",
       "      <td>72.92</td>\n",
       "    </tr>\n",
       "    <tr>\n",
       "      <th>total_num_trades</th>\n",
       "      <td>595.00</td>\n",
       "      <td>472.00</td>\n",
       "      <td>386.00</td>\n",
       "      <td>331.00</td>\n",
       "      <td>298.00</td>\n",
       "      <td>247.00</td>\n",
       "      <td>220.00</td>\n",
       "      <td>210.00</td>\n",
       "      <td>176.00</td>\n",
       "      <td>178.00</td>\n",
       "      <td>169.00</td>\n",
       "      <td>146.00</td>\n",
       "      <td>137.00</td>\n",
       "      <td>119.00</td>\n",
       "      <td>126.00</td>\n",
       "      <td>134.00</td>\n",
       "      <td>119.00</td>\n",
       "      <td>127.00</td>\n",
       "      <td>141.00</td>\n",
       "    </tr>\n",
       "    <tr>\n",
       "      <th>pct_profitable_trades</th>\n",
       "      <td>28.07</td>\n",
       "      <td>27.54</td>\n",
       "      <td>25.65</td>\n",
       "      <td>26.89</td>\n",
       "      <td>25.17</td>\n",
       "      <td>21.86</td>\n",
       "      <td>24.09</td>\n",
       "      <td>22.86</td>\n",
       "      <td>24.43</td>\n",
       "      <td>23.60</td>\n",
       "      <td>20.12</td>\n",
       "      <td>19.86</td>\n",
       "      <td>18.98</td>\n",
       "      <td>21.01</td>\n",
       "      <td>19.84</td>\n",
       "      <td>19.40</td>\n",
       "      <td>22.69</td>\n",
       "      <td>18.90</td>\n",
       "      <td>16.31</td>\n",
       "    </tr>\n",
       "    <tr>\n",
       "      <th>avg_points</th>\n",
       "      <td>3.14</td>\n",
       "      <td>4.48</td>\n",
       "      <td>5.11</td>\n",
       "      <td>7.13</td>\n",
       "      <td>6.88</td>\n",
       "      <td>10.00</td>\n",
       "      <td>12.84</td>\n",
       "      <td>14.74</td>\n",
       "      <td>18.27</td>\n",
       "      <td>17.84</td>\n",
       "      <td>18.40</td>\n",
       "      <td>23.55</td>\n",
       "      <td>23.03</td>\n",
       "      <td>28.81</td>\n",
       "      <td>27.75</td>\n",
       "      <td>24.86</td>\n",
       "      <td>27.37</td>\n",
       "      <td>25.10</td>\n",
       "      <td>21.28</td>\n",
       "    </tr>\n",
       "  </tbody>\n",
       "</table>\n",
       "</div>"
      ],
      "text/plain": [
       "                                         50      75     100     125     150  \\\n",
       "annual_return_rate                     5.26    5.24    5.68    5.85    5.41   \n",
       "max_closed_out_drawdown              -50.00  -46.25  -50.63  -45.24  -48.75   \n",
       "annualized_return_over_max_drawdown    0.11    0.11    0.11    0.13    0.11   \n",
       "drawdown_recovery_period            3719.00 1054.00 3675.00 3912.00 1268.00   \n",
       "expected_shortfall                    -4.59   -4.71   -4.37   -5.35   -5.26   \n",
       "best_month                            55.77   62.82   74.09   74.05   74.08   \n",
       "worst_month                          -24.70  -29.12  -21.22  -21.22  -24.41   \n",
       "sharpe_ratio                           0.58    0.57    0.60    0.61    0.57   \n",
       "sortino_ratio                          0.60    0.59    0.63    0.64    0.60   \n",
       "monthly_std                            3.95    3.97    3.94    3.86    3.88   \n",
       "pct_time_in_market                    62.86   64.83   66.08   67.71   67.40   \n",
       "total_num_trades                     595.00  472.00  386.00  331.00  298.00   \n",
       "pct_profitable_trades                 28.07   27.54   25.65   26.89   25.17   \n",
       "avg_points                             3.14    4.48    5.11    7.13    6.88   \n",
       "\n",
       "                                       175     200    225    250    275  \\\n",
       "annual_return_rate                    5.79    5.98   6.06   6.08   6.01   \n",
       "max_closed_out_drawdown             -44.72  -48.99 -54.54 -51.03 -41.89   \n",
       "annualized_return_over_max_drawdown   0.13    0.12   0.11   0.12   0.14   \n",
       "drawdown_recovery_period            535.00 1113.00 941.00 946.00  77.00   \n",
       "expected_shortfall                   -6.47   -6.86  -6.18  -8.49  -7.11   \n",
       "best_month                           74.03   74.04  74.02  74.07  74.08   \n",
       "worst_month                         -29.29  -26.88 -26.63 -31.51 -24.90   \n",
       "sharpe_ratio                          0.61    0.63   0.64   0.65   0.64   \n",
       "sortino_ratio                         0.64    0.65   0.67   0.69   0.67   \n",
       "monthly_std                           3.77    3.78   3.83   3.82   3.81   \n",
       "pct_time_in_market                   67.38   68.08  68.41  68.99  69.23   \n",
       "total_num_trades                    247.00  220.00 210.00 176.00 178.00   \n",
       "pct_profitable_trades                21.86   24.09  22.86  24.43  23.60   \n",
       "avg_points                           10.00   12.84  14.74  18.27  17.84   \n",
       "\n",
       "                                        300     325     350     375     400  \\\n",
       "annual_return_rate                     5.90    6.20    6.14    6.16    5.82   \n",
       "max_closed_out_drawdown              -45.93  -47.76  -43.63  -42.98  -50.05   \n",
       "annualized_return_over_max_drawdown    0.13    0.13    0.14    0.14    0.12   \n",
       "drawdown_recovery_period            1498.00 1524.00 1460.00 1457.00 1579.00   \n",
       "expected_shortfall                    -4.21   -5.10   -5.20   -4.80   -6.05   \n",
       "best_month                            74.04   74.04   74.09   74.06   74.07   \n",
       "worst_month                          -31.46  -31.45  -31.46  -31.46  -31.45   \n",
       "sharpe_ratio                           0.63    0.65    0.65    0.64    0.61   \n",
       "sortino_ratio                          0.64    0.67    0.67    0.67    0.63   \n",
       "monthly_std                            3.85    3.83    3.83    3.82    3.84   \n",
       "pct_time_in_market                    69.26   69.57   69.83   70.31   70.80   \n",
       "total_num_trades                     169.00  146.00  137.00  119.00  126.00   \n",
       "pct_profitable_trades                 20.12   19.86   18.98   21.01   19.84   \n",
       "avg_points                            18.40   23.55   23.03   28.81   27.75   \n",
       "\n",
       "                                        425     450     475     500  \n",
       "annual_return_rate                     5.60    5.52    5.42    4.94  \n",
       "max_closed_out_drawdown              -47.60  -43.93  -43.40  -47.61  \n",
       "annualized_return_over_max_drawdown    0.12    0.13    0.12    0.10  \n",
       "drawdown_recovery_period            2053.00 2444.00 2439.00 3739.00  \n",
       "expected_shortfall                    -5.75   -5.90   -5.82   -7.05  \n",
       "best_month                            74.08   74.07   74.04   74.01  \n",
       "worst_month                          -31.46  -31.46  -31.47  -31.44  \n",
       "sharpe_ratio                           0.59    0.59    0.58    0.53  \n",
       "sortino_ratio                          0.61    0.61    0.60    0.55  \n",
       "monthly_std                            3.88    3.89    3.92    4.01  \n",
       "pct_time_in_market                    71.17   71.59   72.17   72.92  \n",
       "total_num_trades                     134.00  119.00  127.00  141.00  \n",
       "pct_profitable_trades                 19.40   22.69   18.90   16.31  \n",
       "avg_points                            24.86   27.37   25.10   21.28  "
      ]
     },
     "execution_count": 7,
     "metadata": {},
     "output_type": "execute_result"
    }
   ],
   "source": [
    "metrics = ('annual_return_rate',\n",
    "           'max_closed_out_drawdown',\n",
    "           'annualized_return_over_max_drawdown',\n",
    "           'drawdown_recovery_period',\n",
    "           'expected_shortfall',\n",
    "           'best_month',\n",
    "           'worst_month',\n",
    "           'sharpe_ratio',\n",
    "           'sortino_ratio',\n",
    "           'monthly_std',\n",
    "           'pct_time_in_market',\n",
    "           'total_num_trades',\n",
    "           'pct_profitable_trades',\n",
    "           'avg_points')\n",
    "\n",
    "df = strategy.summary(strategies, metrics)\n",
    "df"
   ]
  },
  {
   "cell_type": "markdown",
   "metadata": {},
   "source": [
    "Bar graphs"
   ]
  },
  {
   "cell_type": "code",
   "execution_count": 8,
   "metadata": {
    "ExecuteTime": {
     "end_time": "2020-02-16T23:38:01.070791Z",
     "start_time": "2020-02-16T23:38:00.325317Z"
    }
   },
   "outputs": [
    {
     "data": {
      "image/png": "[encoded data removed]",
      "text/plain": [
       "<Figure size 720x504 with 1 Axes>"
      ]
     },
     "metadata": {
      "needs_background": "light"
     },
     "output_type": "display_data"
    },
    {
     "data": {
      "image/png": "[encoded data removed]",
      "text/plain": [
       "<Figure size 720x504 with 1 Axes>"
      ]
     },
     "metadata": {
      "needs_background": "light"
     },
     "output_type": "display_data"
    },
    {
     "data": {
      "image/png": "[encoded data removed]",
      "text/plain": [
       "<Figure size 720x504 with 1 Axes>"
      ]
     },
     "metadata": {
      "needs_background": "light"
     },
     "output_type": "display_data"
    }
   ],
   "source": [
    "strategy.plot_bar_graph(df, 'annual_return_rate')\n",
    "strategy.plot_bar_graph(df, 'sharpe_ratio')\n",
    "strategy.plot_bar_graph(df, 'max_closed_out_drawdown')"
   ]
  },
  {
   "cell_type": "markdown",
   "metadata": {},
   "source": [
    "Run Benchmark"
   ]
  },
  {
   "cell_type": "code",
   "execution_count": 9,
   "metadata": {
    "ExecuteTime": {
     "end_time": "2020-02-16T23:38:02.043753Z",
     "start_time": "2020-02-16T23:38:01.078320Z"
    }
   },
   "outputs": [],
   "source": [
    "s = strategies[Xs[0]]\n",
    "benchmark = pf.Benchmark(symbol, capital, s.start, s.end)\n",
    "benchmark.run()"
   ]
  },
  {
   "cell_type": "markdown",
   "metadata": {},
   "source": [
    "Equity curve"
   ]
  },
  {
   "cell_type": "code",
   "execution_count": 10,
   "metadata": {
    "ExecuteTime": {
     "end_time": "2020-02-16T23:38:02.321132Z",
     "start_time": "2020-02-16T23:38:02.056495Z"
    },
    "scrolled": false
   },
   "outputs": [
    {
     "data": {
      "image/png": "[encoded data removed]",
      "text/plain": [
       "<Figure size 720x504 with 1 Axes>"
      ]
     },
     "metadata": {
      "needs_background": "light"
     },
     "output_type": "display_data"
    }
   ],
   "source": [
    "if optimize_sma :     Y = '200'\n",
    "elif optimize_band:   Y = '30'\n",
    "\n",
    "pf.plot_equity_curve(strategies[Y].dbal, benchmark=benchmark.dbal)"
   ]
  },
  {
   "cell_type": "code",
   "execution_count": null,
   "metadata": {},
   "outputs": [],
   "source": []
  }
 ],
 "metadata": {
  "kernelspec": {
   "display_name": "Python 3",
   "language": "python",
   "name": "python3"
  },
  "language_info": {
   "codemirror_mode": {
    "name": "ipython",
    "version": 3
   },
   "file_extension": ".py",
   "mimetype": "text/x-python",
   "name": "python",
   "nbconvert_exporter": "python",
   "pygments_lexer": "ipython3",
   "version": "3.8.5"
  },
  "latex_envs": {
   "LaTeX_envs_menu_present": true,
   "autoclose": false,
   "autocomplete": true,
   "bibliofile": "biblio.bib",
   "cite_by": "apalike",
   "current_citInitial": 1,
   "eqLabelWithNumbers": true,
   "eqNumInitial": 1,
   "hotkeys": {
    "equation": "Ctrl-E",
    "itemize": "Ctrl-I"
   },
   "labels_anchors": false,
   "latex_user_defs": false,
   "report_style_numbering": false,
   "user_envs_cfg": false
  }
 },
 "nbformat": 4,
 "nbformat_minor": 1
}
