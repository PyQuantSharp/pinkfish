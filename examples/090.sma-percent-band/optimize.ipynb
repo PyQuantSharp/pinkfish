{
 "cells": [
  {
   "cell_type": "markdown",
   "metadata": {},
   "source": [
    "# SMA Percent Band\n",
    "\n",
    "    1. The SPY closes above its upper band, buy\n",
    "    2. If the SPY closes below its lower band, sell your long position.\n",
    "    \n",
    "    Optimize: sma, percent band."
   ]
  },
  {
   "cell_type": "code",
   "execution_count": 1,
   "metadata": {
    "ExecuteTime": {
     "end_time": "2020-02-16T23:37:50.351765Z",
     "start_time": "2020-02-16T23:37:49.607324Z"
    }
   },
   "outputs": [],
   "source": [
    "import datetime\n",
    "\n",
    "import matplotlib.pyplot as plt\n",
    "import pandas as pd\n",
    "\n",
    "import pinkfish as pf\n",
    "import strategy\n",
    "\n",
    "# Format price data\n",
    "pd.options.display.float_format = '{:0.2f}'.format\n",
    "\n",
    "%matplotlib inline"
   ]
  },
  {
   "cell_type": "code",
   "execution_count": 2,
   "metadata": {
    "ExecuteTime": {
     "end_time": "2020-02-16T23:37:50.367279Z",
     "start_time": "2020-02-16T23:37:50.361136Z"
    }
   },
   "outputs": [],
   "source": [
    "# Set size of inline plots\n",
    "'''note: rcParams can't be in same cell as import matplotlib\n",
    "   or %matplotlib inline\n",
    "   \n",
    "   %matplotlib notebook: will lead to interactive plots embedded within\n",
    "   the notebook, you can zoom and resize the figure\n",
    "   \n",
    "   %matplotlib inline: only draw static images in the notebook\n",
    "'''\n",
    "plt.rcParams[\"figure.figsize\"] = (10, 7)"
   ]
  },
  {
   "cell_type": "markdown",
   "metadata": {},
   "source": [
    "Some global data"
   ]
  },
  {
   "cell_type": "code",
   "execution_count": 3,
   "metadata": {
    "ExecuteTime": {
     "end_time": "2020-02-16T23:37:50.380602Z",
     "start_time": "2020-02-16T23:37:50.373167Z"
    }
   },
   "outputs": [],
   "source": [
    "symbol = '^GSPC'\n",
    "#symbol = 'SPY'\n",
    "#symbol = 'ES=F'\n",
    "#symbol = 'DIA'\n",
    "#symbol = 'QQQ'\n",
    "#symbol = 'IWM'\n",
    "#symbol = 'TLT'\n",
    "#symbol = 'GLD'\n",
    "#symbol = 'AAPL'\n",
    "#symbol = 'BBRY'\n",
    "#symbol = 'GDX'\n",
    "capital = 10000\n",
    "start = datetime.datetime(1900, 1, 1)\n",
    "#start = datetime.datetime(*pf.SP500_BEGIN)\n",
    "end = datetime.datetime.now()"
   ]
  },
  {
   "cell_type": "markdown",
   "metadata": {},
   "source": [
    "Define Optimizations"
   ]
  },
  {
   "cell_type": "code",
   "execution_count": 4,
   "metadata": {
    "ExecuteTime": {
     "end_time": "2020-02-16T23:37:50.393117Z",
     "start_time": "2020-02-16T23:37:50.387608Z"
    }
   },
   "outputs": [],
   "source": [
    "# pick one\n",
    "optimize_sma  = True\n",
    "optimize_band = False\n",
    "\n",
    "# define SMAs ranges\n",
    "if optimize_sma:\n",
    "    Xs = range(50, 525, 25)\n",
    "    Xs = [str(X) for X in Xs]\n",
    "\n",
    "# define band ranges\n",
    "elif optimize_band:\n",
    "    Xs = range(0, 100, 5)\n",
    "    Xs = [str(X) for X in Xs]"
   ]
  },
  {
   "cell_type": "code",
   "execution_count": 5,
   "metadata": {},
   "outputs": [],
   "source": [
    "options = {\n",
    "    'use_adj' : True,\n",
    "    'use_cache' : True,\n",
    "    'sma' : 200,\n",
    "    'band' : 0.0\n",
    "}"
   ]
  },
  {
   "cell_type": "markdown",
   "metadata": {},
   "source": [
    "Run Strategy"
   ]
  },
  {
   "cell_type": "code",
   "execution_count": 6,
   "metadata": {
    "ExecuteTime": {
     "end_time": "2020-02-16T23:38:00.254800Z",
     "start_time": "2020-02-16T23:37:50.403938Z"
    }
   },
   "outputs": [
    {
     "name": "stdout",
     "output_type": "stream",
     "text": [
      "50 75 100 125 150 175 200 225 250 275 300 325 350 375 400 425 450 475 500 "
     ]
    }
   ],
   "source": [
    "strategies = pd.Series(dtype=object)\n",
    "for X in Xs:\n",
    "    print(X, end=\" \")\n",
    "    if optimize_sma:\n",
    "        options['sma'] = int(X)\n",
    "    elif optimize_band:\n",
    "         options['band'] = int(X)/10\n",
    "        \n",
    "    strategies[X] = strategy.Strategy(symbol, capital, start, end, options) \n",
    "    strategies[X].run()"
   ]
  },
  {
   "cell_type": "markdown",
   "metadata": {},
   "source": [
    "Summarize results"
   ]
  },
  {
   "cell_type": "code",
   "execution_count": 7,
   "metadata": {
    "ExecuteTime": {
     "end_time": "2020-02-16T23:38:00.316798Z",
     "start_time": "2020-02-16T23:38:00.264414Z"
    },
    "scrolled": false
   },
   "outputs": [
    {
     "data": {
      "text/html": [
       "<div>\n",
       "<style scoped>\n",
       "    .dataframe tbody tr th:only-of-type {\n",
       "        vertical-align: middle;\n",
       "    }\n",
       "\n",
       "    .dataframe tbody tr th {\n",
       "        vertical-align: top;\n",
       "    }\n",
       "\n",
       "    .dataframe thead th {\n",
       "        text-align: right;\n",
       "    }\n",
       "</style>\n",
       "<table border=\"1\" class=\"dataframe\">\n",
       "  <thead>\n",
       "    <tr style=\"text-align: right;\">\n",
       "      <th></th>\n",
       "      <th>50</th>\n",
       "      <th>75</th>\n",
       "      <th>100</th>\n",
       "      <th>125</th>\n",
       "      <th>150</th>\n",
       "      <th>175</th>\n",
       "      <th>200</th>\n",
       "      <th>225</th>\n",
       "      <th>250</th>\n",
       "      <th>275</th>\n",
       "      <th>300</th>\n",
       "      <th>325</th>\n",
       "      <th>350</th>\n",
       "      <th>375</th>\n",
       "      <th>400</th>\n",
       "      <th>425</th>\n",
       "      <th>450</th>\n",
       "      <th>475</th>\n",
       "      <th>500</th>\n",
       "    </tr>\n",
       "  </thead>\n",
       "  <tbody>\n",
       "    <tr>\n",
       "      <th>annual_return_rate</th>\n",
       "      <td>6.25</td>\n",
       "      <td>5.87</td>\n",
       "      <td>6.18</td>\n",
       "      <td>6.32</td>\n",
       "      <td>6.14</td>\n",
       "      <td>6.52</td>\n",
       "      <td>6.52</td>\n",
       "      <td>6.63</td>\n",
       "      <td>6.46</td>\n",
       "      <td>6.23</td>\n",
       "      <td>5.98</td>\n",
       "      <td>6.18</td>\n",
       "      <td>6.06</td>\n",
       "      <td>6.00</td>\n",
       "      <td>5.43</td>\n",
       "      <td>5.12</td>\n",
       "      <td>4.88</td>\n",
       "      <td>5.11</td>\n",
       "      <td>4.56</td>\n",
       "    </tr>\n",
       "    <tr>\n",
       "      <th>max_closed_out_drawdown</th>\n",
       "      <td>-50.01</td>\n",
       "      <td>-46.25</td>\n",
       "      <td>-50.64</td>\n",
       "      <td>-45.25</td>\n",
       "      <td>-48.77</td>\n",
       "      <td>-47.00</td>\n",
       "      <td>-51.57</td>\n",
       "      <td>-59.84</td>\n",
       "      <td>-56.37</td>\n",
       "      <td>-53.04</td>\n",
       "      <td>-45.93</td>\n",
       "      <td>-47.76</td>\n",
       "      <td>-43.62</td>\n",
       "      <td>-42.98</td>\n",
       "      <td>-50.04</td>\n",
       "      <td>-47.60</td>\n",
       "      <td>-43.90</td>\n",
       "      <td>-43.39</td>\n",
       "      <td>-47.61</td>\n",
       "    </tr>\n",
       "    <tr>\n",
       "      <th>annualized_return_over_max_drawdown</th>\n",
       "      <td>0.12</td>\n",
       "      <td>0.13</td>\n",
       "      <td>0.12</td>\n",
       "      <td>0.14</td>\n",
       "      <td>0.13</td>\n",
       "      <td>0.14</td>\n",
       "      <td>0.13</td>\n",
       "      <td>0.11</td>\n",
       "      <td>0.11</td>\n",
       "      <td>0.12</td>\n",
       "      <td>0.13</td>\n",
       "      <td>0.13</td>\n",
       "      <td>0.14</td>\n",
       "      <td>0.14</td>\n",
       "      <td>0.11</td>\n",
       "      <td>0.11</td>\n",
       "      <td>0.11</td>\n",
       "      <td>0.12</td>\n",
       "      <td>0.10</td>\n",
       "    </tr>\n",
       "    <tr>\n",
       "      <th>drawdown_recovery_period</th>\n",
       "      <td>3719.00</td>\n",
       "      <td>1054.00</td>\n",
       "      <td>3675.00</td>\n",
       "      <td>3912.00</td>\n",
       "      <td>1268.00</td>\n",
       "      <td>549.00</td>\n",
       "      <td>1292.00</td>\n",
       "      <td>1051.00</td>\n",
       "      <td>1053.00</td>\n",
       "      <td>1184.00</td>\n",
       "      <td>1498.00</td>\n",
       "      <td>1524.00</td>\n",
       "      <td>1460.00</td>\n",
       "      <td>1457.00</td>\n",
       "      <td>1579.00</td>\n",
       "      <td>2053.00</td>\n",
       "      <td>2444.00</td>\n",
       "      <td>2439.00</td>\n",
       "      <td>3739.00</td>\n",
       "    </tr>\n",
       "    <tr>\n",
       "      <th>expected_shortfall</th>\n",
       "      <td>-4.40</td>\n",
       "      <td>-4.70</td>\n",
       "      <td>-4.21</td>\n",
       "      <td>-4.97</td>\n",
       "      <td>-4.88</td>\n",
       "      <td>-5.96</td>\n",
       "      <td>-6.40</td>\n",
       "      <td>-5.83</td>\n",
       "      <td>-7.53</td>\n",
       "      <td>-6.45</td>\n",
       "      <td>-4.81</td>\n",
       "      <td>-5.68</td>\n",
       "      <td>-5.74</td>\n",
       "      <td>-6.71</td>\n",
       "      <td>-8.88</td>\n",
       "      <td>-8.61</td>\n",
       "      <td>-9.02</td>\n",
       "      <td>-5.26</td>\n",
       "      <td>-6.15</td>\n",
       "    </tr>\n",
       "    <tr>\n",
       "      <th>best_month</th>\n",
       "      <td>55.78</td>\n",
       "      <td>50.91</td>\n",
       "      <td>44.29</td>\n",
       "      <td>34.27</td>\n",
       "      <td>29.99</td>\n",
       "      <td>27.02</td>\n",
       "      <td>27.01</td>\n",
       "      <td>35.96</td>\n",
       "      <td>35.96</td>\n",
       "      <td>33.32</td>\n",
       "      <td>27.01</td>\n",
       "      <td>27.01</td>\n",
       "      <td>27.02</td>\n",
       "      <td>22.41</td>\n",
       "      <td>22.41</td>\n",
       "      <td>22.40</td>\n",
       "      <td>22.42</td>\n",
       "      <td>22.42</td>\n",
       "      <td>22.42</td>\n",
       "    </tr>\n",
       "    <tr>\n",
       "      <th>worst_month</th>\n",
       "      <td>-24.71</td>\n",
       "      <td>-29.12</td>\n",
       "      <td>-21.23</td>\n",
       "      <td>-21.23</td>\n",
       "      <td>-24.41</td>\n",
       "      <td>-29.29</td>\n",
       "      <td>-26.88</td>\n",
       "      <td>-26.62</td>\n",
       "      <td>-31.52</td>\n",
       "      <td>-27.22</td>\n",
       "      <td>-31.46</td>\n",
       "      <td>-31.46</td>\n",
       "      <td>-31.46</td>\n",
       "      <td>-31.46</td>\n",
       "      <td>-31.45</td>\n",
       "      <td>-31.46</td>\n",
       "      <td>-31.44</td>\n",
       "      <td>-31.46</td>\n",
       "      <td>-31.46</td>\n",
       "    </tr>\n",
       "    <tr>\n",
       "      <th>sharpe_ratio</th>\n",
       "      <td>0.58</td>\n",
       "      <td>0.55</td>\n",
       "      <td>0.56</td>\n",
       "      <td>0.57</td>\n",
       "      <td>0.56</td>\n",
       "      <td>0.58</td>\n",
       "      <td>0.58</td>\n",
       "      <td>0.59</td>\n",
       "      <td>0.59</td>\n",
       "      <td>0.56</td>\n",
       "      <td>0.54</td>\n",
       "      <td>0.56</td>\n",
       "      <td>0.54</td>\n",
       "      <td>0.54</td>\n",
       "      <td>0.49</td>\n",
       "      <td>0.47</td>\n",
       "      <td>0.45</td>\n",
       "      <td>0.47</td>\n",
       "      <td>0.43</td>\n",
       "    </tr>\n",
       "    <tr>\n",
       "      <th>sortino_ratio</th>\n",
       "      <td>0.59</td>\n",
       "      <td>0.55</td>\n",
       "      <td>0.57</td>\n",
       "      <td>0.58</td>\n",
       "      <td>0.56</td>\n",
       "      <td>0.59</td>\n",
       "      <td>0.59</td>\n",
       "      <td>0.61</td>\n",
       "      <td>0.61</td>\n",
       "      <td>0.58</td>\n",
       "      <td>0.54</td>\n",
       "      <td>0.56</td>\n",
       "      <td>0.55</td>\n",
       "      <td>0.54</td>\n",
       "      <td>0.50</td>\n",
       "      <td>0.47</td>\n",
       "      <td>0.45</td>\n",
       "      <td>0.48</td>\n",
       "      <td>0.44</td>\n",
       "    </tr>\n",
       "    <tr>\n",
       "      <th>monthly_std</th>\n",
       "      <td>3.56</td>\n",
       "      <td>3.52</td>\n",
       "      <td>3.41</td>\n",
       "      <td>3.34</td>\n",
       "      <td>3.38</td>\n",
       "      <td>3.32</td>\n",
       "      <td>3.33</td>\n",
       "      <td>3.38</td>\n",
       "      <td>3.38</td>\n",
       "      <td>3.41</td>\n",
       "      <td>3.46</td>\n",
       "      <td>3.45</td>\n",
       "      <td>3.46</td>\n",
       "      <td>3.44</td>\n",
       "      <td>3.48</td>\n",
       "      <td>3.49</td>\n",
       "      <td>3.46</td>\n",
       "      <td>3.46</td>\n",
       "      <td>3.53</td>\n",
       "    </tr>\n",
       "    <tr>\n",
       "      <th>pct_time_in_market</th>\n",
       "      <td>61.74</td>\n",
       "      <td>62.95</td>\n",
       "      <td>63.89</td>\n",
       "      <td>65.06</td>\n",
       "      <td>65.88</td>\n",
       "      <td>66.44</td>\n",
       "      <td>67.07</td>\n",
       "      <td>67.64</td>\n",
       "      <td>68.17</td>\n",
       "      <td>68.46</td>\n",
       "      <td>68.61</td>\n",
       "      <td>68.89</td>\n",
       "      <td>69.09</td>\n",
       "      <td>69.48</td>\n",
       "      <td>69.90</td>\n",
       "      <td>70.17</td>\n",
       "      <td>70.54</td>\n",
       "      <td>71.01</td>\n",
       "      <td>71.65</td>\n",
       "    </tr>\n",
       "    <tr>\n",
       "      <th>total_num_trades</th>\n",
       "      <td>737.00</td>\n",
       "      <td>582.00</td>\n",
       "      <td>492.00</td>\n",
       "      <td>422.00</td>\n",
       "      <td>376.00</td>\n",
       "      <td>316.00</td>\n",
       "      <td>286.00</td>\n",
       "      <td>271.00</td>\n",
       "      <td>236.00</td>\n",
       "      <td>236.00</td>\n",
       "      <td>213.00</td>\n",
       "      <td>192.00</td>\n",
       "      <td>183.00</td>\n",
       "      <td>159.00</td>\n",
       "      <td>174.00</td>\n",
       "      <td>187.00</td>\n",
       "      <td>167.00</td>\n",
       "      <td>179.00</td>\n",
       "      <td>194.00</td>\n",
       "    </tr>\n",
       "    <tr>\n",
       "      <th>pct_profitable_trades</th>\n",
       "      <td>29.58</td>\n",
       "      <td>27.66</td>\n",
       "      <td>25.41</td>\n",
       "      <td>26.54</td>\n",
       "      <td>25.53</td>\n",
       "      <td>24.68</td>\n",
       "      <td>25.17</td>\n",
       "      <td>23.62</td>\n",
       "      <td>25.42</td>\n",
       "      <td>25.00</td>\n",
       "      <td>21.60</td>\n",
       "      <td>21.35</td>\n",
       "      <td>21.31</td>\n",
       "      <td>22.01</td>\n",
       "      <td>20.69</td>\n",
       "      <td>20.32</td>\n",
       "      <td>20.96</td>\n",
       "      <td>18.99</td>\n",
       "      <td>15.98</td>\n",
       "    </tr>\n",
       "    <tr>\n",
       "      <th>avg_points</th>\n",
       "      <td>2.14</td>\n",
       "      <td>3.72</td>\n",
       "      <td>3.60</td>\n",
       "      <td>5.49</td>\n",
       "      <td>5.15</td>\n",
       "      <td>7.38</td>\n",
       "      <td>10.02</td>\n",
       "      <td>12.19</td>\n",
       "      <td>14.06</td>\n",
       "      <td>14.05</td>\n",
       "      <td>14.86</td>\n",
       "      <td>18.26</td>\n",
       "      <td>15.30</td>\n",
       "      <td>20.54</td>\n",
       "      <td>18.92</td>\n",
       "      <td>18.03</td>\n",
       "      <td>17.77</td>\n",
       "      <td>14.65</td>\n",
       "      <td>13.40</td>\n",
       "    </tr>\n",
       "  </tbody>\n",
       "</table>\n",
       "</div>"
      ],
      "text/plain": [
       "                                         50      75     100     125     150  \\\n",
       "annual_return_rate                     6.25    5.87    6.18    6.32    6.14   \n",
       "max_closed_out_drawdown              -50.01  -46.25  -50.64  -45.25  -48.77   \n",
       "annualized_return_over_max_drawdown    0.12    0.13    0.12    0.14    0.13   \n",
       "drawdown_recovery_period            3719.00 1054.00 3675.00 3912.00 1268.00   \n",
       "expected_shortfall                    -4.40   -4.70   -4.21   -4.97   -4.88   \n",
       "best_month                            55.78   50.91   44.29   34.27   29.99   \n",
       "worst_month                          -24.71  -29.12  -21.23  -21.23  -24.41   \n",
       "sharpe_ratio                           0.58    0.55    0.56    0.57    0.56   \n",
       "sortino_ratio                          0.59    0.55    0.57    0.58    0.56   \n",
       "monthly_std                            3.56    3.52    3.41    3.34    3.38   \n",
       "pct_time_in_market                    61.74   62.95   63.89   65.06   65.88   \n",
       "total_num_trades                     737.00  582.00  492.00  422.00  376.00   \n",
       "pct_profitable_trades                 29.58   27.66   25.41   26.54   25.53   \n",
       "avg_points                             2.14    3.72    3.60    5.49    5.15   \n",
       "\n",
       "                                       175     200     225     250     275  \\\n",
       "annual_return_rate                    6.52    6.52    6.63    6.46    6.23   \n",
       "max_closed_out_drawdown             -47.00  -51.57  -59.84  -56.37  -53.04   \n",
       "annualized_return_over_max_drawdown   0.14    0.13    0.11    0.11    0.12   \n",
       "drawdown_recovery_period            549.00 1292.00 1051.00 1053.00 1184.00   \n",
       "expected_shortfall                   -5.96   -6.40   -5.83   -7.53   -6.45   \n",
       "best_month                           27.02   27.01   35.96   35.96   33.32   \n",
       "worst_month                         -29.29  -26.88  -26.62  -31.52  -27.22   \n",
       "sharpe_ratio                          0.58    0.58    0.59    0.59    0.56   \n",
       "sortino_ratio                         0.59    0.59    0.61    0.61    0.58   \n",
       "monthly_std                           3.32    3.33    3.38    3.38    3.41   \n",
       "pct_time_in_market                   66.44   67.07   67.64   68.17   68.46   \n",
       "total_num_trades                    316.00  286.00  271.00  236.00  236.00   \n",
       "pct_profitable_trades                24.68   25.17   23.62   25.42   25.00   \n",
       "avg_points                            7.38   10.02   12.19   14.06   14.05   \n",
       "\n",
       "                                        300     325     350     375     400  \\\n",
       "annual_return_rate                     5.98    6.18    6.06    6.00    5.43   \n",
       "max_closed_out_drawdown              -45.93  -47.76  -43.62  -42.98  -50.04   \n",
       "annualized_return_over_max_drawdown    0.13    0.13    0.14    0.14    0.11   \n",
       "drawdown_recovery_period            1498.00 1524.00 1460.00 1457.00 1579.00   \n",
       "expected_shortfall                    -4.81   -5.68   -5.74   -6.71   -8.88   \n",
       "best_month                            27.01   27.01   27.02   22.41   22.41   \n",
       "worst_month                          -31.46  -31.46  -31.46  -31.46  -31.45   \n",
       "sharpe_ratio                           0.54    0.56    0.54    0.54    0.49   \n",
       "sortino_ratio                          0.54    0.56    0.55    0.54    0.50   \n",
       "monthly_std                            3.46    3.45    3.46    3.44    3.48   \n",
       "pct_time_in_market                    68.61   68.89   69.09   69.48   69.90   \n",
       "total_num_trades                     213.00  192.00  183.00  159.00  174.00   \n",
       "pct_profitable_trades                 21.60   21.35   21.31   22.01   20.69   \n",
       "avg_points                            14.86   18.26   15.30   20.54   18.92   \n",
       "\n",
       "                                        425     450     475     500  \n",
       "annual_return_rate                     5.12    4.88    5.11    4.56  \n",
       "max_closed_out_drawdown              -47.60  -43.90  -43.39  -47.61  \n",
       "annualized_return_over_max_drawdown    0.11    0.11    0.12    0.10  \n",
       "drawdown_recovery_period            2053.00 2444.00 2439.00 3739.00  \n",
       "expected_shortfall                    -8.61   -9.02   -5.26   -6.15  \n",
       "best_month                            22.40   22.42   22.42   22.42  \n",
       "worst_month                          -31.46  -31.44  -31.46  -31.46  \n",
       "sharpe_ratio                           0.47    0.45    0.47    0.43  \n",
       "sortino_ratio                          0.47    0.45    0.48    0.44  \n",
       "monthly_std                            3.49    3.46    3.46    3.53  \n",
       "pct_time_in_market                    70.17   70.54   71.01   71.65  \n",
       "total_num_trades                     187.00  167.00  179.00  194.00  \n",
       "pct_profitable_trades                 20.32   20.96   18.99   15.98  \n",
       "avg_points                            18.03   17.77   14.65   13.40  "
      ]
     },
     "execution_count": 7,
     "metadata": {},
     "output_type": "execute_result"
    }
   ],
   "source": [
    "metrics = ('annual_return_rate',\n",
    "           'max_closed_out_drawdown',\n",
    "           'annualized_return_over_max_drawdown',\n",
    "           'drawdown_recovery_period',\n",
    "           'expected_shortfall',\n",
    "           'best_month',\n",
    "           'worst_month',\n",
    "           'sharpe_ratio',\n",
    "           'sortino_ratio',\n",
    "           'monthly_std',\n",
    "           'pct_time_in_market',\n",
    "           'total_num_trades',\n",
    "           'pct_profitable_trades',\n",
    "           'avg_points')\n",
    "\n",
    "df = pf.optimizer_summary(strategies, metrics)\n",
    "df"
   ]
  },
  {
   "cell_type": "markdown",
   "metadata": {},
   "source": [
    "Bar graphs"
   ]
  },
  {
   "cell_type": "code",
   "execution_count": 8,
   "metadata": {
    "ExecuteTime": {
     "end_time": "2020-02-16T23:38:01.070791Z",
     "start_time": "2020-02-16T23:38:00.325317Z"
    }
   },
   "outputs": [
    {
     "data": {
      "image/png": "[encoded data removed]",
      "text/plain": [
       "<Figure size 1000x700 with 1 Axes>"
      ]
     },
     "metadata": {},
     "output_type": "display_data"
    },
    {
     "data": {
      "image/png": "[encoded data removed]",
      "text/plain": [
       "<Figure size 1000x700 with 1 Axes>"
      ]
     },
     "metadata": {},
     "output_type": "display_data"
    },
    {
     "data": {
      "image/png": "[encoded data removed]",
      "text/plain": [
       "<Figure size 1000x700 with 1 Axes>"
      ]
     },
     "metadata": {},
     "output_type": "display_data"
    }
   ],
   "source": [
    "pf.optimizer_plot_bar_graph(df, 'annual_return_rate')\n",
    "pf.optimizer_plot_bar_graph(df, 'sharpe_ratio')\n",
    "pf.optimizer_plot_bar_graph(df, 'max_closed_out_drawdown')"
   ]
  },
  {
   "cell_type": "markdown",
   "metadata": {},
   "source": [
    "Run Benchmark"
   ]
  },
  {
   "cell_type": "code",
   "execution_count": 9,
   "metadata": {
    "ExecuteTime": {
     "end_time": "2020-02-16T23:38:02.043753Z",
     "start_time": "2020-02-16T23:38:01.078320Z"
    }
   },
   "outputs": [],
   "source": [
    "s = strategies[Xs[0]]\n",
    "benchmark = pf.Benchmark(symbol, capital, s.start, s.end)\n",
    "benchmark.run()"
   ]
  },
  {
   "cell_type": "markdown",
   "metadata": {},
   "source": [
    "Equity curve"
   ]
  },
  {
   "cell_type": "code",
   "execution_count": 10,
   "metadata": {
    "ExecuteTime": {
     "end_time": "2020-02-16T23:38:02.321132Z",
     "start_time": "2020-02-16T23:38:02.056495Z"
    },
    "scrolled": false
   },
   "outputs": [
    {
     "data": {
      "image/png": "[encoded data removed]",
      "text/plain": [
       "<Figure size 1000x700 with 1 Axes>"
      ]
     },
     "metadata": {},
     "output_type": "display_data"
    }
   ],
   "source": [
    "if optimize_sma :     Y = '200'\n",
    "elif optimize_band:   Y = '30'\n",
    "\n",
    "pf.plot_equity_curve(strategies[Y].dbal, benchmark=benchmark.dbal)"
   ]
  },
  {
   "cell_type": "code",
   "execution_count": null,
   "metadata": {},
   "outputs": [],
   "source": []
  }
 ],
 "metadata": {
  "kernelspec": {
   "display_name": "Python 3 (ipykernel)",
   "language": "python",
   "name": "python3"
  },
  "language_info": {
   "codemirror_mode": {
    "name": "ipython",
    "version": 3
   },
   "file_extension": ".py",
   "mimetype": "text/x-python",
   "name": "python",
   "nbconvert_exporter": "python",
   "pygments_lexer": "ipython3",
   "version": "3.8.10"
  },
  "latex_envs": {
   "LaTeX_envs_menu_present": true,
   "autoclose": false,
   "autocomplete": true,
   "bibliofile": "biblio.bib",
   "cite_by": "apalike",
   "current_citInitial": 1,
   "eqLabelWithNumbers": true,
   "eqNumInitial": 1,
   "hotkeys": {
    "equation": "Ctrl-E",
    "itemize": "Ctrl-I"
   },
   "labels_anchors": false,
   "latex_user_defs": false,
   "report_style_numbering": false,
   "user_envs_cfg": false
  }
 },
 "nbformat": 4,
 "nbformat_minor": 1
}
