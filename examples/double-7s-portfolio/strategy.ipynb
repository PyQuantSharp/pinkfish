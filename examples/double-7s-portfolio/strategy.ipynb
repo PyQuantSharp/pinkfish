{
 "cells": [
  {
   "cell_type": "markdown",
   "metadata": {},
   "source": [
    "# Double 7's Portfolio (Short Term Trading Strategies that Work)\n",
    "\n",
    "    1. The SPY is above its 200-day moving average or X-day ma\n",
    "    2. The SPY closes at a 7-day low, buy.\n",
    "    3. If the SPY closes at a 7-day high, sell your long position."
   ]
  },
  {
   "cell_type": "code",
   "execution_count": 1,
   "metadata": {
    "ExecuteTime": {
     "end_time": "2020-02-17T05:42:08.798393Z",
     "start_time": "2020-02-17T05:42:07.455687Z"
    }
   },
   "outputs": [],
   "source": [
    "import pandas as pd\n",
    "import matplotlib.pyplot as plt\n",
    "import datetime\n",
    "from talib.abstract import *\n",
    "\n",
    "import pinkfish as pf\n",
    "import strategy\n",
    "\n",
    "# format price data\n",
    "pd.options.display.float_format = '{:0.2f}'.format\n",
    "\n",
    "%matplotlib inline"
   ]
  },
  {
   "cell_type": "code",
   "execution_count": 2,
   "metadata": {
    "ExecuteTime": {
     "end_time": "2020-02-17T05:42:08.816893Z",
     "start_time": "2020-02-17T05:42:08.808607Z"
    }
   },
   "outputs": [],
   "source": [
    "# set size of inline plots\n",
    "'''note: rcParams can't be in same cell as import matplotlib\n",
    "   or %matplotlib inline\n",
    "   \n",
    "   %matplotlib notebook: will lead to interactive plots embedded within\n",
    "   the notebook, you can zoom and resize the figure\n",
    "   \n",
    "   %matplotlib inline: only draw static images in the notebook\n",
    "'''\n",
    "plt.rcParams[\"figure.figsize\"] = (10, 7)"
   ]
  },
  {
   "cell_type": "markdown",
   "metadata": {},
   "source": [
    "Some global data"
   ]
  },
  {
   "cell_type": "code",
   "execution_count": 3,
   "metadata": {
    "ExecuteTime": {
     "end_time": "2020-02-17T05:42:08.835362Z",
     "start_time": "2020-02-17T05:42:08.821138Z"
    }
   },
   "outputs": [],
   "source": [
    "#symbols = ['XLB', 'XLE', 'XLF', 'XLI', 'XLK', 'XLP', 'XLU', 'XLV', 'XLY']\n",
    "#symbols = ['IWB', 'SPY', 'VGK', 'IEV', 'EWJ', 'EPP', 'IEF', 'SHY', 'GLD']\n",
    "symbols = ['SPY', 'QQQ', 'TLT', 'GLD']\n",
    "#symbols = ['SPY']\n",
    "\n",
    "capital = 10000\n",
    "start = datetime.datetime(1900, 1, 1)\n",
    "#start = datetime.datetime.strptime(pf.SP500_BEGIN, '%Y-%m-%d')\n",
    "end = datetime.datetime.now()\n",
    "#end = datetime.datetime(2019, 1, 1)\n",
    "# num months lookback\n",
    "period = 7\n",
    "\n",
    "use_cache = False\n",
    "use_regime_filter = True"
   ]
  },
  {
   "cell_type": "markdown",
   "metadata": {},
   "source": [
    "Run Strategy"
   ]
  },
  {
   "cell_type": "code",
   "execution_count": 4,
   "metadata": {
    "scrolled": false
   },
   "outputs": [
    {
     "name": "stdout",
     "output_type": "stream",
     "text": [
      "STOP LOSS!!!\n",
      "STOP LOSS!!!\n",
      "STOP LOSS!!!\n"
     ]
    }
   ],
   "source": [
    "s = strategy.Strategy(symbols, capital, start, end, stop_loss_pct=85, margin=2.7, period=period,\n",
    "                      use_cache=use_cache, use_regime_filter=use_regime_filter)\n",
    "s.run()"
   ]
  },
  {
   "cell_type": "markdown",
   "metadata": {},
   "source": [
    "Retrieve log DataFrames"
   ]
  },
  {
   "cell_type": "code",
   "execution_count": 5,
   "metadata": {},
   "outputs": [],
   "source": [
    "rlog, tlog, dbal = s.get_logs()\n",
    "stats = s.get_stats()"
   ]
  },
  {
   "cell_type": "code",
   "execution_count": 6,
   "metadata": {},
   "outputs": [
    {
     "data": {
      "text/html": [
       "<div>\n",
       "<style scoped>\n",
       "    .dataframe tbody tr th:only-of-type {\n",
       "        vertical-align: middle;\n",
       "    }\n",
       "\n",
       "    .dataframe tbody tr th {\n",
       "        vertical-align: top;\n",
       "    }\n",
       "\n",
       "    .dataframe thead th {\n",
       "        text-align: right;\n",
       "    }\n",
       "</style>\n",
       "<table border=\"1\" class=\"dataframe\">\n",
       "  <thead>\n",
       "    <tr style=\"text-align: right;\">\n",
       "      <th></th>\n",
       "      <th>date</th>\n",
       "      <th>seq_num</th>\n",
       "      <th>price</th>\n",
       "      <th>shares</th>\n",
       "      <th>entry_exit</th>\n",
       "      <th>direction</th>\n",
       "      <th>symbol</th>\n",
       "    </tr>\n",
       "  </thead>\n",
       "  <tbody>\n",
       "    <tr>\n",
       "      <th>0</th>\n",
       "      <td>2005-09-07</td>\n",
       "      <td>0</td>\n",
       "      <td>57.49</td>\n",
       "      <td>117</td>\n",
       "      <td>entry</td>\n",
       "      <td>LONG</td>\n",
       "      <td>TLT</td>\n",
       "    </tr>\n",
       "    <tr>\n",
       "      <th>1</th>\n",
       "      <td>2005-09-14</td>\n",
       "      <td>1</td>\n",
       "      <td>91.00</td>\n",
       "      <td>74</td>\n",
       "      <td>entry</td>\n",
       "      <td>LONG</td>\n",
       "      <td>SPY</td>\n",
       "    </tr>\n",
       "    <tr>\n",
       "      <th>2</th>\n",
       "      <td>2005-09-14</td>\n",
       "      <td>2</td>\n",
       "      <td>34.54</td>\n",
       "      <td>195</td>\n",
       "      <td>entry</td>\n",
       "      <td>LONG</td>\n",
       "      <td>QQQ</td>\n",
       "    </tr>\n",
       "    <tr>\n",
       "      <th>3</th>\n",
       "      <td>2005-09-29</td>\n",
       "      <td>3</td>\n",
       "      <td>90.98</td>\n",
       "      <td>74</td>\n",
       "      <td>exit</td>\n",
       "      <td>LONG</td>\n",
       "      <td>SPY</td>\n",
       "    </tr>\n",
       "    <tr>\n",
       "      <th>4</th>\n",
       "      <td>2005-09-29</td>\n",
       "      <td>4</td>\n",
       "      <td>34.55</td>\n",
       "      <td>195</td>\n",
       "      <td>exit</td>\n",
       "      <td>LONG</td>\n",
       "      <td>QQQ</td>\n",
       "    </tr>\n",
       "  </tbody>\n",
       "</table>\n",
       "</div>"
      ],
      "text/plain": [
       "        date  seq_num  price  shares entry_exit direction symbol\n",
       "0 2005-09-07        0  57.49     117      entry      LONG    TLT\n",
       "1 2005-09-14        1  91.00      74      entry      LONG    SPY\n",
       "2 2005-09-14        2  34.54     195      entry      LONG    QQQ\n",
       "3 2005-09-29        3  90.98      74       exit      LONG    SPY\n",
       "4 2005-09-29        4  34.55     195       exit      LONG    QQQ"
      ]
     },
     "execution_count": 6,
     "metadata": {},
     "output_type": "execute_result"
    }
   ],
   "source": [
    "rlog.head()"
   ]
  },
  {
   "cell_type": "code",
   "execution_count": 7,
   "metadata": {},
   "outputs": [
    {
     "data": {
      "text/html": [
       "<div>\n",
       "<style scoped>\n",
       "    .dataframe tbody tr th:only-of-type {\n",
       "        vertical-align: middle;\n",
       "    }\n",
       "\n",
       "    .dataframe tbody tr th {\n",
       "        vertical-align: top;\n",
       "    }\n",
       "\n",
       "    .dataframe thead th {\n",
       "        text-align: right;\n",
       "    }\n",
       "</style>\n",
       "<table border=\"1\" class=\"dataframe\">\n",
       "  <thead>\n",
       "    <tr style=\"text-align: right;\">\n",
       "      <th></th>\n",
       "      <th>entry_date</th>\n",
       "      <th>entry_price</th>\n",
       "      <th>exit_date</th>\n",
       "      <th>exit_price</th>\n",
       "      <th>pl_points</th>\n",
       "      <th>pl_cash</th>\n",
       "      <th>qty</th>\n",
       "      <th>cumul_total</th>\n",
       "      <th>direction</th>\n",
       "      <th>symbol</th>\n",
       "    </tr>\n",
       "  </thead>\n",
       "  <tbody>\n",
       "    <tr>\n",
       "      <th>569</th>\n",
       "      <td>2020-07-16</td>\n",
       "      <td>168.73</td>\n",
       "      <td>2020-07-20</td>\n",
       "      <td>170.94</td>\n",
       "      <td>2.21</td>\n",
       "      <td>618.80</td>\n",
       "      <td>280</td>\n",
       "      <td>60728.99</td>\n",
       "      <td>LONG</td>\n",
       "      <td>GLD</td>\n",
       "    </tr>\n",
       "    <tr>\n",
       "      <th>570</th>\n",
       "      <td>2020-07-23</td>\n",
       "      <td>258.01</td>\n",
       "      <td>2020-07-31</td>\n",
       "      <td>265.79</td>\n",
       "      <td>7.78</td>\n",
       "      <td>1439.30</td>\n",
       "      <td>185</td>\n",
       "      <td>62168.29</td>\n",
       "      <td>LONG</td>\n",
       "      <td>QQQ</td>\n",
       "    </tr>\n",
       "    <tr>\n",
       "      <th>571</th>\n",
       "      <td>2020-08-07</td>\n",
       "      <td>169.88</td>\n",
       "      <td>2020-08-21</td>\n",
       "      <td>166.04</td>\n",
       "      <td>-3.85</td>\n",
       "      <td>-1099.67</td>\n",
       "      <td>286</td>\n",
       "      <td>61068.62</td>\n",
       "      <td>LONG</td>\n",
       "      <td>TLT</td>\n",
       "    </tr>\n",
       "    <tr>\n",
       "      <th>572</th>\n",
       "      <td>2020-08-11</td>\n",
       "      <td>265.19</td>\n",
       "      <td>2020-08-17</td>\n",
       "      <td>275.32</td>\n",
       "      <td>10.13</td>\n",
       "      <td>1833.53</td>\n",
       "      <td>181</td>\n",
       "      <td>62902.16</td>\n",
       "      <td>LONG</td>\n",
       "      <td>QQQ</td>\n",
       "    </tr>\n",
       "    <tr>\n",
       "      <th>573</th>\n",
       "      <td>2020-08-11</td>\n",
       "      <td>179.94</td>\n",
       "      <td>2020-08-21</td>\n",
       "      <td>181.98</td>\n",
       "      <td>2.04</td>\n",
       "      <td>544.68</td>\n",
       "      <td>267</td>\n",
       "      <td>63446.83</td>\n",
       "      <td>LONG</td>\n",
       "      <td>GLD</td>\n",
       "    </tr>\n",
       "  </tbody>\n",
       "</table>\n",
       "</div>"
      ],
      "text/plain": [
       "    entry_date  entry_price  exit_date  exit_price  pl_points  pl_cash  qty  \\\n",
       "569 2020-07-16       168.73 2020-07-20      170.94       2.21   618.80  280   \n",
       "570 2020-07-23       258.01 2020-07-31      265.79       7.78  1439.30  185   \n",
       "571 2020-08-07       169.88 2020-08-21      166.04      -3.85 -1099.67  286   \n",
       "572 2020-08-11       265.19 2020-08-17      275.32      10.13  1833.53  181   \n",
       "573 2020-08-11       179.94 2020-08-21      181.98       2.04   544.68  267   \n",
       "\n",
       "     cumul_total direction symbol  \n",
       "569     60728.99      LONG    GLD  \n",
       "570     62168.29      LONG    QQQ  \n",
       "571     61068.62      LONG    TLT  \n",
       "572     62902.16      LONG    QQQ  \n",
       "573     63446.83      LONG    GLD  "
      ]
     },
     "execution_count": 7,
     "metadata": {},
     "output_type": "execute_result"
    }
   ],
   "source": [
    "tlog.tail()"
   ]
  },
  {
   "cell_type": "code",
   "execution_count": 8,
   "metadata": {
    "scrolled": false
   },
   "outputs": [
    {
     "data": {
      "text/html": [
       "<div>\n",
       "<style scoped>\n",
       "    .dataframe tbody tr th:only-of-type {\n",
       "        vertical-align: middle;\n",
       "    }\n",
       "\n",
       "    .dataframe tbody tr th {\n",
       "        vertical-align: top;\n",
       "    }\n",
       "\n",
       "    .dataframe thead th {\n",
       "        text-align: right;\n",
       "    }\n",
       "</style>\n",
       "<table border=\"1\" class=\"dataframe\">\n",
       "  <thead>\n",
       "    <tr style=\"text-align: right;\">\n",
       "      <th></th>\n",
       "      <th>high</th>\n",
       "      <th>low</th>\n",
       "      <th>close</th>\n",
       "      <th>shares</th>\n",
       "      <th>cash</th>\n",
       "      <th>leverage</th>\n",
       "      <th>state</th>\n",
       "    </tr>\n",
       "    <tr>\n",
       "      <th>date</th>\n",
       "      <th></th>\n",
       "      <th></th>\n",
       "      <th></th>\n",
       "      <th></th>\n",
       "      <th></th>\n",
       "      <th></th>\n",
       "      <th></th>\n",
       "    </tr>\n",
       "  </thead>\n",
       "  <tbody>\n",
       "    <tr>\n",
       "      <th>2020-08-17</th>\n",
       "      <td>73954.40</td>\n",
       "      <td>73954.40</td>\n",
       "      <td>73954.40</td>\n",
       "      <td>553</td>\n",
       "      <td>-22627.84</td>\n",
       "      <td>1.31</td>\n",
       "      <td>X</td>\n",
       "    </tr>\n",
       "    <tr>\n",
       "      <th>2020-08-18</th>\n",
       "      <td>74737.58</td>\n",
       "      <td>74737.58</td>\n",
       "      <td>74737.58</td>\n",
       "      <td>553</td>\n",
       "      <td>-22627.84</td>\n",
       "      <td>1.30</td>\n",
       "      <td>-</td>\n",
       "    </tr>\n",
       "    <tr>\n",
       "      <th>2020-08-19</th>\n",
       "      <td>72857.02</td>\n",
       "      <td>72857.02</td>\n",
       "      <td>72857.02</td>\n",
       "      <td>553</td>\n",
       "      <td>-22627.84</td>\n",
       "      <td>1.31</td>\n",
       "      <td>-</td>\n",
       "    </tr>\n",
       "    <tr>\n",
       "      <th>2020-08-20</th>\n",
       "      <td>73616.73</td>\n",
       "      <td>73616.73</td>\n",
       "      <td>73616.73</td>\n",
       "      <td>553</td>\n",
       "      <td>-22627.84</td>\n",
       "      <td>1.31</td>\n",
       "      <td>-</td>\n",
       "    </tr>\n",
       "    <tr>\n",
       "      <th>2020-08-21</th>\n",
       "      <td>73446.83</td>\n",
       "      <td>73446.83</td>\n",
       "      <td>73446.83</td>\n",
       "      <td>0</td>\n",
       "      <td>73446.83</td>\n",
       "      <td>1.00</td>\n",
       "      <td>X</td>\n",
       "    </tr>\n",
       "  </tbody>\n",
       "</table>\n",
       "</div>"
      ],
      "text/plain": [
       "               high      low    close  shares      cash  leverage state\n",
       "date                                                                   \n",
       "2020-08-17 73954.40 73954.40 73954.40     553 -22627.84      1.31     X\n",
       "2020-08-18 74737.58 74737.58 74737.58     553 -22627.84      1.30     -\n",
       "2020-08-19 72857.02 72857.02 72857.02     553 -22627.84      1.31     -\n",
       "2020-08-20 73616.73 73616.73 73616.73     553 -22627.84      1.31     -\n",
       "2020-08-21 73446.83 73446.83 73446.83       0  73446.83      1.00     X"
      ]
     },
     "execution_count": 8,
     "metadata": {},
     "output_type": "execute_result"
    }
   ],
   "source": [
    "dbal.tail()"
   ]
  },
  {
   "cell_type": "markdown",
   "metadata": {},
   "source": [
    "Generate strategy stats - display all available stats"
   ]
  },
  {
   "cell_type": "code",
   "execution_count": 9,
   "metadata": {},
   "outputs": [
    {
     "name": "stdout",
     "output_type": "stream",
     "text": [
      "start                                                    2005-09-02\n",
      "end                                                      2020-08-21\n",
      "beginning_balance                                             10000\n",
      "ending_balance                                             73446.83\n",
      "total_net_profit                                           63446.83\n",
      "gross_profit                                              129079.01\n",
      "gross_loss                                                -65632.17\n",
      "profit_factor                                                  1.97\n",
      "return_on_initial_capital                                    634.47\n",
      "annual_return_rate                                            14.25\n",
      "trading_period                           14 years 11 months 19 days\n",
      "pct_time_in_market                                            69.96\n",
      "margin                                                         2.70\n",
      "avg_leverage                                                   1.22\n",
      "max_leverage                                                   2.89\n",
      "min_leverage                                                   1.00\n",
      "total_num_trades                                                574\n",
      "trades_per_year                                               38.35\n",
      "num_winning_trades                                              416\n",
      "num_losing_trades                                               158\n",
      "num_even_trades                                                   0\n",
      "pct_profitable_trades                                         72.47\n",
      "avg_profit_per_trade                                         110.53\n",
      "avg_profit_per_winning_trade                                 310.29\n",
      "avg_loss_per_losing_trade                                   -415.39\n",
      "ratio_avg_profit_win_loss                                      0.75\n",
      "largest_profit_winning_trade                                2876.20\n",
      "largest_loss_losing_trade                                  -2449.16\n",
      "num_winning_points                                           803.57\n",
      "num_losing_points                                           -424.26\n",
      "total_net_points                                             379.31\n",
      "avg_points                                                     0.66\n",
      "largest_points_winning_trade                                  13.13\n",
      "largest_points_losing_trade                                  -20.41\n",
      "avg_pct_gain_per_trade                                         0.55\n",
      "largest_pct_winning_trade                                      8.58\n",
      "largest_pct_losing_trade                                     -19.49\n",
      "max_consecutive_winning_trades                                   14\n",
      "max_consecutive_losing_trades                                     4\n",
      "avg_bars_winning_trades                                        6.64\n",
      "avg_bars_losing_trades                                        15.02\n",
      "max_closed_out_drawdown                                      -24.86\n",
      "max_closed_out_drawdown_start_date                       2008-06-19\n",
      "max_closed_out_drawdown_end_date                         2009-06-22\n",
      "max_closed_out_drawdown_recovery_date                    2010-01-13\n",
      "drawdown_recovery                                             -1.01\n",
      "drawdown_annualized_return                                    -1.74\n",
      "max_intra_day_drawdown                                       -24.86\n",
      "avg_yearly_closed_out_drawdown                               -11.67\n",
      "max_yearly_closed_out_drawdown                               -24.30\n",
      "avg_monthly_closed_out_drawdown                               -3.26\n",
      "max_monthly_closed_out_drawdown                              -17.45\n",
      "avg_weekly_closed_out_drawdown                                -1.17\n",
      "max_weekly_closed_out_drawdown                               -16.73\n",
      "avg_yearly_closed_out_runup                                   23.27\n",
      "max_yearly_closed_out_runup                                   59.35\n",
      "avg_monthly_closed_out_runup                                   4.21\n",
      "max_monthly_closed_out_runup                                  19.12\n",
      "avg_weekly_closed_out_runup                                    1.48\n",
      "max_weekly_closed_out_runup                                   12.77\n",
      "pct_profitable_years                                          84.81\n",
      "best_year                                                     59.35\n",
      "worst_year                                                   -23.78\n",
      "avg_year                                                      13.79\n",
      "annual_std                                                    13.83\n",
      "pct_profitable_months                                         68.04\n",
      "best_month                                                    18.83\n",
      "worst_month                                                  -15.41\n",
      "avg_month                                                      1.13\n",
      "monthly_std                                                    3.64\n",
      "pct_profitable_weeks                                          52.59\n",
      "best_week                                                     12.77\n",
      "worst_week                                                   -16.73\n",
      "avg_week                                                       0.29\n",
      "weekly_std                                                     2.14\n",
      "pct_profitable_days                                           38.60\n",
      "best_day                                                       7.05\n",
      "worst_day                                                     -8.52\n",
      "avg_day                                                        0.06\n",
      "daily_std                                                      1.04\n",
      "sharpe_ratio                                                   0.89\n",
      "sharpe_ratio_max                                               0.95\n",
      "sharpe_ratio_min                                               0.83\n",
      "sortino_ratio                                                  0.97\n",
      "dtype: object\n"
     ]
    }
   ],
   "source": [
    "pf.print_full(stats)"
   ]
  },
  {
   "cell_type": "code",
   "execution_count": 10,
   "metadata": {},
   "outputs": [
    {
     "data": {
      "text/html": [
       "<div>\n",
       "<style scoped>\n",
       "    .dataframe tbody tr th:only-of-type {\n",
       "        vertical-align: middle;\n",
       "    }\n",
       "\n",
       "    .dataframe tbody tr th {\n",
       "        vertical-align: top;\n",
       "    }\n",
       "\n",
       "    .dataframe thead th {\n",
       "        text-align: right;\n",
       "    }\n",
       "</style>\n",
       "<table border=\"1\" class=\"dataframe\">\n",
       "  <thead>\n",
       "    <tr style=\"text-align: right;\">\n",
       "      <th></th>\n",
       "      <th>cumul_total</th>\n",
       "      <th>weight</th>\n",
       "      <th>pct_cumul_total</th>\n",
       "      <th>relative_performance</th>\n",
       "    </tr>\n",
       "  </thead>\n",
       "  <tbody>\n",
       "    <tr>\n",
       "      <th>SPY</th>\n",
       "      <td>$15,949.09</td>\n",
       "      <td>0.25</td>\n",
       "      <td>0.25</td>\n",
       "      <td>1.01</td>\n",
       "    </tr>\n",
       "    <tr>\n",
       "      <th>QQQ</th>\n",
       "      <td>$24,452.91</td>\n",
       "      <td>0.25</td>\n",
       "      <td>0.39</td>\n",
       "      <td>1.54</td>\n",
       "    </tr>\n",
       "    <tr>\n",
       "      <th>TLT</th>\n",
       "      <td>$13,556.97</td>\n",
       "      <td>0.25</td>\n",
       "      <td>0.21</td>\n",
       "      <td>0.85</td>\n",
       "    </tr>\n",
       "    <tr>\n",
       "      <th>GLD</th>\n",
       "      <td>$9,487.86</td>\n",
       "      <td>0.25</td>\n",
       "      <td>0.15</td>\n",
       "      <td>0.60</td>\n",
       "    </tr>\n",
       "    <tr>\n",
       "      <th>TOTAL</th>\n",
       "      <td>$63,446.83</td>\n",
       "      <td>1.00</td>\n",
       "      <td>1.00</td>\n",
       "      <td>1.00</td>\n",
       "    </tr>\n",
       "  </tbody>\n",
       "</table>\n",
       "</div>"
      ],
      "text/plain": [
       "      cumul_total  weight  pct_cumul_total  relative_performance\n",
       "SPY    $15,949.09    0.25             0.25                  1.01\n",
       "QQQ    $24,452.91    0.25             0.39                  1.54\n",
       "TLT    $13,556.97    0.25             0.21                  0.85\n",
       "GLD     $9,487.86    0.25             0.15                  0.60\n",
       "TOTAL  $63,446.83    1.00             1.00                  1.00"
      ]
     },
     "execution_count": 10,
     "metadata": {},
     "output_type": "execute_result"
    },
    {
     "data": {
      "image/png": "[encoded data removed]",
      "text/plain": [
       "<Figure size 864x576 with 1 Axes>"
      ]
     },
     "metadata": {
      "needs_background": "light"
     },
     "output_type": "display_data"
    }
   ],
   "source": [
    "weights = {symbol: 1 / len(symbols) for symbol in symbols}\n",
    "totals = s.portfolio.performance_per_symbol(weights=weights)\n",
    "totals"
   ]
  },
  {
   "cell_type": "code",
   "execution_count": 11,
   "metadata": {},
   "outputs": [
    {
     "data": {
      "text/html": [
       "<div>\n",
       "<style scoped>\n",
       "    .dataframe tbody tr th:only-of-type {\n",
       "        vertical-align: middle;\n",
       "    }\n",
       "\n",
       "    .dataframe tbody tr th {\n",
       "        vertical-align: top;\n",
       "    }\n",
       "\n",
       "    .dataframe thead th {\n",
       "        text-align: right;\n",
       "    }\n",
       "</style>\n",
       "<table border=\"1\" class=\"dataframe\">\n",
       "  <thead>\n",
       "    <tr style=\"text-align: right;\">\n",
       "      <th></th>\n",
       "      <th>SPY</th>\n",
       "      <th>QQQ</th>\n",
       "      <th>TLT</th>\n",
       "      <th>GLD</th>\n",
       "    </tr>\n",
       "  </thead>\n",
       "  <tbody>\n",
       "    <tr>\n",
       "      <th>SPY</th>\n",
       "      <td>1.00</td>\n",
       "      <td>0.99</td>\n",
       "      <td>0.88</td>\n",
       "      <td>0.40</td>\n",
       "    </tr>\n",
       "    <tr>\n",
       "      <th>QQQ</th>\n",
       "      <td>0.99</td>\n",
       "      <td>1.00</td>\n",
       "      <td>0.90</td>\n",
       "      <td>0.45</td>\n",
       "    </tr>\n",
       "    <tr>\n",
       "      <th>TLT</th>\n",
       "      <td>0.88</td>\n",
       "      <td>0.90</td>\n",
       "      <td>1.00</td>\n",
       "      <td>0.66</td>\n",
       "    </tr>\n",
       "    <tr>\n",
       "      <th>GLD</th>\n",
       "      <td>0.40</td>\n",
       "      <td>0.45</td>\n",
       "      <td>0.66</td>\n",
       "      <td>1.00</td>\n",
       "    </tr>\n",
       "  </tbody>\n",
       "</table>\n",
       "</div>"
      ],
      "text/plain": [
       "     SPY  QQQ  TLT  GLD\n",
       "SPY 1.00 0.99 0.88 0.40\n",
       "QQQ 0.99 1.00 0.90 0.45\n",
       "TLT 0.88 0.90 1.00 0.66\n",
       "GLD 0.40 0.45 0.66 1.00"
      ]
     },
     "execution_count": 11,
     "metadata": {},
     "output_type": "execute_result"
    },
    {
     "data": {
      "image/png": "[encoded data removed]",
      "text/plain": [
       "<Figure size 720x504 with 2 Axes>"
      ]
     },
     "metadata": {
      "needs_background": "light"
     },
     "output_type": "display_data"
    }
   ],
   "source": [
    "corr_df = s.portfolio.correlation_map(s.ts)\n",
    "corr_df"
   ]
  },
  {
   "cell_type": "markdown",
   "metadata": {},
   "source": [
    "Run Benchmark, Retrieve benchmark logs, and Generate benchmark stats"
   ]
  },
  {
   "cell_type": "code",
   "execution_count": 12,
   "metadata": {},
   "outputs": [
    {
     "name": "stdout",
     "output_type": "stream",
     "text": [
      "2005-09-02 00:00:00 BUY  110 SPY @ 90.30\n",
      "2020-08-21 00:00:00 SELL 110 SPY @ 339.15\n"
     ]
    }
   ],
   "source": [
    "benchmark = pf.Benchmark('SPY', capital, s.start, s.end, use_adj=True)\n",
    "benchmark.run()\n",
    "benchmark.tlog, benchmark.dbal = benchmark.get_logs()\n",
    "benchmark.stats = benchmark.get_stats()"
   ]
  },
  {
   "cell_type": "markdown",
   "metadata": {},
   "source": [
    "Plot Equity Curves: Strategy vs Benchmark"
   ]
  },
  {
   "cell_type": "code",
   "execution_count": 13,
   "metadata": {
    "scrolled": false
   },
   "outputs": [
    {
     "data": {
      "image/png": "[encoded data removed]",
      "text/plain": [
       "<Figure size 720x504 with 1 Axes>"
      ]
     },
     "metadata": {
      "needs_background": "light"
     },
     "output_type": "display_data"
    }
   ],
   "source": [
    "pf.plot_equity_curve(dbal, benchmark=benchmark.dbal)"
   ]
  },
  {
   "cell_type": "markdown",
   "metadata": {},
   "source": [
    "Plot Trades"
   ]
  },
  {
   "cell_type": "markdown",
   "metadata": {},
   "source": [
    "Bar Graph: Strategy vs Benchmark"
   ]
  },
  {
   "cell_type": "code",
   "execution_count": 14,
   "metadata": {},
   "outputs": [
    {
     "data": {
      "text/html": [
       "<div>\n",
       "<style scoped>\n",
       "    .dataframe tbody tr th:only-of-type {\n",
       "        vertical-align: middle;\n",
       "    }\n",
       "\n",
       "    .dataframe tbody tr th {\n",
       "        vertical-align: top;\n",
       "    }\n",
       "\n",
       "    .dataframe thead th {\n",
       "        text-align: right;\n",
       "    }\n",
       "</style>\n",
       "<table border=\"1\" class=\"dataframe\">\n",
       "  <thead>\n",
       "    <tr style=\"text-align: right;\">\n",
       "      <th></th>\n",
       "      <th>strategy</th>\n",
       "      <th>benchmark</th>\n",
       "    </tr>\n",
       "  </thead>\n",
       "  <tbody>\n",
       "    <tr>\n",
       "      <th>annual_return_rate</th>\n",
       "      <td>14.25</td>\n",
       "      <td>9.21</td>\n",
       "    </tr>\n",
       "    <tr>\n",
       "      <th>max_closed_out_drawdown</th>\n",
       "      <td>-24.86</td>\n",
       "      <td>-54.91</td>\n",
       "    </tr>\n",
       "    <tr>\n",
       "      <th>drawdown_annualized_return</th>\n",
       "      <td>-1.74</td>\n",
       "      <td>-5.96</td>\n",
       "    </tr>\n",
       "    <tr>\n",
       "      <th>drawdown_recovery</th>\n",
       "      <td>-1.01</td>\n",
       "      <td>-1.42</td>\n",
       "    </tr>\n",
       "    <tr>\n",
       "      <th>best_month</th>\n",
       "      <td>18.83</td>\n",
       "      <td>23.36</td>\n",
       "    </tr>\n",
       "    <tr>\n",
       "      <th>worst_month</th>\n",
       "      <td>-15.41</td>\n",
       "      <td>-30.93</td>\n",
       "    </tr>\n",
       "    <tr>\n",
       "      <th>sharpe_ratio</th>\n",
       "      <td>0.89</td>\n",
       "      <td>0.54</td>\n",
       "    </tr>\n",
       "    <tr>\n",
       "      <th>sortino_ratio</th>\n",
       "      <td>0.97</td>\n",
       "      <td>0.64</td>\n",
       "    </tr>\n",
       "    <tr>\n",
       "      <th>monthly_std</th>\n",
       "      <td>3.64</td>\n",
       "      <td>4.66</td>\n",
       "    </tr>\n",
       "    <tr>\n",
       "      <th>annual_std</th>\n",
       "      <td>13.83</td>\n",
       "      <td>15.88</td>\n",
       "    </tr>\n",
       "  </tbody>\n",
       "</table>\n",
       "</div>"
      ],
      "text/plain": [
       "                            strategy  benchmark\n",
       "annual_return_rate             14.25       9.21\n",
       "max_closed_out_drawdown       -24.86     -54.91\n",
       "drawdown_annualized_return     -1.74      -5.96\n",
       "drawdown_recovery              -1.01      -1.42\n",
       "best_month                     18.83      23.36\n",
       "worst_month                   -15.41     -30.93\n",
       "sharpe_ratio                    0.89       0.54\n",
       "sortino_ratio                   0.97       0.64\n",
       "monthly_std                     3.64       4.66\n",
       "annual_std                     13.83      15.88"
      ]
     },
     "execution_count": 14,
     "metadata": {},
     "output_type": "execute_result"
    },
    {
     "data": {
      "image/png": "[encoded data removed]",
      "text/plain": [
       "<Figure size 720x504 with 1 Axes>"
      ]
     },
     "metadata": {
      "needs_background": "light"
     },
     "output_type": "display_data"
    }
   ],
   "source": [
    "df = pf.plot_bar_graph(stats, benchmark.stats)\n",
    "df"
   ]
  },
  {
   "cell_type": "markdown",
   "metadata": {},
   "source": [
    "Analysis: Kelly Criterian"
   ]
  },
  {
   "cell_type": "code",
   "execution_count": 15,
   "metadata": {},
   "outputs": [
    {
     "data": {
      "text/plain": [
       "sharpe_ratio            0.89\n",
       "sharpe_ratio_max        0.95\n",
       "sharpe_ratio_min        0.83\n",
       "strategy risk           0.14\n",
       "instrument risk         0.16\n",
       "optimal target risk     0.89\n",
       "half kelly criterian    0.45\n",
       "aggressive leverage     5.61\n",
       "moderate leverage       2.81\n",
       "conservative leverage   2.62\n",
       "dtype: float64"
      ]
     },
     "execution_count": 15,
     "metadata": {},
     "output_type": "execute_result"
    }
   ],
   "source": [
    "kelly = pf.kelly_criterian(stats, benchmark.stats)\n",
    "kelly"
   ]
  },
  {
   "cell_type": "code",
   "execution_count": null,
   "metadata": {},
   "outputs": [],
   "source": []
  }
 ],
 "metadata": {
  "kernelspec": {
   "display_name": "Python 3",
   "language": "python",
   "name": "python3"
  },
  "language_info": {
   "codemirror_mode": {
    "name": "ipython",
    "version": 3
   },
   "file_extension": ".py",
   "mimetype": "text/x-python",
   "name": "python",
   "nbconvert_exporter": "python",
   "pygments_lexer": "ipython3",
   "version": "3.8.2"
  },
  "latex_envs": {
   "LaTeX_envs_menu_present": true,
   "autoclose": false,
   "autocomplete": true,
   "bibliofile": "biblio.bib",
   "cite_by": "apalike",
   "current_citInitial": 1,
   "eqLabelWithNumbers": true,
   "eqNumInitial": 1,
   "hotkeys": {
    "equation": "Ctrl-E",
    "itemize": "Ctrl-I"
   },
   "labels_anchors": false,
   "latex_user_defs": false,
   "report_style_numbering": false,
   "user_envs_cfg": false
  }
 },
 "nbformat": 4,
 "nbformat_minor": 1
}
