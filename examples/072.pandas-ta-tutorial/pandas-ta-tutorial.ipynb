{
 "cells": [
  {
   "cell_type": "markdown",
   "metadata": {},
   "source": [
    "# PANDAS_TA Tutorial\n",
    "\n",
    "\"Technical Analysis Indicators - Pandas TA is an easy to use Python 3 Pandas Extension with 150+ Indicators.\"  \n",
    "We will show how to use them here, in the context of pinkfish.  \n",
    "$ pip install pandas_ta  \n",
    "See: https://github.com/twopirllc/pandas-ta"
   ]
  },
  {
   "cell_type": "code",
   "execution_count": 1,
   "metadata": {},
   "outputs": [
    {
     "data": {
      "application/javascript": [
       "IPython.OutputArea.prototype._should_scroll = function(lines) {\n",
       "    return false;\n",
       "}\n"
      ],
      "text/plain": [
       "<IPython.core.display.Javascript object>"
      ]
     },
     "metadata": {},
     "output_type": "display_data"
    }
   ],
   "source": [
    "%%javascript\n",
    "IPython.OutputArea.prototype._should_scroll = function(lines) {\n",
    "    return false;\n",
    "}"
   ]
  },
  {
   "cell_type": "code",
   "execution_count": 2,
   "metadata": {
    "ExecuteTime": {
     "end_time": "2019-12-24T18:12:11.649407Z",
     "start_time": "2019-12-24T18:12:10.582993Z"
    }
   },
   "outputs": [],
   "source": [
    "import datetime\n",
    "\n",
    "import matplotlib.pyplot as plt\n",
    "import pandas as pd\n",
    "import pandas_ta as ta\n",
    "\n",
    "import pinkfish as pf\n",
    "\n",
    "# Format price data\n",
    "pd.options.display.float_format = '{:0.3f}'.format\n",
    "\n",
    "%matplotlib inline"
   ]
  },
  {
   "cell_type": "code",
   "execution_count": 3,
   "metadata": {
    "ExecuteTime": {
     "end_time": "2019-12-24T18:12:11.665851Z",
     "start_time": "2019-12-24T18:12:11.659170Z"
    }
   },
   "outputs": [],
   "source": [
    "# Set size of inline plots\n",
    "'''note: rcParams can't be in same cell as import matplotlib\n",
    "   or %matplotlib inline\n",
    "   \n",
    "   %matplotlib notebook: will lead to interactive plots embedded within\n",
    "   the notebook, you can zoom and resize the figure\n",
    "   \n",
    "   %matplotlib inline: only draw static images in the notebook\n",
    "'''\n",
    "plt.rcParams[\"figure.figsize\"] = (10, 7)"
   ]
  },
  {
   "cell_type": "markdown",
   "metadata": {},
   "source": [
    "Some global data"
   ]
  },
  {
   "cell_type": "code",
   "execution_count": 4,
   "metadata": {
    "ExecuteTime": {
     "end_time": "2019-12-24T18:12:11.677964Z",
     "start_time": "2019-12-24T18:12:11.670056Z"
    }
   },
   "outputs": [],
   "source": [
    "symbol = 'SPY'\n",
    "start = datetime.datetime(2018, 1, 1)\n",
    "end = datetime.datetime.now()"
   ]
  },
  {
   "cell_type": "markdown",
   "metadata": {},
   "source": [
    "Fetch symbol data from cache, if available."
   ]
  },
  {
   "cell_type": "code",
   "execution_count": 5,
   "metadata": {
    "ExecuteTime": {
     "end_time": "2019-12-24T18:12:11.728306Z",
     "start_time": "2019-12-24T18:12:11.682346Z"
    }
   },
   "outputs": [
    {
     "data": {
      "text/html": [
       "<div>\n",
       "<style scoped>\n",
       "    .dataframe tbody tr th:only-of-type {\n",
       "        vertical-align: middle;\n",
       "    }\n",
       "\n",
       "    .dataframe tbody tr th {\n",
       "        vertical-align: top;\n",
       "    }\n",
       "\n",
       "    .dataframe thead th {\n",
       "        text-align: right;\n",
       "    }\n",
       "</style>\n",
       "<table border=\"1\" class=\"dataframe\">\n",
       "  <thead>\n",
       "    <tr style=\"text-align: right;\">\n",
       "      <th></th>\n",
       "      <th>open</th>\n",
       "      <th>high</th>\n",
       "      <th>low</th>\n",
       "      <th>close</th>\n",
       "      <th>adj_close</th>\n",
       "      <th>volume</th>\n",
       "    </tr>\n",
       "    <tr>\n",
       "      <th>date</th>\n",
       "      <th></th>\n",
       "      <th></th>\n",
       "      <th></th>\n",
       "      <th></th>\n",
       "      <th></th>\n",
       "      <th></th>\n",
       "    </tr>\n",
       "  </thead>\n",
       "  <tbody>\n",
       "    <tr>\n",
       "      <th>2024-08-14</th>\n",
       "      <td>542.850</td>\n",
       "      <td>544.960</td>\n",
       "      <td>540.120</td>\n",
       "      <td>543.750</td>\n",
       "      <td>543.750</td>\n",
       "      <td>42446900</td>\n",
       "    </tr>\n",
       "    <tr>\n",
       "      <th>2024-08-15</th>\n",
       "      <td>549.500</td>\n",
       "      <td>553.360</td>\n",
       "      <td>548.880</td>\n",
       "      <td>553.070</td>\n",
       "      <td>553.070</td>\n",
       "      <td>60846800</td>\n",
       "    </tr>\n",
       "    <tr>\n",
       "      <th>2024-08-16</th>\n",
       "      <td>551.420</td>\n",
       "      <td>555.020</td>\n",
       "      <td>551.260</td>\n",
       "      <td>554.310</td>\n",
       "      <td>554.310</td>\n",
       "      <td>44430700</td>\n",
       "    </tr>\n",
       "    <tr>\n",
       "      <th>2024-08-19</th>\n",
       "      <td>554.730</td>\n",
       "      <td>559.610</td>\n",
       "      <td>553.860</td>\n",
       "      <td>559.610</td>\n",
       "      <td>559.610</td>\n",
       "      <td>39121800</td>\n",
       "    </tr>\n",
       "    <tr>\n",
       "      <th>2024-08-20</th>\n",
       "      <td>559.150</td>\n",
       "      <td>560.840</td>\n",
       "      <td>557.330</td>\n",
       "      <td>558.700</td>\n",
       "      <td>558.700</td>\n",
       "      <td>33697700</td>\n",
       "    </tr>\n",
       "  </tbody>\n",
       "</table>\n",
       "</div>"
      ],
      "text/plain": [
       "              open    high     low   close  adj_close    volume\n",
       "date                                                           \n",
       "2024-08-14 542.850 544.960 540.120 543.750    543.750  42446900\n",
       "2024-08-15 549.500 553.360 548.880 553.070    553.070  60846800\n",
       "2024-08-16 551.420 555.020 551.260 554.310    554.310  44430700\n",
       "2024-08-19 554.730 559.610 553.860 559.610    559.610  39121800\n",
       "2024-08-20 559.150 560.840 557.330 558.700    558.700  33697700"
      ]
     },
     "execution_count": 5,
     "metadata": {},
     "output_type": "execute_result"
    }
   ],
   "source": [
    "ts = pf.fetch_timeseries(symbol)\n",
    "ts.tail()"
   ]
  },
  {
   "cell_type": "markdown",
   "metadata": {},
   "source": [
    "Select timeseries between start and end."
   ]
  },
  {
   "cell_type": "code",
   "execution_count": 6,
   "metadata": {
    "ExecuteTime": {
     "end_time": "2019-12-24T18:12:11.790325Z",
     "start_time": "2019-12-24T18:12:11.776348Z"
    }
   },
   "outputs": [
    {
     "data": {
      "text/html": [
       "<div>\n",
       "<style scoped>\n",
       "    .dataframe tbody tr th:only-of-type {\n",
       "        vertical-align: middle;\n",
       "    }\n",
       "\n",
       "    .dataframe tbody tr th {\n",
       "        vertical-align: top;\n",
       "    }\n",
       "\n",
       "    .dataframe thead th {\n",
       "        text-align: right;\n",
       "    }\n",
       "</style>\n",
       "<table border=\"1\" class=\"dataframe\">\n",
       "  <thead>\n",
       "    <tr style=\"text-align: right;\">\n",
       "      <th></th>\n",
       "      <th>open</th>\n",
       "      <th>high</th>\n",
       "      <th>low</th>\n",
       "      <th>close</th>\n",
       "      <th>adj_close</th>\n",
       "      <th>volume</th>\n",
       "    </tr>\n",
       "    <tr>\n",
       "      <th>date</th>\n",
       "      <th></th>\n",
       "      <th></th>\n",
       "      <th></th>\n",
       "      <th></th>\n",
       "      <th></th>\n",
       "      <th></th>\n",
       "    </tr>\n",
       "  </thead>\n",
       "  <tbody>\n",
       "    <tr>\n",
       "      <th>2017-01-03</th>\n",
       "      <td>225.040</td>\n",
       "      <td>225.830</td>\n",
       "      <td>223.880</td>\n",
       "      <td>225.240</td>\n",
       "      <td>198.560</td>\n",
       "      <td>91366500</td>\n",
       "    </tr>\n",
       "    <tr>\n",
       "      <th>2017-01-04</th>\n",
       "      <td>225.620</td>\n",
       "      <td>226.750</td>\n",
       "      <td>225.610</td>\n",
       "      <td>226.580</td>\n",
       "      <td>199.741</td>\n",
       "      <td>78744400</td>\n",
       "    </tr>\n",
       "    <tr>\n",
       "      <th>2017-01-05</th>\n",
       "      <td>226.270</td>\n",
       "      <td>226.580</td>\n",
       "      <td>225.480</td>\n",
       "      <td>226.400</td>\n",
       "      <td>199.583</td>\n",
       "      <td>78379000</td>\n",
       "    </tr>\n",
       "    <tr>\n",
       "      <th>2017-01-06</th>\n",
       "      <td>226.530</td>\n",
       "      <td>227.750</td>\n",
       "      <td>225.900</td>\n",
       "      <td>227.210</td>\n",
       "      <td>200.297</td>\n",
       "      <td>71559900</td>\n",
       "    </tr>\n",
       "    <tr>\n",
       "      <th>2017-01-09</th>\n",
       "      <td>226.910</td>\n",
       "      <td>227.070</td>\n",
       "      <td>226.420</td>\n",
       "      <td>226.460</td>\n",
       "      <td>199.636</td>\n",
       "      <td>46939700</td>\n",
       "    </tr>\n",
       "  </tbody>\n",
       "</table>\n",
       "</div>"
      ],
      "text/plain": [
       "              open    high     low   close  adj_close    volume\n",
       "date                                                           \n",
       "2017-01-03 225.040 225.830 223.880 225.240    198.560  91366500\n",
       "2017-01-04 225.620 226.750 225.610 226.580    199.741  78744400\n",
       "2017-01-05 226.270 226.580 225.480 226.400    199.583  78379000\n",
       "2017-01-06 226.530 227.750 225.900 227.210    200.297  71559900\n",
       "2017-01-09 226.910 227.070 226.420 226.460    199.636  46939700"
      ]
     },
     "execution_count": 6,
     "metadata": {},
     "output_type": "execute_result"
    }
   ],
   "source": [
    "ts = pf.select_tradeperiod(ts, start, end)\n",
    "ts.head()"
   ]
  },
  {
   "cell_type": "markdown",
   "metadata": {},
   "source": [
    "### Create a technical indicator using pandas_ta"
   ]
  },
  {
   "cell_type": "markdown",
   "metadata": {},
   "source": [
    "Create technical indicator: SMA (using defaults: timeperiod=10, price='close')"
   ]
  },
  {
   "cell_type": "code",
   "execution_count": 7,
   "metadata": {
    "ExecuteTime": {
     "end_time": "2019-12-24T18:12:12.142389Z",
     "start_time": "2019-12-24T18:12:12.121033Z"
    }
   },
   "outputs": [
    {
     "data": {
      "text/plain": [
       "date\n",
       "2024-08-14   531.680\n",
       "2024-08-15   532.686\n",
       "2024-08-16   534.827\n",
       "2024-08-19   539.050\n",
       "2024-08-20   542.705\n",
       "Name: SMA_10, dtype: float64"
      ]
     },
     "execution_count": 7,
     "metadata": {},
     "output_type": "execute_result"
    }
   ],
   "source": [
    "sma10 = ta.sma(ts[\"close\"], length=10)\n",
    "sma10.tail()"
   ]
  },
  {
   "cell_type": "markdown",
   "metadata": {},
   "source": [
    "### Add a technical indicator to a pinkfish timeseries"
   ]
  },
  {
   "cell_type": "code",
   "execution_count": 8,
   "metadata": {
    "ExecuteTime": {
     "end_time": "2019-12-24T18:12:12.308375Z",
     "start_time": "2019-12-24T18:12:12.149987Z"
    }
   },
   "outputs": [
    {
     "data": {
      "text/html": [
       "<div>\n",
       "<style scoped>\n",
       "    .dataframe tbody tr th:only-of-type {\n",
       "        vertical-align: middle;\n",
       "    }\n",
       "\n",
       "    .dataframe tbody tr th {\n",
       "        vertical-align: top;\n",
       "    }\n",
       "\n",
       "    .dataframe thead th {\n",
       "        text-align: right;\n",
       "    }\n",
       "</style>\n",
       "<table border=\"1\" class=\"dataframe\">\n",
       "  <thead>\n",
       "    <tr style=\"text-align: right;\">\n",
       "      <th></th>\n",
       "      <th>open</th>\n",
       "      <th>high</th>\n",
       "      <th>low</th>\n",
       "      <th>close</th>\n",
       "      <th>adj_close</th>\n",
       "      <th>volume</th>\n",
       "      <th>sma10</th>\n",
       "    </tr>\n",
       "    <tr>\n",
       "      <th>date</th>\n",
       "      <th></th>\n",
       "      <th></th>\n",
       "      <th></th>\n",
       "      <th></th>\n",
       "      <th></th>\n",
       "      <th></th>\n",
       "      <th></th>\n",
       "    </tr>\n",
       "  </thead>\n",
       "  <tbody>\n",
       "    <tr>\n",
       "      <th>2024-08-14</th>\n",
       "      <td>542.850</td>\n",
       "      <td>544.960</td>\n",
       "      <td>540.120</td>\n",
       "      <td>543.750</td>\n",
       "      <td>543.750</td>\n",
       "      <td>42446900</td>\n",
       "      <td>531.680</td>\n",
       "    </tr>\n",
       "    <tr>\n",
       "      <th>2024-08-15</th>\n",
       "      <td>549.500</td>\n",
       "      <td>553.360</td>\n",
       "      <td>548.880</td>\n",
       "      <td>553.070</td>\n",
       "      <td>553.070</td>\n",
       "      <td>60846800</td>\n",
       "      <td>532.686</td>\n",
       "    </tr>\n",
       "    <tr>\n",
       "      <th>2024-08-16</th>\n",
       "      <td>551.420</td>\n",
       "      <td>555.020</td>\n",
       "      <td>551.260</td>\n",
       "      <td>554.310</td>\n",
       "      <td>554.310</td>\n",
       "      <td>44430700</td>\n",
       "      <td>534.827</td>\n",
       "    </tr>\n",
       "    <tr>\n",
       "      <th>2024-08-19</th>\n",
       "      <td>554.730</td>\n",
       "      <td>559.610</td>\n",
       "      <td>553.860</td>\n",
       "      <td>559.610</td>\n",
       "      <td>559.610</td>\n",
       "      <td>39121800</td>\n",
       "      <td>539.050</td>\n",
       "    </tr>\n",
       "    <tr>\n",
       "      <th>2024-08-20</th>\n",
       "      <td>559.150</td>\n",
       "      <td>560.840</td>\n",
       "      <td>557.330</td>\n",
       "      <td>558.700</td>\n",
       "      <td>558.700</td>\n",
       "      <td>33697700</td>\n",
       "      <td>542.705</td>\n",
       "    </tr>\n",
       "  </tbody>\n",
       "</table>\n",
       "</div>"
      ],
      "text/plain": [
       "              open    high     low   close  adj_close    volume   sma10\n",
       "date                                                                   \n",
       "2024-08-14 542.850 544.960 540.120 543.750    543.750  42446900 531.680\n",
       "2024-08-15 549.500 553.360 548.880 553.070    553.070  60846800 532.686\n",
       "2024-08-16 551.420 555.020 551.260 554.310    554.310  44430700 534.827\n",
       "2024-08-19 554.730 559.610 553.860 559.610    559.610  39121800 539.050\n",
       "2024-08-20 559.150 560.840 557.330 558.700    558.700  33697700 542.705"
      ]
     },
     "execution_count": 8,
     "metadata": {},
     "output_type": "execute_result"
    }
   ],
   "source": [
    "ts['sma10'] = sma10\n",
    "ts.tail()"
   ]
  },
  {
   "cell_type": "code",
   "execution_count": null,
   "metadata": {},
   "outputs": [],
   "source": []
  }
 ],
 "metadata": {
  "kernelspec": {
   "display_name": "Python 3 (ipykernel)",
   "language": "python",
   "name": "python3"
  },
  "language_info": {
   "codemirror_mode": {
    "name": "ipython",
    "version": 3
   },
   "file_extension": ".py",
   "mimetype": "text/x-python",
   "name": "python",
   "nbconvert_exporter": "python",
   "pygments_lexer": "ipython3",
   "version": "3.10.12"
  },
  "latex_envs": {
   "LaTeX_envs_menu_present": true,
   "autoclose": false,
   "autocomplete": true,
   "bibliofile": "biblio.bib",
   "cite_by": "apalike",
   "current_citInitial": 1,
   "eqLabelWithNumbers": true,
   "eqNumInitial": 1,
   "hotkeys": {
    "equation": "Ctrl-E",
    "itemize": "Ctrl-I"
   },
   "labels_anchors": false,
   "latex_user_defs": false,
   "report_style_numbering": false,
   "user_envs_cfg": false
  }
 },
 "nbformat": 4,
 "nbformat_minor": 4
}
