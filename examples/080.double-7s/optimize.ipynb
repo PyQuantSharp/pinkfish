{
 "cells": [
  {
   "cell_type": "markdown",
   "metadata": {},
   "source": [
    "# Double 7's (Short Term Trading Strategies that Work)\n",
    "\n",
    "    1. The SPY is above its 200-day moving average or X-day ma\n",
    "    2. The SPY closes at a X-day low, buy.\n",
    "    3. If the SPY closes at a X-day high, sell your long position.\n",
    "    \n",
    "    Optimize: period, sma, stop loss percent, margin."
   ]
  },
  {
   "cell_type": "code",
   "execution_count": 1,
   "metadata": {
    "ExecuteTime": {
     "end_time": "2020-02-16T23:37:50.351765Z",
     "start_time": "2020-02-16T23:37:49.607324Z"
    }
   },
   "outputs": [],
   "source": [
    "import datetime\n",
    "\n",
    "import matplotlib.pyplot as plt\n",
    "import pandas as pd\n",
    "from talib.abstract import *\n",
    "\n",
    "import pinkfish as pf\n",
    "import strategy\n",
    "\n",
    "# Format price data\n",
    "pd.options.display.float_format = '{:0.2f}'.format\n",
    "\n",
    "%matplotlib inline"
   ]
  },
  {
   "cell_type": "code",
   "execution_count": 2,
   "metadata": {
    "ExecuteTime": {
     "end_time": "2020-02-16T23:37:50.367279Z",
     "start_time": "2020-02-16T23:37:50.361136Z"
    }
   },
   "outputs": [],
   "source": [
    "# Set size of inline plots\n",
    "'''note: rcParams can't be in same cell as import matplotlib\n",
    "   or %matplotlib inline\n",
    "   \n",
    "   %matplotlib notebook: will lead to interactive plots embedded within\n",
    "   the notebook, you can zoom and resize the figure\n",
    "   \n",
    "   %matplotlib inline: only draw static images in the notebook\n",
    "'''\n",
    "plt.rcParams[\"figure.figsize\"] = (10, 7)"
   ]
  },
  {
   "cell_type": "markdown",
   "metadata": {},
   "source": [
    "Some global data"
   ]
  },
  {
   "cell_type": "code",
   "execution_count": 3,
   "metadata": {
    "ExecuteTime": {
     "end_time": "2020-02-16T23:37:50.380602Z",
     "start_time": "2020-02-16T23:37:50.373167Z"
    }
   },
   "outputs": [],
   "source": [
    "#symbol = '^GSPC'\n",
    "symbol = 'SPY'\n",
    "#symbol = 'DIA'\n",
    "#symbol = 'QQQ'\n",
    "#symbol = 'IWM'\n",
    "#symbol = 'TLT'\n",
    "#symbol = 'GLD'\n",
    "#symbol = 'AAPL'\n",
    "#symbol = 'BBRY'\n",
    "#symbol = 'GDX'\n",
    "\n",
    "capital = 10000\n",
    "start = datetime.datetime(1900, 1, 1)\n",
    "#start = datetime.datetime(*pf.SP500_BEGIN)\n",
    "end = datetime.datetime.now()"
   ]
  },
  {
   "cell_type": "markdown",
   "metadata": {},
   "source": [
    "Define Optimizations"
   ]
  },
  {
   "cell_type": "code",
   "execution_count": 4,
   "metadata": {
    "ExecuteTime": {
     "end_time": "2020-02-16T23:37:50.393117Z",
     "start_time": "2020-02-16T23:37:50.387608Z"
    }
   },
   "outputs": [],
   "source": [
    "# Pick one\n",
    "optimize_period = True\n",
    "optimize_sma    = False\n",
    "optimize_pct    = False\n",
    "optimize_margin = False\n",
    "\n",
    "# Define high low trade periods ranges\n",
    "if optimize_period:\n",
    "    Xs = range(2, 15, 1)\n",
    "    Xs = [str(X) for X in Xs]\n",
    "\n",
    "# Define SMAs ranges\n",
    "elif optimize_sma:\n",
    "    Xs = range(20, 210, 10)\n",
    "    Xs = [str(X) for X in Xs]\n",
    "\n",
    "# Define stop loss percentage ranges\n",
    "elif optimize_pct:\n",
    "    Xs = range(5, 31, 1)\n",
    "    Xs = [str(X) for X in Xs]\n",
    "\n",
    "# Define margin ranges\n",
    "elif optimize_margin:\n",
    "    Xs = range(10, 41, 2)\n",
    "    Xs = [str(X) for X in Xs]"
   ]
  },
  {
   "cell_type": "code",
   "execution_count": 5,
   "metadata": {},
   "outputs": [],
   "source": [
    "options = {\n",
    "    'use_adj' : False,\n",
    "    'use_cache' : True,\n",
    "    'stop_loss_pct' : 1.0,\n",
    "    'margin' : 1.0,\n",
    "    'period' : 7,\n",
    "    'sma' : 200,\n",
    "    'use_regime_filter' : True\n",
    "}"
   ]
  },
  {
   "cell_type": "markdown",
   "metadata": {},
   "source": [
    "Run Strategy"
   ]
  },
  {
   "cell_type": "code",
   "execution_count": 6,
   "metadata": {
    "ExecuteTime": {
     "end_time": "2020-02-16T23:38:00.254800Z",
     "start_time": "2020-02-16T23:37:50.403938Z"
    }
   },
   "outputs": [
    {
     "name": "stdout",
     "output_type": "stream",
     "text": [
      "2 3 4 5 6 7 8 9 10 11 12 13 14 "
     ]
    }
   ],
   "source": [
    "strategies = pd.Series(dtype=object)\n",
    "for X in Xs:\n",
    "    print(X, end=\" \")\n",
    "    if optimize_period:\n",
    "        options['period'] = int(X)\n",
    "    elif optimize_sma:\n",
    "        options['sma'] = int(X)\n",
    "    elif optimize_pct:\n",
    "         options['stop_loss_pct'] = int(X)/100\n",
    "    elif optimize_margin:\n",
    "        options['margin'] = int(X)/10\n",
    "        \n",
    "    strategies[X] = strategy.Strategy(symbol, capital, start, end, options) \n",
    "    strategies[X].run()"
   ]
  },
  {
   "cell_type": "markdown",
   "metadata": {},
   "source": [
    "Summarize results"
   ]
  },
  {
   "cell_type": "code",
   "execution_count": 7,
   "metadata": {
    "ExecuteTime": {
     "end_time": "2020-02-16T23:38:00.316798Z",
     "start_time": "2020-02-16T23:38:00.264414Z"
    },
    "scrolled": false
   },
   "outputs": [
    {
     "data": {
      "text/html": [
       "<div>\n",
       "<style scoped>\n",
       "    .dataframe tbody tr th:only-of-type {\n",
       "        vertical-align: middle;\n",
       "    }\n",
       "\n",
       "    .dataframe tbody tr th {\n",
       "        vertical-align: top;\n",
       "    }\n",
       "\n",
       "    .dataframe thead th {\n",
       "        text-align: right;\n",
       "    }\n",
       "</style>\n",
       "<table border=\"1\" class=\"dataframe\">\n",
       "  <thead>\n",
       "    <tr style=\"text-align: right;\">\n",
       "      <th></th>\n",
       "      <th>2</th>\n",
       "      <th>3</th>\n",
       "      <th>4</th>\n",
       "      <th>5</th>\n",
       "      <th>6</th>\n",
       "      <th>7</th>\n",
       "      <th>8</th>\n",
       "      <th>9</th>\n",
       "      <th>10</th>\n",
       "      <th>11</th>\n",
       "      <th>12</th>\n",
       "      <th>13</th>\n",
       "      <th>14</th>\n",
       "    </tr>\n",
       "  </thead>\n",
       "  <tbody>\n",
       "    <tr>\n",
       "      <th>annual_return_rate</th>\n",
       "      <td>3.70</td>\n",
       "      <td>5.27</td>\n",
       "      <td>6.42</td>\n",
       "      <td>6.16</td>\n",
       "      <td>6.98</td>\n",
       "      <td>7.19</td>\n",
       "      <td>6.60</td>\n",
       "      <td>6.22</td>\n",
       "      <td>6.03</td>\n",
       "      <td>6.54</td>\n",
       "      <td>6.16</td>\n",
       "      <td>5.68</td>\n",
       "      <td>4.98</td>\n",
       "    </tr>\n",
       "    <tr>\n",
       "      <th>max_closed_out_drawdown</th>\n",
       "      <td>-18.97</td>\n",
       "      <td>-16.99</td>\n",
       "      <td>-15.78</td>\n",
       "      <td>-14.04</td>\n",
       "      <td>-14.02</td>\n",
       "      <td>-14.63</td>\n",
       "      <td>-33.12</td>\n",
       "      <td>-32.97</td>\n",
       "      <td>-30.70</td>\n",
       "      <td>-30.81</td>\n",
       "      <td>-30.83</td>\n",
       "      <td>-30.72</td>\n",
       "      <td>-30.62</td>\n",
       "    </tr>\n",
       "    <tr>\n",
       "      <th>annualized_return_over_max_drawdown</th>\n",
       "      <td>0.20</td>\n",
       "      <td>0.31</td>\n",
       "      <td>0.41</td>\n",
       "      <td>0.44</td>\n",
       "      <td>0.50</td>\n",
       "      <td>0.49</td>\n",
       "      <td>0.20</td>\n",
       "      <td>0.19</td>\n",
       "      <td>0.20</td>\n",
       "      <td>0.21</td>\n",
       "      <td>0.20</td>\n",
       "      <td>0.18</td>\n",
       "      <td>0.16</td>\n",
       "    </tr>\n",
       "    <tr>\n",
       "      <th>drawdown_recovery_period</th>\n",
       "      <td>Not Recovered Yet</td>\n",
       "      <td>1126.00</td>\n",
       "      <td>521.00</td>\n",
       "      <td>497.00</td>\n",
       "      <td>395.00</td>\n",
       "      <td>583.00</td>\n",
       "      <td>Not Recovered Yet</td>\n",
       "      <td>Not Recovered Yet</td>\n",
       "      <td>Not Recovered Yet</td>\n",
       "      <td>Not Recovered Yet</td>\n",
       "      <td>Not Recovered Yet</td>\n",
       "      <td>Not Recovered Yet</td>\n",
       "      <td>Not Recovered Yet</td>\n",
       "    </tr>\n",
       "    <tr>\n",
       "      <th>expected_shortfall</th>\n",
       "      <td>-5.00</td>\n",
       "      <td>-6.28</td>\n",
       "      <td>-6.60</td>\n",
       "      <td>-6.15</td>\n",
       "      <td>-6.89</td>\n",
       "      <td>-7.25</td>\n",
       "      <td>-14.66</td>\n",
       "      <td>-14.39</td>\n",
       "      <td>-12.98</td>\n",
       "      <td>-18.85</td>\n",
       "      <td>-17.85</td>\n",
       "      <td>-17.85</td>\n",
       "      <td>-17.85</td>\n",
       "    </tr>\n",
       "    <tr>\n",
       "      <th>best_month</th>\n",
       "      <td>8.75</td>\n",
       "      <td>12.09</td>\n",
       "      <td>11.04</td>\n",
       "      <td>10.05</td>\n",
       "      <td>10.05</td>\n",
       "      <td>12.88</td>\n",
       "      <td>17.14</td>\n",
       "      <td>17.02</td>\n",
       "      <td>17.23</td>\n",
       "      <td>17.33</td>\n",
       "      <td>18.78</td>\n",
       "      <td>18.68</td>\n",
       "      <td>18.59</td>\n",
       "    </tr>\n",
       "    <tr>\n",
       "      <th>worst_month</th>\n",
       "      <td>-13.74</td>\n",
       "      <td>-15.62</td>\n",
       "      <td>-15.29</td>\n",
       "      <td>-13.55</td>\n",
       "      <td>-13.53</td>\n",
       "      <td>-13.54</td>\n",
       "      <td>-31.37</td>\n",
       "      <td>-31.23</td>\n",
       "      <td>-30.70</td>\n",
       "      <td>-30.81</td>\n",
       "      <td>-30.83</td>\n",
       "      <td>-30.72</td>\n",
       "      <td>-30.62</td>\n",
       "    </tr>\n",
       "    <tr>\n",
       "      <th>sharpe_ratio</th>\n",
       "      <td>0.44</td>\n",
       "      <td>0.58</td>\n",
       "      <td>0.69</td>\n",
       "      <td>0.67</td>\n",
       "      <td>0.74</td>\n",
       "      <td>0.75</td>\n",
       "      <td>0.64</td>\n",
       "      <td>0.62</td>\n",
       "      <td>0.60</td>\n",
       "      <td>0.64</td>\n",
       "      <td>0.60</td>\n",
       "      <td>0.55</td>\n",
       "      <td>0.49</td>\n",
       "    </tr>\n",
       "    <tr>\n",
       "      <th>sortino_ratio</th>\n",
       "      <td>0.31</td>\n",
       "      <td>0.41</td>\n",
       "      <td>0.50</td>\n",
       "      <td>0.48</td>\n",
       "      <td>0.54</td>\n",
       "      <td>0.55</td>\n",
       "      <td>0.43</td>\n",
       "      <td>0.41</td>\n",
       "      <td>0.40</td>\n",
       "      <td>0.42</td>\n",
       "      <td>0.39</td>\n",
       "      <td>0.36</td>\n",
       "      <td>0.32</td>\n",
       "    </tr>\n",
       "    <tr>\n",
       "      <th>monthly_std</th>\n",
       "      <td>2.13</td>\n",
       "      <td>2.13</td>\n",
       "      <td>1.99</td>\n",
       "      <td>1.97</td>\n",
       "      <td>1.99</td>\n",
       "      <td>2.11</td>\n",
       "      <td>2.45</td>\n",
       "      <td>2.38</td>\n",
       "      <td>2.31</td>\n",
       "      <td>2.32</td>\n",
       "      <td>2.37</td>\n",
       "      <td>2.41</td>\n",
       "      <td>2.33</td>\n",
       "    </tr>\n",
       "    <tr>\n",
       "      <th>pct_time_in_market</th>\n",
       "      <td>33.80</td>\n",
       "      <td>31.47</td>\n",
       "      <td>30.86</td>\n",
       "      <td>29.92</td>\n",
       "      <td>29.33</td>\n",
       "      <td>29.70</td>\n",
       "      <td>29.40</td>\n",
       "      <td>28.01</td>\n",
       "      <td>28.17</td>\n",
       "      <td>27.90</td>\n",
       "      <td>27.72</td>\n",
       "      <td>27.81</td>\n",
       "      <td>26.90</td>\n",
       "    </tr>\n",
       "    <tr>\n",
       "      <th>total_num_trades</th>\n",
       "      <td>1324</td>\n",
       "      <td>748.00</td>\n",
       "      <td>512.00</td>\n",
       "      <td>396.00</td>\n",
       "      <td>331.00</td>\n",
       "      <td>272.00</td>\n",
       "      <td>239</td>\n",
       "      <td>201</td>\n",
       "      <td>182</td>\n",
       "      <td>164</td>\n",
       "      <td>150</td>\n",
       "      <td>136</td>\n",
       "      <td>123</td>\n",
       "    </tr>\n",
       "    <tr>\n",
       "      <th>pct_profitable_trades</th>\n",
       "      <td>70.77</td>\n",
       "      <td>71.26</td>\n",
       "      <td>73.05</td>\n",
       "      <td>73.99</td>\n",
       "      <td>77.95</td>\n",
       "      <td>77.94</td>\n",
       "      <td>78.24</td>\n",
       "      <td>77.61</td>\n",
       "      <td>77.47</td>\n",
       "      <td>80.49</td>\n",
       "      <td>80.67</td>\n",
       "      <td>81.62</td>\n",
       "      <td>82.11</td>\n",
       "    </tr>\n",
       "    <tr>\n",
       "      <th>avg_points</th>\n",
       "      <td>0.12</td>\n",
       "      <td>0.29</td>\n",
       "      <td>0.48</td>\n",
       "      <td>0.59</td>\n",
       "      <td>0.77</td>\n",
       "      <td>0.94</td>\n",
       "      <td>0.89</td>\n",
       "      <td>1.07</td>\n",
       "      <td>1.22</td>\n",
       "      <td>1.50</td>\n",
       "      <td>1.49</td>\n",
       "      <td>1.56</td>\n",
       "      <td>1.58</td>\n",
       "    </tr>\n",
       "  </tbody>\n",
       "</table>\n",
       "</div>"
      ],
      "text/plain": [
       "                                                     2       3      4      5  \\\n",
       "annual_return_rate                                3.70    5.27   6.42   6.16   \n",
       "max_closed_out_drawdown                         -18.97  -16.99 -15.78 -14.04   \n",
       "annualized_return_over_max_drawdown               0.20    0.31   0.41   0.44   \n",
       "drawdown_recovery_period             Not Recovered Yet 1126.00 521.00 497.00   \n",
       "expected_shortfall                               -5.00   -6.28  -6.60  -6.15   \n",
       "best_month                                        8.75   12.09  11.04  10.05   \n",
       "worst_month                                     -13.74  -15.62 -15.29 -13.55   \n",
       "sharpe_ratio                                      0.44    0.58   0.69   0.67   \n",
       "sortino_ratio                                     0.31    0.41   0.50   0.48   \n",
       "monthly_std                                       2.13    2.13   1.99   1.97   \n",
       "pct_time_in_market                               33.80   31.47  30.86  29.92   \n",
       "total_num_trades                                  1324  748.00 512.00 396.00   \n",
       "pct_profitable_trades                            70.77   71.26  73.05  73.99   \n",
       "avg_points                                        0.12    0.29   0.48   0.59   \n",
       "\n",
       "                                         6      7                  8  \\\n",
       "annual_return_rate                    6.98   7.19               6.60   \n",
       "max_closed_out_drawdown             -14.02 -14.63             -33.12   \n",
       "annualized_return_over_max_drawdown   0.50   0.49               0.20   \n",
       "drawdown_recovery_period            395.00 583.00  Not Recovered Yet   \n",
       "expected_shortfall                   -6.89  -7.25             -14.66   \n",
       "best_month                           10.05  12.88              17.14   \n",
       "worst_month                         -13.53 -13.54             -31.37   \n",
       "sharpe_ratio                          0.74   0.75               0.64   \n",
       "sortino_ratio                         0.54   0.55               0.43   \n",
       "monthly_std                           1.99   2.11               2.45   \n",
       "pct_time_in_market                   29.33  29.70              29.40   \n",
       "total_num_trades                    331.00 272.00                239   \n",
       "pct_profitable_trades                77.95  77.94              78.24   \n",
       "avg_points                            0.77   0.94               0.89   \n",
       "\n",
       "                                                     9                 10  \\\n",
       "annual_return_rate                                6.22               6.03   \n",
       "max_closed_out_drawdown                         -32.97             -30.70   \n",
       "annualized_return_over_max_drawdown               0.19               0.20   \n",
       "drawdown_recovery_period             Not Recovered Yet  Not Recovered Yet   \n",
       "expected_shortfall                              -14.39             -12.98   \n",
       "best_month                                       17.02              17.23   \n",
       "worst_month                                     -31.23             -30.70   \n",
       "sharpe_ratio                                      0.62               0.60   \n",
       "sortino_ratio                                     0.41               0.40   \n",
       "monthly_std                                       2.38               2.31   \n",
       "pct_time_in_market                               28.01              28.17   \n",
       "total_num_trades                                   201                182   \n",
       "pct_profitable_trades                            77.61              77.47   \n",
       "avg_points                                        1.07               1.22   \n",
       "\n",
       "                                                    11                 12  \\\n",
       "annual_return_rate                                6.54               6.16   \n",
       "max_closed_out_drawdown                         -30.81             -30.83   \n",
       "annualized_return_over_max_drawdown               0.21               0.20   \n",
       "drawdown_recovery_period             Not Recovered Yet  Not Recovered Yet   \n",
       "expected_shortfall                              -18.85             -17.85   \n",
       "best_month                                       17.33              18.78   \n",
       "worst_month                                     -30.81             -30.83   \n",
       "sharpe_ratio                                      0.64               0.60   \n",
       "sortino_ratio                                     0.42               0.39   \n",
       "monthly_std                                       2.32               2.37   \n",
       "pct_time_in_market                               27.90              27.72   \n",
       "total_num_trades                                   164                150   \n",
       "pct_profitable_trades                            80.49              80.67   \n",
       "avg_points                                        1.50               1.49   \n",
       "\n",
       "                                                    13                 14  \n",
       "annual_return_rate                                5.68               4.98  \n",
       "max_closed_out_drawdown                         -30.72             -30.62  \n",
       "annualized_return_over_max_drawdown               0.18               0.16  \n",
       "drawdown_recovery_period             Not Recovered Yet  Not Recovered Yet  \n",
       "expected_shortfall                              -17.85             -17.85  \n",
       "best_month                                       18.68              18.59  \n",
       "worst_month                                     -30.72             -30.62  \n",
       "sharpe_ratio                                      0.55               0.49  \n",
       "sortino_ratio                                     0.36               0.32  \n",
       "monthly_std                                       2.41               2.33  \n",
       "pct_time_in_market                               27.81              26.90  \n",
       "total_num_trades                                   136                123  \n",
       "pct_profitable_trades                            81.62              82.11  \n",
       "avg_points                                        1.56               1.58  "
      ]
     },
     "execution_count": 7,
     "metadata": {},
     "output_type": "execute_result"
    }
   ],
   "source": [
    "metrics = ('annual_return_rate',\n",
    "           'max_closed_out_drawdown',\n",
    "           'annualized_return_over_max_drawdown',\n",
    "           'drawdown_recovery_period',\n",
    "           'expected_shortfall',\n",
    "           'best_month',\n",
    "           'worst_month',\n",
    "           'sharpe_ratio',\n",
    "           'sortino_ratio',\n",
    "           'monthly_std',\n",
    "           'pct_time_in_market',\n",
    "           'total_num_trades',\n",
    "           'pct_profitable_trades',\n",
    "           'avg_points')\n",
    "\n",
    "df = pf.optimizer_summary(strategies, metrics)\n",
    "df"
   ]
  },
  {
   "cell_type": "markdown",
   "metadata": {},
   "source": [
    "Bar graphs"
   ]
  },
  {
   "cell_type": "code",
   "execution_count": 8,
   "metadata": {
    "ExecuteTime": {
     "end_time": "2020-02-16T23:38:01.070791Z",
     "start_time": "2020-02-16T23:38:00.325317Z"
    }
   },
   "outputs": [
    {
     "data": {
      "image/png": "[encoded data removed]",
      "text/plain": [
       "<Figure size 720x504 with 1 Axes>"
      ]
     },
     "metadata": {
      "needs_background": "light"
     },
     "output_type": "display_data"
    },
    {
     "data": {
      "image/png": "[encoded data removed]",
      "text/plain": [
       "<Figure size 720x504 with 1 Axes>"
      ]
     },
     "metadata": {
      "needs_background": "light"
     },
     "output_type": "display_data"
    },
    {
     "data": {
      "image/png": "[encoded data removed]",
      "text/plain": [
       "<Figure size 720x504 with 1 Axes>"
      ]
     },
     "metadata": {
      "needs_background": "light"
     },
     "output_type": "display_data"
    }
   ],
   "source": [
    "pf.optimizer_plot_bar_graph(df, 'annual_return_rate')\n",
    "pf.optimizer_plot_bar_graph(df, 'sharpe_ratio')\n",
    "pf.optimizer_plot_bar_graph(df, 'max_closed_out_drawdown')"
   ]
  },
  {
   "cell_type": "markdown",
   "metadata": {},
   "source": [
    "Run Benchmark"
   ]
  },
  {
   "cell_type": "code",
   "execution_count": 9,
   "metadata": {
    "ExecuteTime": {
     "end_time": "2020-02-16T23:38:02.043753Z",
     "start_time": "2020-02-16T23:38:01.078320Z"
    }
   },
   "outputs": [],
   "source": [
    "s = strategies[Xs[0]]\n",
    "benchmark = pf.Benchmark(symbol, capital, s.start, s.end)\n",
    "benchmark.run()"
   ]
  },
  {
   "cell_type": "markdown",
   "metadata": {},
   "source": [
    "Equity curve"
   ]
  },
  {
   "cell_type": "code",
   "execution_count": 10,
   "metadata": {
    "ExecuteTime": {
     "end_time": "2020-02-16T23:38:02.321132Z",
     "start_time": "2020-02-16T23:38:02.056495Z"
    },
    "scrolled": false
   },
   "outputs": [
    {
     "data": {
      "image/png": "[encoded data removed]",
      "text/plain": [
       "<Figure size 720x504 with 1 Axes>"
      ]
     },
     "metadata": {
      "needs_background": "light"
     },
     "output_type": "display_data"
    }
   ],
   "source": [
    "if   optimize_period: Y = '7'\n",
    "elif optimize_sma:    Y = '70'\n",
    "elif optimize_pct:    Y = '15'\n",
    "elif optimize_margin: Y = '20'\n",
    "\n",
    "pf.plot_equity_curve(strategies[Y].dbal, benchmark=benchmark.dbal)"
   ]
  },
  {
   "cell_type": "code",
   "execution_count": null,
   "metadata": {},
   "outputs": [],
   "source": []
  }
 ],
 "metadata": {
  "kernelspec": {
   "display_name": "Python 3",
   "language": "python",
   "name": "python3"
  },
  "language_info": {
   "codemirror_mode": {
    "name": "ipython",
    "version": 3
   },
   "file_extension": ".py",
   "mimetype": "text/x-python",
   "name": "python",
   "nbconvert_exporter": "python",
   "pygments_lexer": "ipython3",
   "version": "3.8.5"
  },
  "latex_envs": {
   "LaTeX_envs_menu_present": true,
   "autoclose": false,
   "autocomplete": true,
   "bibliofile": "biblio.bib",
   "cite_by": "apalike",
   "current_citInitial": 1,
   "eqLabelWithNumbers": true,
   "eqNumInitial": 1,
   "hotkeys": {
    "equation": "Ctrl-E",
    "itemize": "Ctrl-I"
   },
   "labels_anchors": false,
   "latex_user_defs": false,
   "report_style_numbering": false,
   "user_envs_cfg": false
  }
 },
 "nbformat": 4,
 "nbformat_minor": 1
}
