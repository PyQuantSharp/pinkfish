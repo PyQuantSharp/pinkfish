{
 "cells": [
  {
   "cell_type": "markdown",
   "metadata": {},
   "source": [
    "# Global Equities Momentum (GEM)\n",
    "\n",
    "Gary Antonacci’s Dual Momentum approach is simple: by combining both relative momentum and absolute momentum (i.e. trend following), Dual Momentum seeks to rotate into areas of relative strength while preserving the flexibility to shift entirely to safety assets (e.g. short-term U.S. Treasury bills) during periods of pervasive, negative trends.\n",
    "\n",
    "https://blog.thinknewfound.com/2019/01/fragility-case-study-dual-momentum-gem/  \n",
    "https://seekingalpha.com/article/4010394-prospecting-dual-momentum-gem\n",
    "\n",
    "\n",
    "![](GEM-rules2.png)"
   ]
  },
  {
   "cell_type": "code",
   "execution_count": 1,
   "metadata": {
    "ExecuteTime": {
     "end_time": "2020-02-17T05:42:08.798393Z",
     "start_time": "2020-02-17T05:42:07.455687Z"
    }
   },
   "outputs": [],
   "source": [
    "import pandas as pd\n",
    "import matplotlib.pyplot as plt\n",
    "import datetime\n",
    "from talib.abstract import *\n",
    "\n",
    "import pinkfish as pf\n",
    "import strategy\n",
    "\n",
    "# format price data\n",
    "pd.options.display.float_format = '{:0.2f}'.format\n",
    "\n",
    "%matplotlib inline"
   ]
  },
  {
   "cell_type": "code",
   "execution_count": 2,
   "metadata": {
    "ExecuteTime": {
     "end_time": "2020-02-17T05:42:08.816893Z",
     "start_time": "2020-02-17T05:42:08.808607Z"
    }
   },
   "outputs": [],
   "source": [
    "# set size of inline plots\n",
    "'''note: rcParams can't be in same cell as import matplotlib\n",
    "   or %matplotlib inline\n",
    "   \n",
    "   %matplotlib notebook: will lead to interactive plots embedded within\n",
    "   the notebook, you can zoom and resize the figure\n",
    "   \n",
    "   %matplotlib inline: only draw static images in the notebook\n",
    "'''\n",
    "plt.rcParams[\"figure.figsize\"] = (10, 7)"
   ]
  },
  {
   "cell_type": "markdown",
   "metadata": {},
   "source": [
    "Some global data"
   ]
  },
  {
   "cell_type": "code",
   "execution_count": 3,
   "metadata": {
    "ExecuteTime": {
     "end_time": "2020-02-17T05:42:08.835362Z",
     "start_time": "2020-02-17T05:42:08.821138Z"
    }
   },
   "outputs": [],
   "source": [
    "symbols = {'SP500' : 'SPY',  'BONDS' : 'AGG', 'EXUS' : 'EFA', 'T-BILL': 'BIL'}\n",
    "\n",
    "capital = 10000\n",
    "start = datetime.datetime(1900, 1, 1)\n",
    "#start = datetime.datetime.strptime(pf.SP500_BEGIN, '%Y-%m-%d')\n",
    "end = datetime.datetime.now()\n",
    "#end = datetime.datetime(2020, 1, 1)\n",
    "# num months lookback\n",
    "lookback = 12\n",
    "\n",
    "use_cache = False"
   ]
  },
  {
   "cell_type": "markdown",
   "metadata": {},
   "source": [
    "Run Strategy"
   ]
  },
  {
   "cell_type": "code",
   "execution_count": 4,
   "metadata": {
    "scrolled": false
   },
   "outputs": [],
   "source": [
    "s = strategy.Strategy(symbols, capital, start, end, lookback=lookback, margin=1,\n",
    "                      use_cache=use_cache, use_absolute_mom=False)\n",
    "s.run()"
   ]
  },
  {
   "cell_type": "markdown",
   "metadata": {},
   "source": [
    "Retrieve log DataFrames"
   ]
  },
  {
   "cell_type": "code",
   "execution_count": 5,
   "metadata": {},
   "outputs": [],
   "source": [
    "rlog, tlog, dbal = s.get_logs()\n",
    "stats = s.get_stats()"
   ]
  },
  {
   "cell_type": "code",
   "execution_count": 6,
   "metadata": {},
   "outputs": [
    {
     "data": {
      "text/html": [
       "<div>\n",
       "<style scoped>\n",
       "    .dataframe tbody tr th:only-of-type {\n",
       "        vertical-align: middle;\n",
       "    }\n",
       "\n",
       "    .dataframe tbody tr th {\n",
       "        vertical-align: top;\n",
       "    }\n",
       "\n",
       "    .dataframe thead th {\n",
       "        text-align: right;\n",
       "    }\n",
       "</style>\n",
       "<table border=\"1\" class=\"dataframe\">\n",
       "  <thead>\n",
       "    <tr style=\"text-align: right;\">\n",
       "      <th></th>\n",
       "      <th>date</th>\n",
       "      <th>seq_num</th>\n",
       "      <th>price</th>\n",
       "      <th>shares</th>\n",
       "      <th>entry_exit</th>\n",
       "      <th>direction</th>\n",
       "      <th>symbol</th>\n",
       "    </tr>\n",
       "  </thead>\n",
       "  <tbody>\n",
       "    <tr>\n",
       "      <th>0</th>\n",
       "      <td>2008-11-03</td>\n",
       "      <td>0</td>\n",
       "      <td>67.08</td>\n",
       "      <td>149</td>\n",
       "      <td>entry</td>\n",
       "      <td>LONG</td>\n",
       "      <td>AGG</td>\n",
       "    </tr>\n",
       "    <tr>\n",
       "      <th>1</th>\n",
       "      <td>2009-10-01</td>\n",
       "      <td>1</td>\n",
       "      <td>77.62</td>\n",
       "      <td>149</td>\n",
       "      <td>exit</td>\n",
       "      <td>LONG</td>\n",
       "      <td>AGG</td>\n",
       "    </tr>\n",
       "    <tr>\n",
       "      <th>2</th>\n",
       "      <td>2009-10-01</td>\n",
       "      <td>2</td>\n",
       "      <td>38.54</td>\n",
       "      <td>300</td>\n",
       "      <td>entry</td>\n",
       "      <td>LONG</td>\n",
       "      <td>EFA</td>\n",
       "    </tr>\n",
       "    <tr>\n",
       "      <th>3</th>\n",
       "      <td>2010-05-03</td>\n",
       "      <td>3</td>\n",
       "      <td>40.02</td>\n",
       "      <td>300</td>\n",
       "      <td>exit</td>\n",
       "      <td>LONG</td>\n",
       "      <td>EFA</td>\n",
       "    </tr>\n",
       "    <tr>\n",
       "      <th>4</th>\n",
       "      <td>2010-05-03</td>\n",
       "      <td>4</td>\n",
       "      <td>97.54</td>\n",
       "      <td>123</td>\n",
       "      <td>entry</td>\n",
       "      <td>LONG</td>\n",
       "      <td>SPY</td>\n",
       "    </tr>\n",
       "  </tbody>\n",
       "</table>\n",
       "</div>"
      ],
      "text/plain": [
       "        date seq_num  price shares entry_exit direction symbol\n",
       "0 2008-11-03       0  67.08    149      entry      LONG    AGG\n",
       "1 2009-10-01       1  77.62    149       exit      LONG    AGG\n",
       "2 2009-10-01       2  38.54    300      entry      LONG    EFA\n",
       "3 2010-05-03       3  40.02    300       exit      LONG    EFA\n",
       "4 2010-05-03       4  97.54    123      entry      LONG    SPY"
      ]
     },
     "execution_count": 6,
     "metadata": {},
     "output_type": "execute_result"
    }
   ],
   "source": [
    "rlog.head()"
   ]
  },
  {
   "cell_type": "code",
   "execution_count": 7,
   "metadata": {},
   "outputs": [
    {
     "data": {
      "text/html": [
       "<div>\n",
       "<style scoped>\n",
       "    .dataframe tbody tr th:only-of-type {\n",
       "        vertical-align: middle;\n",
       "    }\n",
       "\n",
       "    .dataframe tbody tr th {\n",
       "        vertical-align: top;\n",
       "    }\n",
       "\n",
       "    .dataframe thead th {\n",
       "        text-align: right;\n",
       "    }\n",
       "</style>\n",
       "<table border=\"1\" class=\"dataframe\">\n",
       "  <thead>\n",
       "    <tr style=\"text-align: right;\">\n",
       "      <th></th>\n",
       "      <th>entry_date</th>\n",
       "      <th>entry_price</th>\n",
       "      <th>exit_date</th>\n",
       "      <th>exit_price</th>\n",
       "      <th>pl_points</th>\n",
       "      <th>pl_cash</th>\n",
       "      <th>qty</th>\n",
       "      <th>cumul_total</th>\n",
       "      <th>direction</th>\n",
       "      <th>symbol</th>\n",
       "    </tr>\n",
       "  </thead>\n",
       "  <tbody>\n",
       "    <tr>\n",
       "      <th>27</th>\n",
       "      <td>2019-07-01</td>\n",
       "      <td>288.72</td>\n",
       "      <td>2019-09-03</td>\n",
       "      <td>283.91</td>\n",
       "      <td>-4.80</td>\n",
       "      <td>-360.34</td>\n",
       "      <td>75</td>\n",
       "      <td>11476.05</td>\n",
       "      <td>LONG</td>\n",
       "      <td>SPY</td>\n",
       "    </tr>\n",
       "    <tr>\n",
       "      <th>28</th>\n",
       "      <td>2019-09-03</td>\n",
       "      <td>110.97</td>\n",
       "      <td>2019-10-01</td>\n",
       "      <td>110.52</td>\n",
       "      <td>-0.45</td>\n",
       "      <td>-87.40</td>\n",
       "      <td>193</td>\n",
       "      <td>11388.65</td>\n",
       "      <td>LONG</td>\n",
       "      <td>AGG</td>\n",
       "    </tr>\n",
       "    <tr>\n",
       "      <th>29</th>\n",
       "      <td>2019-10-01</td>\n",
       "      <td>287.68</td>\n",
       "      <td>2020-04-01</td>\n",
       "      <td>244.09</td>\n",
       "      <td>-43.58</td>\n",
       "      <td>-3225.10</td>\n",
       "      <td>74</td>\n",
       "      <td>8163.55</td>\n",
       "      <td>LONG</td>\n",
       "      <td>SPY</td>\n",
       "    </tr>\n",
       "    <tr>\n",
       "      <th>30</th>\n",
       "      <td>2020-04-01</td>\n",
       "      <td>113.50</td>\n",
       "      <td>2020-05-01</td>\n",
       "      <td>115.85</td>\n",
       "      <td>2.35</td>\n",
       "      <td>376.07</td>\n",
       "      <td>160</td>\n",
       "      <td>8539.62</td>\n",
       "      <td>LONG</td>\n",
       "      <td>AGG</td>\n",
       "    </tr>\n",
       "    <tr>\n",
       "      <th>31</th>\n",
       "      <td>2020-05-01</td>\n",
       "      <td>280.43</td>\n",
       "      <td>2020-10-09</td>\n",
       "      <td>346.99</td>\n",
       "      <td>66.56</td>\n",
       "      <td>4393.06</td>\n",
       "      <td>66</td>\n",
       "      <td>12932.68</td>\n",
       "      <td>LONG</td>\n",
       "      <td>SPY</td>\n",
       "    </tr>\n",
       "  </tbody>\n",
       "</table>\n",
       "</div>"
      ],
      "text/plain": [
       "   entry_date  entry_price  exit_date  exit_price  pl_points  pl_cash  qty  \\\n",
       "27 2019-07-01       288.72 2019-09-03      283.91      -4.80  -360.34   75   \n",
       "28 2019-09-03       110.97 2019-10-01      110.52      -0.45   -87.40  193   \n",
       "29 2019-10-01       287.68 2020-04-01      244.09     -43.58 -3225.10   74   \n",
       "30 2020-04-01       113.50 2020-05-01      115.85       2.35   376.07  160   \n",
       "31 2020-05-01       280.43 2020-10-09      346.99      66.56  4393.06   66   \n",
       "\n",
       "    cumul_total direction symbol  \n",
       "27     11476.05      LONG    SPY  \n",
       "28     11388.65      LONG    AGG  \n",
       "29      8163.55      LONG    SPY  \n",
       "30      8539.62      LONG    AGG  \n",
       "31     12932.68      LONG    SPY  "
      ]
     },
     "execution_count": 7,
     "metadata": {},
     "output_type": "execute_result"
    }
   ],
   "source": [
    "tlog.tail()"
   ]
  },
  {
   "cell_type": "code",
   "execution_count": 8,
   "metadata": {
    "scrolled": true
   },
   "outputs": [
    {
     "data": {
      "text/html": [
       "<div>\n",
       "<style scoped>\n",
       "    .dataframe tbody tr th:only-of-type {\n",
       "        vertical-align: middle;\n",
       "    }\n",
       "\n",
       "    .dataframe tbody tr th {\n",
       "        vertical-align: top;\n",
       "    }\n",
       "\n",
       "    .dataframe thead th {\n",
       "        text-align: right;\n",
       "    }\n",
       "</style>\n",
       "<table border=\"1\" class=\"dataframe\">\n",
       "  <thead>\n",
       "    <tr style=\"text-align: right;\">\n",
       "      <th></th>\n",
       "      <th>high</th>\n",
       "      <th>low</th>\n",
       "      <th>close</th>\n",
       "      <th>shares</th>\n",
       "      <th>cash</th>\n",
       "      <th>leverage</th>\n",
       "      <th>state</th>\n",
       "    </tr>\n",
       "    <tr>\n",
       "      <th>date</th>\n",
       "      <th></th>\n",
       "      <th></th>\n",
       "      <th></th>\n",
       "      <th></th>\n",
       "      <th></th>\n",
       "      <th></th>\n",
       "      <th></th>\n",
       "    </tr>\n",
       "  </thead>\n",
       "  <tbody>\n",
       "    <tr>\n",
       "      <th>2020-10-05</th>\n",
       "      <td>22455.50</td>\n",
       "      <td>22455.50</td>\n",
       "      <td>22455.50</td>\n",
       "      <td>66</td>\n",
       "      <td>31.34</td>\n",
       "      <td>1.00</td>\n",
       "      <td>-</td>\n",
       "    </tr>\n",
       "    <tr>\n",
       "      <th>2020-10-06</th>\n",
       "      <td>22136.72</td>\n",
       "      <td>22136.72</td>\n",
       "      <td>22136.72</td>\n",
       "      <td>66</td>\n",
       "      <td>31.34</td>\n",
       "      <td>1.00</td>\n",
       "      <td>-</td>\n",
       "    </tr>\n",
       "    <tr>\n",
       "      <th>2020-10-07</th>\n",
       "      <td>22521.50</td>\n",
       "      <td>22521.50</td>\n",
       "      <td>22521.50</td>\n",
       "      <td>66</td>\n",
       "      <td>31.34</td>\n",
       "      <td>1.00</td>\n",
       "      <td>-</td>\n",
       "    </tr>\n",
       "    <tr>\n",
       "      <th>2020-10-08</th>\n",
       "      <td>22720.82</td>\n",
       "      <td>22720.82</td>\n",
       "      <td>22720.82</td>\n",
       "      <td>66</td>\n",
       "      <td>31.34</td>\n",
       "      <td>1.00</td>\n",
       "      <td>-</td>\n",
       "    </tr>\n",
       "    <tr>\n",
       "      <th>2020-10-09</th>\n",
       "      <td>22932.68</td>\n",
       "      <td>22932.68</td>\n",
       "      <td>22932.68</td>\n",
       "      <td>0</td>\n",
       "      <td>22932.68</td>\n",
       "      <td>1.00</td>\n",
       "      <td>X</td>\n",
       "    </tr>\n",
       "  </tbody>\n",
       "</table>\n",
       "</div>"
      ],
      "text/plain": [
       "               high      low    close  shares     cash  leverage state\n",
       "date                                                                  \n",
       "2020-10-05 22455.50 22455.50 22455.50      66    31.34      1.00     -\n",
       "2020-10-06 22136.72 22136.72 22136.72      66    31.34      1.00     -\n",
       "2020-10-07 22521.50 22521.50 22521.50      66    31.34      1.00     -\n",
       "2020-10-08 22720.82 22720.82 22720.82      66    31.34      1.00     -\n",
       "2020-10-09 22932.68 22932.68 22932.68       0 22932.68      1.00     X"
      ]
     },
     "execution_count": 8,
     "metadata": {},
     "output_type": "execute_result"
    }
   ],
   "source": [
    "dbal.tail()"
   ]
  },
  {
   "cell_type": "markdown",
   "metadata": {},
   "source": [
    "Generate strategy stats - display all available stats"
   ]
  },
  {
   "cell_type": "code",
   "execution_count": 9,
   "metadata": {},
   "outputs": [
    {
     "name": "stdout",
     "output_type": "stream",
     "text": [
      "start                                                   2008-10-30\n",
      "end                                                     2020-10-09\n",
      "beginning_balance                                            10000\n",
      "ending_balance                                            22932.68\n",
      "total_net_profit                                          12932.68\n",
      "gross_profit                                              22090.44\n",
      "gross_loss                                                -9157.75\n",
      "profit_factor                                                 2.41\n",
      "return_on_initial_capital                                   129.33\n",
      "annual_return_rate                                            7.20\n",
      "trading_period                           11 years 11 months 9 days\n",
      "pct_time_in_market                                           99.93\n",
      "margin                                                           1\n",
      "avg_leverage                                                  1.00\n",
      "max_leverage                                                  1.00\n",
      "min_leverage                                                  1.00\n",
      "total_num_trades                                                32\n",
      "trades_per_year                                               2.68\n",
      "num_winning_trades                                              22\n",
      "num_losing_trades                                               10\n",
      "num_even_trades                                                  0\n",
      "pct_profitable_trades                                        68.75\n",
      "avg_profit_per_trade                                        404.15\n",
      "avg_profit_per_winning_trade                               1004.11\n",
      "avg_loss_per_losing_trade                                  -915.78\n",
      "ratio_avg_profit_win_loss                                     1.10\n",
      "largest_profit_winning_trade                               4393.06\n",
      "largest_loss_losing_trade                                 -3225.10\n",
      "num_winning_points                                          201.54\n",
      "num_losing_points                                          -110.72\n",
      "total_net_points                                             90.83\n",
      "avg_points                                                    2.84\n",
      "largest_points_winning_trade                                 66.56\n",
      "largest_points_losing_trade                                 -43.58\n",
      "avg_pct_gain_per_trade                                        2.55\n",
      "largest_pct_winning_trade                                    23.74\n",
      "largest_pct_losing_trade                                    -17.49\n",
      "max_consecutive_winning_trades                                  10\n",
      "max_consecutive_losing_trades                                    3\n",
      "avg_bars_winning_trades                                     110.59\n",
      "avg_bars_losing_trades                                       64.70\n",
      "max_closed_out_drawdown                                     -35.17\n",
      "max_closed_out_drawdown_start_date                      2018-09-20\n",
      "max_closed_out_drawdown_end_date                        2020-03-23\n",
      "max_closed_out_drawdown_recovery_date            Not Recovered Yet\n",
      "drawdown_recovery                                            -1.51\n",
      "drawdown_annualized_return                                   -4.89\n",
      "max_intra_day_drawdown                                      -35.17\n",
      "avg_yearly_closed_out_drawdown                              -12.42\n",
      "max_yearly_closed_out_drawdown                              -33.58\n",
      "avg_monthly_closed_out_drawdown                              -3.36\n",
      "max_monthly_closed_out_drawdown                             -30.86\n",
      "avg_weekly_closed_out_drawdown                               -1.32\n",
      "max_weekly_closed_out_drawdown                              -17.89\n",
      "avg_yearly_closed_out_runup                                  19.18\n",
      "max_yearly_closed_out_runup                                  43.04\n",
      "avg_monthly_closed_out_runup                                  3.98\n",
      "max_monthly_closed_out_runup                                 17.25\n",
      "avg_weekly_closed_out_runup                                   1.49\n",
      "max_weekly_closed_out_runup                                  17.25\n",
      "pct_profitable_years                                         69.29\n",
      "best_year                                                    31.24\n",
      "worst_year                                                  -25.19\n",
      "avg_year                                                      6.77\n",
      "annual_std                                                   10.48\n",
      "pct_profitable_months                                        65.25\n",
      "best_month                                                   12.66\n",
      "worst_month                                                 -30.86\n",
      "avg_month                                                     0.60\n",
      "monthly_std                                                   3.97\n",
      "pct_profitable_weeks                                         60.56\n",
      "best_week                                                    17.25\n",
      "worst_week                                                  -17.89\n",
      "avg_week                                                      0.16\n",
      "weekly_std                                                    2.11\n",
      "pct_profitable_days                                          54.69\n",
      "best_day                                                      9.00\n",
      "worst_day                                                   -10.89\n",
      "avg_day                                                       0.03\n",
      "daily_std                                                     1.02\n",
      "sharpe_ratio                                                  0.51\n",
      "sharpe_ratio_max                                              0.57\n",
      "sharpe_ratio_min                                              0.45\n",
      "sortino_ratio                                                 0.58\n",
      "dtype: object\n"
     ]
    }
   ],
   "source": [
    "pf.print_full(stats)"
   ]
  },
  {
   "cell_type": "markdown",
   "metadata": {},
   "source": [
    "Run Benchmark, Retrieve benchmark logs, and Generate benchmark stats"
   ]
  },
  {
   "cell_type": "code",
   "execution_count": 10,
   "metadata": {},
   "outputs": [
    {
     "name": "stdout",
     "output_type": "stream",
     "text": [
      "2008-10-30 00:00:00 BUY  132 SPY @ 75.36\n",
      "2020-10-09 00:00:00 SELL 132 SPY @ 346.99\n"
     ]
    }
   ],
   "source": [
    "benchmark = pf.Benchmark('SPY', capital, s.start, s.end, use_adj=True)\n",
    "benchmark.run()\n",
    "benchmark.tlog, benchmark.dbal = benchmark.get_logs()\n",
    "benchmark.stats = benchmark.get_stats()"
   ]
  },
  {
   "cell_type": "markdown",
   "metadata": {},
   "source": [
    "Plot Equity Curves: Strategy vs Benchmark"
   ]
  },
  {
   "cell_type": "code",
   "execution_count": 11,
   "metadata": {
    "scrolled": false
   },
   "outputs": [
    {
     "data": {
      "image/png": "[encoded data removed]",
      "text/plain": [
       "<Figure size 720x504 with 1 Axes>"
      ]
     },
     "metadata": {
      "needs_background": "light"
     },
     "output_type": "display_data"
    }
   ],
   "source": [
    "pf.plot_equity_curve(dbal, benchmark=benchmark.dbal)"
   ]
  },
  {
   "cell_type": "markdown",
   "metadata": {},
   "source": [
    "Plot Trades"
   ]
  },
  {
   "cell_type": "code",
   "execution_count": 12,
   "metadata": {},
   "outputs": [
    {
     "data": {
      "image/png": "[encoded data removed]",
      "text/plain": [
       "<Figure size 720x504 with 1 Axes>"
      ]
     },
     "metadata": {
      "needs_background": "light"
     },
     "output_type": "display_data"
    }
   ],
   "source": [
    "pf.plot_trades(dbal, benchmark=benchmark.dbal)"
   ]
  },
  {
   "cell_type": "markdown",
   "metadata": {},
   "source": [
    "Bar Graph: Strategy vs Benchmark"
   ]
  },
  {
   "cell_type": "code",
   "execution_count": 13,
   "metadata": {},
   "outputs": [
    {
     "data": {
      "text/html": [
       "<div>\n",
       "<style scoped>\n",
       "    .dataframe tbody tr th:only-of-type {\n",
       "        vertical-align: middle;\n",
       "    }\n",
       "\n",
       "    .dataframe tbody tr th {\n",
       "        vertical-align: top;\n",
       "    }\n",
       "\n",
       "    .dataframe thead th {\n",
       "        text-align: right;\n",
       "    }\n",
       "</style>\n",
       "<table border=\"1\" class=\"dataframe\">\n",
       "  <thead>\n",
       "    <tr style=\"text-align: right;\">\n",
       "      <th></th>\n",
       "      <th>strategy</th>\n",
       "      <th>benchmark</th>\n",
       "    </tr>\n",
       "  </thead>\n",
       "  <tbody>\n",
       "    <tr>\n",
       "      <th>annual_return_rate</th>\n",
       "      <td>7.20</td>\n",
       "      <td>13.60</td>\n",
       "    </tr>\n",
       "    <tr>\n",
       "      <th>max_closed_out_drawdown</th>\n",
       "      <td>-35.17</td>\n",
       "      <td>-33.68</td>\n",
       "    </tr>\n",
       "    <tr>\n",
       "      <th>drawdown_annualized_return</th>\n",
       "      <td>-4.89</td>\n",
       "      <td>-2.48</td>\n",
       "    </tr>\n",
       "    <tr>\n",
       "      <th>drawdown_recovery</th>\n",
       "      <td>-1.51</td>\n",
       "      <td>-0.09</td>\n",
       "    </tr>\n",
       "    <tr>\n",
       "      <th>best_month</th>\n",
       "      <td>12.66</td>\n",
       "      <td>23.45</td>\n",
       "    </tr>\n",
       "    <tr>\n",
       "      <th>worst_month</th>\n",
       "      <td>-30.86</td>\n",
       "      <td>-30.95</td>\n",
       "    </tr>\n",
       "    <tr>\n",
       "      <th>sharpe_ratio</th>\n",
       "      <td>0.51</td>\n",
       "      <td>0.76</td>\n",
       "    </tr>\n",
       "    <tr>\n",
       "      <th>sortino_ratio</th>\n",
       "      <td>0.58</td>\n",
       "      <td>0.89</td>\n",
       "    </tr>\n",
       "    <tr>\n",
       "      <th>monthly_std</th>\n",
       "      <td>3.97</td>\n",
       "      <td>4.52</td>\n",
       "    </tr>\n",
       "    <tr>\n",
       "      <th>annual_std</th>\n",
       "      <td>10.48</td>\n",
       "      <td>10.26</td>\n",
       "    </tr>\n",
       "  </tbody>\n",
       "</table>\n",
       "</div>"
      ],
      "text/plain": [
       "                            strategy  benchmark\n",
       "annual_return_rate              7.20      13.60\n",
       "max_closed_out_drawdown       -35.17     -33.68\n",
       "drawdown_annualized_return     -4.89      -2.48\n",
       "drawdown_recovery              -1.51      -0.09\n",
       "best_month                     12.66      23.45\n",
       "worst_month                   -30.86     -30.95\n",
       "sharpe_ratio                    0.51       0.76\n",
       "sortino_ratio                   0.58       0.89\n",
       "monthly_std                     3.97       4.52\n",
       "annual_std                     10.48      10.26"
      ]
     },
     "execution_count": 13,
     "metadata": {},
     "output_type": "execute_result"
    },
    {
     "data": {
      "image/png": "[encoded data removed]",
      "text/plain": [
       "<Figure size 720x504 with 1 Axes>"
      ]
     },
     "metadata": {
      "needs_background": "light"
     },
     "output_type": "display_data"
    }
   ],
   "source": [
    "df = pf.plot_bar_graph(stats, benchmark.stats)\n",
    "df"
   ]
  }
 ],
 "metadata": {
  "kernelspec": {
   "display_name": "Python 3",
   "language": "python",
   "name": "python3"
  },
  "language_info": {
   "codemirror_mode": {
    "name": "ipython",
    "version": 3
   },
   "file_extension": ".py",
   "mimetype": "text/x-python",
   "name": "python",
   "nbconvert_exporter": "python",
   "pygments_lexer": "ipython3",
   "version": "3.8.5"
  },
  "latex_envs": {
   "LaTeX_envs_menu_present": true,
   "autoclose": false,
   "autocomplete": true,
   "bibliofile": "biblio.bib",
   "cite_by": "apalike",
   "current_citInitial": 1,
   "eqLabelWithNumbers": true,
   "eqNumInitial": 1,
   "hotkeys": {
    "equation": "Ctrl-E",
    "itemize": "Ctrl-I"
   },
   "labels_anchors": false,
   "latex_user_defs": false,
   "report_style_numbering": false,
   "user_envs_cfg": false
  }
 },
 "nbformat": 4,
 "nbformat_minor": 1
}
