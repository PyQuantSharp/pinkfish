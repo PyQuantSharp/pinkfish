{
 "cells": [
  {
   "cell_type": "markdown",
   "metadata": {},
   "source": [
    "# Global Equities Momentum (GEM)\n",
    "\n",
    "Gary Antonacci’s Dual Momentum approach is simple: by combining both relative momentum and absolute momentum (i.e. trend following), Dual Momentum seeks to rotate into areas of relative strength while preserving the flexibility to shift entirely to safety assets (e.g. short-term U.S. Treasury bills) during periods of pervasive, negative trends.\n",
    "\n",
    "https://blog.thinknewfound.com/2019/01/fragility-case-study-dual-momentum-gem/  \n",
    "https://seekingalpha.com/article/4010394-prospecting-dual-momentum-gem\n",
    "\n",
    "\n",
    "![](GEM-rules2.png)"
   ]
  },
  {
   "cell_type": "code",
   "execution_count": 1,
   "metadata": {
    "ExecuteTime": {
     "end_time": "2020-02-17T05:42:08.798393Z",
     "start_time": "2020-02-17T05:42:07.455687Z"
    }
   },
   "outputs": [],
   "source": [
    "import pandas as pd\n",
    "import matplotlib.pyplot as plt\n",
    "import datetime\n",
    "from talib.abstract import *\n",
    "\n",
    "import pinkfish as pf\n",
    "import strategy\n",
    "\n",
    "# format price data\n",
    "pd.options.display.float_format = '{:0.2f}'.format\n",
    "\n",
    "%matplotlib inline"
   ]
  },
  {
   "cell_type": "code",
   "execution_count": 2,
   "metadata": {
    "ExecuteTime": {
     "end_time": "2020-02-17T05:42:08.816893Z",
     "start_time": "2020-02-17T05:42:08.808607Z"
    }
   },
   "outputs": [],
   "source": [
    "# set size of inline plots\n",
    "'''note: rcParams can't be in same cell as import matplotlib\n",
    "   or %matplotlib inline\n",
    "   \n",
    "   %matplotlib notebook: will lead to interactive plots embedded within\n",
    "   the notebook, you can zoom and resize the figure\n",
    "   \n",
    "   %matplotlib inline: only draw static images in the notebook\n",
    "'''\n",
    "plt.rcParams[\"figure.figsize\"] = (10, 7)"
   ]
  },
  {
   "cell_type": "markdown",
   "metadata": {},
   "source": [
    "Some global data"
   ]
  },
  {
   "cell_type": "code",
   "execution_count": 3,
   "metadata": {
    "ExecuteTime": {
     "end_time": "2020-02-17T05:42:08.835362Z",
     "start_time": "2020-02-17T05:42:08.821138Z"
    }
   },
   "outputs": [],
   "source": [
    "symbols = {'SP500' : 'SPY',  'BONDS' : 'AGG', 'EXUS' : 'EFA', 'T-BILL': 'BIL'}\n",
    "\n",
    "capital = 10000\n",
    "start = datetime.datetime(1900, 1, 1)\n",
    "#start = datetime.datetime.strptime(pf.SP500_BEGIN, '%Y-%m-%d')\n",
    "end = datetime.datetime.now()\n",
    "#end = datetime.datetime(2020, 1, 1)\n",
    "# num months lookback\n",
    "lookback = 12\n",
    "\n",
    "use_cache = False"
   ]
  },
  {
   "cell_type": "markdown",
   "metadata": {},
   "source": [
    "Run Strategy"
   ]
  },
  {
   "cell_type": "code",
   "execution_count": 4,
   "metadata": {
    "scrolled": false
   },
   "outputs": [],
   "source": [
    "s = strategy.Strategy(symbols, capital, start, end, lookback=lookback, margin=1,\n",
    "                      use_cache=use_cache, use_absolute_mom=False)\n",
    "s.run()"
   ]
  },
  {
   "cell_type": "markdown",
   "metadata": {},
   "source": [
    "Retrieve log DataFrames"
   ]
  },
  {
   "cell_type": "code",
   "execution_count": 5,
   "metadata": {},
   "outputs": [],
   "source": [
    "rlog, tlog, dbal = s.get_logs()\n",
    "stats = s.get_stats()"
   ]
  },
  {
   "cell_type": "code",
   "execution_count": 6,
   "metadata": {},
   "outputs": [
    {
     "data": {
      "text/html": [
       "<div>\n",
       "<style scoped>\n",
       "    .dataframe tbody tr th:only-of-type {\n",
       "        vertical-align: middle;\n",
       "    }\n",
       "\n",
       "    .dataframe tbody tr th {\n",
       "        vertical-align: top;\n",
       "    }\n",
       "\n",
       "    .dataframe thead th {\n",
       "        text-align: right;\n",
       "    }\n",
       "</style>\n",
       "<table border=\"1\" class=\"dataframe\">\n",
       "  <thead>\n",
       "    <tr style=\"text-align: right;\">\n",
       "      <th></th>\n",
       "      <th>date</th>\n",
       "      <th>seq_num</th>\n",
       "      <th>price</th>\n",
       "      <th>shares</th>\n",
       "      <th>entry_exit</th>\n",
       "      <th>direction</th>\n",
       "      <th>symbol</th>\n",
       "    </tr>\n",
       "  </thead>\n",
       "  <tbody>\n",
       "    <tr>\n",
       "      <th>0</th>\n",
       "      <td>2008-11-03</td>\n",
       "      <td>0</td>\n",
       "      <td>66.57</td>\n",
       "      <td>150</td>\n",
       "      <td>entry</td>\n",
       "      <td>LONG</td>\n",
       "      <td>AGG</td>\n",
       "    </tr>\n",
       "    <tr>\n",
       "      <th>1</th>\n",
       "      <td>2009-10-01</td>\n",
       "      <td>1</td>\n",
       "      <td>77.02</td>\n",
       "      <td>150</td>\n",
       "      <td>exit</td>\n",
       "      <td>LONG</td>\n",
       "      <td>AGG</td>\n",
       "    </tr>\n",
       "    <tr>\n",
       "      <th>2</th>\n",
       "      <td>2009-10-01</td>\n",
       "      <td>2</td>\n",
       "      <td>38.17</td>\n",
       "      <td>303</td>\n",
       "      <td>entry</td>\n",
       "      <td>LONG</td>\n",
       "      <td>EFA</td>\n",
       "    </tr>\n",
       "    <tr>\n",
       "      <th>3</th>\n",
       "      <td>2010-05-03</td>\n",
       "      <td>3</td>\n",
       "      <td>39.64</td>\n",
       "      <td>303</td>\n",
       "      <td>exit</td>\n",
       "      <td>LONG</td>\n",
       "      <td>EFA</td>\n",
       "    </tr>\n",
       "    <tr>\n",
       "      <th>4</th>\n",
       "      <td>2010-05-03</td>\n",
       "      <td>4</td>\n",
       "      <td>96.81</td>\n",
       "      <td>124</td>\n",
       "      <td>entry</td>\n",
       "      <td>LONG</td>\n",
       "      <td>SPY</td>\n",
       "    </tr>\n",
       "  </tbody>\n",
       "</table>\n",
       "</div>"
      ],
      "text/plain": [
       "        date seq_num  price shares entry_exit direction symbol\n",
       "0 2008-11-03       0  66.57    150      entry      LONG    AGG\n",
       "1 2009-10-01       1  77.02    150       exit      LONG    AGG\n",
       "2 2009-10-01       2  38.17    303      entry      LONG    EFA\n",
       "3 2010-05-03       3  39.64    303       exit      LONG    EFA\n",
       "4 2010-05-03       4  96.81    124      entry      LONG    SPY"
      ]
     },
     "execution_count": 6,
     "metadata": {},
     "output_type": "execute_result"
    }
   ],
   "source": [
    "rlog.head()"
   ]
  },
  {
   "cell_type": "code",
   "execution_count": 7,
   "metadata": {},
   "outputs": [
    {
     "data": {
      "text/html": [
       "<div>\n",
       "<style scoped>\n",
       "    .dataframe tbody tr th:only-of-type {\n",
       "        vertical-align: middle;\n",
       "    }\n",
       "\n",
       "    .dataframe tbody tr th {\n",
       "        vertical-align: top;\n",
       "    }\n",
       "\n",
       "    .dataframe thead th {\n",
       "        text-align: right;\n",
       "    }\n",
       "</style>\n",
       "<table border=\"1\" class=\"dataframe\">\n",
       "  <thead>\n",
       "    <tr style=\"text-align: right;\">\n",
       "      <th></th>\n",
       "      <th>entry_date</th>\n",
       "      <th>entry_price</th>\n",
       "      <th>exit_date</th>\n",
       "      <th>exit_price</th>\n",
       "      <th>pl_points</th>\n",
       "      <th>pl_cash</th>\n",
       "      <th>qty</th>\n",
       "      <th>cumul_total</th>\n",
       "      <th>direction</th>\n",
       "      <th>symbol</th>\n",
       "    </tr>\n",
       "  </thead>\n",
       "  <tbody>\n",
       "    <tr>\n",
       "      <th>26</th>\n",
       "      <td>2019-07-01</td>\n",
       "      <td>286.55</td>\n",
       "      <td>2019-09-03</td>\n",
       "      <td>281.79</td>\n",
       "      <td>-4.77</td>\n",
       "      <td>-362.41</td>\n",
       "      <td>76</td>\n",
       "      <td>11512.53</td>\n",
       "      <td>LONG</td>\n",
       "      <td>SPY</td>\n",
       "    </tr>\n",
       "    <tr>\n",
       "      <th>27</th>\n",
       "      <td>2019-09-03</td>\n",
       "      <td>110.12</td>\n",
       "      <td>2019-10-01</td>\n",
       "      <td>109.67</td>\n",
       "      <td>-0.45</td>\n",
       "      <td>-87.62</td>\n",
       "      <td>195</td>\n",
       "      <td>11424.90</td>\n",
       "      <td>LONG</td>\n",
       "      <td>AGG</td>\n",
       "    </tr>\n",
       "    <tr>\n",
       "      <th>28</th>\n",
       "      <td>2019-10-01</td>\n",
       "      <td>285.52</td>\n",
       "      <td>2020-04-01</td>\n",
       "      <td>242.26</td>\n",
       "      <td>-43.26</td>\n",
       "      <td>-3244.18</td>\n",
       "      <td>75</td>\n",
       "      <td>8180.72</td>\n",
       "      <td>LONG</td>\n",
       "      <td>SPY</td>\n",
       "    </tr>\n",
       "    <tr>\n",
       "      <th>29</th>\n",
       "      <td>2020-04-01</td>\n",
       "      <td>112.62</td>\n",
       "      <td>2020-05-01</td>\n",
       "      <td>114.95</td>\n",
       "      <td>2.33</td>\n",
       "      <td>375.51</td>\n",
       "      <td>161</td>\n",
       "      <td>8556.23</td>\n",
       "      <td>LONG</td>\n",
       "      <td>AGG</td>\n",
       "    </tr>\n",
       "    <tr>\n",
       "      <th>30</th>\n",
       "      <td>2020-05-01</td>\n",
       "      <td>278.33</td>\n",
       "      <td>2021-03-26</td>\n",
       "      <td>395.98</td>\n",
       "      <td>117.65</td>\n",
       "      <td>7765.13</td>\n",
       "      <td>66</td>\n",
       "      <td>16321.36</td>\n",
       "      <td>LONG</td>\n",
       "      <td>SPY</td>\n",
       "    </tr>\n",
       "  </tbody>\n",
       "</table>\n",
       "</div>"
      ],
      "text/plain": [
       "   entry_date  entry_price  exit_date  exit_price  pl_points  pl_cash  qty  \\\n",
       "26 2019-07-01       286.55 2019-09-03      281.79      -4.77  -362.41   76   \n",
       "27 2019-09-03       110.12 2019-10-01      109.67      -0.45   -87.62  195   \n",
       "28 2019-10-01       285.52 2020-04-01      242.26     -43.26 -3244.18   75   \n",
       "29 2020-04-01       112.62 2020-05-01      114.95       2.33   375.51  161   \n",
       "30 2020-05-01       278.33 2021-03-26      395.98     117.65  7765.13   66   \n",
       "\n",
       "    cumul_total direction symbol  \n",
       "26     11512.53      LONG    SPY  \n",
       "27     11424.90      LONG    AGG  \n",
       "28      8180.72      LONG    SPY  \n",
       "29      8556.23      LONG    AGG  \n",
       "30     16321.36      LONG    SPY  "
      ]
     },
     "execution_count": 7,
     "metadata": {},
     "output_type": "execute_result"
    }
   ],
   "source": [
    "tlog.tail()"
   ]
  },
  {
   "cell_type": "code",
   "execution_count": 8,
   "metadata": {
    "scrolled": true
   },
   "outputs": [
    {
     "data": {
      "text/html": [
       "<div>\n",
       "<style scoped>\n",
       "    .dataframe tbody tr th:only-of-type {\n",
       "        vertical-align: middle;\n",
       "    }\n",
       "\n",
       "    .dataframe tbody tr th {\n",
       "        vertical-align: top;\n",
       "    }\n",
       "\n",
       "    .dataframe thead th {\n",
       "        text-align: right;\n",
       "    }\n",
       "</style>\n",
       "<table border=\"1\" class=\"dataframe\">\n",
       "  <thead>\n",
       "    <tr style=\"text-align: right;\">\n",
       "      <th></th>\n",
       "      <th>high</th>\n",
       "      <th>low</th>\n",
       "      <th>close</th>\n",
       "      <th>shares</th>\n",
       "      <th>cash</th>\n",
       "      <th>leverage</th>\n",
       "      <th>state</th>\n",
       "    </tr>\n",
       "    <tr>\n",
       "      <th>date</th>\n",
       "      <th></th>\n",
       "      <th></th>\n",
       "      <th></th>\n",
       "      <th></th>\n",
       "      <th></th>\n",
       "      <th></th>\n",
       "      <th></th>\n",
       "    </tr>\n",
       "  </thead>\n",
       "  <tbody>\n",
       "    <tr>\n",
       "      <th>2021-03-22</th>\n",
       "      <td>26097.62</td>\n",
       "      <td>26097.62</td>\n",
       "      <td>26097.62</td>\n",
       "      <td>66</td>\n",
       "      <td>186.68</td>\n",
       "      <td>1.00</td>\n",
       "      <td>-</td>\n",
       "    </tr>\n",
       "    <tr>\n",
       "      <th>2021-03-23</th>\n",
       "      <td>25893.68</td>\n",
       "      <td>25893.68</td>\n",
       "      <td>25893.68</td>\n",
       "      <td>66</td>\n",
       "      <td>186.68</td>\n",
       "      <td>1.00</td>\n",
       "      <td>-</td>\n",
       "    </tr>\n",
       "    <tr>\n",
       "      <th>2021-03-24</th>\n",
       "      <td>25763.00</td>\n",
       "      <td>25763.00</td>\n",
       "      <td>25763.00</td>\n",
       "      <td>66</td>\n",
       "      <td>186.68</td>\n",
       "      <td>1.00</td>\n",
       "      <td>-</td>\n",
       "    </tr>\n",
       "    <tr>\n",
       "      <th>2021-03-25</th>\n",
       "      <td>25906.88</td>\n",
       "      <td>25906.88</td>\n",
       "      <td>25906.88</td>\n",
       "      <td>66</td>\n",
       "      <td>186.68</td>\n",
       "      <td>1.00</td>\n",
       "      <td>-</td>\n",
       "    </tr>\n",
       "    <tr>\n",
       "      <th>2021-03-26</th>\n",
       "      <td>26321.36</td>\n",
       "      <td>26321.36</td>\n",
       "      <td>26321.36</td>\n",
       "      <td>0</td>\n",
       "      <td>26321.36</td>\n",
       "      <td>1.00</td>\n",
       "      <td>X</td>\n",
       "    </tr>\n",
       "  </tbody>\n",
       "</table>\n",
       "</div>"
      ],
      "text/plain": [
       "               high      low    close  shares     cash  leverage state\n",
       "date                                                                  \n",
       "2021-03-22 26097.62 26097.62 26097.62      66   186.68      1.00     -\n",
       "2021-03-23 25893.68 25893.68 25893.68      66   186.68      1.00     -\n",
       "2021-03-24 25763.00 25763.00 25763.00      66   186.68      1.00     -\n",
       "2021-03-25 25906.88 25906.88 25906.88      66   186.68      1.00     -\n",
       "2021-03-26 26321.36 26321.36 26321.36       0 26321.36      1.00     X"
      ]
     },
     "execution_count": 8,
     "metadata": {},
     "output_type": "execute_result"
    }
   ],
   "source": [
    "dbal.tail()"
   ]
  },
  {
   "cell_type": "markdown",
   "metadata": {},
   "source": [
    "Generate strategy stats - display all available stats"
   ]
  },
  {
   "cell_type": "code",
   "execution_count": 9,
   "metadata": {},
   "outputs": [
    {
     "name": "stdout",
     "output_type": "stream",
     "text": [
      "start                                                   2008-10-30\n",
      "end                                                     2021-03-26\n",
      "beginning_balance                                            10000\n",
      "ending_balance                                            26321.36\n",
      "total_net_profit                                          16321.36\n",
      "gross_profit                                              25490.85\n",
      "gross_loss                                                -9169.49\n",
      "profit_factor                                                 2.78\n",
      "return_on_initial_capital                                   163.21\n",
      "annual_return_rate                                            8.12\n",
      "trading_period                           12 years 4 months 26 days\n",
      "pct_time_in_market                                           99.94\n",
      "margin                                                           1\n",
      "avg_leverage                                                  1.00\n",
      "max_leverage                                                  1.00\n",
      "min_leverage                                                  1.00\n",
      "total_num_trades                                                31\n",
      "trades_per_year                                               2.50\n",
      "num_winning_trades                                              22\n",
      "num_losing_trades                                                9\n",
      "num_even_trades                                                  0\n",
      "pct_profitable_trades                                        70.97\n",
      "avg_profit_per_trade                                        526.50\n",
      "avg_profit_per_winning_trade                               1158.68\n",
      "avg_loss_per_losing_trade                                 -1018.83\n",
      "ratio_avg_profit_win_loss                                     1.14\n",
      "largest_profit_winning_trade                               7765.13\n",
      "largest_loss_losing_trade                                 -3244.18\n",
      "num_winning_points                                          251.59\n",
      "num_losing_points                                           -94.81\n",
      "total_net_points                                            156.79\n",
      "avg_points                                                    5.06\n",
      "largest_points_winning_trade                                117.65\n",
      "largest_points_losing_trade                                 -43.26\n",
      "avg_pct_gain_per_trade                                        3.69\n",
      "largest_pct_winning_trade                                    42.27\n",
      "largest_pct_losing_trade                                    -17.49\n",
      "expected_shortfall                                               0\n",
      "max_consecutive_winning_trades                                  10\n",
      "max_consecutive_losing_trades                                    3\n",
      "avg_bars_winning_trades                                     115.82\n",
      "avg_bars_losing_trades                                       66.89\n",
      "max_closed_out_drawdown                                     -35.27\n",
      "max_closed_out_drawdown_peak_date                       2018-09-20\n",
      "max_closed_out_drawdown_trough_date                     2020-03-23\n",
      "max_closed_out_drawdown_recovery_date                   2021-01-20\n",
      "drawdown_loss_period                                           550\n",
      "drawdown_recovery_period                                       303\n",
      "annualized_return_over_max_drawdown                           0.23\n",
      "max_intra_day_drawdown                                      -35.27\n",
      "avg_yearly_closed_out_drawdown                              -13.10\n",
      "max_yearly_closed_out_drawdown                              -33.70\n",
      "avg_monthly_closed_out_drawdown                              -3.36\n",
      "max_monthly_closed_out_drawdown                             -30.97\n",
      "avg_weekly_closed_out_drawdown                               -1.32\n",
      "max_weekly_closed_out_drawdown                              -17.96\n",
      "avg_yearly_closed_out_runup                                  20.35\n",
      "max_yearly_closed_out_runup                                  59.82\n",
      "avg_monthly_closed_out_runup                                  4.05\n",
      "max_monthly_closed_out_runup                                 17.35\n",
      "avg_weekly_closed_out_runup                                   1.51\n",
      "max_weekly_closed_out_runup                                  17.35\n",
      "pct_profitable_years                                         70.31\n",
      "best_year                                                    57.23\n",
      "worst_year                                                  -25.27\n",
      "avg_year                                                      6.89\n",
      "annual_std                                                   10.59\n",
      "pct_profitable_months                                        66.15\n",
      "best_month                                                   12.71\n",
      "worst_month                                                 -30.97\n",
      "avg_month                                                     0.68\n",
      "monthly_std                                                   3.95\n",
      "pct_profitable_weeks                                         60.51\n",
      "best_week                                                    17.35\n",
      "worst_week                                                  -17.96\n",
      "avg_week                                                      0.17\n",
      "weekly_std                                                    2.12\n",
      "pct_profitable_days                                          54.66\n",
      "best_day                                                      9.05\n",
      "worst_day                                                   -10.94\n",
      "avg_day                                                       0.04\n",
      "daily_std                                                     1.02\n",
      "sharpe_ratio                                                  0.56\n",
      "sharpe_ratio_max                                              0.62\n",
      "sharpe_ratio_min                                              0.51\n",
      "sortino_ratio                                                 0.65\n",
      "dtype: object\n"
     ]
    }
   ],
   "source": [
    "pf.print_full(stats)"
   ]
  },
  {
   "cell_type": "markdown",
   "metadata": {},
   "source": [
    "Run Benchmark, Retrieve benchmark logs, and Generate benchmark stats"
   ]
  },
  {
   "cell_type": "code",
   "execution_count": 10,
   "metadata": {},
   "outputs": [],
   "source": [
    "benchmark = pf.Benchmark('SPY', capital, s.start, s.end, use_adj=True)\n",
    "benchmark.run()"
   ]
  },
  {
   "cell_type": "markdown",
   "metadata": {},
   "source": [
    "Plot Equity Curves: Strategy vs Benchmark"
   ]
  },
  {
   "cell_type": "code",
   "execution_count": 11,
   "metadata": {
    "scrolled": false
   },
   "outputs": [
    {
     "data": {
      "image/png": "[encoded data removed]",
      "text/plain": [
       "<Figure size 720x504 with 1 Axes>"
      ]
     },
     "metadata": {
      "needs_background": "light"
     },
     "output_type": "display_data"
    }
   ],
   "source": [
    "pf.plot_equity_curve(dbal, benchmark=benchmark.dbal)"
   ]
  },
  {
   "cell_type": "markdown",
   "metadata": {},
   "source": [
    "Plot Trades"
   ]
  },
  {
   "cell_type": "code",
   "execution_count": 12,
   "metadata": {},
   "outputs": [
    {
     "data": {
      "image/png": "[encoded data removed]",
      "text/plain": [
       "<Figure size 720x504 with 1 Axes>"
      ]
     },
     "metadata": {
      "needs_background": "light"
     },
     "output_type": "display_data"
    }
   ],
   "source": [
    "pf.plot_trades(dbal, benchmark=benchmark.dbal)"
   ]
  },
  {
   "cell_type": "markdown",
   "metadata": {},
   "source": [
    "Bar Graph: Strategy vs Benchmark"
   ]
  },
  {
   "cell_type": "code",
   "execution_count": 13,
   "metadata": {},
   "outputs": [
    {
     "data": {
      "text/html": [
       "<div>\n",
       "<style scoped>\n",
       "    .dataframe tbody tr th:only-of-type {\n",
       "        vertical-align: middle;\n",
       "    }\n",
       "\n",
       "    .dataframe tbody tr th {\n",
       "        vertical-align: top;\n",
       "    }\n",
       "\n",
       "    .dataframe thead th {\n",
       "        text-align: right;\n",
       "    }\n",
       "</style>\n",
       "<table border=\"1\" class=\"dataframe\">\n",
       "  <thead>\n",
       "    <tr style=\"text-align: right;\">\n",
       "      <th></th>\n",
       "      <th>strategy</th>\n",
       "      <th>benchmark</th>\n",
       "    </tr>\n",
       "  </thead>\n",
       "  <tbody>\n",
       "    <tr>\n",
       "      <th>annual_return_rate</th>\n",
       "      <td>8.12</td>\n",
       "      <td>14.34</td>\n",
       "    </tr>\n",
       "    <tr>\n",
       "      <th>max_closed_out_drawdown</th>\n",
       "      <td>-35.27</td>\n",
       "      <td>-33.68</td>\n",
       "    </tr>\n",
       "    <tr>\n",
       "      <th>annualized_return_over_max_drawdown</th>\n",
       "      <td>0.23</td>\n",
       "      <td>0.43</td>\n",
       "    </tr>\n",
       "    <tr>\n",
       "      <th>best_month</th>\n",
       "      <td>12.71</td>\n",
       "      <td>23.45</td>\n",
       "    </tr>\n",
       "    <tr>\n",
       "      <th>worst_month</th>\n",
       "      <td>-30.97</td>\n",
       "      <td>-30.95</td>\n",
       "    </tr>\n",
       "    <tr>\n",
       "      <th>sharpe_ratio</th>\n",
       "      <td>0.56</td>\n",
       "      <td>0.80</td>\n",
       "    </tr>\n",
       "    <tr>\n",
       "      <th>sortino_ratio</th>\n",
       "      <td>0.65</td>\n",
       "      <td>0.94</td>\n",
       "    </tr>\n",
       "    <tr>\n",
       "      <th>monthly_std</th>\n",
       "      <td>3.95</td>\n",
       "      <td>4.47</td>\n",
       "    </tr>\n",
       "    <tr>\n",
       "      <th>annual_std</th>\n",
       "      <td>10.59</td>\n",
       "      <td>10.60</td>\n",
       "    </tr>\n",
       "  </tbody>\n",
       "</table>\n",
       "</div>"
      ],
      "text/plain": [
       "                                     strategy  benchmark\n",
       "annual_return_rate                       8.12      14.34\n",
       "max_closed_out_drawdown                -35.27     -33.68\n",
       "annualized_return_over_max_drawdown      0.23       0.43\n",
       "best_month                              12.71      23.45\n",
       "worst_month                            -30.97     -30.95\n",
       "sharpe_ratio                             0.56       0.80\n",
       "sortino_ratio                            0.65       0.94\n",
       "monthly_std                              3.95       4.47\n",
       "annual_std                              10.59      10.60"
      ]
     },
     "execution_count": 13,
     "metadata": {},
     "output_type": "execute_result"
    },
    {
     "data": {
      "image/png": "[encoded data removed]",
      "text/plain": [
       "<Figure size 720x504 with 1 Axes>"
      ]
     },
     "metadata": {
      "needs_background": "light"
     },
     "output_type": "display_data"
    }
   ],
   "source": [
    "df = pf.plot_bar_graph(stats, benchmark.stats)\n",
    "df"
   ]
  }
 ],
 "metadata": {
  "kernelspec": {
   "display_name": "Python 3",
   "language": "python",
   "name": "python3"
  },
  "language_info": {
   "codemirror_mode": {
    "name": "ipython",
    "version": 3
   },
   "file_extension": ".py",
   "mimetype": "text/x-python",
   "name": "python",
   "nbconvert_exporter": "python",
   "pygments_lexer": "ipython3",
   "version": "3.8.5"
  },
  "latex_envs": {
   "LaTeX_envs_menu_present": true,
   "autoclose": false,
   "autocomplete": true,
   "bibliofile": "biblio.bib",
   "cite_by": "apalike",
   "current_citInitial": 1,
   "eqLabelWithNumbers": true,
   "eqNumInitial": 1,
   "hotkeys": {
    "equation": "Ctrl-E",
    "itemize": "Ctrl-I"
   },
   "labels_anchors": false,
   "latex_user_defs": false,
   "report_style_numbering": false,
   "user_envs_cfg": false
  }
 },
 "nbformat": 4,
 "nbformat_minor": 1
}
