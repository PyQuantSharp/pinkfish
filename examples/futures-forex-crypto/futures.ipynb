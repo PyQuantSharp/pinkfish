{
 "cells": [
  {
   "cell_type": "markdown",
   "metadata": {},
   "source": [
    "# Futures\n",
    "\n",
    "Try out a moving average crossover strategy on futures.  One at a time and summarize the results"
   ]
  },
  {
   "cell_type": "code",
   "execution_count": 1,
   "metadata": {
    "ExecuteTime": {
     "end_time": "2020-02-17T00:14:27.299895Z",
     "start_time": "2020-02-17T00:14:26.067231Z"
    }
   },
   "outputs": [],
   "source": [
    "import pandas as pd\n",
    "import matplotlib.pyplot as plt\n",
    "import datetime\n",
    "from talib.abstract import *\n",
    "\n",
    "import pinkfish as pf\n",
    "import strategy\n",
    "\n",
    "#pd.set_option('display.max_rows', None)\n",
    "pd.set_option('display.max_columns', None)\n",
    "\n",
    "# format price data\n",
    "pd.options.display.float_format = '{:0.2f}'.format\n",
    "\n",
    "%matplotlib inline"
   ]
  },
  {
   "cell_type": "code",
   "execution_count": 2,
   "metadata": {
    "ExecuteTime": {
     "end_time": "2020-02-17T00:14:27.322100Z",
     "start_time": "2020-02-17T00:14:27.309830Z"
    }
   },
   "outputs": [],
   "source": [
    "# set size of inline plots\n",
    "'''note: rcParams can't be in same cell as import matplotlib\n",
    "   or %matplotlib inline\n",
    "   \n",
    "   %matplotlib notebook: will lead to interactive plots embedded within\n",
    "   the notebook, you can zoom and resize the figure\n",
    "   \n",
    "   %matplotlib inline: only draw static images in the notebook\n",
    "'''\n",
    "plt.rcParams[\"figure.figsize\"] = (10, 7)"
   ]
  },
  {
   "cell_type": "markdown",
   "metadata": {},
   "source": [
    "Investment Universe:  \n",
    "\n",
    "Futures contracts cover these main asset classes:  \n",
    "- Currencies\n",
    "- Energies\n",
    "- Financials\n",
    "- Grains\n",
    "- Indices\n",
    "- Meats\n",
    "- Metals\n",
    "- Softs"
   ]
  },
  {
   "cell_type": "markdown",
   "metadata": {},
   "source": [
    "### FUTURES\n",
    "https://www.barchart.com/futures/contract-specifications/currencies"
   ]
  },
  {
   "cell_type": "code",
   "execution_count": 3,
   "metadata": {
    "ExecuteTime": {
     "end_time": "2020-02-17T00:14:27.335835Z",
     "start_time": "2020-02-17T00:14:27.326955Z"
    }
   },
   "outputs": [],
   "source": [
    "# symbol: (description, multiplier)\n",
    "\n",
    "currencies = {\n",
    "    'DX=F':  ('U.S. Dollar Index', 1000),\n",
    "    'BTC=F': ('Bitcoin Futures', 5),\n",
    "    '6B=F':  ('British Pound', 62500),\n",
    "    '6C=F':  ('Canadian Dollar', 100000),\n",
    "    '6J=F':  ('Japanese Yen', 125000),\n",
    "    '6S=F':  ('Swiss Franc', 125000),\n",
    "    '6E=F':  ('Euro FX', 125000),\n",
    "    '6A=F':  ('Australian Dollar', 100000),\n",
    "    '6M=F':  ('Mexican Peso', 500000),\n",
    "    '6N=F':  ('New Zealand Dollar', 100000),\n",
    "    '6Z=F':  ('South African Rand', 500000),\n",
    "    '6L=F':  ('Brazilian Real', 100000),\n",
    "    '6R=F':  ('Russian Ruble', 500000)  \n",
    "}\n",
    "\n",
    "energies = {\n",
    "    'CL=F':  ('Crude Oil West Texas Intermediate', 1000),\n",
    "    'HO=F':  ('New York Harbor ULSD', 42000),\n",
    "    'RB=F':  ('Gasoline Blendstock New York Harbor [RBOB]', 42000),\n",
    "    'NG=F':  ('Natural Gas', 10000),\n",
    "    #'BZ=F':  ('Brent Crude Oil Financial Futures', 1000),\n",
    "    'EH=F':  ('Ethanol', 29000)\n",
    "}\n",
    "\n",
    "financials = {\n",
    "    'ZB=F':  ('U.S. Treasury Bond Futures', 1000),\n",
    "    'UB=F':  ('Ultra Treasury Bond', 1000),\n",
    "    'ZN=F':  ('10-Year Treasury-Note', 1000),\n",
    "    'TN=F':  ('Ultra 10-Year Treasury-Note', 1000),\n",
    "    'ZF=F':  ('5-Year Treasury-Note', 1000),\n",
    "    'ZT=F':  ('2-Year Treasury-Note', 2000),\n",
    "    'ZQ=F':  ('30-Day Fed Funds', 2000),\n",
    "    #'GE=F':  ('EuroDollar', 2500)\n",
    "}\n",
    "\n",
    "grains = {\n",
    "    'ZC=F':  ('Corn', 50),\n",
    "    'ZS=F':  ('Soybean', 50),\n",
    "    'ZM=F':  ('Soybean Meal', 1000),\n",
    "    'ZL=F':  ('Soybean Oil', 600),\n",
    "    'ZW=F':  ('Chicago Soft Red Winter Wheat', 50),\n",
    "    'KE=F':  ('KC Hard Red Winter Wheat', 50),\n",
    "    'ZO=F':  ('Oats', 50),\n",
    "    #'ZR=F':  ('Rough Rice', 2000),\n",
    "    'ZS=F':  ('Rapeseed Canola', 20)\n",
    "}\n",
    "\n",
    "indices = {\n",
    "    'ES=F':  ('E-Mini S&P 500 Index', 50),\n",
    "    'NQ=F':  ('E-Mini Nasdaq 100', 20),\n",
    "    'YM=F':  ('E-Mini Dow Jones Industrial Averagen', 5),\n",
    "    'RTY=F': ('E-Mini Russell 2000 Index', 50),\n",
    "    #'VI=F':  ('CBOE Volatilty Index VIX Futures', 1000),\n",
    "    #'GD=F':  ('GSCI - Goldman Sachs Commodity Index', 250)\n",
    "}\n",
    "\n",
    "meats = {\n",
    "    'LE=F':  ('Live Cattle', 400),\n",
    "    'GF=F':  ('Feeder Cattle', 500),\n",
    "    'HE=F':  ('Lean Hogs', 400),\n",
    "    #'KM=F':  ('Pork Cutout', 400),\n",
    "    'DC=F':  ('Milk Class III', 2000)\n",
    "}\n",
    "\n",
    "metals = {\n",
    "    'GC=F':  ('Gold 100-oz', 100),\n",
    "    'SI=F':  ('Silver 5,000-oz', 5000),\n",
    "    'HG=F':  ('High Grade Copper', 25000),\n",
    "    'PL=F':  ('Platinum', 50),\n",
    "    'PA=F':  ('Palladium', 100),\n",
    "}\n",
    "\n",
    "softs = {\n",
    "    'CT=F':  ('Cotton #2', 500),\n",
    "    #'OJ=F':  ('Orange Juice [FCOJ-A]', 150),\n",
    "    'KC=F':  ('Coffee C Arabica', 375),\n",
    "    'SB=F':  ('Sugar #11', 1120),\n",
    "    'CC=F':  ('Cocoa', 10),\n",
    "    'LBS=F': ('Lumber', 110),\n",
    "    'SF=F':  ('Sugar #16', 1120)\n",
    "}\n",
    "\n",
    "merged = {**currencies, **energies, **financials, **grains,\n",
    "          **indices, **meats, **metals, **softs}"
   ]
  },
  {
   "cell_type": "markdown",
   "metadata": {},
   "source": [
    "Globals"
   ]
  },
  {
   "cell_type": "code",
   "execution_count": 4,
   "metadata": {},
   "outputs": [],
   "source": [
    "symbols = list(softs)\n",
    "#symbols = ['ES=F', 'GC=F', 'CL=F']\n",
    "capital = 100000\n",
    "start = datetime.datetime(1900, 1, 1)\n",
    "end = datetime.datetime.now()\n",
    "\n",
    "# set options\n",
    "stop_loss_pct = 0/100\n",
    "margin = 1\n",
    "sma_fast = 10\n",
    "sma_slow = 100\n",
    "percent_band = 0/100\n",
    "enable_shorts = True"
   ]
  },
  {
   "cell_type": "markdown",
   "metadata": {},
   "source": [
    "Run Strategy"
   ]
  },
  {
   "cell_type": "code",
   "execution_count": 5,
   "metadata": {
    "scrolled": false
   },
   "outputs": [
    {
     "name": "stdout",
     "output_type": "stream",
     "text": [
      "CT=F KC=F SB=F CC=F LBS=F SF=F "
     ]
    }
   ],
   "source": [
    "strategies = pd.Series(dtype=object)\n",
    "for symbol in symbols:\n",
    "    print(\"{0}\".format(symbol), end=\" \")\n",
    "\n",
    "    strategies[symbol] = strategy.Strategy(symbol, capital, start, end)\n",
    "    \n",
    "    # set options\n",
    "    strategies[symbol].stop_loss_pct = stop_loss_pct\n",
    "    strategies[symbol].margin = margin\n",
    "    strategies[symbol].multiplier = merged[symbol][1]\n",
    "    strategies[symbol].timeperiod_fast = sma_fast\n",
    "    strategies[symbol].timeperiod_slow = sma_slow\n",
    "    strategies[symbol].percent_band = percent_band\n",
    "    strategies[symbol].enable_shorts = enable_shorts\n",
    "\n",
    "    #run\n",
    "    strategies[symbol].run()\n",
    "    \n",
    "    #get logs\n",
    "    _, strategies[symbol].tlog, strategies[symbol].dbal = strategies[symbol].get_logs()\n",
    "    strategies[symbol].stats = strategies[symbol].get_stats()\n",
    "#strategies[symbol].tlog.head(50)"
   ]
  },
  {
   "cell_type": "markdown",
   "metadata": {},
   "source": [
    "Summarize results"
   ]
  },
  {
   "cell_type": "code",
   "execution_count": 6,
   "metadata": {
    "scrolled": false
   },
   "outputs": [
    {
     "data": {
      "text/html": [
       "<div>\n",
       "<style scoped>\n",
       "    .dataframe tbody tr th:only-of-type {\n",
       "        vertical-align: middle;\n",
       "    }\n",
       "\n",
       "    .dataframe tbody tr th {\n",
       "        vertical-align: top;\n",
       "    }\n",
       "\n",
       "    .dataframe thead th {\n",
       "        text-align: right;\n",
       "    }\n",
       "</style>\n",
       "<table border=\"1\" class=\"dataframe\">\n",
       "  <thead>\n",
       "    <tr style=\"text-align: right;\">\n",
       "      <th></th>\n",
       "      <th>CT=F</th>\n",
       "      <th>KC=F</th>\n",
       "      <th>SB=F</th>\n",
       "      <th>CC=F</th>\n",
       "      <th>LBS=F</th>\n",
       "      <th>SF=F</th>\n",
       "    </tr>\n",
       "  </thead>\n",
       "  <tbody>\n",
       "    <tr>\n",
       "      <th>start</th>\n",
       "      <td>2000-05-02</td>\n",
       "      <td>2000-05-12</td>\n",
       "      <td>2000-07-21</td>\n",
       "      <td>2000-05-09</td>\n",
       "      <td>2000-12-05</td>\n",
       "      <td>2000-08-03</td>\n",
       "    </tr>\n",
       "    <tr>\n",
       "      <th>annual_return_rate</th>\n",
       "      <td>5.15</td>\n",
       "      <td>-5.99</td>\n",
       "      <td>-0.33</td>\n",
       "      <td>-9.58</td>\n",
       "      <td>-5.87</td>\n",
       "      <td>-100.00</td>\n",
       "    </tr>\n",
       "    <tr>\n",
       "      <th>max_closed_out_drawdown</th>\n",
       "      <td>-56.21</td>\n",
       "      <td>-77.17</td>\n",
       "      <td>-63.87</td>\n",
       "      <td>-87.25</td>\n",
       "      <td>-75.99</td>\n",
       "      <td>-1235.91</td>\n",
       "    </tr>\n",
       "    <tr>\n",
       "      <th>sharpe_ratio</th>\n",
       "      <td>0.28</td>\n",
       "      <td>-0.04</td>\n",
       "      <td>0.13</td>\n",
       "      <td>-0.51</td>\n",
       "      <td>-0.24</td>\n",
       "      <td>-0.22</td>\n",
       "    </tr>\n",
       "    <tr>\n",
       "      <th>sortino_ratio</th>\n",
       "      <td>0.64</td>\n",
       "      <td>-0.07</td>\n",
       "      <td>0.26</td>\n",
       "      <td>-0.36</td>\n",
       "      <td>-0.26</td>\n",
       "      <td>-0.15</td>\n",
       "    </tr>\n",
       "    <tr>\n",
       "      <th>monthly_std</th>\n",
       "      <td>8.28</td>\n",
       "      <td>10.75</td>\n",
       "      <td>10.75</td>\n",
       "      <td>4.95</td>\n",
       "      <td>5.22</td>\n",
       "      <td>83.36</td>\n",
       "    </tr>\n",
       "    <tr>\n",
       "      <th>annual_std</th>\n",
       "      <td>28.25</td>\n",
       "      <td>32.07</td>\n",
       "      <td>43.70</td>\n",
       "      <td>17.64</td>\n",
       "      <td>18.80</td>\n",
       "      <td>89.63</td>\n",
       "    </tr>\n",
       "    <tr>\n",
       "      <th>pct_time_in_market</th>\n",
       "      <td>100.00</td>\n",
       "      <td>68.68</td>\n",
       "      <td>100.00</td>\n",
       "      <td>49.14</td>\n",
       "      <td>92.28</td>\n",
       "      <td>99.92</td>\n",
       "    </tr>\n",
       "    <tr>\n",
       "      <th>total_num_trades</th>\n",
       "      <td>79</td>\n",
       "      <td>75</td>\n",
       "      <td>89</td>\n",
       "      <td>60</td>\n",
       "      <td>92</td>\n",
       "      <td>103</td>\n",
       "    </tr>\n",
       "    <tr>\n",
       "      <th>pct_profitable_trades</th>\n",
       "      <td>31.65</td>\n",
       "      <td>25.33</td>\n",
       "      <td>29.21</td>\n",
       "      <td>20.00</td>\n",
       "      <td>29.35</td>\n",
       "      <td>27.18</td>\n",
       "    </tr>\n",
       "    <tr>\n",
       "      <th>avg_points</th>\n",
       "      <td>2.44</td>\n",
       "      <td>-1.17</td>\n",
       "      <td>0.20</td>\n",
       "      <td>-59.23</td>\n",
       "      <td>-3.61</td>\n",
       "      <td>-0.25</td>\n",
       "    </tr>\n",
       "    <tr>\n",
       "      <th>ending_balance</th>\n",
       "      <td>279184.90</td>\n",
       "      <td>28318.75</td>\n",
       "      <td>93492.82</td>\n",
       "      <td>12760.00</td>\n",
       "      <td>29874.99</td>\n",
       "      <td>-2470891.02</td>\n",
       "    </tr>\n",
       "  </tbody>\n",
       "</table>\n",
       "</div>"
      ],
      "text/plain": [
       "                               CT=F        KC=F        SB=F        CC=F  \\\n",
       "start                    2000-05-02  2000-05-12  2000-07-21  2000-05-09   \n",
       "annual_return_rate             5.15       -5.99       -0.33       -9.58   \n",
       "max_closed_out_drawdown      -56.21      -77.17      -63.87      -87.25   \n",
       "sharpe_ratio                   0.28       -0.04        0.13       -0.51   \n",
       "sortino_ratio                  0.64       -0.07        0.26       -0.36   \n",
       "monthly_std                    8.28       10.75       10.75        4.95   \n",
       "annual_std                    28.25       32.07       43.70       17.64   \n",
       "pct_time_in_market           100.00       68.68      100.00       49.14   \n",
       "total_num_trades                 79          75          89          60   \n",
       "pct_profitable_trades         31.65       25.33       29.21       20.00   \n",
       "avg_points                     2.44       -1.17        0.20      -59.23   \n",
       "ending_balance            279184.90    28318.75    93492.82    12760.00   \n",
       "\n",
       "                              LBS=F        SF=F  \n",
       "start                    2000-12-05  2000-08-03  \n",
       "annual_return_rate            -5.87     -100.00  \n",
       "max_closed_out_drawdown      -75.99    -1235.91  \n",
       "sharpe_ratio                  -0.24       -0.22  \n",
       "sortino_ratio                 -0.26       -0.15  \n",
       "monthly_std                    5.22       83.36  \n",
       "annual_std                    18.80       89.63  \n",
       "pct_time_in_market            92.28       99.92  \n",
       "total_num_trades                 92         103  \n",
       "pct_profitable_trades         29.35       27.18  \n",
       "avg_points                    -3.61       -0.25  \n",
       "ending_balance             29874.99 -2470891.02  "
      ]
     },
     "execution_count": 6,
     "metadata": {},
     "output_type": "execute_result"
    }
   ],
   "source": [
    "metrics = ('start',\n",
    "           'annual_return_rate',\n",
    "           'max_closed_out_drawdown',\n",
    "           'sharpe_ratio',\n",
    "           'sortino_ratio',\n",
    "           'monthly_std',\n",
    "           'annual_std',\n",
    "           'pct_time_in_market',\n",
    "           'total_num_trades',\n",
    "           'pct_profitable_trades',\n",
    "           'avg_points',\n",
    "           'ending_balance')\n",
    "\n",
    "df = strategy.summary(strategies, metrics)\n",
    "pd.set_option('display.max_columns', len(df.columns))\n",
    "df"
   ]
  },
  {
   "cell_type": "code",
   "execution_count": 7,
   "metadata": {},
   "outputs": [
    {
     "name": "stdout",
     "output_type": "stream",
     "text": [
      "avg_annual_return_rate: -19.437664108360483\n",
      "avg_sharpe_ratio:       -0.09963928796771011\n"
     ]
    }
   ],
   "source": [
    "# averages\n",
    "avg_annual_return_rate = df.loc['annual_return_rate'].mean()\n",
    "avg_sharpe_ratio = df.loc['sharpe_ratio'].mean()\n",
    "print('avg_annual_return_rate: {}'.format(avg_annual_return_rate))\n",
    "print('avg_sharpe_ratio:       {}'.format(avg_sharpe_ratio))"
   ]
  }
 ],
 "metadata": {
  "kernelspec": {
   "display_name": "Python 3",
   "language": "python",
   "name": "python3"
  },
  "language_info": {
   "codemirror_mode": {
    "name": "ipython",
    "version": 3
   },
   "file_extension": ".py",
   "mimetype": "text/x-python",
   "name": "python",
   "nbconvert_exporter": "python",
   "pygments_lexer": "ipython3",
   "version": "3.8.5"
  },
  "latex_envs": {
   "LaTeX_envs_menu_present": true,
   "autoclose": false,
   "autocomplete": true,
   "bibliofile": "biblio.bib",
   "cite_by": "apalike",
   "current_citInitial": 1,
   "eqLabelWithNumbers": true,
   "eqNumInitial": 1,
   "hotkeys": {
    "equation": "Ctrl-E",
    "itemize": "Ctrl-I"
   },
   "labels_anchors": false,
   "latex_user_defs": false,
   "report_style_numbering": false,
   "user_envs_cfg": false
  }
 },
 "nbformat": 4,
 "nbformat_minor": 1
}
