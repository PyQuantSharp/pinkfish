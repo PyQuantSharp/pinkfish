{
 "cells": [
  {
   "cell_type": "markdown",
   "metadata": {},
   "source": [
    "# Dual Momentum Sector Rotation (DMSR)\n",
    "\n",
    "**Buy Signal**: When the S&P 500 is above its 10-month simple moving average, buy the sectors with the biggest gains over a three-month timeframe.\n",
    "\n",
    "**Sell Signal**: Exit all positions when the S&P 500 moves below its 10-month simple moving average on a monthly closing basis.\n",
    "\n",
    "**Rebalance**: Once per month, sell sectors that fall out of the top tier (three) and buy the sectors that move into the top tier (three).\n",
    "\n",
    "https://school.stockcharts.com/doku.php?id=trading_strategies:sector_rotation_roc  \n",
    "https://robotwealth.com/dual-momentum-review/  "
   ]
  },
  {
   "cell_type": "code",
   "execution_count": 1,
   "metadata": {
    "ExecuteTime": {
     "end_time": "2020-02-17T05:42:08.798393Z",
     "start_time": "2020-02-17T05:42:07.455687Z"
    }
   },
   "outputs": [],
   "source": [
    "import pandas as pd\n",
    "import matplotlib.pyplot as plt\n",
    "import datetime\n",
    "from talib.abstract import *\n",
    "\n",
    "import pinkfish as pf\n",
    "import strategy\n",
    "\n",
    "# format price data\n",
    "pd.options.display.float_format = '{:0.2f}'.format\n",
    "\n",
    "%matplotlib inline"
   ]
  },
  {
   "cell_type": "code",
   "execution_count": 2,
   "metadata": {
    "ExecuteTime": {
     "end_time": "2020-02-17T05:42:08.816893Z",
     "start_time": "2020-02-17T05:42:08.808607Z"
    }
   },
   "outputs": [],
   "source": [
    "# set size of inline plots\n",
    "'''note: rcParams can't be in same cell as import matplotlib\n",
    "   or %matplotlib inline\n",
    "   \n",
    "   %matplotlib notebook: will lead to interactive plots embedded within\n",
    "   the notebook, you can zoom and resize the figure\n",
    "   \n",
    "   %matplotlib inline: only draw static images in the notebook\n",
    "'''\n",
    "plt.rcParams[\"figure.figsize\"] = (10, 7)"
   ]
  },
  {
   "cell_type": "markdown",
   "metadata": {},
   "source": [
    "Some global data"
   ]
  },
  {
   "cell_type": "code",
   "execution_count": 3,
   "metadata": {
    "ExecuteTime": {
     "end_time": "2020-02-17T05:42:08.835362Z",
     "start_time": "2020-02-17T05:42:08.821138Z"
    }
   },
   "outputs": [],
   "source": [
    "#symbols = ['XLB', 'XLE', 'XLF', 'XLI', 'XLK', 'XLP', 'XLU', 'XLV', 'XLY']\n",
    "#symbols = ['IWB', 'SPY', 'VGK', 'IEV', 'EWJ', 'EPP', 'IEF', 'SHY', 'GLD']\n",
    "symbols = ['SPY', 'TLT', 'NLY', 'GLD']\n",
    "\n",
    "capital = 10000\n",
    "start = datetime.datetime(1900, 1, 1)\n",
    "#start = datetime.datetime.strptime(pf.SP500_BEGIN, '%Y-%m-%d')\n",
    "end = datetime.datetime.now()\n",
    "#end = datetime.datetime(2019, 1, 1)\n",
    "# num months lookback\n",
    "lookback = 6\n",
    "top_tier = 2\n",
    "\n",
    "use_cache = True\n",
    "use_absolute_mom = True\n",
    "use_regime_filter = False"
   ]
  },
  {
   "cell_type": "markdown",
   "metadata": {},
   "source": [
    "Run Strategy"
   ]
  },
  {
   "cell_type": "code",
   "execution_count": 4,
   "metadata": {
    "scrolled": false
   },
   "outputs": [],
   "source": [
    "s = strategy.Strategy(symbols, capital, start, end, margin=1, lookback=lookback,\n",
    "                      use_cache=use_cache, use_absolute_mom=use_absolute_mom,\n",
    "                      use_regime_filter=use_regime_filter, top_tier=top_tier)\n",
    "s.run()"
   ]
  },
  {
   "cell_type": "markdown",
   "metadata": {},
   "source": [
    "Retrieve log DataFrames"
   ]
  },
  {
   "cell_type": "code",
   "execution_count": 5,
   "metadata": {},
   "outputs": [],
   "source": [
    "rlog, tlog, dbal = s.get_logs()\n",
    "stats = s.get_stats()"
   ]
  },
  {
   "cell_type": "code",
   "execution_count": 6,
   "metadata": {},
   "outputs": [
    {
     "data": {
      "text/html": [
       "<div>\n",
       "<style scoped>\n",
       "    .dataframe tbody tr th:only-of-type {\n",
       "        vertical-align: middle;\n",
       "    }\n",
       "\n",
       "    .dataframe tbody tr th {\n",
       "        vertical-align: top;\n",
       "    }\n",
       "\n",
       "    .dataframe thead th {\n",
       "        text-align: right;\n",
       "    }\n",
       "</style>\n",
       "<table border=\"1\" class=\"dataframe\">\n",
       "  <thead>\n",
       "    <tr style=\"text-align: right;\">\n",
       "      <th></th>\n",
       "      <th>date</th>\n",
       "      <th>seq_num</th>\n",
       "      <th>price</th>\n",
       "      <th>shares</th>\n",
       "      <th>entry_exit</th>\n",
       "      <th>direction</th>\n",
       "      <th>symbol</th>\n",
       "    </tr>\n",
       "  </thead>\n",
       "  <tbody>\n",
       "    <tr>\n",
       "      <th>0</th>\n",
       "      <td>2006-05-01</td>\n",
       "      <td>0</td>\n",
       "      <td>2.50</td>\n",
       "      <td>2001</td>\n",
       "      <td>entry</td>\n",
       "      <td>LONG</td>\n",
       "      <td>NLY</td>\n",
       "    </tr>\n",
       "    <tr>\n",
       "      <th>1</th>\n",
       "      <td>2006-05-01</td>\n",
       "      <td>1</td>\n",
       "      <td>65.16</td>\n",
       "      <td>76</td>\n",
       "      <td>entry</td>\n",
       "      <td>LONG</td>\n",
       "      <td>GLD</td>\n",
       "    </tr>\n",
       "    <tr>\n",
       "      <th>2</th>\n",
       "      <td>2006-06-01</td>\n",
       "      <td>2</td>\n",
       "      <td>2.49</td>\n",
       "      <td>38</td>\n",
       "      <td>exit</td>\n",
       "      <td>LONG</td>\n",
       "      <td>NLY</td>\n",
       "    </tr>\n",
       "    <tr>\n",
       "      <th>3</th>\n",
       "      <td>2006-06-01</td>\n",
       "      <td>3</td>\n",
       "      <td>62.56</td>\n",
       "      <td>2</td>\n",
       "      <td>entry</td>\n",
       "      <td>LONG</td>\n",
       "      <td>GLD</td>\n",
       "    </tr>\n",
       "    <tr>\n",
       "      <th>4</th>\n",
       "      <td>2006-07-03</td>\n",
       "      <td>4</td>\n",
       "      <td>2.45</td>\n",
       "      <td>8</td>\n",
       "      <td>entry</td>\n",
       "      <td>LONG</td>\n",
       "      <td>NLY</td>\n",
       "    </tr>\n",
       "  </tbody>\n",
       "</table>\n",
       "</div>"
      ],
      "text/plain": [
       "        date  seq_num  price  shares entry_exit direction symbol\n",
       "0 2006-05-01        0   2.50    2001      entry      LONG    NLY\n",
       "1 2006-05-01        1  65.16      76      entry      LONG    GLD\n",
       "2 2006-06-01        2   2.49      38       exit      LONG    NLY\n",
       "3 2006-06-01        3  62.56       2      entry      LONG    GLD\n",
       "4 2006-07-03        4   2.45       8      entry      LONG    NLY"
      ]
     },
     "execution_count": 6,
     "metadata": {},
     "output_type": "execute_result"
    }
   ],
   "source": [
    "rlog.head()"
   ]
  },
  {
   "cell_type": "code",
   "execution_count": 7,
   "metadata": {},
   "outputs": [
    {
     "data": {
      "text/html": [
       "<div>\n",
       "<style scoped>\n",
       "    .dataframe tbody tr th:only-of-type {\n",
       "        vertical-align: middle;\n",
       "    }\n",
       "\n",
       "    .dataframe tbody tr th {\n",
       "        vertical-align: top;\n",
       "    }\n",
       "\n",
       "    .dataframe thead th {\n",
       "        text-align: right;\n",
       "    }\n",
       "</style>\n",
       "<table border=\"1\" class=\"dataframe\">\n",
       "  <thead>\n",
       "    <tr style=\"text-align: right;\">\n",
       "      <th></th>\n",
       "      <th>entry_date</th>\n",
       "      <th>entry_price</th>\n",
       "      <th>exit_date</th>\n",
       "      <th>exit_price</th>\n",
       "      <th>pl_points</th>\n",
       "      <th>pl_cash</th>\n",
       "      <th>qty</th>\n",
       "      <th>cumul_total</th>\n",
       "      <th>direction</th>\n",
       "      <th>symbol</th>\n",
       "    </tr>\n",
       "  </thead>\n",
       "  <tbody>\n",
       "    <tr>\n",
       "      <th>262</th>\n",
       "      <td>2020-04-01</td>\n",
       "      <td>149.45</td>\n",
       "      <td>2020-08-21</td>\n",
       "      <td>182.03</td>\n",
       "      <td>32.58</td>\n",
       "      <td>1726.74</td>\n",
       "      <td>53</td>\n",
       "      <td>9309.95</td>\n",
       "      <td>LONG</td>\n",
       "      <td>GLD</td>\n",
       "    </tr>\n",
       "    <tr>\n",
       "      <th>263</th>\n",
       "      <td>2020-05-01</td>\n",
       "      <td>167.35</td>\n",
       "      <td>2020-08-21</td>\n",
       "      <td>166.20</td>\n",
       "      <td>-1.15</td>\n",
       "      <td>-1.15</td>\n",
       "      <td>1</td>\n",
       "      <td>9308.80</td>\n",
       "      <td>LONG</td>\n",
       "      <td>TLT</td>\n",
       "    </tr>\n",
       "    <tr>\n",
       "      <th>264</th>\n",
       "      <td>2020-06-01</td>\n",
       "      <td>161.91</td>\n",
       "      <td>2020-08-21</td>\n",
       "      <td>166.20</td>\n",
       "      <td>4.29</td>\n",
       "      <td>8.58</td>\n",
       "      <td>2</td>\n",
       "      <td>9317.38</td>\n",
       "      <td>LONG</td>\n",
       "      <td>TLT</td>\n",
       "    </tr>\n",
       "    <tr>\n",
       "      <th>265</th>\n",
       "      <td>2020-07-01</td>\n",
       "      <td>163.24</td>\n",
       "      <td>2020-08-21</td>\n",
       "      <td>166.20</td>\n",
       "      <td>2.96</td>\n",
       "      <td>2.96</td>\n",
       "      <td>1</td>\n",
       "      <td>9320.34</td>\n",
       "      <td>LONG</td>\n",
       "      <td>TLT</td>\n",
       "    </tr>\n",
       "    <tr>\n",
       "      <th>266</th>\n",
       "      <td>2020-08-03</td>\n",
       "      <td>169.95</td>\n",
       "      <td>2020-08-21</td>\n",
       "      <td>166.20</td>\n",
       "      <td>-3.75</td>\n",
       "      <td>-3.75</td>\n",
       "      <td>1</td>\n",
       "      <td>9316.59</td>\n",
       "      <td>LONG</td>\n",
       "      <td>TLT</td>\n",
       "    </tr>\n",
       "  </tbody>\n",
       "</table>\n",
       "</div>"
      ],
      "text/plain": [
       "    entry_date  entry_price  exit_date  exit_price  pl_points  pl_cash  qty  \\\n",
       "262 2020-04-01       149.45 2020-08-21      182.03      32.58  1726.74   53   \n",
       "263 2020-05-01       167.35 2020-08-21      166.20      -1.15    -1.15    1   \n",
       "264 2020-06-01       161.91 2020-08-21      166.20       4.29     8.58    2   \n",
       "265 2020-07-01       163.24 2020-08-21      166.20       2.96     2.96    1   \n",
       "266 2020-08-03       169.95 2020-08-21      166.20      -3.75    -3.75    1   \n",
       "\n",
       "     cumul_total direction symbol  \n",
       "262      9309.95      LONG    GLD  \n",
       "263      9308.80      LONG    TLT  \n",
       "264      9317.38      LONG    TLT  \n",
       "265      9320.34      LONG    TLT  \n",
       "266      9316.59      LONG    TLT  "
      ]
     },
     "execution_count": 7,
     "metadata": {},
     "output_type": "execute_result"
    }
   ],
   "source": [
    "tlog.tail()"
   ]
  },
  {
   "cell_type": "code",
   "execution_count": 8,
   "metadata": {
    "scrolled": false
   },
   "outputs": [
    {
     "data": {
      "text/html": [
       "<div>\n",
       "<style scoped>\n",
       "    .dataframe tbody tr th:only-of-type {\n",
       "        vertical-align: middle;\n",
       "    }\n",
       "\n",
       "    .dataframe tbody tr th {\n",
       "        vertical-align: top;\n",
       "    }\n",
       "\n",
       "    .dataframe thead th {\n",
       "        text-align: right;\n",
       "    }\n",
       "</style>\n",
       "<table border=\"1\" class=\"dataframe\">\n",
       "  <thead>\n",
       "    <tr style=\"text-align: right;\">\n",
       "      <th></th>\n",
       "      <th>high</th>\n",
       "      <th>low</th>\n",
       "      <th>close</th>\n",
       "      <th>shares</th>\n",
       "      <th>cash</th>\n",
       "      <th>leverage</th>\n",
       "      <th>state</th>\n",
       "    </tr>\n",
       "    <tr>\n",
       "      <th>date</th>\n",
       "      <th></th>\n",
       "      <th></th>\n",
       "      <th></th>\n",
       "      <th></th>\n",
       "      <th></th>\n",
       "      <th></th>\n",
       "      <th></th>\n",
       "    </tr>\n",
       "  </thead>\n",
       "  <tbody>\n",
       "    <tr>\n",
       "      <th>2020-08-17</th>\n",
       "      <td>19404.73</td>\n",
       "      <td>19404.73</td>\n",
       "      <td>19404.73</td>\n",
       "      <td>110</td>\n",
       "      <td>195.60</td>\n",
       "      <td>1.00</td>\n",
       "      <td>-</td>\n",
       "    </tr>\n",
       "    <tr>\n",
       "      <th>2020-08-18</th>\n",
       "      <td>19560.46</td>\n",
       "      <td>19560.46</td>\n",
       "      <td>19560.46</td>\n",
       "      <td>110</td>\n",
       "      <td>195.60</td>\n",
       "      <td>1.00</td>\n",
       "      <td>-</td>\n",
       "    </tr>\n",
       "    <tr>\n",
       "      <th>2020-08-19</th>\n",
       "      <td>19186.93</td>\n",
       "      <td>19186.93</td>\n",
       "      <td>19186.93</td>\n",
       "      <td>110</td>\n",
       "      <td>195.60</td>\n",
       "      <td>1.00</td>\n",
       "      <td>-</td>\n",
       "    </tr>\n",
       "    <tr>\n",
       "      <th>2020-08-20</th>\n",
       "      <td>19338.08</td>\n",
       "      <td>19338.08</td>\n",
       "      <td>19338.08</td>\n",
       "      <td>110</td>\n",
       "      <td>195.60</td>\n",
       "      <td>1.00</td>\n",
       "      <td>-</td>\n",
       "    </tr>\n",
       "    <tr>\n",
       "      <th>2020-08-21</th>\n",
       "      <td>19316.59</td>\n",
       "      <td>19316.59</td>\n",
       "      <td>19316.59</td>\n",
       "      <td>0</td>\n",
       "      <td>19316.59</td>\n",
       "      <td>1.00</td>\n",
       "      <td>X</td>\n",
       "    </tr>\n",
       "  </tbody>\n",
       "</table>\n",
       "</div>"
      ],
      "text/plain": [
       "               high      low    close  shares     cash  leverage state\n",
       "date                                                                  \n",
       "2020-08-17 19404.73 19404.73 19404.73     110   195.60      1.00     -\n",
       "2020-08-18 19560.46 19560.46 19560.46     110   195.60      1.00     -\n",
       "2020-08-19 19186.93 19186.93 19186.93     110   195.60      1.00     -\n",
       "2020-08-20 19338.08 19338.08 19338.08     110   195.60      1.00     -\n",
       "2020-08-21 19316.59 19316.59 19316.59       0 19316.59      1.00     X"
      ]
     },
     "execution_count": 8,
     "metadata": {},
     "output_type": "execute_result"
    }
   ],
   "source": [
    "dbal.tail()"
   ]
  },
  {
   "cell_type": "markdown",
   "metadata": {},
   "source": [
    "Generate strategy stats - display all available stats"
   ]
  },
  {
   "cell_type": "code",
   "execution_count": 9,
   "metadata": {},
   "outputs": [
    {
     "name": "stdout",
     "output_type": "stream",
     "text": [
      "start                                                   2006-04-26\n",
      "end                                                     2020-08-21\n",
      "beginning_balance                                            10000\n",
      "ending_balance                                            19316.59\n",
      "total_net_profit                                           9316.59\n",
      "gross_profit                                              28043.47\n",
      "gross_loss                                               -18726.87\n",
      "profit_factor                                                 1.50\n",
      "return_on_initial_capital                                    93.17\n",
      "annual_return_rate                                            4.70\n",
      "trading_period                           14 years 3 months 26 days\n",
      "pct_time_in_market                                           98.75\n",
      "margin                                                           1\n",
      "avg_leverage                                                  1.00\n",
      "max_leverage                                                  1.00\n",
      "min_leverage                                                  1.00\n",
      "total_num_trades                                               267\n",
      "trades_per_year                                              18.64\n",
      "num_winning_trades                                             188\n",
      "num_losing_trades                                               78\n",
      "num_even_trades                                                  1\n",
      "pct_profitable_trades                                        70.41\n",
      "avg_profit_per_trade                                         34.89\n",
      "avg_profit_per_winning_trade                                149.17\n",
      "avg_loss_per_losing_trade                                  -240.09\n",
      "ratio_avg_profit_win_loss                                     0.62\n",
      "largest_profit_winning_trade                               2407.65\n",
      "largest_loss_losing_trade                                 -5355.50\n",
      "num_winning_points                                         1593.69\n",
      "num_losing_points                                          -319.41\n",
      "total_net_points                                           1274.28\n",
      "avg_points                                                    4.77\n",
      "largest_points_winning_trade                                 49.33\n",
      "largest_points_losing_trade                                 -27.00\n",
      "avg_pct_gain_per_trade                                        4.93\n",
      "largest_pct_winning_trade                                    40.73\n",
      "largest_pct_losing_trade                                    -51.94\n",
      "max_consecutive_winning_trades                                  20\n",
      "max_consecutive_losing_trades                                    7\n",
      "avg_bars_winning_trades                                      95.08\n",
      "avg_bars_losing_trades                                       55.08\n",
      "max_closed_out_drawdown                                     -33.46\n",
      "max_closed_out_drawdown_start_date                      2018-01-26\n",
      "max_closed_out_drawdown_end_date                        2020-03-18\n",
      "max_closed_out_drawdown_recovery_date            Not Recovered Yet\n",
      "drawdown_recovery                                            -2.14\n",
      "drawdown_annualized_return                                   -7.11\n",
      "max_intra_day_drawdown                                      -33.46\n",
      "avg_yearly_closed_out_drawdown                              -11.18\n",
      "max_yearly_closed_out_drawdown                              -31.77\n",
      "avg_monthly_closed_out_drawdown                              -3.18\n",
      "max_monthly_closed_out_drawdown                             -31.77\n",
      "avg_weekly_closed_out_drawdown                               -1.28\n",
      "max_weekly_closed_out_drawdown                              -19.33\n",
      "avg_yearly_closed_out_runup                                  17.29\n",
      "max_yearly_closed_out_runup                                  46.72\n",
      "avg_monthly_closed_out_runup                                  3.65\n",
      "max_monthly_closed_out_runup                                 16.57\n",
      "avg_weekly_closed_out_runup                                   1.39\n",
      "max_weekly_closed_out_runup                                  13.95\n",
      "pct_profitable_years                                         70.40\n",
      "best_year                                                    43.51\n",
      "worst_year                                                  -23.51\n",
      "avg_year                                                      6.22\n",
      "annual_std                                                   10.47\n",
      "pct_profitable_months                                        58.15\n",
      "best_month                                                   14.55\n",
      "worst_month                                                 -31.61\n",
      "avg_month                                                     0.43\n",
      "monthly_std                                                   3.66\n",
      "pct_profitable_weeks                                         55.97\n",
      "best_week                                                    13.95\n",
      "worst_week                                                  -19.33\n",
      "avg_week                                                      0.11\n",
      "weekly_std                                                    1.99\n",
      "pct_profitable_days                                          54.16\n",
      "best_day                                                     13.84\n",
      "worst_day                                                   -11.61\n",
      "avg_day                                                       0.02\n",
      "daily_std                                                     0.98\n",
      "sharpe_ratio                                                  0.37\n",
      "sharpe_ratio_max                                              0.43\n",
      "sharpe_ratio_min                                              0.32\n",
      "sortino_ratio                                                 0.44\n",
      "dtype: object\n"
     ]
    }
   ],
   "source": [
    "pf.print_full(stats)"
   ]
  },
  {
   "cell_type": "markdown",
   "metadata": {},
   "source": [
    "Run Benchmark, Retrieve benchmark logs, and Generate benchmark stats"
   ]
  },
  {
   "cell_type": "code",
   "execution_count": 10,
   "metadata": {},
   "outputs": [
    {
     "name": "stdout",
     "output_type": "stream",
     "text": [
      "2006-04-26 00:00:00 BUY  102 SPY @ 97.62\n",
      "2020-08-21 00:00:00 SELL 102 SPY @ 339.48\n"
     ]
    }
   ],
   "source": [
    "benchmark = pf.Benchmark('SPY', capital, s.start, s.end, use_adj=True)\n",
    "benchmark.run()\n",
    "benchmark.tlog, benchmark.dbal = benchmark.get_logs()\n",
    "benchmark.stats = benchmark.get_stats()"
   ]
  },
  {
   "cell_type": "markdown",
   "metadata": {},
   "source": [
    "Plot Equity Curves: Strategy vs Benchmark"
   ]
  },
  {
   "cell_type": "code",
   "execution_count": 11,
   "metadata": {
    "scrolled": false
   },
   "outputs": [
    {
     "data": {
      "image/png": "[encoded data removed]",
      "text/plain": [
       "<Figure size 720x504 with 1 Axes>"
      ]
     },
     "metadata": {
      "needs_background": "light"
     },
     "output_type": "display_data"
    }
   ],
   "source": [
    "pf.plot_equity_curve(dbal, benchmark=benchmark.dbal)"
   ]
  },
  {
   "cell_type": "markdown",
   "metadata": {},
   "source": [
    "Plot Trades"
   ]
  },
  {
   "cell_type": "markdown",
   "metadata": {},
   "source": [
    "Bar Graph: Strategy vs Benchmark"
   ]
  },
  {
   "cell_type": "code",
   "execution_count": 12,
   "metadata": {},
   "outputs": [
    {
     "data": {
      "text/html": [
       "<div>\n",
       "<style scoped>\n",
       "    .dataframe tbody tr th:only-of-type {\n",
       "        vertical-align: middle;\n",
       "    }\n",
       "\n",
       "    .dataframe tbody tr th {\n",
       "        vertical-align: top;\n",
       "    }\n",
       "\n",
       "    .dataframe thead th {\n",
       "        text-align: right;\n",
       "    }\n",
       "</style>\n",
       "<table border=\"1\" class=\"dataframe\">\n",
       "  <thead>\n",
       "    <tr style=\"text-align: right;\">\n",
       "      <th></th>\n",
       "      <th>strategy</th>\n",
       "      <th>benchmark</th>\n",
       "    </tr>\n",
       "  </thead>\n",
       "  <tbody>\n",
       "    <tr>\n",
       "      <th>annual_return_rate</th>\n",
       "      <td>4.70</td>\n",
       "      <td>9.07</td>\n",
       "    </tr>\n",
       "    <tr>\n",
       "      <th>max_closed_out_drawdown</th>\n",
       "      <td>-33.46</td>\n",
       "      <td>-55.00</td>\n",
       "    </tr>\n",
       "    <tr>\n",
       "      <th>drawdown_annualized_return</th>\n",
       "      <td>-7.11</td>\n",
       "      <td>-6.06</td>\n",
       "    </tr>\n",
       "    <tr>\n",
       "      <th>drawdown_recovery</th>\n",
       "      <td>-2.14</td>\n",
       "      <td>-1.42</td>\n",
       "    </tr>\n",
       "    <tr>\n",
       "      <th>best_month</th>\n",
       "      <td>14.55</td>\n",
       "      <td>23.44</td>\n",
       "    </tr>\n",
       "    <tr>\n",
       "      <th>worst_month</th>\n",
       "      <td>-31.61</td>\n",
       "      <td>-30.95</td>\n",
       "    </tr>\n",
       "    <tr>\n",
       "      <th>sharpe_ratio</th>\n",
       "      <td>0.37</td>\n",
       "      <td>0.53</td>\n",
       "    </tr>\n",
       "    <tr>\n",
       "      <th>sortino_ratio</th>\n",
       "      <td>0.44</td>\n",
       "      <td>0.63</td>\n",
       "    </tr>\n",
       "    <tr>\n",
       "      <th>monthly_std</th>\n",
       "      <td>3.66</td>\n",
       "      <td>4.74</td>\n",
       "    </tr>\n",
       "    <tr>\n",
       "      <th>annual_std</th>\n",
       "      <td>10.47</td>\n",
       "      <td>16.25</td>\n",
       "    </tr>\n",
       "  </tbody>\n",
       "</table>\n",
       "</div>"
      ],
      "text/plain": [
       "                            strategy  benchmark\n",
       "annual_return_rate              4.70       9.07\n",
       "max_closed_out_drawdown       -33.46     -55.00\n",
       "drawdown_annualized_return     -7.11      -6.06\n",
       "drawdown_recovery              -2.14      -1.42\n",
       "best_month                     14.55      23.44\n",
       "worst_month                   -31.61     -30.95\n",
       "sharpe_ratio                    0.37       0.53\n",
       "sortino_ratio                   0.44       0.63\n",
       "monthly_std                     3.66       4.74\n",
       "annual_std                     10.47      16.25"
      ]
     },
     "execution_count": 12,
     "metadata": {},
     "output_type": "execute_result"
    },
    {
     "data": {
      "image/png": "[encoded data removed]",
      "text/plain": [
       "<Figure size 720x504 with 1 Axes>"
      ]
     },
     "metadata": {
      "needs_background": "light"
     },
     "output_type": "display_data"
    }
   ],
   "source": [
    "df = pf.plot_bar_graph(stats, benchmark.stats)\n",
    "df"
   ]
  },
  {
   "cell_type": "code",
   "execution_count": null,
   "metadata": {},
   "outputs": [],
   "source": []
  }
 ],
 "metadata": {
  "kernelspec": {
   "display_name": "Python 3",
   "language": "python",
   "name": "python3"
  },
  "language_info": {
   "codemirror_mode": {
    "name": "ipython",
    "version": 3
   },
   "file_extension": ".py",
   "mimetype": "text/x-python",
   "name": "python",
   "nbconvert_exporter": "python",
   "pygments_lexer": "ipython3",
   "version": "3.8.2"
  },
  "latex_envs": {
   "LaTeX_envs_menu_present": true,
   "autoclose": false,
   "autocomplete": true,
   "bibliofile": "biblio.bib",
   "cite_by": "apalike",
   "current_citInitial": 1,
   "eqLabelWithNumbers": true,
   "eqNumInitial": 1,
   "hotkeys": {
    "equation": "Ctrl-E",
    "itemize": "Ctrl-I"
   },
   "labels_anchors": false,
   "latex_user_defs": false,
   "report_style_numbering": false,
   "user_envs_cfg": false
  }
 },
 "nbformat": 4,
 "nbformat_minor": 1
}
