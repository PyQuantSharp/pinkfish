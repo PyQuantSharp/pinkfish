{
 "cells": [
  {
   "cell_type": "markdown",
   "metadata": {},
   "source": [
    "# Dual Momentum Sector Rotation (DMSR)\n",
    "\n",
    "**Buy Signal**: When the S&P 500 is above its 10-month simple moving average, buy the sectors with the biggest gains over a three-month timeframe.\n",
    "\n",
    "**Sell Signal**: Exit all positions when the S&P 500 moves below its 10-month simple moving average on a monthly closing basis.\n",
    "\n",
    "**Rebalance**: Once per month, sell sectors that fall out of the top tier (three) and buy the sectors that move into the top tier (two or three).\n",
    "\n",
    "https://school.stockcharts.com/doku.php?id=trading_strategies:sector_rotation_roc  \n",
    "https://robotwealth.com/dual-momentum-review/  "
   ]
  },
  {
   "cell_type": "code",
   "execution_count": 1,
   "metadata": {
    "ExecuteTime": {
     "end_time": "2020-02-17T05:42:08.798393Z",
     "start_time": "2020-02-17T05:42:07.455687Z"
    }
   },
   "outputs": [],
   "source": [
    "import pandas as pd\n",
    "import matplotlib.pyplot as plt\n",
    "import datetime\n",
    "from talib.abstract import *\n",
    "\n",
    "import pinkfish as pf\n",
    "import strategy\n",
    "\n",
    "# format price data\n",
    "pd.options.display.float_format = '{:0.2f}'.format\n",
    "\n",
    "%matplotlib inline"
   ]
  },
  {
   "cell_type": "code",
   "execution_count": 2,
   "metadata": {
    "ExecuteTime": {
     "end_time": "2020-02-17T05:42:08.816893Z",
     "start_time": "2020-02-17T05:42:08.808607Z"
    }
   },
   "outputs": [],
   "source": [
    "# set size of inline plots\n",
    "'''note: rcParams can't be in same cell as import matplotlib\n",
    "   or %matplotlib inline\n",
    "   \n",
    "   %matplotlib notebook: will lead to interactive plots embedded within\n",
    "   the notebook, you can zoom and resize the figure\n",
    "   \n",
    "   %matplotlib inline: only draw static images in the notebook\n",
    "'''\n",
    "plt.rcParams[\"figure.figsize\"] = (10, 7)"
   ]
  },
  {
   "cell_type": "markdown",
   "metadata": {},
   "source": [
    "Some global data"
   ]
  },
  {
   "cell_type": "code",
   "execution_count": 3,
   "metadata": {
    "ExecuteTime": {
     "end_time": "2020-02-17T05:42:08.835362Z",
     "start_time": "2020-02-17T05:42:08.821138Z"
    }
   },
   "outputs": [],
   "source": [
    "symbols = ['XLB', 'XLE', 'XLF', 'XLI', 'XLK', 'XLP', 'XLU', 'XLV', 'XLY']\n",
    "#symbols = ['IWB', 'SPY', 'VGK', 'IEV', 'EWJ', 'EPP', 'IEF', 'SHY', 'GLD']\n",
    "#symbols = ['SPY', 'TLT', 'NLY', 'GLD']\n",
    "\n",
    "capital = 10000\n",
    "start = datetime.datetime(1900, 1, 1)\n",
    "#start = datetime.datetime.strptime(pf.SP500_BEGIN, '%Y-%m-%d')\n",
    "end = datetime.datetime.now()\n",
    "#end = datetime.datetime(2019, 1, 1)\n",
    "# num months lookback\n",
    "lookback = 3\n",
    "top_tier = 2\n",
    "\n",
    "use_cache = True\n",
    "use_absolute_mom = True\n",
    "use_regime_filter = True"
   ]
  },
  {
   "cell_type": "markdown",
   "metadata": {},
   "source": [
    "Run Strategy"
   ]
  },
  {
   "cell_type": "code",
   "execution_count": 4,
   "metadata": {
    "scrolled": false
   },
   "outputs": [],
   "source": [
    "s = strategy.Strategy(symbols, capital, start, end, margin=1, lookback=lookback,\n",
    "                      use_cache=use_cache, use_absolute_mom=use_absolute_mom,\n",
    "                      use_regime_filter=use_regime_filter, top_tier=top_tier)\n",
    "s.run()"
   ]
  },
  {
   "cell_type": "markdown",
   "metadata": {},
   "source": [
    "Retrieve log DataFrames"
   ]
  },
  {
   "cell_type": "code",
   "execution_count": 5,
   "metadata": {},
   "outputs": [],
   "source": [
    "rlog, tlog, dbal = s.get_logs()\n",
    "stats = s.get_stats()"
   ]
  },
  {
   "cell_type": "code",
   "execution_count": 6,
   "metadata": {},
   "outputs": [
    {
     "data": {
      "text/html": [
       "<div>\n",
       "<style scoped>\n",
       "    .dataframe tbody tr th:only-of-type {\n",
       "        vertical-align: middle;\n",
       "    }\n",
       "\n",
       "    .dataframe tbody tr th {\n",
       "        vertical-align: top;\n",
       "    }\n",
       "\n",
       "    .dataframe thead th {\n",
       "        text-align: right;\n",
       "    }\n",
       "</style>\n",
       "<table border=\"1\" class=\"dataframe\">\n",
       "  <thead>\n",
       "    <tr style=\"text-align: right;\">\n",
       "      <th></th>\n",
       "      <th>date</th>\n",
       "      <th>seq_num</th>\n",
       "      <th>price</th>\n",
       "      <th>shares</th>\n",
       "      <th>entry_exit</th>\n",
       "      <th>direction</th>\n",
       "      <th>symbol</th>\n",
       "    </tr>\n",
       "  </thead>\n",
       "  <tbody>\n",
       "    <tr>\n",
       "      <th>0</th>\n",
       "      <td>2000-06-01</td>\n",
       "      <td>0</td>\n",
       "      <td>10.72</td>\n",
       "      <td>466</td>\n",
       "      <td>entry</td>\n",
       "      <td>LONG</td>\n",
       "      <td>XLF</td>\n",
       "    </tr>\n",
       "    <tr>\n",
       "      <th>1</th>\n",
       "      <td>2000-06-01</td>\n",
       "      <td>1</td>\n",
       "      <td>14.94</td>\n",
       "      <td>334</td>\n",
       "      <td>entry</td>\n",
       "      <td>LONG</td>\n",
       "      <td>XLP</td>\n",
       "    </tr>\n",
       "    <tr>\n",
       "      <th>2</th>\n",
       "      <td>2000-07-03</td>\n",
       "      <td>2</td>\n",
       "      <td>10.05</td>\n",
       "      <td>466</td>\n",
       "      <td>exit</td>\n",
       "      <td>LONG</td>\n",
       "      <td>XLF</td>\n",
       "    </tr>\n",
       "    <tr>\n",
       "      <th>3</th>\n",
       "      <td>2000-07-03</td>\n",
       "      <td>3</td>\n",
       "      <td>15.78</td>\n",
       "      <td>19</td>\n",
       "      <td>exit</td>\n",
       "      <td>LONG</td>\n",
       "      <td>XLP</td>\n",
       "    </tr>\n",
       "    <tr>\n",
       "      <th>4</th>\n",
       "      <td>2000-07-03</td>\n",
       "      <td>4</td>\n",
       "      <td>19.32</td>\n",
       "      <td>257</td>\n",
       "      <td>entry</td>\n",
       "      <td>LONG</td>\n",
       "      <td>XLE</td>\n",
       "    </tr>\n",
       "  </tbody>\n",
       "</table>\n",
       "</div>"
      ],
      "text/plain": [
       "        date  seq_num  price  shares entry_exit direction symbol\n",
       "0 2000-06-01        0  10.72     466      entry      LONG    XLF\n",
       "1 2000-06-01        1  14.94     334      entry      LONG    XLP\n",
       "2 2000-07-03        2  10.05     466       exit      LONG    XLF\n",
       "3 2000-07-03        3  15.78      19       exit      LONG    XLP\n",
       "4 2000-07-03        4  19.32     257      entry      LONG    XLE"
      ]
     },
     "execution_count": 6,
     "metadata": {},
     "output_type": "execute_result"
    }
   ],
   "source": [
    "rlog.head()"
   ]
  },
  {
   "cell_type": "code",
   "execution_count": 7,
   "metadata": {},
   "outputs": [
    {
     "data": {
      "text/html": [
       "<div>\n",
       "<style scoped>\n",
       "    .dataframe tbody tr th:only-of-type {\n",
       "        vertical-align: middle;\n",
       "    }\n",
       "\n",
       "    .dataframe tbody tr th {\n",
       "        vertical-align: top;\n",
       "    }\n",
       "\n",
       "    .dataframe thead th {\n",
       "        text-align: right;\n",
       "    }\n",
       "</style>\n",
       "<table border=\"1\" class=\"dataframe\">\n",
       "  <thead>\n",
       "    <tr style=\"text-align: right;\">\n",
       "      <th></th>\n",
       "      <th>entry_date</th>\n",
       "      <th>entry_price</th>\n",
       "      <th>exit_date</th>\n",
       "      <th>exit_price</th>\n",
       "      <th>pl_points</th>\n",
       "      <th>pl_cash</th>\n",
       "      <th>qty</th>\n",
       "      <th>cumul_total</th>\n",
       "      <th>direction</th>\n",
       "      <th>symbol</th>\n",
       "    </tr>\n",
       "  </thead>\n",
       "  <tbody>\n",
       "    <tr>\n",
       "      <th>297</th>\n",
       "      <td>2020-03-02</td>\n",
       "      <td>64.65</td>\n",
       "      <td>2020-04-01</td>\n",
       "      <td>51.65</td>\n",
       "      <td>-13.00</td>\n",
       "      <td>-26.00</td>\n",
       "      <td>2</td>\n",
       "      <td>19804.78</td>\n",
       "      <td>LONG</td>\n",
       "      <td>XLU</td>\n",
       "    </tr>\n",
       "    <tr>\n",
       "      <th>298</th>\n",
       "      <td>2020-07-01</td>\n",
       "      <td>104.66</td>\n",
       "      <td>2020-08-03</td>\n",
       "      <td>113.15</td>\n",
       "      <td>8.49</td>\n",
       "      <td>16.98</td>\n",
       "      <td>2</td>\n",
       "      <td>19821.76</td>\n",
       "      <td>LONG</td>\n",
       "      <td>XLK</td>\n",
       "    </tr>\n",
       "    <tr>\n",
       "      <th>299</th>\n",
       "      <td>2020-07-01</td>\n",
       "      <td>104.66</td>\n",
       "      <td>2020-08-21</td>\n",
       "      <td>117.94</td>\n",
       "      <td>13.28</td>\n",
       "      <td>1859.20</td>\n",
       "      <td>140</td>\n",
       "      <td>21680.96</td>\n",
       "      <td>LONG</td>\n",
       "      <td>XLK</td>\n",
       "    </tr>\n",
       "    <tr>\n",
       "      <th>300</th>\n",
       "      <td>2020-07-01</td>\n",
       "      <td>129.00</td>\n",
       "      <td>2020-08-21</td>\n",
       "      <td>146.18</td>\n",
       "      <td>17.18</td>\n",
       "      <td>1975.70</td>\n",
       "      <td>115</td>\n",
       "      <td>23656.66</td>\n",
       "      <td>LONG</td>\n",
       "      <td>XLY</td>\n",
       "    </tr>\n",
       "    <tr>\n",
       "      <th>301</th>\n",
       "      <td>2020-08-03</td>\n",
       "      <td>136.71</td>\n",
       "      <td>2020-08-21</td>\n",
       "      <td>146.18</td>\n",
       "      <td>9.47</td>\n",
       "      <td>9.47</td>\n",
       "      <td>1</td>\n",
       "      <td>23666.13</td>\n",
       "      <td>LONG</td>\n",
       "      <td>XLY</td>\n",
       "    </tr>\n",
       "  </tbody>\n",
       "</table>\n",
       "</div>"
      ],
      "text/plain": [
       "    entry_date  entry_price  exit_date  exit_price  pl_points  pl_cash  qty  \\\n",
       "297 2020-03-02        64.65 2020-04-01       51.65     -13.00   -26.00    2   \n",
       "298 2020-07-01       104.66 2020-08-03      113.15       8.49    16.98    2   \n",
       "299 2020-07-01       104.66 2020-08-21      117.94      13.28  1859.20  140   \n",
       "300 2020-07-01       129.00 2020-08-21      146.18      17.18  1975.70  115   \n",
       "301 2020-08-03       136.71 2020-08-21      146.18       9.47     9.47    1   \n",
       "\n",
       "     cumul_total direction symbol  \n",
       "297     19804.78      LONG    XLU  \n",
       "298     19821.76      LONG    XLK  \n",
       "299     21680.96      LONG    XLK  \n",
       "300     23656.66      LONG    XLY  \n",
       "301     23666.13      LONG    XLY  "
      ]
     },
     "execution_count": 7,
     "metadata": {},
     "output_type": "execute_result"
    }
   ],
   "source": [
    "tlog.tail()"
   ]
  },
  {
   "cell_type": "code",
   "execution_count": 8,
   "metadata": {
    "scrolled": false
   },
   "outputs": [
    {
     "data": {
      "text/html": [
       "<div>\n",
       "<style scoped>\n",
       "    .dataframe tbody tr th:only-of-type {\n",
       "        vertical-align: middle;\n",
       "    }\n",
       "\n",
       "    .dataframe tbody tr th {\n",
       "        vertical-align: top;\n",
       "    }\n",
       "\n",
       "    .dataframe thead th {\n",
       "        text-align: right;\n",
       "    }\n",
       "</style>\n",
       "<table border=\"1\" class=\"dataframe\">\n",
       "  <thead>\n",
       "    <tr style=\"text-align: right;\">\n",
       "      <th></th>\n",
       "      <th>high</th>\n",
       "      <th>low</th>\n",
       "      <th>close</th>\n",
       "      <th>shares</th>\n",
       "      <th>cash</th>\n",
       "      <th>leverage</th>\n",
       "      <th>state</th>\n",
       "    </tr>\n",
       "    <tr>\n",
       "      <th>date</th>\n",
       "      <th></th>\n",
       "      <th></th>\n",
       "      <th></th>\n",
       "      <th></th>\n",
       "      <th></th>\n",
       "      <th></th>\n",
       "      <th></th>\n",
       "    </tr>\n",
       "  </thead>\n",
       "  <tbody>\n",
       "    <tr>\n",
       "      <th>2020-08-17</th>\n",
       "      <td>33118.29</td>\n",
       "      <td>33118.29</td>\n",
       "      <td>33118.29</td>\n",
       "      <td>256</td>\n",
       "      <td>197.65</td>\n",
       "      <td>1.00</td>\n",
       "      <td>-</td>\n",
       "    </tr>\n",
       "    <tr>\n",
       "      <th>2020-08-18</th>\n",
       "      <td>33282.89</td>\n",
       "      <td>33282.89</td>\n",
       "      <td>33282.89</td>\n",
       "      <td>256</td>\n",
       "      <td>197.65</td>\n",
       "      <td>1.00</td>\n",
       "      <td>-</td>\n",
       "    </tr>\n",
       "    <tr>\n",
       "      <th>2020-08-19</th>\n",
       "      <td>33183.25</td>\n",
       "      <td>33183.25</td>\n",
       "      <td>33183.25</td>\n",
       "      <td>256</td>\n",
       "      <td>197.65</td>\n",
       "      <td>1.00</td>\n",
       "      <td>-</td>\n",
       "    </tr>\n",
       "    <tr>\n",
       "      <th>2020-08-20</th>\n",
       "      <td>33371.93</td>\n",
       "      <td>33371.93</td>\n",
       "      <td>33371.93</td>\n",
       "      <td>256</td>\n",
       "      <td>197.65</td>\n",
       "      <td>1.00</td>\n",
       "      <td>-</td>\n",
       "    </tr>\n",
       "    <tr>\n",
       "      <th>2020-08-21</th>\n",
       "      <td>33666.13</td>\n",
       "      <td>33666.13</td>\n",
       "      <td>33666.13</td>\n",
       "      <td>0</td>\n",
       "      <td>33666.13</td>\n",
       "      <td>1.00</td>\n",
       "      <td>X</td>\n",
       "    </tr>\n",
       "  </tbody>\n",
       "</table>\n",
       "</div>"
      ],
      "text/plain": [
       "               high      low    close  shares     cash  leverage state\n",
       "date                                                                  \n",
       "2020-08-17 33118.29 33118.29 33118.29     256   197.65      1.00     -\n",
       "2020-08-18 33282.89 33282.89 33282.89     256   197.65      1.00     -\n",
       "2020-08-19 33183.25 33183.25 33183.25     256   197.65      1.00     -\n",
       "2020-08-20 33371.93 33371.93 33371.93     256   197.65      1.00     -\n",
       "2020-08-21 33666.13 33666.13 33666.13       0 33666.13      1.00     X"
      ]
     },
     "execution_count": 8,
     "metadata": {},
     "output_type": "execute_result"
    }
   ],
   "source": [
    "dbal.tail()"
   ]
  },
  {
   "cell_type": "markdown",
   "metadata": {},
   "source": [
    "Generate strategy stats - display all available stats"
   ]
  },
  {
   "cell_type": "code",
   "execution_count": 9,
   "metadata": {},
   "outputs": [
    {
     "name": "stdout",
     "output_type": "stream",
     "text": [
      "start                                                   2000-05-26\n",
      "end                                                     2020-08-21\n",
      "beginning_balance                                            10000\n",
      "ending_balance                                            33666.13\n",
      "total_net_profit                                          23666.13\n",
      "gross_profit                                              60710.14\n",
      "gross_loss                                               -37044.01\n",
      "profit_factor                                                 1.64\n",
      "return_on_initial_capital                                   236.66\n",
      "annual_return_rate                                            6.18\n",
      "trading_period                           20 years 2 months 26 days\n",
      "pct_time_in_market                                           68.05\n",
      "margin                                                           1\n",
      "avg_leverage                                                  1.00\n",
      "max_leverage                                                  1.00\n",
      "min_leverage                                                  1.00\n",
      "total_num_trades                                               302\n",
      "trades_per_year                                              14.92\n",
      "num_winning_trades                                             224\n",
      "num_losing_trades                                               78\n",
      "num_even_trades                                                  0\n",
      "pct_profitable_trades                                        74.17\n",
      "avg_profit_per_trade                                         78.36\n",
      "avg_profit_per_winning_trade                                271.03\n",
      "avg_loss_per_losing_trade                                  -474.92\n",
      "ratio_avg_profit_win_loss                                     0.57\n",
      "largest_profit_winning_trade                               7166.86\n",
      "largest_loss_losing_trade                                 -4579.74\n",
      "num_winning_points                                          487.94\n",
      "num_losing_points                                          -165.47\n",
      "total_net_points                                            322.47\n",
      "avg_points                                                    1.07\n",
      "largest_points_winning_trade                                 17.18\n",
      "largest_points_losing_trade                                 -16.32\n",
      "avg_pct_gain_per_trade                                        3.70\n",
      "largest_pct_winning_trade                                    66.85\n",
      "largest_pct_losing_trade                                    -23.99\n",
      "max_consecutive_winning_trades                                  19\n",
      "max_consecutive_losing_trades                                    4\n",
      "avg_bars_winning_trades                                      43.18\n",
      "avg_bars_losing_trades                                       30.31\n",
      "max_closed_out_drawdown                                     -37.51\n",
      "max_closed_out_drawdown_start_date                      2018-01-26\n",
      "max_closed_out_drawdown_end_date                        2020-03-23\n",
      "max_closed_out_drawdown_recovery_date            Not Recovered Yet\n",
      "drawdown_recovery                                            -2.15\n",
      "drawdown_annualized_return                                   -6.07\n",
      "max_intra_day_drawdown                                      -37.51\n",
      "avg_yearly_closed_out_drawdown                              -10.18\n",
      "max_yearly_closed_out_drawdown                              -33.12\n",
      "avg_monthly_closed_out_drawdown                              -2.58\n",
      "max_monthly_closed_out_drawdown                             -30.19\n",
      "avg_weekly_closed_out_drawdown                               -1.03\n",
      "max_weekly_closed_out_drawdown                              -18.64\n",
      "avg_yearly_closed_out_runup                                  16.95\n",
      "max_yearly_closed_out_runup                                  48.73\n",
      "avg_monthly_closed_out_runup                                  3.11\n",
      "max_monthly_closed_out_runup                                 22.02\n",
      "avg_weekly_closed_out_runup                                   1.18\n",
      "max_weekly_closed_out_runup                                  22.02\n",
      "pct_profitable_years                                         67.29\n",
      "best_year                                                    45.94\n",
      "worst_year                                                  -28.31\n",
      "avg_year                                                      7.17\n",
      "annual_std                                                   11.53\n",
      "pct_profitable_months                                        44.46\n",
      "best_month                                                   18.91\n",
      "worst_month                                                 -30.19\n",
      "avg_month                                                     0.53\n",
      "monthly_std                                                   3.56\n",
      "pct_profitable_weeks                                         39.87\n",
      "best_week                                                    22.02\n",
      "worst_week                                                  -18.06\n",
      "avg_week                                                      0.14\n",
      "weekly_std                                                    1.91\n",
      "pct_profitable_days                                          36.63\n",
      "best_day                                                     15.11\n",
      "worst_day                                                   -12.54\n",
      "avg_day                                                       0.03\n",
      "daily_std                                                     0.93\n",
      "sharpe_ratio                                                  0.48\n",
      "sharpe_ratio_max                                              0.52\n",
      "sharpe_ratio_min                                              0.44\n",
      "sortino_ratio                                                 0.51\n",
      "dtype: object\n"
     ]
    }
   ],
   "source": [
    "pf.print_full(stats)"
   ]
  },
  {
   "cell_type": "markdown",
   "metadata": {},
   "source": [
    "Run Benchmark, Retrieve benchmark logs, and Generate benchmark stats"
   ]
  },
  {
   "cell_type": "code",
   "execution_count": 10,
   "metadata": {},
   "outputs": [
    {
     "name": "stdout",
     "output_type": "stream",
     "text": [
      "2000-05-26 00:00:00 BUY  106 SPY @ 93.76\n",
      "2020-10-16 00:00:00 SELL 106 SPY @ 347.29\n"
     ]
    }
   ],
   "source": [
    "benchmark = pf.Benchmark('SPY', capital, s.start, s.end, use_adj=True)\n",
    "benchmark.run()\n",
    "benchmark.tlog, benchmark.dbal = benchmark.get_logs()\n",
    "benchmark.stats = benchmark.get_stats()"
   ]
  },
  {
   "cell_type": "markdown",
   "metadata": {},
   "source": [
    "Plot Equity Curves: Strategy vs Benchmark"
   ]
  },
  {
   "cell_type": "code",
   "execution_count": 11,
   "metadata": {
    "scrolled": false
   },
   "outputs": [
    {
     "data": {
      "image/png": "[encoded data removed]",
      "text/plain": [
       "<Figure size 720x504 with 1 Axes>"
      ]
     },
     "metadata": {
      "needs_background": "light"
     },
     "output_type": "display_data"
    }
   ],
   "source": [
    "pf.plot_equity_curve(dbal, benchmark=benchmark.dbal)"
   ]
  },
  {
   "cell_type": "markdown",
   "metadata": {},
   "source": [
    "Plot Trades"
   ]
  },
  {
   "cell_type": "markdown",
   "metadata": {},
   "source": [
    "Bar Graph: Strategy vs Benchmark"
   ]
  },
  {
   "cell_type": "code",
   "execution_count": 12,
   "metadata": {},
   "outputs": [
    {
     "data": {
      "text/html": [
       "<div>\n",
       "<style scoped>\n",
       "    .dataframe tbody tr th:only-of-type {\n",
       "        vertical-align: middle;\n",
       "    }\n",
       "\n",
       "    .dataframe tbody tr th {\n",
       "        vertical-align: top;\n",
       "    }\n",
       "\n",
       "    .dataframe thead th {\n",
       "        text-align: right;\n",
       "    }\n",
       "</style>\n",
       "<table border=\"1\" class=\"dataframe\">\n",
       "  <thead>\n",
       "    <tr style=\"text-align: right;\">\n",
       "      <th></th>\n",
       "      <th>strategy</th>\n",
       "      <th>benchmark</th>\n",
       "    </tr>\n",
       "  </thead>\n",
       "  <tbody>\n",
       "    <tr>\n",
       "      <th>annual_return_rate</th>\n",
       "      <td>6.18</td>\n",
       "      <td>6.61</td>\n",
       "    </tr>\n",
       "    <tr>\n",
       "      <th>max_closed_out_drawdown</th>\n",
       "      <td>-37.51</td>\n",
       "      <td>-54.92</td>\n",
       "    </tr>\n",
       "    <tr>\n",
       "      <th>drawdown_annualized_return</th>\n",
       "      <td>-6.07</td>\n",
       "      <td>-8.31</td>\n",
       "    </tr>\n",
       "    <tr>\n",
       "      <th>drawdown_recovery</th>\n",
       "      <td>-2.15</td>\n",
       "      <td>-1.42</td>\n",
       "    </tr>\n",
       "    <tr>\n",
       "      <th>best_month</th>\n",
       "      <td>18.91</td>\n",
       "      <td>23.37</td>\n",
       "    </tr>\n",
       "    <tr>\n",
       "      <th>worst_month</th>\n",
       "      <td>-30.19</td>\n",
       "      <td>-30.93</td>\n",
       "    </tr>\n",
       "    <tr>\n",
       "      <th>sharpe_ratio</th>\n",
       "      <td>0.48</td>\n",
       "      <td>0.42</td>\n",
       "    </tr>\n",
       "    <tr>\n",
       "      <th>sortino_ratio</th>\n",
       "      <td>0.51</td>\n",
       "      <td>0.53</td>\n",
       "    </tr>\n",
       "    <tr>\n",
       "      <th>monthly_std</th>\n",
       "      <td>3.56</td>\n",
       "      <td>4.69</td>\n",
       "    </tr>\n",
       "    <tr>\n",
       "      <th>annual_std</th>\n",
       "      <td>11.53</td>\n",
       "      <td>16.47</td>\n",
       "    </tr>\n",
       "  </tbody>\n",
       "</table>\n",
       "</div>"
      ],
      "text/plain": [
       "                            strategy  benchmark\n",
       "annual_return_rate              6.18       6.61\n",
       "max_closed_out_drawdown       -37.51     -54.92\n",
       "drawdown_annualized_return     -6.07      -8.31\n",
       "drawdown_recovery              -2.15      -1.42\n",
       "best_month                     18.91      23.37\n",
       "worst_month                   -30.19     -30.93\n",
       "sharpe_ratio                    0.48       0.42\n",
       "sortino_ratio                   0.51       0.53\n",
       "monthly_std                     3.56       4.69\n",
       "annual_std                     11.53      16.47"
      ]
     },
     "execution_count": 12,
     "metadata": {},
     "output_type": "execute_result"
    },
    {
     "data": {
      "image/png": "[encoded data removed]",
      "text/plain": [
       "<Figure size 720x504 with 1 Axes>"
      ]
     },
     "metadata": {
      "needs_background": "light"
     },
     "output_type": "display_data"
    }
   ],
   "source": [
    "df = pf.plot_bar_graph(stats, benchmark.stats)\n",
    "df"
   ]
  },
  {
   "cell_type": "code",
   "execution_count": null,
   "metadata": {},
   "outputs": [],
   "source": []
  }
 ],
 "metadata": {
  "kernelspec": {
   "display_name": "Python 3",
   "language": "python",
   "name": "python3"
  },
  "language_info": {
   "codemirror_mode": {
    "name": "ipython",
    "version": 3
   },
   "file_extension": ".py",
   "mimetype": "text/x-python",
   "name": "python",
   "nbconvert_exporter": "python",
   "pygments_lexer": "ipython3",
   "version": "3.8.5"
  },
  "latex_envs": {
   "LaTeX_envs_menu_present": true,
   "autoclose": false,
   "autocomplete": true,
   "bibliofile": "biblio.bib",
   "cite_by": "apalike",
   "current_citInitial": 1,
   "eqLabelWithNumbers": true,
   "eqNumInitial": 1,
   "hotkeys": {
    "equation": "Ctrl-E",
    "itemize": "Ctrl-I"
   },
   "labels_anchors": false,
   "latex_user_defs": false,
   "report_style_numbering": false,
   "user_envs_cfg": false
  }
 },
 "nbformat": 4,
 "nbformat_minor": 1
}
