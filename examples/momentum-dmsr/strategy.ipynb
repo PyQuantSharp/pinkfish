{
 "cells": [
  {
   "cell_type": "markdown",
   "metadata": {},
   "source": [
    "# Dual Momentum Sector Rotation (DMSR)\n",
    "\n",
    "**Buy Signal**: When the S&P 500 is above its 10-month simple moving average, buy the sectors with the biggest gains over a three-month timeframe.\n",
    "\n",
    "**Sell Signal**: Exit all positions when the S&P 500 moves below its 10-month simple moving average on a monthly closing basis.\n",
    "\n",
    "**Rebalance**: Once per month, sell sectors that fall out of the top tier (three) and buy the sectors that move into the top tier (three).\n",
    "\n",
    "https://school.stockcharts.com/doku.php?id=trading_strategies:sector_rotation_roc  \n",
    "https://robotwealth.com/dual-momentum-review/  "
   ]
  },
  {
   "cell_type": "code",
   "execution_count": 1,
   "metadata": {
    "ExecuteTime": {
     "end_time": "2020-02-17T05:42:08.798393Z",
     "start_time": "2020-02-17T05:42:07.455687Z"
    }
   },
   "outputs": [],
   "source": [
    "import pandas as pd\n",
    "import matplotlib.pyplot as plt\n",
    "import datetime\n",
    "from talib.abstract import *\n",
    "\n",
    "import pinkfish as pf\n",
    "import strategy\n",
    "\n",
    "# format price data\n",
    "pd.options.display.float_format = '{:0.2f}'.format\n",
    "\n",
    "%matplotlib inline"
   ]
  },
  {
   "cell_type": "code",
   "execution_count": 2,
   "metadata": {
    "ExecuteTime": {
     "end_time": "2020-02-17T05:42:08.816893Z",
     "start_time": "2020-02-17T05:42:08.808607Z"
    }
   },
   "outputs": [],
   "source": [
    "# set size of inline plots\n",
    "'''note: rcParams can't be in same cell as import matplotlib\n",
    "   or %matplotlib inline\n",
    "   \n",
    "   %matplotlib notebook: will lead to interactive plots embedded within\n",
    "   the notebook, you can zoom and resize the figure\n",
    "   \n",
    "   %matplotlib inline: only draw static images in the notebook\n",
    "'''\n",
    "plt.rcParams[\"figure.figsize\"] = (10, 7)"
   ]
  },
  {
   "cell_type": "markdown",
   "metadata": {},
   "source": [
    "Some global data"
   ]
  },
  {
   "cell_type": "code",
   "execution_count": 3,
   "metadata": {
    "ExecuteTime": {
     "end_time": "2020-02-17T05:42:08.835362Z",
     "start_time": "2020-02-17T05:42:08.821138Z"
    }
   },
   "outputs": [],
   "source": [
    "#symbols = ['XLB', 'XLE', 'XLF', 'XLI', 'XLK', 'XLP', 'XLU', 'XLV', 'XLY']\n",
    "#symbols = ['IWB', 'SPY', 'VGK', 'IEV', 'EWJ', 'EPP', 'IEF', 'SHY', 'GLD']\n",
    "symbols = ['SPY', 'TLT', 'NLY', 'GLD']\n",
    "\n",
    "capital = 10000\n",
    "start = datetime.datetime(1900, 1, 1)\n",
    "#start = datetime.datetime.strptime(pf.SP500_BEGIN, '%Y-%m-%d')\n",
    "end = datetime.datetime.now()\n",
    "#end = datetime.datetime(2019, 1, 1)\n",
    "# num months lookback\n",
    "lookback = 6\n",
    "top_tier = 2\n",
    "\n",
    "use_cache = True\n",
    "use_absolute_mom = True\n",
    "use_regime_filter = False"
   ]
  },
  {
   "cell_type": "markdown",
   "metadata": {},
   "source": [
    "Run Strategy"
   ]
  },
  {
   "cell_type": "code",
   "execution_count": 4,
   "metadata": {
    "scrolled": false
   },
   "outputs": [],
   "source": [
    "s = strategy.Strategy(symbols, capital, start, end, margin=1, lookback=lookback,\n",
    "                      use_cache=use_cache, use_absolute_mom=use_absolute_mom,\n",
    "                      use_regime_filter=use_regime_filter, top_tier=top_tier)\n",
    "s.run()"
   ]
  },
  {
   "cell_type": "markdown",
   "metadata": {},
   "source": [
    "Retrieve log DataFrames"
   ]
  },
  {
   "cell_type": "code",
   "execution_count": 5,
   "metadata": {},
   "outputs": [],
   "source": [
    "rlog, tlog, dbal = s.get_logs()\n",
    "stats = s.get_stats()"
   ]
  },
  {
   "cell_type": "code",
   "execution_count": 6,
   "metadata": {},
   "outputs": [
    {
     "data": {
      "text/html": [
       "<div>\n",
       "<style scoped>\n",
       "    .dataframe tbody tr th:only-of-type {\n",
       "        vertical-align: middle;\n",
       "    }\n",
       "\n",
       "    .dataframe tbody tr th {\n",
       "        vertical-align: top;\n",
       "    }\n",
       "\n",
       "    .dataframe thead th {\n",
       "        text-align: right;\n",
       "    }\n",
       "</style>\n",
       "<table border=\"1\" class=\"dataframe\">\n",
       "  <thead>\n",
       "    <tr style=\"text-align: right;\">\n",
       "      <th></th>\n",
       "      <th>date</th>\n",
       "      <th>seq_num</th>\n",
       "      <th>price</th>\n",
       "      <th>shares</th>\n",
       "      <th>entry_exit</th>\n",
       "      <th>direction</th>\n",
       "      <th>symbol</th>\n",
       "    </tr>\n",
       "  </thead>\n",
       "  <tbody>\n",
       "    <tr>\n",
       "      <th>0</th>\n",
       "      <td>2006-05-01</td>\n",
       "      <td>0</td>\n",
       "      <td>2.50</td>\n",
       "      <td>2001</td>\n",
       "      <td>entry</td>\n",
       "      <td>LONG</td>\n",
       "      <td>NLY</td>\n",
       "    </tr>\n",
       "    <tr>\n",
       "      <th>1</th>\n",
       "      <td>2006-05-01</td>\n",
       "      <td>1</td>\n",
       "      <td>65.16</td>\n",
       "      <td>76</td>\n",
       "      <td>entry</td>\n",
       "      <td>LONG</td>\n",
       "      <td>GLD</td>\n",
       "    </tr>\n",
       "    <tr>\n",
       "      <th>2</th>\n",
       "      <td>2006-06-01</td>\n",
       "      <td>2</td>\n",
       "      <td>2.49</td>\n",
       "      <td>38</td>\n",
       "      <td>exit</td>\n",
       "      <td>LONG</td>\n",
       "      <td>NLY</td>\n",
       "    </tr>\n",
       "    <tr>\n",
       "      <th>3</th>\n",
       "      <td>2006-06-01</td>\n",
       "      <td>3</td>\n",
       "      <td>62.56</td>\n",
       "      <td>2</td>\n",
       "      <td>entry</td>\n",
       "      <td>LONG</td>\n",
       "      <td>GLD</td>\n",
       "    </tr>\n",
       "    <tr>\n",
       "      <th>4</th>\n",
       "      <td>2006-07-03</td>\n",
       "      <td>4</td>\n",
       "      <td>2.45</td>\n",
       "      <td>8</td>\n",
       "      <td>entry</td>\n",
       "      <td>LONG</td>\n",
       "      <td>NLY</td>\n",
       "    </tr>\n",
       "  </tbody>\n",
       "</table>\n",
       "</div>"
      ],
      "text/plain": [
       "        date  seq_num  price  shares entry_exit direction symbol\n",
       "0 2006-05-01        0   2.50    2001      entry      LONG    NLY\n",
       "1 2006-05-01        1  65.16      76      entry      LONG    GLD\n",
       "2 2006-06-01        2   2.49      38       exit      LONG    NLY\n",
       "3 2006-06-01        3  62.56       2      entry      LONG    GLD\n",
       "4 2006-07-03        4   2.45       8      entry      LONG    NLY"
      ]
     },
     "execution_count": 6,
     "metadata": {},
     "output_type": "execute_result"
    }
   ],
   "source": [
    "rlog.head()"
   ]
  },
  {
   "cell_type": "code",
   "execution_count": 7,
   "metadata": {},
   "outputs": [
    {
     "data": {
      "text/html": [
       "<div>\n",
       "<style scoped>\n",
       "    .dataframe tbody tr th:only-of-type {\n",
       "        vertical-align: middle;\n",
       "    }\n",
       "\n",
       "    .dataframe tbody tr th {\n",
       "        vertical-align: top;\n",
       "    }\n",
       "\n",
       "    .dataframe thead th {\n",
       "        text-align: right;\n",
       "    }\n",
       "</style>\n",
       "<table border=\"1\" class=\"dataframe\">\n",
       "  <thead>\n",
       "    <tr style=\"text-align: right;\">\n",
       "      <th></th>\n",
       "      <th>entry_date</th>\n",
       "      <th>entry_price</th>\n",
       "      <th>exit_date</th>\n",
       "      <th>exit_price</th>\n",
       "      <th>pl_points</th>\n",
       "      <th>pl_cash</th>\n",
       "      <th>qty</th>\n",
       "      <th>cumul_total</th>\n",
       "      <th>direction</th>\n",
       "      <th>symbol</th>\n",
       "    </tr>\n",
       "  </thead>\n",
       "  <tbody>\n",
       "    <tr>\n",
       "      <th>256</th>\n",
       "      <td>2020-04-01</td>\n",
       "      <td>149.45</td>\n",
       "      <td>2020-05-01</td>\n",
       "      <td>159.78</td>\n",
       "      <td>10.33</td>\n",
       "      <td>20.66</td>\n",
       "      <td>2</td>\n",
       "      <td>7383.73</td>\n",
       "      <td>LONG</td>\n",
       "      <td>GLD</td>\n",
       "    </tr>\n",
       "    <tr>\n",
       "      <th>257</th>\n",
       "      <td>2020-04-01</td>\n",
       "      <td>149.45</td>\n",
       "      <td>2020-06-01</td>\n",
       "      <td>163.66</td>\n",
       "      <td>14.21</td>\n",
       "      <td>14.21</td>\n",
       "      <td>1</td>\n",
       "      <td>7397.94</td>\n",
       "      <td>LONG</td>\n",
       "      <td>GLD</td>\n",
       "    </tr>\n",
       "    <tr>\n",
       "      <th>258</th>\n",
       "      <td>2020-04-01</td>\n",
       "      <td>149.45</td>\n",
       "      <td>2020-06-30</td>\n",
       "      <td>167.37</td>\n",
       "      <td>17.92</td>\n",
       "      <td>985.60</td>\n",
       "      <td>55</td>\n",
       "      <td>8383.54</td>\n",
       "      <td>LONG</td>\n",
       "      <td>GLD</td>\n",
       "    </tr>\n",
       "    <tr>\n",
       "      <th>259</th>\n",
       "      <td>2020-05-01</td>\n",
       "      <td>167.54</td>\n",
       "      <td>2020-06-30</td>\n",
       "      <td>163.74</td>\n",
       "      <td>-3.80</td>\n",
       "      <td>-3.80</td>\n",
       "      <td>1</td>\n",
       "      <td>8379.74</td>\n",
       "      <td>LONG</td>\n",
       "      <td>TLT</td>\n",
       "    </tr>\n",
       "    <tr>\n",
       "      <th>260</th>\n",
       "      <td>2020-06-01</td>\n",
       "      <td>162.09</td>\n",
       "      <td>2020-06-30</td>\n",
       "      <td>163.74</td>\n",
       "      <td>1.65</td>\n",
       "      <td>3.30</td>\n",
       "      <td>2</td>\n",
       "      <td>8383.04</td>\n",
       "      <td>LONG</td>\n",
       "      <td>TLT</td>\n",
       "    </tr>\n",
       "  </tbody>\n",
       "</table>\n",
       "</div>"
      ],
      "text/plain": [
       "    entry_date  entry_price  exit_date  exit_price  pl_points  pl_cash  qty  \\\n",
       "256 2020-04-01       149.45 2020-05-01      159.78      10.33    20.66    2   \n",
       "257 2020-04-01       149.45 2020-06-01      163.66      14.21    14.21    1   \n",
       "258 2020-04-01       149.45 2020-06-30      167.37      17.92   985.60   55   \n",
       "259 2020-05-01       167.54 2020-06-30      163.74      -3.80    -3.80    1   \n",
       "260 2020-06-01       162.09 2020-06-30      163.74       1.65     3.30    2   \n",
       "\n",
       "     cumul_total direction symbol  \n",
       "256      7383.73      LONG    GLD  \n",
       "257      7397.94      LONG    GLD  \n",
       "258      8383.54      LONG    GLD  \n",
       "259      8379.74      LONG    TLT  \n",
       "260      8383.04      LONG    TLT  "
      ]
     },
     "execution_count": 7,
     "metadata": {},
     "output_type": "execute_result"
    }
   ],
   "source": [
    "tlog.tail()"
   ]
  },
  {
   "cell_type": "code",
   "execution_count": 8,
   "metadata": {
    "scrolled": false
   },
   "outputs": [
    {
     "data": {
      "text/html": [
       "<div>\n",
       "<style scoped>\n",
       "    .dataframe tbody tr th:only-of-type {\n",
       "        vertical-align: middle;\n",
       "    }\n",
       "\n",
       "    .dataframe tbody tr th {\n",
       "        vertical-align: top;\n",
       "    }\n",
       "\n",
       "    .dataframe thead th {\n",
       "        text-align: right;\n",
       "    }\n",
       "</style>\n",
       "<table border=\"1\" class=\"dataframe\">\n",
       "  <thead>\n",
       "    <tr style=\"text-align: right;\">\n",
       "      <th></th>\n",
       "      <th>high</th>\n",
       "      <th>low</th>\n",
       "      <th>close</th>\n",
       "      <th>shares</th>\n",
       "      <th>cash</th>\n",
       "      <th>leverage</th>\n",
       "      <th>state</th>\n",
       "    </tr>\n",
       "    <tr>\n",
       "      <th>date</th>\n",
       "      <th></th>\n",
       "      <th></th>\n",
       "      <th></th>\n",
       "      <th></th>\n",
       "      <th></th>\n",
       "      <th></th>\n",
       "      <th></th>\n",
       "    </tr>\n",
       "  </thead>\n",
       "  <tbody>\n",
       "    <tr>\n",
       "      <th>2020-06-24</th>\n",
       "      <td>18252.75</td>\n",
       "      <td>18252.75</td>\n",
       "      <td>18252.75</td>\n",
       "      <td>110</td>\n",
       "      <td>172.10</td>\n",
       "      <td>1.00</td>\n",
       "      <td>-</td>\n",
       "    </tr>\n",
       "    <tr>\n",
       "      <th>2020-06-25</th>\n",
       "      <td>18273.07</td>\n",
       "      <td>18273.07</td>\n",
       "      <td>18273.07</td>\n",
       "      <td>110</td>\n",
       "      <td>172.10</td>\n",
       "      <td>1.00</td>\n",
       "      <td>-</td>\n",
       "    </tr>\n",
       "    <tr>\n",
       "      <th>2020-06-26</th>\n",
       "      <td>18409.91</td>\n",
       "      <td>18409.91</td>\n",
       "      <td>18409.91</td>\n",
       "      <td>110</td>\n",
       "      <td>172.10</td>\n",
       "      <td>1.00</td>\n",
       "      <td>-</td>\n",
       "    </tr>\n",
       "    <tr>\n",
       "      <th>2020-06-29</th>\n",
       "      <td>18386.29</td>\n",
       "      <td>18386.29</td>\n",
       "      <td>18386.29</td>\n",
       "      <td>110</td>\n",
       "      <td>172.10</td>\n",
       "      <td>1.00</td>\n",
       "      <td>-</td>\n",
       "    </tr>\n",
       "    <tr>\n",
       "      <th>2020-06-30</th>\n",
       "      <td>18383.04</td>\n",
       "      <td>18383.04</td>\n",
       "      <td>18383.04</td>\n",
       "      <td>0</td>\n",
       "      <td>18383.04</td>\n",
       "      <td>1.00</td>\n",
       "      <td>X</td>\n",
       "    </tr>\n",
       "  </tbody>\n",
       "</table>\n",
       "</div>"
      ],
      "text/plain": [
       "               high      low    close  shares     cash  leverage state\n",
       "date                                                                  \n",
       "2020-06-24 18252.75 18252.75 18252.75     110   172.10      1.00     -\n",
       "2020-06-25 18273.07 18273.07 18273.07     110   172.10      1.00     -\n",
       "2020-06-26 18409.91 18409.91 18409.91     110   172.10      1.00     -\n",
       "2020-06-29 18386.29 18386.29 18386.29     110   172.10      1.00     -\n",
       "2020-06-30 18383.04 18383.04 18383.04       0 18383.04      1.00     X"
      ]
     },
     "execution_count": 8,
     "metadata": {},
     "output_type": "execute_result"
    }
   ],
   "source": [
    "dbal.tail()"
   ]
  },
  {
   "cell_type": "markdown",
   "metadata": {},
   "source": [
    "Generate strategy stats - display all available stats"
   ]
  },
  {
   "cell_type": "code",
   "execution_count": 9,
   "metadata": {},
   "outputs": [
    {
     "name": "stdout",
     "output_type": "stream",
     "text": [
      "start                                                  2006-04-26\n",
      "end                                                    2020-06-30\n",
      "beginning_balance                                           10000\n",
      "ending_balance                                           18383.04\n",
      "total_net_profit                                          8383.04\n",
      "gross_profit                                             27116.97\n",
      "gross_loss                                              -18733.93\n",
      "profit_factor                                                1.45\n",
      "return_on_initial_capital                                   83.83\n",
      "annual_return_rate                                           4.39\n",
      "trading_period                           14 years 2 months 4 days\n",
      "pct_time_in_market                                          98.74\n",
      "margin                                                          1\n",
      "avg_leverage                                                 1.00\n",
      "max_leverage                                                 1.00\n",
      "min_leverage                                                 1.00\n",
      "total_num_trades                                              261\n",
      "trades_per_year                                             18.41\n",
      "num_winning_trades                                            185\n",
      "num_losing_trades                                              76\n",
      "num_even_trades                                                 0\n",
      "pct_profitable_trades                                       70.88\n",
      "avg_profit_per_trade                                        32.12\n",
      "avg_profit_per_winning_trade                               146.58\n",
      "avg_loss_per_losing_trade                                 -246.50\n",
      "ratio_avg_profit_win_loss                                    0.59\n",
      "largest_profit_winning_trade                              2407.65\n",
      "largest_loss_losing_trade                                -5355.50\n",
      "num_winning_points                                        1514.59\n",
      "num_losing_points                                         -311.67\n",
      "total_net_points                                          1202.92\n",
      "avg_points                                                   4.61\n",
      "largest_points_winning_trade                                49.33\n",
      "largest_points_losing_trade                                -27.00\n",
      "avg_pct_gain_per_trade                                       4.84\n",
      "largest_pct_winning_trade                                   40.73\n",
      "largest_pct_losing_trade                                   -51.94\n",
      "max_consecutive_winning_trades                                 20\n",
      "max_consecutive_losing_trades                                   6\n",
      "avg_bars_winning_trades                                     94.89\n",
      "avg_bars_losing_trades                                      55.54\n",
      "max_closed_out_drawdown                                    -33.46\n",
      "max_closed_out_drawdown_start_date                     2018-01-26\n",
      "max_closed_out_drawdown_end_date                       2020-03-18\n",
      "max_closed_out_drawdown_recovery_date           Not Recovered Yet\n",
      "drawdown_recovery                                           -2.14\n",
      "drawdown_annualized_return                                  -7.63\n",
      "max_intra_day_drawdown                                     -33.46\n",
      "avg_yearly_closed_out_drawdown                             -10.97\n",
      "max_yearly_closed_out_drawdown                             -31.77\n",
      "avg_monthly_closed_out_drawdown                             -3.20\n",
      "max_monthly_closed_out_drawdown                            -31.77\n",
      "avg_weekly_closed_out_drawdown                              -1.28\n",
      "max_weekly_closed_out_drawdown                             -19.33\n",
      "avg_yearly_closed_out_runup                                 17.29\n",
      "max_yearly_closed_out_runup                                 46.72\n",
      "avg_monthly_closed_out_runup                                 3.62\n",
      "max_monthly_closed_out_runup                                16.57\n",
      "avg_weekly_closed_out_runup                                  1.39\n",
      "max_weekly_closed_out_runup                                 13.95\n",
      "pct_profitable_years                                        71.19\n",
      "best_year                                                   43.51\n",
      "worst_year                                                 -23.52\n",
      "avg_year                                                     6.45\n",
      "annual_std                                                  10.30\n",
      "pct_profitable_months                                       57.72\n",
      "best_month                                                  14.56\n",
      "worst_month                                                -31.61\n",
      "avg_month                                                    0.39\n",
      "monthly_std                                                  3.65\n",
      "pct_profitable_weeks                                        55.71\n",
      "best_week                                                   13.95\n",
      "worst_week                                                 -19.33\n",
      "avg_week                                                     0.10\n",
      "weekly_std                                                   1.98\n",
      "sharpe_ratio                                                 0.35\n",
      "sortino_ratio                                                0.42\n",
      "dtype: object\n"
     ]
    }
   ],
   "source": [
    "pf.print_full(stats)"
   ]
  },
  {
   "cell_type": "markdown",
   "metadata": {},
   "source": [
    "Run Benchmark, Retrieve benchmark logs, and Generate benchmark stats"
   ]
  },
  {
   "cell_type": "code",
   "execution_count": 10,
   "metadata": {},
   "outputs": [
    {
     "name": "stdout",
     "output_type": "stream",
     "text": [
      "2006-04-26 00:00:00 BUY  102 SPY @ 97.62\n",
      "2020-08-05 00:00:00 SELL 102 SPY @ 332.11\n"
     ]
    }
   ],
   "source": [
    "benchmark = pf.Benchmark('SPY', capital, s.start, s.end, use_adj=True)\n",
    "benchmark.run()\n",
    "benchmark.tlog, benchmark.dbal = benchmark.get_logs()\n",
    "benchmark.stats = benchmark.get_stats()"
   ]
  },
  {
   "cell_type": "markdown",
   "metadata": {},
   "source": [
    "Plot Equity Curves: Strategy vs Benchmark"
   ]
  },
  {
   "cell_type": "code",
   "execution_count": 11,
   "metadata": {
    "scrolled": false
   },
   "outputs": [
    {
     "data": {
      "image/png": "[encoded data removed]",
      "text/plain": [
       "<Figure size 720x504 with 1 Axes>"
      ]
     },
     "metadata": {
      "needs_background": "light"
     },
     "output_type": "display_data"
    }
   ],
   "source": [
    "pf.plot_equity_curve(dbal, benchmark=benchmark.dbal)"
   ]
  },
  {
   "cell_type": "markdown",
   "metadata": {},
   "source": [
    "Plot Trades"
   ]
  },
  {
   "cell_type": "markdown",
   "metadata": {},
   "source": [
    "Bar Graph: Strategy vs Benchmark"
   ]
  },
  {
   "cell_type": "code",
   "execution_count": 12,
   "metadata": {},
   "outputs": [
    {
     "data": {
      "text/html": [
       "<div>\n",
       "<style scoped>\n",
       "    .dataframe tbody tr th:only-of-type {\n",
       "        vertical-align: middle;\n",
       "    }\n",
       "\n",
       "    .dataframe tbody tr th {\n",
       "        vertical-align: top;\n",
       "    }\n",
       "\n",
       "    .dataframe thead th {\n",
       "        text-align: right;\n",
       "    }\n",
       "</style>\n",
       "<table border=\"1\" class=\"dataframe\">\n",
       "  <thead>\n",
       "    <tr style=\"text-align: right;\">\n",
       "      <th></th>\n",
       "      <th>strategy</th>\n",
       "      <th>benchmark</th>\n",
       "    </tr>\n",
       "  </thead>\n",
       "  <tbody>\n",
       "    <tr>\n",
       "      <th>annual_return_rate</th>\n",
       "      <td>4.39</td>\n",
       "      <td>8.93</td>\n",
       "    </tr>\n",
       "    <tr>\n",
       "      <th>max_closed_out_drawdown</th>\n",
       "      <td>-33.46</td>\n",
       "      <td>-55.00</td>\n",
       "    </tr>\n",
       "    <tr>\n",
       "      <th>drawdown_annualized_return</th>\n",
       "      <td>-7.63</td>\n",
       "      <td>-6.16</td>\n",
       "    </tr>\n",
       "    <tr>\n",
       "      <th>drawdown_recovery</th>\n",
       "      <td>-2.14</td>\n",
       "      <td>-1.42</td>\n",
       "    </tr>\n",
       "    <tr>\n",
       "      <th>best_month</th>\n",
       "      <td>14.56</td>\n",
       "      <td>23.44</td>\n",
       "    </tr>\n",
       "    <tr>\n",
       "      <th>worst_month</th>\n",
       "      <td>-31.61</td>\n",
       "      <td>-30.95</td>\n",
       "    </tr>\n",
       "    <tr>\n",
       "      <th>sharpe_ratio</th>\n",
       "      <td>0.35</td>\n",
       "      <td>0.52</td>\n",
       "    </tr>\n",
       "    <tr>\n",
       "      <th>sortino_ratio</th>\n",
       "      <td>0.42</td>\n",
       "      <td>0.62</td>\n",
       "    </tr>\n",
       "    <tr>\n",
       "      <th>monthly_std</th>\n",
       "      <td>3.65</td>\n",
       "      <td>4.74</td>\n",
       "    </tr>\n",
       "  </tbody>\n",
       "</table>\n",
       "</div>"
      ],
      "text/plain": [
       "                            strategy  benchmark\n",
       "annual_return_rate              4.39       8.93\n",
       "max_closed_out_drawdown       -33.46     -55.00\n",
       "drawdown_annualized_return     -7.63      -6.16\n",
       "drawdown_recovery              -2.14      -1.42\n",
       "best_month                     14.56      23.44\n",
       "worst_month                   -31.61     -30.95\n",
       "sharpe_ratio                    0.35       0.52\n",
       "sortino_ratio                   0.42       0.62\n",
       "monthly_std                     3.65       4.74"
      ]
     },
     "execution_count": 12,
     "metadata": {},
     "output_type": "execute_result"
    },
    {
     "data": {
      "image/png": "[encoded data removed]",
      "text/plain": [
       "<Figure size 720x504 with 1 Axes>"
      ]
     },
     "metadata": {
      "needs_background": "light"
     },
     "output_type": "display_data"
    }
   ],
   "source": [
    "df = pf.plot_bar_graph(stats, benchmark.stats)\n",
    "df"
   ]
  },
  {
   "cell_type": "code",
   "execution_count": null,
   "metadata": {},
   "outputs": [],
   "source": []
  }
 ],
 "metadata": {
  "kernelspec": {
   "display_name": "Python 3",
   "language": "python",
   "name": "python3"
  },
  "language_info": {
   "codemirror_mode": {
    "name": "ipython",
    "version": 3
   },
   "file_extension": ".py",
   "mimetype": "text/x-python",
   "name": "python",
   "nbconvert_exporter": "python",
   "pygments_lexer": "ipython3",
   "version": "3.8.2"
  },
  "latex_envs": {
   "LaTeX_envs_menu_present": true,
   "autoclose": false,
   "autocomplete": true,
   "bibliofile": "biblio.bib",
   "cite_by": "apalike",
   "current_citInitial": 1,
   "eqLabelWithNumbers": true,
   "eqNumInitial": 1,
   "hotkeys": {
    "equation": "Ctrl-E",
    "itemize": "Ctrl-I"
   },
   "labels_anchors": false,
   "latex_user_defs": false,
   "report_style_numbering": false,
   "user_envs_cfg": false
  }
 },
 "nbformat": 4,
 "nbformat_minor": 1
}
