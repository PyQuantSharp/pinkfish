{
 "cells": [
  {
   "cell_type": "markdown",
   "metadata": {},
   "source": [
    "# Asset Allocation Model\n",
    "\n",
    "pg. 161 from \"Trading Evolved\" by Andreas F. Clenow\n",
    "\n",
    "\"The rules of this first ETF model are the following.  We will use five ETFs to allocate our assets to.  Each ETF will have a target weight, and at the beginning of each month we will reset the allocation to this target weight.\"\n",
    "\n",
    "25%  SPY - S&P500 Index Tracker ETF\n",
    "30%  TLT - 20 Year Treasury ETF\n",
    "30%  IEF - 7-10 Year Treasury ETF\n",
    "7.5% GLD - Gold Tracker ETF\n",
    "7.5% DBC - General Commodity Tracker ETF"
   ]
  },
  {
   "cell_type": "code",
   "execution_count": 1,
   "metadata": {
    "ExecuteTime": {
     "end_time": "2020-02-17T05:42:08.798393Z",
     "start_time": "2020-02-17T05:42:07.455687Z"
    }
   },
   "outputs": [],
   "source": [
    "import pandas as pd\n",
    "import matplotlib.pyplot as plt\n",
    "import datetime\n",
    "from talib.abstract import *\n",
    "#import numpy as np\n",
    "\n",
    "import pinkfish as pf\n",
    "\n",
    "# format price data\n",
    "pd.options.display.float_format = '{:0.2f}'.format\n",
    "\n",
    "%matplotlib inline"
   ]
  },
  {
   "cell_type": "code",
   "execution_count": 2,
   "metadata": {
    "ExecuteTime": {
     "end_time": "2020-02-17T05:42:08.816893Z",
     "start_time": "2020-02-17T05:42:08.808607Z"
    }
   },
   "outputs": [],
   "source": [
    "# set size of inline plots\n",
    "'''note: rcParams can't be in same cell as import matplotlib\n",
    "   or %matplotlib inline\n",
    "   \n",
    "   %matplotlib notebook: will lead to interactive plots embedded within\n",
    "   the notebook, you can zoom and resize the figure\n",
    "   \n",
    "   %matplotlib inline: only draw static images in the notebook\n",
    "'''\n",
    "plt.rcParams[\"figure.figsize\"] = (10, 7)"
   ]
  },
  {
   "cell_type": "markdown",
   "metadata": {},
   "source": [
    "Portfolios"
   ]
  },
  {
   "cell_type": "code",
   "execution_count": 3,
   "metadata": {
    "ExecuteTime": {
     "end_time": "2020-02-17T05:42:08.835362Z",
     "start_time": "2020-02-17T05:42:08.821138Z"
    }
   },
   "outputs": [],
   "source": [
    "# large diversified ETFs\n",
    "large_diversified_weights = {\n",
    "    \n",
    "    # stocks:US\n",
    "    'SPY': 0.20, #1993\n",
    "    'QQQ': 0.10, #1999\n",
    "    # stocks:global\n",
    "    'EFA': 0.05, #2001\n",
    "    # stocks:emerging markets\n",
    "    'EEM': 0.05, #2003\n",
    "    # 40% stocks\n",
    "    \n",
    "    # bonds:treasuries\n",
    "    'TLT': 0.05, #2002\n",
    "    'IEF': 0.05, #2002\n",
    "    'TIP': 0.05, #2003\n",
    "    'BSV': 0.05, #2007\n",
    "    # bonds:corporate bonds\n",
    "    'LQD': 0.05, #2002\n",
    "    # bonds: fixed income\n",
    "    'AGG': 0.05, #2003\n",
    "    # 30% bonds\n",
    "    \n",
    "    # metals\n",
    "    'GLD': 0.10, #2004\n",
    "    'SLV': 0.05, #2006\n",
    "    # 15% metals\n",
    "    \n",
    "    # commodities 5%\n",
    "    'DBC': 0.05, #2006\n",
    "    \n",
    "    # real estate 10%\n",
    "    'NLY': 0.10  #1997 \n",
    "}\n",
    "\n",
    "# pinkfish portfolio\n",
    "pinkfish_weights = \\\n",
    "    {'SPY': 0.20, 'QQQ':0.20, 'TLT': 0.20, 'NLY': 0.20, 'GLD': 0.20}\n",
    "\n",
    "# 50% S&P 500, 50% treasury\n",
    "fifty_fifty_weights = \\\n",
    "    {'SPY': 0.50, 'TLT': 0.50}\n",
    "\n",
    "# ETF portfolio in \"Trading Evolved\"\n",
    "trading_evolved_weights = \\\n",
    "    {'SPY': 0.25, 'TLT': 0.30, 'IEF': 0.30, 'GLD': 0.075, 'DBC': 0.075}\n",
    "\n",
    "# Dave Ramsey - 25% Growth and income, 25% Growth, 25% Aggressive growth, 25% International\n",
    "dave_ramsey_weights = \\\n",
    "    {'SPY': 0.25, 'VQNPX': 0.25, 'RPG': 0.25, 'EFA': 0.25}\n",
    "\n",
    "# Warren Buffett Retirement Fund: 90% S&P500, 10% Short Term Treasuries\n",
    "warren_buffett_weights = \\\n",
    "    {'SPY': 0.90, 'SHY': 0.10}\n",
    "\n",
    "# https://www.forbes.com/sites/baldwin/2016/07/25/eight-famous-portfolios/#42c50d7d5cce\n",
    "# american households: 25% real estate, 30% stocks, 30% fixed income, 5% cash, 10% alternatives\n",
    "american_households_weights = \\\n",
    "    {'NLY': 0.25, 'SPY': 0.30, 'AGG': 0.30, 'GLD': 0.10}\n",
    "\n",
    "# janet yellen: 50% fixed income, 40% S&P500, 10% cash\n",
    "janet_yellen_weights = \\\n",
    "    {'AGG': 0.50, 'SPY': 0.40}\n",
    "\n",
    "# janet yellen: 50% fixed income, 40% S&P500, 10% gold\n",
    "janet_yellen_plus_weights = \\\n",
    "    {'AGG': 0.50, 'SPY': 0.40, 'GLD': 0.10}"
   ]
  },
  {
   "cell_type": "markdown",
   "metadata": {},
   "source": [
    "Some global data"
   ]
  },
  {
   "cell_type": "code",
   "execution_count": 4,
   "metadata": {},
   "outputs": [],
   "source": [
    "#select one of the above\n",
    "weights = fifty_fifty_weights\n",
    "\n",
    "symbols = list(weights.keys())\n",
    "capital = 10000\n",
    "margin = pf.Margin.CASH\n",
    "start = datetime.datetime(1900, 1, 1)\n",
    "end = datetime.datetime.now()\n",
    "\n",
    "use_cache = True"
   ]
  },
  {
   "cell_type": "code",
   "execution_count": 5,
   "metadata": {},
   "outputs": [
    {
     "data": {
      "text/html": [
       "<div>\n",
       "<style scoped>\n",
       "    .dataframe tbody tr th:only-of-type {\n",
       "        vertical-align: middle;\n",
       "    }\n",
       "\n",
       "    .dataframe tbody tr th {\n",
       "        vertical-align: top;\n",
       "    }\n",
       "\n",
       "    .dataframe thead th {\n",
       "        text-align: right;\n",
       "    }\n",
       "</style>\n",
       "<table border=\"1\" class=\"dataframe\">\n",
       "  <thead>\n",
       "    <tr style=\"text-align: right;\">\n",
       "      <th></th>\n",
       "      <th>SPY_high</th>\n",
       "      <th>SPY_low</th>\n",
       "      <th>SPY_close</th>\n",
       "      <th>TLT_high</th>\n",
       "      <th>TLT_low</th>\n",
       "      <th>TLT_close</th>\n",
       "    </tr>\n",
       "    <tr>\n",
       "      <th>date</th>\n",
       "      <th></th>\n",
       "      <th></th>\n",
       "      <th></th>\n",
       "      <th></th>\n",
       "      <th></th>\n",
       "      <th></th>\n",
       "    </tr>\n",
       "  </thead>\n",
       "  <tbody>\n",
       "    <tr>\n",
       "      <th>1993-01-29</th>\n",
       "      <td>26.20</td>\n",
       "      <td>26.07</td>\n",
       "      <td>26.18</td>\n",
       "      <td>nan</td>\n",
       "      <td>nan</td>\n",
       "      <td>nan</td>\n",
       "    </tr>\n",
       "    <tr>\n",
       "      <th>1993-02-01</th>\n",
       "      <td>26.37</td>\n",
       "      <td>26.20</td>\n",
       "      <td>26.37</td>\n",
       "      <td>nan</td>\n",
       "      <td>nan</td>\n",
       "      <td>nan</td>\n",
       "    </tr>\n",
       "    <tr>\n",
       "      <th>1993-02-02</th>\n",
       "      <td>26.44</td>\n",
       "      <td>26.30</td>\n",
       "      <td>26.43</td>\n",
       "      <td>nan</td>\n",
       "      <td>nan</td>\n",
       "      <td>nan</td>\n",
       "    </tr>\n",
       "    <tr>\n",
       "      <th>1993-02-03</th>\n",
       "      <td>26.72</td>\n",
       "      <td>26.44</td>\n",
       "      <td>26.71</td>\n",
       "      <td>nan</td>\n",
       "      <td>nan</td>\n",
       "      <td>nan</td>\n",
       "    </tr>\n",
       "    <tr>\n",
       "      <th>1993-02-04</th>\n",
       "      <td>26.87</td>\n",
       "      <td>26.50</td>\n",
       "      <td>26.82</td>\n",
       "      <td>nan</td>\n",
       "      <td>nan</td>\n",
       "      <td>nan</td>\n",
       "    </tr>\n",
       "    <tr>\n",
       "      <th>...</th>\n",
       "      <td>...</td>\n",
       "      <td>...</td>\n",
       "      <td>...</td>\n",
       "      <td>...</td>\n",
       "      <td>...</td>\n",
       "      <td>...</td>\n",
       "    </tr>\n",
       "    <tr>\n",
       "      <th>2020-07-21</th>\n",
       "      <td>326.93</td>\n",
       "      <td>323.94</td>\n",
       "      <td>325.01</td>\n",
       "      <td>167.72</td>\n",
       "      <td>167.08</td>\n",
       "      <td>167.29</td>\n",
       "    </tr>\n",
       "    <tr>\n",
       "      <th>2020-07-22</th>\n",
       "      <td>327.20</td>\n",
       "      <td>324.50</td>\n",
       "      <td>326.86</td>\n",
       "      <td>168.46</td>\n",
       "      <td>167.69</td>\n",
       "      <td>167.79</td>\n",
       "    </tr>\n",
       "    <tr>\n",
       "      <th>2020-07-23</th>\n",
       "      <td>327.23</td>\n",
       "      <td>321.48</td>\n",
       "      <td>322.96</td>\n",
       "      <td>169.88</td>\n",
       "      <td>168.48</td>\n",
       "      <td>169.75</td>\n",
       "    </tr>\n",
       "    <tr>\n",
       "      <th>2020-07-24</th>\n",
       "      <td>321.99</td>\n",
       "      <td>319.25</td>\n",
       "      <td>320.88</td>\n",
       "      <td>169.92</td>\n",
       "      <td>168.87</td>\n",
       "      <td>169.74</td>\n",
       "    </tr>\n",
       "    <tr>\n",
       "      <th>2020-07-27</th>\n",
       "      <td>323.41</td>\n",
       "      <td>320.78</td>\n",
       "      <td>323.22</td>\n",
       "      <td>nan</td>\n",
       "      <td>nan</td>\n",
       "      <td>nan</td>\n",
       "    </tr>\n",
       "  </tbody>\n",
       "</table>\n",
       "<p>6923 rows × 6 columns</p>\n",
       "</div>"
      ],
      "text/plain": [
       "            SPY_high  SPY_low  SPY_close  TLT_high  TLT_low  TLT_close\n",
       "date                                                                  \n",
       "1993-01-29     26.20    26.07      26.18       nan      nan        nan\n",
       "1993-02-01     26.37    26.20      26.37       nan      nan        nan\n",
       "1993-02-02     26.44    26.30      26.43       nan      nan        nan\n",
       "1993-02-03     26.72    26.44      26.71       nan      nan        nan\n",
       "1993-02-04     26.87    26.50      26.82       nan      nan        nan\n",
       "...              ...      ...        ...       ...      ...        ...\n",
       "2020-07-21    326.93   323.94     325.01    167.72   167.08     167.29\n",
       "2020-07-22    327.20   324.50     326.86    168.46   167.69     167.79\n",
       "2020-07-23    327.23   321.48     322.96    169.88   168.48     169.75\n",
       "2020-07-24    321.99   319.25     320.88    169.92   168.87     169.74\n",
       "2020-07-27    323.41   320.78     323.22       nan      nan        nan\n",
       "\n",
       "[6923 rows x 6 columns]"
      ]
     },
     "execution_count": 5,
     "metadata": {},
     "output_type": "execute_result"
    }
   ],
   "source": [
    "# fetch timeseries\n",
    "portfolio = pf.Portfolio()\n",
    "ts = portfolio.fetch_timeseries(symbols, start, end, use_cache=use_cache)\n",
    "ts"
   ]
  },
  {
   "cell_type": "code",
   "execution_count": 6,
   "metadata": {},
   "outputs": [],
   "source": [
    "# add calendar columns\n",
    "ts = portfolio.calendar(ts)"
   ]
  },
  {
   "cell_type": "code",
   "execution_count": 7,
   "metadata": {},
   "outputs": [],
   "source": [
    "ts, start = portfolio.finalize_timeseries(ts, start)"
   ]
  },
  {
   "cell_type": "code",
   "execution_count": 8,
   "metadata": {},
   "outputs": [
    {
     "data": {
      "text/plain": [
       "{'SPY': <pinkfish.trade.TradeLog at 0x7f03911d6be0>,\n",
       " 'TLT': <pinkfish.trade.TradeLog at 0x7f03911d6910>}"
      ]
     },
     "execution_count": 8,
     "metadata": {},
     "output_type": "execute_result"
    }
   ],
   "source": [
    "portfolio.init_trade_logs(ts, capital, margin)\n",
    "pf.TradeLog.instance"
   ]
  },
  {
   "cell_type": "code",
   "execution_count": 9,
   "metadata": {
    "scrolled": false
   },
   "outputs": [],
   "source": [
    "# trading algorithm\n",
    "for i, row in enumerate(ts.itertuples()):\n",
    "\n",
    "    date = row.Index.to_pydatetime()\n",
    "    end_flag = pf.is_last_row(ts, i)\n",
    "\n",
    "    # rebalance on the first trading day of each month\n",
    "    if row.first_dotm or end_flag:\n",
    "        #portfolio.print_holdings(date, row)\n",
    "        #TODO: use share_percent() and adjust positions that need reducing first\n",
    "        for symbol in portfolio.symbols:\n",
    "            #print(symbol, portfolio.share_percent(row, symbol))\n",
    "            price = portfolio.get_row_column_value(row, symbol)\n",
    "            weight = 0 if end_flag else weights[symbol]\n",
    "            portfolio.adjust_percent(date, price, weight, symbol, row)\n",
    "    # record daily balance\n",
    "    portfolio.record_daily_balance(date, row)"
   ]
  },
  {
   "cell_type": "code",
   "execution_count": 10,
   "metadata": {},
   "outputs": [],
   "source": [
    "# get logs\n",
    "rlog, tlog, dbal = portfolio.get_logs()"
   ]
  },
  {
   "cell_type": "code",
   "execution_count": 11,
   "metadata": {
    "scrolled": false
   },
   "outputs": [
    {
     "data": {
      "text/html": [
       "<div>\n",
       "<style scoped>\n",
       "    .dataframe tbody tr th:only-of-type {\n",
       "        vertical-align: middle;\n",
       "    }\n",
       "\n",
       "    .dataframe tbody tr th {\n",
       "        vertical-align: top;\n",
       "    }\n",
       "\n",
       "    .dataframe thead th {\n",
       "        text-align: right;\n",
       "    }\n",
       "</style>\n",
       "<table border=\"1\" class=\"dataframe\">\n",
       "  <thead>\n",
       "    <tr style=\"text-align: right;\">\n",
       "      <th></th>\n",
       "      <th>date</th>\n",
       "      <th>seq_num</th>\n",
       "      <th>price</th>\n",
       "      <th>shares</th>\n",
       "      <th>entry_exit</th>\n",
       "      <th>direction</th>\n",
       "      <th>symbol</th>\n",
       "    </tr>\n",
       "  </thead>\n",
       "  <tbody>\n",
       "    <tr>\n",
       "      <th>0</th>\n",
       "      <td>2002-08-01</td>\n",
       "      <td>0</td>\n",
       "      <td>62.22</td>\n",
       "      <td>80</td>\n",
       "      <td>entry</td>\n",
       "      <td>LONG</td>\n",
       "      <td>SPY</td>\n",
       "    </tr>\n",
       "    <tr>\n",
       "      <th>1</th>\n",
       "      <td>2002-08-01</td>\n",
       "      <td>1</td>\n",
       "      <td>43.92</td>\n",
       "      <td>113</td>\n",
       "      <td>entry</td>\n",
       "      <td>LONG</td>\n",
       "      <td>TLT</td>\n",
       "    </tr>\n",
       "    <tr>\n",
       "      <th>2</th>\n",
       "      <td>2002-09-03</td>\n",
       "      <td>2</td>\n",
       "      <td>46.78</td>\n",
       "      <td>3</td>\n",
       "      <td>exit</td>\n",
       "      <td>LONG</td>\n",
       "      <td>TLT</td>\n",
       "    </tr>\n",
       "    <tr>\n",
       "      <th>3</th>\n",
       "      <td>2002-10-01</td>\n",
       "      <td>3</td>\n",
       "      <td>60.34</td>\n",
       "      <td>3</td>\n",
       "      <td>entry</td>\n",
       "      <td>LONG</td>\n",
       "      <td>SPY</td>\n",
       "    </tr>\n",
       "    <tr>\n",
       "      <th>4</th>\n",
       "      <td>2002-10-01</td>\n",
       "      <td>4</td>\n",
       "      <td>47.44</td>\n",
       "      <td>3</td>\n",
       "      <td>exit</td>\n",
       "      <td>LONG</td>\n",
       "      <td>TLT</td>\n",
       "    </tr>\n",
       "  </tbody>\n",
       "</table>\n",
       "</div>"
      ],
      "text/plain": [
       "        date  seq_num  price  shares entry_exit direction symbol\n",
       "0 2002-08-01        0  62.22      80      entry      LONG    SPY\n",
       "1 2002-08-01        1  43.92     113      entry      LONG    TLT\n",
       "2 2002-09-03        2  46.78       3       exit      LONG    TLT\n",
       "3 2002-10-01        3  60.34       3      entry      LONG    SPY\n",
       "4 2002-10-01        4  47.44       3       exit      LONG    TLT"
      ]
     },
     "execution_count": 11,
     "metadata": {},
     "output_type": "execute_result"
    }
   ],
   "source": [
    "rlog.head()"
   ]
  },
  {
   "cell_type": "code",
   "execution_count": 12,
   "metadata": {},
   "outputs": [
    {
     "data": {
      "text/html": [
       "<div>\n",
       "<style scoped>\n",
       "    .dataframe tbody tr th:only-of-type {\n",
       "        vertical-align: middle;\n",
       "    }\n",
       "\n",
       "    .dataframe tbody tr th {\n",
       "        vertical-align: top;\n",
       "    }\n",
       "\n",
       "    .dataframe thead th {\n",
       "        text-align: right;\n",
       "    }\n",
       "</style>\n",
       "<table border=\"1\" class=\"dataframe\">\n",
       "  <thead>\n",
       "    <tr style=\"text-align: right;\">\n",
       "      <th></th>\n",
       "      <th>entry_date</th>\n",
       "      <th>entry_price</th>\n",
       "      <th>exit_date</th>\n",
       "      <th>exit_price</th>\n",
       "      <th>pl_points</th>\n",
       "      <th>pl_cash</th>\n",
       "      <th>qty</th>\n",
       "      <th>cumul_total</th>\n",
       "      <th>direction</th>\n",
       "      <th>symbol</th>\n",
       "    </tr>\n",
       "  </thead>\n",
       "  <tbody>\n",
       "    <tr>\n",
       "      <th>309</th>\n",
       "      <td>2020-04-01</td>\n",
       "      <td>245.07</td>\n",
       "      <td>2020-07-24</td>\n",
       "      <td>320.88</td>\n",
       "      <td>75.81</td>\n",
       "      <td>379.04</td>\n",
       "      <td>5</td>\n",
       "      <td>39038.30</td>\n",
       "      <td>LONG</td>\n",
       "      <td>SPY</td>\n",
       "    </tr>\n",
       "    <tr>\n",
       "      <th>310</th>\n",
       "      <td>2020-05-01</td>\n",
       "      <td>281.55</td>\n",
       "      <td>2020-07-24</td>\n",
       "      <td>320.88</td>\n",
       "      <td>39.33</td>\n",
       "      <td>235.97</td>\n",
       "      <td>6</td>\n",
       "      <td>39274.27</td>\n",
       "      <td>LONG</td>\n",
       "      <td>SPY</td>\n",
       "    </tr>\n",
       "    <tr>\n",
       "      <th>311</th>\n",
       "      <td>2020-05-01</td>\n",
       "      <td>167.54</td>\n",
       "      <td>2020-07-24</td>\n",
       "      <td>169.74</td>\n",
       "      <td>2.20</td>\n",
       "      <td>15.41</td>\n",
       "      <td>7</td>\n",
       "      <td>39289.69</td>\n",
       "      <td>LONG</td>\n",
       "      <td>TLT</td>\n",
       "    </tr>\n",
       "    <tr>\n",
       "      <th>312</th>\n",
       "      <td>2020-06-01</td>\n",
       "      <td>162.09</td>\n",
       "      <td>2020-07-24</td>\n",
       "      <td>169.74</td>\n",
       "      <td>7.65</td>\n",
       "      <td>61.20</td>\n",
       "      <td>8</td>\n",
       "      <td>39350.89</td>\n",
       "      <td>LONG</td>\n",
       "      <td>TLT</td>\n",
       "    </tr>\n",
       "    <tr>\n",
       "      <th>313</th>\n",
       "      <td>2020-07-01</td>\n",
       "      <td>163.42</td>\n",
       "      <td>2020-07-24</td>\n",
       "      <td>169.74</td>\n",
       "      <td>6.32</td>\n",
       "      <td>6.32</td>\n",
       "      <td>1</td>\n",
       "      <td>39357.21</td>\n",
       "      <td>LONG</td>\n",
       "      <td>TLT</td>\n",
       "    </tr>\n",
       "  </tbody>\n",
       "</table>\n",
       "</div>"
      ],
      "text/plain": [
       "    entry_date  entry_price  exit_date  exit_price  pl_points  pl_cash  qty  \\\n",
       "309 2020-04-01       245.07 2020-07-24      320.88      75.81   379.04    5   \n",
       "310 2020-05-01       281.55 2020-07-24      320.88      39.33   235.97    6   \n",
       "311 2020-05-01       167.54 2020-07-24      169.74       2.20    15.41    7   \n",
       "312 2020-06-01       162.09 2020-07-24      169.74       7.65    61.20    8   \n",
       "313 2020-07-01       163.42 2020-07-24      169.74       6.32     6.32    1   \n",
       "\n",
       "     cumul_total direction symbol  \n",
       "309     39038.30      LONG    SPY  \n",
       "310     39274.27      LONG    SPY  \n",
       "311     39289.69      LONG    TLT  \n",
       "312     39350.89      LONG    TLT  \n",
       "313     39357.21      LONG    TLT  "
      ]
     },
     "execution_count": 12,
     "metadata": {},
     "output_type": "execute_result"
    }
   ],
   "source": [
    "tlog.tail()"
   ]
  },
  {
   "cell_type": "code",
   "execution_count": 13,
   "metadata": {
    "scrolled": false
   },
   "outputs": [
    {
     "data": {
      "text/html": [
       "<div>\n",
       "<style scoped>\n",
       "    .dataframe tbody tr th:only-of-type {\n",
       "        vertical-align: middle;\n",
       "    }\n",
       "\n",
       "    .dataframe tbody tr th {\n",
       "        vertical-align: top;\n",
       "    }\n",
       "\n",
       "    .dataframe thead th {\n",
       "        text-align: right;\n",
       "    }\n",
       "</style>\n",
       "<table border=\"1\" class=\"dataframe\">\n",
       "  <thead>\n",
       "    <tr style=\"text-align: right;\">\n",
       "      <th></th>\n",
       "      <th>high</th>\n",
       "      <th>low</th>\n",
       "      <th>close</th>\n",
       "      <th>shares</th>\n",
       "      <th>cash</th>\n",
       "      <th>leverage</th>\n",
       "      <th>state</th>\n",
       "    </tr>\n",
       "    <tr>\n",
       "      <th>date</th>\n",
       "      <th></th>\n",
       "      <th></th>\n",
       "      <th></th>\n",
       "      <th></th>\n",
       "      <th></th>\n",
       "      <th></th>\n",
       "      <th></th>\n",
       "    </tr>\n",
       "  </thead>\n",
       "  <tbody>\n",
       "    <tr>\n",
       "      <th>2002-07-30</th>\n",
       "      <td>10000.00</td>\n",
       "      <td>10000.00</td>\n",
       "      <td>10000.00</td>\n",
       "      <td>0</td>\n",
       "      <td>10000.00</td>\n",
       "      <td>1.00</td>\n",
       "      <td>-</td>\n",
       "    </tr>\n",
       "    <tr>\n",
       "      <th>2002-07-31</th>\n",
       "      <td>10000.00</td>\n",
       "      <td>10000.00</td>\n",
       "      <td>10000.00</td>\n",
       "      <td>0</td>\n",
       "      <td>10000.00</td>\n",
       "      <td>1.00</td>\n",
       "      <td>-</td>\n",
       "    </tr>\n",
       "    <tr>\n",
       "      <th>2002-08-01</th>\n",
       "      <td>10000.00</td>\n",
       "      <td>10000.00</td>\n",
       "      <td>10000.00</td>\n",
       "      <td>193</td>\n",
       "      <td>59.96</td>\n",
       "      <td>1.00</td>\n",
       "      <td>O</td>\n",
       "    </tr>\n",
       "    <tr>\n",
       "      <th>2002-08-02</th>\n",
       "      <td>9939.25</td>\n",
       "      <td>9939.25</td>\n",
       "      <td>9939.25</td>\n",
       "      <td>193</td>\n",
       "      <td>59.96</td>\n",
       "      <td>1.00</td>\n",
       "      <td>-</td>\n",
       "    </tr>\n",
       "    <tr>\n",
       "      <th>2002-08-05</th>\n",
       "      <td>9792.06</td>\n",
       "      <td>9792.06</td>\n",
       "      <td>9792.06</td>\n",
       "      <td>193</td>\n",
       "      <td>59.96</td>\n",
       "      <td>1.00</td>\n",
       "      <td>-</td>\n",
       "    </tr>\n",
       "  </tbody>\n",
       "</table>\n",
       "</div>"
      ],
      "text/plain": [
       "               high      low    close  shares     cash  leverage state\n",
       "date                                                                  \n",
       "2002-07-30 10000.00 10000.00 10000.00       0 10000.00      1.00     -\n",
       "2002-07-31 10000.00 10000.00 10000.00       0 10000.00      1.00     -\n",
       "2002-08-01 10000.00 10000.00 10000.00     193    59.96      1.00     O\n",
       "2002-08-02  9939.25  9939.25  9939.25     193    59.96      1.00     -\n",
       "2002-08-05  9792.06  9792.06  9792.06     193    59.96      1.00     -"
      ]
     },
     "execution_count": 13,
     "metadata": {},
     "output_type": "execute_result"
    }
   ],
   "source": [
    "dbal.head()"
   ]
  },
  {
   "cell_type": "code",
   "execution_count": 14,
   "metadata": {},
   "outputs": [
    {
     "name": "stdout",
     "output_type": "stream",
     "text": [
      "start                                                    2002-07-30\n",
      "end                                                      2020-07-24\n",
      "beginning_balance                                             10000\n",
      "ending_balance                                             49357.21\n",
      "total_net_profit                                           39357.21\n",
      "gross_profit                                               39357.21\n",
      "gross_loss                                                     0.00\n",
      "profit_factor                                                  1000\n",
      "return_on_initial_capital                                    393.57\n",
      "annual_return_rate                                             9.28\n",
      "trading_period                           17 years 11 months 24 days\n",
      "pct_time_in_market                                            99.96\n",
      "margin                                                            1\n",
      "avg_leverage                                                   1.00\n",
      "max_leverage                                                   1.00\n",
      "min_leverage                                                   1.00\n",
      "total_num_trades                                                314\n",
      "trades_per_year                                               17.46\n",
      "num_winning_trades                                              314\n",
      "num_losing_trades                                                 0\n",
      "num_even_trades                                                   0\n",
      "pct_profitable_trades                                        100.00\n",
      "avg_profit_per_trade                                         125.34\n",
      "avg_profit_per_winning_trade                                 125.34\n",
      "avg_loss_per_losing_trade                                         0\n",
      "ratio_avg_profit_win_loss                                      1000\n",
      "largest_profit_winning_trade                                1829.79\n",
      "largest_loss_losing_trade                                         0\n",
      "num_winning_points                                         18748.42\n",
      "num_losing_points                                                 0\n",
      "total_net_points                                           18748.42\n",
      "avg_points                                                    59.71\n",
      "largest_points_winning_trade                                 237.54\n",
      "largest_points_losing_trade                                       0\n",
      "avg_pct_gain_per_trade                                        71.07\n",
      "largest_pct_winning_trade                                    387.13\n",
      "largest_pct_losing_trade                                          0\n",
      "max_consecutive_winning_trades                                  314\n",
      "max_consecutive_losing_trades                                     0\n",
      "avg_bars_winning_trades                                     1385.06\n",
      "avg_bars_losing_trades                                            0\n",
      "max_closed_out_drawdown                                      -24.08\n",
      "max_closed_out_drawdown_start_date                       2007-12-06\n",
      "max_closed_out_drawdown_end_date                         2009-03-09\n",
      "max_closed_out_drawdown_recovery_date                    2010-07-26\n",
      "drawdown_recovery                                             -1.26\n",
      "drawdown_annualized_return                                    -2.59\n",
      "max_intra_day_drawdown                                       -24.08\n",
      "avg_yearly_closed_out_drawdown                                -6.75\n",
      "max_yearly_closed_out_drawdown                               -22.92\n",
      "avg_monthly_closed_out_drawdown                               -1.90\n",
      "max_monthly_closed_out_drawdown                              -15.65\n",
      "avg_weekly_closed_out_drawdown                                -0.78\n",
      "max_weekly_closed_out_drawdown                               -10.29\n",
      "avg_yearly_closed_out_runup                                   14.53\n",
      "max_yearly_closed_out_runup                                   27.06\n",
      "avg_monthly_closed_out_runup                                   2.54\n",
      "max_monthly_closed_out_runup                                  17.21\n",
      "avg_weekly_closed_out_runup                                    0.95\n",
      "max_weekly_closed_out_runup                                    9.42\n",
      "pct_profitable_years                                          90.39\n",
      "best_year                                                     26.63\n",
      "worst_year                                                   -19.80\n",
      "avg_year                                                       9.05\n",
      "annual_std                                                     7.72\n",
      "pct_profitable_months                                         68.44\n",
      "best_month                                                    17.21\n",
      "worst_month                                                  -14.86\n",
      "avg_month                                                      0.72\n",
      "monthly_std                                                    2.41\n",
      "pct_profitable_weeks                                          60.63\n",
      "best_week                                                      9.42\n",
      "worst_week                                                    -9.77\n",
      "avg_week                                                       0.18\n",
      "weekly_std                                                     1.19\n",
      "sharpe_ratio                                                   1.05\n",
      "sortino_ratio                                                  1.40\n",
      "dtype: object\n"
     ]
    }
   ],
   "source": [
    "stats = pf.stats(ts, tlog, dbal, capital)\n",
    "pf.print_full(stats)"
   ]
  },
  {
   "cell_type": "code",
   "execution_count": 15,
   "metadata": {
    "scrolled": false
   },
   "outputs": [
    {
     "data": {
      "text/html": [
       "<div>\n",
       "<style scoped>\n",
       "    .dataframe tbody tr th:only-of-type {\n",
       "        vertical-align: middle;\n",
       "    }\n",
       "\n",
       "    .dataframe tbody tr th {\n",
       "        vertical-align: top;\n",
       "    }\n",
       "\n",
       "    .dataframe thead th {\n",
       "        text-align: right;\n",
       "    }\n",
       "</style>\n",
       "<table border=\"1\" class=\"dataframe\">\n",
       "  <thead>\n",
       "    <tr style=\"text-align: right;\">\n",
       "      <th></th>\n",
       "      <th>cumul_total</th>\n",
       "      <th>weight</th>\n",
       "      <th>pct_cumul_total</th>\n",
       "      <th>relative_performance</th>\n",
       "    </tr>\n",
       "  </thead>\n",
       "  <tbody>\n",
       "    <tr>\n",
       "      <th>SPY</th>\n",
       "      <td>$21,412.03</td>\n",
       "      <td>0.50</td>\n",
       "      <td>0.54</td>\n",
       "      <td>1.09</td>\n",
       "    </tr>\n",
       "    <tr>\n",
       "      <th>TLT</th>\n",
       "      <td>$17,945.18</td>\n",
       "      <td>0.50</td>\n",
       "      <td>0.46</td>\n",
       "      <td>0.91</td>\n",
       "    </tr>\n",
       "    <tr>\n",
       "      <th>TOTAL</th>\n",
       "      <td>$39,357.21</td>\n",
       "      <td>1.00</td>\n",
       "      <td>1.00</td>\n",
       "      <td>1.00</td>\n",
       "    </tr>\n",
       "  </tbody>\n",
       "</table>\n",
       "</div>"
      ],
      "text/plain": [
       "      cumul_total  weight  pct_cumul_total  relative_performance\n",
       "SPY    $21,412.03    0.50             0.54                  1.09\n",
       "TLT    $17,945.18    0.50             0.46                  0.91\n",
       "TOTAL  $39,357.21    1.00             1.00                  1.00"
      ]
     },
     "execution_count": 15,
     "metadata": {},
     "output_type": "execute_result"
    },
    {
     "data": {
      "image/png": "[encoded data removed]",
      "text/plain": [
       "<Figure size 864x576 with 1 Axes>"
      ]
     },
     "metadata": {
      "needs_background": "light"
     },
     "output_type": "display_data"
    }
   ],
   "source": [
    "totals = portfolio.performance_per_symbol(weights)\n",
    "totals"
   ]
  },
  {
   "cell_type": "code",
   "execution_count": 16,
   "metadata": {},
   "outputs": [
    {
     "data": {
      "text/html": [
       "<div>\n",
       "<style scoped>\n",
       "    .dataframe tbody tr th:only-of-type {\n",
       "        vertical-align: middle;\n",
       "    }\n",
       "\n",
       "    .dataframe tbody tr th {\n",
       "        vertical-align: top;\n",
       "    }\n",
       "\n",
       "    .dataframe thead th {\n",
       "        text-align: right;\n",
       "    }\n",
       "</style>\n",
       "<table border=\"1\" class=\"dataframe\">\n",
       "  <thead>\n",
       "    <tr style=\"text-align: right;\">\n",
       "      <th></th>\n",
       "      <th>SPY</th>\n",
       "      <th>TLT</th>\n",
       "    </tr>\n",
       "  </thead>\n",
       "  <tbody>\n",
       "    <tr>\n",
       "      <th>SPY</th>\n",
       "      <td>1.00</td>\n",
       "      <td>0.89</td>\n",
       "    </tr>\n",
       "    <tr>\n",
       "      <th>TLT</th>\n",
       "      <td>0.89</td>\n",
       "      <td>1.00</td>\n",
       "    </tr>\n",
       "  </tbody>\n",
       "</table>\n",
       "</div>"
      ],
      "text/plain": [
       "     SPY  TLT\n",
       "SPY 1.00 0.89\n",
       "TLT 0.89 1.00"
      ]
     },
     "execution_count": 16,
     "metadata": {},
     "output_type": "execute_result"
    },
    {
     "data": {
      "image/png": "[encoded data removed]",
      "text/plain": [
       "<Figure size 720x504 with 2 Axes>"
      ]
     },
     "metadata": {
      "needs_background": "light"
     },
     "output_type": "display_data"
    }
   ],
   "source": [
    "corr_df = portfolio.correlation_map(ts)\n",
    "corr_df"
   ]
  },
  {
   "cell_type": "code",
   "execution_count": 17,
   "metadata": {},
   "outputs": [
    {
     "name": "stdout",
     "output_type": "stream",
     "text": [
      "2002-07-30 00:00:00 BUY  156 SPY @ 63.73\n",
      "2020-07-27 00:00:00 SELL 156 SPY @ 323.22\n"
     ]
    }
   ],
   "source": [
    "benchmark = pf.Benchmark('SPY', capital, start, end, use_adj=True)\n",
    "benchmark.run()"
   ]
  },
  {
   "cell_type": "code",
   "execution_count": 18,
   "metadata": {},
   "outputs": [],
   "source": [
    "benchmark.tlog, benchmark.dbal = benchmark.get_logs()"
   ]
  },
  {
   "cell_type": "code",
   "execution_count": 19,
   "metadata": {},
   "outputs": [],
   "source": [
    "benchmark.stats = benchmark.get_stats()"
   ]
  },
  {
   "cell_type": "code",
   "execution_count": 20,
   "metadata": {},
   "outputs": [
    {
     "data": {
      "image/png": "[encoded data removed]",
      "text/plain": [
       "<Figure size 720x504 with 1 Axes>"
      ]
     },
     "metadata": {
      "needs_background": "light"
     },
     "output_type": "display_data"
    }
   ],
   "source": [
    "pf.plot_equity_curve(dbal, benchmark=benchmark.dbal)"
   ]
  },
  {
   "cell_type": "code",
   "execution_count": 21,
   "metadata": {},
   "outputs": [
    {
     "data": {
      "text/html": [
       "<div>\n",
       "<style scoped>\n",
       "    .dataframe tbody tr th:only-of-type {\n",
       "        vertical-align: middle;\n",
       "    }\n",
       "\n",
       "    .dataframe tbody tr th {\n",
       "        vertical-align: top;\n",
       "    }\n",
       "\n",
       "    .dataframe thead th {\n",
       "        text-align: right;\n",
       "    }\n",
       "</style>\n",
       "<table border=\"1\" class=\"dataframe\">\n",
       "  <thead>\n",
       "    <tr style=\"text-align: right;\">\n",
       "      <th></th>\n",
       "      <th>strategy</th>\n",
       "      <th>benchmark</th>\n",
       "    </tr>\n",
       "  </thead>\n",
       "  <tbody>\n",
       "    <tr>\n",
       "      <th>beginning_balance</th>\n",
       "      <td>$10,000.00</td>\n",
       "      <td>$10,000.00</td>\n",
       "    </tr>\n",
       "    <tr>\n",
       "      <th>ending_balance</th>\n",
       "      <td>$49,357.21</td>\n",
       "      <td>$50,480.17</td>\n",
       "    </tr>\n",
       "    <tr>\n",
       "      <th>total_net_profit</th>\n",
       "      <td>$39,357.21</td>\n",
       "      <td>$40,480.17</td>\n",
       "    </tr>\n",
       "    <tr>\n",
       "      <th>gross_profit</th>\n",
       "      <td>$39,357.21</td>\n",
       "      <td>$40,480.17</td>\n",
       "    </tr>\n",
       "    <tr>\n",
       "      <th>gross_loss</th>\n",
       "      <td>$0.00</td>\n",
       "      <td>$0.00</td>\n",
       "    </tr>\n",
       "  </tbody>\n",
       "</table>\n",
       "</div>"
      ],
      "text/plain": [
       "                     strategy   benchmark\n",
       "beginning_balance  $10,000.00  $10,000.00\n",
       "ending_balance     $49,357.21  $50,480.17\n",
       "total_net_profit   $39,357.21  $40,480.17\n",
       "gross_profit       $39,357.21  $40,480.17\n",
       "gross_loss              $0.00       $0.00"
      ]
     },
     "execution_count": 21,
     "metadata": {},
     "output_type": "execute_result"
    }
   ],
   "source": [
    "df = pf.summary(stats, benchmark.stats, metrics=pf.currency_metrics)\n",
    "df"
   ]
  },
  {
   "cell_type": "code",
   "execution_count": 22,
   "metadata": {},
   "outputs": [
    {
     "data": {
      "text/html": [
       "<div>\n",
       "<style scoped>\n",
       "    .dataframe tbody tr th:only-of-type {\n",
       "        vertical-align: middle;\n",
       "    }\n",
       "\n",
       "    .dataframe tbody tr th {\n",
       "        vertical-align: top;\n",
       "    }\n",
       "\n",
       "    .dataframe thead th {\n",
       "        text-align: right;\n",
       "    }\n",
       "</style>\n",
       "<table border=\"1\" class=\"dataframe\">\n",
       "  <thead>\n",
       "    <tr style=\"text-align: right;\">\n",
       "      <th></th>\n",
       "      <th>strategy</th>\n",
       "      <th>benchmark</th>\n",
       "    </tr>\n",
       "  </thead>\n",
       "  <tbody>\n",
       "    <tr>\n",
       "      <th>annual_return_rate</th>\n",
       "      <td>9.28</td>\n",
       "      <td>9.41</td>\n",
       "    </tr>\n",
       "    <tr>\n",
       "      <th>max_closed_out_drawdown</th>\n",
       "      <td>-24.08</td>\n",
       "      <td>-55.02</td>\n",
       "    </tr>\n",
       "    <tr>\n",
       "      <th>drawdown_annualized_return</th>\n",
       "      <td>-2.59</td>\n",
       "      <td>-5.84</td>\n",
       "    </tr>\n",
       "    <tr>\n",
       "      <th>drawdown_recovery</th>\n",
       "      <td>-1.26</td>\n",
       "      <td>-1.42</td>\n",
       "    </tr>\n",
       "    <tr>\n",
       "      <th>best_month</th>\n",
       "      <td>17.21</td>\n",
       "      <td>23.46</td>\n",
       "    </tr>\n",
       "    <tr>\n",
       "      <th>worst_month</th>\n",
       "      <td>-14.86</td>\n",
       "      <td>-30.95</td>\n",
       "    </tr>\n",
       "    <tr>\n",
       "      <th>sharpe_ratio</th>\n",
       "      <td>1.05</td>\n",
       "      <td>0.56</td>\n",
       "    </tr>\n",
       "    <tr>\n",
       "      <th>sortino_ratio</th>\n",
       "      <td>1.40</td>\n",
       "      <td>0.68</td>\n",
       "    </tr>\n",
       "    <tr>\n",
       "      <th>monthly_std</th>\n",
       "      <td>2.41</td>\n",
       "      <td>4.52</td>\n",
       "    </tr>\n",
       "  </tbody>\n",
       "</table>\n",
       "</div>"
      ],
      "text/plain": [
       "                            strategy  benchmark\n",
       "annual_return_rate              9.28       9.41\n",
       "max_closed_out_drawdown       -24.08     -55.02\n",
       "drawdown_annualized_return     -2.59      -5.84\n",
       "drawdown_recovery              -1.26      -1.42\n",
       "best_month                     17.21      23.46\n",
       "worst_month                   -14.86     -30.95\n",
       "sharpe_ratio                    1.05       0.56\n",
       "sortino_ratio                   1.40       0.68\n",
       "monthly_std                     2.41       4.52"
      ]
     },
     "execution_count": 22,
     "metadata": {},
     "output_type": "execute_result"
    },
    {
     "data": {
      "image/png": "[encoded data removed]",
      "text/plain": [
       "<Figure size 720x504 with 1 Axes>"
      ]
     },
     "metadata": {
      "needs_background": "light"
     },
     "output_type": "display_data"
    }
   ],
   "source": [
    "df = pf.plot_bar_graph(stats, benchmark.stats)\n",
    "df"
   ]
  }
 ],
 "metadata": {
  "kernelspec": {
   "display_name": "Python 3",
   "language": "python",
   "name": "python3"
  },
  "language_info": {
   "codemirror_mode": {
    "name": "ipython",
    "version": 3
   },
   "file_extension": ".py",
   "mimetype": "text/x-python",
   "name": "python",
   "nbconvert_exporter": "python",
   "pygments_lexer": "ipython3",
   "version": "3.8.2"
  },
  "latex_envs": {
   "LaTeX_envs_menu_present": true,
   "autoclose": false,
   "autocomplete": true,
   "bibliofile": "biblio.bib",
   "cite_by": "apalike",
   "current_citInitial": 1,
   "eqLabelWithNumbers": true,
   "eqNumInitial": 1,
   "hotkeys": {
    "equation": "Ctrl-E",
    "itemize": "Ctrl-I"
   },
   "labels_anchors": false,
   "latex_user_defs": false,
   "report_style_numbering": false,
   "user_envs_cfg": false
  }
 },
 "nbformat": 4,
 "nbformat_minor": 1
}
